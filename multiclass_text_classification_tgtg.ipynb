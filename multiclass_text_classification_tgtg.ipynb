{
 "cells": [
  {
   "cell_type": "markdown",
   "id": "46474f49-cddd-41b3-ae82-ba9089074546",
   "metadata": {},
   "source": [
    "There are lots of applications of text classification in the commercial world. For example, news stories are typically organized by topics; content or products are often tagged by categories; users can be classified into cohorts based on how they talk about a product or brand online …\n",
    "Today we want to rate the way customers talk about an app by analysing the reviews on social network where you don't have that kind of informations. \n",
    "We use Python and Jupyter Notebook to develop our system, relying on Scikit-Learn for the machine learning components."
   ]
  },
  {
   "cell_type": "markdown",
   "id": "0a314418-c09f-47b5-bd48-6eed2ea5396a",
   "metadata": {},
   "source": [
    "### Problem Formulation\n",
    "\n",
    "The problem is supervised text classification problem, and our goal is to investigate which supervised machine learning methods are best suited to solve it.\n",
    "\n",
    "When a tweet, or any review on social network comes in, we want to assign it to one of 5 stars for rating. The classifier makes the assumption that each tweet is assigned to one and only one category. This is multi-class text classification problem. We will be using the reviews from google store, apple store and trustpilot to train the model. "
   ]
  },
  {
   "cell_type": "code",
   "execution_count": 1,
   "id": "97eb0111-9ffc-4b98-84b9-c200edcca1c0",
   "metadata": {},
   "outputs": [],
   "source": [
    "import pandas as pd\n",
    "import numpy as np\n",
    "import pickle\n",
    "import seaborn as sns\n",
    "from sklearn.feature_extraction.text import TfidfVectorizer\n",
    "import matplotlib.pyplot as plt\n",
    "from sklearn.feature_selection import chi2\n",
    "from sklearn.model_selection import train_test_split\n",
    "from sklearn.feature_extraction.text import CountVectorizer\n",
    "from sklearn.feature_extraction.text import TfidfTransformer\n",
    "from sklearn.naive_bayes import MultinomialNB\n",
    "from sklearn.linear_model import LogisticRegression\n",
    "from sklearn.ensemble import RandomForestClassifier\n",
    "from sklearn.svm import LinearSVC\n",
    "from sklearn.neighbors import KNeighborsClassifier\n",
    "from sklearn.model_selection import cross_val_score\n",
    "from sklearn.metrics import classification_report\n",
    "from sklearn.metrics import confusion_matrix"
   ]
  },
  {
   "cell_type": "code",
   "execution_count": 3,
   "id": "d211481e-74f5-4847-ac75-5d917c40e2f4",
   "metadata": {},
   "outputs": [
    {
     "data": {
      "text/html": [
       "<div>\n",
       "<style scoped>\n",
       "    .dataframe tbody tr th:only-of-type {\n",
       "        vertical-align: middle;\n",
       "    }\n",
       "\n",
       "    .dataframe tbody tr th {\n",
       "        vertical-align: top;\n",
       "    }\n",
       "\n",
       "    .dataframe thead th {\n",
       "        text-align: right;\n",
       "    }\n",
       "</style>\n",
       "<table border=\"1\" class=\"dataframe\">\n",
       "  <thead>\n",
       "    <tr style=\"text-align: right;\">\n",
       "      <th></th>\n",
       "      <th>review_content</th>\n",
       "      <th>rating</th>\n",
       "      <th>date</th>\n",
       "      <th>source</th>\n",
       "      <th>preprocessed_review</th>\n",
       "    </tr>\n",
       "  </thead>\n",
       "  <tbody>\n",
       "    <tr>\n",
       "      <th>0</th>\n",
       "      <td>It does exactly what it says it does efficient...</td>\n",
       "      <td>5</td>\n",
       "      <td>2021-12-11 08:03:30</td>\n",
       "      <td>Google</td>\n",
       "      <td>[exactli, say, effici, save, food, fill, belli...</td>\n",
       "    </tr>\n",
       "    <tr>\n",
       "      <th>1</th>\n",
       "      <td>Well, I've only done 2 different vendors. The ...</td>\n",
       "      <td>4</td>\n",
       "      <td>2021-12-11 04:56:39</td>\n",
       "      <td>Google</td>\n",
       "      <td>[well, done, differ, vendor, first, donut, sho...</td>\n",
       "    </tr>\n",
       "    <tr>\n",
       "      <th>2</th>\n",
       "      <td>Still in my first week. And I'm looking forwar...</td>\n",
       "      <td>5</td>\n",
       "      <td>2021-12-11 03:23:46</td>\n",
       "      <td>Google</td>\n",
       "      <td>[still, first, week, look, forward, great, dea...</td>\n",
       "    </tr>\n",
       "    <tr>\n",
       "      <th>3</th>\n",
       "      <td>loving the app.</td>\n",
       "      <td>5</td>\n",
       "      <td>2021-12-10 22:52:33</td>\n",
       "      <td>Google</td>\n",
       "      <td>[love, app]</td>\n",
       "    </tr>\n",
       "    <tr>\n",
       "      <th>4</th>\n",
       "      <td>AT FIRST: 1) Lovely experience. charming staff...</td>\n",
       "      <td>2</td>\n",
       "      <td>2021-12-10 22:22:27</td>\n",
       "      <td>Google</td>\n",
       "      <td>[first, love, experi, charm, staff, moder, hi,...</td>\n",
       "    </tr>\n",
       "  </tbody>\n",
       "</table>\n",
       "</div>"
      ],
      "text/plain": [
       "                                      review_content  rating  \\\n",
       "0  It does exactly what it says it does efficient...       5   \n",
       "1  Well, I've only done 2 different vendors. The ...       4   \n",
       "2  Still in my first week. And I'm looking forwar...       5   \n",
       "3                                    loving the app.       5   \n",
       "4  AT FIRST: 1) Lovely experience. charming staff...       2   \n",
       "\n",
       "                 date  source  \\\n",
       "0 2021-12-11 08:03:30  Google   \n",
       "1 2021-12-11 04:56:39  Google   \n",
       "2 2021-12-11 03:23:46  Google   \n",
       "3 2021-12-10 22:52:33  Google   \n",
       "4 2021-12-10 22:22:27  Google   \n",
       "\n",
       "                                 preprocessed_review  \n",
       "0  [exactli, say, effici, save, food, fill, belli...  \n",
       "1  [well, done, differ, vendor, first, donut, sho...  \n",
       "2  [still, first, week, look, forward, great, dea...  \n",
       "3                                        [love, app]  \n",
       "4  [first, love, experi, charm, staff, moder, hi,...  "
      ]
     },
     "execution_count": 3,
     "metadata": {},
     "output_type": "execute_result"
    }
   ],
   "source": [
    "df = \"data/reviews_tgtg.pkl\" #path to be written\n",
    "\n",
    "with open(df, 'rb') as f:\n",
    "  df = pickle.load(f)\n",
    "\n",
    "df.head(5)"
   ]
  },
  {
   "cell_type": "code",
   "execution_count": 23,
   "id": "ca56c1eb-6bde-4e4f-91b5-5d19eee0fa89",
   "metadata": {},
   "outputs": [
    {
     "data": {
      "text/plain": [
       "0       It does exactly what it says it does efficient...\n",
       "1       Well, I've only done 2 different vendors. The ...\n",
       "2       Still in my first week. And I'm looking forwar...\n",
       "3                                         loving the app.\n",
       "4       AT FIRST: 1) Lovely experience. charming staff...\n",
       "                              ...                        \n",
       "1454    Good bag of selection of breads Would have pre...\n",
       "1461    First try of TGTG at Moshimo Brighton I'd been...\n",
       "1464    exactly as stated ordered food with app, picke...\n",
       "1465    Great food I really enjoyed the food I got at ...\n",
       "1467    Too Good To Go Really great idea, and company ...\n",
       "Name: review_content, Length: 22968, dtype: object"
      ]
     },
     "execution_count": 23,
     "metadata": {},
     "output_type": "execute_result"
    }
   ],
   "source": [
    "df.iloc[:,0]"
   ]
  },
  {
   "cell_type": "code",
   "execution_count": 5,
   "id": "7e7fb374-8575-4fe4-80f0-4d1951050fbf",
   "metadata": {},
   "outputs": [],
   "source": [
    "df_test1 = df[['review_content','rating']]"
   ]
  },
  {
   "cell_type": "code",
   "execution_count": 6,
   "id": "a3c5d92d-0279-4343-aa2b-f63034622324",
   "metadata": {},
   "outputs": [],
   "source": [
    "def label_rating (row):\n",
    "    if row['rating'] == 1 :\n",
    "        return 'awful'\n",
    "    if row['rating'] == 2 :\n",
    "        return 'bad'\n",
    "    if row['rating'] == 3 :\n",
    "        return 'neutral'\n",
    "    if row['rating'] == 4 :\n",
    "        return 'good'\n",
    "    if row['rating'] == 5 :\n",
    "        return 'awesome'\n",
    "    return 'Other'\n"
   ]
  },
  {
   "cell_type": "code",
   "execution_count": 7,
   "id": "6243b6aa-2461-4afb-930b-48b7396a44e4",
   "metadata": {},
   "outputs": [
    {
     "data": {
      "text/plain": [
       "0       awesome\n",
       "1          good\n",
       "2       awesome\n",
       "3       awesome\n",
       "4           bad\n",
       "         ...   \n",
       "1454       good\n",
       "1461    awesome\n",
       "1464    awesome\n",
       "1465    awesome\n",
       "1467    awesome\n",
       "Length: 22968, dtype: object"
      ]
     },
     "execution_count": 7,
     "metadata": {},
     "output_type": "execute_result"
    }
   ],
   "source": [
    "df.apply (lambda row: label_rating(row), axis=1)"
   ]
  },
  {
   "cell_type": "code",
   "execution_count": 8,
   "id": "8cd27761-e072-4eeb-bc61-092199ea44e9",
   "metadata": {},
   "outputs": [
    {
     "name": "stderr",
     "output_type": "stream",
     "text": [
      "/tmp/ipykernel_6684/3113355612.py:1: SettingWithCopyWarning: \n",
      "A value is trying to be set on a copy of a slice from a DataFrame.\n",
      "Try using .loc[row_indexer,col_indexer] = value instead\n",
      "\n",
      "See the caveats in the documentation: https://pandas.pydata.org/pandas-docs/stable/user_guide/indexing.html#returning-a-view-versus-a-copy\n",
      "  df_test1['rating_label'] = df_test1.apply (lambda row: label_rating(row), axis=1)\n"
     ]
    },
    {
     "data": {
      "text/html": [
       "<div>\n",
       "<style scoped>\n",
       "    .dataframe tbody tr th:only-of-type {\n",
       "        vertical-align: middle;\n",
       "    }\n",
       "\n",
       "    .dataframe tbody tr th {\n",
       "        vertical-align: top;\n",
       "    }\n",
       "\n",
       "    .dataframe thead th {\n",
       "        text-align: right;\n",
       "    }\n",
       "</style>\n",
       "<table border=\"1\" class=\"dataframe\">\n",
       "  <thead>\n",
       "    <tr style=\"text-align: right;\">\n",
       "      <th></th>\n",
       "      <th>review_content</th>\n",
       "      <th>rating</th>\n",
       "      <th>rating_label</th>\n",
       "    </tr>\n",
       "  </thead>\n",
       "  <tbody>\n",
       "    <tr>\n",
       "      <th>0</th>\n",
       "      <td>It does exactly what it says it does efficient...</td>\n",
       "      <td>5</td>\n",
       "      <td>awesome</td>\n",
       "    </tr>\n",
       "    <tr>\n",
       "      <th>1</th>\n",
       "      <td>Well, I've only done 2 different vendors. The ...</td>\n",
       "      <td>4</td>\n",
       "      <td>good</td>\n",
       "    </tr>\n",
       "    <tr>\n",
       "      <th>2</th>\n",
       "      <td>Still in my first week. And I'm looking forwar...</td>\n",
       "      <td>5</td>\n",
       "      <td>awesome</td>\n",
       "    </tr>\n",
       "    <tr>\n",
       "      <th>3</th>\n",
       "      <td>loving the app.</td>\n",
       "      <td>5</td>\n",
       "      <td>awesome</td>\n",
       "    </tr>\n",
       "    <tr>\n",
       "      <th>4</th>\n",
       "      <td>AT FIRST: 1) Lovely experience. charming staff...</td>\n",
       "      <td>2</td>\n",
       "      <td>bad</td>\n",
       "    </tr>\n",
       "    <tr>\n",
       "      <th>...</th>\n",
       "      <td>...</td>\n",
       "      <td>...</td>\n",
       "      <td>...</td>\n",
       "    </tr>\n",
       "    <tr>\n",
       "      <th>1454</th>\n",
       "      <td>Good bag of selection of breads Would have pre...</td>\n",
       "      <td>4</td>\n",
       "      <td>good</td>\n",
       "    </tr>\n",
       "    <tr>\n",
       "      <th>1461</th>\n",
       "      <td>First try of TGTG at Moshimo Brighton I'd been...</td>\n",
       "      <td>5</td>\n",
       "      <td>awesome</td>\n",
       "    </tr>\n",
       "    <tr>\n",
       "      <th>1464</th>\n",
       "      <td>exactly as stated ordered food with app, picke...</td>\n",
       "      <td>5</td>\n",
       "      <td>awesome</td>\n",
       "    </tr>\n",
       "    <tr>\n",
       "      <th>1465</th>\n",
       "      <td>Great food I really enjoyed the food I got at ...</td>\n",
       "      <td>5</td>\n",
       "      <td>awesome</td>\n",
       "    </tr>\n",
       "    <tr>\n",
       "      <th>1467</th>\n",
       "      <td>Too Good To Go Really great idea, and company ...</td>\n",
       "      <td>5</td>\n",
       "      <td>awesome</td>\n",
       "    </tr>\n",
       "  </tbody>\n",
       "</table>\n",
       "<p>22968 rows × 3 columns</p>\n",
       "</div>"
      ],
      "text/plain": [
       "                                         review_content  rating rating_label\n",
       "0     It does exactly what it says it does efficient...       5      awesome\n",
       "1     Well, I've only done 2 different vendors. The ...       4         good\n",
       "2     Still in my first week. And I'm looking forwar...       5      awesome\n",
       "3                                       loving the app.       5      awesome\n",
       "4     AT FIRST: 1) Lovely experience. charming staff...       2          bad\n",
       "...                                                 ...     ...          ...\n",
       "1454  Good bag of selection of breads Would have pre...       4         good\n",
       "1461  First try of TGTG at Moshimo Brighton I'd been...       5      awesome\n",
       "1464  exactly as stated ordered food with app, picke...       5      awesome\n",
       "1465  Great food I really enjoyed the food I got at ...       5      awesome\n",
       "1467  Too Good To Go Really great idea, and company ...       5      awesome\n",
       "\n",
       "[22968 rows x 3 columns]"
      ]
     },
     "execution_count": 8,
     "metadata": {},
     "output_type": "execute_result"
    }
   ],
   "source": [
    "df_test1['rating_label'] = df_test1.apply (lambda row: label_rating(row), axis=1)\n",
    "df_test1"
   ]
  },
  {
   "cell_type": "code",
   "execution_count": 9,
   "id": "14c42ecf-7b66-4a07-a81d-fe79fe93cccf",
   "metadata": {},
   "outputs": [],
   "source": [
    "rating_df = df_test1[['rating_label', 'rating']].drop_duplicates().sort_values('rating')\n",
    "ratinglabel_to_id = dict(rating_df.values)\n",
    "id_to_ratinglabel = dict(rating_df[['rating', 'rating_label']].values)"
   ]
  },
  {
   "cell_type": "code",
   "execution_count": 10,
   "id": "3d64378a-8529-4574-8bfa-d1f56c2abafd",
   "metadata": {},
   "outputs": [
    {
     "data": {
      "text/plain": [
       "{'awful': 1, 'bad': 2, 'neutral': 3, 'good': 4, 'awesome': 5}"
      ]
     },
     "execution_count": 10,
     "metadata": {},
     "output_type": "execute_result"
    }
   ],
   "source": [
    "ratinglabel_to_id "
   ]
  },
  {
   "cell_type": "markdown",
   "id": "0459279f-e356-40e4-91c3-7fa6aa850967",
   "metadata": {},
   "source": [
    "### Imbalanced Classes\n",
    "\n",
    "We see that the number of reviews per rating is imbalanced. The target is extremely unbalanced, which is a parameter to take into account when deploying an algorithm."
   ]
  },
  {
   "cell_type": "code",
   "execution_count": 11,
   "id": "ba84032f-5aaf-418d-af56-cf7cba995fbc",
   "metadata": {},
   "outputs": [
    {
     "data": {
      "text/plain": [
       "awesome    17887\n",
       "awful       1971\n",
       "good        1689\n",
       "neutral      824\n",
       "bad          597\n",
       "Name: rating_label, dtype: int64"
      ]
     },
     "execution_count": 11,
     "metadata": {},
     "output_type": "execute_result"
    }
   ],
   "source": [
    "df_test1['rating_label'].value_counts()"
   ]
  },
  {
   "cell_type": "code",
   "execution_count": 12,
   "id": "f5de8d29-7ae2-41a2-9a2d-71327a195f9a",
   "metadata": {},
   "outputs": [
    {
     "data": {
      "image/png": "[encoded data removed]",
      "text/plain": [
       "<Figure size 576x432 with 1 Axes>"
      ]
     },
     "metadata": {
      "needs_background": "light"
     },
     "output_type": "display_data"
    }
   ],
   "source": [
    "fig = plt.figure(figsize=(8,6))\n",
    "df_test1.groupby('rating_label').review_content.count().plot.bar(ylim=0)\n",
    "plt.show()"
   ]
  },
  {
   "cell_type": "markdown",
   "id": "f7195417-9d0f-4775-9b31-c90e4623d681",
   "metadata": {},
   "source": [
    "When we encounter such problems, we are bound to have difficulties solving them with standard algorithms. Conventional algorithms are often biased towards the majority class, not taking the data distribution into consideration. In the worst case, minority classes are treated as outliers and ignored. We might need to configure our model or artificially balance the dataset, for example by undersampling or oversampling each class."
   ]
  },
  {
   "cell_type": "code",
   "execution_count": 13,
   "id": "9db1785a-8e79-4d9f-aa68-583fa3548057",
   "metadata": {},
   "outputs": [
    {
     "name": "stderr",
     "output_type": "stream",
     "text": [
      "/tmp/ipykernel_6684/3424616214.py:16: SettingWithCopyWarning: \n",
      "A value is trying to be set on a copy of a slice from a DataFrame.\n",
      "Try using .loc[row_indexer,col_indexer] = value instead\n",
      "\n",
      "See the caveats in the documentation: https://pandas.pydata.org/pandas-docs/stable/user_guide/indexing.html#returning-a-view-versus-a-copy\n",
      "  df_test2['rating_label'] = df_test2.apply (lambda row: label_rating2(row), axis=1)\n"
     ]
    },
    {
     "data": {
      "text/html": [
       "<div>\n",
       "<style scoped>\n",
       "    .dataframe tbody tr th:only-of-type {\n",
       "        vertical-align: middle;\n",
       "    }\n",
       "\n",
       "    .dataframe tbody tr th {\n",
       "        vertical-align: top;\n",
       "    }\n",
       "\n",
       "    .dataframe thead th {\n",
       "        text-align: right;\n",
       "    }\n",
       "</style>\n",
       "<table border=\"1\" class=\"dataframe\">\n",
       "  <thead>\n",
       "    <tr style=\"text-align: right;\">\n",
       "      <th></th>\n",
       "      <th>review_content</th>\n",
       "      <th>rating</th>\n",
       "      <th>rating_label</th>\n",
       "    </tr>\n",
       "  </thead>\n",
       "  <tbody>\n",
       "    <tr>\n",
       "      <th>0</th>\n",
       "      <td>It does exactly what it says it does efficient...</td>\n",
       "      <td>5</td>\n",
       "      <td>good</td>\n",
       "    </tr>\n",
       "    <tr>\n",
       "      <th>1</th>\n",
       "      <td>Well, I've only done 2 different vendors. The ...</td>\n",
       "      <td>4</td>\n",
       "      <td>good</td>\n",
       "    </tr>\n",
       "    <tr>\n",
       "      <th>2</th>\n",
       "      <td>Still in my first week. And I'm looking forwar...</td>\n",
       "      <td>5</td>\n",
       "      <td>good</td>\n",
       "    </tr>\n",
       "    <tr>\n",
       "      <th>3</th>\n",
       "      <td>loving the app.</td>\n",
       "      <td>5</td>\n",
       "      <td>good</td>\n",
       "    </tr>\n",
       "    <tr>\n",
       "      <th>4</th>\n",
       "      <td>AT FIRST: 1) Lovely experience. charming staff...</td>\n",
       "      <td>2</td>\n",
       "      <td>bad</td>\n",
       "    </tr>\n",
       "    <tr>\n",
       "      <th>...</th>\n",
       "      <td>...</td>\n",
       "      <td>...</td>\n",
       "      <td>...</td>\n",
       "    </tr>\n",
       "    <tr>\n",
       "      <th>1454</th>\n",
       "      <td>Good bag of selection of breads Would have pre...</td>\n",
       "      <td>4</td>\n",
       "      <td>good</td>\n",
       "    </tr>\n",
       "    <tr>\n",
       "      <th>1461</th>\n",
       "      <td>First try of TGTG at Moshimo Brighton I'd been...</td>\n",
       "      <td>5</td>\n",
       "      <td>good</td>\n",
       "    </tr>\n",
       "    <tr>\n",
       "      <th>1464</th>\n",
       "      <td>exactly as stated ordered food with app, picke...</td>\n",
       "      <td>5</td>\n",
       "      <td>good</td>\n",
       "    </tr>\n",
       "    <tr>\n",
       "      <th>1465</th>\n",
       "      <td>Great food I really enjoyed the food I got at ...</td>\n",
       "      <td>5</td>\n",
       "      <td>good</td>\n",
       "    </tr>\n",
       "    <tr>\n",
       "      <th>1467</th>\n",
       "      <td>Too Good To Go Really great idea, and company ...</td>\n",
       "      <td>5</td>\n",
       "      <td>good</td>\n",
       "    </tr>\n",
       "  </tbody>\n",
       "</table>\n",
       "<p>22968 rows × 3 columns</p>\n",
       "</div>"
      ],
      "text/plain": [
       "                                         review_content  rating rating_label\n",
       "0     It does exactly what it says it does efficient...       5         good\n",
       "1     Well, I've only done 2 different vendors. The ...       4         good\n",
       "2     Still in my first week. And I'm looking forwar...       5         good\n",
       "3                                       loving the app.       5         good\n",
       "4     AT FIRST: 1) Lovely experience. charming staff...       2          bad\n",
       "...                                                 ...     ...          ...\n",
       "1454  Good bag of selection of breads Would have pre...       4         good\n",
       "1461  First try of TGTG at Moshimo Brighton I'd been...       5         good\n",
       "1464  exactly as stated ordered food with app, picke...       5         good\n",
       "1465  Great food I really enjoyed the food I got at ...       5         good\n",
       "1467  Too Good To Go Really great idea, and company ...       5         good\n",
       "\n",
       "[22968 rows x 3 columns]"
      ]
     },
     "execution_count": 13,
     "metadata": {},
     "output_type": "execute_result"
    }
   ],
   "source": [
    "df_test2 = df[['review_content','rating']]\n",
    "\n",
    "def label_rating2 (row):\n",
    "    if row['rating'] == 1 :\n",
    "        return 'bad'\n",
    "    if row['rating'] == 2 :\n",
    "        return 'bad'\n",
    "    if row['rating'] == 3 :\n",
    "        return 'neutral'\n",
    "    if row['rating'] == 4 :\n",
    "        return 'good'\n",
    "    if row['rating'] == 5 :\n",
    "        return 'good'\n",
    "    return 'Other'\n",
    "\n",
    "df_test2['rating_label'] = df_test2.apply (lambda row: label_rating2(row), axis=1)\n",
    "df_test2"
   ]
  },
  {
   "cell_type": "code",
   "execution_count": 14,
   "id": "5538827a-596c-49be-bcd0-5f91fc2395f8",
   "metadata": {},
   "outputs": [
    {
     "data": {
      "text/plain": [
       "good       19576\n",
       "bad         2568\n",
       "neutral      824\n",
       "Name: rating_label, dtype: int64"
      ]
     },
     "execution_count": 14,
     "metadata": {},
     "output_type": "execute_result"
    }
   ],
   "source": [
    "df_test2['rating_label'].value_counts()"
   ]
  },
  {
   "cell_type": "code",
   "execution_count": 16,
   "id": "9cbb8126-f3eb-4bb3-8f3c-4a448b239ebc",
   "metadata": {},
   "outputs": [
    {
     "data": {
      "image/png": "[encoded data removed]",
      "text/plain": [
       "<Figure size 576x432 with 1 Axes>"
      ]
     },
     "metadata": {
      "needs_background": "light"
     },
     "output_type": "display_data"
    }
   ],
   "source": [
    "fig = plt.figure(figsize=(8,6))\n",
    "df_test2.groupby('rating_label').review_content.count().plot.bar(ylim=0)\n",
    "plt.show()"
   ]
  },
  {
   "cell_type": "markdown",
   "id": "38457ddb-ee32-449a-8803-bc39eb78d6f1",
   "metadata": {},
   "source": [
    "### Text Representation\n",
    "\n",
    "The classifiers and learning algorithms can not directly process the text documents in their original form, as most of them expect numerical feature vectors with a fixed size rather than the raw text documents with variable length. Therefore, during the preprocessing step, the texts are converted to a more manageable representation.\n",
    "\n",
    "One common approach for extracting features from text is to use the bag of words model: a model where for each document, a complaint narrative in our case, the presence (and often the frequency) of words is taken into consideration, but the order in which they occur is ignored.\n",
    "\n",
    "Specifically, for each term in our dataset, we will calculate a measure called Term Frequency, Inverse Document Frequency, abbreviated to tf-idf. We will use sklearn.feature_extraction.text.TfidfVectorizer to calculate a tf-idf vector for each of consumer complaint narratives:\n",
    "\n",
    "    sublinear_df is set to True to use a logarithmic form for frequency.\n",
    "    min_df is the minimum numbers of documents a word must be present in to be kept.\n",
    "    norm is set to l2, to ensure all our feature vectors have a euclidian norm of 1.\n",
    "    ngram_range is set to (1, 2) to indicate that we want to consider both unigrams and bigrams.\n",
    "    stop_words is set to \"english\" to remove all common pronouns (\"a\", \"the\", ...) to reduce the number of noisy features."
   ]
  },
  {
   "cell_type": "code",
   "execution_count": 11,
   "id": "135517f9-dfa6-402b-85f3-253e689ccde2",
   "metadata": {},
   "outputs": [
    {
     "data": {
      "text/plain": [
       "(22968, 8728)"
      ]
     },
     "execution_count": 11,
     "metadata": {},
     "output_type": "execute_result"
    }
   ],
   "source": [
    "tfidf = TfidfVectorizer(sublinear_tf=True, min_df=5, norm='l2', encoding='latin-1', ngram_range=(1, 2), stop_words='english')\n",
    "features = tfidf.fit_transform(df_test1['review_content']).toarray()\n",
    "labels = df_test1['rating']\n",
    "features.shape"
   ]
  },
  {
   "cell_type": "markdown",
   "id": "7ef8fc96-9edb-44b2-85e2-c842db2d643c",
   "metadata": {},
   "source": [
    "Now, each of 22968 consumer reviews narratives is represented by 8728 features, representing the tf-idf score for different unigrams and bigrams."
   ]
  },
  {
   "cell_type": "markdown",
   "id": "3e67455d-d423-4911-9394-9f6aa8a3fb19",
   "metadata": {},
   "source": [
    "We can use sklearn.feature_selection.chi2 to find the terms that are the most correlated with each of the rating_label:"
   ]
  },
  {
   "cell_type": "code",
   "execution_count": 12,
   "id": "cc16cb5b-96bd-44b2-a637-fb15836a9e3d",
   "metadata": {},
   "outputs": [
    {
     "name": "stdout",
     "output_type": "stream",
     "text": [
      "# 'awesome':\n",
      "  . Most correlated unigrams:\n",
      ". sold\n",
      ". available\n",
      "  . Most correlated bigrams:\n",
      ". doesn work\n",
      ". waste time\n",
      "# 'awful':\n",
      "  . Most correlated unigrams:\n",
      ". useless\n",
      ". rubbish\n",
      "  . Most correlated bigrams:\n",
      ". time money\n",
      ". waste time\n",
      "# 'bad':\n",
      "  . Most correlated unigrams:\n",
      ". explanation\n",
      ". sucks\n",
      "  . Most correlated bigrams:\n",
      ". needs lot\n",
      ". nice idea\n",
      "# 'good':\n",
      "  . Most correlated unigrams:\n",
      ". notifications\n",
      ". search\n",
      "  . Most correlated bigrams:\n",
      ". need stores\n",
      ". sort time\n",
      "# 'neutral':\n",
      "  . Most correlated unigrams:\n",
      ". okay\n",
      ". option\n",
      "  . Most correlated bigrams:\n",
      ". idea area\n",
      ". mixed experience\n"
     ]
    }
   ],
   "source": [
    "N = 2\n",
    "for rating_label, rating in sorted(ratinglabel_to_id.items()):\n",
    "    features_chi2 = chi2(features, labels == rating)\n",
    "    indices = np.argsort(features_chi2[0])\n",
    "    feature_names = np.array(tfidf.get_feature_names_out())[indices]\n",
    "    unigrams = [v for v in feature_names if len(v.split(' ')) == 1]\n",
    "    bigrams = [v for v in feature_names if len(v.split(' ')) == 2]\n",
    "    print(\"# '{}':\".format(rating_label))\n",
    "    print(\"  . Most correlated unigrams:\\n. {}\".format('\\n. '.join(unigrams[-N:])))\n",
    "    print(\"  . Most correlated bigrams:\\n. {}\".format('\\n. '.join(bigrams[-N:])))"
   ]
  },
  {
   "cell_type": "markdown",
   "id": "b567c161-671d-431a-a953-048023389664",
   "metadata": {},
   "source": [
    "### Multi-Class Classifier: Features and Design\n",
    "\n",
    "    To train supervised classifiers, we first transformed the “review_content” into a vector of numbers. We explored vector representations such as TF-IDF weighted vectors.\n",
    "    After having this vector representations of the text we can train supervised classifiers to train unseen “review_content” and predict the “rating” on which they fall.\n",
    "\n",
    "After all the above data transformation, now that we have all the features and labels, it is time to train the classifiers. There are a number of algorithms we can use for this type of problem.\n",
    "\n",
    "    Naive Bayes Classifier: the one most suitable for word counts is the multinomial variant:"
   ]
  },
  {
   "cell_type": "code",
   "execution_count": 13,
   "id": "b83a2cc5-942c-495a-b5ff-494a28b53bd4",
   "metadata": {},
   "outputs": [],
   "source": [
    "\n",
    "\n",
    "X_train, X_test, y_train, y_test = train_test_split(df_test1['review_content'], df_test1['rating'], random_state = 0)\n",
    "\n",
    "vectorizer = CountVectorizer()\n",
    "bow = vectorizer.fit_transform(X_train)\n",
    "\n",
    "tfidf_transformer = TfidfTransformer()\n",
    "X_train_tfidf = tfidf_transformer.fit_transform(bow)\n",
    "\n",
    "clf = MultinomialNB().fit(X_train_tfidf, y_train)"
   ]
  },
  {
   "cell_type": "code",
   "execution_count": 14,
   "id": "691634ae-7548-4764-9c9a-42a67f13d307",
   "metadata": {},
   "outputs": [
    {
     "name": "stdout",
     "output_type": "stream",
     "text": [
      "[5]\n"
     ]
    }
   ],
   "source": [
    "print(clf.predict(vectorizer.transform([\"It's a real mix. The app works well, for sure. A little glitchy at times, but better than many sustainability businesses that try to make an app. Here's the details. (1) no way to tell if a meal will be a good amount of food or two pastries. (2) the app employees are very eager about signing up restaurants: some restaurants have no idea that they are signed up for the service. (3) many businesses are abusing the service to just sell stuff near retail prices: e.g. $8 for a couple pastries.\"])))"
   ]
  },
  {
   "cell_type": "markdown",
   "id": "62bc1964-3f8f-4678-8a12-6e7910012642",
   "metadata": {
    "tags": []
   },
   "source": [
    "### Model Selection\n",
    "\n",
    "We are now ready to experiment with different machine learning models, evaluate their accuracy and find the source of any potential issues.\n",
    "\n",
    "We will benchmark the following five models:\n",
    "\n",
    "    Logistic Regression\n",
    "    (Multinomial) Naive Bayes\n",
    "    Linear Support Vector Machine\n",
    "    Random Forest\n",
    "    K-Nearest Neighbor (KNN)"
   ]
  },
  {
   "cell_type": "code",
   "execution_count": 15,
   "id": "49235aff-3bcd-4bb1-9dfd-572f20c30c86",
   "metadata": {},
   "outputs": [
    {
     "name": "stderr",
     "output_type": "stream",
     "text": [
      "/home/roxane/.pyenv/versions/3.9.7/lib/python3.9/site-packages/sklearn/linear_model/_logistic.py:814: ConvergenceWarning: lbfgs failed to converge (status=1):\n",
      "STOP: TOTAL NO. of ITERATIONS REACHED LIMIT.\n",
      "\n",
      "Increase the number of iterations (max_iter) or scale the data as shown in:\n",
      "    https://scikit-learn.org/stable/modules/preprocessing.html\n",
      "Please also refer to the documentation for alternative solver options:\n",
      "    https://scikit-learn.org/stable/modules/linear_model.html#logistic-regression\n",
      "  n_iter_i = _check_optimize_result(\n",
      "/home/roxane/.pyenv/versions/3.9.7/lib/python3.9/site-packages/sklearn/linear_model/_logistic.py:814: ConvergenceWarning: lbfgs failed to converge (status=1):\n",
      "STOP: TOTAL NO. of ITERATIONS REACHED LIMIT.\n",
      "\n",
      "Increase the number of iterations (max_iter) or scale the data as shown in:\n",
      "    https://scikit-learn.org/stable/modules/preprocessing.html\n",
      "Please also refer to the documentation for alternative solver options:\n",
      "    https://scikit-learn.org/stable/modules/linear_model.html#logistic-regression\n",
      "  n_iter_i = _check_optimize_result(\n",
      "/home/roxane/.pyenv/versions/3.9.7/lib/python3.9/site-packages/sklearn/linear_model/_logistic.py:814: ConvergenceWarning: lbfgs failed to converge (status=1):\n",
      "STOP: TOTAL NO. of ITERATIONS REACHED LIMIT.\n",
      "\n",
      "Increase the number of iterations (max_iter) or scale the data as shown in:\n",
      "    https://scikit-learn.org/stable/modules/preprocessing.html\n",
      "Please also refer to the documentation for alternative solver options:\n",
      "    https://scikit-learn.org/stable/modules/linear_model.html#logistic-regression\n",
      "  n_iter_i = _check_optimize_result(\n",
      "/home/roxane/.pyenv/versions/3.9.7/lib/python3.9/site-packages/sklearn/linear_model/_logistic.py:814: ConvergenceWarning: lbfgs failed to converge (status=1):\n",
      "STOP: TOTAL NO. of ITERATIONS REACHED LIMIT.\n",
      "\n",
      "Increase the number of iterations (max_iter) or scale the data as shown in:\n",
      "    https://scikit-learn.org/stable/modules/preprocessing.html\n",
      "Please also refer to the documentation for alternative solver options:\n",
      "    https://scikit-learn.org/stable/modules/linear_model.html#logistic-regression\n",
      "  n_iter_i = _check_optimize_result(\n",
      "/home/roxane/.pyenv/versions/3.9.7/lib/python3.9/site-packages/sklearn/linear_model/_logistic.py:814: ConvergenceWarning: lbfgs failed to converge (status=1):\n",
      "STOP: TOTAL NO. of ITERATIONS REACHED LIMIT.\n",
      "\n",
      "Increase the number of iterations (max_iter) or scale the data as shown in:\n",
      "    https://scikit-learn.org/stable/modules/preprocessing.html\n",
      "Please also refer to the documentation for alternative solver options:\n",
      "    https://scikit-learn.org/stable/modules/linear_model.html#logistic-regression\n",
      "  n_iter_i = _check_optimize_result(\n"
     ]
    },
    {
     "data": {
      "image/png": "[encoded data removed]",
      "text/plain": [
       "<Figure size 432x288 with 1 Axes>"
      ]
     },
     "metadata": {
      "needs_background": "light"
     },
     "output_type": "display_data"
    }
   ],
   "source": [
    "\n",
    "models = [\n",
    "    RandomForestClassifier(n_estimators=200, max_depth=3, random_state=0),\n",
    "    KNeighborsClassifier(n_neighbors = 5),\n",
    "    LinearSVC(),\n",
    "    MultinomialNB(),\n",
    "    LogisticRegression(random_state=0),\n",
    "]\n",
    "\n",
    "CV = 5 #nb of model\n",
    "cv_df = pd.DataFrame(index=range(CV * len(models)))\n",
    "entries = []\n",
    "\n",
    "for model in models:\n",
    "    model_name = model.__class__.__name__\n",
    "    accuracies = cross_val_score(model, features, labels, scoring='accuracy', cv=CV)\n",
    "    for fold_idx, accuracy in enumerate(accuracies):\n",
    "        entries.append((model_name, fold_idx, accuracy))\n",
    "        \n",
    "cv_df = pd.DataFrame(entries, columns=['model_name', 'fold_idx', 'accuracy'])\n",
    "\n",
    "\n",
    "\n",
    "sns.boxplot(x='model_name', y='accuracy', data=cv_df)\n",
    "sns.stripplot(x='model_name', y='accuracy', data=cv_df, \n",
    "              size=8, jitter=True, edgecolor=\"gray\", linewidth=2)\n",
    "plt.show()"
   ]
  },
  {
   "cell_type": "code",
   "execution_count": 16,
   "id": "9667a4f7-2711-4a51-8a81-f1880c42195c",
   "metadata": {},
   "outputs": [
    {
     "data": {
      "text/plain": [
       "model_name\n",
       "KNeighborsClassifier      0.775601\n",
       "LinearSVC                 0.831548\n",
       "LogisticRegression        0.835119\n",
       "MultinomialNB             0.828675\n",
       "RandomForestClassifier    0.778779\n",
       "Name: accuracy, dtype: float64"
      ]
     },
     "execution_count": 16,
     "metadata": {},
     "output_type": "execute_result"
    }
   ],
   "source": [
    "cv_df.groupby('model_name').accuracy.mean()"
   ]
  },
  {
   "cell_type": "markdown",
   "id": "97b6cc12-2a1a-44e3-8cbc-fd7d90b0d8df",
   "metadata": {},
   "source": [
    "### Model Evaluation\n",
    "\n",
    "Continue with our best model (LinearSVC or Logistic Regression), we are going to look at the confusion matrix, and show the discrepancies between predicted and actual labels."
   ]
  },
  {
   "cell_type": "code",
   "execution_count": 30,
   "id": "1fd00b9b-89c7-4ceb-989a-a7e54a498d98",
   "metadata": {},
   "outputs": [
    {
     "data": {
      "image/png": "[encoded data removed]",
      "text/plain": [
       "<Figure size 720x720 with 2 Axes>"
      ]
     },
     "metadata": {
      "needs_background": "light"
     },
     "output_type": "display_data"
    }
   ],
   "source": [
    "model = LinearSVC() #LogisticRegression()\n",
    "X_train, X_test, y_train, y_test, indices_train, indices_test = train_test_split(features, labels, df.index, test_size=0.2, random_state=0)\n",
    "model.fit(X_train, y_train)\n",
    "y_pred = model.predict(X_test)\n",
    "#from sklearn.metrics import confusion_matrix\n",
    "conf_mat = confusion_matrix(y_test, y_pred)\n",
    "fig, ax = plt.subplots(figsize=(10,10))\n",
    "sns.heatmap(conf_mat, annot=True, fmt='d',\n",
    "            xticklabels=rating_df['rating'].values, yticklabels=rating_df['rating'].values)\n",
    "plt.ylabel('Actual')\n",
    "plt.xlabel('Predicted')\n",
    "plt.show()"
   ]
  },
  {
   "cell_type": "code",
   "execution_count": 31,
   "id": "18a81da7-2092-462f-91b1-db2f4aa6c1bf",
   "metadata": {},
   "outputs": [
    {
     "name": "stdout",
     "output_type": "stream",
     "text": [
      "              precision    recall  f1-score   support\n",
      "\n",
      "           1       0.64      0.67      0.66       393\n",
      "           2       0.22      0.09      0.13       126\n",
      "           3       0.27      0.13      0.18       164\n",
      "           4       0.31      0.14      0.19       336\n",
      "           5       0.89      0.97      0.93      3575\n",
      "\n",
      "    accuracy                           0.83      4594\n",
      "   macro avg       0.47      0.40      0.42      4594\n",
      "weighted avg       0.79      0.83      0.80      4594\n",
      "\n"
     ]
    }
   ],
   "source": [
    "#from sklearn import metrics\n",
    "print(metrics.classification_report(y_test, y_pred))"
   ]
  },
  {
   "cell_type": "code",
   "execution_count": 32,
   "id": "378bc951-5d55-4ecf-ba6f-a1fe394bda76",
   "metadata": {},
   "outputs": [
    {
     "name": "stderr",
     "output_type": "stream",
     "text": [
      "/home/roxane/.pyenv/versions/3.9.7/lib/python3.9/site-packages/sklearn/linear_model/_logistic.py:814: ConvergenceWarning: lbfgs failed to converge (status=1):\n",
      "STOP: TOTAL NO. of ITERATIONS REACHED LIMIT.\n",
      "\n",
      "Increase the number of iterations (max_iter) or scale the data as shown in:\n",
      "    https://scikit-learn.org/stable/modules/preprocessing.html\n",
      "Please also refer to the documentation for alternative solver options:\n",
      "    https://scikit-learn.org/stable/modules/linear_model.html#logistic-regression\n",
      "  n_iter_i = _check_optimize_result(\n"
     ]
    },
    {
     "data": {
      "image/png": "[encoded data removed]",
      "text/plain": [
       "<Figure size 720x720 with 2 Axes>"
      ]
     },
     "metadata": {
      "needs_background": "light"
     },
     "output_type": "display_data"
    }
   ],
   "source": [
    "model2 = LogisticRegression()\n",
    "#X_train, X_test, y_train, y_test, indices_train, indices_test = train_test_split(features, labels, df_test1.index, test_size=0.2, random_state=0)\n",
    "model2.fit(X_train, y_train)\n",
    "y_pred2 = model2.predict(X_test)\n",
    "conf_mat2 = confusion_matrix(y_test, y_pred2)\n",
    "fig, ax = plt.subplots(figsize=(10,10))\n",
    "sns.heatmap(conf_mat, annot=True, fmt='d',\n",
    "            xticklabels=rating_df['rating_label'].values, yticklabels=rating_df['rating_label'].values)\n",
    "plt.ylabel('Actual')\n",
    "plt.xlabel('Predicted')\n",
    "plt.show()"
   ]
  },
  {
   "cell_type": "code",
   "execution_count": 34,
   "id": "73ff7e3a-09db-460f-9809-13fd00b67536",
   "metadata": {},
   "outputs": [
    {
     "name": "stdout",
     "output_type": "stream",
     "text": [
      "              precision    recall  f1-score   support\n",
      "\n",
      "           1       0.65      0.67      0.66       393\n",
      "           2       0.60      0.02      0.05       126\n",
      "           3       0.18      0.02      0.04       164\n",
      "           4       0.31      0.08      0.13       336\n",
      "           5       0.87      0.99      0.92      3575\n",
      "\n",
      "    accuracy                           0.83      4594\n",
      "   macro avg       0.52      0.36      0.36      4594\n",
      "weighted avg       0.77      0.83      0.79      4594\n",
      "\n"
     ]
    }
   ],
   "source": [
    "print(metrics.classification_report(y_test, y_pred2))"
   ]
  },
  {
   "cell_type": "code",
   "execution_count": null,
   "id": "760a2c13-b18b-4050-9303-b86f6c0535b2",
   "metadata": {},
   "outputs": [],
   "source": []
  }
 ],
 "metadata": {
  "kernelspec": {
   "display_name": "Python 3 (ipykernel)",
   "language": "python",
   "name": "python3"
  },
  "language_info": {
   "codemirror_mode": {
    "name": "ipython",
    "version": 3
   },
   "file_extension": ".py",
   "mimetype": "text/x-python",
   "name": "python",
   "nbconvert_exporter": "python",
   "pygments_lexer": "ipython3",
   "version": "3.9.7"
  }
 },
 "nbformat": 4,
 "nbformat_minor": 5
}
