{
 "cells": [
  {
   "cell_type": "code",
   "execution_count": 1,
   "id": "1a0780dd",
   "metadata": {},
   "outputs": [
    {
     "name": "stderr",
     "output_type": "stream",
     "text": [
      "[nltk_data] Downloading package punkt to /home/roxane/nltk_data...\n",
      "[nltk_data]   Package punkt is already up-to-date!\n",
      "[nltk_data] Downloading package wordnet to /home/roxane/nltk_data...\n",
      "[nltk_data]   Package wordnet is already up-to-date!\n"
     ]
    }
   ],
   "source": [
    "# Import relevant libraries and packages\n",
    "import pickle\n",
    "import pandas as pd\n",
    "import numpy as np\n",
    "import seaborn as sns\n",
    "\n",
    "import datetime\n",
    "\n",
    "from sklearn.feature_extraction.text import TfidfVectorizer\n",
    "import matplotlib.pyplot as plt\n",
    "from sklearn.feature_selection import chi2\n",
    "from sklearn.model_selection import train_test_split\n",
    "from sklearn.feature_extraction.text import CountVectorizer\n",
    "from sklearn.feature_extraction.text import TfidfTransformer\n",
    "from sklearn.naive_bayes import MultinomialNB\n",
    "from sklearn.linear_model import LogisticRegression\n",
    "from sklearn.ensemble import RandomForestClassifier\n",
    "from sklearn.svm import LinearSVC\n",
    "from sklearn.neighbors import KNeighborsClassifier\n",
    "from sklearn.model_selection import cross_val_score\n",
    "from sklearn.metrics import classification_report\n",
    "from sklearn.metrics import confusion_matrix\n",
    "\n",
    "from collections import Counter\n",
    "from imblearn.over_sampling import RandomOverSampler\n",
    "from imblearn.under_sampling import RandomUnderSampler\n",
    "\n",
    "import re\n",
    "import emoji #install pip install emoji --upgrade\n",
    "\n",
    "import spacy #python -m spacy download en_core_web_md\n",
    "import nltk\n",
    "from nltk.tokenize import word_tokenize\n",
    "nltk.download('punkt')\n",
    "from nltk.stem import WordNetLemmatizer\n",
    "nltk.download('wordnet')\n",
    "\n",
    "import enchant\n",
    "from enchant.checker import SpellChecker"
   ]
  },
  {
   "cell_type": "markdown",
   "id": "23d20cc0",
   "metadata": {},
   "source": [
    "# Phase 0 => Data setup"
   ]
  },
  {
   "cell_type": "markdown",
   "id": "cb5d5f51",
   "metadata": {},
   "source": [
    "Creation of new dataset to run classification model with only 2 dimensions : 'review content' and 'rating'."
   ]
  },
  {
   "cell_type": "code",
   "execution_count": 2,
   "id": "dc320a41-6b40-4f1e-af84-3ae6f8e815fa",
   "metadata": {},
   "outputs": [
    {
     "data": {
      "text/html": [
       "<div>\n",
       "<style scoped>\n",
       "    .dataframe tbody tr th:only-of-type {\n",
       "        vertical-align: middle;\n",
       "    }\n",
       "\n",
       "    .dataframe tbody tr th {\n",
       "        vertical-align: top;\n",
       "    }\n",
       "\n",
       "    .dataframe thead th {\n",
       "        text-align: right;\n",
       "    }\n",
       "</style>\n",
       "<table border=\"1\" class=\"dataframe\">\n",
       "  <thead>\n",
       "    <tr style=\"text-align: right;\">\n",
       "      <th></th>\n",
       "      <th>review_content</th>\n",
       "      <th>rating</th>\n",
       "      <th>date</th>\n",
       "      <th>source</th>\n",
       "      <th>preprocessed_review</th>\n",
       "    </tr>\n",
       "  </thead>\n",
       "  <tbody>\n",
       "    <tr>\n",
       "      <th>0</th>\n",
       "      <td>It does exactly what it says it does efficient...</td>\n",
       "      <td>5</td>\n",
       "      <td>2021-12</td>\n",
       "      <td>Google</td>\n",
       "      <td>[exactli, say, effici, save, food, fill, belli...</td>\n",
       "    </tr>\n",
       "    <tr>\n",
       "      <th>1</th>\n",
       "      <td>Well, I've only done 2 different vendors. The ...</td>\n",
       "      <td>4</td>\n",
       "      <td>2021-12</td>\n",
       "      <td>Google</td>\n",
       "      <td>[well, done, differ, vendor, first, donut, sho...</td>\n",
       "    </tr>\n",
       "    <tr>\n",
       "      <th>2</th>\n",
       "      <td>Still in my first week. And I'm looking forwar...</td>\n",
       "      <td>5</td>\n",
       "      <td>2021-12</td>\n",
       "      <td>Google</td>\n",
       "      <td>[still, first, week, look, forward, great, dea...</td>\n",
       "    </tr>\n",
       "    <tr>\n",
       "      <th>3</th>\n",
       "      <td>loving the app.</td>\n",
       "      <td>5</td>\n",
       "      <td>2021-12</td>\n",
       "      <td>Google</td>\n",
       "      <td>[love, app]</td>\n",
       "    </tr>\n",
       "    <tr>\n",
       "      <th>4</th>\n",
       "      <td>AT FIRST: 1) Lovely experience. charming staff...</td>\n",
       "      <td>2</td>\n",
       "      <td>2021-12</td>\n",
       "      <td>Google</td>\n",
       "      <td>[first, love, experi, charm, staff, moder, hi,...</td>\n",
       "    </tr>\n",
       "  </tbody>\n",
       "</table>\n",
       "</div>"
      ],
      "text/plain": [
       "                                      review_content  rating     date  source  \\\n",
       "0  It does exactly what it says it does efficient...       5  2021-12  Google   \n",
       "1  Well, I've only done 2 different vendors. The ...       4  2021-12  Google   \n",
       "2  Still in my first week. And I'm looking forwar...       5  2021-12  Google   \n",
       "3                                    loving the app.       5  2021-12  Google   \n",
       "4  AT FIRST: 1) Lovely experience. charming staff...       2  2021-12  Google   \n",
       "\n",
       "                                 preprocessed_review  \n",
       "0  [exactli, say, effici, save, food, fill, belli...  \n",
       "1  [well, done, differ, vendor, first, donut, sho...  \n",
       "2  [still, first, week, look, forward, great, dea...  \n",
       "3                                        [love, app]  \n",
       "4  [first, love, experi, charm, staff, moder, hi,...  "
      ]
     },
     "execution_count": 2,
     "metadata": {},
     "output_type": "execute_result"
    }
   ],
   "source": [
    "path = \"data/reviews_tgtg_v2.pkl\"\n",
    "\n",
    "with open(path, 'rb') as f:\n",
    "    df = pickle.load(f)\n",
    "\n",
    "df.head(5)"
   ]
  },
  {
   "cell_type": "code",
   "execution_count": 3,
   "id": "ce107c8c",
   "metadata": {},
   "outputs": [],
   "source": [
    "df_test1 = df[['review_content','rating']]"
   ]
  },
  {
   "cell_type": "markdown",
   "id": "157493c5",
   "metadata": {},
   "source": [
    "### A) Label creation"
   ]
  },
  {
   "cell_type": "markdown",
   "id": "a5bf4e8e",
   "metadata": {},
   "source": [
    "Since the dataset is inbalanced, 2 scenarii need to be designed depending on the success of ML prediction :\n",
    "- 1 scenario with 5 categories corresponding to the 5 different scores (from 1 to 5)\n",
    "- 1 scenario with 3 macro-categories gathering scores "
   ]
  },
  {
   "cell_type": "markdown",
   "id": "b622adda",
   "metadata": {},
   "source": [
    "##### Scenario 1 => 5 categories"
   ]
  },
  {
   "cell_type": "code",
   "execution_count": 4,
   "id": "36f1e457",
   "metadata": {},
   "outputs": [],
   "source": [
    "# function creating labels accroding to rating\n",
    "def label_rating (row):\n",
    "    if row['rating'] == 1 :\n",
    "        return '1 - awful'\n",
    "    if row['rating'] == 2 :\n",
    "        return '2 - bad'\n",
    "    if row['rating'] == 3 :\n",
    "        return '3 - neutral'\n",
    "    if row['rating'] == 4 :\n",
    "        return '4 - good'\n",
    "    if row['rating'] == 5 :\n",
    "        return '5 - awesome'\n",
    "    return 'Other'"
   ]
  },
  {
   "cell_type": "code",
   "execution_count": 5,
   "id": "395259f6",
   "metadata": {},
   "outputs": [
    {
     "name": "stderr",
     "output_type": "stream",
     "text": [
      "/tmp/ipykernel_12154/3099612617.py:2: SettingWithCopyWarning: \n",
      "A value is trying to be set on a copy of a slice from a DataFrame.\n",
      "Try using .loc[row_indexer,col_indexer] = value instead\n",
      "\n",
      "See the caveats in the documentation: https://pandas.pydata.org/pandas-docs/stable/user_guide/indexing.html#returning-a-view-versus-a-copy\n",
      "  df_test1['rating_label'] = df_test1.apply (lambda row: label_rating(row), axis=1)\n"
     ]
    },
    {
     "data": {
      "text/html": [
       "<div>\n",
       "<style scoped>\n",
       "    .dataframe tbody tr th:only-of-type {\n",
       "        vertical-align: middle;\n",
       "    }\n",
       "\n",
       "    .dataframe tbody tr th {\n",
       "        vertical-align: top;\n",
       "    }\n",
       "\n",
       "    .dataframe thead th {\n",
       "        text-align: right;\n",
       "    }\n",
       "</style>\n",
       "<table border=\"1\" class=\"dataframe\">\n",
       "  <thead>\n",
       "    <tr style=\"text-align: right;\">\n",
       "      <th></th>\n",
       "      <th>review_content</th>\n",
       "      <th>rating</th>\n",
       "      <th>rating_label</th>\n",
       "    </tr>\n",
       "  </thead>\n",
       "  <tbody>\n",
       "    <tr>\n",
       "      <th>0</th>\n",
       "      <td>It does exactly what it says it does efficient...</td>\n",
       "      <td>5</td>\n",
       "      <td>5 - awesome</td>\n",
       "    </tr>\n",
       "    <tr>\n",
       "      <th>1</th>\n",
       "      <td>Well, I've only done 2 different vendors. The ...</td>\n",
       "      <td>4</td>\n",
       "      <td>4 - good</td>\n",
       "    </tr>\n",
       "    <tr>\n",
       "      <th>2</th>\n",
       "      <td>Still in my first week. And I'm looking forwar...</td>\n",
       "      <td>5</td>\n",
       "      <td>5 - awesome</td>\n",
       "    </tr>\n",
       "    <tr>\n",
       "      <th>3</th>\n",
       "      <td>loving the app.</td>\n",
       "      <td>5</td>\n",
       "      <td>5 - awesome</td>\n",
       "    </tr>\n",
       "    <tr>\n",
       "      <th>4</th>\n",
       "      <td>AT FIRST: 1) Lovely experience. charming staff...</td>\n",
       "      <td>2</td>\n",
       "      <td>2 - bad</td>\n",
       "    </tr>\n",
       "  </tbody>\n",
       "</table>\n",
       "</div>"
      ],
      "text/plain": [
       "                                      review_content  rating rating_label\n",
       "0  It does exactly what it says it does efficient...       5  5 - awesome\n",
       "1  Well, I've only done 2 different vendors. The ...       4     4 - good\n",
       "2  Still in my first week. And I'm looking forwar...       5  5 - awesome\n",
       "3                                    loving the app.       5  5 - awesome\n",
       "4  AT FIRST: 1) Lovely experience. charming staff...       2      2 - bad"
      ]
     },
     "execution_count": 5,
     "metadata": {},
     "output_type": "execute_result"
    }
   ],
   "source": [
    "# application of function to create labels\n",
    "df_test1['rating_label'] = df_test1.apply (lambda row: label_rating(row), axis=1)\n",
    "df_test1.head()"
   ]
  },
  {
   "cell_type": "code",
   "execution_count": 6,
   "id": "49f16623",
   "metadata": {},
   "outputs": [],
   "source": [
    "# creation of dictionary scenario 1\n",
    "rating1_df = df_test1[['rating_label', 'rating']].drop_duplicates().sort_values('rating')\n",
    "ratinglabel1_to_id = dict(rating1_df.values)\n",
    "id_to_ratinglabel1 = dict(rating1_df[['rating', 'rating_label']].values)"
   ]
  },
  {
   "cell_type": "code",
   "execution_count": 7,
   "id": "f2b4167e",
   "metadata": {},
   "outputs": [
    {
     "data": {
      "text/plain": [
       "{'1 - awful': 1,\n",
       " '2 - bad': 2,\n",
       " '3 - neutral': 3,\n",
       " '4 - good': 4,\n",
       " '5 - awesome': 5}"
      ]
     },
     "execution_count": 7,
     "metadata": {},
     "output_type": "execute_result"
    }
   ],
   "source": [
    "ratinglabel1_to_id "
   ]
  },
  {
   "cell_type": "code",
   "execution_count": 8,
   "id": "f5c80c48",
   "metadata": {},
   "outputs": [
    {
     "data": {
      "image/png": "[encoded data removed]",
      "text/plain": [
       "<Figure size 576x432 with 1 Axes>"
      ]
     },
     "metadata": {
      "needs_background": "light"
     },
     "output_type": "display_data"
    }
   ],
   "source": [
    "# distribution chart\n",
    "fig = plt.figure(figsize=(8,6))\n",
    "df_test1.groupby('rating_label').review_content.count().plot.bar(ylim=0)\n",
    "plt.show()"
   ]
  },
  {
   "cell_type": "markdown",
   "id": "27c4a53c",
   "metadata": {},
   "source": [
    "##### Scenario 2 => 3 categories"
   ]
  },
  {
   "cell_type": "markdown",
   "id": "25baff49",
   "metadata": {},
   "source": [
    "- Bad = categories 1 & 2\n",
    "- Neutral = category 3\n",
    "- Good = categories 4 & 5"
   ]
  },
  {
   "cell_type": "code",
   "execution_count": 10,
   "id": "7f78fc0b",
   "metadata": {},
   "outputs": [
    {
     "name": "stderr",
     "output_type": "stream",
     "text": [
      "/tmp/ipykernel_12154/1835289214.py:16: SettingWithCopyWarning: \n",
      "A value is trying to be set on a copy of a slice from a DataFrame.\n",
      "Try using .loc[row_indexer,col_indexer] = value instead\n",
      "\n",
      "See the caveats in the documentation: https://pandas.pydata.org/pandas-docs/stable/user_guide/indexing.html#returning-a-view-versus-a-copy\n",
      "  df_test2['rating_label'] = df_test2.apply (lambda row: label_rating2(row), axis=1)\n"
     ]
    },
    {
     "data": {
      "text/html": [
       "<div>\n",
       "<style scoped>\n",
       "    .dataframe tbody tr th:only-of-type {\n",
       "        vertical-align: middle;\n",
       "    }\n",
       "\n",
       "    .dataframe tbody tr th {\n",
       "        vertical-align: top;\n",
       "    }\n",
       "\n",
       "    .dataframe thead th {\n",
       "        text-align: right;\n",
       "    }\n",
       "</style>\n",
       "<table border=\"1\" class=\"dataframe\">\n",
       "  <thead>\n",
       "    <tr style=\"text-align: right;\">\n",
       "      <th></th>\n",
       "      <th>review_content</th>\n",
       "      <th>rating</th>\n",
       "      <th>rating_label</th>\n",
       "    </tr>\n",
       "  </thead>\n",
       "  <tbody>\n",
       "    <tr>\n",
       "      <th>0</th>\n",
       "      <td>It does exactly what it says it does efficient...</td>\n",
       "      <td>5</td>\n",
       "      <td>3 - good</td>\n",
       "    </tr>\n",
       "    <tr>\n",
       "      <th>1</th>\n",
       "      <td>Well, I've only done 2 different vendors. The ...</td>\n",
       "      <td>4</td>\n",
       "      <td>3 - good</td>\n",
       "    </tr>\n",
       "    <tr>\n",
       "      <th>2</th>\n",
       "      <td>Still in my first week. And I'm looking forwar...</td>\n",
       "      <td>5</td>\n",
       "      <td>3 - good</td>\n",
       "    </tr>\n",
       "    <tr>\n",
       "      <th>3</th>\n",
       "      <td>loving the app.</td>\n",
       "      <td>5</td>\n",
       "      <td>3 - good</td>\n",
       "    </tr>\n",
       "    <tr>\n",
       "      <th>4</th>\n",
       "      <td>AT FIRST: 1) Lovely experience. charming staff...</td>\n",
       "      <td>2</td>\n",
       "      <td>1 - bad</td>\n",
       "    </tr>\n",
       "  </tbody>\n",
       "</table>\n",
       "</div>"
      ],
      "text/plain": [
       "                                      review_content  rating rating_label\n",
       "0  It does exactly what it says it does efficient...       5     3 - good\n",
       "1  Well, I've only done 2 different vendors. The ...       4     3 - good\n",
       "2  Still in my first week. And I'm looking forwar...       5     3 - good\n",
       "3                                    loving the app.       5     3 - good\n",
       "4  AT FIRST: 1) Lovely experience. charming staff...       2      1 - bad"
      ]
     },
     "execution_count": 10,
     "metadata": {},
     "output_type": "execute_result"
    }
   ],
   "source": [
    "df_test2 = df[['review_content','rating']]\n",
    "\n",
    "def label_rating2 (row):\n",
    "    if row['rating'] == 1 :\n",
    "        return '1 - bad'\n",
    "    if row['rating'] == 2 :\n",
    "        return '1 - bad'\n",
    "    if row['rating'] == 3 :\n",
    "        return '2 - neutral'\n",
    "    if row['rating'] == 4 :\n",
    "        return '3 - good'\n",
    "    if row['rating'] == 5 :\n",
    "        return '3 - good'\n",
    "    return 'Other'\n",
    "\n",
    "df_test2['rating_label'] = df_test2.apply (lambda row: label_rating2(row), axis=1)\n",
    "df_test2.head()"
   ]
  },
  {
   "cell_type": "code",
   "execution_count": 11,
   "id": "cacb20da",
   "metadata": {},
   "outputs": [],
   "source": [
    "# creation of dictionary scenario 2\n",
    "rating2_df = df_test2[['rating_label', 'rating']].drop_duplicates().sort_values('rating')\n",
    "ratinglabel2_to_id = dict(rating2_df.values)\n",
    "id_to_ratinglabel2 = dict(rating2_df[['rating', 'rating_label']].values)"
   ]
  },
  {
   "cell_type": "code",
   "execution_count": 12,
   "id": "24ad72eb",
   "metadata": {},
   "outputs": [
    {
     "data": {
      "image/png": "[encoded data removed]",
      "text/plain": [
       "<Figure size 576x432 with 1 Axes>"
      ]
     },
     "metadata": {
      "needs_background": "light"
     },
     "output_type": "display_data"
    }
   ],
   "source": [
    "# distribution chart\n",
    "fig = plt.figure(figsize=(8,6))\n",
    "df_test2.groupby('rating_label').review_content.count().plot.bar(ylim=0)\n",
    "plt.show()"
   ]
  },
  {
   "cell_type": "markdown",
   "id": "806706b5",
   "metadata": {},
   "source": [
    "# Phase 1 => Preparatory work"
   ]
  },
  {
   "cell_type": "markdown",
   "id": "2cd73c1b",
   "metadata": {},
   "source": [
    "### A) Feature engineering"
   ]
  },
  {
   "cell_type": "markdown",
   "id": "e5b4d526",
   "metadata": {},
   "source": [
    "#### Step 1 => Features created directly from text"
   ]
  },
  {
   "cell_type": "markdown",
   "id": "cad7369e",
   "metadata": {},
   "source": [
    "1. Number of Characters"
   ]
  },
  {
   "cell_type": "code",
   "execution_count": 13,
   "id": "c96bb190",
   "metadata": {},
   "outputs": [],
   "source": [
    "def count_chars(text):\n",
    "    return len(text)"
   ]
  },
  {
   "cell_type": "markdown",
   "id": "8f4393b8",
   "metadata": {},
   "source": [
    "2. Number of words"
   ]
  },
  {
   "cell_type": "code",
   "execution_count": 14,
   "id": "78ff6b5e",
   "metadata": {},
   "outputs": [],
   "source": [
    "def count_words(text):\n",
    "    return len(text.split())"
   ]
  },
  {
   "cell_type": "markdown",
   "id": "62e573ac",
   "metadata": {},
   "source": [
    "3. Number of capital characters"
   ]
  },
  {
   "cell_type": "code",
   "execution_count": 15,
   "id": "b18dbd43",
   "metadata": {},
   "outputs": [],
   "source": [
    "def count_capital_chars(text):\n",
    "    count=0\n",
    "    for i in text:\n",
    "        if i.isupper()== True: #isupper() method returns: True if characters in a string are uppercase characters\n",
    "            count+=1\n",
    "    return count"
   ]
  },
  {
   "cell_type": "markdown",
   "id": "0fbe3024",
   "metadata": {},
   "source": [
    "4. Number of capital words"
   ]
  },
  {
   "cell_type": "code",
   "execution_count": 16,
   "id": "b56e469c",
   "metadata": {},
   "outputs": [],
   "source": [
    "def count_capital_words(text):\n",
    "    return sum(map(str.isupper, text.split()))"
   ]
  },
  {
   "cell_type": "markdown",
   "id": "417bebb6",
   "metadata": {},
   "source": [
    "5. Count the number of punctuations"
   ]
  },
  {
   "cell_type": "code",
   "execution_count": 17,
   "id": "4a56cea2",
   "metadata": {},
   "outputs": [],
   "source": [
    "def count_punctuations(text):\n",
    "    punctuations=\"!#$%&'()*+,-./:;<=>?@[\\]^_`{|}~\"\n",
    "    d=dict()\n",
    "    for i in punctuations:\n",
    "        d[str(i)+'count']=text.count(i)\n",
    "    return d "
   ]
  },
  {
   "cell_type": "markdown",
   "id": "ed4f6619",
   "metadata": {},
   "source": [
    "6. Number of words in quotes"
   ]
  },
  {
   "cell_type": "code",
   "execution_count": 18,
   "id": "a6bf0c1a",
   "metadata": {},
   "outputs": [],
   "source": [
    "def count_words_in_quotes(text):\n",
    "    x = re.findall(\"'.'|'.'\", text)\n",
    "    count=0\n",
    "    if x is None:\n",
    "        return 0\n",
    "    else:\n",
    "        for i in x:\n",
    "            t=i[1:-1]\n",
    "            count+=count_words(t)\n",
    "        return count"
   ]
  },
  {
   "cell_type": "markdown",
   "id": "f11a5708",
   "metadata": {},
   "source": [
    "7. Number of sentences"
   ]
  },
  {
   "cell_type": "code",
   "execution_count": 19,
   "id": "7df8ff6c",
   "metadata": {},
   "outputs": [],
   "source": [
    "def count_sent(text):\n",
    "    return len(nltk.sent_tokenize(text))"
   ]
  },
  {
   "cell_type": "markdown",
   "id": "9e143fbf",
   "metadata": {},
   "source": [
    "8. Count the number of unique words"
   ]
  },
  {
   "cell_type": "code",
   "execution_count": 20,
   "id": "23fa16bb",
   "metadata": {},
   "outputs": [],
   "source": [
    "def count_unique_words(text):\n",
    "    return len(set(text.split()))"
   ]
  },
  {
   "cell_type": "markdown",
   "id": "c7bbb1cb",
   "metadata": {},
   "source": [
    "9. Count of hashtags"
   ]
  },
  {
   "cell_type": "code",
   "execution_count": 21,
   "id": "0a5784da",
   "metadata": {},
   "outputs": [],
   "source": [
    "def count_htags(text):\n",
    "    x = re.findall(r'(#w[A-Za-z0-9]*)', text)\n",
    "    return len(x) "
   ]
  },
  {
   "cell_type": "markdown",
   "id": "2fde5981",
   "metadata": {},
   "source": [
    "10. Count of mentions"
   ]
  },
  {
   "cell_type": "code",
   "execution_count": 22,
   "id": "fdf23014",
   "metadata": {},
   "outputs": [],
   "source": [
    "def count_mentions(text):\n",
    "    x = re.findall(r'(@w[A-Za-z0-9]*)', text)\n",
    "    return len(x)"
   ]
  },
  {
   "cell_type": "markdown",
   "id": "73f27bcd",
   "metadata": {},
   "source": [
    "11. Count of stopwords"
   ]
  },
  {
   "cell_type": "code",
   "execution_count": 23,
   "id": "e4a22447",
   "metadata": {},
   "outputs": [
    {
     "name": "stdout",
     "output_type": "stream",
     "text": [
      "322\n"
     ]
    }
   ],
   "source": [
    "nlp = spacy.load(\"en_core_web_md\") # need to use the medium model (not small one = en_core_web_md)\n",
    "nlp.Defaults.stop_words -= {\"no\", \"not\", \"isn't\",\"can't\", \"cannot\", \"doesn't\", \"don't\", \"but\", \"won't\", \"shouldn't\"} #to remove words form Spacy stopwords\n",
    "\n",
    "stopwords = nlp.Defaults.stop_words\n",
    "\n",
    "print(len(stopwords))"
   ]
  },
  {
   "cell_type": "code",
   "execution_count": 24,
   "id": "4a3fa1c1",
   "metadata": {},
   "outputs": [
    {
     "name": "stdout",
     "output_type": "stream",
     "text": [
      "{'six', '’ll', 'beside', 'thence', 'until', 'these', 'i', 'me', 'third', 'whoever', 'behind', 'myself', 'for', 'her', 'anyhow', 'further', 'whereafter', 'they', 'this', 'really', 'ca', 'everything', 'formerly', 'itself', 'though', 'somehow', 'becoming', 'else', 'thereby', 'ever', 'many', 'anyone', 'him', 'rather', 'forty', 'after', 'made', 'were', 'either', 'somewhere', 'unless', 'might', 'meanwhile', 'top', 'doing', 'almost', 'using', 'other', 'within', 'even', 'much', 'those', 'am', 'being', 'to', 'while', 'both', 'seem', 'along', 're', 'of', 'should', 'go', 'latter', 'elsewhere', 'that', 'whenever', 'do', 'regarding', 'now', 'how', 'whereby', 'whose', 'a', 'take', 'mine', 'ours', 'themselves', 'yourself', 'full', 'twenty', 'never', 'someone', 'may', 'back', 'had', 'every', 'off', '’m', 'anywhere', 'does', 'why', 'ten', 'indeed', 'call', 'give', 'nothing', 'part', '’ve', 'two', 'done', 'keep', 'eight', 'could', 'others', 'nine', 'she', 'only', 'same', 'whatever', 'make', 'such', 'the', 'at', 'fifty', 'five', 'everyone', 'noone', 'which', 'another', 'he', \"'m\", 'least', 'most', 'whereas', 'was', 'therefore', 'us', 'quite', 'thru', 'various', 'himself', 'must', 'without', 'also', 'again', \"'ve\", 'onto', 'anyway', '‘ll', 'although', 'own', 'still', 'several', 'amongst', 'fifteen', 'four', 'during', 'latterly', 'thereafter', 'yet', 'would', 'been', 'an', 'than', 'my', 'sometime', 'his', 'seemed', 'enough', 'upon', 'next', 'down', \"'ll\", 'just', \"'d\", 'ourselves', 'see', \"n't\", 'below', 'about', '‘re', 'are', 'something', 'serious', 'you', 'empty', 'through', 'none', 'amount', 'wherein', '’s', 'once', 'herein', 'what', 'across', 'perhaps', 'otherwise', \"'re\", 'our', 'we', 'more', 'all', 'seems', 'whom', 'since', 'did', 'first', 'besides', 'towards', 'yours', 'twelve', 'have', 'up', 'move', 'afterwards', 'when', 'them', 'become', 'because', 'bottom', 'against', 'former', 'on', 'and', 'hundred', 'herself', 'except', 'say', 'some', 'whether', 'n‘t', 'get', 'always', 'here', 'hereby', 'throughout', 'name', 'nevertheless', 'alone', 'whither', 'beforehand', 'last', 'hence', 'before', 'whereupon', 'thus', 'so', 'its', 'became', 'n’t', 'yourselves', 'or', 'moreover', 'one', 'toward', 'front', 'show', 'well', 'everywhere', 'together', 'becomes', 'beyond', 'by', 'namely', 'less', 'therein', 'put', '‘ve', 'around', 'as', \"'s\", 'few', 'hereupon', 'sometimes', '‘m', 'it', 'there', 'three', 'has', 'nobody', 'with', 'can', 'among', 'seeming', 'each', 'any', 'into', 'too', 'from', '‘s', 'if', 'their', 'please', 'sixty', 'where', 'wherever', 'will', 'side', 'neither', 'whole', 'mostly', 'nowhere', 'thereupon', 'already', 'hereafter', 'then', 'due', '’re', '‘d', 'often', 'however', 'in', 'very', '’d', 'out', 'via', 'eleven', 'anything', 'above', 'nor', 'per', 'between', 'hers', 'be', 'is', 'under', 'over', 'your', 'whence', 'who', 'used'}\n"
     ]
    }
   ],
   "source": [
    "print(stopwords)"
   ]
  },
  {
   "cell_type": "code",
   "execution_count": 25,
   "id": "9754a19b",
   "metadata": {},
   "outputs": [],
   "source": [
    "def count_stopwords(text):\n",
    "    stop_words = stopwords  \n",
    "    word_tokens = word_tokenize(text)\n",
    "    stopwords_x = [w for w in word_tokens if w in stop_words]\n",
    "    return len(stopwords_x)"
   ]
  },
  {
   "cell_type": "markdown",
   "id": "dc9a971a",
   "metadata": {},
   "source": [
    "11. Count of emojis"
   ]
  },
  {
   "cell_type": "code",
   "execution_count": 26,
   "id": "7f36d3b5",
   "metadata": {},
   "outputs": [],
   "source": [
    "def count_emoji(text):\n",
    "    return emoji.emoji_count(text)"
   ]
  },
  {
   "cell_type": "markdown",
   "id": "cdb6565a",
   "metadata": {},
   "source": [
    "##### Application of 1st round of feature engineering"
   ]
  },
  {
   "cell_type": "code",
   "execution_count": 27,
   "id": "105f41e6",
   "metadata": {},
   "outputs": [
    {
     "name": "stderr",
     "output_type": "stream",
     "text": [
      "/tmp/ipykernel_12154/3117292899.py:2: SettingWithCopyWarning: \n",
      "A value is trying to be set on a copy of a slice from a DataFrame.\n",
      "Try using .loc[row_indexer,col_indexer] = value instead\n",
      "\n",
      "See the caveats in the documentation: https://pandas.pydata.org/pandas-docs/stable/user_guide/indexing.html#returning-a-view-versus-a-copy\n",
      "  df_test1['char_count'] = df_test1[\"review_content\"].apply(lambda x:count_chars(x))\n"
     ]
    }
   ],
   "source": [
    "#apply all the functions just created above, to the whole dataset\n",
    "df_test1['char_count'] = df_test1[\"review_content\"].apply(lambda x:count_chars(x))\n",
    "df_test1['word_count'] = df_test1[\"review_content\"].apply(lambda x:count_words(x))\n",
    "df_test1['sent_count'] = df_test1[\"review_content\"].apply(lambda x:count_sent(x))\n",
    "df_test1['capital_char_count'] = df_test1[\"review_content\"].apply(lambda x:count_capital_chars(x))\n",
    "df_test1['capital_word_count'] = df_test1[\"review_content\"].apply(lambda x:count_capital_words(x))\n",
    "df_test1['quoted_word_count'] = df_test1[\"review_content\"].apply(lambda x:count_words_in_quotes(x))\n",
    "df_test1['stopword_count'] = df_test1[\"review_content\"].apply(lambda x:count_stopwords(x))\n",
    "df_test1['unique_word_count'] = df_test1[\"review_content\"].apply(lambda x:count_unique_words(x))\n",
    "df_test1['htag_count'] = df_test1[\"review_content\"].apply(lambda x:count_htags(x))\n",
    "df_test1['mention_count'] = df_test1[\"review_content\"].apply(lambda x:count_mentions(x))\n",
    "df_test1['punct_count'] = df_test1[\"review_content\"].apply(lambda x:count_punctuations(x))\n",
    "df_test1['emoji_count'] = df_test1[\"review_content\"].apply(lambda x:count_emoji(x))"
   ]
  },
  {
   "cell_type": "code",
   "execution_count": 28,
   "id": "5b9b2bfc",
   "metadata": {},
   "outputs": [
    {
     "name": "stdout",
     "output_type": "stream",
     "text": [
      "<class 'pandas.core.frame.DataFrame'>\n",
      "Int64Index: 22968 entries, 0 to 1467\n",
      "Data columns (total 15 columns):\n",
      " #   Column              Non-Null Count  Dtype \n",
      "---  ------              --------------  ----- \n",
      " 0   review_content      22968 non-null  object\n",
      " 1   rating              22968 non-null  int64 \n",
      " 2   rating_label        22968 non-null  object\n",
      " 3   char_count          22968 non-null  int64 \n",
      " 4   word_count          22968 non-null  int64 \n",
      " 5   sent_count          22968 non-null  int64 \n",
      " 6   capital_char_count  22968 non-null  int64 \n",
      " 7   capital_word_count  22968 non-null  int64 \n",
      " 8   quoted_word_count   22968 non-null  int64 \n",
      " 9   stopword_count      22968 non-null  int64 \n",
      " 10  unique_word_count   22968 non-null  int64 \n",
      " 11  htag_count          22968 non-null  int64 \n",
      " 12  mention_count       22968 non-null  int64 \n",
      " 13  punct_count         22968 non-null  object\n",
      " 14  emoji_count         22968 non-null  int64 \n",
      "dtypes: int64(12), object(3)\n",
      "memory usage: 2.8+ MB\n"
     ]
    }
   ],
   "source": [
    "df_test1.info()"
   ]
  },
  {
   "cell_type": "markdown",
   "id": "cd0e5767",
   "metadata": {},
   "source": [
    "#### Step 2 => New features created directly from features above and applied on df"
   ]
  },
  {
   "cell_type": "markdown",
   "id": "c8ef197b",
   "metadata": {},
   "source": [
    "12. Calculating average word length"
   ]
  },
  {
   "cell_type": "code",
   "execution_count": 29,
   "id": "e55bb06f",
   "metadata": {},
   "outputs": [],
   "source": [
    "df_test1['avg_wordlength'] = df_test1['char_count']/df_test1['word_count']"
   ]
  },
  {
   "cell_type": "markdown",
   "id": "53edf648",
   "metadata": {},
   "source": [
    "13. Calculating average sentence length"
   ]
  },
  {
   "cell_type": "code",
   "execution_count": 30,
   "id": "0976421f",
   "metadata": {},
   "outputs": [],
   "source": [
    "df_test1['avg_sentlength'] = df_test1['word_count']/df_test1['sent_count']"
   ]
  },
  {
   "cell_type": "markdown",
   "id": "47fddb5f",
   "metadata": {},
   "source": [
    "14. Ratio unique words vs word count"
   ]
  },
  {
   "cell_type": "code",
   "execution_count": 31,
   "id": "9f6ad659",
   "metadata": {},
   "outputs": [],
   "source": [
    "df_test1['unique_vs_words'] = df_test1['unique_word_count']/df_test1['word_count']"
   ]
  },
  {
   "cell_type": "markdown",
   "id": "42f604ff",
   "metadata": {},
   "source": [
    "15. Ratio stopwords count vs words count"
   ]
  },
  {
   "cell_type": "code",
   "execution_count": 32,
   "id": "71372423",
   "metadata": {},
   "outputs": [],
   "source": [
    "df_test1['stopwords_vs_words'] = df_test1['stopword_count']/df_test1['word_count']"
   ]
  },
  {
   "cell_type": "code",
   "execution_count": 33,
   "id": "e31b3e5e",
   "metadata": {},
   "outputs": [
    {
     "name": "stdout",
     "output_type": "stream",
     "text": [
      "<class 'pandas.core.frame.DataFrame'>\n",
      "Int64Index: 22968 entries, 0 to 1467\n",
      "Data columns (total 19 columns):\n",
      " #   Column              Non-Null Count  Dtype  \n",
      "---  ------              --------------  -----  \n",
      " 0   review_content      22968 non-null  object \n",
      " 1   rating              22968 non-null  int64  \n",
      " 2   rating_label        22968 non-null  object \n",
      " 3   char_count          22968 non-null  int64  \n",
      " 4   word_count          22968 non-null  int64  \n",
      " 5   sent_count          22968 non-null  int64  \n",
      " 6   capital_char_count  22968 non-null  int64  \n",
      " 7   capital_word_count  22968 non-null  int64  \n",
      " 8   quoted_word_count   22968 non-null  int64  \n",
      " 9   stopword_count      22968 non-null  int64  \n",
      " 10  unique_word_count   22968 non-null  int64  \n",
      " 11  htag_count          22968 non-null  int64  \n",
      " 12  mention_count       22968 non-null  int64  \n",
      " 13  punct_count         22968 non-null  object \n",
      " 14  emoji_count         22968 non-null  int64  \n",
      " 15  avg_wordlength      22968 non-null  float64\n",
      " 16  avg_sentlength      22968 non-null  float64\n",
      " 17  unique_vs_words     22968 non-null  float64\n",
      " 18  stopwords_vs_words  22968 non-null  float64\n",
      "dtypes: float64(4), int64(12), object(3)\n",
      "memory usage: 3.5+ MB\n"
     ]
    }
   ],
   "source": [
    "df_test1.info()"
   ]
  },
  {
   "cell_type": "markdown",
   "id": "0d03f082",
   "metadata": {},
   "source": [
    "16. Adding columns based on punctuation used in each text"
   ]
  },
  {
   "cell_type": "code",
   "execution_count": 34,
   "id": "e9d27199",
   "metadata": {},
   "outputs": [
    {
     "data": {
      "text/plain": [
       "Index(['review_content', 'rating', 'rating_label', 'char_count', 'word_count',\n",
       "       'sent_count', 'capital_char_count', 'capital_word_count',\n",
       "       'quoted_word_count', 'stopword_count', 'unique_word_count',\n",
       "       'htag_count', 'mention_count', 'emoji_count', 'avg_wordlength',\n",
       "       'avg_sentlength', 'unique_vs_words', 'stopwords_vs_words', '!count',\n",
       "       '#count', '$count', '%count', '&count', ''count', '(count', ')count',\n",
       "       '*count', '+count', ',count', '-count', '.count', '/count', ':count',\n",
       "       ';count', '<count', '=count', '>count', '?count', '@count', '[count',\n",
       "       '\\count', ']count', '^count', '_count', '`count', '{count', '|count',\n",
       "       '}count', '~count'],\n",
       "      dtype='object')"
      ]
     },
     "execution_count": 34,
     "metadata": {},
     "output_type": "execute_result"
    }
   ],
   "source": [
    "# Creating new dataframe retrieving all the different punctuation used in each text\n",
    "df_punct = pd.DataFrame(list(df_test1.punct_count))\n",
    "\n",
    "# Merging punctuation DataFrame with main DataFrame\n",
    "df_test1 = pd.merge(df_test1, df_punct, left_index=True, right_index=True)\n",
    "\n",
    "# Dropping \"punct_count\" column from main DataFrame\n",
    "df_test1.drop(columns=['punct_count'],inplace=True)\n",
    "df_test1.columns"
   ]
  },
  {
   "cell_type": "code",
   "execution_count": 35,
   "id": "90d95b63",
   "metadata": {},
   "outputs": [
    {
     "name": "stdout",
     "output_type": "stream",
     "text": [
      "<class 'pandas.core.frame.DataFrame'>\n",
      "Int64Index: 22968 entries, 0 to 19847\n",
      "Data columns (total 49 columns):\n",
      " #   Column              Non-Null Count  Dtype  \n",
      "---  ------              --------------  -----  \n",
      " 0   review_content      22968 non-null  object \n",
      " 1   rating              22968 non-null  int64  \n",
      " 2   rating_label        22968 non-null  object \n",
      " 3   char_count          22968 non-null  int64  \n",
      " 4   word_count          22968 non-null  int64  \n",
      " 5   sent_count          22968 non-null  int64  \n",
      " 6   capital_char_count  22968 non-null  int64  \n",
      " 7   capital_word_count  22968 non-null  int64  \n",
      " 8   quoted_word_count   22968 non-null  int64  \n",
      " 9   stopword_count      22968 non-null  int64  \n",
      " 10  unique_word_count   22968 non-null  int64  \n",
      " 11  htag_count          22968 non-null  int64  \n",
      " 12  mention_count       22968 non-null  int64  \n",
      " 13  emoji_count         22968 non-null  int64  \n",
      " 14  avg_wordlength      22968 non-null  float64\n",
      " 15  avg_sentlength      22968 non-null  float64\n",
      " 16  unique_vs_words     22968 non-null  float64\n",
      " 17  stopwords_vs_words  22968 non-null  float64\n",
      " 18  !count              22968 non-null  int64  \n",
      " 19  #count              22968 non-null  int64  \n",
      " 20  $count              22968 non-null  int64  \n",
      " 21  %count              22968 non-null  int64  \n",
      " 22  &count              22968 non-null  int64  \n",
      " 23  'count              22968 non-null  int64  \n",
      " 24  (count              22968 non-null  int64  \n",
      " 25  )count              22968 non-null  int64  \n",
      " 26  *count              22968 non-null  int64  \n",
      " 27  +count              22968 non-null  int64  \n",
      " 28  ,count              22968 non-null  int64  \n",
      " 29  -count              22968 non-null  int64  \n",
      " 30  .count              22968 non-null  int64  \n",
      " 31  /count              22968 non-null  int64  \n",
      " 32  :count              22968 non-null  int64  \n",
      " 33  ;count              22968 non-null  int64  \n",
      " 34  <count              22968 non-null  int64  \n",
      " 35  =count              22968 non-null  int64  \n",
      " 36  >count              22968 non-null  int64  \n",
      " 37  ?count              22968 non-null  int64  \n",
      " 38  @count              22968 non-null  int64  \n",
      " 39  [count              22968 non-null  int64  \n",
      " 40  \\count              22968 non-null  int64  \n",
      " 41  ]count              22968 non-null  int64  \n",
      " 42  ^count              22968 non-null  int64  \n",
      " 43  _count              22968 non-null  int64  \n",
      " 44  `count              22968 non-null  int64  \n",
      " 45  {count              22968 non-null  int64  \n",
      " 46  |count              22968 non-null  int64  \n",
      " 47  }count              22968 non-null  int64  \n",
      " 48  ~count              22968 non-null  int64  \n",
      "dtypes: float64(4), int64(43), object(2)\n",
      "memory usage: 8.8+ MB\n"
     ]
    }
   ],
   "source": [
    "df_test1.info()"
   ]
  },
  {
   "cell_type": "code",
   "execution_count": 36,
   "id": "27ab654f",
   "metadata": {},
   "outputs": [
    {
     "data": {
      "text/html": [
       "<div>\n",
       "<style scoped>\n",
       "    .dataframe tbody tr th:only-of-type {\n",
       "        vertical-align: middle;\n",
       "    }\n",
       "\n",
       "    .dataframe tbody tr th {\n",
       "        vertical-align: top;\n",
       "    }\n",
       "\n",
       "    .dataframe thead th {\n",
       "        text-align: right;\n",
       "    }\n",
       "</style>\n",
       "<table border=\"1\" class=\"dataframe\">\n",
       "  <thead>\n",
       "    <tr style=\"text-align: right;\">\n",
       "      <th></th>\n",
       "      <th>rating</th>\n",
       "      <th>char_count</th>\n",
       "      <th>word_count</th>\n",
       "      <th>sent_count</th>\n",
       "      <th>capital_char_count</th>\n",
       "      <th>capital_word_count</th>\n",
       "      <th>quoted_word_count</th>\n",
       "      <th>stopword_count</th>\n",
       "      <th>unique_word_count</th>\n",
       "      <th>htag_count</th>\n",
       "      <th>...</th>\n",
       "      <th>[count</th>\n",
       "      <th>\\count</th>\n",
       "      <th>]count</th>\n",
       "      <th>^count</th>\n",
       "      <th>_count</th>\n",
       "      <th>`count</th>\n",
       "      <th>{count</th>\n",
       "      <th>|count</th>\n",
       "      <th>}count</th>\n",
       "      <th>~count</th>\n",
       "    </tr>\n",
       "  </thead>\n",
       "  <tbody>\n",
       "    <tr>\n",
       "      <th>count</th>\n",
       "      <td>22968.000000</td>\n",
       "      <td>22968.000000</td>\n",
       "      <td>22968.000000</td>\n",
       "      <td>22968.000000</td>\n",
       "      <td>22968.000000</td>\n",
       "      <td>22968.000000</td>\n",
       "      <td>22968.000000</td>\n",
       "      <td>22968.000000</td>\n",
       "      <td>22968.000000</td>\n",
       "      <td>22968.000000</td>\n",
       "      <td>...</td>\n",
       "      <td>22968.000000</td>\n",
       "      <td>22968.000000</td>\n",
       "      <td>22968.000000</td>\n",
       "      <td>22968.000000</td>\n",
       "      <td>22968.000000</td>\n",
       "      <td>22968.000000</td>\n",
       "      <td>22968.0</td>\n",
       "      <td>22968.0</td>\n",
       "      <td>22968.0</td>\n",
       "      <td>22968.000000</td>\n",
       "    </tr>\n",
       "    <tr>\n",
       "      <th>mean</th>\n",
       "      <td>4.433473</td>\n",
       "      <td>121.877699</td>\n",
       "      <td>22.753701</td>\n",
       "      <td>2.080329</td>\n",
       "      <td>2.943530</td>\n",
       "      <td>0.565482</td>\n",
       "      <td>0.000087</td>\n",
       "      <td>10.032132</td>\n",
       "      <td>19.483063</td>\n",
       "      <td>0.000044</td>\n",
       "      <td>...</td>\n",
       "      <td>0.000218</td>\n",
       "      <td>0.000044</td>\n",
       "      <td>0.000218</td>\n",
       "      <td>0.000610</td>\n",
       "      <td>0.000305</td>\n",
       "      <td>0.000087</td>\n",
       "      <td>0.0</td>\n",
       "      <td>0.0</td>\n",
       "      <td>0.0</td>\n",
       "      <td>0.000610</td>\n",
       "    </tr>\n",
       "    <tr>\n",
       "      <th>std</th>\n",
       "      <td>1.226021</td>\n",
       "      <td>157.477405</td>\n",
       "      <td>29.794663</td>\n",
       "      <td>1.711031</td>\n",
       "      <td>4.837543</td>\n",
       "      <td>1.488223</td>\n",
       "      <td>0.009331</td>\n",
       "      <td>15.248243</td>\n",
       "      <td>21.407197</td>\n",
       "      <td>0.006598</td>\n",
       "      <td>...</td>\n",
       "      <td>0.017457</td>\n",
       "      <td>0.006598</td>\n",
       "      <td>0.017457</td>\n",
       "      <td>0.034911</td>\n",
       "      <td>0.021883</td>\n",
       "      <td>0.009331</td>\n",
       "      <td>0.0</td>\n",
       "      <td>0.0</td>\n",
       "      <td>0.0</td>\n",
       "      <td>0.026387</td>\n",
       "    </tr>\n",
       "    <tr>\n",
       "      <th>min</th>\n",
       "      <td>1.000000</td>\n",
       "      <td>1.000000</td>\n",
       "      <td>1.000000</td>\n",
       "      <td>1.000000</td>\n",
       "      <td>0.000000</td>\n",
       "      <td>0.000000</td>\n",
       "      <td>0.000000</td>\n",
       "      <td>0.000000</td>\n",
       "      <td>1.000000</td>\n",
       "      <td>0.000000</td>\n",
       "      <td>...</td>\n",
       "      <td>0.000000</td>\n",
       "      <td>0.000000</td>\n",
       "      <td>0.000000</td>\n",
       "      <td>0.000000</td>\n",
       "      <td>0.000000</td>\n",
       "      <td>0.000000</td>\n",
       "      <td>0.0</td>\n",
       "      <td>0.0</td>\n",
       "      <td>0.0</td>\n",
       "      <td>0.000000</td>\n",
       "    </tr>\n",
       "    <tr>\n",
       "      <th>25%</th>\n",
       "      <td>5.000000</td>\n",
       "      <td>31.000000</td>\n",
       "      <td>6.000000</td>\n",
       "      <td>1.000000</td>\n",
       "      <td>1.000000</td>\n",
       "      <td>0.000000</td>\n",
       "      <td>0.000000</td>\n",
       "      <td>1.000000</td>\n",
       "      <td>6.000000</td>\n",
       "      <td>0.000000</td>\n",
       "      <td>...</td>\n",
       "      <td>0.000000</td>\n",
       "      <td>0.000000</td>\n",
       "      <td>0.000000</td>\n",
       "      <td>0.000000</td>\n",
       "      <td>0.000000</td>\n",
       "      <td>0.000000</td>\n",
       "      <td>0.0</td>\n",
       "      <td>0.0</td>\n",
       "      <td>0.0</td>\n",
       "      <td>0.000000</td>\n",
       "    </tr>\n",
       "    <tr>\n",
       "      <th>50%</th>\n",
       "      <td>5.000000</td>\n",
       "      <td>69.000000</td>\n",
       "      <td>13.000000</td>\n",
       "      <td>1.000000</td>\n",
       "      <td>2.000000</td>\n",
       "      <td>0.000000</td>\n",
       "      <td>0.000000</td>\n",
       "      <td>5.000000</td>\n",
       "      <td>12.000000</td>\n",
       "      <td>0.000000</td>\n",
       "      <td>...</td>\n",
       "      <td>0.000000</td>\n",
       "      <td>0.000000</td>\n",
       "      <td>0.000000</td>\n",
       "      <td>0.000000</td>\n",
       "      <td>0.000000</td>\n",
       "      <td>0.000000</td>\n",
       "      <td>0.0</td>\n",
       "      <td>0.0</td>\n",
       "      <td>0.0</td>\n",
       "      <td>0.000000</td>\n",
       "    </tr>\n",
       "    <tr>\n",
       "      <th>75%</th>\n",
       "      <td>5.000000</td>\n",
       "      <td>151.000000</td>\n",
       "      <td>28.000000</td>\n",
       "      <td>3.000000</td>\n",
       "      <td>3.000000</td>\n",
       "      <td>1.000000</td>\n",
       "      <td>0.000000</td>\n",
       "      <td>13.000000</td>\n",
       "      <td>26.000000</td>\n",
       "      <td>0.000000</td>\n",
       "      <td>...</td>\n",
       "      <td>0.000000</td>\n",
       "      <td>0.000000</td>\n",
       "      <td>0.000000</td>\n",
       "      <td>0.000000</td>\n",
       "      <td>0.000000</td>\n",
       "      <td>0.000000</td>\n",
       "      <td>0.0</td>\n",
       "      <td>0.0</td>\n",
       "      <td>0.0</td>\n",
       "      <td>0.000000</td>\n",
       "    </tr>\n",
       "    <tr>\n",
       "      <th>max</th>\n",
       "      <td>5.000000</td>\n",
       "      <td>4894.000000</td>\n",
       "      <td>871.000000</td>\n",
       "      <td>37.000000</td>\n",
       "      <td>166.000000</td>\n",
       "      <td>47.000000</td>\n",
       "      <td>1.000000</td>\n",
       "      <td>438.000000</td>\n",
       "      <td>448.000000</td>\n",
       "      <td>1.000000</td>\n",
       "      <td>...</td>\n",
       "      <td>2.000000</td>\n",
       "      <td>1.000000</td>\n",
       "      <td>2.000000</td>\n",
       "      <td>2.000000</td>\n",
       "      <td>2.000000</td>\n",
       "      <td>1.000000</td>\n",
       "      <td>0.0</td>\n",
       "      <td>0.0</td>\n",
       "      <td>0.0</td>\n",
       "      <td>2.000000</td>\n",
       "    </tr>\n",
       "  </tbody>\n",
       "</table>\n",
       "<p>8 rows × 47 columns</p>\n",
       "</div>"
      ],
      "text/plain": [
       "             rating    char_count    word_count    sent_count  \\\n",
       "count  22968.000000  22968.000000  22968.000000  22968.000000   \n",
       "mean       4.433473    121.877699     22.753701      2.080329   \n",
       "std        1.226021    157.477405     29.794663      1.711031   \n",
       "min        1.000000      1.000000      1.000000      1.000000   \n",
       "25%        5.000000     31.000000      6.000000      1.000000   \n",
       "50%        5.000000     69.000000     13.000000      1.000000   \n",
       "75%        5.000000    151.000000     28.000000      3.000000   \n",
       "max        5.000000   4894.000000    871.000000     37.000000   \n",
       "\n",
       "       capital_char_count  capital_word_count  quoted_word_count  \\\n",
       "count        22968.000000        22968.000000       22968.000000   \n",
       "mean             2.943530            0.565482           0.000087   \n",
       "std              4.837543            1.488223           0.009331   \n",
       "min              0.000000            0.000000           0.000000   \n",
       "25%              1.000000            0.000000           0.000000   \n",
       "50%              2.000000            0.000000           0.000000   \n",
       "75%              3.000000            1.000000           0.000000   \n",
       "max            166.000000           47.000000           1.000000   \n",
       "\n",
       "       stopword_count  unique_word_count    htag_count  ...        [count  \\\n",
       "count    22968.000000       22968.000000  22968.000000  ...  22968.000000   \n",
       "mean        10.032132          19.483063      0.000044  ...      0.000218   \n",
       "std         15.248243          21.407197      0.006598  ...      0.017457   \n",
       "min          0.000000           1.000000      0.000000  ...      0.000000   \n",
       "25%          1.000000           6.000000      0.000000  ...      0.000000   \n",
       "50%          5.000000          12.000000      0.000000  ...      0.000000   \n",
       "75%         13.000000          26.000000      0.000000  ...      0.000000   \n",
       "max        438.000000         448.000000      1.000000  ...      2.000000   \n",
       "\n",
       "             \\count        ]count        ^count        _count        `count  \\\n",
       "count  22968.000000  22968.000000  22968.000000  22968.000000  22968.000000   \n",
       "mean       0.000044      0.000218      0.000610      0.000305      0.000087   \n",
       "std        0.006598      0.017457      0.034911      0.021883      0.009331   \n",
       "min        0.000000      0.000000      0.000000      0.000000      0.000000   \n",
       "25%        0.000000      0.000000      0.000000      0.000000      0.000000   \n",
       "50%        0.000000      0.000000      0.000000      0.000000      0.000000   \n",
       "75%        0.000000      0.000000      0.000000      0.000000      0.000000   \n",
       "max        1.000000      2.000000      2.000000      2.000000      1.000000   \n",
       "\n",
       "        {count   |count   }count        ~count  \n",
       "count  22968.0  22968.0  22968.0  22968.000000  \n",
       "mean       0.0      0.0      0.0      0.000610  \n",
       "std        0.0      0.0      0.0      0.026387  \n",
       "min        0.0      0.0      0.0      0.000000  \n",
       "25%        0.0      0.0      0.0      0.000000  \n",
       "50%        0.0      0.0      0.0      0.000000  \n",
       "75%        0.0      0.0      0.0      0.000000  \n",
       "max        0.0      0.0      0.0      2.000000  \n",
       "\n",
       "[8 rows x 47 columns]"
      ]
     },
     "execution_count": 36,
     "metadata": {},
     "output_type": "execute_result"
    }
   ],
   "source": [
    "df_test1.describe()"
   ]
  },
  {
   "cell_type": "markdown",
   "id": "52febf20",
   "metadata": {},
   "source": [
    "### B) Preprocessing methodology"
   ]
  },
  {
   "cell_type": "code",
   "execution_count": 37,
   "id": "3fb139ea",
   "metadata": {},
   "outputs": [],
   "source": [
    "# transform emojis into words\n",
    "def emo_trans(text):\n",
    "    text=emoji.demojize(text)\n",
    "    text=text.replace(\":\",\" \")\n",
    "    text=' '.join(text.split())\n",
    "    return text"
   ]
  },
  {
   "cell_type": "code",
   "execution_count": 38,
   "id": "50b234d6",
   "metadata": {},
   "outputs": [],
   "source": [
    "# correct mispelling words\n",
    "class Solution:\n",
    "    def solve(self, s):\n",
    "        seen = s[0]\n",
    "        ans = s[0]\n",
    "        for i in s[1:]:\n",
    "            if i != seen:\n",
    "                ans += i\n",
    "                seen = i\n",
    "        return ans"
   ]
  },
  {
   "cell_type": "code",
   "execution_count": 39,
   "id": "7a48fe00",
   "metadata": {},
   "outputs": [],
   "source": [
    "ob = Solution()"
   ]
  },
  {
   "cell_type": "code",
   "execution_count": 50,
   "id": "e2c6b1f7",
   "metadata": {},
   "outputs": [],
   "source": [
    "def preprocessing(text):\n",
    "    text=text.lower() # to put in lower case\n",
    "    text=' '.join(text.split()) # to remove extra white spaces (whichever how many)\n",
    "    text=re.sub(\"'\", \"\", text) # to avoid removing contractions in english\n",
    "    text=emo_trans(text) # to transform emojis into words\n",
    "    text=re.sub(\"@[A-Za-z0-9_]+\",\"\", text) # to remove mentions\n",
    "    text=re.sub(\"#[A-Za-z0-9_]+\",\"\", text) # to remove hashtags\n",
    "    text=re.sub(r\"http\\S+\", \"\", text) # to remove urls\n",
    "    text=re.sub(r\"www.\\S+\", \"\", text) # to remove urls\n",
    "    text=re.sub('((www.[^s]+)|(https?://[^s]+))',' ',text) # to remove urls - 3rd version\n",
    "    text=re.sub(\"[^a-z0-9]\",\" \", text) # to remove non-alphanumerical characters\n",
    "    tokens = word_tokenize(text) # to tokenize\n",
    "    tokens_no_punctuation = [t for t in tokens if t.isalpha()]\n",
    "    tokens_no_stop = [t for t in tokens_no_punctuation if t not in stopwords]\n",
    "    lemmatizer = WordNetLemmatizer()\n",
    "    token_lem = [lemmatizer.lemmatize(t) for t in tokens_no_stop]\n",
    "    return token_lem"
   ]
  },
  {
   "cell_type": "markdown",
   "id": "6d18a743",
   "metadata": {},
   "source": [
    "### C) Separating reviews per rating level"
   ]
  },
  {
   "cell_type": "code",
   "execution_count": 42,
   "id": "d2d96528",
   "metadata": {},
   "outputs": [
    {
     "data": {
      "text/plain": [
       "(1971, 49)"
      ]
     },
     "execution_count": 42,
     "metadata": {},
     "output_type": "execute_result"
    }
   ],
   "source": [
    "# df with 1-star reviews\n",
    "df_1star = df_test1.loc[df_test1['rating']==1]\n",
    "df_1star.shape"
   ]
  },
  {
   "cell_type": "code",
   "execution_count": 43,
   "id": "499388b9",
   "metadata": {},
   "outputs": [
    {
     "data": {
      "text/plain": [
       "(597, 49)"
      ]
     },
     "execution_count": 43,
     "metadata": {},
     "output_type": "execute_result"
    }
   ],
   "source": [
    "# df with 2-star reviews\n",
    "df_2star = df_test1.loc[df_test1['rating']==2]\n",
    "df_2star.shape"
   ]
  },
  {
   "cell_type": "code",
   "execution_count": 44,
   "id": "bcb9bbc8",
   "metadata": {},
   "outputs": [
    {
     "data": {
      "text/plain": [
       "(824, 49)"
      ]
     },
     "execution_count": 44,
     "metadata": {},
     "output_type": "execute_result"
    }
   ],
   "source": [
    "# df with 3-star reviews\n",
    "df_3star = df_test1.loc[df_test1['rating']==3]\n",
    "df_3star.shape"
   ]
  },
  {
   "cell_type": "code",
   "execution_count": 45,
   "id": "4faeb7b9",
   "metadata": {},
   "outputs": [
    {
     "data": {
      "text/plain": [
       "(1689, 49)"
      ]
     },
     "execution_count": 45,
     "metadata": {},
     "output_type": "execute_result"
    }
   ],
   "source": [
    "# df with 4-star reviews\n",
    "df_4star = df_test1.loc[df_test1['rating']==4]\n",
    "df_4star.shape"
   ]
  },
  {
   "cell_type": "code",
   "execution_count": 46,
   "id": "d06383ae",
   "metadata": {},
   "outputs": [
    {
     "data": {
      "text/plain": [
       "(17887, 49)"
      ]
     },
     "execution_count": 46,
     "metadata": {},
     "output_type": "execute_result"
    }
   ],
   "source": [
    "# df with 5-star reviews\n",
    "df_5star = df_test1.loc[df_test1['rating']==5]\n",
    "df_5star.shape"
   ]
  },
  {
   "cell_type": "markdown",
   "id": "e73e4376",
   "metadata": {},
   "source": [
    "### D) Preprocessing per rating level"
   ]
  },
  {
   "cell_type": "code",
   "execution_count": 51,
   "id": "d58f3782",
   "metadata": {},
   "outputs": [
    {
     "name": "stderr",
     "output_type": "stream",
     "text": [
      "/tmp/ipykernel_12154/1628422556.py:1: SettingWithCopyWarning: \n",
      "A value is trying to be set on a copy of a slice from a DataFrame.\n",
      "Try using .loc[row_indexer,col_indexer] = value instead\n",
      "\n",
      "See the caveats in the documentation: https://pandas.pydata.org/pandas-docs/stable/user_guide/indexing.html#returning-a-view-versus-a-copy\n",
      "  df_1star['preprocessed_content'] = df_1star['review_content'].apply(lambda x:preprocessing(x))\n"
     ]
    }
   ],
   "source": [
    "df_1star['preprocessed_content'] = df_1star['review_content'].apply(lambda x:preprocessing(x))"
   ]
  },
  {
   "cell_type": "code",
   "execution_count": 52,
   "id": "1de926d9",
   "metadata": {},
   "outputs": [
    {
     "name": "stderr",
     "output_type": "stream",
     "text": [
      "/tmp/ipykernel_12154/1473656066.py:1: SettingWithCopyWarning: \n",
      "A value is trying to be set on a copy of a slice from a DataFrame.\n",
      "Try using .loc[row_indexer,col_indexer] = value instead\n",
      "\n",
      "See the caveats in the documentation: https://pandas.pydata.org/pandas-docs/stable/user_guide/indexing.html#returning-a-view-versus-a-copy\n",
      "  df_2star['preprocessed_content'] = df_2star['review_content'].apply(lambda x:preprocessing(x))\n"
     ]
    }
   ],
   "source": [
    "df_2star['preprocessed_content'] = df_2star['review_content'].apply(lambda x:preprocessing(x))"
   ]
  },
  {
   "cell_type": "code",
   "execution_count": 53,
   "id": "d9bb2464",
   "metadata": {},
   "outputs": [
    {
     "name": "stderr",
     "output_type": "stream",
     "text": [
      "/tmp/ipykernel_12154/2686776771.py:1: SettingWithCopyWarning: \n",
      "A value is trying to be set on a copy of a slice from a DataFrame.\n",
      "Try using .loc[row_indexer,col_indexer] = value instead\n",
      "\n",
      "See the caveats in the documentation: https://pandas.pydata.org/pandas-docs/stable/user_guide/indexing.html#returning-a-view-versus-a-copy\n",
      "  df_3star['preprocessed_content'] = df_3star['review_content'].apply(lambda x:preprocessing(x))\n"
     ]
    }
   ],
   "source": [
    "df_3star['preprocessed_content'] = df_3star['review_content'].apply(lambda x:preprocessing(x))"
   ]
  },
  {
   "cell_type": "code",
   "execution_count": 54,
   "id": "24fb8ac7",
   "metadata": {},
   "outputs": [
    {
     "name": "stderr",
     "output_type": "stream",
     "text": [
      "/tmp/ipykernel_12154/2532790944.py:1: SettingWithCopyWarning: \n",
      "A value is trying to be set on a copy of a slice from a DataFrame.\n",
      "Try using .loc[row_indexer,col_indexer] = value instead\n",
      "\n",
      "See the caveats in the documentation: https://pandas.pydata.org/pandas-docs/stable/user_guide/indexing.html#returning-a-view-versus-a-copy\n",
      "  df_4star['preprocessed_content'] = df_4star['review_content'].apply(lambda x:preprocessing(x))\n"
     ]
    }
   ],
   "source": [
    "df_4star['preprocessed_content'] = df_4star['review_content'].apply(lambda x:preprocessing(x))"
   ]
  },
  {
   "cell_type": "code",
   "execution_count": 55,
   "id": "07f2580c",
   "metadata": {},
   "outputs": [
    {
     "name": "stderr",
     "output_type": "stream",
     "text": [
      "/tmp/ipykernel_12154/3425218650.py:1: SettingWithCopyWarning: \n",
      "A value is trying to be set on a copy of a slice from a DataFrame.\n",
      "Try using .loc[row_indexer,col_indexer] = value instead\n",
      "\n",
      "See the caveats in the documentation: https://pandas.pydata.org/pandas-docs/stable/user_guide/indexing.html#returning-a-view-versus-a-copy\n",
      "  df_5star['preprocessed_content'] = df_5star['review_content'].apply(lambda x:preprocessing(x))\n"
     ]
    }
   ],
   "source": [
    "df_5star['preprocessed_content'] = df_5star['review_content'].apply(lambda x:preprocessing(x))"
   ]
  },
  {
   "cell_type": "code",
   "execution_count": null,
   "id": "c8268bea",
   "metadata": {},
   "outputs": [],
   "source": []
  },
  {
   "cell_type": "code",
   "execution_count": null,
   "id": "e1cbb736",
   "metadata": {},
   "outputs": [],
   "source": []
  },
  {
   "cell_type": "markdown",
   "id": "6c37a3c1",
   "metadata": {},
   "source": [
    "### E) TF-IDF"
   ]
  },
  {
   "cell_type": "markdown",
   "id": "1e192499",
   "metadata": {},
   "source": [
    "extracting features from text is to use the bag of words model: a model where for each document, a complaint narrative in our case, the presence (and often the frequency) of words is taken into consideration, but the order in which they occur is ignored.\n",
    "\n",
    "Specifically, for each term in our dataset, we will calculate a measure called Term Frequency, Inverse Document Frequency, abbreviated to tf-idf. We will use sklearn.feature_extraction.text.TfidfVectorizer to calculate a tf-idf vector for each of consumer complaint narratives:"
   ]
  },
  {
   "cell_type": "code",
   "execution_count": 56,
   "id": "01d5c445",
   "metadata": {},
   "outputs": [],
   "source": [
    "tfidf = TfidfVectorizer(sublinear_tf=True, min_df=5, norm='l2', encoding='latin-1', ngram_range=(1, 4), stop_words='english')\n",
    "features_1star = tfidf.fit_transform(df_1star['review_content']).toarray()\n",
    "labels_1star = df_1star['rating']\n",
    "#features.shape"
   ]
  },
  {
   "cell_type": "code",
   "execution_count": 57,
   "id": "3dfa07ec-01ac-4855-8af9-df5407b0d174",
   "metadata": {},
   "outputs": [],
   "source": [
    "features_2star = tfidf.fit_transform(df_2star['review_content']).toarray()\n",
    "labels_2star = df_2star['rating']"
   ]
  },
  {
   "cell_type": "code",
   "execution_count": 58,
   "id": "ce531b1f-e318-471b-9c05-ea76cab17a16",
   "metadata": {},
   "outputs": [],
   "source": [
    "features_3star = tfidf.fit_transform(df_3star['review_content']).toarray()\n",
    "labels_3star = df_3star['rating']"
   ]
  },
  {
   "cell_type": "code",
   "execution_count": 59,
   "id": "74df162b-021d-499a-8b70-7cabf6441511",
   "metadata": {},
   "outputs": [],
   "source": [
    "features_4star = tfidf.fit_transform(df_4star['review_content']).toarray()\n",
    "labels_4star = df_4star['rating']"
   ]
  },
  {
   "cell_type": "code",
   "execution_count": 60,
   "id": "f62b8d4c-3ac9-4f27-91f3-e5900ad09eba",
   "metadata": {},
   "outputs": [],
   "source": [
    "features_5star = tfidf.fit_transform(df_5star['review_content']).toarray()\n",
    "labels_5star = df_5star['rating']"
   ]
  },
  {
   "cell_type": "markdown",
   "id": "f42f079d",
   "metadata": {},
   "source": [
    "Now, each of 22968 consumer reviews narratives is represented by 8728 features, representing the tf-idf score for different unigrams and bigrams."
   ]
  },
  {
   "cell_type": "markdown",
   "id": "65f7c779",
   "metadata": {},
   "source": [
    "### F) Concatenation"
   ]
  },
  {
   "cell_type": "code",
   "execution_count": 72,
   "id": "bc91d300-4856-4909-bbce-8c284ea278a2",
   "metadata": {},
   "outputs": [],
   "source": [
    "df_prep = pd.concat([df_1star,df_2star,df_3star,df_4star,df_5star], axis=0)"
   ]
  },
  {
   "cell_type": "code",
   "execution_count": 73,
   "id": "fdf13f8d-11e4-4dbe-99f6-52d3ef33b744",
   "metadata": {},
   "outputs": [],
   "source": [
    "features_prep = tfidf.fit_transform(df_prep['review_content']).toarray()\n",
    "labels_prep = df_prep['rating']"
   ]
  },
  {
   "cell_type": "markdown",
   "id": "af641df0",
   "metadata": {},
   "source": [
    "### G) N-grams"
   ]
  },
  {
   "cell_type": "markdown",
   "id": "8f96a2f4",
   "metadata": {},
   "source": [
    "We can use sklearn.feature_selection.chi2 to find the terms that are the most correlated with each of the rating_label:"
   ]
  },
  {
   "cell_type": "code",
   "execution_count": 80,
   "id": "9feda68e",
   "metadata": {
    "tags": []
   },
   "outputs": [
    {
     "name": "stdout",
     "output_type": "stream",
     "text": [
      "# '3        2\n",
      "4        2\n",
      "4        2\n",
      "7        2\n",
      "14       2\n",
      "        ..\n",
      "19804    2\n",
      "19808    2\n",
      "19816    2\n",
      "19830    2\n",
      "19840    2\n",
      "Name: rating, Length: 597, dtype: int64' star :\n",
      "  . Most correlated unigrams:\n",
      ". addicted\n",
      ". addictive\n",
      ". adding\n",
      ". addition\n",
      ". additional\n",
      "  . Most correlated bigrams:\n",
      ". add option\n",
      ". added app\n",
      ". added bonus\n",
      ". actually available\n",
      ". app lovely\n",
      "  . Most correlated trigrams:\n",
      ". absolutely fantastic app\n",
      ". absolutely fantastic idea\n",
      ". absolutely great app\n",
      ". absolutely love app\n",
      ". absolutely love idea\n",
      "  . Most correlated quadrigrams:\n",
      ". amazing app easy use\n",
      ". amazing app great food\n",
      ". amazing app great idea\n",
      ". amazing app amazing idea\n",
      ". app love saving food\n"
     ]
    }
   ],
   "source": [
    "N = 5 #top x associated words to be displayed\n",
    "#for rating_label, rating in sorted(ratinglabel1_to_id.items()):\n",
    "features_chi2_2star = chi2(features_2star, labels_2star) # == rating\n",
    "indices = np.argsort(features_chi2_2star[0])\n",
    "feature_names = np.array(tfidf.get_feature_names_out())[indices]\n",
    "unigrams = [v for v in feature_names if len(v.split(' ')) == 1]\n",
    "bigrams = [v for v in feature_names if len(v.split(' ')) == 2]\n",
    "trigrams = [v for v in feature_names if len(v.split(' ')) == 3]\n",
    "quadrigrams = [v for v in feature_names if len(v.split(' ')) == 4]\n",
    "print(\"# '{}' star :\".format(labels_2star))\n",
    "print(\"  . Most correlated unigrams:\\n. {}\".format('\\n. '.join(unigrams[-N:])))\n",
    "print(\"  . Most correlated bigrams:\\n. {}\".format('\\n. '.join(bigrams[-N:])))\n",
    "print(\"  . Most correlated trigrams:\\n. {}\".format('\\n. '.join(trigrams[-N:])))\n",
    "print(\"  . Most correlated quadrigrams:\\n. {}\".format('\\n. '.join(quadrigrams[-N:])))"
   ]
  },
  {
   "cell_type": "code",
   "execution_count": 75,
   "id": "175a33a5",
   "metadata": {},
   "outputs": [
    {
     "name": "stdout",
     "output_type": "stream",
     "text": [
      "# '1' star :\n",
      "  . Most correlated unigrams:\n",
      ". scam\n",
      ". cancelled\n",
      ". sold\n",
      ". useless\n",
      ". rubbish\n",
      "  . Most correlated bigrams:\n",
      ". complete waste\n",
      ". don bother\n",
      ". time money\n",
      ". doesn work\n",
      ". waste time\n",
      "  . Most correlated trigrams:\n",
      ". app doesn work\n",
      ". total waste time\n",
      ". don waste time\n",
      ". complete waste time\n",
      ". waste time money\n",
      "# '2' star :\n",
      "  . Most correlated unigrams:\n",
      ". poor\n",
      ". update\n",
      ". notifications\n",
      ". explanation\n",
      ". sucks\n",
      "  . Most correlated bigrams:\n",
      ". didn work\n",
      ". make sense\n",
      ". near live\n",
      ". needs lot\n",
      ". nice idea\n",
      "  . Most correlated trigrams:\n",
      ". time open app\n",
      ". nice app great\n",
      ". app does allow\n",
      ". twice order cancelled\n",
      ". poor customer service\n",
      "# '3' star :\n",
      "  . Most correlated unigrams:\n",
      ". translate\n",
      ". available\n",
      ". ok\n",
      ". option\n",
      ". okay\n",
      "  . Most correlated bigrams:\n",
      ". closest place\n",
      ". new york\n",
      ". vegetarian options\n",
      ". idea area\n",
      ". mixed experience\n",
      "  . Most correlated trigrams:\n",
      ". looks like great\n",
      ". idea needs work\n",
      ". app just doesn\n",
      ". managed magic bag\n",
      ". great idea unfortunately\n",
      "# '4' star :\n",
      "  . Most correlated unigrams:\n",
      ". stars\n",
      ". improved\n",
      ". stores\n",
      ". notifications\n",
      ". search\n",
      "  . Most correlated bigrams:\n",
      ". stores area\n",
      ". favourite stores\n",
      ". need stores\n",
      ". good app\n",
      ". sort time\n",
      "  . Most correlated trigrams:\n",
      ". good great idea\n",
      ". notifications don work\n",
      ". great idea hopefully\n",
      ". wish places area\n",
      ". overall good app\n",
      "# '5' star :\n",
      "  . Most correlated unigrams:\n",
      ". area\n",
      ". don\n",
      ". cancelled\n",
      ". sold\n",
      ". available\n",
      "  . Most correlated bigrams:\n",
      ". miles away\n",
      ". order cancelled\n",
      ". great app\n",
      ". doesn work\n",
      ". waste time\n",
      "  . Most correlated trigrams:\n",
      ". total waste time\n",
      ". app doesn work\n",
      ". don waste time\n",
      ". complete waste time\n",
      ". waste time money\n"
     ]
    }
   ],
   "source": [
    "N = 5 #top x associated words to be displayed\n",
    "for rating_label, rating in sorted(ratinglabel1_to_id.items()):\n",
    "    features_chi2_prep = chi2(features_prep, labels_prep == rating)\n",
    "    indices = np.argsort(features_chi2_prep[0])\n",
    "    feature_names = np.array(tfidf.get_feature_names_out())[indices]\n",
    "    unigrams = [v for v in feature_names if len(v.split(' ')) == 1]\n",
    "    bigrams = [v for v in feature_names if len(v.split(' ')) == 2]\n",
    "    trigrams = [v for v in feature_names if len(v.split(' ')) == 3]\n",
    "    print(\"# '{}' star :\".format(rating))\n",
    "    print(\"  . Most correlated unigrams:\\n. {}\".format('\\n. '.join(unigrams[-N:])))\n",
    "    print(\"  . Most correlated bigrams:\\n. {}\".format('\\n. '.join(bigrams[-N:])))\n",
    "    print(\"  . Most correlated trigrams:\\n. {}\".format('\\n. '.join(trigrams[-N:])))"
   ]
  },
  {
   "cell_type": "code",
   "execution_count": null,
   "id": "79a0bd22-f95b-4956-a170-86608ccec1b6",
   "metadata": {},
   "outputs": [],
   "source": []
  },
  {
   "cell_type": "code",
   "execution_count": null,
   "id": "77582fe4-0336-48a4-954a-b75af79c43c4",
   "metadata": {},
   "outputs": [],
   "source": []
  },
  {
   "cell_type": "code",
   "execution_count": null,
   "id": "18a4cbd4-5a8f-47dc-9f66-181809644fbc",
   "metadata": {},
   "outputs": [],
   "source": []
  },
  {
   "cell_type": "code",
   "execution_count": null,
   "id": "0f61430f",
   "metadata": {},
   "outputs": [],
   "source": []
  },
  {
   "cell_type": "code",
   "execution_count": null,
   "id": "0f8119b8",
   "metadata": {},
   "outputs": [],
   "source": []
  },
  {
   "cell_type": "code",
   "execution_count": null,
   "id": "bf825cb9",
   "metadata": {},
   "outputs": [],
   "source": []
  },
  {
   "cell_type": "code",
   "execution_count": null,
   "id": "cc0ce9b6",
   "metadata": {},
   "outputs": [],
   "source": []
  },
  {
   "cell_type": "code",
   "execution_count": null,
   "id": "a2337f66",
   "metadata": {},
   "outputs": [],
   "source": []
  },
  {
   "cell_type": "code",
   "execution_count": null,
   "id": "c2c7a163",
   "metadata": {},
   "outputs": [],
   "source": []
  },
  {
   "cell_type": "markdown",
   "id": "9d09255a",
   "metadata": {},
   "source": [
    "# Phase 2 => Topic Classification"
   ]
  },
  {
   "cell_type": "markdown",
   "id": "1d30a608",
   "metadata": {},
   "source": [
    "### Step 1 - Dataset augmentation"
   ]
  },
  {
   "cell_type": "code",
   "execution_count": 86,
   "id": "09430d59",
   "metadata": {},
   "outputs": [
    {
     "name": "stdout",
     "output_type": "stream",
     "text": [
      "Counter({'5 - awesome': 17887, '1 - awful': 1971, '4 - good': 1689, '3 - neutral': 824, '2 - bad': 597})\n",
      "Counter({'5 - awesome': 17887, '1 - awful': 3445, '2 - bad': 3445, '3 - neutral': 3445, '4 - good': 3445})\n",
      "Counter({'5 - awesome': 9188, '1 - awful': 3445, '2 - bad': 3445, '3 - neutral': 3445, '4 - good': 3445})\n"
     ]
    }
   ],
   "source": [
    "# example of combining random oversampling and undersampling for imbalanced data\n",
    "from collections import Counter\n",
    "from imblearn.over_sampling import RandomOverSampler\n",
    "from imblearn.under_sampling import RandomUnderSampler\n",
    "# define dataset\n",
    "X = df_prep.drop(columns=[\"rating\",\"rating_label\"])\n",
    "y = df_prep[\"rating_label\"]\n",
    "# summarize initial class distribution\n",
    "print(Counter(y))\n",
    "# define oversampling strategy\n",
    "sampling_strategy = {'1 - awful': 3445, '2 - bad': 3445, '3 - neutral': 3445, '4 - good':3445}\n",
    "over = RandomOverSampler(sampling_strategy=sampling_strategy)\n",
    "# fit and apply the transform\n",
    "X, y = over.fit_resample(X, y)\n",
    "# summarize re-worked class distribution\n",
    "print(Counter(y))\n",
    "# define undersampling strategy\n",
    "sampling_strategy = {'5 - awesome':9188}\n",
    "under = RandomUnderSampler(sampling_strategy=sampling_strategy)\n",
    "# fit and apply the transform\n",
    "X, y = under.fit_resample(X, y)\n",
    "# summarize final class distribution\n",
    "print(Counter(y))"
   ]
  },
  {
   "cell_type": "markdown",
   "id": "9ed16443",
   "metadata": {},
   "source": [
    "### Step 2 - Dataset splitting between train/test/validation"
   ]
  },
  {
   "cell_type": "code",
   "execution_count": 88,
   "id": "c9face3a",
   "metadata": {},
   "outputs": [
    {
     "name": "stdout",
     "output_type": "stream",
     "text": [
      "X_train shape: (13780, 48)\n",
      "X_test shape: (4594, 48)\n",
      "y_train shape: (13780,)\n",
      "y_test shape: (4594,)\n",
      "X_val shape: (4594, 48)\n",
      "y_val shape: (4594,)\n"
     ]
    }
   ],
   "source": [
    "# set aside 20% of train and test data for evaluation\n",
    "X_train, X_test, y_train, y_test = train_test_split(X, y, stratify= y, test_size=0.2, shuffle = True, \n",
    "                                                    random_state = 8)\n",
    "\n",
    "# Use the same function above for the validation set\n",
    "X_train, X_val, y_train, y_val = train_test_split(X_train, y_train, stratify= y_train, test_size=0.25, random_state= 8) # 0.25 x 0.8 = 0.2\n",
    "\n",
    "\n",
    "print(\"X_train shape: {}\".format(X_train.shape))\n",
    "print(\"X_test shape: {}\".format(X_test.shape))\n",
    "print(\"y_train shape: {}\".format(y_train.shape))\n",
    "print(\"y_test shape: {}\".format(y_test.shape))\n",
    "print(\"X_val shape: {}\".format(X_val.shape))\n",
    "print(\"y_val shape: {}\".format(y_val.shape))"
   ]
  },
  {
   "cell_type": "code",
   "execution_count": 89,
   "id": "f5958d8e",
   "metadata": {},
   "outputs": [
    {
     "data": {
      "text/plain": [
       "5 - awesome    40.0\n",
       "4 - good       15.0\n",
       "2 - bad        15.0\n",
       "3 - neutral    15.0\n",
       "1 - awful      15.0\n",
       "Name: rating_label, dtype: float64"
      ]
     },
     "execution_count": 89,
     "metadata": {},
     "output_type": "execute_result"
    }
   ],
   "source": [
    "y_train.value_counts()/y_train.shape[0]*100"
   ]
  },
  {
   "cell_type": "code",
   "execution_count": 90,
   "id": "3b63e265",
   "metadata": {},
   "outputs": [
    {
     "data": {
      "text/plain": [
       "5 - awesome    40.008707\n",
       "1 - awful      14.997823\n",
       "4 - good       14.997823\n",
       "2 - bad        14.997823\n",
       "3 - neutral    14.997823\n",
       "Name: rating_label, dtype: float64"
      ]
     },
     "execution_count": 90,
     "metadata": {},
     "output_type": "execute_result"
    }
   ],
   "source": [
    "y_test.value_counts()/y_test.shape[0]*100"
   ]
  },
  {
   "cell_type": "code",
   "execution_count": 91,
   "id": "e274f487",
   "metadata": {},
   "outputs": [
    {
     "data": {
      "text/plain": [
       "5 - awesome    40.008707\n",
       "2 - bad        14.997823\n",
       "1 - awful      14.997823\n",
       "3 - neutral    14.997823\n",
       "4 - good       14.997823\n",
       "Name: rating_label, dtype: float64"
      ]
     },
     "execution_count": 91,
     "metadata": {},
     "output_type": "execute_result"
    }
   ],
   "source": [
    "y_val.value_counts()/y_val.shape[0]*100"
   ]
  },
  {
   "cell_type": "markdown",
   "id": "793bab0f",
   "metadata": {},
   "source": [
    "### Step 3 - ML Classifications applied"
   ]
  },
  {
   "cell_type": "markdown",
   "id": "abd5536a",
   "metadata": {},
   "source": [
    "We are now ready to experiment with different machine learning models, evaluate their accuracy and find the source of any potential issues.\n",
    "\n",
    "We will benchmark the following 5 models:\n",
    "\n",
    "- Logistic Regression\n",
    "- (Multinomial) Naive Bayes\n",
    "- Linear Support Vector Machine\n",
    "- Random Forest\n",
    "- K-Nearest Neighbor (KNN)"
   ]
  },
  {
   "cell_type": "code",
   "execution_count": 93,
   "id": "2fc69fb2",
   "metadata": {},
   "outputs": [
    {
     "name": "stderr",
     "output_type": "stream",
     "text": [
      "/home/roxane/.pyenv/versions/3.9.7/lib/python3.9/site-packages/sklearn/linear_model/_logistic.py:814: ConvergenceWarning: lbfgs failed to converge (status=1):\n",
      "STOP: TOTAL NO. of ITERATIONS REACHED LIMIT.\n",
      "\n",
      "Increase the number of iterations (max_iter) or scale the data as shown in:\n",
      "    https://scikit-learn.org/stable/modules/preprocessing.html\n",
      "Please also refer to the documentation for alternative solver options:\n",
      "    https://scikit-learn.org/stable/modules/linear_model.html#logistic-regression\n",
      "  n_iter_i = _check_optimize_result(\n",
      "/home/roxane/.pyenv/versions/3.9.7/lib/python3.9/site-packages/sklearn/linear_model/_logistic.py:814: ConvergenceWarning: lbfgs failed to converge (status=1):\n",
      "STOP: TOTAL NO. of ITERATIONS REACHED LIMIT.\n",
      "\n",
      "Increase the number of iterations (max_iter) or scale the data as shown in:\n",
      "    https://scikit-learn.org/stable/modules/preprocessing.html\n",
      "Please also refer to the documentation for alternative solver options:\n",
      "    https://scikit-learn.org/stable/modules/linear_model.html#logistic-regression\n",
      "  n_iter_i = _check_optimize_result(\n",
      "/home/roxane/.pyenv/versions/3.9.7/lib/python3.9/site-packages/sklearn/linear_model/_logistic.py:814: ConvergenceWarning: lbfgs failed to converge (status=1):\n",
      "STOP: TOTAL NO. of ITERATIONS REACHED LIMIT.\n",
      "\n",
      "Increase the number of iterations (max_iter) or scale the data as shown in:\n",
      "    https://scikit-learn.org/stable/modules/preprocessing.html\n",
      "Please also refer to the documentation for alternative solver options:\n",
      "    https://scikit-learn.org/stable/modules/linear_model.html#logistic-regression\n",
      "  n_iter_i = _check_optimize_result(\n",
      "/home/roxane/.pyenv/versions/3.9.7/lib/python3.9/site-packages/sklearn/linear_model/_logistic.py:814: ConvergenceWarning: lbfgs failed to converge (status=1):\n",
      "STOP: TOTAL NO. of ITERATIONS REACHED LIMIT.\n",
      "\n",
      "Increase the number of iterations (max_iter) or scale the data as shown in:\n",
      "    https://scikit-learn.org/stable/modules/preprocessing.html\n",
      "Please also refer to the documentation for alternative solver options:\n",
      "    https://scikit-learn.org/stable/modules/linear_model.html#logistic-regression\n",
      "  n_iter_i = _check_optimize_result(\n",
      "/home/roxane/.pyenv/versions/3.9.7/lib/python3.9/site-packages/sklearn/linear_model/_logistic.py:814: ConvergenceWarning: lbfgs failed to converge (status=1):\n",
      "STOP: TOTAL NO. of ITERATIONS REACHED LIMIT.\n",
      "\n",
      "Increase the number of iterations (max_iter) or scale the data as shown in:\n",
      "    https://scikit-learn.org/stable/modules/preprocessing.html\n",
      "Please also refer to the documentation for alternative solver options:\n",
      "    https://scikit-learn.org/stable/modules/linear_model.html#logistic-regression\n",
      "  n_iter_i = _check_optimize_result(\n"
     ]
    },
    {
     "data": {
      "image/png": "[encoded data removed]",
      "text/plain": [
       "<Figure size 432x288 with 1 Axes>"
      ]
     },
     "metadata": {
      "needs_background": "light"
     },
     "output_type": "display_data"
    }
   ],
   "source": [
    "models = [\n",
    "    RandomForestClassifier(n_estimators=200, max_depth=3, random_state=0),\n",
    "    KNeighborsClassifier(n_neighbors = 5),\n",
    "    LinearSVC(),\n",
    "    MultinomialNB(),\n",
    "    LogisticRegression(random_state=0),\n",
    "]\n",
    "\n",
    "CV = 5 #nb of model\n",
    "cv_df = pd.DataFrame(index=range(CV * len(models)))\n",
    "entries = []\n",
    "\n",
    "for model in models:\n",
    "    model_name = model.__class__.__name__\n",
    "    accuracies = cross_val_score(model, features_prep, labels_prep, scoring='accuracy', cv=CV)\n",
    "    for fold_idx, accuracy in enumerate(accuracies):\n",
    "        entries.append((model_name, fold_idx, accuracy))\n",
    "        \n",
    "cv_df = pd.DataFrame(entries, columns=['model_name', 'fold_idx', 'accuracy'])\n",
    "\n",
    "\n",
    "\n",
    "sns.boxplot(x='model_name', y='accuracy', data=cv_df)\n",
    "sns.stripplot(x='model_name', y='accuracy', data=cv_df, \n",
    "              size=8, jitter=True, edgecolor=\"gray\", linewidth=2)\n",
    "plt.show()"
   ]
  },
  {
   "cell_type": "code",
   "execution_count": 94,
   "id": "f7e2b1fe",
   "metadata": {},
   "outputs": [
    {
     "data": {
      "text/plain": [
       "model_name\n",
       "KNeighborsClassifier      0.775166\n",
       "LinearSVC                 0.832157\n",
       "LogisticRegression        0.835989\n",
       "MultinomialNB             0.829066\n",
       "RandomForestClassifier    0.778779\n",
       "Name: accuracy, dtype: float64"
      ]
     },
     "execution_count": 94,
     "metadata": {},
     "output_type": "execute_result"
    }
   ],
   "source": [
    "cv_df.groupby('model_name').accuracy.mean()"
   ]
  },
  {
   "cell_type": "markdown",
   "id": "3788a55d",
   "metadata": {},
   "source": [
    "### Step 4 - Performance ML Classification models comparison"
   ]
  },
  {
   "cell_type": "markdown",
   "id": "c1bb0c69",
   "metadata": {},
   "source": [
    "2 models seem to perform well : SVC & Logistic regression.\n",
    "We are going to look deeper in their performance."
   ]
  },
  {
   "cell_type": "code",
   "execution_count": 96,
   "id": "4ab531eb",
   "metadata": {},
   "outputs": [
    {
     "data": {
      "image/png": "[encoded data removed]",
      "text/plain": [
       "<Figure size 720x720 with 2 Axes>"
      ]
     },
     "metadata": {
      "needs_background": "light"
     },
     "output_type": "display_data"
    }
   ],
   "source": [
    "model = LinearSVC() \n",
    "X_train, X_test, y_train, y_test, indices_train, indices_test = train_test_split(features_prep, labels_prep, df_prep.index, test_size=0.2, random_state=0)\n",
    "model.fit(X_train, y_train)\n",
    "y_pred = model.predict(X_test)\n",
    "\n",
    "X_train, X_val, y_train, y_val, indices_train, indices_val = train_test_split(features_prep, labels_prep, df_prep.index, test_size=0.2, random_state=0)\n",
    "model.fit(X_train, y_train)\n",
    "y_pred = model.predict(X_val)\n",
    "\n",
    "#from sklearn.metrics import confusion_matrix\n",
    "conf_mat = confusion_matrix(y_test, y_pred)\n",
    "fig, ax = plt.subplots(figsize=(10,10))\n",
    "sns.heatmap(conf_mat, annot=True, fmt='d',\n",
    "            xticklabels=rating1_df['rating'].values, yticklabels=rating1_df['rating'].values)\n",
    "plt.ylabel('Actual')\n",
    "plt.xlabel('Predicted')\n",
    "plt.show()"
   ]
  },
  {
   "cell_type": "code",
   "execution_count": 98,
   "id": "f174a300",
   "metadata": {},
   "outputs": [
    {
     "name": "stdout",
     "output_type": "stream",
     "text": [
      "              precision    recall  f1-score   support\n",
      "\n",
      "           1       0.67      0.67      0.67       403\n",
      "           2       0.21      0.06      0.09       140\n",
      "           3       0.23      0.12      0.16       156\n",
      "           4       0.36      0.16      0.22       331\n",
      "           5       0.89      0.98      0.93      3564\n",
      "\n",
      "    accuracy                           0.83      4594\n",
      "   macro avg       0.47      0.40      0.41      4594\n",
      "weighted avg       0.79      0.83      0.80      4594\n",
      "\n"
     ]
    }
   ],
   "source": [
    "print(classification_report(y_test, y_pred))"
   ]
  },
  {
   "cell_type": "code",
   "execution_count": 99,
   "id": "d629dba6",
   "metadata": {},
   "outputs": [
    {
     "name": "stderr",
     "output_type": "stream",
     "text": [
      "/home/roxane/.pyenv/versions/3.9.7/lib/python3.9/site-packages/sklearn/linear_model/_logistic.py:814: ConvergenceWarning: lbfgs failed to converge (status=1):\n",
      "STOP: TOTAL NO. of ITERATIONS REACHED LIMIT.\n",
      "\n",
      "Increase the number of iterations (max_iter) or scale the data as shown in:\n",
      "    https://scikit-learn.org/stable/modules/preprocessing.html\n",
      "Please also refer to the documentation for alternative solver options:\n",
      "    https://scikit-learn.org/stable/modules/linear_model.html#logistic-regression\n",
      "  n_iter_i = _check_optimize_result(\n"
     ]
    },
    {
     "data": {
      "image/png": "[encoded data removed]",
      "text/plain": [
       "<Figure size 720x720 with 2 Axes>"
      ]
     },
     "metadata": {
      "needs_background": "light"
     },
     "output_type": "display_data"
    }
   ],
   "source": [
    "model2 = LogisticRegression()\n",
    "#X_train, X_test, y_train, y_test, indices_train, indices_test = train_test_split(features, labels, df_test1.index, test_size=0.2, random_state=0)\n",
    "model2.fit(X_train, y_train)\n",
    "y_pred2 = model2.predict(X_test)\n",
    "conf_mat2 = confusion_matrix(y_test, y_pred2)\n",
    "fig, ax = plt.subplots(figsize=(10,10))\n",
    "sns.heatmap(conf_mat, annot=True, fmt='d',\n",
    "            xticklabels=rating1_df['rating_label'].values, yticklabels=rating1_df['rating_label'].values)\n",
    "plt.ylabel('Actual')\n",
    "plt.xlabel('Predicted')\n",
    "plt.show()"
   ]
  },
  {
   "cell_type": "code",
   "execution_count": 100,
   "id": "353f80bd",
   "metadata": {},
   "outputs": [
    {
     "name": "stdout",
     "output_type": "stream",
     "text": [
      "              precision    recall  f1-score   support\n",
      "\n",
      "           1       0.66      0.64      0.65       403\n",
      "           2       0.00      0.00      0.00       140\n",
      "           3       0.25      0.04      0.08       156\n",
      "           4       0.46      0.11      0.17       331\n",
      "           5       0.86      0.99      0.92      3564\n",
      "\n",
      "    accuracy                           0.83      4594\n",
      "   macro avg       0.45      0.36      0.36      4594\n",
      "weighted avg       0.77      0.83      0.79      4594\n",
      "\n"
     ]
    }
   ],
   "source": [
    "print(classification_report(y_test, y_pred2))"
   ]
  },
  {
   "cell_type": "markdown",
   "id": "1c280847",
   "metadata": {},
   "source": [
    "**Conclusion** => best ML is SVC. So this will be applied on Twitter reviews"
   ]
  },
  {
   "cell_type": "markdown",
   "id": "7c1043e2",
   "metadata": {},
   "source": [
    "# Phase 3 => Application on tweets"
   ]
  },
  {
   "cell_type": "code",
   "execution_count": null,
   "id": "9d4feb35",
   "metadata": {},
   "outputs": [],
   "source": []
  }
 ],
 "metadata": {
  "kernelspec": {
   "display_name": "Python 3 (ipykernel)",
   "language": "python",
   "name": "python3"
  },
  "language_info": {
   "codemirror_mode": {
    "name": "ipython",
    "version": 3
   },
   "file_extension": ".py",
   "mimetype": "text/x-python",
   "name": "python",
   "nbconvert_exporter": "python",
   "pygments_lexer": "ipython3",
   "version": "3.9.7"
  }
 },
 "nbformat": 4,
 "nbformat_minor": 5
}
