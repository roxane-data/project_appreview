{
 "cells": [
  {
   "cell_type": "code",
   "execution_count": 3,
   "id": "ad0cb428",
   "metadata": {},
   "outputs": [
    {
     "name": "stdout",
     "output_type": "stream",
     "text": [
      "Collecting imblearn\n",
      "  Downloading imblearn-0.0-py2.py3-none-any.whl (1.9 kB)\n",
      "Collecting imbalanced-learn\n",
      "  Downloading imbalanced_learn-0.8.1-py3-none-any.whl (189 kB)\n",
      "     |████████████████████████████████| 189 kB 1.4 MB/s            \n",
      "\u001b[?25hRequirement already satisfied: scipy>=0.19.1 in /home/vb/.pyenv/versions/3.9.7/envs/artefact/lib/python3.9/site-packages (from imbalanced-learn->imblearn) (1.7.1)\n",
      "Requirement already satisfied: scikit-learn>=0.24 in /home/vb/.pyenv/versions/3.9.7/envs/artefact/lib/python3.9/site-packages (from imbalanced-learn->imblearn) (1.0)\n",
      "Requirement already satisfied: numpy>=1.13.3 in /home/vb/.pyenv/versions/3.9.7/envs/artefact/lib/python3.9/site-packages (from imbalanced-learn->imblearn) (1.20.3)\n",
      "Requirement already satisfied: joblib>=0.11 in /home/vb/.pyenv/versions/3.9.7/envs/artefact/lib/python3.9/site-packages (from imbalanced-learn->imblearn) (1.1.0)\n",
      "Requirement already satisfied: threadpoolctl>=2.0.0 in /home/vb/.pyenv/versions/3.9.7/envs/artefact/lib/python3.9/site-packages (from scikit-learn>=0.24->imbalanced-learn->imblearn) (3.0.0)\n",
      "Installing collected packages: imbalanced-learn, imblearn\n",
      "Successfully installed imbalanced-learn-0.8.1 imblearn-0.0\n",
      "\u001b[33mWARNING: You are using pip version 21.3; however, version 21.3.1 is available.\n",
      "You should consider upgrading via the '/home/vb/.pyenv/versions/3.9.7/envs/artefact/bin/python3.9 -m pip install --upgrade pip' command.\u001b[0m\n"
     ]
    }
   ],
   "source": [
    "!pip install imblearn"
   ]
  },
  {
   "cell_type": "code",
   "execution_count": 4,
   "id": "1a0780dd",
   "metadata": {},
   "outputs": [
    {
     "name": "stderr",
     "output_type": "stream",
     "text": [
      "[nltk_data] Downloading package punkt to /home/vb/nltk_data...\n",
      "[nltk_data]   Package punkt is already up-to-date!\n",
      "[nltk_data] Downloading package wordnet to /home/vb/nltk_data...\n",
      "[nltk_data]   Package wordnet is already up-to-date!\n"
     ]
    }
   ],
   "source": [
    "# Import relevant libraries and packages\n",
    "import pickle\n",
    "import pandas as pd\n",
    "import numpy as np\n",
    "import seaborn as sns\n",
    "\n",
    "import datetime\n",
    "\n",
    "from sklearn.feature_extraction.text import TfidfVectorizer\n",
    "import matplotlib.pyplot as plt\n",
    "from sklearn.feature_selection import chi2\n",
    "from sklearn.model_selection import train_test_split\n",
    "from sklearn.feature_extraction.text import CountVectorizer\n",
    "from sklearn.feature_extraction.text import TfidfTransformer\n",
    "from sklearn.naive_bayes import MultinomialNB\n",
    "from sklearn.linear_model import LogisticRegression\n",
    "from sklearn.ensemble import RandomForestClassifier\n",
    "from sklearn.svm import LinearSVC\n",
    "from sklearn.neighbors import KNeighborsClassifier\n",
    "from sklearn.model_selection import cross_val_score\n",
    "from sklearn.metrics import classification_report\n",
    "from sklearn.metrics import confusion_matrix\n",
    "\n",
    "from collections import Counter\n",
    "from imblearn.over_sampling import RandomOverSampler\n",
    "from imblearn.under_sampling import RandomUnderSampler\n",
    "\n",
    "import re\n",
    "import emoji #install pip install emoji --upgrade\n",
    "\n",
    "import spacy #python -m spacy download en_core_web_md\n",
    "import nltk\n",
    "from nltk.tokenize import word_tokenize\n",
    "nltk.download('punkt')\n",
    "from nltk.stem import WordNetLemmatizer\n",
    "nltk.download('wordnet')\n",
    "\n",
    "import enchant\n",
    "from enchant.checker import SpellChecker"
   ]
  },
  {
   "cell_type": "markdown",
   "id": "23d20cc0",
   "metadata": {},
   "source": [
    "# Phase 0 => Data setup"
   ]
  },
  {
   "cell_type": "markdown",
   "id": "cb5d5f51",
   "metadata": {},
   "source": [
    "Creation of new dataset to run classification model with only 2 dimensions : 'review content' and 'rating'."
   ]
  },
  {
   "cell_type": "code",
   "execution_count": 5,
   "id": "dc320a41-6b40-4f1e-af84-3ae6f8e815fa",
   "metadata": {},
   "outputs": [
    {
     "data": {
      "text/html": [
       "<div>\n",
       "<style scoped>\n",
       "    .dataframe tbody tr th:only-of-type {\n",
       "        vertical-align: middle;\n",
       "    }\n",
       "\n",
       "    .dataframe tbody tr th {\n",
       "        vertical-align: top;\n",
       "    }\n",
       "\n",
       "    .dataframe thead th {\n",
       "        text-align: right;\n",
       "    }\n",
       "</style>\n",
       "<table border=\"1\" class=\"dataframe\">\n",
       "  <thead>\n",
       "    <tr style=\"text-align: right;\">\n",
       "      <th></th>\n",
       "      <th>review_content</th>\n",
       "      <th>rating</th>\n",
       "      <th>date</th>\n",
       "      <th>source</th>\n",
       "      <th>preprocessed_review</th>\n",
       "    </tr>\n",
       "  </thead>\n",
       "  <tbody>\n",
       "    <tr>\n",
       "      <th>0</th>\n",
       "      <td>It does exactly what it says it does efficient...</td>\n",
       "      <td>5</td>\n",
       "      <td>2021-12</td>\n",
       "      <td>Google</td>\n",
       "      <td>[exactli, say, effici, save, food, fill, belli...</td>\n",
       "    </tr>\n",
       "    <tr>\n",
       "      <th>1</th>\n",
       "      <td>Well, I've only done 2 different vendors. The ...</td>\n",
       "      <td>4</td>\n",
       "      <td>2021-12</td>\n",
       "      <td>Google</td>\n",
       "      <td>[well, done, differ, vendor, first, donut, sho...</td>\n",
       "    </tr>\n",
       "    <tr>\n",
       "      <th>2</th>\n",
       "      <td>Still in my first week. And I'm looking forwar...</td>\n",
       "      <td>5</td>\n",
       "      <td>2021-12</td>\n",
       "      <td>Google</td>\n",
       "      <td>[still, first, week, look, forward, great, dea...</td>\n",
       "    </tr>\n",
       "    <tr>\n",
       "      <th>3</th>\n",
       "      <td>loving the app.</td>\n",
       "      <td>5</td>\n",
       "      <td>2021-12</td>\n",
       "      <td>Google</td>\n",
       "      <td>[love, app]</td>\n",
       "    </tr>\n",
       "    <tr>\n",
       "      <th>4</th>\n",
       "      <td>AT FIRST: 1) Lovely experience. charming staff...</td>\n",
       "      <td>2</td>\n",
       "      <td>2021-12</td>\n",
       "      <td>Google</td>\n",
       "      <td>[first, love, experi, charm, staff, moder, hi,...</td>\n",
       "    </tr>\n",
       "  </tbody>\n",
       "</table>\n",
       "</div>"
      ],
      "text/plain": [
       "                                      review_content  rating     date  source  \\\n",
       "0  It does exactly what it says it does efficient...       5  2021-12  Google   \n",
       "1  Well, I've only done 2 different vendors. The ...       4  2021-12  Google   \n",
       "2  Still in my first week. And I'm looking forwar...       5  2021-12  Google   \n",
       "3                                    loving the app.       5  2021-12  Google   \n",
       "4  AT FIRST: 1) Lovely experience. charming staff...       2  2021-12  Google   \n",
       "\n",
       "                                 preprocessed_review  \n",
       "0  [exactli, say, effici, save, food, fill, belli...  \n",
       "1  [well, done, differ, vendor, first, donut, sho...  \n",
       "2  [still, first, week, look, forward, great, dea...  \n",
       "3                                        [love, app]  \n",
       "4  [first, love, experi, charm, staff, moder, hi,...  "
      ]
     },
     "execution_count": 5,
     "metadata": {},
     "output_type": "execute_result"
    }
   ],
   "source": [
    "path = \"data/reviews_tgtg_v2.pkl\"\n",
    "\n",
    "with open(path, 'rb') as f:\n",
    "    df = pickle.load(f)\n",
    "\n",
    "df.head(5)"
   ]
  },
  {
   "cell_type": "code",
   "execution_count": 6,
   "id": "ce107c8c",
   "metadata": {},
   "outputs": [],
   "source": [
    "df_test1 = df[['review_content','rating']]"
   ]
  },
  {
   "cell_type": "markdown",
   "id": "157493c5",
   "metadata": {},
   "source": [
    "### A) Label creation"
   ]
  },
  {
   "cell_type": "markdown",
   "id": "a5bf4e8e",
   "metadata": {},
   "source": [
    "Since the dataset is inbalanced, 2 scenarii need to be designed depending on the success of ML prediction :\n",
    "- 1 scenario with 5 categories corresponding to the 5 different scores (from 1 to 5)\n",
    "- 1 scenario with 3 macro-categories gathering scores "
   ]
  },
  {
   "cell_type": "markdown",
   "id": "b622adda",
   "metadata": {},
   "source": [
    "##### Scenario 1 => 5 categories"
   ]
  },
  {
   "cell_type": "code",
   "execution_count": 7,
   "id": "36f1e457",
   "metadata": {},
   "outputs": [],
   "source": [
    "# function creating labels accroding to rating\n",
    "def label_rating (row):\n",
    "    if row['rating'] == 1 :\n",
    "        return '1 - awful'\n",
    "    if row['rating'] == 2 :\n",
    "        return '2 - bad'\n",
    "    if row['rating'] == 3 :\n",
    "        return '3 - neutral'\n",
    "    if row['rating'] == 4 :\n",
    "        return '4 - good'\n",
    "    if row['rating'] == 5 :\n",
    "        return '5 - awesome'\n",
    "    return 'Other'"
   ]
  },
  {
   "cell_type": "code",
   "execution_count": 8,
   "id": "395259f6",
   "metadata": {},
   "outputs": [
    {
     "name": "stderr",
     "output_type": "stream",
     "text": [
      "/tmp/ipykernel_8897/3099612617.py:2: SettingWithCopyWarning: \n",
      "A value is trying to be set on a copy of a slice from a DataFrame.\n",
      "Try using .loc[row_indexer,col_indexer] = value instead\n",
      "\n",
      "See the caveats in the documentation: https://pandas.pydata.org/pandas-docs/stable/user_guide/indexing.html#returning-a-view-versus-a-copy\n",
      "  df_test1['rating_label'] = df_test1.apply (lambda row: label_rating(row), axis=1)\n"
     ]
    },
    {
     "data": {
      "text/html": [
       "<div>\n",
       "<style scoped>\n",
       "    .dataframe tbody tr th:only-of-type {\n",
       "        vertical-align: middle;\n",
       "    }\n",
       "\n",
       "    .dataframe tbody tr th {\n",
       "        vertical-align: top;\n",
       "    }\n",
       "\n",
       "    .dataframe thead th {\n",
       "        text-align: right;\n",
       "    }\n",
       "</style>\n",
       "<table border=\"1\" class=\"dataframe\">\n",
       "  <thead>\n",
       "    <tr style=\"text-align: right;\">\n",
       "      <th></th>\n",
       "      <th>review_content</th>\n",
       "      <th>rating</th>\n",
       "      <th>rating_label</th>\n",
       "    </tr>\n",
       "  </thead>\n",
       "  <tbody>\n",
       "    <tr>\n",
       "      <th>0</th>\n",
       "      <td>It does exactly what it says it does efficient...</td>\n",
       "      <td>5</td>\n",
       "      <td>5 - awesome</td>\n",
       "    </tr>\n",
       "    <tr>\n",
       "      <th>1</th>\n",
       "      <td>Well, I've only done 2 different vendors. The ...</td>\n",
       "      <td>4</td>\n",
       "      <td>4 - good</td>\n",
       "    </tr>\n",
       "    <tr>\n",
       "      <th>2</th>\n",
       "      <td>Still in my first week. And I'm looking forwar...</td>\n",
       "      <td>5</td>\n",
       "      <td>5 - awesome</td>\n",
       "    </tr>\n",
       "    <tr>\n",
       "      <th>3</th>\n",
       "      <td>loving the app.</td>\n",
       "      <td>5</td>\n",
       "      <td>5 - awesome</td>\n",
       "    </tr>\n",
       "    <tr>\n",
       "      <th>4</th>\n",
       "      <td>AT FIRST: 1) Lovely experience. charming staff...</td>\n",
       "      <td>2</td>\n",
       "      <td>2 - bad</td>\n",
       "    </tr>\n",
       "  </tbody>\n",
       "</table>\n",
       "</div>"
      ],
      "text/plain": [
       "                                      review_content  rating rating_label\n",
       "0  It does exactly what it says it does efficient...       5  5 - awesome\n",
       "1  Well, I've only done 2 different vendors. The ...       4     4 - good\n",
       "2  Still in my first week. And I'm looking forwar...       5  5 - awesome\n",
       "3                                    loving the app.       5  5 - awesome\n",
       "4  AT FIRST: 1) Lovely experience. charming staff...       2      2 - bad"
      ]
     },
     "execution_count": 8,
     "metadata": {},
     "output_type": "execute_result"
    }
   ],
   "source": [
    "# application of function to create labels\n",
    "df_test1['rating_label'] = df_test1.apply (lambda row: label_rating(row), axis=1)\n",
    "df_test1.head()"
   ]
  },
  {
   "cell_type": "code",
   "execution_count": 9,
   "id": "49f16623",
   "metadata": {},
   "outputs": [],
   "source": [
    "# creation of dictionary scenario 1\n",
    "rating1_df = df_test1[['rating_label', 'rating']].drop_duplicates().sort_values('rating')\n",
    "ratinglabel1_to_id = dict(rating1_df.values)\n",
    "id_to_ratinglabel1 = dict(rating1_df[['rating', 'rating_label']].values)"
   ]
  },
  {
   "cell_type": "code",
   "execution_count": 10,
   "id": "f2b4167e",
   "metadata": {},
   "outputs": [
    {
     "data": {
      "text/plain": [
       "{'1 - awful': 1,\n",
       " '2 - bad': 2,\n",
       " '3 - neutral': 3,\n",
       " '4 - good': 4,\n",
       " '5 - awesome': 5}"
      ]
     },
     "execution_count": 10,
     "metadata": {},
     "output_type": "execute_result"
    }
   ],
   "source": [
    "ratinglabel1_to_id "
   ]
  },
  {
   "cell_type": "code",
   "execution_count": 11,
   "id": "f5c80c48",
   "metadata": {},
   "outputs": [
    {
     "data": {
      "image/png": "[encoded data removed]",
      "text/plain": [
       "<Figure size 576x432 with 1 Axes>"
      ]
     },
     "metadata": {
      "needs_background": "light"
     },
     "output_type": "display_data"
    }
   ],
   "source": [
    "# distribution chart\n",
    "fig = plt.figure(figsize=(8,6))\n",
    "df_test1.groupby('rating_label').review_content.count().plot.bar(ylim=0)\n",
    "plt.show()"
   ]
  },
  {
   "cell_type": "markdown",
   "id": "27c4a53c",
   "metadata": {},
   "source": [
    "##### Scenario 2 => 3 categories"
   ]
  },
  {
   "cell_type": "markdown",
   "id": "25baff49",
   "metadata": {},
   "source": [
    "- Bad = categories 1 & 2\n",
    "- Neutral = category 3\n",
    "- Good = categories 4 & 5"
   ]
  },
  {
   "cell_type": "code",
   "execution_count": 10,
   "id": "7f78fc0b",
   "metadata": {},
   "outputs": [
    {
     "name": "stderr",
     "output_type": "stream",
     "text": [
      "/tmp/ipykernel_12154/1835289214.py:16: SettingWithCopyWarning: \n",
      "A value is trying to be set on a copy of a slice from a DataFrame.\n",
      "Try using .loc[row_indexer,col_indexer] = value instead\n",
      "\n",
      "See the caveats in the documentation: https://pandas.pydata.org/pandas-docs/stable/user_guide/indexing.html#returning-a-view-versus-a-copy\n",
      "  df_test2['rating_label'] = df_test2.apply (lambda row: label_rating2(row), axis=1)\n"
     ]
    },
    {
     "data": {
      "text/html": [
       "<div>\n",
       "<style scoped>\n",
       "    .dataframe tbody tr th:only-of-type {\n",
       "        vertical-align: middle;\n",
       "    }\n",
       "\n",
       "    .dataframe tbody tr th {\n",
       "        vertical-align: top;\n",
       "    }\n",
       "\n",
       "    .dataframe thead th {\n",
       "        text-align: right;\n",
       "    }\n",
       "</style>\n",
       "<table border=\"1\" class=\"dataframe\">\n",
       "  <thead>\n",
       "    <tr style=\"text-align: right;\">\n",
       "      <th></th>\n",
       "      <th>review_content</th>\n",
       "      <th>rating</th>\n",
       "      <th>rating_label</th>\n",
       "    </tr>\n",
       "  </thead>\n",
       "  <tbody>\n",
       "    <tr>\n",
       "      <th>0</th>\n",
       "      <td>It does exactly what it says it does efficient...</td>\n",
       "      <td>5</td>\n",
       "      <td>3 - good</td>\n",
       "    </tr>\n",
       "    <tr>\n",
       "      <th>1</th>\n",
       "      <td>Well, I've only done 2 different vendors. The ...</td>\n",
       "      <td>4</td>\n",
       "      <td>3 - good</td>\n",
       "    </tr>\n",
       "    <tr>\n",
       "      <th>2</th>\n",
       "      <td>Still in my first week. And I'm looking forwar...</td>\n",
       "      <td>5</td>\n",
       "      <td>3 - good</td>\n",
       "    </tr>\n",
       "    <tr>\n",
       "      <th>3</th>\n",
       "      <td>loving the app.</td>\n",
       "      <td>5</td>\n",
       "      <td>3 - good</td>\n",
       "    </tr>\n",
       "    <tr>\n",
       "      <th>4</th>\n",
       "      <td>AT FIRST: 1) Lovely experience. charming staff...</td>\n",
       "      <td>2</td>\n",
       "      <td>1 - bad</td>\n",
       "    </tr>\n",
       "  </tbody>\n",
       "</table>\n",
       "</div>"
      ],
      "text/plain": [
       "                                      review_content  rating rating_label\n",
       "0  It does exactly what it says it does efficient...       5     3 - good\n",
       "1  Well, I've only done 2 different vendors. The ...       4     3 - good\n",
       "2  Still in my first week. And I'm looking forwar...       5     3 - good\n",
       "3                                    loving the app.       5     3 - good\n",
       "4  AT FIRST: 1) Lovely experience. charming staff...       2      1 - bad"
      ]
     },
     "execution_count": 10,
     "metadata": {},
     "output_type": "execute_result"
    }
   ],
   "source": [
    "df_test2 = df[['review_content','rating']]\n",
    "\n",
    "def label_rating2 (row):\n",
    "    if row['rating'] == 1 :\n",
    "        return '1 - bad'\n",
    "    if row['rating'] == 2 :\n",
    "        return '1 - bad'\n",
    "    if row['rating'] == 3 :\n",
    "        return '2 - neutral'\n",
    "    if row['rating'] == 4 :\n",
    "        return '3 - good'\n",
    "    if row['rating'] == 5 :\n",
    "        return '3 - good'\n",
    "    return 'Other'\n",
    "\n",
    "df_test2['rating_label'] = df_test2.apply (lambda row: label_rating2(row), axis=1)\n",
    "df_test2.head()"
   ]
  },
  {
   "cell_type": "code",
   "execution_count": 11,
   "id": "cacb20da",
   "metadata": {},
   "outputs": [],
   "source": [
    "# creation of dictionary scenario 2\n",
    "rating2_df = df_test2[['rating_label', 'rating']].drop_duplicates().sort_values('rating')\n",
    "ratinglabel2_to_id = dict(rating2_df.values)\n",
    "id_to_ratinglabel2 = dict(rating2_df[['rating', 'rating_label']].values)"
   ]
  },
  {
   "cell_type": "code",
   "execution_count": 12,
   "id": "24ad72eb",
   "metadata": {},
   "outputs": [
    {
     "data": {
      "image/png": "[encoded data removed]",
      "text/plain": [
       "<Figure size 576x432 with 1 Axes>"
      ]
     },
     "metadata": {
      "needs_background": "light"
     },
     "output_type": "display_data"
    }
   ],
   "source": [
    "# distribution chart\n",
    "fig = plt.figure(figsize=(8,6))\n",
    "df_test2.groupby('rating_label').review_content.count().plot.bar(ylim=0)\n",
    "plt.show()"
   ]
  },
  {
   "cell_type": "markdown",
   "id": "806706b5",
   "metadata": {},
   "source": [
    "# Phase 1 => Preparatory work"
   ]
  },
  {
   "cell_type": "markdown",
   "id": "2cd73c1b",
   "metadata": {},
   "source": [
    "### A) Feature engineering"
   ]
  },
  {
   "cell_type": "markdown",
   "id": "e5b4d526",
   "metadata": {},
   "source": [
    "#### Step 1 => Features created directly from text"
   ]
  },
  {
   "cell_type": "markdown",
   "id": "cad7369e",
   "metadata": {},
   "source": [
    "1. Number of Characters"
   ]
  },
  {
   "cell_type": "code",
   "execution_count": 13,
   "id": "1aa64d8f",
   "metadata": {},
   "outputs": [
    {
     "data": {
      "text/html": [
       "<div>\n",
       "<style scoped>\n",
       "    .dataframe tbody tr th:only-of-type {\n",
       "        vertical-align: middle;\n",
       "    }\n",
       "\n",
       "    .dataframe tbody tr th {\n",
       "        vertical-align: top;\n",
       "    }\n",
       "\n",
       "    .dataframe thead th {\n",
       "        text-align: right;\n",
       "    }\n",
       "</style>\n",
       "<table border=\"1\" class=\"dataframe\">\n",
       "  <thead>\n",
       "    <tr style=\"text-align: right;\">\n",
       "      <th></th>\n",
       "      <th>review_content</th>\n",
       "      <th>rating</th>\n",
       "      <th>rating_label</th>\n",
       "    </tr>\n",
       "  </thead>\n",
       "  <tbody>\n",
       "    <tr>\n",
       "      <th>0</th>\n",
       "      <td>It does exactly what it says it does efficient...</td>\n",
       "      <td>5</td>\n",
       "      <td>5 - awesome</td>\n",
       "    </tr>\n",
       "    <tr>\n",
       "      <th>1</th>\n",
       "      <td>Well, I've only done 2 different vendors. The ...</td>\n",
       "      <td>4</td>\n",
       "      <td>4 - good</td>\n",
       "    </tr>\n",
       "    <tr>\n",
       "      <th>2</th>\n",
       "      <td>Still in my first week. And I'm looking forwar...</td>\n",
       "      <td>5</td>\n",
       "      <td>5 - awesome</td>\n",
       "    </tr>\n",
       "    <tr>\n",
       "      <th>3</th>\n",
       "      <td>loving the app.</td>\n",
       "      <td>5</td>\n",
       "      <td>5 - awesome</td>\n",
       "    </tr>\n",
       "    <tr>\n",
       "      <th>4</th>\n",
       "      <td>AT FIRST: 1) Lovely experience. charming staff...</td>\n",
       "      <td>2</td>\n",
       "      <td>2 - bad</td>\n",
       "    </tr>\n",
       "  </tbody>\n",
       "</table>\n",
       "</div>"
      ],
      "text/plain": [
       "                                      review_content  rating rating_label\n",
       "0  It does exactly what it says it does efficient...       5  5 - awesome\n",
       "1  Well, I've only done 2 different vendors. The ...       4     4 - good\n",
       "2  Still in my first week. And I'm looking forwar...       5  5 - awesome\n",
       "3                                    loving the app.       5  5 - awesome\n",
       "4  AT FIRST: 1) Lovely experience. charming staff...       2      2 - bad"
      ]
     },
     "execution_count": 13,
     "metadata": {},
     "output_type": "execute_result"
    }
   ],
   "source": [
    "df_test1.head()"
   ]
  },
  {
   "cell_type": "code",
   "execution_count": 12,
   "id": "c96bb190",
   "metadata": {},
   "outputs": [],
   "source": [
    "def count_chars(text):\n",
    "    return len(text)"
   ]
  },
  {
   "cell_type": "markdown",
   "id": "8f4393b8",
   "metadata": {},
   "source": [
    "2. Number of words"
   ]
  },
  {
   "cell_type": "code",
   "execution_count": 14,
   "id": "78ff6b5e",
   "metadata": {},
   "outputs": [],
   "source": [
    "def count_words(text):\n",
    "    return len(text.split())"
   ]
  },
  {
   "cell_type": "markdown",
   "id": "62e573ac",
   "metadata": {},
   "source": [
    "3. Number of capital characters"
   ]
  },
  {
   "cell_type": "code",
   "execution_count": 15,
   "id": "b18dbd43",
   "metadata": {},
   "outputs": [],
   "source": [
    "def count_capital_chars(text):\n",
    "    count=0\n",
    "    for i in text:\n",
    "        if i.isupper()== True: #isupper() method returns: True if characters in a string are uppercase characters\n",
    "            count+=1\n",
    "    return count"
   ]
  },
  {
   "cell_type": "markdown",
   "id": "0fbe3024",
   "metadata": {},
   "source": [
    "4. Number of capital words"
   ]
  },
  {
   "cell_type": "code",
   "execution_count": 16,
   "id": "b56e469c",
   "metadata": {},
   "outputs": [],
   "source": [
    "def count_capital_words(text):\n",
    "    return sum(map(str.isupper, text.split()))"
   ]
  },
  {
   "cell_type": "markdown",
   "id": "417bebb6",
   "metadata": {},
   "source": [
    "5. Count the number of punctuations"
   ]
  },
  {
   "cell_type": "code",
   "execution_count": 17,
   "id": "4a56cea2",
   "metadata": {},
   "outputs": [],
   "source": [
    "def count_punctuations(text):\n",
    "    punctuations=\"!#$%&'()*+,-./:;<=>?@[\\]^_`{|}~\"\n",
    "    d=dict()\n",
    "    for i in punctuations:\n",
    "        d[str(i)+'count']=text.count(i)\n",
    "    return d "
   ]
  },
  {
   "cell_type": "markdown",
   "id": "ed4f6619",
   "metadata": {},
   "source": [
    "6. Number of words in quotes"
   ]
  },
  {
   "cell_type": "code",
   "execution_count": 18,
   "id": "a6bf0c1a",
   "metadata": {},
   "outputs": [],
   "source": [
    "def count_words_in_quotes(text):\n",
    "    x = re.findall(\"'.'|'.'\", text)\n",
    "    count=0\n",
    "    if x is None:\n",
    "        return 0\n",
    "    else:\n",
    "        for i in x:\n",
    "            t=i[1:-1]\n",
    "            count+=count_words(t)\n",
    "        return count"
   ]
  },
  {
   "cell_type": "markdown",
   "id": "f11a5708",
   "metadata": {},
   "source": [
    "7. Number of sentences"
   ]
  },
  {
   "cell_type": "code",
   "execution_count": 19,
   "id": "7df8ff6c",
   "metadata": {},
   "outputs": [],
   "source": [
    "def count_sent(text):\n",
    "    return len(nltk.sent_tokenize(text))"
   ]
  },
  {
   "cell_type": "markdown",
   "id": "9e143fbf",
   "metadata": {},
   "source": [
    "8. Count the number of unique words"
   ]
  },
  {
   "cell_type": "code",
   "execution_count": 20,
   "id": "23fa16bb",
   "metadata": {},
   "outputs": [],
   "source": [
    "def count_unique_words(text):\n",
    "    return len(set(text.split()))"
   ]
  },
  {
   "cell_type": "markdown",
   "id": "c7bbb1cb",
   "metadata": {},
   "source": [
    "9. Count of hashtags"
   ]
  },
  {
   "cell_type": "code",
   "execution_count": 21,
   "id": "0a5784da",
   "metadata": {},
   "outputs": [],
   "source": [
    "def count_htags(text):\n",
    "    x = re.findall(r'(#w[A-Za-z0-9]*)', text)\n",
    "    return len(x) "
   ]
  },
  {
   "cell_type": "markdown",
   "id": "2fde5981",
   "metadata": {},
   "source": [
    "10. Count of mentions"
   ]
  },
  {
   "cell_type": "code",
   "execution_count": 22,
   "id": "fdf23014",
   "metadata": {},
   "outputs": [],
   "source": [
    "def count_mentions(text):\n",
    "    x = re.findall(r'(@w[A-Za-z0-9]*)', text)\n",
    "    return len(x)"
   ]
  },
  {
   "cell_type": "markdown",
   "id": "73f27bcd",
   "metadata": {},
   "source": [
    "11. Count of stopwords"
   ]
  },
  {
   "cell_type": "code",
   "execution_count": 25,
   "id": "ed84fc88",
   "metadata": {},
   "outputs": [
    {
     "name": "stdout",
     "output_type": "stream",
     "text": [
      "Collecting en-core-web-md==3.2.0\n",
      "  Downloading https://github.com/explosion/spacy-models/releases/download/en_core_web_md-3.2.0/en_core_web_md-3.2.0-py3-none-any.whl (45.7 MB)\n",
      "     |████████████████████████████████| 45.7 MB 740 kB/s            \n",
      "\u001b[?25hRequirement already satisfied: spacy<3.3.0,>=3.2.0 in /home/vb/.pyenv/versions/3.9.7/envs/artefact/lib/python3.9/site-packages (from en-core-web-md==3.2.0) (3.2.0)\n",
      "Requirement already satisfied: spacy-loggers<2.0.0,>=1.0.0 in /home/vb/.pyenv/versions/3.9.7/envs/artefact/lib/python3.9/site-packages (from spacy<3.3.0,>=3.2.0->en-core-web-md==3.2.0) (1.0.1)\n",
      "Requirement already satisfied: pydantic!=1.8,!=1.8.1,<1.9.0,>=1.7.4 in /home/vb/.pyenv/versions/3.9.7/envs/artefact/lib/python3.9/site-packages (from spacy<3.3.0,>=3.2.0->en-core-web-md==3.2.0) (1.8.2)\n",
      "Requirement already satisfied: wasabi<1.1.0,>=0.8.1 in /home/vb/.pyenv/versions/3.9.7/envs/artefact/lib/python3.9/site-packages (from spacy<3.3.0,>=3.2.0->en-core-web-md==3.2.0) (0.8.2)\n",
      "Requirement already satisfied: tqdm<5.0.0,>=4.38.0 in /home/vb/.pyenv/versions/3.9.7/envs/artefact/lib/python3.9/site-packages (from spacy<3.3.0,>=3.2.0->en-core-web-md==3.2.0) (4.62.3)\n",
      "Requirement already satisfied: murmurhash<1.1.0,>=0.28.0 in /home/vb/.pyenv/versions/3.9.7/envs/artefact/lib/python3.9/site-packages (from spacy<3.3.0,>=3.2.0->en-core-web-md==3.2.0) (1.0.6)\n",
      "Requirement already satisfied: spacy-legacy<3.1.0,>=3.0.8 in /home/vb/.pyenv/versions/3.9.7/envs/artefact/lib/python3.9/site-packages (from spacy<3.3.0,>=3.2.0->en-core-web-md==3.2.0) (3.0.8)\n",
      "Requirement already satisfied: preshed<3.1.0,>=3.0.2 in /home/vb/.pyenv/versions/3.9.7/envs/artefact/lib/python3.9/site-packages (from spacy<3.3.0,>=3.2.0->en-core-web-md==3.2.0) (3.0.6)\n",
      "Requirement already satisfied: cymem<2.1.0,>=2.0.2 in /home/vb/.pyenv/versions/3.9.7/envs/artefact/lib/python3.9/site-packages (from spacy<3.3.0,>=3.2.0->en-core-web-md==3.2.0) (2.0.6)\n",
      "Requirement already satisfied: typer<0.5.0,>=0.3.0 in /home/vb/.pyenv/versions/3.9.7/envs/artefact/lib/python3.9/site-packages (from spacy<3.3.0,>=3.2.0->en-core-web-md==3.2.0) (0.4.0)\n",
      "Requirement already satisfied: catalogue<2.1.0,>=2.0.6 in /home/vb/.pyenv/versions/3.9.7/envs/artefact/lib/python3.9/site-packages (from spacy<3.3.0,>=3.2.0->en-core-web-md==3.2.0) (2.0.6)\n",
      "Requirement already satisfied: thinc<8.1.0,>=8.0.12 in /home/vb/.pyenv/versions/3.9.7/envs/artefact/lib/python3.9/site-packages (from spacy<3.3.0,>=3.2.0->en-core-web-md==3.2.0) (8.0.13)\n",
      "Requirement already satisfied: requests<3.0.0,>=2.13.0 in /home/vb/.pyenv/versions/3.9.7/envs/artefact/lib/python3.9/site-packages (from spacy<3.3.0,>=3.2.0->en-core-web-md==3.2.0) (2.23.0)\n",
      "Requirement already satisfied: langcodes<4.0.0,>=3.2.0 in /home/vb/.pyenv/versions/3.9.7/envs/artefact/lib/python3.9/site-packages (from spacy<3.3.0,>=3.2.0->en-core-web-md==3.2.0) (3.3.0)\n",
      "Requirement already satisfied: packaging>=20.0 in /home/vb/.pyenv/versions/3.9.7/envs/artefact/lib/python3.9/site-packages (from spacy<3.3.0,>=3.2.0->en-core-web-md==3.2.0) (21.0)\n",
      "Requirement already satisfied: srsly<3.0.0,>=2.4.1 in /home/vb/.pyenv/versions/3.9.7/envs/artefact/lib/python3.9/site-packages (from spacy<3.3.0,>=3.2.0->en-core-web-md==3.2.0) (2.4.2)\n",
      "Requirement already satisfied: jinja2 in /home/vb/.pyenv/versions/3.9.7/envs/artefact/lib/python3.9/site-packages (from spacy<3.3.0,>=3.2.0->en-core-web-md==3.2.0) (3.0.2)\n",
      "Requirement already satisfied: setuptools in /home/vb/.pyenv/versions/3.9.7/envs/artefact/lib/python3.9/site-packages (from spacy<3.3.0,>=3.2.0->en-core-web-md==3.2.0) (57.4.0)\n",
      "Requirement already satisfied: numpy>=1.15.0 in /home/vb/.pyenv/versions/3.9.7/envs/artefact/lib/python3.9/site-packages (from spacy<3.3.0,>=3.2.0->en-core-web-md==3.2.0) (1.20.3)\n",
      "Requirement already satisfied: blis<0.8.0,>=0.4.0 in /home/vb/.pyenv/versions/3.9.7/envs/artefact/lib/python3.9/site-packages (from spacy<3.3.0,>=3.2.0->en-core-web-md==3.2.0) (0.7.5)\n",
      "Requirement already satisfied: pathy>=0.3.5 in /home/vb/.pyenv/versions/3.9.7/envs/artefact/lib/python3.9/site-packages (from spacy<3.3.0,>=3.2.0->en-core-web-md==3.2.0) (0.6.1)\n",
      "Requirement already satisfied: pyparsing>=2.0.2 in /home/vb/.pyenv/versions/3.9.7/envs/artefact/lib/python3.9/site-packages (from packaging>=20.0->spacy<3.3.0,>=3.2.0->en-core-web-md==3.2.0) (2.4.7)\n",
      "Requirement already satisfied: smart-open<6.0.0,>=5.0.0 in /home/vb/.pyenv/versions/3.9.7/envs/artefact/lib/python3.9/site-packages (from pathy>=0.3.5->spacy<3.3.0,>=3.2.0->en-core-web-md==3.2.0) (5.2.1)\n",
      "Requirement already satisfied: typing-extensions>=3.7.4.3 in /home/vb/.pyenv/versions/3.9.7/envs/artefact/lib/python3.9/site-packages (from pydantic!=1.8,!=1.8.1,<1.9.0,>=1.7.4->spacy<3.3.0,>=3.2.0->en-core-web-md==3.2.0) (3.10.0.2)\n",
      "Requirement already satisfied: urllib3!=1.25.0,!=1.25.1,<1.26,>=1.21.1 in /home/vb/.pyenv/versions/3.9.7/envs/artefact/lib/python3.9/site-packages (from requests<3.0.0,>=2.13.0->spacy<3.3.0,>=3.2.0->en-core-web-md==3.2.0) (1.25.11)\n",
      "Requirement already satisfied: idna<3,>=2.5 in /home/vb/.pyenv/versions/3.9.7/envs/artefact/lib/python3.9/site-packages (from requests<3.0.0,>=2.13.0->spacy<3.3.0,>=3.2.0->en-core-web-md==3.2.0) (2.10)\n",
      "Requirement already satisfied: chardet<4,>=3.0.2 in /home/vb/.pyenv/versions/3.9.7/envs/artefact/lib/python3.9/site-packages (from requests<3.0.0,>=2.13.0->spacy<3.3.0,>=3.2.0->en-core-web-md==3.2.0) (3.0.4)\n",
      "Requirement already satisfied: certifi>=2017.4.17 in /home/vb/.pyenv/versions/3.9.7/envs/artefact/lib/python3.9/site-packages (from requests<3.0.0,>=2.13.0->spacy<3.3.0,>=3.2.0->en-core-web-md==3.2.0) (2021.10.8)\n",
      "Requirement already satisfied: click<9.0.0,>=7.1.1 in /home/vb/.pyenv/versions/3.9.7/envs/artefact/lib/python3.9/site-packages (from typer<0.5.0,>=0.3.0->spacy<3.3.0,>=3.2.0->en-core-web-md==3.2.0) (7.1.2)\n",
      "Requirement already satisfied: MarkupSafe>=2.0 in /home/vb/.pyenv/versions/3.9.7/envs/artefact/lib/python3.9/site-packages (from jinja2->spacy<3.3.0,>=3.2.0->en-core-web-md==3.2.0) (2.0.1)\n",
      "Installing collected packages: en-core-web-md\n",
      "Successfully installed en-core-web-md-3.2.0\n",
      "\u001b[33mWARNING: You are using pip version 21.3; however, version 21.3.1 is available.\n",
      "You should consider upgrading via the '/home/vb/.pyenv/versions/artefact/bin/python -m pip install --upgrade pip' command.\u001b[0m\n",
      "\u001b[38;5;2m✔ Download and installation successful\u001b[0m\n",
      "You can now load the package via spacy.load('en_core_web_md')\n"
     ]
    }
   ],
   "source": [
    "!python -m spacy download en_core_web_md"
   ]
  },
  {
   "cell_type": "code",
   "execution_count": 26,
   "id": "e4a22447",
   "metadata": {},
   "outputs": [
    {
     "name": "stdout",
     "output_type": "stream",
     "text": [
      "322\n"
     ]
    }
   ],
   "source": [
    "nlp = spacy.load(\"en_core_web_md\") # need to use the medium model (not small one = en_core_web_md)\n",
    "nlp.Defaults.stop_words -= {\"no\", \"not\", \"isn't\",\"can't\", \"cannot\", \"doesn't\", \"don't\", \"but\", \"won't\", \"shouldn't\"} #to remove words form Spacy stopwords\n",
    "\n",
    "stopwords = nlp.Defaults.stop_words\n",
    "\n",
    "print(len(stopwords))"
   ]
  },
  {
   "cell_type": "code",
   "execution_count": 27,
   "id": "4a3fa1c1",
   "metadata": {},
   "outputs": [
    {
     "name": "stdout",
     "output_type": "stream",
     "text": [
      "{'whence', 'me', 'as', 'before', 'own', 'however', 'thereafter', 'nor', 'various', 'others', 'have', 'nobody', 'front', 'during', 'except', 'am', 'done', 'yet', 'its', 'see', 'thereupon', 'much', 'quite', 'give', 'it', 'had', \"'s\", 'several', 'were', 'often', 'otherwise', \"n't\", 'upon', 'also', 'whither', 'wherever', 'from', 'my', 'we', '‘ve', '’s', 'for', 'towards', 'n’t', 'our', 'namely', 'around', 'above', 'whereupon', 'further', 'may', 'him', 'she', 'itself', \"'m\", 'first', 'under', 'alone', 'bottom', 'anywhere', 'against', 'now', 'been', 'still', 'n‘t', 'after', 'up', 'serious', 'former', '’ve', 'enough', 'thence', 'are', 'everything', 'seem', 'might', 'did', 'out', 'some', 'if', 'side', 'all', 'rather', 'here', 'than', 'can', \"'ve\", 'both', 'anyhow', 'using', 'anything', 'could', 'hereupon', 'sixty', 'an', 'beside', 'perhaps', 'became', 'anyway', 'should', 'therein', 'four', 'show', 'so', 'he', 'how', 'six', 'more', 'thus', 'never', 'within', 'next', 'nothing', 'you', 'there', 'moreover', 'who', 'back', 'thru', 'always', 'one', '’m', 'is', 'somewhere', 'take', 'last', 'sometimes', 'such', 'whoever', 'would', 'on', 'else', 'whenever', 'same', 'since', 'formerly', 'move', 'already', 'everyone', 'top', 'do', 'yours', 'behind', 'each', 'empty', 'over', '‘re', 'beyond', 'eight', 'only', 'yourself', 'has', 'by', 'other', 'seeming', 'hers', 'to', 'although', 'must', 'latterly', 'hence', 'none', 'onto', '’re', 'due', 'of', 'with', 'themselves', 'again', 'ten', 'fifty', 'becomes', 'many', 'ours', '‘d', 'almost', 'another', 'put', 'toward', 'therefore', 'i', 'them', 'and', 'forty', 'in', 'please', 'they', 'whether', 'ca', 'whereby', 'thereby', 'whom', 'why', '’ll', 're', 'through', 'used', 'at', 'part', 'nine', 'once', 'because', 'along', 'make', 'becoming', 'less', 'every', 'when', 'doing', 'elsewhere', 'two', 'even', 'any', 'three', 'while', 'ourselves', 'name', 'himself', 'the', 'most', 'together', 'full', 'too', 'below', 'keep', 'mine', 'those', 'noone', '‘ll', 'into', 'this', 'latter', '’d', 'whereas', 'sometime', 'without', 'call', 'hereby', 'everywhere', 'herein', 'seemed', 'whole', 'anyone', 'say', 'something', 'being', 'these', 'or', 'via', 'somehow', 'throughout', 'whatever', 'beforehand', 'was', '‘s', 'just', 'seems', 'amongst', 'until', 'unless', 'very', 'a', 'meanwhile', 'third', 'afterwards', 'about', 'off', 'his', 'your', 'hereafter', 'then', 'myself', 'really', 'well', 'though', 'nevertheless', 'nowhere', 'among', 'yourselves', 'become', 'few', '‘m', 'will', 'be', \"'re\", 'twenty', 'either', 'fifteen', 'made', 'amount', 'twelve', 'whereafter', 'us', 'down', 'someone', 'eleven', 'get', 'hundred', 'per', 'ever', 'regarding', 'go', 'what', 'besides', 'where', 'across', \"'d\", 'does', 'whose', 'five', 'indeed', 'mostly', 'neither', \"'ll\", 'between', 'which', 'their', 'wherein', 'her', 'least', 'herself', 'that'}\n"
     ]
    }
   ],
   "source": [
    "print(stopwords)"
   ]
  },
  {
   "cell_type": "code",
   "execution_count": 28,
   "id": "9754a19b",
   "metadata": {},
   "outputs": [],
   "source": [
    "def count_stopwords(text):\n",
    "    stop_words = stopwords  \n",
    "    word_tokens = word_tokenize(text)\n",
    "    stopwords_x = [w for w in word_tokens if w in stop_words]\n",
    "    return len(stopwords_x)"
   ]
  },
  {
   "cell_type": "markdown",
   "id": "dc9a971a",
   "metadata": {},
   "source": [
    "11. Count of emojis"
   ]
  },
  {
   "cell_type": "code",
   "execution_count": 29,
   "id": "7f36d3b5",
   "metadata": {},
   "outputs": [],
   "source": [
    "def count_emoji(text):\n",
    "    return emoji.emoji_count(text)"
   ]
  },
  {
   "cell_type": "markdown",
   "id": "cdb6565a",
   "metadata": {},
   "source": [
    "##### Application of 1st round of feature engineering"
   ]
  },
  {
   "cell_type": "code",
   "execution_count": 30,
   "id": "105f41e6",
   "metadata": {},
   "outputs": [
    {
     "name": "stderr",
     "output_type": "stream",
     "text": [
      "/tmp/ipykernel_8897/3117292899.py:2: SettingWithCopyWarning: \n",
      "A value is trying to be set on a copy of a slice from a DataFrame.\n",
      "Try using .loc[row_indexer,col_indexer] = value instead\n",
      "\n",
      "See the caveats in the documentation: https://pandas.pydata.org/pandas-docs/stable/user_guide/indexing.html#returning-a-view-versus-a-copy\n",
      "  df_test1['char_count'] = df_test1[\"review_content\"].apply(lambda x:count_chars(x))\n"
     ]
    }
   ],
   "source": [
    "#apply all the functions just created above, to the whole dataset\n",
    "df_test1['char_count'] = df_test1[\"review_content\"].apply(lambda x:count_chars(x))\n",
    "df_test1['word_count'] = df_test1[\"review_content\"].apply(lambda x:count_words(x))\n",
    "df_test1['sent_count'] = df_test1[\"review_content\"].apply(lambda x:count_sent(x))\n",
    "df_test1['capital_char_count'] = df_test1[\"review_content\"].apply(lambda x:count_capital_chars(x))\n",
    "df_test1['capital_word_count'] = df_test1[\"review_content\"].apply(lambda x:count_capital_words(x))\n",
    "df_test1['quoted_word_count'] = df_test1[\"review_content\"].apply(lambda x:count_words_in_quotes(x))\n",
    "df_test1['stopword_count'] = df_test1[\"review_content\"].apply(lambda x:count_stopwords(x))\n",
    "df_test1['unique_word_count'] = df_test1[\"review_content\"].apply(lambda x:count_unique_words(x))\n",
    "df_test1['htag_count'] = df_test1[\"review_content\"].apply(lambda x:count_htags(x))\n",
    "df_test1['mention_count'] = df_test1[\"review_content\"].apply(lambda x:count_mentions(x))\n",
    "df_test1['punct_count'] = df_test1[\"review_content\"].apply(lambda x:count_punctuations(x))\n",
    "df_test1['emoji_count'] = df_test1[\"review_content\"].apply(lambda x:count_emoji(x))"
   ]
  },
  {
   "cell_type": "code",
   "execution_count": 31,
   "id": "5b9b2bfc",
   "metadata": {},
   "outputs": [
    {
     "name": "stdout",
     "output_type": "stream",
     "text": [
      "<class 'pandas.core.frame.DataFrame'>\n",
      "Int64Index: 22968 entries, 0 to 1467\n",
      "Data columns (total 15 columns):\n",
      " #   Column              Non-Null Count  Dtype \n",
      "---  ------              --------------  ----- \n",
      " 0   review_content      22968 non-null  object\n",
      " 1   rating              22968 non-null  int64 \n",
      " 2   rating_label        22968 non-null  object\n",
      " 3   char_count          22968 non-null  int64 \n",
      " 4   word_count          22968 non-null  int64 \n",
      " 5   sent_count          22968 non-null  int64 \n",
      " 6   capital_char_count  22968 non-null  int64 \n",
      " 7   capital_word_count  22968 non-null  int64 \n",
      " 8   quoted_word_count   22968 non-null  int64 \n",
      " 9   stopword_count      22968 non-null  int64 \n",
      " 10  unique_word_count   22968 non-null  int64 \n",
      " 11  htag_count          22968 non-null  int64 \n",
      " 12  mention_count       22968 non-null  int64 \n",
      " 13  punct_count         22968 non-null  object\n",
      " 14  emoji_count         22968 non-null  int64 \n",
      "dtypes: int64(12), object(3)\n",
      "memory usage: 2.8+ MB\n"
     ]
    }
   ],
   "source": [
    "df_test1.info()"
   ]
  },
  {
   "cell_type": "markdown",
   "id": "cd0e5767",
   "metadata": {},
   "source": [
    "#### Step 2 => New features created directly from features above and applied on df"
   ]
  },
  {
   "cell_type": "markdown",
   "id": "c8ef197b",
   "metadata": {},
   "source": [
    "12. Calculating average word length"
   ]
  },
  {
   "cell_type": "code",
   "execution_count": 32,
   "id": "e55bb06f",
   "metadata": {},
   "outputs": [],
   "source": [
    "df_test1['avg_wordlength'] = df_test1['char_count']/df_test1['word_count']"
   ]
  },
  {
   "cell_type": "markdown",
   "id": "53edf648",
   "metadata": {},
   "source": [
    "13. Calculating average sentence length"
   ]
  },
  {
   "cell_type": "code",
   "execution_count": 33,
   "id": "0976421f",
   "metadata": {},
   "outputs": [],
   "source": [
    "df_test1['avg_sentlength'] = df_test1['word_count']/df_test1['sent_count']"
   ]
  },
  {
   "cell_type": "markdown",
   "id": "47fddb5f",
   "metadata": {},
   "source": [
    "14. Ratio unique words vs word count"
   ]
  },
  {
   "cell_type": "code",
   "execution_count": 34,
   "id": "9f6ad659",
   "metadata": {},
   "outputs": [],
   "source": [
    "df_test1['unique_vs_words'] = df_test1['unique_word_count']/df_test1['word_count']"
   ]
  },
  {
   "cell_type": "markdown",
   "id": "42f604ff",
   "metadata": {},
   "source": [
    "15. Ratio stopwords count vs words count"
   ]
  },
  {
   "cell_type": "code",
   "execution_count": 35,
   "id": "71372423",
   "metadata": {},
   "outputs": [],
   "source": [
    "df_test1['stopwords_vs_words'] = df_test1['stopword_count']/df_test1['word_count']"
   ]
  },
  {
   "cell_type": "code",
   "execution_count": 36,
   "id": "e31b3e5e",
   "metadata": {},
   "outputs": [
    {
     "name": "stdout",
     "output_type": "stream",
     "text": [
      "<class 'pandas.core.frame.DataFrame'>\n",
      "Int64Index: 22968 entries, 0 to 1467\n",
      "Data columns (total 19 columns):\n",
      " #   Column              Non-Null Count  Dtype  \n",
      "---  ------              --------------  -----  \n",
      " 0   review_content      22968 non-null  object \n",
      " 1   rating              22968 non-null  int64  \n",
      " 2   rating_label        22968 non-null  object \n",
      " 3   char_count          22968 non-null  int64  \n",
      " 4   word_count          22968 non-null  int64  \n",
      " 5   sent_count          22968 non-null  int64  \n",
      " 6   capital_char_count  22968 non-null  int64  \n",
      " 7   capital_word_count  22968 non-null  int64  \n",
      " 8   quoted_word_count   22968 non-null  int64  \n",
      " 9   stopword_count      22968 non-null  int64  \n",
      " 10  unique_word_count   22968 non-null  int64  \n",
      " 11  htag_count          22968 non-null  int64  \n",
      " 12  mention_count       22968 non-null  int64  \n",
      " 13  punct_count         22968 non-null  object \n",
      " 14  emoji_count         22968 non-null  int64  \n",
      " 15  avg_wordlength      22968 non-null  float64\n",
      " 16  avg_sentlength      22968 non-null  float64\n",
      " 17  unique_vs_words     22968 non-null  float64\n",
      " 18  stopwords_vs_words  22968 non-null  float64\n",
      "dtypes: float64(4), int64(12), object(3)\n",
      "memory usage: 3.5+ MB\n"
     ]
    }
   ],
   "source": [
    "df_test1.info()"
   ]
  },
  {
   "cell_type": "markdown",
   "id": "0d03f082",
   "metadata": {},
   "source": [
    "16. Adding columns based on punctuation used in each text"
   ]
  },
  {
   "cell_type": "code",
   "execution_count": 37,
   "id": "e9d27199",
   "metadata": {},
   "outputs": [
    {
     "data": {
      "text/plain": [
       "Index(['review_content', 'rating', 'rating_label', 'char_count', 'word_count',\n",
       "       'sent_count', 'capital_char_count', 'capital_word_count',\n",
       "       'quoted_word_count', 'stopword_count', 'unique_word_count',\n",
       "       'htag_count', 'mention_count', 'emoji_count', 'avg_wordlength',\n",
       "       'avg_sentlength', 'unique_vs_words', 'stopwords_vs_words', '!count',\n",
       "       '#count', '$count', '%count', '&count', ''count', '(count', ')count',\n",
       "       '*count', '+count', ',count', '-count', '.count', '/count', ':count',\n",
       "       ';count', '<count', '=count', '>count', '?count', '@count', '[count',\n",
       "       '\\count', ']count', '^count', '_count', '`count', '{count', '|count',\n",
       "       '}count', '~count'],\n",
       "      dtype='object')"
      ]
     },
     "execution_count": 37,
     "metadata": {},
     "output_type": "execute_result"
    }
   ],
   "source": [
    "# Creating new dataframe retrieving all the different punctuation used in each text\n",
    "df_punct = pd.DataFrame(list(df_test1.punct_count))\n",
    "\n",
    "# Merging punctuation DataFrame with main DataFrame\n",
    "df_test1 = pd.merge(df_test1, df_punct, left_index=True, right_index=True)\n",
    "\n",
    "# Dropping \"punct_count\" column from main DataFrame\n",
    "df_test1.drop(columns=['punct_count'],inplace=True)\n",
    "df_test1.columns"
   ]
  },
  {
   "cell_type": "code",
   "execution_count": 38,
   "id": "90d95b63",
   "metadata": {},
   "outputs": [
    {
     "name": "stdout",
     "output_type": "stream",
     "text": [
      "<class 'pandas.core.frame.DataFrame'>\n",
      "Int64Index: 22968 entries, 0 to 19847\n",
      "Data columns (total 49 columns):\n",
      " #   Column              Non-Null Count  Dtype  \n",
      "---  ------              --------------  -----  \n",
      " 0   review_content      22968 non-null  object \n",
      " 1   rating              22968 non-null  int64  \n",
      " 2   rating_label        22968 non-null  object \n",
      " 3   char_count          22968 non-null  int64  \n",
      " 4   word_count          22968 non-null  int64  \n",
      " 5   sent_count          22968 non-null  int64  \n",
      " 6   capital_char_count  22968 non-null  int64  \n",
      " 7   capital_word_count  22968 non-null  int64  \n",
      " 8   quoted_word_count   22968 non-null  int64  \n",
      " 9   stopword_count      22968 non-null  int64  \n",
      " 10  unique_word_count   22968 non-null  int64  \n",
      " 11  htag_count          22968 non-null  int64  \n",
      " 12  mention_count       22968 non-null  int64  \n",
      " 13  emoji_count         22968 non-null  int64  \n",
      " 14  avg_wordlength      22968 non-null  float64\n",
      " 15  avg_sentlength      22968 non-null  float64\n",
      " 16  unique_vs_words     22968 non-null  float64\n",
      " 17  stopwords_vs_words  22968 non-null  float64\n",
      " 18  !count              22968 non-null  int64  \n",
      " 19  #count              22968 non-null  int64  \n",
      " 20  $count              22968 non-null  int64  \n",
      " 21  %count              22968 non-null  int64  \n",
      " 22  &count              22968 non-null  int64  \n",
      " 23  'count              22968 non-null  int64  \n",
      " 24  (count              22968 non-null  int64  \n",
      " 25  )count              22968 non-null  int64  \n",
      " 26  *count              22968 non-null  int64  \n",
      " 27  +count              22968 non-null  int64  \n",
      " 28  ,count              22968 non-null  int64  \n",
      " 29  -count              22968 non-null  int64  \n",
      " 30  .count              22968 non-null  int64  \n",
      " 31  /count              22968 non-null  int64  \n",
      " 32  :count              22968 non-null  int64  \n",
      " 33  ;count              22968 non-null  int64  \n",
      " 34  <count              22968 non-null  int64  \n",
      " 35  =count              22968 non-null  int64  \n",
      " 36  >count              22968 non-null  int64  \n",
      " 37  ?count              22968 non-null  int64  \n",
      " 38  @count              22968 non-null  int64  \n",
      " 39  [count              22968 non-null  int64  \n",
      " 40  \\count              22968 non-null  int64  \n",
      " 41  ]count              22968 non-null  int64  \n",
      " 42  ^count              22968 non-null  int64  \n",
      " 43  _count              22968 non-null  int64  \n",
      " 44  `count              22968 non-null  int64  \n",
      " 45  {count              22968 non-null  int64  \n",
      " 46  |count              22968 non-null  int64  \n",
      " 47  }count              22968 non-null  int64  \n",
      " 48  ~count              22968 non-null  int64  \n",
      "dtypes: float64(4), int64(43), object(2)\n",
      "memory usage: 8.8+ MB\n"
     ]
    }
   ],
   "source": [
    "df_test1.info()"
   ]
  },
  {
   "cell_type": "code",
   "execution_count": 39,
   "id": "27ab654f",
   "metadata": {},
   "outputs": [
    {
     "data": {
      "text/html": [
       "<div>\n",
       "<style scoped>\n",
       "    .dataframe tbody tr th:only-of-type {\n",
       "        vertical-align: middle;\n",
       "    }\n",
       "\n",
       "    .dataframe tbody tr th {\n",
       "        vertical-align: top;\n",
       "    }\n",
       "\n",
       "    .dataframe thead th {\n",
       "        text-align: right;\n",
       "    }\n",
       "</style>\n",
       "<table border=\"1\" class=\"dataframe\">\n",
       "  <thead>\n",
       "    <tr style=\"text-align: right;\">\n",
       "      <th></th>\n",
       "      <th>rating</th>\n",
       "      <th>char_count</th>\n",
       "      <th>word_count</th>\n",
       "      <th>sent_count</th>\n",
       "      <th>capital_char_count</th>\n",
       "      <th>capital_word_count</th>\n",
       "      <th>quoted_word_count</th>\n",
       "      <th>stopword_count</th>\n",
       "      <th>unique_word_count</th>\n",
       "      <th>htag_count</th>\n",
       "      <th>...</th>\n",
       "      <th>[count</th>\n",
       "      <th>\\count</th>\n",
       "      <th>]count</th>\n",
       "      <th>^count</th>\n",
       "      <th>_count</th>\n",
       "      <th>`count</th>\n",
       "      <th>{count</th>\n",
       "      <th>|count</th>\n",
       "      <th>}count</th>\n",
       "      <th>~count</th>\n",
       "    </tr>\n",
       "  </thead>\n",
       "  <tbody>\n",
       "    <tr>\n",
       "      <th>count</th>\n",
       "      <td>22968.000000</td>\n",
       "      <td>22968.000000</td>\n",
       "      <td>22968.000000</td>\n",
       "      <td>22968.000000</td>\n",
       "      <td>22968.000000</td>\n",
       "      <td>22968.000000</td>\n",
       "      <td>22968.000000</td>\n",
       "      <td>22968.000000</td>\n",
       "      <td>22968.000000</td>\n",
       "      <td>22968.000000</td>\n",
       "      <td>...</td>\n",
       "      <td>22968.000000</td>\n",
       "      <td>22968.000000</td>\n",
       "      <td>22968.000000</td>\n",
       "      <td>22968.000000</td>\n",
       "      <td>22968.000000</td>\n",
       "      <td>22968.000000</td>\n",
       "      <td>22968.0</td>\n",
       "      <td>22968.0</td>\n",
       "      <td>22968.0</td>\n",
       "      <td>22968.000000</td>\n",
       "    </tr>\n",
       "    <tr>\n",
       "      <th>mean</th>\n",
       "      <td>4.433473</td>\n",
       "      <td>121.877699</td>\n",
       "      <td>22.753701</td>\n",
       "      <td>2.080329</td>\n",
       "      <td>2.943530</td>\n",
       "      <td>0.565482</td>\n",
       "      <td>0.000087</td>\n",
       "      <td>10.032132</td>\n",
       "      <td>19.483063</td>\n",
       "      <td>0.000044</td>\n",
       "      <td>...</td>\n",
       "      <td>0.000218</td>\n",
       "      <td>0.000044</td>\n",
       "      <td>0.000218</td>\n",
       "      <td>0.000610</td>\n",
       "      <td>0.000305</td>\n",
       "      <td>0.000087</td>\n",
       "      <td>0.0</td>\n",
       "      <td>0.0</td>\n",
       "      <td>0.0</td>\n",
       "      <td>0.000610</td>\n",
       "    </tr>\n",
       "    <tr>\n",
       "      <th>std</th>\n",
       "      <td>1.226021</td>\n",
       "      <td>157.477405</td>\n",
       "      <td>29.794663</td>\n",
       "      <td>1.711031</td>\n",
       "      <td>4.837543</td>\n",
       "      <td>1.488223</td>\n",
       "      <td>0.009331</td>\n",
       "      <td>15.248243</td>\n",
       "      <td>21.407197</td>\n",
       "      <td>0.006598</td>\n",
       "      <td>...</td>\n",
       "      <td>0.017457</td>\n",
       "      <td>0.006598</td>\n",
       "      <td>0.017457</td>\n",
       "      <td>0.034911</td>\n",
       "      <td>0.021883</td>\n",
       "      <td>0.009331</td>\n",
       "      <td>0.0</td>\n",
       "      <td>0.0</td>\n",
       "      <td>0.0</td>\n",
       "      <td>0.026387</td>\n",
       "    </tr>\n",
       "    <tr>\n",
       "      <th>min</th>\n",
       "      <td>1.000000</td>\n",
       "      <td>1.000000</td>\n",
       "      <td>1.000000</td>\n",
       "      <td>1.000000</td>\n",
       "      <td>0.000000</td>\n",
       "      <td>0.000000</td>\n",
       "      <td>0.000000</td>\n",
       "      <td>0.000000</td>\n",
       "      <td>1.000000</td>\n",
       "      <td>0.000000</td>\n",
       "      <td>...</td>\n",
       "      <td>0.000000</td>\n",
       "      <td>0.000000</td>\n",
       "      <td>0.000000</td>\n",
       "      <td>0.000000</td>\n",
       "      <td>0.000000</td>\n",
       "      <td>0.000000</td>\n",
       "      <td>0.0</td>\n",
       "      <td>0.0</td>\n",
       "      <td>0.0</td>\n",
       "      <td>0.000000</td>\n",
       "    </tr>\n",
       "    <tr>\n",
       "      <th>25%</th>\n",
       "      <td>5.000000</td>\n",
       "      <td>31.000000</td>\n",
       "      <td>6.000000</td>\n",
       "      <td>1.000000</td>\n",
       "      <td>1.000000</td>\n",
       "      <td>0.000000</td>\n",
       "      <td>0.000000</td>\n",
       "      <td>1.000000</td>\n",
       "      <td>6.000000</td>\n",
       "      <td>0.000000</td>\n",
       "      <td>...</td>\n",
       "      <td>0.000000</td>\n",
       "      <td>0.000000</td>\n",
       "      <td>0.000000</td>\n",
       "      <td>0.000000</td>\n",
       "      <td>0.000000</td>\n",
       "      <td>0.000000</td>\n",
       "      <td>0.0</td>\n",
       "      <td>0.0</td>\n",
       "      <td>0.0</td>\n",
       "      <td>0.000000</td>\n",
       "    </tr>\n",
       "    <tr>\n",
       "      <th>50%</th>\n",
       "      <td>5.000000</td>\n",
       "      <td>69.000000</td>\n",
       "      <td>13.000000</td>\n",
       "      <td>1.000000</td>\n",
       "      <td>2.000000</td>\n",
       "      <td>0.000000</td>\n",
       "      <td>0.000000</td>\n",
       "      <td>5.000000</td>\n",
       "      <td>12.000000</td>\n",
       "      <td>0.000000</td>\n",
       "      <td>...</td>\n",
       "      <td>0.000000</td>\n",
       "      <td>0.000000</td>\n",
       "      <td>0.000000</td>\n",
       "      <td>0.000000</td>\n",
       "      <td>0.000000</td>\n",
       "      <td>0.000000</td>\n",
       "      <td>0.0</td>\n",
       "      <td>0.0</td>\n",
       "      <td>0.0</td>\n",
       "      <td>0.000000</td>\n",
       "    </tr>\n",
       "    <tr>\n",
       "      <th>75%</th>\n",
       "      <td>5.000000</td>\n",
       "      <td>151.000000</td>\n",
       "      <td>28.000000</td>\n",
       "      <td>3.000000</td>\n",
       "      <td>3.000000</td>\n",
       "      <td>1.000000</td>\n",
       "      <td>0.000000</td>\n",
       "      <td>13.000000</td>\n",
       "      <td>26.000000</td>\n",
       "      <td>0.000000</td>\n",
       "      <td>...</td>\n",
       "      <td>0.000000</td>\n",
       "      <td>0.000000</td>\n",
       "      <td>0.000000</td>\n",
       "      <td>0.000000</td>\n",
       "      <td>0.000000</td>\n",
       "      <td>0.000000</td>\n",
       "      <td>0.0</td>\n",
       "      <td>0.0</td>\n",
       "      <td>0.0</td>\n",
       "      <td>0.000000</td>\n",
       "    </tr>\n",
       "    <tr>\n",
       "      <th>max</th>\n",
       "      <td>5.000000</td>\n",
       "      <td>4894.000000</td>\n",
       "      <td>871.000000</td>\n",
       "      <td>37.000000</td>\n",
       "      <td>166.000000</td>\n",
       "      <td>47.000000</td>\n",
       "      <td>1.000000</td>\n",
       "      <td>438.000000</td>\n",
       "      <td>448.000000</td>\n",
       "      <td>1.000000</td>\n",
       "      <td>...</td>\n",
       "      <td>2.000000</td>\n",
       "      <td>1.000000</td>\n",
       "      <td>2.000000</td>\n",
       "      <td>2.000000</td>\n",
       "      <td>2.000000</td>\n",
       "      <td>1.000000</td>\n",
       "      <td>0.0</td>\n",
       "      <td>0.0</td>\n",
       "      <td>0.0</td>\n",
       "      <td>2.000000</td>\n",
       "    </tr>\n",
       "  </tbody>\n",
       "</table>\n",
       "<p>8 rows × 47 columns</p>\n",
       "</div>"
      ],
      "text/plain": [
       "             rating    char_count    word_count    sent_count  \\\n",
       "count  22968.000000  22968.000000  22968.000000  22968.000000   \n",
       "mean       4.433473    121.877699     22.753701      2.080329   \n",
       "std        1.226021    157.477405     29.794663      1.711031   \n",
       "min        1.000000      1.000000      1.000000      1.000000   \n",
       "25%        5.000000     31.000000      6.000000      1.000000   \n",
       "50%        5.000000     69.000000     13.000000      1.000000   \n",
       "75%        5.000000    151.000000     28.000000      3.000000   \n",
       "max        5.000000   4894.000000    871.000000     37.000000   \n",
       "\n",
       "       capital_char_count  capital_word_count  quoted_word_count  \\\n",
       "count        22968.000000        22968.000000       22968.000000   \n",
       "mean             2.943530            0.565482           0.000087   \n",
       "std              4.837543            1.488223           0.009331   \n",
       "min              0.000000            0.000000           0.000000   \n",
       "25%              1.000000            0.000000           0.000000   \n",
       "50%              2.000000            0.000000           0.000000   \n",
       "75%              3.000000            1.000000           0.000000   \n",
       "max            166.000000           47.000000           1.000000   \n",
       "\n",
       "       stopword_count  unique_word_count    htag_count  ...        [count  \\\n",
       "count    22968.000000       22968.000000  22968.000000  ...  22968.000000   \n",
       "mean        10.032132          19.483063      0.000044  ...      0.000218   \n",
       "std         15.248243          21.407197      0.006598  ...      0.017457   \n",
       "min          0.000000           1.000000      0.000000  ...      0.000000   \n",
       "25%          1.000000           6.000000      0.000000  ...      0.000000   \n",
       "50%          5.000000          12.000000      0.000000  ...      0.000000   \n",
       "75%         13.000000          26.000000      0.000000  ...      0.000000   \n",
       "max        438.000000         448.000000      1.000000  ...      2.000000   \n",
       "\n",
       "             \\count        ]count        ^count        _count        `count  \\\n",
       "count  22968.000000  22968.000000  22968.000000  22968.000000  22968.000000   \n",
       "mean       0.000044      0.000218      0.000610      0.000305      0.000087   \n",
       "std        0.006598      0.017457      0.034911      0.021883      0.009331   \n",
       "min        0.000000      0.000000      0.000000      0.000000      0.000000   \n",
       "25%        0.000000      0.000000      0.000000      0.000000      0.000000   \n",
       "50%        0.000000      0.000000      0.000000      0.000000      0.000000   \n",
       "75%        0.000000      0.000000      0.000000      0.000000      0.000000   \n",
       "max        1.000000      2.000000      2.000000      2.000000      1.000000   \n",
       "\n",
       "        {count   |count   }count        ~count  \n",
       "count  22968.0  22968.0  22968.0  22968.000000  \n",
       "mean       0.0      0.0      0.0      0.000610  \n",
       "std        0.0      0.0      0.0      0.026387  \n",
       "min        0.0      0.0      0.0      0.000000  \n",
       "25%        0.0      0.0      0.0      0.000000  \n",
       "50%        0.0      0.0      0.0      0.000000  \n",
       "75%        0.0      0.0      0.0      0.000000  \n",
       "max        0.0      0.0      0.0      2.000000  \n",
       "\n",
       "[8 rows x 47 columns]"
      ]
     },
     "execution_count": 39,
     "metadata": {},
     "output_type": "execute_result"
    }
   ],
   "source": [
    "df_test1.describe()"
   ]
  },
  {
   "cell_type": "code",
   "execution_count": 40,
   "id": "ad8c74b3",
   "metadata": {},
   "outputs": [
    {
     "data": {
      "text/html": [
       "<div>\n",
       "<style scoped>\n",
       "    .dataframe tbody tr th:only-of-type {\n",
       "        vertical-align: middle;\n",
       "    }\n",
       "\n",
       "    .dataframe tbody tr th {\n",
       "        vertical-align: top;\n",
       "    }\n",
       "\n",
       "    .dataframe thead th {\n",
       "        text-align: right;\n",
       "    }\n",
       "</style>\n",
       "<table border=\"1\" class=\"dataframe\">\n",
       "  <thead>\n",
       "    <tr style=\"text-align: right;\">\n",
       "      <th></th>\n",
       "      <th>review_content</th>\n",
       "      <th>rating</th>\n",
       "      <th>rating_label</th>\n",
       "      <th>char_count</th>\n",
       "      <th>word_count</th>\n",
       "      <th>sent_count</th>\n",
       "      <th>capital_char_count</th>\n",
       "      <th>capital_word_count</th>\n",
       "      <th>quoted_word_count</th>\n",
       "      <th>stopword_count</th>\n",
       "      <th>...</th>\n",
       "      <th>[count</th>\n",
       "      <th>\\count</th>\n",
       "      <th>]count</th>\n",
       "      <th>^count</th>\n",
       "      <th>_count</th>\n",
       "      <th>`count</th>\n",
       "      <th>{count</th>\n",
       "      <th>|count</th>\n",
       "      <th>}count</th>\n",
       "      <th>~count</th>\n",
       "    </tr>\n",
       "  </thead>\n",
       "  <tbody>\n",
       "    <tr>\n",
       "      <th>0</th>\n",
       "      <td>It does exactly what it says it does efficient...</td>\n",
       "      <td>5</td>\n",
       "      <td>5 - awesome</td>\n",
       "      <td>97</td>\n",
       "      <td>17</td>\n",
       "      <td>2</td>\n",
       "      <td>2</td>\n",
       "      <td>0</td>\n",
       "      <td>0</td>\n",
       "      <td>8</td>\n",
       "      <td>...</td>\n",
       "      <td>0</td>\n",
       "      <td>0</td>\n",
       "      <td>0</td>\n",
       "      <td>0</td>\n",
       "      <td>0</td>\n",
       "      <td>0</td>\n",
       "      <td>0</td>\n",
       "      <td>0</td>\n",
       "      <td>0</td>\n",
       "      <td>0</td>\n",
       "    </tr>\n",
       "    <tr>\n",
       "      <th>0</th>\n",
       "      <td>Not that great to go more like I have had this...</td>\n",
       "      <td>5</td>\n",
       "      <td>5 - awesome</td>\n",
       "      <td>1267</td>\n",
       "      <td>271</td>\n",
       "      <td>2</td>\n",
       "      <td>14</td>\n",
       "      <td>9</td>\n",
       "      <td>0</td>\n",
       "      <td>133</td>\n",
       "      <td>...</td>\n",
       "      <td>0</td>\n",
       "      <td>0</td>\n",
       "      <td>0</td>\n",
       "      <td>0</td>\n",
       "      <td>0</td>\n",
       "      <td>0</td>\n",
       "      <td>0</td>\n",
       "      <td>0</td>\n",
       "      <td>0</td>\n",
       "      <td>0</td>\n",
       "    </tr>\n",
       "    <tr>\n",
       "      <th>0</th>\n",
       "      <td>TOBY CARVERY LATE CANCELLATION 30 minutes befo...</td>\n",
       "      <td>1</td>\n",
       "      <td>1 - awful</td>\n",
       "      <td>299</td>\n",
       "      <td>51</td>\n",
       "      <td>3</td>\n",
       "      <td>34</td>\n",
       "      <td>4</td>\n",
       "      <td>0</td>\n",
       "      <td>18</td>\n",
       "      <td>...</td>\n",
       "      <td>0</td>\n",
       "      <td>0</td>\n",
       "      <td>0</td>\n",
       "      <td>0</td>\n",
       "      <td>0</td>\n",
       "      <td>0</td>\n",
       "      <td>0</td>\n",
       "      <td>0</td>\n",
       "      <td>0</td>\n",
       "      <td>0</td>\n",
       "    </tr>\n",
       "    <tr>\n",
       "      <th>1</th>\n",
       "      <td>Well, I've only done 2 different vendors. The ...</td>\n",
       "      <td>4</td>\n",
       "      <td>4 - good</td>\n",
       "      <td>267</td>\n",
       "      <td>50</td>\n",
       "      <td>6</td>\n",
       "      <td>9</td>\n",
       "      <td>2</td>\n",
       "      <td>0</td>\n",
       "      <td>18</td>\n",
       "      <td>...</td>\n",
       "      <td>0</td>\n",
       "      <td>0</td>\n",
       "      <td>0</td>\n",
       "      <td>0</td>\n",
       "      <td>0</td>\n",
       "      <td>0</td>\n",
       "      <td>0</td>\n",
       "      <td>0</td>\n",
       "      <td>0</td>\n",
       "      <td>0</td>\n",
       "    </tr>\n",
       "    <tr>\n",
       "      <th>1</th>\n",
       "      <td>Barley Farm - Eccles This was the first time u...</td>\n",
       "      <td>5</td>\n",
       "      <td>5 - awesome</td>\n",
       "      <td>1021</td>\n",
       "      <td>206</td>\n",
       "      <td>15</td>\n",
       "      <td>33</td>\n",
       "      <td>14</td>\n",
       "      <td>0</td>\n",
       "      <td>98</td>\n",
       "      <td>...</td>\n",
       "      <td>0</td>\n",
       "      <td>0</td>\n",
       "      <td>0</td>\n",
       "      <td>0</td>\n",
       "      <td>0</td>\n",
       "      <td>0</td>\n",
       "      <td>0</td>\n",
       "      <td>0</td>\n",
       "      <td>0</td>\n",
       "      <td>0</td>\n",
       "    </tr>\n",
       "  </tbody>\n",
       "</table>\n",
       "<p>5 rows × 49 columns</p>\n",
       "</div>"
      ],
      "text/plain": [
       "                                      review_content  rating rating_label  \\\n",
       "0  It does exactly what it says it does efficient...       5  5 - awesome   \n",
       "0  Not that great to go more like I have had this...       5  5 - awesome   \n",
       "0  TOBY CARVERY LATE CANCELLATION 30 minutes befo...       1    1 - awful   \n",
       "1  Well, I've only done 2 different vendors. The ...       4     4 - good   \n",
       "1  Barley Farm - Eccles This was the first time u...       5  5 - awesome   \n",
       "\n",
       "   char_count  word_count  sent_count  capital_char_count  capital_word_count  \\\n",
       "0          97          17           2                   2                   0   \n",
       "0        1267         271           2                  14                   9   \n",
       "0         299          51           3                  34                   4   \n",
       "1         267          50           6                   9                   2   \n",
       "1        1021         206          15                  33                  14   \n",
       "\n",
       "   quoted_word_count  stopword_count  ...  [count  \\count  ]count  ^count  \\\n",
       "0                  0               8  ...       0       0       0       0   \n",
       "0                  0             133  ...       0       0       0       0   \n",
       "0                  0              18  ...       0       0       0       0   \n",
       "1                  0              18  ...       0       0       0       0   \n",
       "1                  0              98  ...       0       0       0       0   \n",
       "\n",
       "   _count  `count  {count  |count  }count  ~count  \n",
       "0       0       0       0       0       0       0  \n",
       "0       0       0       0       0       0       0  \n",
       "0       0       0       0       0       0       0  \n",
       "1       0       0       0       0       0       0  \n",
       "1       0       0       0       0       0       0  \n",
       "\n",
       "[5 rows x 49 columns]"
      ]
     },
     "execution_count": 40,
     "metadata": {},
     "output_type": "execute_result"
    }
   ],
   "source": [
    "df_test1.head()"
   ]
  },
  {
   "cell_type": "markdown",
   "id": "52febf20",
   "metadata": {},
   "source": [
    "### B) Preprocessing methodology"
   ]
  },
  {
   "cell_type": "code",
   "execution_count": 41,
   "id": "3fb139ea",
   "metadata": {},
   "outputs": [],
   "source": [
    "# transform emojis into words\n",
    "def emo_trans(text):\n",
    "    text=emoji.demojize(text)\n",
    "    text=text.replace(\":\",\" \")\n",
    "    text=' '.join(text.split())\n",
    "    return text"
   ]
  },
  {
   "cell_type": "code",
   "execution_count": 42,
   "id": "50b234d6",
   "metadata": {},
   "outputs": [],
   "source": [
    "# remove repeated characters\n",
    "class Solution:\n",
    "    def solve(self, s):\n",
    "        seen = s[0]\n",
    "        ans = s[0]\n",
    "        for i in s[1:]:\n",
    "            if i != seen:\n",
    "                ans += i\n",
    "                seen = i\n",
    "        return ans"
   ]
  },
  {
   "cell_type": "code",
   "execution_count": 43,
   "id": "7a48fe00",
   "metadata": {},
   "outputs": [],
   "source": [
    "ob = Solution()"
   ]
  },
  {
   "cell_type": "code",
   "execution_count": 44,
   "id": "2623b1a3",
   "metadata": {},
   "outputs": [],
   "source": [
    "# to correct mispelling\n",
    "def correcter_words(text):\n",
    "    text=text\n",
    "    chkr = SpellChecker(\"en_US\",text)\n",
    "    for err in chkr:\n",
    "        err.suggest()\n",
    "        sug = err.suggest()[0]\n",
    "        err.replace(sug)\n",
    "    text = chkr.get_text()\n",
    "    return text"
   ]
  },
  {
   "cell_type": "code",
   "execution_count": 50,
   "id": "e2c6b1f7",
   "metadata": {},
   "outputs": [],
   "source": [
    "# function to run preprocessing\n",
    "def preprocessing(text):\n",
    "    text=text.lower() # to put in lower case\n",
    "    text=' '.join(text.split()) # to remove extra white spaces (whichever how many)\n",
    "    text=re.sub(\"'\", \"\", text) # to avoid removing contractions in english\n",
    "    text=emo_trans(text) # to transform emojis into words\n",
    "    text=re.sub(\"@[A-Za-z0-9_]+\",\"\", text) # to remove mentions\n",
    "    text=re.sub(\"#[A-Za-z0-9_]+\",\"\", text) # to remove hashtags\n",
    "    text=re.sub(r\"http\\S+\", \"\", text) # to remove urls\n",
    "    text=re.sub(r\"www.\\S+\", \"\", text) # to remove urls\n",
    "    text=re.sub('((www.[^s]+)|(https?://[^s]+))',' ',text) # to remove urls - 3rd version\n",
    "    text=re.sub(\"[^a-z0-9]\",\" \", text) # to remove non-alphanumerical characters\n",
    "    #text = ob.solve(text)\n",
    "    #text = correcter_words(text)\n",
    "    tokens = word_tokenize(text) # to tokenize\n",
    "    tokens_no_punctuation = [t for t in tokens if t.isalpha()]\n",
    "    tokens_no_stop = [t for t in tokens_no_punctuation if t not in stopwords]\n",
    "    lemmatizer = WordNetLemmatizer()\n",
    "    token_lem = [lemmatizer.lemmatize(t) for t in tokens_no_stop]\n",
    "    return token_lem"
   ]
  },
  {
   "cell_type": "code",
   "execution_count": 51,
   "id": "d23a7af1",
   "metadata": {},
   "outputs": [],
   "source": [
    "df_test1['preprocessed_content'] = df_test1['review_content'].apply(lambda x:preprocessing(x))"
   ]
  },
  {
   "cell_type": "markdown",
   "id": "e73e4376",
   "metadata": {},
   "source": [
    "### D) Splitting data (df_train & df_test) & Definition of corresponding ys"
   ]
  },
  {
   "cell_type": "code",
   "execution_count": 101,
   "id": "c8268bea",
   "metadata": {},
   "outputs": [],
   "source": [
    "df_test1 = df_test1.sample(len(df_test1))\n",
    "df_train = df_test1[:int(0.8*len(df_test1))]\n",
    "df_test = df_test1[int(0.8*len(df_test1)):]"
   ]
  },
  {
   "cell_type": "code",
   "execution_count": null,
   "id": "25ddcd4d",
   "metadata": {},
   "outputs": [],
   "source": [
    "y_train = df_train['rating']"
   ]
  },
  {
   "cell_type": "code",
   "execution_count": 100,
   "id": "d4cd6ecd",
   "metadata": {},
   "outputs": [],
   "source": [
    "df_train = df_train.drop(columns=['rating_label','rating'])"
   ]
  },
  {
   "cell_type": "code",
   "execution_count": null,
   "id": "30c4df30",
   "metadata": {},
   "outputs": [],
   "source": [
    "y_test = df_test['rating']"
   ]
  },
  {
   "cell_type": "code",
   "execution_count": null,
   "id": "6d6310e3",
   "metadata": {},
   "outputs": [],
   "source": [
    "df_test = df_test.drop(columns=['rating_label','rating'])"
   ]
  },
  {
   "cell_type": "markdown",
   "id": "6c37a3c1",
   "metadata": {},
   "source": [
    "### E) TF-IDF"
   ]
  },
  {
   "cell_type": "markdown",
   "id": "1e192499",
   "metadata": {},
   "source": [
    "So that the ML model won't be skewed with test data taken into account in its designing, TF-IDF will be done on df_train only.\n",
    "\n",
    "In few words, reminder of what TF_IDF is:\n",
    "Extracting features from text is to use the bag of words model: a model where for each document, a complaint narrative in our case, the presence (and often the frequency) of words is taken into consideration, but the order in which they occur is ignored.\n",
    "Specifically, for each term in our dataset, we will calculate a measure called Term Frequency, Inverse Document Frequency, abbreviated to tf-idf. We will use sklearn.feature_extraction.text.TfidfVectorizer to calculate a tf-idf vector for each of consumer complaint narratives.\n",
    "\n",
    "Due to dataset size, the number of words will be set up with 3000 maximum in the 'max_features' hyperparameter."
   ]
  },
  {
   "cell_type": "code",
   "execution_count": 57,
   "id": "01d5c445",
   "metadata": {},
   "outputs": [],
   "source": [
    "tfidf = TfidfVectorizer(sublinear_tf=True, min_df=5, norm='l2', max_features=3000, encoding='latin-1', ngram_range=(1, 3), stop_words='english')\n",
    "\n",
    "features_train = tfidf.fit_transform(df_train['review_content']).toarray()\n",
    "labels_train = df_train['rating']"
   ]
  },
  {
   "cell_type": "code",
   "execution_count": 58,
   "id": "1525592a",
   "metadata": {},
   "outputs": [
    {
     "data": {
      "text/plain": [
       "(18374, 3000)"
      ]
     },
     "execution_count": 58,
     "metadata": {},
     "output_type": "execute_result"
    }
   ],
   "source": [
    "features_train.shape"
   ]
  },
  {
   "cell_type": "markdown",
   "id": "2618dc65",
   "metadata": {},
   "source": [
    "On df_test, TF_IDF is created with .transform only."
   ]
  },
  {
   "cell_type": "code",
   "execution_count": 59,
   "id": "74efc332",
   "metadata": {},
   "outputs": [],
   "source": [
    "features_test = tfidf.transform(df_test['review_content']).toarray()"
   ]
  },
  {
   "cell_type": "code",
   "execution_count": 61,
   "id": "aeff26f9",
   "metadata": {},
   "outputs": [
    {
     "data": {
      "text/plain": [
       "(4594, 3000)"
      ]
     },
     "execution_count": 61,
     "metadata": {},
     "output_type": "execute_result"
    }
   ],
   "source": [
    "features_test.shape"
   ]
  },
  {
   "cell_type": "markdown",
   "id": "f3436527",
   "metadata": {},
   "source": [
    "### F)  Definition of X"
   ]
  },
  {
   "cell_type": "markdown",
   "id": "5658cdef",
   "metadata": {},
   "source": [
    "#### df_train"
   ]
  },
  {
   "cell_type": "code",
   "execution_count": 64,
   "id": "6b6228ab",
   "metadata": {},
   "outputs": [
    {
     "data": {
      "text/plain": [
       "(18374, 3000)"
      ]
     },
     "execution_count": 64,
     "metadata": {},
     "output_type": "execute_result"
    }
   ],
   "source": [
    "X_train = features_train\n",
    "X_train.shape"
   ]
  },
  {
   "cell_type": "code",
   "execution_count": 62,
   "id": "3ba2572b",
   "metadata": {},
   "outputs": [],
   "source": [
    "#y_train = df_train['rating']"
   ]
  },
  {
   "cell_type": "markdown",
   "id": "6577395a",
   "metadata": {},
   "source": [
    "#### df_test"
   ]
  },
  {
   "cell_type": "code",
   "execution_count": 66,
   "id": "1762263a",
   "metadata": {},
   "outputs": [
    {
     "data": {
      "text/plain": [
       "(4594, 3000)"
      ]
     },
     "execution_count": 66,
     "metadata": {},
     "output_type": "execute_result"
    }
   ],
   "source": [
    "X_test = features_test\n",
    "X_test.shape"
   ]
  },
  {
   "cell_type": "code",
   "execution_count": 63,
   "id": "d75316e1",
   "metadata": {},
   "outputs": [],
   "source": [
    "#y_test = df_test['rating']"
   ]
  },
  {
   "cell_type": "markdown",
   "id": "3ce02ac7",
   "metadata": {},
   "source": [
    "### G) Reshaping Train dataset"
   ]
  },
  {
   "cell_type": "markdown",
   "id": "41683bd1",
   "metadata": {},
   "source": [
    "Since dataset is imbalanced with an over-representation of 5* reviews, has been decided to reduce the share of these to reviews"
   ]
  },
  {
   "cell_type": "code",
   "execution_count": 69,
   "id": "a416be28",
   "metadata": {},
   "outputs": [
    {
     "data": {
      "text/plain": [
       "14336"
      ]
     },
     "execution_count": 69,
     "metadata": {},
     "output_type": "execute_result"
    }
   ],
   "source": [
    "# checking of nb of 5* reviews\n",
    "len(np.where(y_train==5)[0])"
   ]
  },
  {
   "cell_type": "code",
   "execution_count": 71,
   "id": "f3136faf",
   "metadata": {},
   "outputs": [],
   "source": [
    "# creation of a 'to_delete' variable storing the 10000 samples of 5* reviews\n",
    "to_delete = np.random.choice(np.where(y_train==5)[0],10000)"
   ]
  },
  {
   "cell_type": "code",
   "execution_count": 73,
   "id": "d00e7f91",
   "metadata": {},
   "outputs": [],
   "source": [
    "# creation of a 'to_keep' variable storing the reviews to be kept\n",
    "to_keep = set(range(len(X_train))) - set(to_delete)"
   ]
  },
  {
   "cell_type": "code",
   "execution_count": 77,
   "id": "278557b5",
   "metadata": {},
   "outputs": [],
   "source": [
    "# storing the reshaped data in X_train_bis based on the 'to_keep' variable containing the sample to be kept\n",
    "X_train_bis = X_train[list(to_keep),:]"
   ]
  },
  {
   "cell_type": "code",
   "execution_count": 84,
   "id": "d9cb2413",
   "metadata": {},
   "outputs": [],
   "source": [
    "# storing the corresponding y of reshaped data in y_train_bis, based on the 'to_keep' variable containing the sample to be kept\n",
    "y_train_bis = np.array(y_train)[list(to_keep)]"
   ]
  },
  {
   "cell_type": "code",
   "execution_count": 86,
   "id": "0503eb60",
   "metadata": {},
   "outputs": [
    {
     "data": {
      "text/plain": [
       "(11163,)"
      ]
     },
     "execution_count": 86,
     "metadata": {},
     "output_type": "execute_result"
    }
   ],
   "source": [
    "# checking of the size of X_train_bis & y_train_bis\n",
    "X_train_bis.shape, y_train_bis.shape"
   ]
  },
  {
   "cell_type": "markdown",
   "id": "f42f079d",
   "metadata": {},
   "source": [
    "Now, each of 22968 consumer reviews narratives is represented by 8728 features, representing the tf-idf score for different unigrams and bigrams."
   ]
  },
  {
   "cell_type": "markdown",
   "id": "65f7c779",
   "metadata": {},
   "source": [
    "### F) Concatenation (to be done before TF-IDF)"
   ]
  },
  {
   "cell_type": "code",
   "execution_count": 72,
   "id": "bc91d300-4856-4909-bbce-8c284ea278a2",
   "metadata": {},
   "outputs": [],
   "source": [
    "df_prep = pd.concat([df_1star,df_2star,df_3star,df_4star,df_5star], axis=0)"
   ]
  },
  {
   "cell_type": "code",
   "execution_count": 73,
   "id": "fdf13f8d-11e4-4dbe-99f6-52d3ef33b744",
   "metadata": {},
   "outputs": [],
   "source": [
    "features_prep = tfidf.fit_transform(df_prep['review_content']).toarray()\n",
    "labels_prep = df_prep['rating']"
   ]
  },
  {
   "cell_type": "markdown",
   "id": "af641df0",
   "metadata": {},
   "source": [
    "### G) N-grams (optional)"
   ]
  },
  {
   "cell_type": "markdown",
   "id": "8f96a2f4",
   "metadata": {},
   "source": [
    "We can use sklearn.feature_selection.chi2 to find the terms that are the most correlated with each of the rating_label:"
   ]
  },
  {
   "cell_type": "code",
   "execution_count": 80,
   "id": "9feda68e",
   "metadata": {
    "tags": []
   },
   "outputs": [
    {
     "name": "stdout",
     "output_type": "stream",
     "text": [
      "# '3        2\n",
      "4        2\n",
      "4        2\n",
      "7        2\n",
      "14       2\n",
      "        ..\n",
      "19804    2\n",
      "19808    2\n",
      "19816    2\n",
      "19830    2\n",
      "19840    2\n",
      "Name: rating, Length: 597, dtype: int64' star :\n",
      "  . Most correlated unigrams:\n",
      ". addicted\n",
      ". addictive\n",
      ". adding\n",
      ". addition\n",
      ". additional\n",
      "  . Most correlated bigrams:\n",
      ". add option\n",
      ". added app\n",
      ". added bonus\n",
      ". actually available\n",
      ". app lovely\n",
      "  . Most correlated trigrams:\n",
      ". absolutely fantastic app\n",
      ". absolutely fantastic idea\n",
      ". absolutely great app\n",
      ". absolutely love app\n",
      ". absolutely love idea\n",
      "  . Most correlated quadrigrams:\n",
      ". amazing app easy use\n",
      ". amazing app great food\n",
      ". amazing app great idea\n",
      ". amazing app amazing idea\n",
      ". app love saving food\n"
     ]
    }
   ],
   "source": [
    "N = 5 #top x associated words to be displayed\n",
    "#for rating_label, rating in sorted(ratinglabel1_to_id.items()):\n",
    "features_chi2_2star = chi2(features_2star, labels_2star) # == rating\n",
    "indices = np.argsort(features_chi2_2star[0])\n",
    "feature_names = np.array(tfidf.get_feature_names_out())[indices]\n",
    "unigrams = [v for v in feature_names if len(v.split(' ')) == 1]\n",
    "bigrams = [v for v in feature_names if len(v.split(' ')) == 2]\n",
    "trigrams = [v for v in feature_names if len(v.split(' ')) == 3]\n",
    "quadrigrams = [v for v in feature_names if len(v.split(' ')) == 4]\n",
    "print(\"# '{}' star :\".format(labels_2star))\n",
    "print(\"  . Most correlated unigrams:\\n. {}\".format('\\n. '.join(unigrams[-N:])))\n",
    "print(\"  . Most correlated bigrams:\\n. {}\".format('\\n. '.join(bigrams[-N:])))\n",
    "print(\"  . Most correlated trigrams:\\n. {}\".format('\\n. '.join(trigrams[-N:])))\n",
    "print(\"  . Most correlated quadrigrams:\\n. {}\".format('\\n. '.join(quadrigrams[-N:])))"
   ]
  },
  {
   "cell_type": "code",
   "execution_count": 75,
   "id": "175a33a5",
   "metadata": {},
   "outputs": [
    {
     "name": "stdout",
     "output_type": "stream",
     "text": [
      "# '1' star :\n",
      "  . Most correlated unigrams:\n",
      ". scam\n",
      ". cancelled\n",
      ". sold\n",
      ". useless\n",
      ". rubbish\n",
      "  . Most correlated bigrams:\n",
      ". complete waste\n",
      ". don bother\n",
      ". time money\n",
      ". doesn work\n",
      ". waste time\n",
      "  . Most correlated trigrams:\n",
      ". app doesn work\n",
      ". total waste time\n",
      ". don waste time\n",
      ". complete waste time\n",
      ". waste time money\n",
      "# '2' star :\n",
      "  . Most correlated unigrams:\n",
      ". poor\n",
      ". update\n",
      ". notifications\n",
      ". explanation\n",
      ". sucks\n",
      "  . Most correlated bigrams:\n",
      ". didn work\n",
      ". make sense\n",
      ". near live\n",
      ". needs lot\n",
      ". nice idea\n",
      "  . Most correlated trigrams:\n",
      ". time open app\n",
      ". nice app great\n",
      ". app does allow\n",
      ". twice order cancelled\n",
      ". poor customer service\n",
      "# '3' star :\n",
      "  . Most correlated unigrams:\n",
      ". translate\n",
      ". available\n",
      ". ok\n",
      ". option\n",
      ". okay\n",
      "  . Most correlated bigrams:\n",
      ". closest place\n",
      ". new york\n",
      ". vegetarian options\n",
      ". idea area\n",
      ". mixed experience\n",
      "  . Most correlated trigrams:\n",
      ". looks like great\n",
      ". idea needs work\n",
      ". app just doesn\n",
      ". managed magic bag\n",
      ". great idea unfortunately\n",
      "# '4' star :\n",
      "  . Most correlated unigrams:\n",
      ". stars\n",
      ". improved\n",
      ". stores\n",
      ". notifications\n",
      ". search\n",
      "  . Most correlated bigrams:\n",
      ". stores area\n",
      ". favourite stores\n",
      ". need stores\n",
      ". good app\n",
      ". sort time\n",
      "  . Most correlated trigrams:\n",
      ". good great idea\n",
      ". notifications don work\n",
      ". great idea hopefully\n",
      ". wish places area\n",
      ". overall good app\n",
      "# '5' star :\n",
      "  . Most correlated unigrams:\n",
      ". area\n",
      ". don\n",
      ". cancelled\n",
      ". sold\n",
      ". available\n",
      "  . Most correlated bigrams:\n",
      ". miles away\n",
      ". order cancelled\n",
      ". great app\n",
      ". doesn work\n",
      ". waste time\n",
      "  . Most correlated trigrams:\n",
      ". total waste time\n",
      ". app doesn work\n",
      ". don waste time\n",
      ". complete waste time\n",
      ". waste time money\n"
     ]
    }
   ],
   "source": [
    "N = 5 #top x associated words to be displayed\n",
    "for rating_label, rating in sorted(ratinglabel1_to_id.items()):\n",
    "    features_chi2_prep = chi2(features_prep, labels_prep == rating)\n",
    "    indices = np.argsort(features_chi2_prep[0])\n",
    "    feature_names = np.array(tfidf.get_feature_names_out())[indices]\n",
    "    unigrams = [v for v in feature_names if len(v.split(' ')) == 1]\n",
    "    bigrams = [v for v in feature_names if len(v.split(' ')) == 2]\n",
    "    trigrams = [v for v in feature_names if len(v.split(' ')) == 3]\n",
    "    print(\"# '{}' star :\".format(rating))\n",
    "    print(\"  . Most correlated unigrams:\\n. {}\".format('\\n. '.join(unigrams[-N:])))\n",
    "    print(\"  . Most correlated bigrams:\\n. {}\".format('\\n. '.join(bigrams[-N:])))\n",
    "    print(\"  . Most correlated trigrams:\\n. {}\".format('\\n. '.join(trigrams[-N:])))"
   ]
  },
  {
   "cell_type": "code",
   "execution_count": null,
   "id": "79a0bd22-f95b-4956-a170-86608ccec1b6",
   "metadata": {},
   "outputs": [],
   "source": []
  },
  {
   "cell_type": "code",
   "execution_count": null,
   "id": "77582fe4-0336-48a4-954a-b75af79c43c4",
   "metadata": {},
   "outputs": [],
   "source": []
  },
  {
   "cell_type": "code",
   "execution_count": null,
   "id": "18a4cbd4-5a8f-47dc-9f66-181809644fbc",
   "metadata": {},
   "outputs": [],
   "source": []
  },
  {
   "cell_type": "code",
   "execution_count": null,
   "id": "0f61430f",
   "metadata": {},
   "outputs": [],
   "source": []
  },
  {
   "cell_type": "code",
   "execution_count": null,
   "id": "0f8119b8",
   "metadata": {},
   "outputs": [],
   "source": []
  },
  {
   "cell_type": "code",
   "execution_count": null,
   "id": "bf825cb9",
   "metadata": {},
   "outputs": [],
   "source": []
  },
  {
   "cell_type": "code",
   "execution_count": null,
   "id": "cc0ce9b6",
   "metadata": {},
   "outputs": [],
   "source": []
  },
  {
   "cell_type": "code",
   "execution_count": null,
   "id": "a2337f66",
   "metadata": {},
   "outputs": [],
   "source": []
  },
  {
   "cell_type": "code",
   "execution_count": null,
   "id": "c2c7a163",
   "metadata": {},
   "outputs": [],
   "source": []
  },
  {
   "cell_type": "markdown",
   "id": "9d09255a",
   "metadata": {},
   "source": [
    "# Phase 2 => Topic Classification"
   ]
  },
  {
   "cell_type": "markdown",
   "id": "1d30a608",
   "metadata": {},
   "source": [
    "### Step 1 - Dataset augmentation"
   ]
  },
  {
   "cell_type": "code",
   "execution_count": 86,
   "id": "09430d59",
   "metadata": {},
   "outputs": [
    {
     "name": "stdout",
     "output_type": "stream",
     "text": [
      "Counter({'5 - awesome': 17887, '1 - awful': 1971, '4 - good': 1689, '3 - neutral': 824, '2 - bad': 597})\n",
      "Counter({'5 - awesome': 17887, '1 - awful': 3445, '2 - bad': 3445, '3 - neutral': 3445, '4 - good': 3445})\n",
      "Counter({'5 - awesome': 9188, '1 - awful': 3445, '2 - bad': 3445, '3 - neutral': 3445, '4 - good': 3445})\n"
     ]
    }
   ],
   "source": [
    "# example of combining random oversampling and undersampling for imbalanced data\n",
    "from collections import Counter\n",
    "from imblearn.over_sampling import RandomOverSampler\n",
    "from imblearn.under_sampling import RandomUnderSampler\n",
    "# define dataset\n",
    "X = df_prep.drop(columns=[\"rating\",\"rating_label\"])\n",
    "y = df_prep[\"rating_label\"]\n",
    "# summarize initial class distribution\n",
    "print(Counter(y))\n",
    "# define oversampling strategy\n",
    "sampling_strategy = {'1 - awful': 3445, '2 - bad': 3445, '3 - neutral': 3445, '4 - good':3445}\n",
    "over = RandomOverSampler(sampling_strategy=sampling_strategy)\n",
    "# fit and apply the transform\n",
    "X, y = over.fit_resample(X, y)\n",
    "# summarize re-worked class distribution\n",
    "print(Counter(y))\n",
    "# define undersampling strategy\n",
    "sampling_strategy = {'5 - awesome':9188}\n",
    "under = RandomUnderSampler(sampling_strategy=sampling_strategy)\n",
    "# fit and apply the transform\n",
    "X, y = under.fit_resample(X, y)\n",
    "# summarize final class distribution\n",
    "print(Counter(y))"
   ]
  },
  {
   "cell_type": "markdown",
   "id": "9ed16443",
   "metadata": {},
   "source": [
    "### Step 2 - Dataset splitting between train/test/validation"
   ]
  },
  {
   "cell_type": "code",
   "execution_count": 88,
   "id": "c9face3a",
   "metadata": {},
   "outputs": [
    {
     "name": "stdout",
     "output_type": "stream",
     "text": [
      "X_train shape: (13780, 48)\n",
      "X_test shape: (4594, 48)\n",
      "y_train shape: (13780,)\n",
      "y_test shape: (4594,)\n",
      "X_val shape: (4594, 48)\n",
      "y_val shape: (4594,)\n"
     ]
    }
   ],
   "source": [
    "# set aside 20% of train and test data for evaluation\n",
    "X_train, X_test, y_train, y_test = train_test_split(X, y, stratify= y, test_size=0.2, shuffle = True, \n",
    "                                                    random_state = 8)\n",
    "\n",
    "# Use the same function above for the validation set\n",
    "X_train, X_val, y_train, y_val = train_test_split(X_train, y_train, stratify= y_train, test_size=0.25, random_state= 8) # 0.25 x 0.8 = 0.2\n",
    "\n",
    "\n",
    "print(\"X_train shape: {}\".format(X_train.shape))\n",
    "print(\"X_test shape: {}\".format(X_test.shape))\n",
    "print(\"y_train shape: {}\".format(y_train.shape))\n",
    "print(\"y_test shape: {}\".format(y_test.shape))\n",
    "print(\"X_val shape: {}\".format(X_val.shape))\n",
    "print(\"y_val shape: {}\".format(y_val.shape))"
   ]
  },
  {
   "cell_type": "code",
   "execution_count": 89,
   "id": "f5958d8e",
   "metadata": {},
   "outputs": [
    {
     "data": {
      "text/plain": [
       "5 - awesome    40.0\n",
       "4 - good       15.0\n",
       "2 - bad        15.0\n",
       "3 - neutral    15.0\n",
       "1 - awful      15.0\n",
       "Name: rating_label, dtype: float64"
      ]
     },
     "execution_count": 89,
     "metadata": {},
     "output_type": "execute_result"
    }
   ],
   "source": [
    "y_train.value_counts()/y_train.shape[0]*100"
   ]
  },
  {
   "cell_type": "code",
   "execution_count": 90,
   "id": "3b63e265",
   "metadata": {},
   "outputs": [
    {
     "data": {
      "text/plain": [
       "5 - awesome    40.008707\n",
       "1 - awful      14.997823\n",
       "4 - good       14.997823\n",
       "2 - bad        14.997823\n",
       "3 - neutral    14.997823\n",
       "Name: rating_label, dtype: float64"
      ]
     },
     "execution_count": 90,
     "metadata": {},
     "output_type": "execute_result"
    }
   ],
   "source": [
    "y_test.value_counts()/y_test.shape[0]*100"
   ]
  },
  {
   "cell_type": "code",
   "execution_count": 91,
   "id": "e274f487",
   "metadata": {},
   "outputs": [
    {
     "data": {
      "text/plain": [
       "5 - awesome    40.008707\n",
       "2 - bad        14.997823\n",
       "1 - awful      14.997823\n",
       "3 - neutral    14.997823\n",
       "4 - good       14.997823\n",
       "Name: rating_label, dtype: float64"
      ]
     },
     "execution_count": 91,
     "metadata": {},
     "output_type": "execute_result"
    }
   ],
   "source": [
    "y_val.value_counts()/y_val.shape[0]*100"
   ]
  },
  {
   "cell_type": "markdown",
   "id": "793bab0f",
   "metadata": {},
   "source": [
    "### Step 3 - ML Classifications applied"
   ]
  },
  {
   "cell_type": "markdown",
   "id": "abd5536a",
   "metadata": {},
   "source": [
    "We are now ready to experiment with different machine learning models, evaluate their accuracy and find the source of any potential issues.\n",
    "\n",
    "We will benchmark the following 5 models:\n",
    "\n",
    "- Logistic Regression\n",
    "- (Multinomial) Naive Bayes\n",
    "- Linear Support Vector Machine\n",
    "- Random Forest\n",
    "- K-Nearest Neighbor (KNN)"
   ]
  },
  {
   "cell_type": "code",
   "execution_count": 89,
   "id": "2fc69fb2",
   "metadata": {},
   "outputs": [
    {
     "name": "stderr",
     "output_type": "stream",
     "text": [
      "/home/vb/.pyenv/versions/3.9.7/envs/artefact/lib/python3.9/site-packages/sklearn/linear_model/_logistic.py:814: ConvergenceWarning: lbfgs failed to converge (status=1):\n",
      "STOP: TOTAL NO. of ITERATIONS REACHED LIMIT.\n",
      "\n",
      "Increase the number of iterations (max_iter) or scale the data as shown in:\n",
      "    https://scikit-learn.org/stable/modules/preprocessing.html\n",
      "Please also refer to the documentation for alternative solver options:\n",
      "    https://scikit-learn.org/stable/modules/linear_model.html#logistic-regression\n",
      "  n_iter_i = _check_optimize_result(\n",
      "/home/vb/.pyenv/versions/3.9.7/envs/artefact/lib/python3.9/site-packages/sklearn/linear_model/_logistic.py:814: ConvergenceWarning: lbfgs failed to converge (status=1):\n",
      "STOP: TOTAL NO. of ITERATIONS REACHED LIMIT.\n",
      "\n",
      "Increase the number of iterations (max_iter) or scale the data as shown in:\n",
      "    https://scikit-learn.org/stable/modules/preprocessing.html\n",
      "Please also refer to the documentation for alternative solver options:\n",
      "    https://scikit-learn.org/stable/modules/linear_model.html#logistic-regression\n",
      "  n_iter_i = _check_optimize_result(\n",
      "/home/vb/.pyenv/versions/3.9.7/envs/artefact/lib/python3.9/site-packages/sklearn/linear_model/_logistic.py:814: ConvergenceWarning: lbfgs failed to converge (status=1):\n",
      "STOP: TOTAL NO. of ITERATIONS REACHED LIMIT.\n",
      "\n",
      "Increase the number of iterations (max_iter) or scale the data as shown in:\n",
      "    https://scikit-learn.org/stable/modules/preprocessing.html\n",
      "Please also refer to the documentation for alternative solver options:\n",
      "    https://scikit-learn.org/stable/modules/linear_model.html#logistic-regression\n",
      "  n_iter_i = _check_optimize_result(\n",
      "/home/vb/.pyenv/versions/3.9.7/envs/artefact/lib/python3.9/site-packages/sklearn/linear_model/_logistic.py:814: ConvergenceWarning: lbfgs failed to converge (status=1):\n",
      "STOP: TOTAL NO. of ITERATIONS REACHED LIMIT.\n",
      "\n",
      "Increase the number of iterations (max_iter) or scale the data as shown in:\n",
      "    https://scikit-learn.org/stable/modules/preprocessing.html\n",
      "Please also refer to the documentation for alternative solver options:\n",
      "    https://scikit-learn.org/stable/modules/linear_model.html#logistic-regression\n",
      "  n_iter_i = _check_optimize_result(\n",
      "/home/vb/.pyenv/versions/3.9.7/envs/artefact/lib/python3.9/site-packages/sklearn/linear_model/_logistic.py:814: ConvergenceWarning: lbfgs failed to converge (status=1):\n",
      "STOP: TOTAL NO. of ITERATIONS REACHED LIMIT.\n",
      "\n",
      "Increase the number of iterations (max_iter) or scale the data as shown in:\n",
      "    https://scikit-learn.org/stable/modules/preprocessing.html\n",
      "Please also refer to the documentation for alternative solver options:\n",
      "    https://scikit-learn.org/stable/modules/linear_model.html#logistic-regression\n",
      "  n_iter_i = _check_optimize_result(\n"
     ]
    },
    {
     "data": {
      "image/png": "[encoded data removed]",
      "text/plain": [
       "<Figure size 432x288 with 1 Axes>"
      ]
     },
     "metadata": {
      "needs_background": "light"
     },
     "output_type": "display_data"
    }
   ],
   "source": [
    "models = [\n",
    "    RandomForestClassifier(n_estimators=200, max_depth=3, random_state=0),\n",
    "    KNeighborsClassifier(n_neighbors = 5),\n",
    "    LinearSVC(),\n",
    "    MultinomialNB(),\n",
    "    LogisticRegression(random_state=0),\n",
    "]\n",
    "\n",
    "CV = 5 #nb of model\n",
    "cv_df = pd.DataFrame(index=range(CV * len(models)))\n",
    "entries = []\n",
    "\n",
    "for model in models:\n",
    "    model_name = model.__class__.__name__\n",
    "    accuracies = cross_val_score(model, X_train_bis, y_train_bis, scoring='accuracy', cv=CV)\n",
    "    for fold_idx, accuracy in enumerate(accuracies):\n",
    "        entries.append((model_name, fold_idx, accuracy))\n",
    "        \n",
    "cv_df = pd.DataFrame(entries, columns=['model_name', 'fold_idx', 'accuracy'])\n",
    "\n",
    "\n",
    "\n",
    "sns.boxplot(x='model_name', y='accuracy', data=cv_df)\n",
    "sns.stripplot(x='model_name', y='accuracy', data=cv_df, \n",
    "              size=8, jitter=True, edgecolor=\"gray\", linewidth=2)\n",
    "plt.show()"
   ]
  },
  {
   "cell_type": "code",
   "execution_count": 90,
   "id": "f7e2b1fe",
   "metadata": {},
   "outputs": [
    {
     "data": {
      "text/plain": [
       "model_name\n",
       "KNeighborsClassifier      0.628595\n",
       "LinearSVC                 0.737617\n",
       "LogisticRegression        0.755264\n",
       "MultinomialNB             0.753382\n",
       "RandomForestClassifier    0.638269\n",
       "Name: accuracy, dtype: float64"
      ]
     },
     "execution_count": 90,
     "metadata": {},
     "output_type": "execute_result"
    }
   ],
   "source": [
    "cv_df.groupby('model_name').accuracy.mean()"
   ]
  },
  {
   "cell_type": "markdown",
   "id": "3788a55d",
   "metadata": {},
   "source": [
    "### Step 4 - Performance ML Classification models comparison"
   ]
  },
  {
   "cell_type": "markdown",
   "id": "c1bb0c69",
   "metadata": {},
   "source": [
    "2 models seem to perform well : SVC & Logistic regression.\n",
    "We are going to look deeper in their performance."
   ]
  },
  {
   "cell_type": "code",
   "execution_count": 93,
   "id": "4ab531eb",
   "metadata": {},
   "outputs": [
    {
     "data": {
      "image/png": "[encoded data removed]",
      "text/plain": [
       "<Figure size 720x720 with 2 Axes>"
      ]
     },
     "metadata": {
      "needs_background": "light"
     },
     "output_type": "display_data"
    }
   ],
   "source": [
    "model = LinearSVC() \n",
    "#X_train, X_test, y_train, y_test, indices_train, indices_test = train_test_split(X_train_bis, y_train_bis, df_test1.index, test_size=0.2, random_state=0)\n",
    "model.fit(X_train_bis, y_train_bis)\n",
    "y_pred = model.predict(X_test)\n",
    "\n",
    "#X_train, X_val, y_train, y_val, indices_train, indices_val = train_test_split(features_prep, labels_prep, df_prep.index, test_size=0.2, random_state=0)\n",
    "#model.fit(X_train, y_train)\n",
    "#y_pred = model.predict(X_val)\n",
    "\n",
    "#from sklearn.metrics import confusion_matrix\n",
    "conf_mat = confusion_matrix(y_test, y_pred)\n",
    "fig, ax = plt.subplots(figsize=(10,10))\n",
    "sns.heatmap(conf_mat, annot=True, fmt='d',\n",
    "            xticklabels=rating1_df['rating'].values, yticklabels=rating1_df['rating'].values)\n",
    "plt.ylabel('Actual')\n",
    "plt.xlabel('Predicted')\n",
    "plt.show()"
   ]
  },
  {
   "cell_type": "code",
   "execution_count": 94,
   "id": "f174a300",
   "metadata": {},
   "outputs": [
    {
     "name": "stdout",
     "output_type": "stream",
     "text": [
      "              precision    recall  f1-score   support\n",
      "\n",
      "           1       0.63      0.76      0.69       399\n",
      "           2       0.24      0.13      0.17       119\n",
      "           3       0.27      0.15      0.19       196\n",
      "           4       0.26      0.20      0.23       329\n",
      "           5       0.91      0.95      0.93      3551\n",
      "\n",
      "    accuracy                           0.82      4594\n",
      "   macro avg       0.46      0.44      0.44      4594\n",
      "weighted avg       0.80      0.82      0.81      4594\n",
      "\n"
     ]
    }
   ],
   "source": [
    "print(classification_report(y_test, y_pred))"
   ]
  },
  {
   "cell_type": "code",
   "execution_count": 95,
   "id": "d629dba6",
   "metadata": {},
   "outputs": [
    {
     "name": "stderr",
     "output_type": "stream",
     "text": [
      "/home/vb/.pyenv/versions/3.9.7/envs/artefact/lib/python3.9/site-packages/sklearn/linear_model/_logistic.py:814: ConvergenceWarning: lbfgs failed to converge (status=1):\n",
      "STOP: TOTAL NO. of ITERATIONS REACHED LIMIT.\n",
      "\n",
      "Increase the number of iterations (max_iter) or scale the data as shown in:\n",
      "    https://scikit-learn.org/stable/modules/preprocessing.html\n",
      "Please also refer to the documentation for alternative solver options:\n",
      "    https://scikit-learn.org/stable/modules/linear_model.html#logistic-regression\n",
      "  n_iter_i = _check_optimize_result(\n"
     ]
    },
    {
     "data": {
      "image/png": "[encoded data removed]",
      "text/plain": [
       "<Figure size 720x720 with 2 Axes>"
      ]
     },
     "metadata": {
      "needs_background": "light"
     },
     "output_type": "display_data"
    }
   ],
   "source": [
    "model2 = LogisticRegression()\n",
    "#X_train, X_test, y_train, y_test, indices_train, indices_test = train_test_split(features, labels, df_test1.index, test_size=0.2, random_state=0)\n",
    "model2.fit(X_train_bis, y_train_bis)\n",
    "y_pred2 = model2.predict(X_test)\n",
    "conf_mat2 = confusion_matrix(y_test, y_pred2)\n",
    "fig, ax = plt.subplots(figsize=(10,10))\n",
    "sns.heatmap(conf_mat, annot=True, fmt='d',\n",
    "            xticklabels=rating1_df['rating_label'].values, yticklabels=rating1_df['rating_label'].values)\n",
    "plt.ylabel('Actual')\n",
    "plt.xlabel('Predicted')\n",
    "plt.show()"
   ]
  },
  {
   "cell_type": "code",
   "execution_count": 96,
   "id": "353f80bd",
   "metadata": {},
   "outputs": [
    {
     "name": "stdout",
     "output_type": "stream",
     "text": [
      "              precision    recall  f1-score   support\n",
      "\n",
      "           1       0.62      0.76      0.68       399\n",
      "           2       0.55      0.05      0.09       119\n",
      "           3       0.33      0.08      0.12       196\n",
      "           4       0.32      0.19      0.24       329\n",
      "           5       0.89      0.97      0.93      3551\n",
      "\n",
      "    accuracy                           0.83      4594\n",
      "   macro avg       0.54      0.41      0.41      4594\n",
      "weighted avg       0.80      0.83      0.80      4594\n",
      "\n"
     ]
    }
   ],
   "source": [
    "print(classification_report(y_test, y_pred2))"
   ]
  },
  {
   "cell_type": "markdown",
   "id": "1c280847",
   "metadata": {},
   "source": [
    "**Conclusion** => best ML is SVC. So this will be applied on Twitter reviews"
   ]
  },
  {
   "cell_type": "markdown",
   "id": "7c1043e2",
   "metadata": {},
   "source": [
    "# Phase 3 => ML Application on tweets"
   ]
  },
  {
   "cell_type": "code",
   "execution_count": null,
   "id": "9d4feb35",
   "metadata": {},
   "outputs": [],
   "source": [
    "path = \"data/tweets2021tgtg.pkl\"\n",
    "\n",
    "with open(path, 'rb') as f:\n",
    "    df_tweet = pickle.load(f)\n",
    "\n",
    "df_tweet.head(5)"
   ]
  },
  {
   "cell_type": "markdown",
   "id": "6a4cd614",
   "metadata": {},
   "source": [
    "#### Application of 1st round of feature engineering"
   ]
  },
  {
   "cell_type": "code",
   "execution_count": null,
   "id": "af1a71f0",
   "metadata": {},
   "outputs": [],
   "source": [
    "df_tweet['char_count'] = df_tweet[\"review_content\"].apply(lambda x:count_chars(x))\n",
    "df_tweet['word_count'] = df_tweet[\"review_content\"].apply(lambda x:count_words(x))\n",
    "df_tweet['sent_count'] = df_tweet[\"review_content\"].apply(lambda x:count_sent(x))\n",
    "df_tweet['capital_char_count'] = df_tweet[\"review_content\"].apply(lambda x:count_capital_chars(x))\n",
    "df_tweet['capital_word_count'] = df_tweet[\"review_content\"].apply(lambda x:count_capital_words(x))\n",
    "df_tweet['quoted_word_count'] = df_tweet[\"review_content\"].apply(lambda x:count_words_in_quotes(x))\n",
    "df_tweet['stopword_count'] = df_tweet[\"review_content\"].apply(lambda x:count_stopwords(x))\n",
    "df_tweet['unique_word_count'] = df_tweet[\"review_content\"].apply(lambda x:count_unique_words(x))\n",
    "df_tweet['htag_count'] = df_tweet[\"review_content\"].apply(lambda x:count_htags(x))\n",
    "df_tweet['mention_count'] = df_tweet[\"review_content\"].apply(lambda x:count_mentions(x))\n",
    "df_tweet['punct_count'] = df_tweet[\"review_content\"].apply(lambda x:count_punctuations(x))\n",
    "df_tweet['emoji_count'] = df_tweet[\"review_content\"].apply(lambda x:count_emoji(x))"
   ]
  },
  {
   "cell_type": "markdown",
   "id": "15b32371",
   "metadata": {},
   "source": [
    "#### Application of 2nd round of feature engineering"
   ]
  },
  {
   "cell_type": "code",
   "execution_count": null,
   "id": "b564eec0",
   "metadata": {},
   "outputs": [],
   "source": [
    "df_tweet['avg_wordlength'] = df_tweet['char_count']/df_tweet['word_count']\n",
    "df_tweet['avg_sentlength'] = df_tweet['word_count']/df_tweet['sent_count']\n",
    "df_tweet['unique_vs_words'] = df_tweet['unique_word_count']/df_tweet['word_count']\n",
    "df_tweet['stopwords_vs_words'] = df_tweet['stopword_count']/df_tweet['word_count']"
   ]
  },
  {
   "cell_type": "code",
   "execution_count": null,
   "id": "de7f6d7a",
   "metadata": {},
   "outputs": [],
   "source": [
    "# Creating new dataframe retrieving all the different punctuation used in each text\n",
    "df_punct_tweet = pd.DataFrame(list(df_tweet.punct_count))\n",
    "\n",
    "# Merging punctuation DataFrame with main DataFrame\n",
    "df_tweet = pd.merge(df_tweet, df_punct_tweet, left_index=True, right_index=True)\n",
    "\n",
    "# Dropping \"punct_count\" column from main DataFrame\n",
    "df_tweet.drop(columns=['punct_count'],inplace=True)\n",
    "df_tweet.columns"
   ]
  },
  {
   "cell_type": "markdown",
   "id": "ec26060d",
   "metadata": {},
   "source": [
    "#### Application of preprocessing"
   ]
  },
  {
   "cell_type": "code",
   "execution_count": null,
   "id": "9a29d8f5",
   "metadata": {},
   "outputs": [],
   "source": [
    "df_tweet['preprocessed_content'] = df_tweet['review_content'].apply(lambda x:preprocessing(x))"
   ]
  },
  {
   "cell_type": "markdown",
   "id": "5c99f41c",
   "metadata": {},
   "source": [
    "#### ML application"
   ]
  },
  {
   "cell_type": "code",
   "execution_count": null,
   "id": "9454a290",
   "metadata": {},
   "outputs": [],
   "source": []
  },
  {
   "cell_type": "markdown",
   "id": "3c15eaa9",
   "metadata": {},
   "source": [
    "#### Concatenation all datasets into one for topic modeling"
   ]
  },
  {
   "cell_type": "code",
   "execution_count": null,
   "id": "d3bd5756",
   "metadata": {},
   "outputs": [],
   "source": [
    "df_topic = pd.concat([df_prep,df_tweet], axis=0)"
   ]
  }
 ],
 "metadata": {
  "kernelspec": {
   "display_name": "Python 3 (ipykernel)",
   "language": "python",
   "name": "python3"
  },
  "language_info": {
   "codemirror_mode": {
    "name": "ipython",
    "version": 3
   },
   "file_extension": ".py",
   "mimetype": "text/x-python",
   "name": "python",
   "nbconvert_exporter": "python",
   "pygments_lexer": "ipython3",
   "version": "3.9.7"
  }
 },
 "nbformat": 4,
 "nbformat_minor": 5
}
