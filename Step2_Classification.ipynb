{
 "cells": [
  {
   "cell_type": "code",
   "execution_count": 3,
   "id": "ad0cb428",
   "metadata": {},
   "outputs": [
    {
     "name": "stdout",
     "output_type": "stream",
     "text": [
      "Collecting imblearn\n",
      "  Downloading imblearn-0.0-py2.py3-none-any.whl (1.9 kB)\n",
      "Collecting imbalanced-learn\n",
      "  Downloading imbalanced_learn-0.8.1-py3-none-any.whl (189 kB)\n",
      "     |████████████████████████████████| 189 kB 1.4 MB/s            \n",
      "\u001b[?25hRequirement already satisfied: scipy>=0.19.1 in /home/vb/.pyenv/versions/3.9.7/envs/artefact/lib/python3.9/site-packages (from imbalanced-learn->imblearn) (1.7.1)\n",
      "Requirement already satisfied: scikit-learn>=0.24 in /home/vb/.pyenv/versions/3.9.7/envs/artefact/lib/python3.9/site-packages (from imbalanced-learn->imblearn) (1.0)\n",
      "Requirement already satisfied: numpy>=1.13.3 in /home/vb/.pyenv/versions/3.9.7/envs/artefact/lib/python3.9/site-packages (from imbalanced-learn->imblearn) (1.20.3)\n",
      "Requirement already satisfied: joblib>=0.11 in /home/vb/.pyenv/versions/3.9.7/envs/artefact/lib/python3.9/site-packages (from imbalanced-learn->imblearn) (1.1.0)\n",
      "Requirement already satisfied: threadpoolctl>=2.0.0 in /home/vb/.pyenv/versions/3.9.7/envs/artefact/lib/python3.9/site-packages (from scikit-learn>=0.24->imbalanced-learn->imblearn) (3.0.0)\n",
      "Installing collected packages: imbalanced-learn, imblearn\n",
      "Successfully installed imbalanced-learn-0.8.1 imblearn-0.0\n",
      "\u001b[33mWARNING: You are using pip version 21.3; however, version 21.3.1 is available.\n",
      "You should consider upgrading via the '/home/vb/.pyenv/versions/3.9.7/envs/artefact/bin/python3.9 -m pip install --upgrade pip' command.\u001b[0m\n"
     ]
    }
   ],
   "source": [
    "!pip install imblearn"
   ]
  },
  {
   "cell_type": "code",
   "execution_count": 4,
   "id": "1a0780dd",
   "metadata": {},
   "outputs": [
    {
     "name": "stderr",
     "output_type": "stream",
     "text": [
      "[nltk_data] Downloading package punkt to /home/vb/nltk_data...\n",
      "[nltk_data]   Package punkt is already up-to-date!\n",
      "[nltk_data] Downloading package wordnet to /home/vb/nltk_data...\n",
      "[nltk_data]   Package wordnet is already up-to-date!\n"
     ]
    }
   ],
   "source": [
    "# Import relevant libraries and packages\n",
    "import pickle\n",
    "import pandas as pd\n",
    "import numpy as np\n",
    "import seaborn as sns\n",
    "\n",
    "import datetime\n",
    "\n",
    "from sklearn.feature_extraction.text import TfidfVectorizer\n",
    "import matplotlib.pyplot as plt\n",
    "from sklearn.feature_selection import chi2\n",
    "from sklearn.model_selection import train_test_split\n",
    "from sklearn.feature_extraction.text import CountVectorizer\n",
    "from sklearn.feature_extraction.text import TfidfTransformer\n",
    "from sklearn.naive_bayes import MultinomialNB\n",
    "from sklearn.linear_model import LogisticRegression\n",
    "from sklearn.ensemble import RandomForestClassifier\n",
    "from sklearn.svm import LinearSVC\n",
    "from sklearn.neighbors import KNeighborsClassifier\n",
    "from sklearn.model_selection import cross_val_score\n",
    "from sklearn.metrics import classification_report\n",
    "from sklearn.metrics import confusion_matrix\n",
    "\n",
    "from collections import Counter\n",
    "from imblearn.over_sampling import RandomOverSampler\n",
    "from imblearn.under_sampling import RandomUnderSampler\n",
    "\n",
    "import re\n",
    "import emoji #install pip install emoji --upgrade\n",
    "\n",
    "import spacy #python -m spacy download en_core_web_md\n",
    "import nltk\n",
    "from nltk.tokenize import word_tokenize\n",
    "nltk.download('punkt')\n",
    "from nltk.stem import WordNetLemmatizer\n",
    "nltk.download('wordnet')\n",
    "\n",
    "import enchant\n",
    "from enchant.checker import SpellChecker"
   ]
  },
  {
   "cell_type": "markdown",
   "id": "23d20cc0",
   "metadata": {},
   "source": [
    "# Phase 0 => Data setup"
   ]
  },
  {
   "cell_type": "markdown",
   "id": "cb5d5f51",
   "metadata": {},
   "source": [
    "Creation of new dataset to run classification model with only 2 dimensions : 'review content' and 'rating'."
   ]
  },
  {
   "cell_type": "code",
   "execution_count": 5,
   "id": "dc320a41-6b40-4f1e-af84-3ae6f8e815fa",
   "metadata": {},
   "outputs": [
    {
     "data": {
      "text/html": [
       "<div>\n",
       "<style scoped>\n",
       "    .dataframe tbody tr th:only-of-type {\n",
       "        vertical-align: middle;\n",
       "    }\n",
       "\n",
       "    .dataframe tbody tr th {\n",
       "        vertical-align: top;\n",
       "    }\n",
       "\n",
       "    .dataframe thead th {\n",
       "        text-align: right;\n",
       "    }\n",
       "</style>\n",
       "<table border=\"1\" class=\"dataframe\">\n",
       "  <thead>\n",
       "    <tr style=\"text-align: right;\">\n",
       "      <th></th>\n",
       "      <th>review_content</th>\n",
       "      <th>rating</th>\n",
       "      <th>date</th>\n",
       "      <th>source</th>\n",
       "      <th>preprocessed_review</th>\n",
       "    </tr>\n",
       "  </thead>\n",
       "  <tbody>\n",
       "    <tr>\n",
       "      <th>0</th>\n",
       "      <td>It does exactly what it says it does efficient...</td>\n",
       "      <td>5</td>\n",
       "      <td>2021-12</td>\n",
       "      <td>Google</td>\n",
       "      <td>[exactli, say, effici, save, food, fill, belli...</td>\n",
       "    </tr>\n",
       "    <tr>\n",
       "      <th>1</th>\n",
       "      <td>Well, I've only done 2 different vendors. The ...</td>\n",
       "      <td>4</td>\n",
       "      <td>2021-12</td>\n",
       "      <td>Google</td>\n",
       "      <td>[well, done, differ, vendor, first, donut, sho...</td>\n",
       "    </tr>\n",
       "    <tr>\n",
       "      <th>2</th>\n",
       "      <td>Still in my first week. And I'm looking forwar...</td>\n",
       "      <td>5</td>\n",
       "      <td>2021-12</td>\n",
       "      <td>Google</td>\n",
       "      <td>[still, first, week, look, forward, great, dea...</td>\n",
       "    </tr>\n",
       "    <tr>\n",
       "      <th>3</th>\n",
       "      <td>loving the app.</td>\n",
       "      <td>5</td>\n",
       "      <td>2021-12</td>\n",
       "      <td>Google</td>\n",
       "      <td>[love, app]</td>\n",
       "    </tr>\n",
       "    <tr>\n",
       "      <th>4</th>\n",
       "      <td>AT FIRST: 1) Lovely experience. charming staff...</td>\n",
       "      <td>2</td>\n",
       "      <td>2021-12</td>\n",
       "      <td>Google</td>\n",
       "      <td>[first, love, experi, charm, staff, moder, hi,...</td>\n",
       "    </tr>\n",
       "  </tbody>\n",
       "</table>\n",
       "</div>"
      ],
      "text/plain": [
       "                                      review_content  rating     date  source  \\\n",
       "0  It does exactly what it says it does efficient...       5  2021-12  Google   \n",
       "1  Well, I've only done 2 different vendors. The ...       4  2021-12  Google   \n",
       "2  Still in my first week. And I'm looking forwar...       5  2021-12  Google   \n",
       "3                                    loving the app.       5  2021-12  Google   \n",
       "4  AT FIRST: 1) Lovely experience. charming staff...       2  2021-12  Google   \n",
       "\n",
       "                                 preprocessed_review  \n",
       "0  [exactli, say, effici, save, food, fill, belli...  \n",
       "1  [well, done, differ, vendor, first, donut, sho...  \n",
       "2  [still, first, week, look, forward, great, dea...  \n",
       "3                                        [love, app]  \n",
       "4  [first, love, experi, charm, staff, moder, hi,...  "
      ]
     },
     "execution_count": 5,
     "metadata": {},
     "output_type": "execute_result"
    }
   ],
   "source": [
    "path = \"data/reviews_tgtg_v0.pkl\" #(instead of reviews_tgtg_v2.pkl)\n",
    "\n",
    "with open(path, 'rb') as f:\n",
    "    df = pickle.load(f)\n",
    "\n",
    "df.head(5)"
   ]
  },
  {
   "cell_type": "code",
   "execution_count": 6,
   "id": "ce107c8c",
   "metadata": {},
   "outputs": [],
   "source": [
    "df_test1 = df[['review_content','rating']]"
   ]
  },
  {
   "cell_type": "markdown",
   "id": "157493c5",
   "metadata": {},
   "source": [
    "### A) Label creation"
   ]
  },
  {
   "cell_type": "markdown",
   "id": "a5bf4e8e",
   "metadata": {},
   "source": [
    "Since the dataset is inbalanced, 2 scenarii need to be designed depending on the success of ML prediction :\n",
    "- 1 scenario with 5 categories corresponding to the 5 different scores (from 1 to 5)\n",
    "- 1 scenario with 3 macro-categories gathering scores "
   ]
  },
  {
   "cell_type": "markdown",
   "id": "b622adda",
   "metadata": {},
   "source": [
    "##### Scenario 1 => 5 categories"
   ]
  },
  {
   "cell_type": "code",
   "execution_count": 7,
   "id": "36f1e457",
   "metadata": {},
   "outputs": [],
   "source": [
    "# function creating labels accroding to rating\n",
    "def label_rating (row):\n",
    "    if row['rating'] == 1 :\n",
    "        return '1 - awful'\n",
    "    if row['rating'] == 2 :\n",
    "        return '2 - bad'\n",
    "    if row['rating'] == 3 :\n",
    "        return '3 - neutral'\n",
    "    if row['rating'] == 4 :\n",
    "        return '4 - good'\n",
    "    if row['rating'] == 5 :\n",
    "        return '5 - awesome'\n",
    "    return 'Other'"
   ]
  },
  {
   "cell_type": "code",
   "execution_count": 8,
   "id": "395259f6",
   "metadata": {},
   "outputs": [
    {
     "name": "stderr",
     "output_type": "stream",
     "text": [
      "/tmp/ipykernel_8897/3099612617.py:2: SettingWithCopyWarning: \n",
      "A value is trying to be set on a copy of a slice from a DataFrame.\n",
      "Try using .loc[row_indexer,col_indexer] = value instead\n",
      "\n",
      "See the caveats in the documentation: https://pandas.pydata.org/pandas-docs/stable/user_guide/indexing.html#returning-a-view-versus-a-copy\n",
      "  df_test1['rating_label'] = df_test1.apply (lambda row: label_rating(row), axis=1)\n"
     ]
    },
    {
     "data": {
      "text/html": [
       "<div>\n",
       "<style scoped>\n",
       "    .dataframe tbody tr th:only-of-type {\n",
       "        vertical-align: middle;\n",
       "    }\n",
       "\n",
       "    .dataframe tbody tr th {\n",
       "        vertical-align: top;\n",
       "    }\n",
       "\n",
       "    .dataframe thead th {\n",
       "        text-align: right;\n",
       "    }\n",
       "</style>\n",
       "<table border=\"1\" class=\"dataframe\">\n",
       "  <thead>\n",
       "    <tr style=\"text-align: right;\">\n",
       "      <th></th>\n",
       "      <th>review_content</th>\n",
       "      <th>rating</th>\n",
       "      <th>rating_label</th>\n",
       "    </tr>\n",
       "  </thead>\n",
       "  <tbody>\n",
       "    <tr>\n",
       "      <th>0</th>\n",
       "      <td>It does exactly what it says it does efficient...</td>\n",
       "      <td>5</td>\n",
       "      <td>5 - awesome</td>\n",
       "    </tr>\n",
       "    <tr>\n",
       "      <th>1</th>\n",
       "      <td>Well, I've only done 2 different vendors. The ...</td>\n",
       "      <td>4</td>\n",
       "      <td>4 - good</td>\n",
       "    </tr>\n",
       "    <tr>\n",
       "      <th>2</th>\n",
       "      <td>Still in my first week. And I'm looking forwar...</td>\n",
       "      <td>5</td>\n",
       "      <td>5 - awesome</td>\n",
       "    </tr>\n",
       "    <tr>\n",
       "      <th>3</th>\n",
       "      <td>loving the app.</td>\n",
       "      <td>5</td>\n",
       "      <td>5 - awesome</td>\n",
       "    </tr>\n",
       "    <tr>\n",
       "      <th>4</th>\n",
       "      <td>AT FIRST: 1) Lovely experience. charming staff...</td>\n",
       "      <td>2</td>\n",
       "      <td>2 - bad</td>\n",
       "    </tr>\n",
       "  </tbody>\n",
       "</table>\n",
       "</div>"
      ],
      "text/plain": [
       "                                      review_content  rating rating_label\n",
       "0  It does exactly what it says it does efficient...       5  5 - awesome\n",
       "1  Well, I've only done 2 different vendors. The ...       4     4 - good\n",
       "2  Still in my first week. And I'm looking forwar...       5  5 - awesome\n",
       "3                                    loving the app.       5  5 - awesome\n",
       "4  AT FIRST: 1) Lovely experience. charming staff...       2      2 - bad"
      ]
     },
     "execution_count": 8,
     "metadata": {},
     "output_type": "execute_result"
    }
   ],
   "source": [
    "# application of function to create labels\n",
    "df_test1['rating_label'] = df_test1.apply (lambda row: label_rating(row), axis=1)\n",
    "df_test1.head()"
   ]
  },
  {
   "cell_type": "code",
   "execution_count": 9,
   "id": "49f16623",
   "metadata": {},
   "outputs": [],
   "source": [
    "# creation of dictionary scenario 1\n",
    "rating1_df = df_test1[['rating_label', 'rating']].drop_duplicates().sort_values('rating')\n",
    "ratinglabel1_to_id = dict(rating1_df.values)\n",
    "id_to_ratinglabel1 = dict(rating1_df[['rating', 'rating_label']].values)"
   ]
  },
  {
   "cell_type": "code",
   "execution_count": 10,
   "id": "f2b4167e",
   "metadata": {},
   "outputs": [
    {
     "data": {
      "text/plain": [
       "{'1 - awful': 1,\n",
       " '2 - bad': 2,\n",
       " '3 - neutral': 3,\n",
       " '4 - good': 4,\n",
       " '5 - awesome': 5}"
      ]
     },
     "execution_count": 10,
     "metadata": {},
     "output_type": "execute_result"
    }
   ],
   "source": [
    "ratinglabel1_to_id "
   ]
  },
  {
   "cell_type": "code",
   "execution_count": 11,
   "id": "f5c80c48",
   "metadata": {},
   "outputs": [
    {
     "data": {
      "image/png": "[encoded data removed]",
      "text/plain": [
       "<Figure size 576x432 with 1 Axes>"
      ]
     },
     "metadata": {
      "needs_background": "light"
     },
     "output_type": "display_data"
    }
   ],
   "source": [
    "# distribution chart\n",
    "fig = plt.figure(figsize=(8,6))\n",
    "df_test1.groupby('rating_label').review_content.count().plot.bar(ylim=0)\n",
    "plt.show()"
   ]
  },
  {
   "cell_type": "markdown",
   "id": "27c4a53c",
   "metadata": {},
   "source": [
    "##### Scenario 2 => 3 categories"
   ]
  },
  {
   "cell_type": "markdown",
   "id": "25baff49",
   "metadata": {},
   "source": [
    "- Bad = categories 1 & 2\n",
    "- Neutral = category 3\n",
    "- Good = categories 4 & 5"
   ]
  },
  {
   "cell_type": "code",
   "execution_count": 10,
   "id": "7f78fc0b",
   "metadata": {},
   "outputs": [
    {
     "name": "stderr",
     "output_type": "stream",
     "text": [
      "/tmp/ipykernel_12154/1835289214.py:16: SettingWithCopyWarning: \n",
      "A value is trying to be set on a copy of a slice from a DataFrame.\n",
      "Try using .loc[row_indexer,col_indexer] = value instead\n",
      "\n",
      "See the caveats in the documentation: https://pandas.pydata.org/pandas-docs/stable/user_guide/indexing.html#returning-a-view-versus-a-copy\n",
      "  df_test2['rating_label'] = df_test2.apply (lambda row: label_rating2(row), axis=1)\n"
     ]
    },
    {
     "data": {
      "text/html": [
       "<div>\n",
       "<style scoped>\n",
       "    .dataframe tbody tr th:only-of-type {\n",
       "        vertical-align: middle;\n",
       "    }\n",
       "\n",
       "    .dataframe tbody tr th {\n",
       "        vertical-align: top;\n",
       "    }\n",
       "\n",
       "    .dataframe thead th {\n",
       "        text-align: right;\n",
       "    }\n",
       "</style>\n",
       "<table border=\"1\" class=\"dataframe\">\n",
       "  <thead>\n",
       "    <tr style=\"text-align: right;\">\n",
       "      <th></th>\n",
       "      <th>review_content</th>\n",
       "      <th>rating</th>\n",
       "      <th>rating_label</th>\n",
       "    </tr>\n",
       "  </thead>\n",
       "  <tbody>\n",
       "    <tr>\n",
       "      <th>0</th>\n",
       "      <td>It does exactly what it says it does efficient...</td>\n",
       "      <td>5</td>\n",
       "      <td>3 - good</td>\n",
       "    </tr>\n",
       "    <tr>\n",
       "      <th>1</th>\n",
       "      <td>Well, I've only done 2 different vendors. The ...</td>\n",
       "      <td>4</td>\n",
       "      <td>3 - good</td>\n",
       "    </tr>\n",
       "    <tr>\n",
       "      <th>2</th>\n",
       "      <td>Still in my first week. And I'm looking forwar...</td>\n",
       "      <td>5</td>\n",
       "      <td>3 - good</td>\n",
       "    </tr>\n",
       "    <tr>\n",
       "      <th>3</th>\n",
       "      <td>loving the app.</td>\n",
       "      <td>5</td>\n",
       "      <td>3 - good</td>\n",
       "    </tr>\n",
       "    <tr>\n",
       "      <th>4</th>\n",
       "      <td>AT FIRST: 1) Lovely experience. charming staff...</td>\n",
       "      <td>2</td>\n",
       "      <td>1 - bad</td>\n",
       "    </tr>\n",
       "  </tbody>\n",
       "</table>\n",
       "</div>"
      ],
      "text/plain": [
       "                                      review_content  rating rating_label\n",
       "0  It does exactly what it says it does efficient...       5     3 - good\n",
       "1  Well, I've only done 2 different vendors. The ...       4     3 - good\n",
       "2  Still in my first week. And I'm looking forwar...       5     3 - good\n",
       "3                                    loving the app.       5     3 - good\n",
       "4  AT FIRST: 1) Lovely experience. charming staff...       2      1 - bad"
      ]
     },
     "execution_count": 10,
     "metadata": {},
     "output_type": "execute_result"
    }
   ],
   "source": [
    "df_test2 = df[['review_content','rating']]\n",
    "\n",
    "def label_rating2 (row):\n",
    "    if row['rating'] == 1 :\n",
    "        return '1 - bad'\n",
    "    if row['rating'] == 2 :\n",
    "        return '1 - bad'\n",
    "    if row['rating'] == 3 :\n",
    "        return '2 - neutral'\n",
    "    if row['rating'] == 4 :\n",
    "        return '3 - good'\n",
    "    if row['rating'] == 5 :\n",
    "        return '3 - good'\n",
    "    return 'Other'\n",
    "\n",
    "df_test2['rating_label'] = df_test2.apply (lambda row: label_rating2(row), axis=1)\n",
    "df_test2.head()"
   ]
  },
  {
   "cell_type": "code",
   "execution_count": 11,
   "id": "cacb20da",
   "metadata": {},
   "outputs": [],
   "source": [
    "# creation of dictionary scenario 2\n",
    "rating2_df = df_test2[['rating_label', 'rating']].drop_duplicates().sort_values('rating')\n",
    "ratinglabel2_to_id = dict(rating2_df.values)\n",
    "id_to_ratinglabel2 = dict(rating2_df[['rating', 'rating_label']].values)"
   ]
  },
  {
   "cell_type": "code",
   "execution_count": 12,
   "id": "24ad72eb",
   "metadata": {},
   "outputs": [
    {
     "data": {
      "image/png": "[encoded data removed]",
      "text/plain": [
       "<Figure size 576x432 with 1 Axes>"
      ]
     },
     "metadata": {
      "needs_background": "light"
     },
     "output_type": "display_data"
    }
   ],
   "source": [
    "# distribution chart\n",
    "fig = plt.figure(figsize=(8,6))\n",
    "df_test2.groupby('rating_label').review_content.count().plot.bar(ylim=0)\n",
    "plt.show()"
   ]
  },
  {
   "cell_type": "markdown",
   "id": "806706b5",
   "metadata": {},
   "source": [
    "# Phase 1 => Preparatory work"
   ]
  },
  {
   "cell_type": "markdown",
   "id": "2cd73c1b",
   "metadata": {},
   "source": [
    "### A) Feature engineering"
   ]
  },
  {
   "cell_type": "markdown",
   "id": "e5b4d526",
   "metadata": {},
   "source": [
    "#### Step 1 => Features created directly from text"
   ]
  },
  {
   "cell_type": "markdown",
   "id": "cad7369e",
   "metadata": {},
   "source": [
    "1. Number of Characters"
   ]
  },
  {
   "cell_type": "code",
   "execution_count": 13,
   "id": "1aa64d8f",
   "metadata": {},
   "outputs": [
    {
     "data": {
      "text/html": [
       "<div>\n",
       "<style scoped>\n",
       "    .dataframe tbody tr th:only-of-type {\n",
       "        vertical-align: middle;\n",
       "    }\n",
       "\n",
       "    .dataframe tbody tr th {\n",
       "        vertical-align: top;\n",
       "    }\n",
       "\n",
       "    .dataframe thead th {\n",
       "        text-align: right;\n",
       "    }\n",
       "</style>\n",
       "<table border=\"1\" class=\"dataframe\">\n",
       "  <thead>\n",
       "    <tr style=\"text-align: right;\">\n",
       "      <th></th>\n",
       "      <th>review_content</th>\n",
       "      <th>rating</th>\n",
       "      <th>rating_label</th>\n",
       "    </tr>\n",
       "  </thead>\n",
       "  <tbody>\n",
       "    <tr>\n",
       "      <th>0</th>\n",
       "      <td>It does exactly what it says it does efficient...</td>\n",
       "      <td>5</td>\n",
       "      <td>5 - awesome</td>\n",
       "    </tr>\n",
       "    <tr>\n",
       "      <th>1</th>\n",
       "      <td>Well, I've only done 2 different vendors. The ...</td>\n",
       "      <td>4</td>\n",
       "      <td>4 - good</td>\n",
       "    </tr>\n",
       "    <tr>\n",
       "      <th>2</th>\n",
       "      <td>Still in my first week. And I'm looking forwar...</td>\n",
       "      <td>5</td>\n",
       "      <td>5 - awesome</td>\n",
       "    </tr>\n",
       "    <tr>\n",
       "      <th>3</th>\n",
       "      <td>loving the app.</td>\n",
       "      <td>5</td>\n",
       "      <td>5 - awesome</td>\n",
       "    </tr>\n",
       "    <tr>\n",
       "      <th>4</th>\n",
       "      <td>AT FIRST: 1) Lovely experience. charming staff...</td>\n",
       "      <td>2</td>\n",
       "      <td>2 - bad</td>\n",
       "    </tr>\n",
       "  </tbody>\n",
       "</table>\n",
       "</div>"
      ],
      "text/plain": [
       "                                      review_content  rating rating_label\n",
       "0  It does exactly what it says it does efficient...       5  5 - awesome\n",
       "1  Well, I've only done 2 different vendors. The ...       4     4 - good\n",
       "2  Still in my first week. And I'm looking forwar...       5  5 - awesome\n",
       "3                                    loving the app.       5  5 - awesome\n",
       "4  AT FIRST: 1) Lovely experience. charming staff...       2      2 - bad"
      ]
     },
     "execution_count": 13,
     "metadata": {},
     "output_type": "execute_result"
    }
   ],
   "source": [
    "df_test1.head()"
   ]
  },
  {
   "cell_type": "code",
   "execution_count": 12,
   "id": "c96bb190",
   "metadata": {},
   "outputs": [],
   "source": [
    "def count_chars(text):\n",
    "    return len(text)"
   ]
  },
  {
   "cell_type": "markdown",
   "id": "8f4393b8",
   "metadata": {},
   "source": [
    "2. Number of words"
   ]
  },
  {
   "cell_type": "code",
   "execution_count": 14,
   "id": "78ff6b5e",
   "metadata": {},
   "outputs": [],
   "source": [
    "def count_words(text):\n",
    "    return len(text.split())"
   ]
  },
  {
   "cell_type": "markdown",
   "id": "62e573ac",
   "metadata": {},
   "source": [
    "3. Number of capital characters"
   ]
  },
  {
   "cell_type": "code",
   "execution_count": 15,
   "id": "b18dbd43",
   "metadata": {},
   "outputs": [],
   "source": [
    "def count_capital_chars(text):\n",
    "    count=0\n",
    "    for i in text:\n",
    "        if i.isupper()== True: #isupper() method returns: True if characters in a string are uppercase characters\n",
    "            count+=1\n",
    "    return count"
   ]
  },
  {
   "cell_type": "markdown",
   "id": "0fbe3024",
   "metadata": {},
   "source": [
    "4. Number of capital words"
   ]
  },
  {
   "cell_type": "code",
   "execution_count": 16,
   "id": "b56e469c",
   "metadata": {},
   "outputs": [],
   "source": [
    "def count_capital_words(text):\n",
    "    return sum(map(str.isupper, text.split()))"
   ]
  },
  {
   "cell_type": "markdown",
   "id": "417bebb6",
   "metadata": {},
   "source": [
    "5. Count the number of punctuations"
   ]
  },
  {
   "cell_type": "code",
   "execution_count": 17,
   "id": "4a56cea2",
   "metadata": {},
   "outputs": [],
   "source": [
    "def count_punctuations(text):\n",
    "    punctuations=\"!#$%&'()*+,-./:;<=>?@[\\]^_`{|}~\"\n",
    "    d=dict()\n",
    "    for i in punctuations:\n",
    "        d[str(i)+'count']=text.count(i)\n",
    "    return d "
   ]
  },
  {
   "cell_type": "markdown",
   "id": "ed4f6619",
   "metadata": {},
   "source": [
    "6. Number of words in quotes"
   ]
  },
  {
   "cell_type": "code",
   "execution_count": 18,
   "id": "a6bf0c1a",
   "metadata": {},
   "outputs": [],
   "source": [
    "def count_words_in_quotes(text):\n",
    "    x = re.findall(\"'.'|'.'\", text)\n",
    "    count=0\n",
    "    if x is None:\n",
    "        return 0\n",
    "    else:\n",
    "        for i in x:\n",
    "            t=i[1:-1]\n",
    "            count+=count_words(t)\n",
    "        return count"
   ]
  },
  {
   "cell_type": "markdown",
   "id": "f11a5708",
   "metadata": {},
   "source": [
    "7. Number of sentences"
   ]
  },
  {
   "cell_type": "code",
   "execution_count": 19,
   "id": "7df8ff6c",
   "metadata": {},
   "outputs": [],
   "source": [
    "def count_sent(text):\n",
    "    return len(nltk.sent_tokenize(text))"
   ]
  },
  {
   "cell_type": "markdown",
   "id": "9e143fbf",
   "metadata": {},
   "source": [
    "8. Count the number of unique words"
   ]
  },
  {
   "cell_type": "code",
   "execution_count": 20,
   "id": "23fa16bb",
   "metadata": {},
   "outputs": [],
   "source": [
    "def count_unique_words(text):\n",
    "    return len(set(text.split()))"
   ]
  },
  {
   "cell_type": "markdown",
   "id": "c7bbb1cb",
   "metadata": {},
   "source": [
    "9. Count of hashtags"
   ]
  },
  {
   "cell_type": "code",
   "execution_count": 21,
   "id": "0a5784da",
   "metadata": {},
   "outputs": [],
   "source": [
    "def count_htags(text):\n",
    "    x = re.findall(r'(#w[A-Za-z0-9]*)', text)\n",
    "    return len(x) "
   ]
  },
  {
   "cell_type": "markdown",
   "id": "2fde5981",
   "metadata": {},
   "source": [
    "10. Count of mentions"
   ]
  },
  {
   "cell_type": "code",
   "execution_count": 22,
   "id": "fdf23014",
   "metadata": {},
   "outputs": [],
   "source": [
    "def count_mentions(text):\n",
    "    x = re.findall(r'(@w[A-Za-z0-9]*)', text)\n",
    "    return len(x)"
   ]
  },
  {
   "cell_type": "markdown",
   "id": "73f27bcd",
   "metadata": {},
   "source": [
    "11. Count of stopwords"
   ]
  },
  {
   "cell_type": "code",
   "execution_count": 25,
   "id": "ed84fc88",
   "metadata": {},
   "outputs": [
    {
     "name": "stdout",
     "output_type": "stream",
     "text": [
      "Collecting en-core-web-md==3.2.0\n",
      "  Downloading https://github.com/explosion/spacy-models/releases/download/en_core_web_md-3.2.0/en_core_web_md-3.2.0-py3-none-any.whl (45.7 MB)\n",
      "     |████████████████████████████████| 45.7 MB 740 kB/s            \n",
      "\u001b[?25hRequirement already satisfied: spacy<3.3.0,>=3.2.0 in /home/vb/.pyenv/versions/3.9.7/envs/artefact/lib/python3.9/site-packages (from en-core-web-md==3.2.0) (3.2.0)\n",
      "Requirement already satisfied: spacy-loggers<2.0.0,>=1.0.0 in /home/vb/.pyenv/versions/3.9.7/envs/artefact/lib/python3.9/site-packages (from spacy<3.3.0,>=3.2.0->en-core-web-md==3.2.0) (1.0.1)\n",
      "Requirement already satisfied: pydantic!=1.8,!=1.8.1,<1.9.0,>=1.7.4 in /home/vb/.pyenv/versions/3.9.7/envs/artefact/lib/python3.9/site-packages (from spacy<3.3.0,>=3.2.0->en-core-web-md==3.2.0) (1.8.2)\n",
      "Requirement already satisfied: wasabi<1.1.0,>=0.8.1 in /home/vb/.pyenv/versions/3.9.7/envs/artefact/lib/python3.9/site-packages (from spacy<3.3.0,>=3.2.0->en-core-web-md==3.2.0) (0.8.2)\n",
      "Requirement already satisfied: tqdm<5.0.0,>=4.38.0 in /home/vb/.pyenv/versions/3.9.7/envs/artefact/lib/python3.9/site-packages (from spacy<3.3.0,>=3.2.0->en-core-web-md==3.2.0) (4.62.3)\n",
      "Requirement already satisfied: murmurhash<1.1.0,>=0.28.0 in /home/vb/.pyenv/versions/3.9.7/envs/artefact/lib/python3.9/site-packages (from spacy<3.3.0,>=3.2.0->en-core-web-md==3.2.0) (1.0.6)\n",
      "Requirement already satisfied: spacy-legacy<3.1.0,>=3.0.8 in /home/vb/.pyenv/versions/3.9.7/envs/artefact/lib/python3.9/site-packages (from spacy<3.3.0,>=3.2.0->en-core-web-md==3.2.0) (3.0.8)\n",
      "Requirement already satisfied: preshed<3.1.0,>=3.0.2 in /home/vb/.pyenv/versions/3.9.7/envs/artefact/lib/python3.9/site-packages (from spacy<3.3.0,>=3.2.0->en-core-web-md==3.2.0) (3.0.6)\n",
      "Requirement already satisfied: cymem<2.1.0,>=2.0.2 in /home/vb/.pyenv/versions/3.9.7/envs/artefact/lib/python3.9/site-packages (from spacy<3.3.0,>=3.2.0->en-core-web-md==3.2.0) (2.0.6)\n",
      "Requirement already satisfied: typer<0.5.0,>=0.3.0 in /home/vb/.pyenv/versions/3.9.7/envs/artefact/lib/python3.9/site-packages (from spacy<3.3.0,>=3.2.0->en-core-web-md==3.2.0) (0.4.0)\n",
      "Requirement already satisfied: catalogue<2.1.0,>=2.0.6 in /home/vb/.pyenv/versions/3.9.7/envs/artefact/lib/python3.9/site-packages (from spacy<3.3.0,>=3.2.0->en-core-web-md==3.2.0) (2.0.6)\n",
      "Requirement already satisfied: thinc<8.1.0,>=8.0.12 in /home/vb/.pyenv/versions/3.9.7/envs/artefact/lib/python3.9/site-packages (from spacy<3.3.0,>=3.2.0->en-core-web-md==3.2.0) (8.0.13)\n",
      "Requirement already satisfied: requests<3.0.0,>=2.13.0 in /home/vb/.pyenv/versions/3.9.7/envs/artefact/lib/python3.9/site-packages (from spacy<3.3.0,>=3.2.0->en-core-web-md==3.2.0) (2.23.0)\n",
      "Requirement already satisfied: langcodes<4.0.0,>=3.2.0 in /home/vb/.pyenv/versions/3.9.7/envs/artefact/lib/python3.9/site-packages (from spacy<3.3.0,>=3.2.0->en-core-web-md==3.2.0) (3.3.0)\n",
      "Requirement already satisfied: packaging>=20.0 in /home/vb/.pyenv/versions/3.9.7/envs/artefact/lib/python3.9/site-packages (from spacy<3.3.0,>=3.2.0->en-core-web-md==3.2.0) (21.0)\n",
      "Requirement already satisfied: srsly<3.0.0,>=2.4.1 in /home/vb/.pyenv/versions/3.9.7/envs/artefact/lib/python3.9/site-packages (from spacy<3.3.0,>=3.2.0->en-core-web-md==3.2.0) (2.4.2)\n",
      "Requirement already satisfied: jinja2 in /home/vb/.pyenv/versions/3.9.7/envs/artefact/lib/python3.9/site-packages (from spacy<3.3.0,>=3.2.0->en-core-web-md==3.2.0) (3.0.2)\n",
      "Requirement already satisfied: setuptools in /home/vb/.pyenv/versions/3.9.7/envs/artefact/lib/python3.9/site-packages (from spacy<3.3.0,>=3.2.0->en-core-web-md==3.2.0) (57.4.0)\n",
      "Requirement already satisfied: numpy>=1.15.0 in /home/vb/.pyenv/versions/3.9.7/envs/artefact/lib/python3.9/site-packages (from spacy<3.3.0,>=3.2.0->en-core-web-md==3.2.0) (1.20.3)\n",
      "Requirement already satisfied: blis<0.8.0,>=0.4.0 in /home/vb/.pyenv/versions/3.9.7/envs/artefact/lib/python3.9/site-packages (from spacy<3.3.0,>=3.2.0->en-core-web-md==3.2.0) (0.7.5)\n",
      "Requirement already satisfied: pathy>=0.3.5 in /home/vb/.pyenv/versions/3.9.7/envs/artefact/lib/python3.9/site-packages (from spacy<3.3.0,>=3.2.0->en-core-web-md==3.2.0) (0.6.1)\n",
      "Requirement already satisfied: pyparsing>=2.0.2 in /home/vb/.pyenv/versions/3.9.7/envs/artefact/lib/python3.9/site-packages (from packaging>=20.0->spacy<3.3.0,>=3.2.0->en-core-web-md==3.2.0) (2.4.7)\n",
      "Requirement already satisfied: smart-open<6.0.0,>=5.0.0 in /home/vb/.pyenv/versions/3.9.7/envs/artefact/lib/python3.9/site-packages (from pathy>=0.3.5->spacy<3.3.0,>=3.2.0->en-core-web-md==3.2.0) (5.2.1)\n",
      "Requirement already satisfied: typing-extensions>=3.7.4.3 in /home/vb/.pyenv/versions/3.9.7/envs/artefact/lib/python3.9/site-packages (from pydantic!=1.8,!=1.8.1,<1.9.0,>=1.7.4->spacy<3.3.0,>=3.2.0->en-core-web-md==3.2.0) (3.10.0.2)\n",
      "Requirement already satisfied: urllib3!=1.25.0,!=1.25.1,<1.26,>=1.21.1 in /home/vb/.pyenv/versions/3.9.7/envs/artefact/lib/python3.9/site-packages (from requests<3.0.0,>=2.13.0->spacy<3.3.0,>=3.2.0->en-core-web-md==3.2.0) (1.25.11)\n",
      "Requirement already satisfied: idna<3,>=2.5 in /home/vb/.pyenv/versions/3.9.7/envs/artefact/lib/python3.9/site-packages (from requests<3.0.0,>=2.13.0->spacy<3.3.0,>=3.2.0->en-core-web-md==3.2.0) (2.10)\n",
      "Requirement already satisfied: chardet<4,>=3.0.2 in /home/vb/.pyenv/versions/3.9.7/envs/artefact/lib/python3.9/site-packages (from requests<3.0.0,>=2.13.0->spacy<3.3.0,>=3.2.0->en-core-web-md==3.2.0) (3.0.4)\n",
      "Requirement already satisfied: certifi>=2017.4.17 in /home/vb/.pyenv/versions/3.9.7/envs/artefact/lib/python3.9/site-packages (from requests<3.0.0,>=2.13.0->spacy<3.3.0,>=3.2.0->en-core-web-md==3.2.0) (2021.10.8)\n",
      "Requirement already satisfied: click<9.0.0,>=7.1.1 in /home/vb/.pyenv/versions/3.9.7/envs/artefact/lib/python3.9/site-packages (from typer<0.5.0,>=0.3.0->spacy<3.3.0,>=3.2.0->en-core-web-md==3.2.0) (7.1.2)\n",
      "Requirement already satisfied: MarkupSafe>=2.0 in /home/vb/.pyenv/versions/3.9.7/envs/artefact/lib/python3.9/site-packages (from jinja2->spacy<3.3.0,>=3.2.0->en-core-web-md==3.2.0) (2.0.1)\n",
      "Installing collected packages: en-core-web-md\n",
      "Successfully installed en-core-web-md-3.2.0\n",
      "\u001b[33mWARNING: You are using pip version 21.3; however, version 21.3.1 is available.\n",
      "You should consider upgrading via the '/home/vb/.pyenv/versions/artefact/bin/python -m pip install --upgrade pip' command.\u001b[0m\n",
      "\u001b[38;5;2m✔ Download and installation successful\u001b[0m\n",
      "You can now load the package via spacy.load('en_core_web_md')\n"
     ]
    }
   ],
   "source": [
    "!python -m spacy download en_core_web_md"
   ]
  },
  {
   "cell_type": "code",
   "execution_count": 26,
   "id": "e4a22447",
   "metadata": {},
   "outputs": [
    {
     "name": "stdout",
     "output_type": "stream",
     "text": [
      "322\n"
     ]
    }
   ],
   "source": [
    "nlp = spacy.load(\"en_core_web_md\") # need to use the medium model (not small one = en_core_web_md)\n",
    "nlp.Defaults.stop_words -= {\"no\", \"not\", \"isn't\",\"can't\", \"cannot\", \"doesn't\", \"don't\", \"but\", \"won't\", \"shouldn't\"} #to remove words form Spacy stopwords\n",
    "\n",
    "stopwords = nlp.Defaults.stop_words\n",
    "\n",
    "print(len(stopwords))"
   ]
  },
  {
   "cell_type": "code",
   "execution_count": 27,
   "id": "4a3fa1c1",
   "metadata": {},
   "outputs": [
    {
     "name": "stdout",
     "output_type": "stream",
     "text": [
      "{'whence', 'me', 'as', 'before', 'own', 'however', 'thereafter', 'nor', 'various', 'others', 'have', 'nobody', 'front', 'during', 'except', 'am', 'done', 'yet', 'its', 'see', 'thereupon', 'much', 'quite', 'give', 'it', 'had', \"'s\", 'several', 'were', 'often', 'otherwise', \"n't\", 'upon', 'also', 'whither', 'wherever', 'from', 'my', 'we', '‘ve', '’s', 'for', 'towards', 'n’t', 'our', 'namely', 'around', 'above', 'whereupon', 'further', 'may', 'him', 'she', 'itself', \"'m\", 'first', 'under', 'alone', 'bottom', 'anywhere', 'against', 'now', 'been', 'still', 'n‘t', 'after', 'up', 'serious', 'former', '’ve', 'enough', 'thence', 'are', 'everything', 'seem', 'might', 'did', 'out', 'some', 'if', 'side', 'all', 'rather', 'here', 'than', 'can', \"'ve\", 'both', 'anyhow', 'using', 'anything', 'could', 'hereupon', 'sixty', 'an', 'beside', 'perhaps', 'became', 'anyway', 'should', 'therein', 'four', 'show', 'so', 'he', 'how', 'six', 'more', 'thus', 'never', 'within', 'next', 'nothing', 'you', 'there', 'moreover', 'who', 'back', 'thru', 'always', 'one', '’m', 'is', 'somewhere', 'take', 'last', 'sometimes', 'such', 'whoever', 'would', 'on', 'else', 'whenever', 'same', 'since', 'formerly', 'move', 'already', 'everyone', 'top', 'do', 'yours', 'behind', 'each', 'empty', 'over', '‘re', 'beyond', 'eight', 'only', 'yourself', 'has', 'by', 'other', 'seeming', 'hers', 'to', 'although', 'must', 'latterly', 'hence', 'none', 'onto', '’re', 'due', 'of', 'with', 'themselves', 'again', 'ten', 'fifty', 'becomes', 'many', 'ours', '‘d', 'almost', 'another', 'put', 'toward', 'therefore', 'i', 'them', 'and', 'forty', 'in', 'please', 'they', 'whether', 'ca', 'whereby', 'thereby', 'whom', 'why', '’ll', 're', 'through', 'used', 'at', 'part', 'nine', 'once', 'because', 'along', 'make', 'becoming', 'less', 'every', 'when', 'doing', 'elsewhere', 'two', 'even', 'any', 'three', 'while', 'ourselves', 'name', 'himself', 'the', 'most', 'together', 'full', 'too', 'below', 'keep', 'mine', 'those', 'noone', '‘ll', 'into', 'this', 'latter', '’d', 'whereas', 'sometime', 'without', 'call', 'hereby', 'everywhere', 'herein', 'seemed', 'whole', 'anyone', 'say', 'something', 'being', 'these', 'or', 'via', 'somehow', 'throughout', 'whatever', 'beforehand', 'was', '‘s', 'just', 'seems', 'amongst', 'until', 'unless', 'very', 'a', 'meanwhile', 'third', 'afterwards', 'about', 'off', 'his', 'your', 'hereafter', 'then', 'myself', 'really', 'well', 'though', 'nevertheless', 'nowhere', 'among', 'yourselves', 'become', 'few', '‘m', 'will', 'be', \"'re\", 'twenty', 'either', 'fifteen', 'made', 'amount', 'twelve', 'whereafter', 'us', 'down', 'someone', 'eleven', 'get', 'hundred', 'per', 'ever', 'regarding', 'go', 'what', 'besides', 'where', 'across', \"'d\", 'does', 'whose', 'five', 'indeed', 'mostly', 'neither', \"'ll\", 'between', 'which', 'their', 'wherein', 'her', 'least', 'herself', 'that'}\n"
     ]
    }
   ],
   "source": [
    "print(stopwords)"
   ]
  },
  {
   "cell_type": "code",
   "execution_count": 28,
   "id": "9754a19b",
   "metadata": {},
   "outputs": [],
   "source": [
    "def count_stopwords(text):\n",
    "    stop_words = stopwords  \n",
    "    word_tokens = word_tokenize(text)\n",
    "    stopwords_x = [w for w in word_tokens if w in stop_words]\n",
    "    return len(stopwords_x)"
   ]
  },
  {
   "cell_type": "markdown",
   "id": "dc9a971a",
   "metadata": {},
   "source": [
    "11. Count of emojis"
   ]
  },
  {
   "cell_type": "code",
   "execution_count": 29,
   "id": "7f36d3b5",
   "metadata": {},
   "outputs": [],
   "source": [
    "def count_emoji(text):\n",
    "    return emoji.emoji_count(text)"
   ]
  },
  {
   "cell_type": "markdown",
   "id": "cdb6565a",
   "metadata": {},
   "source": [
    "##### Application of 1st round of feature engineering"
   ]
  },
  {
   "cell_type": "code",
   "execution_count": 30,
   "id": "105f41e6",
   "metadata": {},
   "outputs": [
    {
     "name": "stderr",
     "output_type": "stream",
     "text": [
      "/tmp/ipykernel_8897/3117292899.py:2: SettingWithCopyWarning: \n",
      "A value is trying to be set on a copy of a slice from a DataFrame.\n",
      "Try using .loc[row_indexer,col_indexer] = value instead\n",
      "\n",
      "See the caveats in the documentation: https://pandas.pydata.org/pandas-docs/stable/user_guide/indexing.html#returning-a-view-versus-a-copy\n",
      "  df_test1['char_count'] = df_test1[\"review_content\"].apply(lambda x:count_chars(x))\n"
     ]
    }
   ],
   "source": [
    "#apply all the functions just created above, to the whole dataset\n",
    "df_test1['char_count'] = df_test1[\"review_content\"].apply(lambda x:count_chars(x))\n",
    "df_test1['word_count'] = df_test1[\"review_content\"].apply(lambda x:count_words(x))\n",
    "df_test1['sent_count'] = df_test1[\"review_content\"].apply(lambda x:count_sent(x))\n",
    "df_test1['capital_char_count'] = df_test1[\"review_content\"].apply(lambda x:count_capital_chars(x))\n",
    "df_test1['capital_word_count'] = df_test1[\"review_content\"].apply(lambda x:count_capital_words(x))\n",
    "df_test1['quoted_word_count'] = df_test1[\"review_content\"].apply(lambda x:count_words_in_quotes(x))\n",
    "df_test1['stopword_count'] = df_test1[\"review_content\"].apply(lambda x:count_stopwords(x))\n",
    "df_test1['unique_word_count'] = df_test1[\"review_content\"].apply(lambda x:count_unique_words(x))\n",
    "df_test1['htag_count'] = df_test1[\"review_content\"].apply(lambda x:count_htags(x))\n",
    "df_test1['mention_count'] = df_test1[\"review_content\"].apply(lambda x:count_mentions(x))\n",
    "df_test1['punct_count'] = df_test1[\"review_content\"].apply(lambda x:count_punctuations(x))\n",
    "df_test1['emoji_count'] = df_test1[\"review_content\"].apply(lambda x:count_emoji(x))"
   ]
  },
  {
   "cell_type": "code",
   "execution_count": 31,
   "id": "5b9b2bfc",
   "metadata": {},
   "outputs": [
    {
     "name": "stdout",
     "output_type": "stream",
     "text": [
      "<class 'pandas.core.frame.DataFrame'>\n",
      "Int64Index: 22968 entries, 0 to 1467\n",
      "Data columns (total 15 columns):\n",
      " #   Column              Non-Null Count  Dtype \n",
      "---  ------              --------------  ----- \n",
      " 0   review_content      22968 non-null  object\n",
      " 1   rating              22968 non-null  int64 \n",
      " 2   rating_label        22968 non-null  object\n",
      " 3   char_count          22968 non-null  int64 \n",
      " 4   word_count          22968 non-null  int64 \n",
      " 5   sent_count          22968 non-null  int64 \n",
      " 6   capital_char_count  22968 non-null  int64 \n",
      " 7   capital_word_count  22968 non-null  int64 \n",
      " 8   quoted_word_count   22968 non-null  int64 \n",
      " 9   stopword_count      22968 non-null  int64 \n",
      " 10  unique_word_count   22968 non-null  int64 \n",
      " 11  htag_count          22968 non-null  int64 \n",
      " 12  mention_count       22968 non-null  int64 \n",
      " 13  punct_count         22968 non-null  object\n",
      " 14  emoji_count         22968 non-null  int64 \n",
      "dtypes: int64(12), object(3)\n",
      "memory usage: 2.8+ MB\n"
     ]
    }
   ],
   "source": [
    "df_test1.info()"
   ]
  },
  {
   "cell_type": "markdown",
   "id": "cd0e5767",
   "metadata": {},
   "source": [
    "#### Step 2 => New features created directly from features above and applied on df"
   ]
  },
  {
   "cell_type": "markdown",
   "id": "c8ef197b",
   "metadata": {},
   "source": [
    "12. Calculating average word length"
   ]
  },
  {
   "cell_type": "code",
   "execution_count": 32,
   "id": "e55bb06f",
   "metadata": {},
   "outputs": [],
   "source": [
    "df_test1['avg_wordlength'] = df_test1['char_count']/df_test1['word_count']"
   ]
  },
  {
   "cell_type": "markdown",
   "id": "53edf648",
   "metadata": {},
   "source": [
    "13. Calculating average sentence length"
   ]
  },
  {
   "cell_type": "code",
   "execution_count": 33,
   "id": "0976421f",
   "metadata": {},
   "outputs": [],
   "source": [
    "df_test1['avg_sentlength'] = df_test1['word_count']/df_test1['sent_count']"
   ]
  },
  {
   "cell_type": "markdown",
   "id": "47fddb5f",
   "metadata": {},
   "source": [
    "14. Ratio unique words vs word count"
   ]
  },
  {
   "cell_type": "code",
   "execution_count": 34,
   "id": "9f6ad659",
   "metadata": {},
   "outputs": [],
   "source": [
    "df_test1['unique_vs_words'] = df_test1['unique_word_count']/df_test1['word_count']"
   ]
  },
  {
   "cell_type": "markdown",
   "id": "42f604ff",
   "metadata": {},
   "source": [
    "15. Ratio stopwords count vs words count"
   ]
  },
  {
   "cell_type": "code",
   "execution_count": 35,
   "id": "71372423",
   "metadata": {},
   "outputs": [],
   "source": [
    "df_test1['stopwords_vs_words'] = df_test1['stopword_count']/df_test1['word_count']"
   ]
  },
  {
   "cell_type": "code",
   "execution_count": 36,
   "id": "e31b3e5e",
   "metadata": {},
   "outputs": [
    {
     "name": "stdout",
     "output_type": "stream",
     "text": [
      "<class 'pandas.core.frame.DataFrame'>\n",
      "Int64Index: 22968 entries, 0 to 1467\n",
      "Data columns (total 19 columns):\n",
      " #   Column              Non-Null Count  Dtype  \n",
      "---  ------              --------------  -----  \n",
      " 0   review_content      22968 non-null  object \n",
      " 1   rating              22968 non-null  int64  \n",
      " 2   rating_label        22968 non-null  object \n",
      " 3   char_count          22968 non-null  int64  \n",
      " 4   word_count          22968 non-null  int64  \n",
      " 5   sent_count          22968 non-null  int64  \n",
      " 6   capital_char_count  22968 non-null  int64  \n",
      " 7   capital_word_count  22968 non-null  int64  \n",
      " 8   quoted_word_count   22968 non-null  int64  \n",
      " 9   stopword_count      22968 non-null  int64  \n",
      " 10  unique_word_count   22968 non-null  int64  \n",
      " 11  htag_count          22968 non-null  int64  \n",
      " 12  mention_count       22968 non-null  int64  \n",
      " 13  punct_count         22968 non-null  object \n",
      " 14  emoji_count         22968 non-null  int64  \n",
      " 15  avg_wordlength      22968 non-null  float64\n",
      " 16  avg_sentlength      22968 non-null  float64\n",
      " 17  unique_vs_words     22968 non-null  float64\n",
      " 18  stopwords_vs_words  22968 non-null  float64\n",
      "dtypes: float64(4), int64(12), object(3)\n",
      "memory usage: 3.5+ MB\n"
     ]
    }
   ],
   "source": [
    "df_test1.info()"
   ]
  },
  {
   "cell_type": "markdown",
   "id": "0d03f082",
   "metadata": {},
   "source": [
    "16. Adding columns based on punctuation used in each text"
   ]
  },
  {
   "cell_type": "code",
   "execution_count": 37,
   "id": "e9d27199",
   "metadata": {},
   "outputs": [
    {
     "data": {
      "text/plain": [
       "Index(['review_content', 'rating', 'rating_label', 'char_count', 'word_count',\n",
       "       'sent_count', 'capital_char_count', 'capital_word_count',\n",
       "       'quoted_word_count', 'stopword_count', 'unique_word_count',\n",
       "       'htag_count', 'mention_count', 'emoji_count', 'avg_wordlength',\n",
       "       'avg_sentlength', 'unique_vs_words', 'stopwords_vs_words', '!count',\n",
       "       '#count', '$count', '%count', '&count', ''count', '(count', ')count',\n",
       "       '*count', '+count', ',count', '-count', '.count', '/count', ':count',\n",
       "       ';count', '<count', '=count', '>count', '?count', '@count', '[count',\n",
       "       '\\count', ']count', '^count', '_count', '`count', '{count', '|count',\n",
       "       '}count', '~count'],\n",
       "      dtype='object')"
      ]
     },
     "execution_count": 37,
     "metadata": {},
     "output_type": "execute_result"
    }
   ],
   "source": [
    "# Creating new dataframe retrieving all the different punctuation used in each text\n",
    "df_punct = pd.DataFrame(list(df_test1.punct_count))\n",
    "\n",
    "# Merging punctuation DataFrame with main DataFrame\n",
    "df_test1 = pd.merge(df_test1, df_punct, left_index=True, right_index=True)\n",
    "\n",
    "# Dropping \"punct_count\" column from main DataFrame\n",
    "df_test1.drop(columns=['punct_count'],inplace=True)\n",
    "df_test1.columns"
   ]
  },
  {
   "cell_type": "code",
   "execution_count": 38,
   "id": "90d95b63",
   "metadata": {},
   "outputs": [
    {
     "name": "stdout",
     "output_type": "stream",
     "text": [
      "<class 'pandas.core.frame.DataFrame'>\n",
      "Int64Index: 22968 entries, 0 to 19847\n",
      "Data columns (total 49 columns):\n",
      " #   Column              Non-Null Count  Dtype  \n",
      "---  ------              --------------  -----  \n",
      " 0   review_content      22968 non-null  object \n",
      " 1   rating              22968 non-null  int64  \n",
      " 2   rating_label        22968 non-null  object \n",
      " 3   char_count          22968 non-null  int64  \n",
      " 4   word_count          22968 non-null  int64  \n",
      " 5   sent_count          22968 non-null  int64  \n",
      " 6   capital_char_count  22968 non-null  int64  \n",
      " 7   capital_word_count  22968 non-null  int64  \n",
      " 8   quoted_word_count   22968 non-null  int64  \n",
      " 9   stopword_count      22968 non-null  int64  \n",
      " 10  unique_word_count   22968 non-null  int64  \n",
      " 11  htag_count          22968 non-null  int64  \n",
      " 12  mention_count       22968 non-null  int64  \n",
      " 13  emoji_count         22968 non-null  int64  \n",
      " 14  avg_wordlength      22968 non-null  float64\n",
      " 15  avg_sentlength      22968 non-null  float64\n",
      " 16  unique_vs_words     22968 non-null  float64\n",
      " 17  stopwords_vs_words  22968 non-null  float64\n",
      " 18  !count              22968 non-null  int64  \n",
      " 19  #count              22968 non-null  int64  \n",
      " 20  $count              22968 non-null  int64  \n",
      " 21  %count              22968 non-null  int64  \n",
      " 22  &count              22968 non-null  int64  \n",
      " 23  'count              22968 non-null  int64  \n",
      " 24  (count              22968 non-null  int64  \n",
      " 25  )count              22968 non-null  int64  \n",
      " 26  *count              22968 non-null  int64  \n",
      " 27  +count              22968 non-null  int64  \n",
      " 28  ,count              22968 non-null  int64  \n",
      " 29  -count              22968 non-null  int64  \n",
      " 30  .count              22968 non-null  int64  \n",
      " 31  /count              22968 non-null  int64  \n",
      " 32  :count              22968 non-null  int64  \n",
      " 33  ;count              22968 non-null  int64  \n",
      " 34  <count              22968 non-null  int64  \n",
      " 35  =count              22968 non-null  int64  \n",
      " 36  >count              22968 non-null  int64  \n",
      " 37  ?count              22968 non-null  int64  \n",
      " 38  @count              22968 non-null  int64  \n",
      " 39  [count              22968 non-null  int64  \n",
      " 40  \\count              22968 non-null  int64  \n",
      " 41  ]count              22968 non-null  int64  \n",
      " 42  ^count              22968 non-null  int64  \n",
      " 43  _count              22968 non-null  int64  \n",
      " 44  `count              22968 non-null  int64  \n",
      " 45  {count              22968 non-null  int64  \n",
      " 46  |count              22968 non-null  int64  \n",
      " 47  }count              22968 non-null  int64  \n",
      " 48  ~count              22968 non-null  int64  \n",
      "dtypes: float64(4), int64(43), object(2)\n",
      "memory usage: 8.8+ MB\n"
     ]
    }
   ],
   "source": [
    "df_test1.info()"
   ]
  },
  {
   "cell_type": "code",
   "execution_count": 39,
   "id": "27ab654f",
   "metadata": {},
   "outputs": [
    {
     "data": {
      "text/html": [
       "<div>\n",
       "<style scoped>\n",
       "    .dataframe tbody tr th:only-of-type {\n",
       "        vertical-align: middle;\n",
       "    }\n",
       "\n",
       "    .dataframe tbody tr th {\n",
       "        vertical-align: top;\n",
       "    }\n",
       "\n",
       "    .dataframe thead th {\n",
       "        text-align: right;\n",
       "    }\n",
       "</style>\n",
       "<table border=\"1\" class=\"dataframe\">\n",
       "  <thead>\n",
       "    <tr style=\"text-align: right;\">\n",
       "      <th></th>\n",
       "      <th>rating</th>\n",
       "      <th>char_count</th>\n",
       "      <th>word_count</th>\n",
       "      <th>sent_count</th>\n",
       "      <th>capital_char_count</th>\n",
       "      <th>capital_word_count</th>\n",
       "      <th>quoted_word_count</th>\n",
       "      <th>stopword_count</th>\n",
       "      <th>unique_word_count</th>\n",
       "      <th>htag_count</th>\n",
       "      <th>...</th>\n",
       "      <th>[count</th>\n",
       "      <th>\\count</th>\n",
       "      <th>]count</th>\n",
       "      <th>^count</th>\n",
       "      <th>_count</th>\n",
       "      <th>`count</th>\n",
       "      <th>{count</th>\n",
       "      <th>|count</th>\n",
       "      <th>}count</th>\n",
       "      <th>~count</th>\n",
       "    </tr>\n",
       "  </thead>\n",
       "  <tbody>\n",
       "    <tr>\n",
       "      <th>count</th>\n",
       "      <td>22968.000000</td>\n",
       "      <td>22968.000000</td>\n",
       "      <td>22968.000000</td>\n",
       "      <td>22968.000000</td>\n",
       "      <td>22968.000000</td>\n",
       "      <td>22968.000000</td>\n",
       "      <td>22968.000000</td>\n",
       "      <td>22968.000000</td>\n",
       "      <td>22968.000000</td>\n",
       "      <td>22968.000000</td>\n",
       "      <td>...</td>\n",
       "      <td>22968.000000</td>\n",
       "      <td>22968.000000</td>\n",
       "      <td>22968.000000</td>\n",
       "      <td>22968.000000</td>\n",
       "      <td>22968.000000</td>\n",
       "      <td>22968.000000</td>\n",
       "      <td>22968.0</td>\n",
       "      <td>22968.0</td>\n",
       "      <td>22968.0</td>\n",
       "      <td>22968.000000</td>\n",
       "    </tr>\n",
       "    <tr>\n",
       "      <th>mean</th>\n",
       "      <td>4.433473</td>\n",
       "      <td>121.877699</td>\n",
       "      <td>22.753701</td>\n",
       "      <td>2.080329</td>\n",
       "      <td>2.943530</td>\n",
       "      <td>0.565482</td>\n",
       "      <td>0.000087</td>\n",
       "      <td>10.032132</td>\n",
       "      <td>19.483063</td>\n",
       "      <td>0.000044</td>\n",
       "      <td>...</td>\n",
       "      <td>0.000218</td>\n",
       "      <td>0.000044</td>\n",
       "      <td>0.000218</td>\n",
       "      <td>0.000610</td>\n",
       "      <td>0.000305</td>\n",
       "      <td>0.000087</td>\n",
       "      <td>0.0</td>\n",
       "      <td>0.0</td>\n",
       "      <td>0.0</td>\n",
       "      <td>0.000610</td>\n",
       "    </tr>\n",
       "    <tr>\n",
       "      <th>std</th>\n",
       "      <td>1.226021</td>\n",
       "      <td>157.477405</td>\n",
       "      <td>29.794663</td>\n",
       "      <td>1.711031</td>\n",
       "      <td>4.837543</td>\n",
       "      <td>1.488223</td>\n",
       "      <td>0.009331</td>\n",
       "      <td>15.248243</td>\n",
       "      <td>21.407197</td>\n",
       "      <td>0.006598</td>\n",
       "      <td>...</td>\n",
       "      <td>0.017457</td>\n",
       "      <td>0.006598</td>\n",
       "      <td>0.017457</td>\n",
       "      <td>0.034911</td>\n",
       "      <td>0.021883</td>\n",
       "      <td>0.009331</td>\n",
       "      <td>0.0</td>\n",
       "      <td>0.0</td>\n",
       "      <td>0.0</td>\n",
       "      <td>0.026387</td>\n",
       "    </tr>\n",
       "    <tr>\n",
       "      <th>min</th>\n",
       "      <td>1.000000</td>\n",
       "      <td>1.000000</td>\n",
       "      <td>1.000000</td>\n",
       "      <td>1.000000</td>\n",
       "      <td>0.000000</td>\n",
       "      <td>0.000000</td>\n",
       "      <td>0.000000</td>\n",
       "      <td>0.000000</td>\n",
       "      <td>1.000000</td>\n",
       "      <td>0.000000</td>\n",
       "      <td>...</td>\n",
       "      <td>0.000000</td>\n",
       "      <td>0.000000</td>\n",
       "      <td>0.000000</td>\n",
       "      <td>0.000000</td>\n",
       "      <td>0.000000</td>\n",
       "      <td>0.000000</td>\n",
       "      <td>0.0</td>\n",
       "      <td>0.0</td>\n",
       "      <td>0.0</td>\n",
       "      <td>0.000000</td>\n",
       "    </tr>\n",
       "    <tr>\n",
       "      <th>25%</th>\n",
       "      <td>5.000000</td>\n",
       "      <td>31.000000</td>\n",
       "      <td>6.000000</td>\n",
       "      <td>1.000000</td>\n",
       "      <td>1.000000</td>\n",
       "      <td>0.000000</td>\n",
       "      <td>0.000000</td>\n",
       "      <td>1.000000</td>\n",
       "      <td>6.000000</td>\n",
       "      <td>0.000000</td>\n",
       "      <td>...</td>\n",
       "      <td>0.000000</td>\n",
       "      <td>0.000000</td>\n",
       "      <td>0.000000</td>\n",
       "      <td>0.000000</td>\n",
       "      <td>0.000000</td>\n",
       "      <td>0.000000</td>\n",
       "      <td>0.0</td>\n",
       "      <td>0.0</td>\n",
       "      <td>0.0</td>\n",
       "      <td>0.000000</td>\n",
       "    </tr>\n",
       "    <tr>\n",
       "      <th>50%</th>\n",
       "      <td>5.000000</td>\n",
       "      <td>69.000000</td>\n",
       "      <td>13.000000</td>\n",
       "      <td>1.000000</td>\n",
       "      <td>2.000000</td>\n",
       "      <td>0.000000</td>\n",
       "      <td>0.000000</td>\n",
       "      <td>5.000000</td>\n",
       "      <td>12.000000</td>\n",
       "      <td>0.000000</td>\n",
       "      <td>...</td>\n",
       "      <td>0.000000</td>\n",
       "      <td>0.000000</td>\n",
       "      <td>0.000000</td>\n",
       "      <td>0.000000</td>\n",
       "      <td>0.000000</td>\n",
       "      <td>0.000000</td>\n",
       "      <td>0.0</td>\n",
       "      <td>0.0</td>\n",
       "      <td>0.0</td>\n",
       "      <td>0.000000</td>\n",
       "    </tr>\n",
       "    <tr>\n",
       "      <th>75%</th>\n",
       "      <td>5.000000</td>\n",
       "      <td>151.000000</td>\n",
       "      <td>28.000000</td>\n",
       "      <td>3.000000</td>\n",
       "      <td>3.000000</td>\n",
       "      <td>1.000000</td>\n",
       "      <td>0.000000</td>\n",
       "      <td>13.000000</td>\n",
       "      <td>26.000000</td>\n",
       "      <td>0.000000</td>\n",
       "      <td>...</td>\n",
       "      <td>0.000000</td>\n",
       "      <td>0.000000</td>\n",
       "      <td>0.000000</td>\n",
       "      <td>0.000000</td>\n",
       "      <td>0.000000</td>\n",
       "      <td>0.000000</td>\n",
       "      <td>0.0</td>\n",
       "      <td>0.0</td>\n",
       "      <td>0.0</td>\n",
       "      <td>0.000000</td>\n",
       "    </tr>\n",
       "    <tr>\n",
       "      <th>max</th>\n",
       "      <td>5.000000</td>\n",
       "      <td>4894.000000</td>\n",
       "      <td>871.000000</td>\n",
       "      <td>37.000000</td>\n",
       "      <td>166.000000</td>\n",
       "      <td>47.000000</td>\n",
       "      <td>1.000000</td>\n",
       "      <td>438.000000</td>\n",
       "      <td>448.000000</td>\n",
       "      <td>1.000000</td>\n",
       "      <td>...</td>\n",
       "      <td>2.000000</td>\n",
       "      <td>1.000000</td>\n",
       "      <td>2.000000</td>\n",
       "      <td>2.000000</td>\n",
       "      <td>2.000000</td>\n",
       "      <td>1.000000</td>\n",
       "      <td>0.0</td>\n",
       "      <td>0.0</td>\n",
       "      <td>0.0</td>\n",
       "      <td>2.000000</td>\n",
       "    </tr>\n",
       "  </tbody>\n",
       "</table>\n",
       "<p>8 rows × 47 columns</p>\n",
       "</div>"
      ],
      "text/plain": [
       "             rating    char_count    word_count    sent_count  \\\n",
       "count  22968.000000  22968.000000  22968.000000  22968.000000   \n",
       "mean       4.433473    121.877699     22.753701      2.080329   \n",
       "std        1.226021    157.477405     29.794663      1.711031   \n",
       "min        1.000000      1.000000      1.000000      1.000000   \n",
       "25%        5.000000     31.000000      6.000000      1.000000   \n",
       "50%        5.000000     69.000000     13.000000      1.000000   \n",
       "75%        5.000000    151.000000     28.000000      3.000000   \n",
       "max        5.000000   4894.000000    871.000000     37.000000   \n",
       "\n",
       "       capital_char_count  capital_word_count  quoted_word_count  \\\n",
       "count        22968.000000        22968.000000       22968.000000   \n",
       "mean             2.943530            0.565482           0.000087   \n",
       "std              4.837543            1.488223           0.009331   \n",
       "min              0.000000            0.000000           0.000000   \n",
       "25%              1.000000            0.000000           0.000000   \n",
       "50%              2.000000            0.000000           0.000000   \n",
       "75%              3.000000            1.000000           0.000000   \n",
       "max            166.000000           47.000000           1.000000   \n",
       "\n",
       "       stopword_count  unique_word_count    htag_count  ...        [count  \\\n",
       "count    22968.000000       22968.000000  22968.000000  ...  22968.000000   \n",
       "mean        10.032132          19.483063      0.000044  ...      0.000218   \n",
       "std         15.248243          21.407197      0.006598  ...      0.017457   \n",
       "min          0.000000           1.000000      0.000000  ...      0.000000   \n",
       "25%          1.000000           6.000000      0.000000  ...      0.000000   \n",
       "50%          5.000000          12.000000      0.000000  ...      0.000000   \n",
       "75%         13.000000          26.000000      0.000000  ...      0.000000   \n",
       "max        438.000000         448.000000      1.000000  ...      2.000000   \n",
       "\n",
       "             \\count        ]count        ^count        _count        `count  \\\n",
       "count  22968.000000  22968.000000  22968.000000  22968.000000  22968.000000   \n",
       "mean       0.000044      0.000218      0.000610      0.000305      0.000087   \n",
       "std        0.006598      0.017457      0.034911      0.021883      0.009331   \n",
       "min        0.000000      0.000000      0.000000      0.000000      0.000000   \n",
       "25%        0.000000      0.000000      0.000000      0.000000      0.000000   \n",
       "50%        0.000000      0.000000      0.000000      0.000000      0.000000   \n",
       "75%        0.000000      0.000000      0.000000      0.000000      0.000000   \n",
       "max        1.000000      2.000000      2.000000      2.000000      1.000000   \n",
       "\n",
       "        {count   |count   }count        ~count  \n",
       "count  22968.0  22968.0  22968.0  22968.000000  \n",
       "mean       0.0      0.0      0.0      0.000610  \n",
       "std        0.0      0.0      0.0      0.026387  \n",
       "min        0.0      0.0      0.0      0.000000  \n",
       "25%        0.0      0.0      0.0      0.000000  \n",
       "50%        0.0      0.0      0.0      0.000000  \n",
       "75%        0.0      0.0      0.0      0.000000  \n",
       "max        0.0      0.0      0.0      2.000000  \n",
       "\n",
       "[8 rows x 47 columns]"
      ]
     },
     "execution_count": 39,
     "metadata": {},
     "output_type": "execute_result"
    }
   ],
   "source": [
    "df_test1.describe()"
   ]
  },
  {
   "cell_type": "code",
   "execution_count": 40,
   "id": "ad8c74b3",
   "metadata": {},
   "outputs": [
    {
     "data": {
      "text/html": [
       "<div>\n",
       "<style scoped>\n",
       "    .dataframe tbody tr th:only-of-type {\n",
       "        vertical-align: middle;\n",
       "    }\n",
       "\n",
       "    .dataframe tbody tr th {\n",
       "        vertical-align: top;\n",
       "    }\n",
       "\n",
       "    .dataframe thead th {\n",
       "        text-align: right;\n",
       "    }\n",
       "</style>\n",
       "<table border=\"1\" class=\"dataframe\">\n",
       "  <thead>\n",
       "    <tr style=\"text-align: right;\">\n",
       "      <th></th>\n",
       "      <th>review_content</th>\n",
       "      <th>rating</th>\n",
       "      <th>rating_label</th>\n",
       "      <th>char_count</th>\n",
       "      <th>word_count</th>\n",
       "      <th>sent_count</th>\n",
       "      <th>capital_char_count</th>\n",
       "      <th>capital_word_count</th>\n",
       "      <th>quoted_word_count</th>\n",
       "      <th>stopword_count</th>\n",
       "      <th>...</th>\n",
       "      <th>[count</th>\n",
       "      <th>\\count</th>\n",
       "      <th>]count</th>\n",
       "      <th>^count</th>\n",
       "      <th>_count</th>\n",
       "      <th>`count</th>\n",
       "      <th>{count</th>\n",
       "      <th>|count</th>\n",
       "      <th>}count</th>\n",
       "      <th>~count</th>\n",
       "    </tr>\n",
       "  </thead>\n",
       "  <tbody>\n",
       "    <tr>\n",
       "      <th>0</th>\n",
       "      <td>It does exactly what it says it does efficient...</td>\n",
       "      <td>5</td>\n",
       "      <td>5 - awesome</td>\n",
       "      <td>97</td>\n",
       "      <td>17</td>\n",
       "      <td>2</td>\n",
       "      <td>2</td>\n",
       "      <td>0</td>\n",
       "      <td>0</td>\n",
       "      <td>8</td>\n",
       "      <td>...</td>\n",
       "      <td>0</td>\n",
       "      <td>0</td>\n",
       "      <td>0</td>\n",
       "      <td>0</td>\n",
       "      <td>0</td>\n",
       "      <td>0</td>\n",
       "      <td>0</td>\n",
       "      <td>0</td>\n",
       "      <td>0</td>\n",
       "      <td>0</td>\n",
       "    </tr>\n",
       "    <tr>\n",
       "      <th>0</th>\n",
       "      <td>Not that great to go more like I have had this...</td>\n",
       "      <td>5</td>\n",
       "      <td>5 - awesome</td>\n",
       "      <td>1267</td>\n",
       "      <td>271</td>\n",
       "      <td>2</td>\n",
       "      <td>14</td>\n",
       "      <td>9</td>\n",
       "      <td>0</td>\n",
       "      <td>133</td>\n",
       "      <td>...</td>\n",
       "      <td>0</td>\n",
       "      <td>0</td>\n",
       "      <td>0</td>\n",
       "      <td>0</td>\n",
       "      <td>0</td>\n",
       "      <td>0</td>\n",
       "      <td>0</td>\n",
       "      <td>0</td>\n",
       "      <td>0</td>\n",
       "      <td>0</td>\n",
       "    </tr>\n",
       "    <tr>\n",
       "      <th>0</th>\n",
       "      <td>TOBY CARVERY LATE CANCELLATION 30 minutes befo...</td>\n",
       "      <td>1</td>\n",
       "      <td>1 - awful</td>\n",
       "      <td>299</td>\n",
       "      <td>51</td>\n",
       "      <td>3</td>\n",
       "      <td>34</td>\n",
       "      <td>4</td>\n",
       "      <td>0</td>\n",
       "      <td>18</td>\n",
       "      <td>...</td>\n",
       "      <td>0</td>\n",
       "      <td>0</td>\n",
       "      <td>0</td>\n",
       "      <td>0</td>\n",
       "      <td>0</td>\n",
       "      <td>0</td>\n",
       "      <td>0</td>\n",
       "      <td>0</td>\n",
       "      <td>0</td>\n",
       "      <td>0</td>\n",
       "    </tr>\n",
       "    <tr>\n",
       "      <th>1</th>\n",
       "      <td>Well, I've only done 2 different vendors. The ...</td>\n",
       "      <td>4</td>\n",
       "      <td>4 - good</td>\n",
       "      <td>267</td>\n",
       "      <td>50</td>\n",
       "      <td>6</td>\n",
       "      <td>9</td>\n",
       "      <td>2</td>\n",
       "      <td>0</td>\n",
       "      <td>18</td>\n",
       "      <td>...</td>\n",
       "      <td>0</td>\n",
       "      <td>0</td>\n",
       "      <td>0</td>\n",
       "      <td>0</td>\n",
       "      <td>0</td>\n",
       "      <td>0</td>\n",
       "      <td>0</td>\n",
       "      <td>0</td>\n",
       "      <td>0</td>\n",
       "      <td>0</td>\n",
       "    </tr>\n",
       "    <tr>\n",
       "      <th>1</th>\n",
       "      <td>Barley Farm - Eccles This was the first time u...</td>\n",
       "      <td>5</td>\n",
       "      <td>5 - awesome</td>\n",
       "      <td>1021</td>\n",
       "      <td>206</td>\n",
       "      <td>15</td>\n",
       "      <td>33</td>\n",
       "      <td>14</td>\n",
       "      <td>0</td>\n",
       "      <td>98</td>\n",
       "      <td>...</td>\n",
       "      <td>0</td>\n",
       "      <td>0</td>\n",
       "      <td>0</td>\n",
       "      <td>0</td>\n",
       "      <td>0</td>\n",
       "      <td>0</td>\n",
       "      <td>0</td>\n",
       "      <td>0</td>\n",
       "      <td>0</td>\n",
       "      <td>0</td>\n",
       "    </tr>\n",
       "  </tbody>\n",
       "</table>\n",
       "<p>5 rows × 49 columns</p>\n",
       "</div>"
      ],
      "text/plain": [
       "                                      review_content  rating rating_label  \\\n",
       "0  It does exactly what it says it does efficient...       5  5 - awesome   \n",
       "0  Not that great to go more like I have had this...       5  5 - awesome   \n",
       "0  TOBY CARVERY LATE CANCELLATION 30 minutes befo...       1    1 - awful   \n",
       "1  Well, I've only done 2 different vendors. The ...       4     4 - good   \n",
       "1  Barley Farm - Eccles This was the first time u...       5  5 - awesome   \n",
       "\n",
       "   char_count  word_count  sent_count  capital_char_count  capital_word_count  \\\n",
       "0          97          17           2                   2                   0   \n",
       "0        1267         271           2                  14                   9   \n",
       "0         299          51           3                  34                   4   \n",
       "1         267          50           6                   9                   2   \n",
       "1        1021         206          15                  33                  14   \n",
       "\n",
       "   quoted_word_count  stopword_count  ...  [count  \\count  ]count  ^count  \\\n",
       "0                  0               8  ...       0       0       0       0   \n",
       "0                  0             133  ...       0       0       0       0   \n",
       "0                  0              18  ...       0       0       0       0   \n",
       "1                  0              18  ...       0       0       0       0   \n",
       "1                  0              98  ...       0       0       0       0   \n",
       "\n",
       "   _count  `count  {count  |count  }count  ~count  \n",
       "0       0       0       0       0       0       0  \n",
       "0       0       0       0       0       0       0  \n",
       "0       0       0       0       0       0       0  \n",
       "1       0       0       0       0       0       0  \n",
       "1       0       0       0       0       0       0  \n",
       "\n",
       "[5 rows x 49 columns]"
      ]
     },
     "execution_count": 40,
     "metadata": {},
     "output_type": "execute_result"
    }
   ],
   "source": [
    "df_test1.head()"
   ]
  },
  {
   "cell_type": "markdown",
   "id": "52febf20",
   "metadata": {},
   "source": [
    "### B) Preprocessing methodology"
   ]
  },
  {
   "cell_type": "code",
   "execution_count": 41,
   "id": "3fb139ea",
   "metadata": {},
   "outputs": [],
   "source": [
    "# transform emojis into words\n",
    "def emo_trans(text):\n",
    "    text=emoji.demojize(text)\n",
    "    text=text.replace(\":\",\" \")\n",
    "    text=' '.join(text.split())\n",
    "    return text"
   ]
  },
  {
   "cell_type": "code",
   "execution_count": 42,
   "id": "50b234d6",
   "metadata": {},
   "outputs": [],
   "source": [
    "# remove repeated characters\n",
    "class Solution:\n",
    "    def solve(self, s):\n",
    "        seen = s[0]\n",
    "        ans = s[0]\n",
    "        for i in s[1:]:\n",
    "            if i != seen:\n",
    "                ans += i\n",
    "                seen = i\n",
    "        return ans"
   ]
  },
  {
   "cell_type": "code",
   "execution_count": 43,
   "id": "7a48fe00",
   "metadata": {},
   "outputs": [],
   "source": [
    "ob = Solution()"
   ]
  },
  {
   "cell_type": "code",
   "execution_count": 44,
   "id": "2623b1a3",
   "metadata": {},
   "outputs": [],
   "source": [
    "# to correct mispelling\n",
    "def correcter_words(text):\n",
    "    text=text\n",
    "    chkr = SpellChecker(\"en_US\",text)\n",
    "    for err in chkr:\n",
    "        err.suggest()\n",
    "        sug = err.suggest()[0]\n",
    "        err.replace(sug)\n",
    "    text = chkr.get_text()\n",
    "    return text"
   ]
  },
  {
   "cell_type": "code",
   "execution_count": 50,
   "id": "e2c6b1f7",
   "metadata": {},
   "outputs": [],
   "source": [
    "# function to run preprocessing\n",
    "def preprocessing(text):\n",
    "    text=text.lower() # to put in lower case\n",
    "    text=' '.join(text.split()) # to remove extra white spaces (whichever how many)\n",
    "    text=re.sub(\"'\", \"\", text) # to avoid removing contractions in english\n",
    "    text=emo_trans(text) # to transform emojis into words\n",
    "    text=re.sub(\"@[A-Za-z0-9_]+\",\"\", text) # to remove mentions\n",
    "    text=re.sub(\"#[A-Za-z0-9_]+\",\"\", text) # to remove hashtags\n",
    "    text=re.sub(r\"http\\S+\", \"\", text) # to remove urls\n",
    "    text=re.sub(r\"www.\\S+\", \"\", text) # to remove urls\n",
    "    text=re.sub('((www.[^s]+)|(https?://[^s]+))',' ',text) # to remove urls - 3rd version\n",
    "    text=re.sub(\"[^a-z0-9]\",\" \", text) # to remove non-alphanumerical characters\n",
    "    #text = ob.solve(text)\n",
    "    #text = correcter_words(text)\n",
    "    tokens = word_tokenize(text) # to tokenize\n",
    "    tokens_no_punctuation = [t for t in tokens if t.isalpha()]\n",
    "    tokens_no_stop = [t for t in tokens_no_punctuation if t not in stopwords]\n",
    "    lemmatizer = WordNetLemmatizer()\n",
    "    token_lem = [lemmatizer.lemmatize(t) for t in tokens_no_stop]\n",
    "    return token_lem"
   ]
  },
  {
   "cell_type": "code",
   "execution_count": 51,
   "id": "d23a7af1",
   "metadata": {},
   "outputs": [],
   "source": [
    "df_test1['preprocessed_content'] = df_test1['review_content'].apply(lambda x:preprocessing(x))"
   ]
  },
  {
   "cell_type": "code",
   "execution_count": 248,
   "id": "80d8d648",
   "metadata": {},
   "outputs": [
    {
     "data": {
      "text/plain": [
       "0    [exactly, say, efficiently, saving, food, fill...\n",
       "0    [not, great, like, app, but, s, took, month, a...\n",
       "0    [toby, carvery, late, cancellation, minute, or...\n",
       "Name: preprocessed_content, dtype: object"
      ]
     },
     "execution_count": 248,
     "metadata": {},
     "output_type": "execute_result"
    }
   ],
   "source": [
    "df_test1['preprocessed_content'] = [','.join(map(str, l)) for l in df_test1t1['preprocessed_content']]"
   ]
  },
  {
   "cell_type": "markdown",
   "id": "e73e4376",
   "metadata": {},
   "source": [
    "### D) Splitting data (df_train & df_test) & Definition of corresponding Ys"
   ]
  },
  {
   "cell_type": "code",
   "execution_count": 133,
   "id": "c8268bea",
   "metadata": {},
   "outputs": [],
   "source": [
    "df_test1 = df_test1.sample(len(df_test1))\n",
    "\n",
    "df_train = df_test1[:int(0.8*len(df_test1))]\n",
    "df_test = df_test1[int(0.8*len(df_test1)):]"
   ]
  },
  {
   "cell_type": "code",
   "execution_count": 134,
   "id": "25ddcd4d",
   "metadata": {},
   "outputs": [],
   "source": [
    "y_train = df_train['rating']"
   ]
  },
  {
   "cell_type": "code",
   "execution_count": 135,
   "id": "d4cd6ecd",
   "metadata": {},
   "outputs": [],
   "source": [
    "df_train = df_train.drop(columns=['rating_label','rating'])"
   ]
  },
  {
   "cell_type": "code",
   "execution_count": 136,
   "id": "30c4df30",
   "metadata": {},
   "outputs": [],
   "source": [
    "y_test = df_test['rating']"
   ]
  },
  {
   "cell_type": "code",
   "execution_count": 137,
   "id": "6d6310e3",
   "metadata": {},
   "outputs": [],
   "source": [
    "df_test = df_test.drop(columns=['rating_label','rating'])"
   ]
  },
  {
   "cell_type": "code",
   "execution_count": 138,
   "id": "2b641159",
   "metadata": {},
   "outputs": [
    {
     "name": "stdout",
     "output_type": "stream",
     "text": [
      "df_train shape: (18374, 48)\n",
      "df_test shape: (4594, 48)\n",
      "y_train shape: (18374,)\n",
      "y_test shape: (4594,)\n"
     ]
    }
   ],
   "source": [
    "print(\"df_train shape: {}\".format(df_train.shape))\n",
    "print(\"df_test shape: {}\".format(df_test.shape))\n",
    "print(\"y_train shape: {}\".format(y_train.shape))\n",
    "print(\"y_test shape: {}\".format(y_test.shape))"
   ]
  },
  {
   "cell_type": "markdown",
   "id": "6c37a3c1",
   "metadata": {},
   "source": [
    "### E) TF-IDF"
   ]
  },
  {
   "cell_type": "markdown",
   "id": "1e192499",
   "metadata": {},
   "source": [
    "So that the ML model won't be skewed with test data taken into account in its designing, TF-IDF will be done on df_train only.\n",
    "\n",
    "In few words, reminder of what TF_IDF is:\n",
    "Extracting features from text is to use the bag of words model: a model where for each document, a complaint narrative in our case, the presence (and often the frequency) of words is taken into consideration, but the order in which they occur is ignored.\n",
    "Specifically, for each term in our dataset, we will calculate a measure called Term Frequency, Inverse Document Frequency, abbreviated to tf-idf. We will use sklearn.feature_extraction.text.TfidfVectorizer to calculate a tf-idf vector for each of consumer complaint narratives.\n",
    "\n",
    "Due to dataset size, the number of words will be set up with 3000 maximum in the 'max_features' hyperparameter."
   ]
  },
  {
   "cell_type": "code",
   "execution_count": 140,
   "id": "01d5c445",
   "metadata": {},
   "outputs": [],
   "source": [
    "tfidf = TfidfVectorizer(sublinear_tf=True, min_df=5, norm='l2', max_features=3000, encoding='latin-1', ngram_range=(1, 3), stop_words='english')\n",
    "\n",
    "features_train = tfidf.fit_transform(df_train['preprocessed_content']).toarray()"
   ]
  },
  {
   "cell_type": "code",
   "execution_count": 141,
   "id": "1525592a",
   "metadata": {},
   "outputs": [
    {
     "data": {
      "text/plain": [
       "(18374, 3000)"
      ]
     },
     "execution_count": 141,
     "metadata": {},
     "output_type": "execute_result"
    }
   ],
   "source": [
    "features_train.shape"
   ]
  },
  {
   "cell_type": "markdown",
   "id": "2618dc65",
   "metadata": {},
   "source": [
    "On df_test, TF_IDF is created with .transform only."
   ]
  },
  {
   "cell_type": "code",
   "execution_count": 142,
   "id": "74efc332",
   "metadata": {},
   "outputs": [],
   "source": [
    "features_test = tfidf.transform(df_test['preprocessed_content']).toarray()"
   ]
  },
  {
   "cell_type": "code",
   "execution_count": 143,
   "id": "aeff26f9",
   "metadata": {},
   "outputs": [
    {
     "data": {
      "text/plain": [
       "(4594, 3000)"
      ]
     },
     "execution_count": 143,
     "metadata": {},
     "output_type": "execute_result"
    }
   ],
   "source": [
    "features_test.shape"
   ]
  },
  {
   "cell_type": "markdown",
   "id": "82289bb6",
   "metadata": {},
   "source": [
    "### F) Concatenation for ML => train dataset & test dataset"
   ]
  },
  {
   "cell_type": "markdown",
   "id": "14b8737f",
   "metadata": {},
   "source": [
    "#### Train dataset => train_df2"
   ]
  },
  {
   "cell_type": "code",
   "execution_count": 144,
   "id": "a83b30af",
   "metadata": {},
   "outputs": [],
   "source": [
    "sub_df_train = df_train[['char_count', 'word_count',\n",
    "       'sent_count', 'capital_char_count', 'capital_word_count',\n",
    "       'quoted_word_count', 'stopword_count', 'unique_word_count',\n",
    "       'htag_count', 'mention_count', 'emoji_count', 'avg_wordlength',\n",
    "       'avg_sentlength', 'unique_vs_words', 'stopwords_vs_words', '!count',\n",
    "       '#count', '$count', '%count', '&count', \"'count\", '(count', ')count',\n",
    "       '*count', '+count', ',count', '-count', '.count', '/count', ':count',\n",
    "       ';count', '<count', '=count', '>count', '?count', '@count', '[count',\n",
    "       '\\count', ']count', '^count', '_count', '`count', '{count', '|count',\n",
    "       '}count', '~count']]"
   ]
  },
  {
   "cell_type": "code",
   "execution_count": 145,
   "id": "fd24a20a",
   "metadata": {},
   "outputs": [
    {
     "data": {
      "text/plain": [
       "array([[192.,  41.,   2., ...,   0.,   0.,   0.],\n",
       "       [ 51.,  10.,   2., ...,   0.,   0.,   0.],\n",
       "       [ 88.,  11.,   1., ...,   0.,   0.,   0.],\n",
       "       ...,\n",
       "       [ 33.,   6.,   1., ...,   0.,   0.,   0.],\n",
       "       [  9.,   2.,   1., ...,   0.,   0.,   0.],\n",
       "       [146.,  29.,   3., ...,   0.,   0.,   0.]])"
      ]
     },
     "execution_count": 145,
     "metadata": {},
     "output_type": "execute_result"
    }
   ],
   "source": [
    "sub_df_train.to_numpy()"
   ]
  },
  {
   "cell_type": "code",
   "execution_count": 146,
   "id": "a33c75cf",
   "metadata": {},
   "outputs": [],
   "source": [
    "train_df2 = pd.concat([sub_df_train.reset_index(drop=True),pd.DataFrame(features_train).reset_index(drop=True)], axis=1)"
   ]
  },
  {
   "cell_type": "markdown",
   "id": "9a0f2ecd",
   "metadata": {},
   "source": [
    "#### Test dataset => test_df2"
   ]
  },
  {
   "cell_type": "code",
   "execution_count": 147,
   "id": "6ec4f912",
   "metadata": {},
   "outputs": [],
   "source": [
    "sub_df_test = df_test[['char_count', 'word_count',\n",
    "       'sent_count', 'capital_char_count', 'capital_word_count',\n",
    "       'quoted_word_count', 'stopword_count', 'unique_word_count',\n",
    "       'htag_count', 'mention_count', 'emoji_count', 'avg_wordlength',\n",
    "       'avg_sentlength', 'unique_vs_words', 'stopwords_vs_words', '!count',\n",
    "       '#count', '$count', '%count', '&count', \"'count\", '(count', ')count',\n",
    "       '*count', '+count', ',count', '-count', '.count', '/count', ':count',\n",
    "       ';count', '<count', '=count', '>count', '?count', '@count', '[count',\n",
    "       '\\count', ']count', '^count', '_count', '`count', '{count', '|count',\n",
    "       '}count', '~count']]"
   ]
  },
  {
   "cell_type": "code",
   "execution_count": 148,
   "id": "401a1f53",
   "metadata": {},
   "outputs": [
    {
     "data": {
      "text/plain": [
       "array([[ 88.,  16.,   1., ...,   0.,   0.,   0.],\n",
       "       [ 32.,   7.,   1., ...,   0.,   0.,   0.],\n",
       "       [ 72.,  14.,   2., ...,   0.,   0.,   0.],\n",
       "       ...,\n",
       "       [450.,  85.,   6., ...,   0.,   0.,   0.],\n",
       "       [ 83.,  19.,   1., ...,   0.,   0.,   2.],\n",
       "       [ 11.,   3.,   1., ...,   0.,   0.,   0.]])"
      ]
     },
     "execution_count": 148,
     "metadata": {},
     "output_type": "execute_result"
    }
   ],
   "source": [
    "#sub_df_test.to_numpy()"
   ]
  },
  {
   "cell_type": "code",
   "execution_count": 149,
   "id": "8d60db4f",
   "metadata": {},
   "outputs": [],
   "source": [
    "test_df2 = pd.concat([sub_df_test.reset_index(drop=True),pd.DataFrame(features_test).reset_index(drop=True)], axis=1)"
   ]
  },
  {
   "cell_type": "markdown",
   "id": "f3436527",
   "metadata": {},
   "source": [
    "### G)  Definition of X"
   ]
  },
  {
   "cell_type": "markdown",
   "id": "5658cdef",
   "metadata": {},
   "source": [
    "#### df_train2"
   ]
  },
  {
   "cell_type": "code",
   "execution_count": 150,
   "id": "6b6228ab",
   "metadata": {},
   "outputs": [
    {
     "data": {
      "text/plain": [
       "(18374, 3046)"
      ]
     },
     "execution_count": 150,
     "metadata": {},
     "output_type": "execute_result"
    }
   ],
   "source": [
    "X_train = train_df2 #features_train\n",
    "X_train.shape"
   ]
  },
  {
   "cell_type": "markdown",
   "id": "6577395a",
   "metadata": {},
   "source": [
    "#### df_test2"
   ]
  },
  {
   "cell_type": "code",
   "execution_count": 151,
   "id": "1762263a",
   "metadata": {},
   "outputs": [
    {
     "data": {
      "text/plain": [
       "(4594, 3046)"
      ]
     },
     "execution_count": 151,
     "metadata": {},
     "output_type": "execute_result"
    }
   ],
   "source": [
    "X_test = test_df2 #features_test\n",
    "X_test.shape"
   ]
  },
  {
   "cell_type": "markdown",
   "id": "3ce02ac7",
   "metadata": {},
   "source": [
    "### H) Reshaping Train dataset"
   ]
  },
  {
   "cell_type": "markdown",
   "id": "41683bd1",
   "metadata": {},
   "source": [
    "Since dataset is imbalanced with an over-representation of 5* reviews, has been decided to reduce the share of these reviews."
   ]
  },
  {
   "cell_type": "code",
   "execution_count": 152,
   "id": "a416be28",
   "metadata": {},
   "outputs": [
    {
     "data": {
      "text/plain": [
       "14267"
      ]
     },
     "execution_count": 152,
     "metadata": {},
     "output_type": "execute_result"
    }
   ],
   "source": [
    "# checking of nb of 5* reviews\n",
    "len(np.where(y_train==5)[0])"
   ]
  },
  {
   "cell_type": "code",
   "execution_count": 153,
   "id": "f3136faf",
   "metadata": {},
   "outputs": [],
   "source": [
    "# creation of a 'to_delete' variable storing the 10000 samples of 5* reviews\n",
    "to_delete = np.random.choice(np.where(y_train==5)[0],10000)"
   ]
  },
  {
   "cell_type": "code",
   "execution_count": 165,
   "id": "d65782f9",
   "metadata": {},
   "outputs": [
    {
     "data": {
      "text/plain": [
       "array([ 9823, 15613,   129, ...,  8450, 13269,   805])"
      ]
     },
     "execution_count": 165,
     "metadata": {},
     "output_type": "execute_result"
    }
   ],
   "source": [
    "to_delete"
   ]
  },
  {
   "cell_type": "code",
   "execution_count": 154,
   "id": "d00e7f91",
   "metadata": {},
   "outputs": [],
   "source": [
    "# creation of a 'to_keep' variable storing the reviews to be kept\n",
    "to_keep = set(range(len(X_train))) - set(to_delete)"
   ]
  },
  {
   "cell_type": "code",
   "execution_count": 167,
   "id": "734bab09",
   "metadata": {},
   "outputs": [
    {
     "name": "stderr",
     "output_type": "stream",
     "text": [
      "/home/vb/.pyenv/versions/3.9.7/envs/artefact/lib/python3.9/site-packages/pandas/core/indexes/base.py:4616: FutureWarning: Using a non-tuple sequence for multidimensional indexing is deprecated; use `arr[tuple(seq)]` instead of `arr[seq]`. In the future this will be interpreted as an array index, `arr[np.array(seq)]`, which will result either in an error or a different result.\n",
      "  result = getitem(key)\n"
     ]
    }
   ],
   "source": [
    "# storing the reshaped data in X_train_bis based on the 'to_keep' variable containing the sample to be kept\n",
    "X_train_bis =X_train.drop(X_train.index[[list(to_delete)]])"
   ]
  },
  {
   "cell_type": "code",
   "execution_count": 156,
   "id": "278557b5",
   "metadata": {},
   "outputs": [
    {
     "ename": "TypeError",
     "evalue": "'({0, 1, 3, 4, 5, 7, 8, 10, 11, 13, 14, 16, 17, 19, 22, 24, 26, 31, 32, 33, 34, 36, 37, 38, 40, 42, 50, 51, 52, 53, 54, 56, 58, 59, 60, 62, 63, 65, 66, 69, 70, 72, 74, 75, 77, 81, 82, 86, 88, 89, 90, 91, 92, 94, 99, 101, 102, 103, 105, 106, 110, 111, 112, 113, 114, 116, 117, 118, 119, 120, 122, 125, 127, 128, 131, 132, 134, 135, 137, 139, 140, 141, 142, 144, 145, 146, 147, 148, 150, 151, 152, 153, 157, 158, 159, 160, 162, 164, 167, 168, 169, 171, 173, 175, 177, 178, 179, 183, 184, 186, 188, 189, 190, 191, 192, 197, 202, 204, 205, 206, 207, 209, 210, 211, 212, 214, 216, 217, 222, 223, 224, 225, 227, 228, 229, 230, 231, 232, 233, 234, 236, 237, 238, 239, 240, 243, 244, 246, 248, 249, 251, 253, 254, 256, 257, 258, 262, 263, 266, 267, 269, 270, 271, 272, 274, 279, 284, 285, 286, 288, 289, 290, 292, 294, 295, 296, 297, 298, 299, 300, 304, 305, 307, 311, 312, 315, 316, 317, 318, 319, 321, 325, 326, 327, 328, 329, 330, 331, 332, 333, 336, 337, 339, 340, 344, 345, 347, 348, 349, 350, 352, 353, 354, 356, 357, 358, 359, 360, 361, 362, 363, 365, 366, 367, 369, 370, 374, 375, 376, 377, 380, 381, 382, 383, 385, 386, 389, 390, 391, 392, 393, 395, 396, 397, 398, 399, 400, 401, 404, 405, 406, 407, 408, 409, 411, 412, 413, 415, 416, 417, 419, 420, 422, 424, 425, 428, 436, 438, 439, 440, 441, 442, 443, 445, 448, 449, 450, 452, 455, 458, 459, 460, 462, 463, 464, 466, 468, 469, 471, 472, 479, 480, 482, 484, 486, 487, 488, 489, 490, 491, 492, 493, 495, 496, 497, 499, 504, 505, 506, 511, 518, 519, 520, 521, 522, 523, 526, 527, 529, 531, 532, 533, 535, 536, 537, 538, 539, 540, 543, 544, 545, 546, 547, 548, 550, 551, 552, 553, 554, 556, 558, 559, 561, 562, 564, 566, 567, 571, 578, 579, 581, 582, 583, 584, 588, 589, 590, 591, 592, 593, 596, 598, 602, 603, 604, 605, 606, 607, 608, 609, 610, 611, 614, 616, 618, 619, 620, 624, 626, 628, 629, 630, 634, 637, 638, 640, 642, 646, 648, 649, 650, 651, 654, 655, 656, 657, 658, 661, 663, 664, 665, 667, 668, 669, 670, 671, 674, 675, 676, 677, 678, 681, 683, 684, 686, 688, 689, 690, 692, 693, 694, 700, 704, 706, 707, 708, 709, 710, 712, 713, 714, 715, 716, 718, 719, 720, 722, 724, 725, 726, 729, 730, 732, 733, 736, 737, 741, 742, 745, 747, 748, 751, 752, 756, 757, 758, 759, 760, 761, 762, 763, 765, 766, 769, 771, 774, 776, 777, 778, 780, 782, 786, 787, 788, 789, 790, 791, 792, 793, 794, 795, 796, 797, 800, 801, 802, 803, 807, 808, 809, 810, 811, 816, 821, 822, 823, 824, 825, 826, 827, 828, 830, 831, 832, 833, 835, 836, 837, 839, 840, 841, 842, 847, 849, 852, 853, 855, 856, 861, 864, 865, 866, 868, 869, 871, 874, 875, 877, 878, 879, 880, 881, 882, 883, 884, 885, 886, 887, 888, 889, 891, 898, 899, 900, 901, 902, 903, 904, 905, 907, 908, 909, 911, 912, 913, 914, 915, 916, 918, 919, 920, 921, 922, 924, 925, 926, 927, 928, 929, 931, 935, 936, 937, 940, 941, 942, 943, 944, 947, 951, 953, 955, 956, 960, 963, 965, 967, 968, 969, 970, 971, 973, 974, 975, 976, 978, 979, 980, 982, 984, 986, 989, 990, 991, 992, 994, 996, 997, 998, 1002, 1003, 1004, 1005, 1006, 1008, 1009, 1011, 1012, 1013, 1016, 1017, 1018, 1019, 1022, 1024, 1025, 1026, 1027, 1030, 1031, 1034, 1036, 1037, 1038, 1039, 1040, 1041, 1042, 1044, 1046, 1047, 1048, 1049, 1051, 1052, 1053, 1055, 1056, 1058, 1059, 1061, 1064, 1065, 1067, 1068, 1072, 1073, 1075, 1076, 1078, 1079, 1080, 1081, 1082, 1083, 1085, 1086, 1089, 1090, 1091, 1092, 1099, 1100, 1101, 1102, 1103, 1107, 1108, 1109, 1110, 1114, 1116, 1118, 1119, 1120, 1121, 1122, 1123, 1124, 1125, 1126, 1127, 1128, 1129, 1130, 1131, 1132, 1133, 1134, 1135, 1136, 1137, 1139, 1140, 1141, 1142, 1143, 1145, 1146, 1148, 1149, 1150, 1151, 1152, 1153, 1154, 1155, 1156, 1157, 1159, 1160, 1161, 1162, 1165, 1166, 1167, 1168, 1170, 1172, 1173, 1174, 1175, 1177, 1178, 1180, 1181, 1183, 1189, 1190, 1191, 1192, 1193, 1196, 1197, 1198, 1199, 1200, 1201, 1202, 1204, 1205, 1207, 1208, 1213, 1215, 1216, 1217, 1221, 1222, 1224, 1229, 1231, 1232, 1233, 1234, 1235, 1236, 1237, 1238, 1239, 1240, 1241, 1242, 1244, 1246, 1247, 1249, 1250, 1251, 1253, 1255, 1257, 1260, 1261, 1264, 1266, 1267, 1271, 1272, 1275, 1278, 1279, 1280, 1282, 1284, 1285, 1287, 1288, 1289, 1290, 1291, 1294, 1296, 1297, 1298, 1299, 1300, 1301, 1302, 1303, 1304, 1307, 1308, 1309, 1311, 1312, 1313, 1316, 1320, 1321, 1327, 1332, 1335, 1337, 1340, 1341, 1343, 1344, 1345, 1349, 1351, 1352, 1353, 1354, 1356, 1359, 1360, 1361, 1364, 1365, 1366, 1367, 1368, 1370, 1373, 1375, 1376, 1377, 1378, 1379, 1381, 1382, 1387, 1388, 1390, 1391, 1393, 1394, 1395, 1396, 1397, 1398, 1400, 1402, 1403, 1404, 1405, 1408, 1409, 1410, 1411, 1412, 1414, 1415, 1416, 1418, 1419, 1420, 1421, 1423, 1425, 1427, 1429, 1430, 1432, 1435, 1439, 1441, 1442, 1444, 1445, 1446, 1447, 1448, 1449, 1450, 1451, 1452, 1454, 1455, 1456, 1457, 1460, 1461, 1462, 1464, 1466, 1469, 1470, 1473, 1474, 1475, 1476, 1477, 1478, 1479, 1480, 1482, 1484, 1486, 1487, 1488, 1491, 1492, 1493, 1495, 1498, 1501, 1502, 1503, 1504, 1506, 1507, 1508, 1509, 1510, 1512, 1513, 1514, 1517, 1520, 1521, 1525, 1526, 1527, 1529, 1532, 1536, 1538, 1539, 1540, 1541, 1542, 1544, 1545, 1548, 1549, 1550, 1551, 1552, 1553, 1556, 1561, 1562, 1564, 1566, 1567, 1569, 1571, 1572, 1576, 1577, 1578, 1579, 1580, 1581, 1584, 1585, 1586, 1587, 1588, 1589, 1590, 1591, 1593, 1594, 1595, 1598, 1599, 1600, 1601, 1604, 1605, 1607, 1608, 1609, 1610, 1611, 1613, 1616, 1618, 1619, 1621, 1622, 1624, 1625, 1626, 1627, 1628, 1630, 1631, 1632, 1633, 1634, 1635, 1641, 1642, 1643, 1644, 1646, 1648, 1651, 1652, 1653, 1654, 1655, 1657, 1658, 1659, 1660, 1661, 1663, 1664, 1666, 1667, 1668, 1670, 1671, 1673, 1675, 1676, 1678, 1679, 1680, 1682, 1683, 1685, 1686, 1687, 1690, 1692, 1693, 1694, 1695, 1696, 1697, 1699, 1700, 1701, 1702, 1703, 1704, 1706, 1708, 1710, 1713, 1714, 1719, 1720, 1721, 1722, 1723, 1724, 1725, 1727, 1728, 1730, 1732, 1734, 1735, 1736, 1737, 1738, 1742, 1744, 1745, 1749, 1750, 1751, 1753, 1754, 1755, 1756, 1757, 1760, 1761, 1762, 1763, 1764, 1766, 1770, 1772, 1776, 1779, 1780, 1782, 1783, 1784, 1786, 1789, 1790, 1794, 1795, 1796, 1797, 1798, 1801, 1804, 1806, 1808, 1809, 1810, 1811, 1813, 1814, 1815, 1816, 1817, 1820, 1826, 1827, 1828, 1829, 1830, 1831, 1834, 1836, 1837, 1838, 1841, 1842, 1844, 1847, 1848, 1849, 1850, 1851, 1853, 1854, 1859, 1860, 1862, 1864, 1866, 1867, 1868, 1870, 1871, 1872, 1873, 1874, 1875, 1876, 1879, 1880, 1881, 1882, 1883, 1884, 1885, 1886, 1887, 1888, 1890, 1891, 1892, 1893, 1895, 1898, 1902, 1903, 1905, 1907, 1908, 1909, 1911, 1912, 1916, 1918, 1919, 1920, 1921, 1922, 1923, 1924, 1925, 1926, 1927, 1928, 1929, 1930, 1931, 1935, 1936, 1939, 1940, 1941, 1942, 1944, 1945, 1946, 1948, 1949, 1951, 1953, 1955, 1956, 1957, 1958, 1959, 1960, 1962, 1963, 1964, 1966, 1968, 1969, 1971, 1974, 1975, 1977, 1978, 1980, 1981, 1988, 1989, 1990, 1994, 1999, 2001, 2004, 2005, 2007, 2008, 2010, 2011, 2013, 2014, 2015, 2016, 2018, 2019, 2020, 2023, 2024, 2025, 2026, 2028, 2029, 2030, 2031, 2032, 2034, 2035, 2036, 2038, 2039, 2040, 2041, 2042, 2043, 2046, 2047, 2048, 2050, 2054, 2057, 2058, 2059, 2062, 2063, 2064, 2066, 2068, 2069, 2070, 2071, 2072, 2074, 2075, 2076, 2077, 2078, 2081, 2082, 2085, 2086, 2087, 2091, 2095, 2098, 2099, 2100, 2101, 2102, 2105, 2106, 2107, 2109, 2114, 2115, 2116, 2118, 2119, 2121, 2124, 2126, 2127, 2131, 2132, 2135, 2136, 2140, 2141, 2142, 2144, 2145, 2146, 2147, 2148, 2150, 2151, 2153, 2154, 2155, 2157, 2159, 2161, 2162, 2163, 2164, 2165, 2166, 2167, 2168, 2171, 2172, 2173, 2174, 2176, 2177, 2181, 2182, 2184, 2185, 2186, 2189, 2193, 2196, 2197, 2200, 2204, 2205, 2206, 2207, 2208, 2210, 2211, 2213, 2214, 2216, 2217, 2218, 2219, 2220, 2221, 2223, 2224, 2225, 2227, 2229, 2230, 2231, 2235, 2236, 2240, 2242, 2243, 2244, 2245, 2246, 2248, 2249, 2252, 2253, 2256, 2258, 2260, 2261, 2263, 2266, 2271, 2272, 2273, 2274, 2277, 2279, 2280, 2281, 2283, 2287, 2288, 2289, 2290, 2291, 2294, 2295, 2299, 2300, 2301, 2303, 2304, 2305, 2306, 2307, 2310, 2311, 2312, 2313, 2315, 2316, 2317, 2318, 2320, 2323, 2324, 2326, 2329, 2331, 2332, 2333, 2335, 2337, 2340, 2344, 2345, 2348, 2350, 2351, 2355, 2357, 2358, 2359, 2360, 2361, 2362, 2364, 2366, 2367, 2368, 2370, 2371, 2372, 2373, 2375, 2376, 2379, 2380, 2382, 2383, 2386, 2387, 2388, 2389, 2391, 2392, 2395, 2396, 2397, 2401, 2403, 2404, 2407, 2409, 2411, 2412, 2413, 2414, 2415, 2416, 2417, 2419, 2421, 2422, 2423, 2424, 2425, 2427, 2429, 2430, 2432, 2433, 2437, 2438, 2439, 2440, 2441, 2442, 2447, 2449, 2450, 2454, 2455, 2457, 2461, 2464, 2465, 2467, 2469, 2471, 2472, 2473, 2474, 2476, 2477, 2478, 2479, 2480, 2481, 2485, 2486, 2488, 2490, 2493, 2495, 2496, 2497, 2498, 2499, 2500, 2502, 2503, 2505, 2508, 2510, 2511, 2513, 2515, 2516, 2517, 2519, 2522, 2523, 2524, 2525, 2526, 2528, 2531, 2533, 2536, 2537, 2538, 2539, 2541, 2542, 2544, 2545, 2547, 2548, 2549, 2551, 2553, 2554, 2556, 2560, 2561, 2562, 2563, 2564, 2567, 2569, 2570, 2571, 2573, 2574, 2575, 2577, 2578, 2579, 2580, 2581, 2582, 2583, 2584, 2587, 2588, 2589, 2594, 2598, 2599, 2600, 2601, 2602, 2603, 2604, 2605, 2606, 2607, 2608, 2609, 2610, 2611, 2612, 2613, 2616, 2617, 2618, 2619, 2624, 2625, 2626, 2628, 2630, 2635, 2637, 2638, 2639, 2641, 2643, 2644, 2648, 2649, 2650, 2651, 2653, 2654, 2655, 2656, 2657, 2658, 2659, 2661, 2665, 2666, 2673, 2676, 2677, 2678, 2679, 2680, 2683, 2686, 2687, 2688, 2689, 2692, 2694, 2696, 2698, 2699, 2700, 2701, 2702, 2707, 2709, 2711, 2714, 2715, 2716, 2717, 2718, 2721, 2723, 2724, 2725, 2726, 2728, 2729, 2730, 2734, 2735, 2736, 2737, 2741, 2743, 2744, 2745, 2746, 2748, 2749, 2750, 2751, 2753, 2754, 2755, 2756, 2758, 2759, 2763, 2764, 2766, 2767, 2768, 2769, 2770, 2771, 2772, 2774, 2775, 2776, 2777, 2780, 2782, 2786, 2788, 2789, 2790, 2797, 2799, 2803, 2804, 2808, 2809, 2810, 2811, 2812, 2813, 2815, 2816, 2817, 2818, 2821, 2822, 2824, 2825, 2826, 2827, 2828, 2829, 2830, 2831, 2832, 2833, 2834, 2835, 2836, 2837, 2838, 2840, 2843, 2845, 2846, 2849, 2852, 2853, 2856, 2858, 2862, 2864, 2865, 2866, 2867, 2868, 2872, 2874, 2875, 2878, 2880, 2883, 2884, 2887, 2888, 2889, 2891, 2895, 2898, 2899, 2903, 2904, 2905, 2911, 2912, 2913, 2914, 2915, 2917, 2918, 2920, 2921, 2923, 2925, 2926, 2928, 2930, 2931, 2933, 2934, 2937, 2939, 2940, 2942, 2944, 2945, 2946, 2947, 2951, 2952, 2953, 2954, 2956, 2961, 2962, 2963, 2964, 2969, 2970, 2971, 2972, 2974, 2977, 2980, 2982, 2984, 2987, 2988, 2990, 2992, 2993, 2995, 2997, 2998, 2999, 3000, 3001, 3003, 3004, 3005, 3006, 3007, 3008, 3014, 3015, 3017, 3021, 3022, 3023, 3024, 3025, 3026, 3029, 3030, 3031, 3032, 3039, 3040, 3043, 3044, 3046, 3047, 3048, 3049, 3052, 3053, 3056, 3057, 3058, 3062, 3063, 3066, 3068, 3069, 3070, 3072, 3074, 3076, 3077, 3079, 3080, 3084, 3087, 3088, 3091, 3092, 3093, 3094, 3095, 3096, 3097, 3098, 3099, 3101, 3102, 3104, 3105, 3107, 3108, 3112, 3114, 3115, 3116, 3119, 3123, 3124, 3125, 3126, 3128, 3129, 3130, 3132, 3133, 3134, 3136, 3137, 3138, 3139, 3141, 3142, 3143, 3145, 3147, 3148, 3149, 3150, 3151, 3152, 3153, 3154, 3156, 3157, 3159, 3161, 3163, 3164, 3165, 3167, 3168, 3169, 3171, 3173, 3174, 3175, 3177, 3180, 3181, 3182, 3184, 3185, 3186, 3187, 3188, 3190, 3191, 3192, 3193, 3197, 3198, 3200, 3201, 3202, 3203, 3205, 3206, 3207, 3208, 3210, 3212, 3213, 3214, 3215, 3217, 3219, 3220, 3221, 3223, 3226, 3228, 3230, 3231, 3234, 3235, 3236, 3240, 3241, 3242, 3243, 3244, 3245, 3246, 3248, 3253, 3255, 3256, 3257, 3258, 3259, 3263, 3266, 3267, 3268, 3272, 3273, 3275, 3276, 3277, 3278, 3279, 3280, 3286, 3287, 3288, 3290, 3292, 3293, 3294, 3295, 3296, 3298, 3300, 3302, 3304, 3305, 3306, 3307, 3308, 3309, 3310, 3311, 3312, 3313, 3314, 3317, 3318, 3320, 3321, 3323, 3324, 3325, 3329, 3330, 3331, 3334, 3336, 3338, 3339, 3341, 3343, 3344, 3345, 3347, 3348, 3349, 3350, 3353, 3356, 3357, 3360, 3361, 3363, 3364, 3365, 3367, 3370, 3373, 3378, 3379, 3381, 3382, 3383, 3384, 3386, 3387, 3389, 3390, 3392, 3393, 3394, 3396, 3397, 3398, 3399, 3400, 3402, 3403, 3405, 3407, 3409, 3410, 3413, 3415, 3416, 3418, 3423, 3425, 3426, 3427, 3428, 3429, 3430, 3431, 3432, 3434, 3435, 3437, 3438, 3441, 3443, 3444, 3445, 3447, 3448, 3449, 3450, 3452, 3453, 3455, 3456, 3458, 3459, 3460, 3462, 3465, 3466, 3467, 3468, 3469, 3472, 3473, 3474, 3475, 3476, 3477, 3478, 3479, 3480, 3481, 3482, 3484, 3485, 3486, 3488, 3489, 3490, 3491, 3492, 3494, 3495, 3496, 3497, 3498, 3499, 3500, 3501, 3503, 3504, 3506, 3510, 3512, 3513, 3515, 3518, 3521, 3522, 3524, 3527, 3530, 3531, 3532, 3533, 3534, 3537, 3538, 3541, 3542, 3544, 3549, 3553, 3554, 3557, 3558, 3560, 3561, 3563, 3564, 3568, 3569, 3570, 3572, 3573, 3575, 3576, 3578, 3579, 3581, 3584, 3585, 3586, 3587, 3596, 3597, 3599, 3601, 3604, 3605, 3606, 3609, 3611, 3613, 3614, 3616, 3617, 3618, 3619, 3620, 3623, 3626, 3627, 3628, 3630, 3631, 3632, 3634, 3635, 3636, 3638, 3640, 3641, 3642, 3644, 3647, 3650, 3651, 3652, 3653, 3654, 3655, 3657, 3658, 3659, 3660, 3661, 3662, 3663, 3665, 3666, 3668, 3669, 3670, 3673, 3674, 3675, 3676, 3677, 3678, 3679, 3681, 3683, 3686, 3687, 3690, 3691, 3694, 3695, 3696, 3699, 3700, 3701, 3703, 3704, 3705, 3706, 3707, 3709, 3710, 3711, 3712, 3714, 3715, 3716, 3717, 3718, 3720, 3721, 3722, 3723, 3724, 3728, 3729, 3734, 3735, 3737, 3738, 3739, 3741, 3742, 3743, 3745, 3751, 3752, 3755, 3756, 3757, 3761, 3764, 3765, 3766, 3767, 3768, 3769, 3773, 3774, 3775, 3777, 3778, 3779, 3780, 3781, 3784, 3786, 3787, 3788, 3789, 3794, 3799, 3800, 3802, 3803, 3804, 3805, 3807, 3808, 3810, 3812, 3813, 3814, 3816, 3817, 3819, 3820, 3822, 3823, 3824, 3825, 3826, 3827, 3830, 3831, 3834, 3836, 3839, 3840, 3843, 3848, 3849, 3850, 3852, 3853, 3854, 3856, 3860, 3861, 3862, 3863, 3864, 3866, 3867, 3868, 3871, 3873, 3874, 3875, 3876, 3877, 3880, 3881, 3882, 3884, 3888, 3889, 3890, 3895, 3898, 3899, 3900, 3903, 3904, 3906, 3907, 3908, 3909, 3911, 3912, 3913, 3914, 3915, 3918, 3920, 3923, 3925, 3926, 3928, 3930, 3931, 3932, 3933, 3934, 3935, 3936, 3938, 3940, 3941, 3944, 3947, 3948, 3950, 3953, 3954, 3956, 3957, 3958, 3960, 3961, 3965, 3967, 3969, 3974, 3976, 3979, 3981, 3983, 3984, 3986, 3987, 3989, 3991, 3993, 3994, 3996, 3999, 4002, 4004, 4006, 4007, 4008, 4009, 4010, 4014, 4016, 4017, 4018, 4020, 4021, 4022, 4025, 4026, 4031, 4033, 4035, 4036, 4037, 4039, 4041, 4042, 4043, 4046, 4047, 4048, 4051, 4053, 4057, 4058, 4059, 4064, 4065, 4066, 4068, 4069, 4070, 4074, 4075, 4077, 4078, 4079, 4080, 4081, 4082, 4086, 4087, 4088, 4090, 4092, 4093, 4095, 4096, 4097, 4098, 4099, 4100, 4102, 4104, 4105, 4106, 4107, 4108, 4110, 4111, 4112, 4113, 4114, 4115, 4118, 4119, 4120, 4121, 4123, 4124, 4125, 4127, 4129, 4130, 4131, 4132, 4133, 4134, 4135, 4136, 4137, 4139, 4141, 4142, 4145, 4148, 4153, 4154, 4155, 4157, 4158, 4159, 4160, 4166, 4167, 4168, 4171, 4174, 4175, 4176, 4178, 4179, 4182, 4183, 4184, 4185, 4187, 4188, 4189, 4191, 4193, 4194, 4195, 4196, 4197, 4198, 4199, 4201, 4202, 4204, 4205, 4206, 4207, 4208, 4209, 4210, 4211, 4212, 4213, 4214, 4217, 4219, 4221, 4223, 4224, 4226, 4227, 4228, 4229, 4230, 4231, 4235, 4236, 4237, 4238, 4239, 4240, 4242, 4244, 4245, 4247, 4248, 4249, 4251, 4252, 4253, 4255, 4256, 4257, 4258, 4262, 4263, 4265, 4266, 4267, 4268, 4269, 4270, 4271, 4276, 4278, 4279, 4281, 4282, 4288, 4289, 4291, 4293, 4294, 4295, 4296, 4298, 4299, 4303, 4304, 4306, 4310, 4311, 4316, 4317, 4319, 4320, 4322, 4324, 4325, 4326, 4327, 4328, 4330, 4334, 4336, 4339, 4341, 4342, 4344, 4347, 4349, 4351, 4352, 4353, 4354, 4356, 4360, 4361, 4364, 4371, 4372, 4374, 4375, 4376, 4378, 4379, 4382, 4383, 4387, 4389, 4390, 4391, 4392, 4393, 4394, 4395, 4396, 4403, 4404, 4405, 4406, 4409, 4411, 4412, 4413, 4414, 4415, 4418, 4419, 4420, 4421, 4422, 4423, 4424, 4425, 4427, 4428, 4431, 4433, 4434, 4436, 4437, 4438, 4439, 4443, 4444, 4445, 4447, 4448, 4449, 4452, 4454, 4455, 4456, 4458, 4459, 4461, 4462, 4463, 4465, 4466, 4467, 4469, 4470, 4471, 4472, 4473, 4474, 4475, 4477, 4478, 4479, 4481, 4482, 4483, 4485, 4486, 4489, 4490, 4492, 4493, 4494, 4496, 4497, 4500, 4502, 4504, 4505, 4507, 4512, 4514, 4516, 4519, 4523, 4524, 4525, 4531, 4533, 4536, 4539, 4541, 4542, 4544, 4547, 4548, 4550, 4551, 4552, 4553, 4554, 4555, 4556, 4558, 4559, 4560, 4563, 4567, 4569, 4570, 4571, 4572, 4574, 4575, 4576, 4577, 4579, 4580, 4583, 4584, 4586, 4587, 4589, 4590, 4591, 4592, 4594, 4595, 4596, 4597, 4599, 4600, 4603, 4605, 4607, 4608, 4610, 4612, 4613, 4616, 4617, 4619, 4620, 4622, 4623, 4627, 4629, 4630, 4632, 4633, 4634, 4635, 4636, 4637, 4640, 4642, 4643, 4646, 4648, 4649, 4654, 4655, 4656, 4657, 4658, 4660, 4661, 4662, 4665, 4666, 4667, 4669, 4671, 4672, 4674, 4675, 4677, 4680, 4681, 4682, 4684, 4687, 4691, 4692, 4693, 4694, 4695, 4698, 4700, 4701, 4702, 4703, 4705, 4706, 4707, 4711, 4712, 4717, 4719, 4721, 4723, 4724, 4725, 4728, 4731, 4734, 4735, 4736, 4737, 4738, 4740, 4742, 4743, 4746, 4748, 4750, 4751, 4752, 4754, 4755, 4757, 4758, 4759, 4760, 4761, 4763, 4764, 4769, 4773, 4774, 4775, 4776, 4777, 4778, 4780, 4782, 4786, 4788, 4789, 4791, 4793, 4794, 4796, 4797, 4804, 4806, 4807, 4808, 4811, 4812, 4813, 4814, 4816, 4818, 4820, 4822, 4824, 4825, 4827, 4834, 4835, 4836, 4837, 4839, 4840, 4845, 4846, 4847, 4848, 4850, 4851, 4853, 4855, 4857, 4858, 4860, 4862, 4863, 4864, 4867, 4870, 4871, 4874, 4875, 4877, 4878, 4880, 4881, 4882, 4885, 4886, 4888, 4889, 4890, 4891, 4892, 4893, 4894, 4895, 4896, 4897, 4898, 4902, 4903, 4906, 4909, 4910, 4913, 4919, 4920, 4921, 4923, 4924, 4926, 4927, 4929, 4930, 4933, 4937, 4938, 4940, 4941, 4942, 4943, 4944, 4945, 4946, 4947, 4948, 4953, 4956, 4957, 4958, 4959, 4961, 4962, 4965, 4968, 4969, 4970, 4971, 4972, 4973, 4976, 4977, 4978, 4979, 4980, 4981, 4982, 4983, 4984, 4985, 4986, 4988, 4990, 4992, 4993, 4994, 4999, 5002, 5004, 5006, 5008, 5009, 5010, 5011, 5012, 5013, 5014, 5015, 5017, 5019, 5020, 5021, 5023, 5024, 5025, 5026, 5028, 5031, 5034, 5035, 5036, 5037, 5038, 5039, 5041, 5042, 5044, 5045, 5046, 5047, 5049, 5050, 5053, 5054, 5058, 5059, 5062, 5063, 5064, 5065, 5066, 5067, 5068, 5071, 5074, 5075, 5077, 5083, 5087, 5090, 5091, 5092, 5093, 5094, 5096, 5097, 5098, 5101, 5103, 5105, 5106, 5107, 5109, 5111, 5112, 5113, 5115, 5117, 5118, 5119, 5120, 5121, 5123, 5124, 5134, 5136, 5137, 5138, 5140, 5141, 5144, 5149, 5151, 5153, 5154, 5155, 5157, 5158, 5159, 5160, 5161, 5162, 5163, 5164, 5165, 5166, 5167, 5169, 5170, 5173, 5174, 5178, 5179, 5180, 5185, 5186, 5189, 5192, 5194, 5195, 5196, 5197, 5198, 5199, 5200, 5201, 5202, 5203, 5204, 5205, 5206, 5208, 5210, 5211, 5212, 5214, 5215, 5219, 5220, 5221, 5224, 5225, 5226, 5227, 5228, 5229, 5231, 5232, 5233, 5234, 5235, 5237, 5238, 5239, 5241, 5242, 5244, 5248, 5251, 5252, 5256, 5257, 5258, 5259, 5260, 5264, 5266, 5268, 5269, 5271, 5272, 5273, 5274, 5275, 5276, 5277, 5279, 5280, 5281, 5283, 5286, 5289, 5290, 5291, 5292, 5293, 5294, 5295, 5296, 5298, 5299, 5300, 5301, 5302, 5303, 5306, 5307, 5308, 5310, 5311, 5314, 5316, 5317, 5319, 5321, 5323, 5324, 5325, 5326, 5327, 5328, 5329, 5330, 5331, 5332, 5334, 5335, 5339, 5340, 5341, 5342, 5345, 5346, 5347, 5348, 5349, 5350, 5352, 5353, 5354, 5356, 5357, 5358, 5360, 5361, 5362, 5364, 5365, 5366, 5367, 5368, 5369, 5370, 5371, 5372, 5375, 5376, 5377, 5378, 5379, 5380, 5382, 5383, 5385, 5386, 5387, 5388, 5389, 5393, 5394, 5395, 5396, 5397, 5398, 5399, 5406, 5409, 5410, 5411, 5413, 5414, 5416, 5417, 5418, 5421, 5423, 5424, 5425, 5426, 5427, 5431, 5432, 5433, 5434, 5436, 5438, 5440, 5441, 5444, 5445, 5446, 5447, 5451, 5452, 5453, 5455, 5461, 5462, 5463, 5464, 5466, 5470, 5472, 5473, 5474, 5476, 5477, 5482, 5483, 5484, 5486, 5487, 5488, 5492, 5493, 5499, 5500, 5501, 5504, 5506, 5507, 5509, 5512, 5514, 5516, 5520, 5521, 5522, 5523, 5524, 5525, 5526, 5530, 5531, 5532, 5533, 5534, 5536, 5537, 5539, 5540, 5541, 5544, 5547, 5548, 5549, 5550, 5551, 5552, 5553, 5554, 5555, 5556, 5557, 5559, 5564, 5565, 5567, 5570, 5572, 5573, 5576, 5577, 5578, 5579, 5581, 5582, 5584, 5586, 5589, 5590, 5593, 5594, 5595, 5596, 5597, 5600, 5601, 5602, 5604, 5605, 5606, 5608, 5610, 5615, 5616, 5617, 5619, 5620, 5622, 5627, 5629, 5630, 5631, 5633, 5634, 5637, 5642, 5643, 5645, 5646, 5647, 5648, 5649, 5651, 5652, 5653, 5657, 5658, 5659, 5661, 5662, 5663, 5664, 5665, 5666, 5667, 5668, 5669, 5670, 5671, 5672, 5673, 5674, 5675, 5676, 5678, 5680, 5681, 5682, 5683, 5684, 5685, 5686, 5687, 5688, 5689, 5690, 5691, 5693, 5694, 5696, 5697, 5698, 5702, 5705, 5706, 5707, 5708, 5709, 5712, 5714, 5715, 5716, 5717, 5720, 5722, 5723, 5724, 5725, 5727, 5728, 5730, 5731, 5733, 5735, 5736, 5737, 5739, 5741, 5745, 5746, 5747, 5749, 5750, 5751, 5760, 5762, 5763, 5764, 5765, 5768, 5771, 5773, 5774, 5776, 5777, 5778, 5779, 5780, 5781, 5786, 5788, 5790, 5791, 5796, 5798, 5799, 5804, 5807, 5808, 5810, 5811, 5813, 5814, 5815, 5816, 5817, 5818, 5819, 5820, 5821, 5823, 5824, 5825, 5826, 5828, 5829, 5830, 5831, 5833, 5834, 5836, 5837, 5838, 5841, 5842, 5843, 5844, 5845, 5848, 5849, 5850, 5852, 5854, 5855, 5856, 5857, 5860, 5862, 5863, 5864, 5865, 5866, 5868, 5870, 5872, 5873, 5874, 5875, 5880, 5881, 5882, 5883, 5885, 5886, 5889, 5891, 5892, 5893, 5894, 5895, 5896, 5900, 5901, 5905, 5906, 5907, 5909, 5911, 5913, 5917, 5918, 5919, 5920, 5923, 5926, 5928, 5929, 5930, 5931, 5933, 5937, 5938, 5940, 5941, 5944, 5946, 5947, 5948, 5949, 5951, 5952, 5953, 5954, 5955, 5956, 5959, 5960, 5961, 5962, 5964, 5968, 5971, 5972, 5974, 5975, 5976, 5980, 5981, 5982, 5983, 5984, 5985, 5986, 5989, 5990, 5991, 5993, 5994, 5995, 5996, 5998, 5999, 6001, 6002, 6003, 6004, 6005, 6006, 6007, 6009, 6010, 6013, 6014, 6016, 6020, 6021, 6023, 6025, 6028, 6029, 6030, 6031, 6033, 6036, 6037, 6039, 6041, 6043, 6045, 6047, 6051, 6052, 6053, 6054, 6056, 6058, 6060, 6061, 6062, 6063, 6064, 6065, 6066, 6067, 6070, 6071, 6072, 6073, 6074, 6076, 6077, 6078, 6079, 6083, 6084, 6087, 6088, 6089, 6091, 6092, 6093, 6095, 6097, 6098, 6099, 6102, 6104, 6105, 6106, 6107, 6108, 6109, 6110, 6111, 6112, 6113, 6114, 6117, 6120, 6121, 6123, 6124, 6126, 6127, 6129, 6130, 6131, 6132, 6133, 6134, 6135, 6136, 6138, 6139, 6141, 6145, 6146, 6147, 6148, 6149, 6152, 6154, 6157, 6160, 6161, 6163, 6166, 6167, 6168, 6169, 6170, 6171, 6172, 6173, 6175, 6177, 6178, 6179, 6180, 6182, 6183, 6185, 6188, 6189, 6191, 6195, 6198, 6200, 6202, 6204, 6206, 6208, 6211, 6212, 6213, 6216, 6217, 6218, 6220, 6221, 6222, 6224, 6225, 6226, 6228, 6231, 6232, 6233, 6234, 6236, 6238, 6239, 6240, 6241, 6244, 6245, 6248, 6249, 6251, 6252, 6254, 6258, 6259, 6263, 6264, 6267, 6268, 6270, 6272, 6274, 6275, 6276, 6277, 6278, 6279, 6280, 6282, 6283, 6284, 6285, 6286, 6287, 6289, 6290, 6292, 6293, 6295, 6296, 6297, 6299, 6300, 6301, 6302, 6304, 6305, 6306, 6307, 6309, 6311, 6312, 6313, 6315, 6316, 6318, 6319, 6321, 6323, 6325, 6327, 6328, 6329, 6332, 6334, 6335, 6338, 6339, 6343, 6344, 6348, 6350, 6351, 6352, 6354, 6355, 6357, 6359, 6360, 6361, 6362, 6363, 6364, 6365, 6367, 6368, 6369, 6370, 6371, 6372, 6373, 6375, 6376, 6377, 6378, 6379, 6382, 6383, 6385, 6386, 6389, 6390, 6391, 6392, 6393, 6394, 6395, 6396, 6401, 6402, 6403, 6405, 6406, 6407, 6408, 6409, 6411, 6415, 6416, 6419, 6420, 6422, 6424, 6427, 6429, 6430, 6432, 6434, 6436, 6437, 6438, 6439, 6440, 6444, 6445, 6446, 6447, 6449, 6450, 6451, 6452, 6453, 6454, 6455, 6456, 6459, 6461, 6465, 6467, 6468, 6470, 6473, 6474, 6477, 6478, 6480, 6481, 6482, 6483, 6484, 6485, 6486, 6487, 6489, 6490, 6496, 6497, 6498, 6499, 6500, 6503, 6504, 6505, 6510, 6511, 6512, 6513, 6514, 6515, 6516, 6517, 6518, 6519, 6521, 6525, 6526, 6528, 6529, 6530, 6531, 6532, 6533, 6535, 6537, 6538, 6540, 6542, 6544, 6545, 6546, 6547, 6548, 6549, 6550, 6552, 6555, 6556, 6558, 6565, 6566, 6567, 6569, 6571, 6572, 6575, 6577, 6579, 6585, 6587, 6588, 6589, 6590, 6592, 6593, 6594, 6597, 6598, 6599, 6600, 6606, 6607, 6608, 6609, 6610, 6611, 6612, 6613, 6614, 6615, 6616, 6617, 6618, 6619, 6621, 6622, 6623, 6626, 6628, 6630, 6632, 6634, 6636, 6639, 6641, 6642, 6643, 6645, 6647, 6649, 6650, 6653, 6654, 6657, 6658, 6659, 6660, 6661, 6662, 6665, 6666, 6667, 6669, 6670, 6674, 6675, 6676, 6678, 6679, 6681, 6682, 6683, 6684, 6686, 6687, 6688, 6689, 6691, 6693, 6694, 6696, 6699, 6701, 6702, 6703, 6704, 6705, 6707, 6708, 6710, 6712, 6714, 6716, 6717, 6718, 6719, 6720, 6722, 6724, 6729, 6730, 6733, 6737, 6739, 6741, 6742, 6743, 6744, 6745, 6746, 6747, 6748, 6750, 6751, 6753, 6754, 6756, 6757, 6759, 6762, 6763, 6764, 6766, 6767, 6771, 6772, 6774, 6775, 6776, 6777, 6778, 6779, 6780, 6781, 6782, 6783, 6784, 6785, 6786, 6788, 6789, 6790, 6791, 6792, 6796, 6799, 6800, 6801, 6802, 6804, 6806, 6808, 6809, 6812, 6813, 6814, 6818, 6820, 6821, 6823, 6825, 6827, 6828, 6829, 6830, 6831, 6834, 6835, 6836, 6838, 6839, 6841, 6842, 6843, 6844, 6848, 6849, 6850, 6851, 6852, 6853, 6854, 6856, 6858, 6859, 6861, 6862, 6863, 6868, 6869, 6870, 6873, 6874, 6877, 6879, 6880, 6881, 6883, 6884, 6885, 6893, 6894, 6896, 6897, 6899, 6902, 6904, 6907, 6910, 6911, 6912, 6913, 6914, 6916, 6917, 6918, 6920, 6922, 6923, 6925, 6926, 6927, 6928, 6931, 6932, 6933, 6935, 6936, 6937, 6938, 6943, 6944, 6946, 6947, 6949, 6950, 6951, 6952, 6953, 6954, 6955, 6956, 6957, 6959, 6960, 6961, 6964, 6965, 6966, 6967, 6970, 6971, 6974, 6975, 6976, 6977, 6978, 6979, 6980, 6981, 6982, 6983, 6985, 6986, 6987, 6988, 6989, 6993, 6994, 6996, 6999, 7000, 7002, 7003, 7004, 7005, 7006, 7007, 7010, 7012, 7013, 7015, 7020, 7021, 7024, 7029, 7030, 7031, 7032, 7033, 7034, 7035, 7036, 7037, 7038, 7039, 7040, 7041, 7043, 7045, 7046, 7047, 7048, 7049, 7051, 7052, 7053, 7054, 7059, 7061, 7062, 7065, 7066, 7067, 7075, 7077, 7079, 7081, 7082, 7083, 7084, 7085, 7089, 7090, 7091, 7092, 7093, 7095, 7096, 7101, 7102, 7103, 7104, 7105, 7106, 7107, 7108, 7110, 7111, 7113, 7115, 7117, 7119, 7120, 7121, 7123, 7124, 7126, 7127, 7128, 7129, 7130, 7131, 7132, 7133, 7134, 7135, 7138, 7139, 7141, 7142, 7147, 7149, 7150, 7151, 7152, 7153, 7154, 7157, 7159, 7161, 7163, 7164, 7165, 7167, 7172, 7173, 7175, 7177, 7179, 7180, 7181, 7184, 7186, 7187, 7188, 7189, 7193, 7194, 7196, 7197, 7199, 7202, 7204, 7205, 7206, 7207, 7211, 7213, 7214, 7216, 7217, 7218, 7219, 7220, 7221, 7222, 7223, 7224, 7225, 7226, 7227, 7228, 7229, 7231, 7235, 7236, 7238, 7239, 7241, 7244, 7245, 7246, 7247, 7248, 7250, 7251, 7252, 7253, 7254, 7255, 7256, 7259, 7261, 7262, 7266, 7267, 7268, 7269, 7270, 7271, 7275, 7279, 7281, 7282, 7283, 7284, 7285, 7286, 7288, 7289, 7291, 7293, 7294, 7295, 7297, 7298, 7299, 7300, 7303, 7304, 7305, 7306, 7307, 7309, 7310, 7312, 7313, 7314, 7315, 7316, 7317, 7318, 7319, 7320, 7322, 7323, 7324, 7325, 7327, 7330, 7332, 7334, 7337, 7339, 7341, 7342, 7345, 7346, 7348, 7351, 7352, 7353, 7354, 7358, 7360, 7361, 7367, 7371, 7372, 7373, 7375, 7376, 7378, 7379, 7380, 7382, 7386, 7387, 7388, 7389, 7391, 7394, 7395, 7396, 7397, 7398, 7399, 7401, 7404, 7405, 7407, 7408, 7409, 7410, 7413, 7414, 7415, 7416, 7418, 7419, 7421, 7424, 7425, 7428, 7429, 7430, 7432, 7433, 7438, 7440, 7441, 7442, 7443, 7446, 7447, 7449, 7452, 7453, 7455, 7456, 7457, 7458, 7464, 7465, 7467, 7468, 7469, 7471, 7473, 7474, 7476, 7477, 7478, 7479, 7480, 7482, 7483, 7484, 7485, 7486, 7489, 7492, 7494, 7495, 7496, 7498, 7500, 7507, 7509, 7510, 7511, 7516, 7517, 7518, 7519, 7522, 7524, 7526, 7527, 7528, 7529, 7531, 7538, 7541, 7543, 7544, 7549, 7551, 7553, 7554, 7555, 7556, 7557, 7559, 7560, 7562, 7563, 7572, 7573, 7574, 7575, 7576, 7577, 7578, 7579, 7581, 7582, 7584, 7586, 7588, 7589, 7590, 7591, 7592, 7593, 7594, 7595, 7599, 7602, 7605, 7609, 7611, 7612, 7613, 7615, 7620, 7621, 7622, 7624, 7626, 7627, 7629, 7630, 7632, 7635, 7637, 7638, 7640, 7642, 7646, 7651, 7652, 7653, 7654, 7655, 7656, 7657, 7658, 7659, 7660, 7663, 7665, 7667, 7669, 7670, 7673, 7675, 7678, 7679, 7680, 7682, 7683, 7684, 7685, 7686, 7688, 7689, 7693, 7695, 7696, 7698, 7700, 7701, 7702, 7703, 7705, 7708, 7710, 7711, 7712, 7713, 7714, 7717, 7718, 7719, 7722, 7723, 7724, 7726, 7727, 7729, 7730, 7732, 7733, 7734, 7735, 7736, 7737, 7738, 7739, 7741, 7743, 7744, 7746, 7747, 7749, 7750, 7751, 7752, 7756, 7757, 7760, 7762, 7763, 7764, 7766, 7767, 7768, 7770, 7771, 7776, 7777, 7779, 7780, 7782, 7783, 7786, 7790, 7792, 7793, 7794, 7795, 7797, 7802, 7804, 7808, 7809, 7810, 7811, 7812, 7813, 7815, 7817, 7818, 7819, 7820, 7821, 7822, 7823, 7825, 7826, 7827, 7828, 7829, 7832, 7833, 7835, 7837, 7839, 7841, 7842, 7843, 7844, 7845, 7846, 7847, 7848, 7850, 7852, 7853, 7855, 7856, 7857, 7858, 7860, 7861, 7862, 7863, 7865, 7869, 7870, 7871, 7873, 7874, 7875, 7876, 7877, 7880, 7883, 7884, 7886, 7888, 7891, 7893, 7895, 7899, 7900, 7904, 7905, 7907, 7908, 7911, 7912, 7914, 7916, 7917, 7920, 7921, 7923, 7924, 7925, 7926, 7927, 7928, 7929, 7930, 7931, 7932, 7934, 7936, 7937, 7938, 7943, 7944, 7945, 7946, 7947, 7948, 7951, 7952, 7953, 7954, 7955, 7958, 7959, 7961, 7962, 7963, 7964, 7967, 7969, 7970, 7972, 7976, 7980, 7981, 7982, 7983, 7984, 7986, 7987, 7988, 7992, 7993, 7994, 7996, 7997, 7999, 8002, 8003, 8006, 8008, 8010, 8012, 8013, 8015, 8017, 8020, 8021, 8022, 8023, 8024, 8030, 8032, 8034, 8037, 8038, 8039, 8040, 8041, 8043, 8048, 8049, 8052, 8053, 8054, 8055, 8056, 8059, 8061, 8065, 8066, 8071, 8073, 8075, 8076, 8078, 8079, 8081, 8082, 8083, 8086, 8088, 8090, 8093, 8094, 8096, 8098, 8099, 8102, 8103, 8104, 8105, 8107, 8108, 8109, 8111, 8112, 8113, 8114, 8115, 8116, 8119, 8120, 8121, 8122, 8123, 8124, 8125, 8126, 8127, 8128, 8129, 8131, 8132, 8136, 8137, 8138, 8140, 8141, 8142, 8144, 8148, 8149, 8151, 8152, 8153, 8154, 8156, 8158, 8159, 8160, 8161, 8163, 8167, 8168, 8173, 8174, 8176, 8177, 8179, 8181, 8182, 8184, 8185, 8186, 8188, 8189, 8190, 8195, 8197, 8198, 8200, 8201, 8202, 8203, 8205, 8207, 8209, 8210, 8211, 8213, 8214, 8215, 8216, 8217, 8219, 8223, 8229, 8230, 8231, 8232, 8233, 8234, 8235, 8236, 8237, 8238, 8240, 8241, 8243, 8246, 8247, 8249, 8250, 8252, 8253, 8254, 8255, 8257, 8259, 8260, 8263, 8264, 8265, 8266, 8267, 8270, 8271, 8273, 8275, 8277, 8278, 8280, 8282, 8283, 8284, 8286, 8287, 8289, 8290, 8293, 8294, 8295, 8296, 8298, 8299, 8301, 8302, 8304, 8305, 8307, 8308, 8313, 8316, 8317, 8318, 8319, 8321, 8324, 8327, 8328, 8329, 8330, 8332, 8333, 8335, 8336, 8337, 8338, 8339, 8341, 8342, 8343, 8344, 8346, 8347, 8348, 8351, 8353, 8354, 8356, 8358, 8359, 8360, 8362, 8364, 8366, 8367, 8368, 8370, 8373, 8374, 8377, 8378, 8380, 8381, 8382, 8383, 8384, 8385, 8386, 8388, 8389, 8390, 8392, 8393, 8394, 8397, 8398, 8400, 8402, 8403, 8406, 8408, 8409, 8410, 8413, 8416, 8419, 8421, 8423, 8424, 8425, 8428, 8431, 8432, 8434, 8436, 8438, 8440, 8441, 8442, 8445, 8446, 8447, 8448, 8449, 8451, 8452, 8453, 8454, 8455, 8458, 8460, 8462, 8464, 8465, 8466, 8467, 8468, 8470, 8471, 8473, 8474, 8475, 8478, 8479, 8480, 8481, 8482, 8483, 8484, 8485, 8487, 8488, 8489, 8490, 8491, 8492, 8493, 8494, 8495, 8496, 8497, 8498, 8499, 8500, 8501, 8502, 8503, 8506, 8507, 8508, 8509, 8510, 8511, 8512, 8513, 8515, 8520, 8521, 8522, 8523, 8524, 8525, 8526, 8528, 8529, 8531, 8534, 8535, 8536, 8539, 8540, 8541, 8542, 8543, 8545, 8546, 8547, 8550, 8552, 8553, 8554, 8555, 8556, 8559, 8561, 8562, 8563, 8565, 8567, 8568, 8569, 8570, 8571, 8572, 8573, 8574, 8576, 8579, 8581, 8584, 8586, 8588, 8589, 8590, 8592, 8593, 8595, 8596, 8599, 8600, 8603, 8604, 8605, 8608, 8609, 8610, 8611, 8613, 8614, 8615, 8616, 8617, 8619, 8620, 8621, 8623, 8625, 8627, 8629, 8636, 8638, 8639, 8640, 8641, 8643, 8644, 8645, 8646, 8647, 8648, 8655, 8656, 8657, 8660, 8662, 8665, 8667, 8669, 8670, 8671, 8672, 8673, 8674, 8676, 8678, 8680, 8681, 8685, 8686, 8687, 8690, 8692, 8694, 8695, 8696, 8699, 8700, 8701, 8702, 8703, 8704, 8705, 8706, 8710, 8711, 8713, 8714, 8716, 8717, 8718, 8721, 8725, 8726, 8728, 8729, 8730, 8732, 8733, 8734, 8735, 8736, 8738, 8739, 8742, 8745, 8746, 8747, 8748, 8751, 8753, 8754, 8756, 8759, 8760, 8762, 8763, 8764, 8768, 8769, 8773, 8774, 8775, 8777, 8779, 8782, 8784, 8785, 8786, 8789, 8790, 8791, 8792, 8793, 8794, 8798, 8802, 8807, 8810, 8811, 8812, 8814, 8815, 8817, 8818, 8819, 8820, 8821, 8822, 8823, 8824, 8828, 8830, 8831, 8832, 8833, 8834, 8835, 8836, 8837, 8838, 8839, 8840, 8841, 8844, 8845, 8846, 8847, 8849, 8851, 8854, 8858, 8861, 8862, 8863, 8864, 8866, 8867, 8868, 8869, 8870, 8872, 8873, 8875, 8876, 8877, 8881, 8882, 8889, 8891, 8892, 8893, 8894, 8895, 8896, 8897, 8898, 8899, 8906, 8907, 8908, 8909, 8910, 8912, 8913, 8914, 8918, 8919, 8920, 8921, 8922, 8925, 8928, 8930, 8931, 8932, 8933, 8934, 8936, 8937, 8938, 8940, 8941, 8942, 8943, 8944, 8945, 8946, 8948, 8949, 8951, 8952, 8953, 8954, 8955, 8957, 8958, 8961, 8962, 8963, 8964, 8965, 8970, 8971, 8972, 8973, 8974, 8977, 8978, 8979, 8982, 8984, 8985, 8987, 8988, 8991, 8992, 8995, 8997, 8999, 9002, 9003, 9005, 9010, 9011, 9013, 9014, 9016, 9018, 9020, 9021, 9024, 9025, 9027, 9028, 9029, 9030, 9031, 9032, 9033, 9034, 9036, 9039, 9040, 9041, 9043, 9046, 9047, 9048, 9049, 9050, 9051, 9052, 9053, 9054, 9058, 9059, 9060, 9062, 9064, 9065, 9068, 9069, 9071, 9073, 9074, 9076, 9078, 9080, 9082, 9084, 9085, 9086, 9088, 9090, 9093, 9094, 9095, 9096, 9101, 9106, 9108, 9111, 9113, 9115, 9117, 9120, 9122, 9123, 9124, 9125, 9126, 9129, 9131, 9133, 9136, 9137, 9138, 9139, 9140, 9141, 9142, 9143, 9144, 9145, 9146, 9147, 9148, 9149, 9150, 9151, 9153, 9155, 9156, 9157, 9159, 9160, 9161, 9162, 9164, 9165, 9166, 9167, 9170, 9171, 9172, 9176, 9177, 9178, 9179, 9180, 9181, 9182, 9183, 9184, 9187, 9188, 9189, 9191, 9192, 9194, 9195, 9199, 9201, 9202, 9203, 9204, 9208, 9209, 9210, 9211, 9212, 9214, 9215, 9217, 9218, 9220, 9223, 9226, 9227, 9228, 9229, 9232, 9233, 9234, 9235, 9236, 9238, 9240, 9241, 9243, 9244, 9245, 9247, 9251, 9253, 9255, 9257, 9260, 9263, 9264, 9265, 9266, 9267, 9269, 9270, 9271, 9275, 9277, 9278, 9281, 9282, 9283, 9284, 9288, 9289, 9290, 9292, 9294, 9296, 9298, 9299, 9300, 9301, 9302, 9303, 9304, 9308, 9309, 9311, 9312, 9313, 9314, 9318, 9319, 9320, 9321, 9322, 9323, 9325, 9327, 9329, 9330, 9331, 9332, 9338, 9340, 9341, 9345, 9347, 9348, 9349, 9351, 9352, 9355, 9357, 9358, 9359, 9360, 9361, 9362, 9364, 9365, 9366, 9368, 9369, 9370, 9373, 9375, 9376, 9378, 9379, 9385, 9387, 9388, 9389, 9390, 9391, 9392, 9393, 9394, 9396, 9397, 9398, 9399, 9400, 9401, 9403, 9404, 9405, 9408, 9410, 9411, 9413, 9414, 9416, 9418, 9419, 9421, 9422, 9424, 9425, 9426, 9427, 9430, 9432, 9433, 9435, 9437, 9439, 9440, 9444, 9445, 9446, 9447, 9448, 9449, 9451, 9452, 9456, 9458, 9459, 9460, 9461, 9463, 9464, 9465, 9466, 9467, 9471, 9472, 9473, 9476, 9477, 9478, 9479, 9480, 9481, 9482, 9483, 9484, 9488, 9490, 9491, 9493, 9494, 9495, 9496, 9497, 9498, 9499, 9500, 9505, 9506, 9508, 9509, 9510, 9512, 9513, 9514, 9515, 9516, 9517, 9520, 9521, 9522, 9523, 9526, 9528, 9531, 9533, 9535, 9536, 9537, 9538, 9539, 9540, 9542, 9543, 9546, 9551, 9554, 9556, 9558, 9559, 9560, 9565, 9566, 9567, 9568, 9569, 9570, 9571, 9576, 9577, 9578, 9579, 9580, 9582, 9584, 9585, 9587, 9589, 9590, 9591, 9592, 9594, 9598, 9599, 9600, 9601, 9606, 9607, 9608, 9610, 9611, 9615, 9616, 9617, 9618, 9620, 9621, 9624, 9625, 9626, 9628, 9629, 9630, 9631, 9632, 9633, 9634, 9635, 9636, 9637, 9640, 9644, 9647, 9648, 9649, 9652, 9653, 9654, 9658, 9659, 9661, 9662, 9663, 9664, 9665, 9666, 9667, 9668, 9669, 9670, 9671, 9672, 9673, 9677, 9679, 9681, 9682, 9683, 9685, 9686, 9687, 9688, 9689, 9690, 9693, 9694, 9695, 9697, 9698, 9699, 9700, 9701, 9702, 9704, 9707, 9708, 9711, 9712, 9714, 9715, 9717, 9718, 9720, 9721, 9722, 9723, 9724, 9725, 9726, 9727, 9728, 9729, 9731, 9734, 9735, 9736, 9737, 9738, 9739, 9740, 9741, 9742, 9744, 9745, 9746, 9749, 9752, 9754, 9755, 9760, 9761, 9765, 9766, 9771, 9772, 9774, 9775, 9777, 9778, 9780, 9781, 9782, 9783, 9784, 9786, 9787, 9788, 9791, 9792, 9794, 9795, 9797, 9798, 9802, 9805, 9808, 9809, 9810, 9812, 9815, 9816, 9820, 9821, 9822, 9824, 9825, 9826, 9828, 9832, 9834, 9835, 9838, 9840, 9841, 9842, 9843, 9844, 9846, 9847, 9848, 9849, 9850, 9851, 9852, 9854, 9855, 9856, 9858, 9859, 9860, 9862, 9864, 9865, 9866, 9867, 9870, 9871, 9872, 9875, 9876, 9879, 9880, 9881, 9883, 9884, 9885, 9886, 9888, 9889, 9890, 9891, 9893, 9895, 9896, 9897, 9900, 9901, 9903, 9904, 9905, 9906, 9908, 9910, 9911, 9914, 9915, 9916, 9917, 9918, 9919, 9920, 9921, 9925, 9926, 9927, 9931, 9933, 9935, 9936, 9937, 9939, 9940, 9942, 9943, 9944, 9946, 9947, 9948, 9949, 9951, 9955, 9956, 9962, 9963, 9965, 9966, 9967, 9970, 9971, 9972, 9973, 9974, 9977, 9978, 9980, 9981, 9982, 9983, 9985, 9986, 9987, 9988, 9989, 9990, 9992, 9994, 9996, 9998, 10000, 10001, 10002, 10004, 10006, 10008, 10009, 10010, 10011, 10012, 10013, 10014, 10015, 10016, 10019, 10020, 10021, 10022, 10023, 10024, 10025, 10027, 10029, 10030, 10031, 10032, 10033, 10034, 10035, 10036, 10037, 10038, 10039, 10040, 10041, 10042, 10044, 10046, 10047, 10051, 10052, 10053, 10056, 10060, 10061, 10063, 10064, 10065, 10066, 10068, 10070, 10071, 10073, 10074, 10076, 10078, 10087, 10089, 10091, 10092, 10094, 10095, 10096, 10098, 10101, 10104, 10105, 10106, 10107, 10108, 10109, 10113, 10115, 10116, 10117, 10118, 10119, 10122, 10125, 10127, 10129, 10131, 10132, 10133, 10134, 10135, 10136, 10137, 10139, 10140, 10141, 10147, 10149, 10151, 10152, 10155, 10156, 10157, 10158, 10160, 10161, 10167, 10170, 10171, 10173, 10176, 10178, 10180, 10181, 10182, 10183, 10186, 10189, 10190, 10191, 10192, 10194, 10195, 10196, 10197, 10198, 10200, 10203, 10205, 10206, 10207, 10208, 10209, 10213, 10214, 10216, 10217, 10221, 10222, 10223, 10225, 10227, 10232, 10233, 10234, 10235, 10236, 10237, 10238, 10240, 10241, 10243, 10244, 10245, 10246, 10248, 10249, 10250, 10251, 10253, 10254, 10255, 10257, 10258, 10260, 10263, 10266, 10267, 10268, 10271, 10273, 10275, 10277, 10279, 10281, 10282, 10283, 10284, 10286, 10287, 10289, 10293, 10298, 10299, 10301, 10302, 10303, 10305, 10307, 10308, 10312, 10313, 10314, 10315, 10316, 10317, 10319, 10320, 10322, 10323, 10324, 10326, 10327, 10328, 10331, 10332, 10333, 10334, 10335, 10338, 10340, 10342, 10343, 10344, 10346, 10348, 10349, 10351, 10352, 10354, 10355, 10356, 10357, 10358, 10359, 10361, 10363, 10365, 10366, 10367, 10368, 10369, 10371, 10373, 10374, 10375, 10376, 10377, 10380, 10381, 10382, 10384, 10385, 10386, 10387, 10388, 10389, 10392, 10394, 10395, 10396, 10397, 10398, 10400, 10402, 10403, 10404, 10405, 10406, 10407, 10409, 10410, 10411, 10413, 10415, 10416, 10418, 10419, 10420, 10421, 10422, 10424, 10425, 10427, 10428, 10429, 10430, 10432, 10435, 10436, 10437, 10438, 10439, 10440, 10442, 10443, 10444, 10445, 10446, 10447, 10449, 10450, 10451, 10453, 10455, 10456, 10457, 10461, 10462, 10463, 10464, 10465, 10466, 10467, 10469, 10476, 10477, 10478, 10479, 10480, 10482, 10483, 10484, 10485, 10486, 10487, 10491, 10493, 10494, 10496, 10497, 10500, 10501, 10504, 10506, 10507, 10509, 10510, 10512, 10514, 10515, 10516, 10518, 10519, 10521, 10522, 10523, 10525, 10527, 10529, 10531, 10534, 10535, 10536, 10538, 10539, 10540, 10541, 10542, 10544, 10545, 10546, 10549, 10550, 10551, 10554, 10555, 10556, 10560, 10561, 10564, 10565, 10569, 10572, 10574, 10576, 10577, 10578, 10579, 10580, 10583, 10584, 10587, 10588, 10590, 10592, 10593, 10594, 10598, 10599, 10600, 10601, 10602, 10604, 10605, 10608, 10611, 10612, 10615, 10617, 10618, 10619, 10620, 10621, 10622, 10623, 10624, 10626, 10627, 10629, 10630, 10631, 10636, 10637, 10640, 10645, 10647, 10650, 10651, 10652, 10653, 10655, 10659, 10660, 10662, 10663, 10664, 10665, 10666, 10667, 10668, 10670, 10672, 10674, 10675, 10676, 10677, 10683, 10686, 10689, 10692, 10693, 10695, 10696, 10698, 10699, 10701, 10705, 10706, 10708, 10711, 10713, 10714, 10717, 10718, 10720, 10721, 10723, 10729, 10731, 10733, 10735, 10736, 10740, 10741, 10742, 10743, 10744, 10746, 10747, 10750, 10751, 10752, 10755, 10756, 10758, 10759, 10760, 10761, 10762, 10763, 10764, 10765, 10766, 10767, 10769, 10771, 10772, 10773, 10775, 10776, 10777, 10778, 10779, 10780, 10784, 10785, 10786, 10788, 10792, 10793, 10794, 10796, 10798, 10799, 10800, 10801, 10803, 10805, 10806, 10807, 10808, 10809, 10810, 10811, 10812, 10813, 10815, 10816, 10817, 10818, 10819, 10820, 10821, 10822, 10823, 10825, 10829, 10830, 10831, 10832, 10833, 10836, 10837, 10838, 10840, 10841, 10843, 10844, 10845, 10846, 10847, 10849, 10850, 10851, 10852, 10854, 10855, 10856, 10858, 10860, 10861, 10863, 10864, 10866, 10867, 10868, 10869, 10870, 10872, 10873, 10874, 10876, 10877, 10878, 10879, 10881, 10883, 10884, 10885, 10886, 10887, 10888, 10889, 10892, 10894, 10896, 10897, 10898, 10902, 10904, 10905, 10906, 10909, 10910, 10911, 10912, 10914, 10915, 10916, 10917, 10919, 10921, 10924, 10925, 10926, 10931, 10934, 10936, 10939, 10942, 10943, 10947, 10950, 10954, 10955, 10956, 10957, 10958, 10960, 10962, 10963, 10964, 10965, 10966, 10967, 10969, 10971, 10973, 10976, 10977, 10978, 10981, 10982, 10983, 10987, 10988, 10989, 10991, 10992, 10993, 10994, 10996, 10998, 11000, 11001, 11003, 11004, 11006, 11007, 11008, 11009, 11010, 11011, 11012, 11014, 11015, 11016, 11020, 11021, 11023, 11024, 11026, 11027, 11029, 11032, 11033, 11036, 11038, 11040, 11042, 11043, 11044, 11045, 11049, 11053, 11054, 11056, 11058, 11059, 11062, 11065, 11066, 11069, 11074, 11076, 11078, 11079, 11080, 11081, 11082, 11084, 11085, 11086, 11087, 11089, 11091, 11092, 11094, 11096, 11097, 11098, 11100, 11101, 11102, 11103, 11105, 11108, 11109, 11111, 11114, 11115, 11117, 11120, 11121, 11122, 11123, 11125, 11131, 11133, 11136, 11137, 11138, 11139, 11143, 11145, 11146, 11149, 11151, 11153, 11154, 11155, 11156, 11157, 11158, 11159, 11160, 11164, 11165, 11168, 11169, 11170, 11172, 11175, 11176, 11178, 11179, 11181, 11184, 11185, 11186, 11189, 11191, 11192, 11193, 11195, 11197, 11198, 11201, 11202, 11204, 11205, 11207, 11209, 11212, 11214, 11215, 11216, 11217, 11218, 11220, 11224, 11225, 11226, 11227, 11228, 11232, 11233, 11234, 11236, 11237, 11238, 11240, 11241, 11242, 11243, 11244, 11247, 11248, 11251, 11252, 11253, 11254, 11255, 11258, 11261, 11262, 11264, 11266, 11269, 11270, 11271, 11272, 11273, 11274, 11278, 11279, 11280, 11281, 11284, 11285, 11287, 11288, 11289, 11293, 11295, 11297, 11300, 11301, 11302, 11303, 11306, 11308, 11309, 11310, 11311, 11312, 11314, 11315, 11316, 11317, 11319, 11321, 11322, 11323, 11325, 11326, 11327, 11330, 11331, 11334, 11337, 11338, 11341, 11342, 11346, 11347, 11349, 11350, 11351, 11353, 11358, 11359, 11360, 11363, 11364, 11365, 11368, 11369, 11371, 11372, 11373, 11374, 11375, 11376, 11377, 11379, 11380, 11381, 11382, 11383, 11385, 11386, 11387, 11390, 11392, 11394, 11395, 11396, 11397, 11398, 11399, 11400, 11403, 11404, 11405, 11408, 11409, 11411, 11412, 11413, 11416, 11417, 11418, 11421, 11422, 11424, 11425, 11427, 11428, 11429, 11431, 11434, 11435, 11436, 11437, 11438, 11439, 11440, 11441, 11443, 11444, 11449, 11450, 11451, 11452, 11453, 11455, 11456, 11457, 11459, 11460, 11461, 11463, 11467, 11469, 11470, 11471, 11472, 11473, 11475, 11479, 11480, 11483, 11484, 11485, 11486, 11488, 11489, 11494, 11495, 11496, 11497, 11498, 11501, 11502, 11503, 11505, 11507, 11509, 11510, 11512, 11515, 11516, 11517, 11519, 11520, 11521, 11522, 11524, 11528, 11529, 11530, 11531, 11532, 11533, 11536, 11537, 11539, 11540, 11541, 11542, 11543, 11544, 11545, 11546, 11547, 11548, 11549, 11553, 11555, 11556, 11557, 11558, 11559, 11560, 11561, 11562, 11563, 11564, 11566, 11567, 11569, 11573, 11574, 11578, 11579, 11580, 11582, 11583, 11585, 11586, 11588, 11592, 11593, 11595, 11596, 11597, 11598, 11600, 11602, 11604, 11605, 11607, 11608, 11611, 11615, 11618, 11620, 11622, 11623, 11624, 11625, 11626, 11630, 11632, 11633, 11634, 11636, 11639, 11640, 11641, 11643, 11644, 11647, 11648, 11649, 11650, 11651, 11652, 11653, 11654, 11655, 11656, 11657, 11658, 11659, 11660, 11661, 11662, 11664, 11665, 11667, 11669, 11670, 11671, 11674, 11679, 11680, 11685, 11687, 11688, 11690, 11692, 11694, 11695, 11697, 11700, 11702, 11704, 11705, 11712, 11714, 11716, 11720, 11721, 11723, 11724, 11726, 11728, 11729, 11730, 11731, 11735, 11736, 11737, 11740, 11741, 11743, 11744, 11745, 11746, 11752, 11756, 11757, 11761, 11763, 11764, 11765, 11770, 11771, 11772, 11774, 11775, 11776, 11777, 11778, 11779, 11782, 11783, 11785, 11787, 11789, 11790, 11791, 11792, 11793, 11796, 11797, 11799, 11802, 11803, 11804, 11805, 11806, 11807, 11809, 11810, 11816, 11817, 11819, 11820, 11821, 11822, 11823, 11824, 11827, 11828, 11829, 11830, 11832, 11833, 11835, 11836, 11838, 11839, 11840, 11843, 11844, 11845, 11846, 11847, 11848, 11849, 11851, 11852, 11853, 11855, 11856, 11857, 11858, 11859, 11860, 11861, 11862, 11864, 11867, 11868, 11870, 11871, 11873, 11876, 11878, 11879, 11881, 11882, 11884, 11885, 11889, 11891, 11892, 11895, 11898, 11899, 11900, 11901, 11904, 11905, 11906, 11909, 11911, 11912, 11913, 11914, 11917, 11922, 11923, 11925, 11926, 11928, 11931, 11932, 11933, 11934, 11935, 11936, 11937, 11941, 11942, 11944, 11946, 11947, 11948, 11949, 11951, 11952, 11953, 11954, 11955, 11956, 11957, 11958, 11959, 11960, 11963, 11964, 11965, 11966, 11967, 11969, 11970, 11973, 11975, 11977, 11978, 11979, 11980, 11983, 11984, 11985, 11986, 11987, 11988, 11989, 11990, 11991, 11992, 11997, 11998, 12000, 12001, 12002, 12003, 12004, 12006, 12008, 12010, 12013, 12016, 12018, 12019, 12021, 12024, 12025, 12026, 12027, 12028, 12030, 12032, 12033, 12034, 12036, 12037, 12039, 12040, 12042, 12043, 12045, 12046, 12049, 12051, 12052, 12053, 12054, 12055, 12056, 12058, 12059, 12060, 12062, 12063, 12064, 12066, 12067, 12068, 12070, 12071, 12072, 12079, 12080, 12081, 12084, 12085, 12087, 12088, 12090, 12091, 12092, 12099, 12101, 12105, 12106, 12109, 12110, 12111, 12113, 12114, 12115, 12116, 12119, 12120, 12121, 12123, 12124, 12125, 12137, 12138, 12141, 12142, 12143, 12144, 12145, 12146, 12149, 12150, 12151, 12152, 12153, 12157, 12160, 12161, 12162, 12163, 12164, 12166, 12167, 12169, 12170, 12171, 12173, 12175, 12176, 12177, 12179, 12181, 12182, 12183, 12184, 12185, 12186, 12187, 12188, 12189, 12191, 12193, 12194, 12196, 12197, 12198, 12199, 12200, 12201, 12202, 12204, 12205, 12207, 12208, 12214, 12215, 12216, 12217, 12218, 12223, 12224, 12225, 12226, 12229, 12230, 12232, 12235, 12236, 12237, 12238, 12244, 12245, 12246, 12248, 12249, 12251, 12254, 12255, 12258, 12259, 12264, 12265, 12266, 12267, 12268, 12269, 12271, 12272, 12273, 12274, 12276, 12277, 12278, 12280, 12282, 12284, 12285, 12286, 12289, 12290, 12292, 12293, 12294, 12300, 12302, 12303, 12305, 12306, 12308, 12311, 12313, 12315, 12316, 12318, 12319, 12321, 12322, 12324, 12325, 12327, 12328, 12329, 12330, 12331, 12332, 12334, 12335, 12337, 12338, 12340, 12344, 12345, 12347, 12349, 12350, 12351, 12352, 12353, 12355, 12356, 12361, 12362, 12365, 12366, 12367, 12368, 12369, 12370, 12371, 12372, 12376, 12378, 12380, 12383, 12386, 12389, 12391, 12392, 12393, 12394, 12395, 12396, 12397, 12398, 12400, 12401, 12402, 12403, 12404, 12409, 12411, 12413, 12414, 12415, 12416, 12418, 12419, 12420, 12421, 12422, 12423, 12425, 12426, 12427, 12429, 12430, 12434, 12435, 12436, 12438, 12439, 12440, 12441, 12446, 12448, 12453, 12454, 12456, 12458, 12462, 12463, 12464, 12465, 12468, 12469, 12470, 12474, 12475, 12476, 12477, 12478, 12480, 12485, 12488, 12491, 12492, 12493, 12495, 12497, 12499, 12501, 12502, 12503, 12505, 12506, 12507, 12508, 12510, 12511, 12512, 12513, 12515, 12516, 12517, 12520, 12521, 12522, 12525, 12528, 12533, 12534, 12535, 12536, 12538, 12539, 12540, 12541, 12542, 12545, 12546, 12549, 12550, 12551, 12552, 12553, 12556, 12557, 12560, 12561, 12565, 12566, 12567, 12570, 12571, 12572, 12574, 12576, 12577, 12578, 12580, 12581, 12582, 12584, 12585, 12586, 12587, 12590, 12591, 12592, 12593, 12594, 12595, 12596, 12598, 12599, 12600, 12603, 12604, 12605, 12606, 12607, 12609, 12610, 12611, 12612, 12613, 12614, 12615, 12616, 12618, 12619, 12620, 12621, 12623, 12624, 12625, 12626, 12627, 12628, 12630, 12632, 12634, 12635, 12637, 12638, 12639, 12644, 12646, 12647, 12649, 12650, 12653, 12654, 12655, 12656, 12658, 12661, 12663, 12664, 12667, 12675, 12677, 12678, 12679, 12681, 12683, 12684, 12685, 12686, 12687, 12690, 12696, 12698, 12699, 12700, 12702, 12704, 12705, 12706, 12707, 12709, 12717, 12719, 12721, 12722, 12723, 12726, 12730, 12733, 12736, 12738, 12739, 12740, 12741, 12742, 12743, 12744, 12746, 12747, 12750, 12751, 12752, 12753, 12754, 12755, 12756, 12757, 12760, 12761, 12762, 12764, 12765, 12766, 12768, 12769, 12771, 12773, 12774, 12775, 12776, 12777, 12786, 12787, 12788, 12789, 12791, 12792, 12794, 12795, 12796, 12797, 12798, 12799, 12800, 12803, 12805, 12807, 12808, 12810, 12811, 12812, 12813, 12815, 12816, 12817, 12818, 12821, 12822, 12824, 12825, 12826, 12827, 12833, 12834, 12835, 12837, 12839, 12840, 12843, 12844, 12846, 12847, 12848, 12849, 12852, 12855, 12858, 12859, 12860, 12861, 12862, 12864, 12866, 12867, 12868, 12870, 12875, 12876, 12878, 12879, 12880, 12881, 12882, 12887, 12888, 12890, 12893, 12894, 12895, 12896, 12897, 12899, 12902, 12903, 12905, 12907, 12908, 12909, 12912, 12913, 12916, 12919, 12920, 12922, 12924, 12926, 12927, 12928, 12930, 12931, 12932, 12934, 12935, 12936, 12937, 12939, 12940, 12941, 12942, 12944, 12946, 12948, 12949, 12951, 12960, 12962, 12967, 12968, 12969, 12970, 12971, 12973, 12975, 12977, 12980, 12981, 12982, 12983, 12984, 12987, 12988, 12991, 12992, 12993, 12994, 12997, 12998, 12999, 13000, 13001, 13002, 13004, 13007, 13008, 13009, 13010, 13011, 13012, 13013, 13014, 13015, 13016, 13018, 13019, 13023, 13024, 13025, 13028, 13029, 13032, 13033, 13034, 13036, 13037, 13038, 13042, 13044, 13045, 13046, 13048, 13049, 13050, 13052, 13053, 13054, 13055, 13056, 13057, 13059, 13060, 13063, 13064, 13065, 13066, 13068, 13069, 13070, 13072, 13074, 13075, 13078, 13079, 13080, 13082, 13083, 13084, 13086, 13088, 13089, 13090, 13093, 13094, 13098, 13099, 13101, 13102, 13107, 13108, 13109, 13112, 13113, 13115, 13116, 13118, 13120, 13121, 13122, 13124, 13126, 13127, 13129, 13130, 13131, 13132, 13133, 13134, 13137, 13139, 13140, 13141, 13142, 13144, 13147, 13148, 13151, 13152, 13153, 13154, 13155, 13161, 13162, 13163, 13166, 13168, 13170, 13171, 13172, 13173, 13174, 13178, 13179, 13180, 13183, 13184, 13185, 13187, 13189, 13190, 13193, 13195, 13197, 13200, 13202, 13203, 13205, 13206, 13207, 13208, 13210, 13213, 13214, 13215, 13216, 13218, 13219, 13220, 13222, 13224, 13225, 13226, 13227, 13228, 13229, 13230, 13231, 13232, 13234, 13238, 13241, 13242, 13243, 13244, 13246, 13247, 13248, 13250, 13251, 13252, 13253, 13254, 13255, 13256, 13257, 13259, 13261, 13262, 13264, 13266, 13271, 13274, 13277, 13278, 13280, 13281, 13282, 13283, 13284, 13285, 13288, 13289, 13290, 13292, 13294, 13295, 13296, 13297, 13298, 13300, 13302, 13303, 13307, 13310, 13313, 13316, 13318, 13321, 13322, 13324, 13325, 13327, 13330, 13331, 13333, 13336, 13337, 13338, 13339, 13341, 13344, 13346, 13347, 13349, 13351, 13352, 13353, 13355, 13358, 13360, 13363, 13367, 13370, 13371, 13372, 13373, 13374, 13376, 13377, 13379, 13382, 13383, 13384, 13386, 13387, 13388, 13389, 13391, 13393, 13395, 13396, 13397, 13398, 13399, 13400, 13401, 13405, 13406, 13408, 13410, 13411, 13416, 13417, 13418, 13419, 13420, 13421, 13422, 13423, 13425, 13427, 13428, 13430, 13431, 13432, 13433, 13434, 13435, 13436, 13440, 13441, 13442, 13443, 13445, 13447, 13451, 13454, 13455, 13456, 13457, 13459, 13460, 13461, 13463, 13467, 13468, 13469, 13470, 13471, 13472, 13474, 13476, 13478, 13479, 13480, 13481, 13482, 13486, 13487, 13488, 13489, 13490, 13491, 13492, 13493, 13496, 13497, 13500, 13502, 13503, 13504, 13505, 13506, 13508, 13511, 13512, 13513, 13514, 13518, 13520, 13521, 13523, 13525, 13526, 13527, 13530, 13532, 13535, 13536, 13538, 13540, 13541, 13542, 13544, 13545, 13548, 13550, 13551, 13552, 13555, 13558, 13559, 13560, 13561, 13562, 13563, 13564, 13565, 13567, 13568, 13570, 13572, 13574, 13575, 13576, 13577, 13580, 13581, 13582, 13583, 13584, 13588, 13589, 13591, 13593, 13594, 13595, 13597, 13600, 13602, 13608, 13609, 13610, 13612, 13613, 13616, 13618, 13619, 13620, 13621, 13623, 13624, 13625, 13626, 13630, 13631, 13634, 13635, 13636, 13641, 13642, 13644, 13647, 13648, 13650, 13655, 13659, 13661, 13662, 13663, 13664, 13667, 13675, 13677, 13678, 13679, 13681, 13682, 13684, 13686, 13687, 13689, 13692, 13693, 13694, 13696, 13697, 13702, 13703, 13705, 13706, 13708, 13709, 13710, 13712, 13714, 13715, 13716, 13717, 13718, 13719, 13720, 13721, 13723, 13724, 13725, 13727, 13728, 13730, 13731, 13734, 13735, 13736, 13737, 13739, 13740, 13741, 13745, 13746, 13750, 13751, 13753, 13755, 13756, 13757, 13759, 13760, 13762, 13763, 13764, 13766, 13767, 13769, 13770, 13771, 13775, 13776, 13779, 13780, 13781, 13782, 13783, 13784, 13785, 13787, 13788, 13789, 13791, 13792, 13793, 13794, 13795, 13796, 13797, 13798, 13800, 13802, 13803, 13805, 13808, 13810, 13811, 13812, 13813, 13816, 13817, 13819, 13820, 13822, 13823, 13824, 13825, 13829, 13831, 13832, 13837, 13838, 13839, 13842, 13845, 13846, 13847, 13849, 13852, 13853, 13855, 13856, 13864, 13866, 13867, 13869, 13870, 13871, 13872, 13873, 13874, 13875, 13876, 13877, 13881, 13882, 13883, 13884, 13885, 13886, 13887, 13888, 13889, 13890, 13891, 13892, 13897, 13899, 13900, 13903, 13905, 13907, 13908, 13909, 13911, 13914, 13915, 13918, 13920, 13921, 13922, 13923, 13924, 13925, 13927, 13928, 13930, 13931, 13932, 13936, 13937, 13939, 13942, 13943, 13945, 13948, 13949, 13952, 13953, 13954, 13956, 13961, 13962, 13964, 13968, 13969, 13972, 13973, 13975, 13977, 13978, 13982, 13983, 13986, 13988, 13989, 13990, 13991, 13992, 13993, 13994, 13995, 13997, 13999, 14001, 14002, 14003, 14004, 14005, 14006, 14007, 14009, 14014, 14015, 14016, 14017, 14018, 14020, 14021, 14022, 14023, 14024, 14025, 14026, 14027, 14029, 14031, 14032, 14033, 14034, 14035, 14036, 14037, 14039, 14041, 14042, 14043, 14045, 14046, 14047, 14051, 14052, 14053, 14055, 14056, 14057, 14058, 14061, 14062, 14064, 14067, 14068, 14069, 14070, 14071, 14072, 14073, 14077, 14078, 14079, 14082, 14084, 14087, 14088, 14089, 14090, 14091, 14092, 14094, 14095, 14096, 14100, 14102, 14105, 14109, 14110, 14111, 14115, 14117, 14118, 14120, 14121, 14122, 14125, 14127, 14128, 14129, 14134, 14135, 14137, 14138, 14139, 14140, 14141, 14142, 14146, 14147, 14148, 14150, 14152, 14153, 14154, 14155, 14156, 14158, 14160, 14161, 14162, 14163, 14164, 14165, 14170, 14171, 14172, 14173, 14174, 14175, 14176, 14181, 14182, 14183, 14184, 14185, 14187, 14188, 14189, 14190, 14191, 14193, 14194, 14195, 14196, 14199, 14200, 14201, 14202, 14204, 14209, 14212, 14213, 14214, 14216, 14217, 14218, 14220, 14221, 14222, 14226, 14228, 14231, 14232, 14235, 14236, 14237, 14238, 14240, 14241, 14242, 14244, 14246, 14247, 14249, 14251, 14252, 14253, 14254, 14255, 14256, 14257, 14258, 14259, 14262, 14263, 14267, 14268, 14269, 14270, 14273, 14276, 14277, 14278, 14281, 14282, 14283, 14285, 14286, 14287, 14288, 14291, 14292, 14293, 14294, 14295, 14296, 14297, 14298, 14299, 14300, 14304, 14305, 14306, 14307, 14309, 14314, 14315, 14318, 14319, 14320, 14321, 14322, 14323, 14325, 14326, 14328, 14330, 14331, 14332, 14336, 14337, 14338, 14339, 14340, 14341, 14342, 14344, 14345, 14346, 14347, 14348, 14350, 14351, 14357, 14358, 14360, 14361, 14362, 14364, 14365, 14366, 14367, 14368, 14369, 14370, 14371, 14372, 14373, 14374, 14375, 14376, 14377, 14378, 14379, 14382, 14383, 14384, 14386, 14387, 14389, 14390, 14393, 14394, 14396, 14398, 14399, 14401, 14402, 14404, 14406, 14407, 14408, 14409, 14411, 14415, 14416, 14417, 14418, 14419, 14421, 14422, 14427, 14428, 14432, 14434, 14435, 14437, 14438, 14439, 14440, 14442, 14444, 14446, 14448, 14449, 14452, 14453, 14454, 14456, 14458, 14460, 14461, 14464, 14467, 14468, 14472, 14474, 14475, 14476, 14477, 14478, 14481, 14482, 14484, 14485, 14486, 14487, 14488, 14489, 14490, 14492, 14494, 14495, 14500, 14501, 14502, 14504, 14506, 14507, 14510, 14511, 14512, 14513, 14514, 14515, 14516, 14517, 14520, 14522, 14523, 14525, 14526, 14527, 14530, 14531, 14532, 14533, 14534, 14535, 14537, 14539, 14540, 14541, 14542, 14544, 14545, 14547, 14548, 14549, 14550, 14551, 14552, 14554, 14556, 14557, 14558, 14559, 14566, 14567, 14568, 14569, 14570, 14572, 14573, 14575, 14576, 14578, 14579, 14580, 14581, 14582, 14586, 14588, 14589, 14591, 14593, 14594, 14595, 14596, 14597, 14599, 14600, 14603, 14604, 14605, 14607, 14611, 14616, 14617, 14621, 14623, 14624, 14625, 14626, 14629, 14630, 14631, 14632, 14633, 14634, 14635, 14636, 14638, 14642, 14645, 14647, 14648, 14649, 14650, 14654, 14655, 14656, 14657, 14658, 14660, 14661, 14662, 14665, 14666, 14667, 14668, 14669, 14670, 14671, 14675, 14676, 14677, 14679, 14681, 14683, 14685, 14686, 14689, 14691, 14693, 14695, 14696, 14697, 14700, 14701, 14703, 14704, 14708, 14709, 14712, 14714, 14715, 14717, 14718, 14719, 14720, 14721, 14722, 14723, 14724, 14726, 14727, 14728, 14729, 14732, 14733, 14740, 14741, 14742, 14743, 14744, 14746, 14749, 14750, 14751, 14753, 14754, 14755, 14756, 14757, 14758, 14759, 14762, 14763, 14764, 14765, 14766, 14769, 14772, 14773, 14774, 14775, 14776, 14777, 14778, 14779, 14780, 14781, 14782, 14784, 14786, 14787, 14789, 14797, 14798, 14799, 14802, 14803, 14804, 14809, 14810, 14812, 14813, 14815, 14821, 14824, 14826, 14827, 14828, 14830, 14833, 14838, 14839, 14840, 14842, 14846, 14848, 14849, 14850, 14851, 14852, 14854, 14855, 14856, 14859, 14861, 14862, 14863, 14867, 14869, 14871, 14872, 14873, 14874, 14875, 14876, 14877, 14878, 14879, 14880, 14881, 14882, 14883, 14884, 14886, 14888, 14889, 14890, 14891, 14892, 14895, 14896, 14898, 14899, 14901, 14902, 14903, 14904, 14908, 14909, 14910, 14915, 14916, 14917, 14918, 14919, 14920, 14921, 14923, 14924, 14925, 14926, 14929, 14931, 14932, 14934, 14938, 14939, 14940, 14941, 14942, 14943, 14944, 14945, 14946, 14949, 14950, 14952, 14953, 14955, 14956, 14959, 14963, 14967, 14969, 14970, 14971, 14972, 14973, 14974, 14975, 14976, 14981, 14982, 14984, 14985, 14986, 14988, 14989, 14994, 14997, 14998, 15001, 15002, 15005, 15006, 15007, 15008, 15009, 15012, 15013, 15017, 15018, 15019, 15021, 15022, 15023, 15024, 15025, 15028, 15029, 15030, 15031, 15032, 15033, 15034, 15035, 15036, 15038, 15039, 15040, 15041, 15043, 15048, 15050, 15052, 15057, 15058, 15060, 15061, 15063, 15064, 15065, 15068, 15072, 15073, 15076, 15077, 15078, 15079, 15080, 15082, 15084, 15086, 15090, 15093, 15094, 15095, 15098, 15102, 15104, 15107, 15110, 15113, 15115, 15116, 15117, 15118, 15119, 15121, 15122, 15123, 15126, 15127, 15128, 15129, 15130, 15132, 15133, 15134, 15135, 15137, 15138, 15141, 15143, 15144, 15147, 15148, 15149, 15150, 15151, 15152, 15155, 15159, 15162, 15163, 15165, 15166, 15168, 15169, 15170, 15173, 15174, 15175, 15181, 15182, 15186, 15190, 15193, 15194, 15195, 15198, 15200, 15204, 15206, 15208, 15209, 15214, 15215, 15216, 15217, 15218, 15220, 15222, 15223, 15224, 15225, 15226, 15227, 15228, 15231, 15232, 15233, 15234, 15236, 15237, 15238, 15240, 15248, 15249, 15252, 15253, 15255, 15256, 15257, 15258, 15265, 15266, 15267, 15269, 15270, 15271, 15272, 15273, 15274, 15277, 15280, 15281, 15282, 15283, 15284, 15287, 15288, 15290, 15293, 15294, 15296, 15297, 15298, 15299, 15300, 15303, 15306, 15309, 15310, 15314, 15316, 15319, 15320, 15321, 15322, 15323, 15324, 15325, 15328, 15330, 15331, 15332, 15333, 15335, 15336, 15337, 15338, 15339, 15340, 15341, 15343, 15344, 15345, 15346, 15347, 15348, 15349, 15350, 15352, 15353, 15354, 15355, 15356, 15357, 15358, 15359, 15362, 15365, 15367, 15368, 15370, 15371, 15372, 15374, 15375, 15376, 15381, 15383, 15384, 15385, 15388, 15391, 15392, 15393, 15394, 15395, 15396, 15397, 15401, 15402, 15403, 15407, 15408, 15412, 15413, 15414, 15415, 15417, 15419, 15420, 15421, 15422, 15427, 15428, 15431, 15432, 15438, 15439, 15440, 15442, 15443, 15444, 15446, 15447, 15448, 15452, 15453, 15454, 15455, 15456, 15457, 15459, 15460, 15461, 15462, 15464, 15465, 15466, 15467, 15468, 15469, 15471, 15472, 15473, 15475, 15476, 15479, 15480, 15481, 15482, 15484, 15485, 15488, 15489, 15491, 15492, 15493, 15495, 15496, 15497, 15499, 15500, 15504, 15505, 15507, 15508, 15510, 15511, 15512, 15513, 15514, 15516, 15517, 15518, 15519, 15520, 15523, 15525, 15527, 15528, 15529, 15532, 15536, 15537, 15538, 15539, 15542, 15543, 15544, 15545, 15549, 15551, 15552, 15555, 15557, 15558, 15560, 15561, 15563, 15564, 15567, 15568, 15569, 15571, 15572, 15574, 15575, 15576, 15577, 15578, 15580, 15582, 15583, 15585, 15587, 15589, 15591, 15592, 15595, 15596, 15597, 15598, 15599, 15601, 15602, 15603, 15604, 15605, 15606, 15607, 15609, 15612, 15614, 15615, 15616, 15617, 15620, 15621, 15623, 15624, 15625, 15626, 15627, 15628, 15629, 15633, 15635, 15637, 15638, 15639, 15640, 15641, 15642, 15643, 15646, 15647, 15653, 15655, 15659, 15660, 15661, 15663, 15664, 15665, 15667, 15669, 15670, 15671, 15672, 15674, 15676, 15678, 15679, 15680, 15681, 15682, 15683, 15686, 15689, 15690, 15691, 15693, 15694, 15695, 15697, 15698, 15699, 15700, 15701, 15703, 15704, 15705, 15706, 15708, 15709, 15710, 15712, 15714, 15715, 15717, 15718, 15722, 15726, 15727, 15729, 15730, 15731, 15733, 15735, 15737, 15739, 15740, 15741, 15743, 15744, 15747, 15748, 15750, 15752, 15756, 15761, 15762, 15763, 15764, 15765, 15767, 15769, 15776, 15778, 15780, 15781, 15782, 15784, 15785, 15787, 15788, 15789, 15790, 15791, 15792, 15794, 15795, 15796, 15797, 15799, 15800, 15801, 15803, 15804, 15810, 15812, 15815, 15816, 15817, 15823, 15824, 15826, 15828, 15830, 15832, 15835, 15836, 15837, 15838, 15840, 15843, 15844, 15845, 15846, 15849, 15851, 15853, 15858, 15859, 15860, 15862, 15863, 15869, 15870, 15873, 15874, 15877, 15879, 15880, 15881, 15882, 15883, 15884, 15887, 15891, 15893, 15896, 15897, 15898, 15900, 15901, 15903, 15904, 15905, 15906, 15912, 15913, 15914, 15915, 15916, 15917, 15918, 15919, 15920, 15922, 15923, 15925, 15928, 15932, 15934, 15935, 15936, 15938, 15939, 15940, 15942, 15945, 15946, 15948, 15950, 15951, 15952, 15954, 15955, 15957, 15958, 15959, 15960, 15963, 15966, 15968, 15971, 15972, 15973, 15975, 15977, 15978, 15980, 15982, 15984, 15986, 15989, 15990, 15991, 15992, 15993, 15995, 15996, 15997, 15998, 15999, 16001, 16002, 16003, 16004, 16005, 16006, 16009, 16010, 16011, 16014, 16016, 16019, 16021, 16022, 16025, 16026, 16028, 16032, 16033, 16034, 16035, 16038, 16039, 16040, 16041, 16043, 16044, 16047, 16048, 16049, 16050, 16053, 16054, 16055, 16056, 16058, 16059, 16060, 16061, 16062, 16064, 16067, 16069, 16073, 16074, 16075, 16077, 16078, 16079, 16080, 16082, 16084, 16085, 16087, 16089, 16090, 16091, 16093, 16094, 16096, 16099, 16100, 16102, 16105, 16106, 16109, 16110, 16113, 16114, 16118, 16119, 16120, 16121, 16122, 16124, 16126, 16127, 16129, 16130, 16137, 16138, 16140, 16141, 16142, 16143, 16144, 16145, 16149, 16150, 16152, 16153, 16154, 16155, 16156, 16157, 16159, 16160, 16161, 16162, 16163, 16164, 16165, 16170, 16172, 16173, 16174, 16183, 16185, 16186, 16187, 16188, 16189, 16190, 16192, 16193, 16194, 16195, 16196, 16197, 16198, 16199, 16200, 16201, 16203, 16204, 16206, 16208, 16209, 16210, 16211, 16214, 16215, 16216, 16217, 16218, 16219, 16220, 16221, 16224, 16226, 16228, 16229, 16230, 16231, 16233, 16236, 16237, 16238, 16239, 16240, 16241, 16242, 16243, 16244, 16246, 16248, 16251, 16252, 16254, 16255, 16257, 16258, 16259, 16261, 16264, 16265, 16266, 16267, 16268, 16269, 16270, 16271, 16272, 16273, 16276, 16277, 16279, 16280, 16283, 16284, 16285, 16286, 16288, 16289, 16290, 16294, 16295, 16297, 16298, 16300, 16301, 16302, 16304, 16307, 16310, 16311, 16312, 16313, 16314, 16317, 16322, 16323, 16324, 16325, 16326, 16328, 16331, 16332, 16334, 16335, 16336, 16337, 16338, 16339, 16340, 16342, 16343, 16344, 16345, 16346, 16347, 16349, 16352, 16355, 16358, 16359, 16360, 16361, 16362, 16364, 16365, 16366, 16369, 16370, 16372, 16374, 16375, 16376, 16377, 16381, 16384, 16385, 16386, 16387, 16390, 16391, 16393, 16395, 16396, 16397, 16398, 16399, 16400, 16403, 16404, 16406, 16408, 16409, 16410, 16412, 16413, 16415, 16416, 16417, 16418, 16420, 16421, 16422, 16423, 16424, 16425, 16426, 16427, 16428, 16429, 16433, 16435, 16439, 16441, 16443, 16445, 16449, 16451, 16452, 16453, 16454, 16460, 16461, 16462, 16463, 16465, 16466, 16472, 16474, 16475, 16476, 16477, 16478, 16479, 16480, 16481, 16482, 16483, 16485, 16486, 16487, 16492, 16493, 16494, 16496, 16498, 16499, 16500, 16501, 16508, 16509, 16510, 16511, 16512, 16513, 16514, 16515, 16516, 16517, 16519, 16520, 16521, 16523, 16524, 16525, 16526, 16527, 16529, 16531, 16532, 16536, 16537, 16538, 16539, 16540, 16541, 16543, 16546, 16547, 16549, 16550, 16552, 16553, 16559, 16560, 16561, 16565, 16566, 16567, 16568, 16570, 16572, 16573, 16574, 16575, 16577, 16578, 16583, 16584, 16585, 16586, 16587, 16588, 16589, 16591, 16594, 16596, 16597, 16599, 16601, 16602, 16603, 16604, 16605, 16606, 16608, 16611, 16613, 16614, 16616, 16619, 16623, 16624, 16626, 16627, 16628, 16629, 16630, 16631, 16632, 16635, 16636, 16637, 16639, 16646, 16647, 16649, 16650, 16651, 16652, 16655, 16657, 16658, 16659, 16660, 16661, 16662, 16663, 16664, 16665, 16666, 16669, 16671, 16673, 16674, 16675, 16677, 16678, 16680, 16681, 16683, 16684, 16685, 16687, 16691, 16693, 16694, 16695, 16696, 16697, 16699, 16700, 16701, 16702, 16704, 16706, 16707, 16708, 16709, 16710, 16711, 16712, 16714, 16715, 16716, 16717, 16718, 16720, 16721, 16722, 16723, 16724, 16727, 16728, 16729, 16730, 16733, 16734, 16735, 16736, 16737, 16740, 16741, 16743, 16744, 16745, 16746, 16748, 16749, 16750, 16751, 16752, 16753, 16755, 16756, 16759, 16760, 16761, 16767, 16769, 16772, 16773, 16774, 16776, 16777, 16778, 16779, 16780, 16781, 16782, 16783, 16784, 16786, 16787, 16788, 16789, 16790, 16792, 16794, 16797, 16799, 16801, 16802, 16803, 16804, 16805, 16806, 16807, 16808, 16810, 16812, 16813, 16815, 16819, 16820, 16821, 16822, 16823, 16825, 16826, 16827, 16829, 16830, 16831, 16833, 16837, 16839, 16840, 16841, 16843, 16845, 16846, 16848, 16849, 16850, 16852, 16856, 16857, 16858, 16860, 16861, 16866, 16867, 16869, 16870, 16873, 16874, 16876, 16879, 16881, 16882, 16884, 16885, 16889, 16890, 16891, 16893, 16894, 16895, 16896, 16897, 16898, 16901, 16903, 16904, 16907, 16909, 16911, 16912, 16917, 16918, 16919, 16920, 16921, 16924, 16925, 16926, 16928, 16930, 16932, 16933, 16934, 16935, 16937, 16939, 16945, 16946, 16947, 16948, 16949, 16951, 16952, 16956, 16957, 16958, 16959, 16963, 16964, 16966, 16968, 16972, 16973, 16977, 16978, 16979, 16983, 16984, 16985, 16987, 16990, 16991, 16992, 16995, 16996, 16997, 16999, 17002, 17006, 17008, 17009, 17010, 17012, 17013, 17014, 17015, 17017, 17018, 17019, 17022, 17023, 17024, 17027, 17033, 17034, 17038, 17039, 17040, 17041, 17043, 17045, 17047, 17048, 17051, 17052, 17054, 17055, 17057, 17059, 17060, 17061, 17067, 17068, 17069, 17070, 17071, 17072, 17075, 17076, 17077, 17078, 17079, 17081, 17085, 17086, 17087, 17090, 17092, 17093, 17094, 17096, 17097, 17098, 17099, 17101, 17104, 17105, 17106, 17108, 17111, 17112, 17114, 17115, 17116, 17117, 17119, 17121, 17122, 17123, 17125, 17126, 17127, 17129, 17130, 17131, 17132, 17136, 17137, 17138, 17140, 17141, 17142, 17143, 17144, 17148, 17149, 17150, 17151, 17152, 17153, 17154, 17156, 17157, 17159, 17166, 17168, 17169, 17171, 17172, 17174, 17176, 17177, 17179, 17180, 17181, 17183, 17184, 17185, 17186, 17187, 17188, 17190, 17192, 17195, 17196, 17199, 17200, 17201, 17206, 17207, 17209, 17211, 17212, 17213, 17215, 17216, 17217, 17219, 17223, 17224, 17225, 17226, 17229, 17230, 17231, 17232, 17233, 17234, 17235, 17238, 17241, 17243, 17244, 17247, 17248, 17250, 17251, 17252, 17253, 17256, 17257, 17259, 17260, 17261, 17262, 17265, 17267, 17268, 17269, 17270, 17271, 17272, 17274, 17276, 17277, 17279, 17280, 17283, 17284, 17286, 17287, 17288, 17289, 17292, 17293, 17294, 17296, 17298, 17299, 17304, 17307, 17309, 17310, 17311, 17313, 17314, 17315, 17316, 17317, 17320, 17321, 17322, 17323, 17325, 17332, 17334, 17336, 17337, 17340, 17341, 17342, 17343, 17344, 17345, 17347, 17350, 17351, 17352, 17355, 17356, 17357, 17359, 17361, 17362, 17363, 17364, 17365, 17366, 17367, 17368, 17369, 17370, 17371, 17374, 17375, 17376, 17378, 17379, 17380, 17382, 17383, 17384, 17385, 17387, 17388, 17391, 17392, 17395, 17396, 17397, 17398, 17400, 17401, 17402, 17404, 17406, 17407, 17408, 17409, 17410, 17411, 17412, 17413, 17414, 17415, 17416, 17417, 17423, 17424, 17427, 17428, 17429, 17430, 17432, 17433, 17435, 17439, 17440, 17441, 17442, 17443, 17444, 17447, 17448, 17450, 17451, 17452, 17454, 17457, 17458, 17459, 17460, 17461, 17462, 17464, 17465, 17466, 17467, 17468, 17471, 17473, 17475, 17476, 17478, 17480, 17482, 17483, 17484, 17486, 17488, 17489, 17493, 17494, 17495, 17497, 17500, 17501, 17502, 17504, 17505, 17507, 17508, 17510, 17514, 17515, 17518, 17521, 17522, 17524, 17528, 17535, 17536, 17537, 17543, 17544, 17545, 17546, 17549, 17550, 17551, 17556, 17557, 17558, 17559, 17560, 17562, 17563, 17568, 17569, 17570, 17571, 17572, 17574, 17576, 17578, 17580, 17583, 17585, 17587, 17589, 17590, 17591, 17592, 17595, 17597, 17598, 17599, 17600, 17601, 17602, 17604, 17606, 17607, 17608, 17609, 17610, 17612, 17613, 17618, 17619, 17622, 17624, 17627, 17628, 17630, 17634, 17636, 17644, 17645, 17647, 17648, 17649, 17650, 17652, 17653, 17656, 17658, 17659, 17661, 17662, 17663, 17664, 17666, 17667, 17668, 17669, 17671, 17672, 17673, 17674, 17677, 17679, 17680, 17682, 17683, 17685, 17687, 17688, 17689, 17691, 17693, 17695, 17698, 17699, 17700, 17702, 17703, 17704, 17706, 17707, 17708, 17713, 17714, 17716, 17718, 17720, 17723, 17725, 17728, 17730, 17731, 17733, 17734, 17736, 17737, 17739, 17740, 17741, 17743, 17744, 17745, 17746, 17747, 17748, 17749, 17750, 17751, 17752, 17753, 17754, 17755, 17756, 17758, 17759, 17761, 17762, 17763, 17766, 17768, 17769, 17770, 17771, 17772, 17773, 17775, 17777, 17779, 17783, 17784, 17785, 17786, 17787, 17788, 17790, 17791, 17792, 17793, 17794, 17795, 17797, 17801, 17803, 17804, 17805, 17809, 17812, 17813, 17814, 17815, 17816, 17818, 17819, 17822, 17823, 17827, 17828, 17829, 17830, 17832, 17836, 17838, 17839, 17840, 17841, 17845, 17846, 17847, 17848, 17851, 17853, 17854, 17856, 17858, 17859, 17862, 17863, 17864, 17865, 17866, 17867, 17868, 17869, 17870, 17871, 17872, 17873, 17874, 17875, 17877, 17880, 17883, 17884, 17886, 17887, 17889, 17890, 17896, 17900, 17901, 17902, 17903, 17906, 17907, 17909, 17910, 17912, 17913, 17914, 17915, 17916, 17917, 17918, 17919, 17921, 17922, 17923, 17924, 17925, 17926, 17927, 17929, 17930, 17932, 17934, 17935, 17936, 17937, 17938, 17939, 17941, 17942, 17943, 17948, 17949, 17950, 17952, 17954, 17955, 17956, 17957, 17958, 17960, 17961, 17962, 17963, 17966, 17968, 17969, 17973, 17976, 17977, 17978, 17979, 17980, 17981, 17983, 17985, 17986, 17988, 17989, 17991, 17992, 17993, 17995, 17999, 18002, 18003, 18004, 18007, 18008, 18010, 18011, 18012, 18014, 18016, 18017, 18019, 18022, 18023, 18025, 18026, 18027, 18028, 18030, 18032, 18033, 18034, 18035, 18036, 18037, 18039, 18041, 18043, 18044, 18047, 18051, 18054, 18055, 18056, 18057, 18060, 18064, 18065, 18066, 18067, 18071, 18072, 18073, 18074, 18076, 18077, 18080, 18082, 18084, 18085, 18087, 18088, 18090, 18091, 18092, 18093, 18094, 18095, 18097, 18098, 18099, 18100, 18101, 18104, 18108, 18109, 18111, 18112, 18116, 18118, 18119, 18120, 18121, 18123, 18125, 18127, 18130, 18131, 18132, 18133, 18134, 18137, 18138, 18141, 18144, 18145, 18146, 18147, 18150, 18152, 18156, 18158, 18159, 18160, 18161, 18163, 18165, 18169, 18172, 18179, 18180, 18181, 18182, 18183, 18184, 18185, 18186, 18187, 18188, 18189, 18191, 18194, 18195, 18197, 18198, 18199, 18200, 18205, 18206, 18208, 18210, 18211, 18214, 18216, 18218, 18219, 18220, 18222, 18225, 18226, 18227, 18228, 18229, 18231, 18232, 18233, 18234, 18237, 18238, 18246, 18247, 18248, 18250, 18252, 18253, 18254, 18255, 18256, 18257, 18258, 18261, 18263, 18264, 18265, 18267, 18268, 18269, 18272, 18273, 18274, 18275, 18276, 18277, 18278, 18279, 18282, 18285, 18287, 18288, 18289, 18290, 18291, 18292, 18294, 18297, 18299, 18300, 18302, 18303, 18304, 18305, 18308, 18309, 18311, 18313, 18317, 18319, 18321, 18322, 18323, 18324, 18325, 18326, 18328, 18330, 18331, 18332, 18333, 18335, 18336, 18338, 18341, 18342, 18345, 18346, 18347, 18348, 18350, 18351, 18355, 18356, 18357, 18358, 18360, 18363, 18364, 18365, 18367, 18368, 18369, 18370, 18372, 18373}, slice(None, None, None))' is an invalid key",
     "output_type": "error",
     "traceback": [
      "\u001b[0;31m---------------------------------------------------------------------------\u001b[0m",
      "\u001b[0;31mTypeError\u001b[0m                                 Traceback (most recent call last)",
      "\u001b[0;32m/tmp/ipykernel_8897/2790075170.py\u001b[0m in \u001b[0;36m<module>\u001b[0;34m\u001b[0m\n\u001b[1;32m      1\u001b[0m \u001b[0;31m# storing the reshaped data in X_train_bis based on the 'to_keep' variable containing the sample to be kept\u001b[0m\u001b[0;34m\u001b[0m\u001b[0;34m\u001b[0m\u001b[0m\n\u001b[0;32m----> 2\u001b[0;31m \u001b[0mX_train_bis\u001b[0m \u001b[0;34m=\u001b[0m \u001b[0mX_train\u001b[0m\u001b[0;34m[\u001b[0m\u001b[0mto_keep\u001b[0m\u001b[0;34m,\u001b[0m\u001b[0;34m:\u001b[0m\u001b[0;34m]\u001b[0m\u001b[0;34m\u001b[0m\u001b[0;34m\u001b[0m\u001b[0m\n\u001b[0m\u001b[1;32m      3\u001b[0m \u001b[0;31m#X_train_bis = X_train[list(to_keep),:]\u001b[0m\u001b[0;34m\u001b[0m\u001b[0;34m\u001b[0m\u001b[0m\n",
      "\u001b[0;32m~/.pyenv/versions/3.9.7/envs/artefact/lib/python3.9/site-packages/pandas/core/frame.py\u001b[0m in \u001b[0;36m__getitem__\u001b[0;34m(self, key)\u001b[0m\n\u001b[1;32m   3456\u001b[0m             \u001b[0;32mif\u001b[0m \u001b[0mself\u001b[0m\u001b[0;34m.\u001b[0m\u001b[0mcolumns\u001b[0m\u001b[0;34m.\u001b[0m\u001b[0mnlevels\u001b[0m \u001b[0;34m>\u001b[0m \u001b[0;36m1\u001b[0m\u001b[0;34m:\u001b[0m\u001b[0;34m\u001b[0m\u001b[0;34m\u001b[0m\u001b[0m\n\u001b[1;32m   3457\u001b[0m                 \u001b[0;32mreturn\u001b[0m \u001b[0mself\u001b[0m\u001b[0;34m.\u001b[0m\u001b[0m_getitem_multilevel\u001b[0m\u001b[0;34m(\u001b[0m\u001b[0mkey\u001b[0m\u001b[0;34m)\u001b[0m\u001b[0;34m\u001b[0m\u001b[0;34m\u001b[0m\u001b[0m\n\u001b[0;32m-> 3458\u001b[0;31m             \u001b[0mindexer\u001b[0m \u001b[0;34m=\u001b[0m \u001b[0mself\u001b[0m\u001b[0;34m.\u001b[0m\u001b[0mcolumns\u001b[0m\u001b[0;34m.\u001b[0m\u001b[0mget_loc\u001b[0m\u001b[0;34m(\u001b[0m\u001b[0mkey\u001b[0m\u001b[0;34m)\u001b[0m\u001b[0;34m\u001b[0m\u001b[0;34m\u001b[0m\u001b[0m\n\u001b[0m\u001b[1;32m   3459\u001b[0m             \u001b[0;32mif\u001b[0m \u001b[0mis_integer\u001b[0m\u001b[0;34m(\u001b[0m\u001b[0mindexer\u001b[0m\u001b[0;34m)\u001b[0m\u001b[0;34m:\u001b[0m\u001b[0;34m\u001b[0m\u001b[0;34m\u001b[0m\u001b[0m\n\u001b[1;32m   3460\u001b[0m                 \u001b[0mindexer\u001b[0m \u001b[0;34m=\u001b[0m \u001b[0;34m[\u001b[0m\u001b[0mindexer\u001b[0m\u001b[0;34m]\u001b[0m\u001b[0;34m\u001b[0m\u001b[0;34m\u001b[0m\u001b[0m\n",
      "\u001b[0;32m~/.pyenv/versions/3.9.7/envs/artefact/lib/python3.9/site-packages/pandas/core/indexes/base.py\u001b[0m in \u001b[0;36mget_loc\u001b[0;34m(self, key, method, tolerance)\u001b[0m\n\u001b[1;32m   3359\u001b[0m             \u001b[0mcasted_key\u001b[0m \u001b[0;34m=\u001b[0m \u001b[0mself\u001b[0m\u001b[0;34m.\u001b[0m\u001b[0m_maybe_cast_indexer\u001b[0m\u001b[0;34m(\u001b[0m\u001b[0mkey\u001b[0m\u001b[0;34m)\u001b[0m\u001b[0;34m\u001b[0m\u001b[0;34m\u001b[0m\u001b[0m\n\u001b[1;32m   3360\u001b[0m             \u001b[0;32mtry\u001b[0m\u001b[0;34m:\u001b[0m\u001b[0;34m\u001b[0m\u001b[0;34m\u001b[0m\u001b[0m\n\u001b[0;32m-> 3361\u001b[0;31m                 \u001b[0;32mreturn\u001b[0m \u001b[0mself\u001b[0m\u001b[0;34m.\u001b[0m\u001b[0m_engine\u001b[0m\u001b[0;34m.\u001b[0m\u001b[0mget_loc\u001b[0m\u001b[0;34m(\u001b[0m\u001b[0mcasted_key\u001b[0m\u001b[0;34m)\u001b[0m\u001b[0;34m\u001b[0m\u001b[0;34m\u001b[0m\u001b[0m\n\u001b[0m\u001b[1;32m   3362\u001b[0m             \u001b[0;32mexcept\u001b[0m \u001b[0mKeyError\u001b[0m \u001b[0;32mas\u001b[0m \u001b[0merr\u001b[0m\u001b[0;34m:\u001b[0m\u001b[0;34m\u001b[0m\u001b[0;34m\u001b[0m\u001b[0m\n\u001b[1;32m   3363\u001b[0m                 \u001b[0;32mraise\u001b[0m \u001b[0mKeyError\u001b[0m\u001b[0;34m(\u001b[0m\u001b[0mkey\u001b[0m\u001b[0;34m)\u001b[0m \u001b[0;32mfrom\u001b[0m \u001b[0merr\u001b[0m\u001b[0;34m\u001b[0m\u001b[0;34m\u001b[0m\u001b[0m\n",
      "\u001b[0;32m~/.pyenv/versions/3.9.7/envs/artefact/lib/python3.9/site-packages/pandas/_libs/index.pyx\u001b[0m in \u001b[0;36mpandas._libs.index.IndexEngine.get_loc\u001b[0;34m()\u001b[0m\n",
      "\u001b[0;32m~/.pyenv/versions/3.9.7/envs/artefact/lib/python3.9/site-packages/pandas/_libs/index.pyx\u001b[0m in \u001b[0;36mpandas._libs.index.IndexEngine.get_loc\u001b[0;34m()\u001b[0m\n",
      "\u001b[0;31mTypeError\u001b[0m: '({0, 1, 3, 4, 5, 7, 8, 10, 11, 13, 14, 16, 17, 19, 22, 24, 26, 31, 32, 33, 34, 36, 37, 38, 40, 42, 50, 51, 52, 53, 54, 56, 58, 59, 60, 62, 63, 65, 66, 69, 70, 72, 74, 75, 77, 81, 82, 86, 88, 89, 90, 91, 92, 94, 99, 101, 102, 103, 105, 106, 110, 111, 112, 113, 114, 116, 117, 118, 119, 120, 122, 125, 127, 128, 131, 132, 134, 135, 137, 139, 140, 141, 142, 144, 145, 146, 147, 148, 150, 151, 152, 153, 157, 158, 159, 160, 162, 164, 167, 168, 169, 171, 173, 175, 177, 178, 179, 183, 184, 186, 188, 189, 190, 191, 192, 197, 202, 204, 205, 206, 207, 209, 210, 211, 212, 214, 216, 217, 222, 223, 224, 225, 227, 228, 229, 230, 231, 232, 233, 234, 236, 237, 238, 239, 240, 243, 244, 246, 248, 249, 251, 253, 254, 256, 257, 258, 262, 263, 266, 267, 269, 270, 271, 272, 274, 279, 284, 285, 286, 288, 289, 290, 292, 294, 295, 296, 297, 298, 299, 300, 304, 305, 307, 311, 312, 315, 316, 317, 318, 319, 321, 325, 326, 327, 328, 329, 330, 331, 332, 333, 336, 337, 339, 340, 344, 345, 347, 348, 349, 350, 352, 353, 354, 356, 357, 358, 359, 360, 361, 362, 363, 365, 366, 367, 369, 370, 374, 375, 376, 377, 380, 381, 382, 383, 385, 386, 389, 390, 391, 392, 393, 395, 396, 397, 398, 399, 400, 401, 404, 405, 406, 407, 408, 409, 411, 412, 413, 415, 416, 417, 419, 420, 422, 424, 425, 428, 436, 438, 439, 440, 441, 442, 443, 445, 448, 449, 450, 452, 455, 458, 459, 460, 462, 463, 464, 466, 468, 469, 471, 472, 479, 480, 482, 484, 486, 487, 488, 489, 490, 491, 492, 493, 495, 496, 497, 499, 504, 505, 506, 511, 518, 519, 520, 521, 522, 523, 526, 527, 529, 531, 532, 533, 535, 536, 537, 538, 539, 540, 543, 544, 545, 546, 547, 548, 550, 551, 552, 553, 554, 556, 558, 559, 561, 562, 564, 566, 567, 571, 578, 579, 581, 582, 583, 584, 588, 589, 590, 591, 592, 593, 596, 598, 602, 603, 604, 605, 606, 607, 608, 609, 610, 611, 614, 616, 618, 619, 620, 624, 626, 628, 629, 630, 634, 637, 638, 640, 642, 646, 648, 649, 650, 651, 654, 655, 656, 657, 658, 661, 663, 664, 665, 667, 668, 669, 670, 671, 674, 675, 676, 677, 678, 681, 683, 684, 686, 688, 689, 690, 692, 693, 694, 700, 704, 706, 707, 708, 709, 710, 712, 713, 714, 715, 716, 718, 719, 720, 722, 724, 725, 726, 729, 730, 732, 733, 736, 737, 741, 742, 745, 747, 748, 751, 752, 756, 757, 758, 759, 760, 761, 762, 763, 765, 766, 769, 771, 774, 776, 777, 778, 780, 782, 786, 787, 788, 789, 790, 791, 792, 793, 794, 795, 796, 797, 800, 801, 802, 803, 807, 808, 809, 810, 811, 816, 821, 822, 823, 824, 825, 826, 827, 828, 830, 831, 832, 833, 835, 836, 837, 839, 840, 841, 842, 847, 849, 852, 853, 855, 856, 861, 864, 865, 866, 868, 869, 871, 874, 875, 877, 878, 879, 880, 881, 882, 883, 884, 885, 886, 887, 888, 889, 891, 898, 899, 900, 901, 902, 903, 904, 905, 907, 908, 909, 911, 912, 913, 914, 915, 916, 918, 919, 920, 921, 922, 924, 925, 926, 927, 928, 929, 931, 935, 936, 937, 940, 941, 942, 943, 944, 947, 951, 953, 955, 956, 960, 963, 965, 967, 968, 969, 970, 971, 973, 974, 975, 976, 978, 979, 980, 982, 984, 986, 989, 990, 991, 992, 994, 996, 997, 998, 1002, 1003, 1004, 1005, 1006, 1008, 1009, 1011, 1012, 1013, 1016, 1017, 1018, 1019, 1022, 1024, 1025, 1026, 1027, 1030, 1031, 1034, 1036, 1037, 1038, 1039, 1040, 1041, 1042, 1044, 1046, 1047, 1048, 1049, 1051, 1052, 1053, 1055, 1056, 1058, 1059, 1061, 1064, 1065, 1067, 1068, 1072, 1073, 1075, 1076, 1078, 1079, 1080, 1081, 1082, 1083, 1085, 1086, 1089, 1090, 1091, 1092, 1099, 1100, 1101, 1102, 1103, 1107, 1108, 1109, 1110, 1114, 1116, 1118, 1119, 1120, 1121, 1122, 1123, 1124, 1125, 1126, 1127, 1128, 1129, 1130, 1131, 1132, 1133, 1134, 1135, 1136, 1137, 1139, 1140, 1141, 1142, 1143, 1145, 1146, 1148, 1149, 1150, 1151, 1152, 1153, 1154, 1155, 1156, 1157, 1159, 1160, 1161, 1162, 1165, 1166, 1167, 1168, 1170, 1172, 1173, 1174, 1175, 1177, 1178, 1180, 1181, 1183, 1189, 1190, 1191, 1192, 1193, 1196, 1197, 1198, 1199, 1200, 1201, 1202, 1204, 1205, 1207, 1208, 1213, 1215, 1216, 1217, 1221, 1222, 1224, 1229, 1231, 1232, 1233, 1234, 1235, 1236, 1237, 1238, 1239, 1240, 1241, 1242, 1244, 1246, 1247, 1249, 1250, 1251, 1253, 1255, 1257, 1260, 1261, 1264, 1266, 1267, 1271, 1272, 1275, 1278, 1279, 1280, 1282, 1284, 1285, 1287, 1288, 1289, 1290, 1291, 1294, 1296, 1297, 1298, 1299, 1300, 1301, 1302, 1303, 1304, 1307, 1308, 1309, 1311, 1312, 1313, 1316, 1320, 1321, 1327, 1332, 1335, 1337, 1340, 1341, 1343, 1344, 1345, 1349, 1351, 1352, 1353, 1354, 1356, 1359, 1360, 1361, 1364, 1365, 1366, 1367, 1368, 1370, 1373, 1375, 1376, 1377, 1378, 1379, 1381, 1382, 1387, 1388, 1390, 1391, 1393, 1394, 1395, 1396, 1397, 1398, 1400, 1402, 1403, 1404, 1405, 1408, 1409, 1410, 1411, 1412, 1414, 1415, 1416, 1418, 1419, 1420, 1421, 1423, 1425, 1427, 1429, 1430, 1432, 1435, 1439, 1441, 1442, 1444, 1445, 1446, 1447, 1448, 1449, 1450, 1451, 1452, 1454, 1455, 1456, 1457, 1460, 1461, 1462, 1464, 1466, 1469, 1470, 1473, 1474, 1475, 1476, 1477, 1478, 1479, 1480, 1482, 1484, 1486, 1487, 1488, 1491, 1492, 1493, 1495, 1498, 1501, 1502, 1503, 1504, 1506, 1507, 1508, 1509, 1510, 1512, 1513, 1514, 1517, 1520, 1521, 1525, 1526, 1527, 1529, 1532, 1536, 1538, 1539, 1540, 1541, 1542, 1544, 1545, 1548, 1549, 1550, 1551, 1552, 1553, 1556, 1561, 1562, 1564, 1566, 1567, 1569, 1571, 1572, 1576, 1577, 1578, 1579, 1580, 1581, 1584, 1585, 1586, 1587, 1588, 1589, 1590, 1591, 1593, 1594, 1595, 1598, 1599, 1600, 1601, 1604, 1605, 1607, 1608, 1609, 1610, 1611, 1613, 1616, 1618, 1619, 1621, 1622, 1624, 1625, 1626, 1627, 1628, 1630, 1631, 1632, 1633, 1634, 1635, 1641, 1642, 1643, 1644, 1646, 1648, 1651, 1652, 1653, 1654, 1655, 1657, 1658, 1659, 1660, 1661, 1663, 1664, 1666, 1667, 1668, 1670, 1671, 1673, 1675, 1676, 1678, 1679, 1680, 1682, 1683, 1685, 1686, 1687, 1690, 1692, 1693, 1694, 1695, 1696, 1697, 1699, 1700, 1701, 1702, 1703, 1704, 1706, 1708, 1710, 1713, 1714, 1719, 1720, 1721, 1722, 1723, 1724, 1725, 1727, 1728, 1730, 1732, 1734, 1735, 1736, 1737, 1738, 1742, 1744, 1745, 1749, 1750, 1751, 1753, 1754, 1755, 1756, 1757, 1760, 1761, 1762, 1763, 1764, 1766, 1770, 1772, 1776, 1779, 1780, 1782, 1783, 1784, 1786, 1789, 1790, 1794, 1795, 1796, 1797, 1798, 1801, 1804, 1806, 1808, 1809, 1810, 1811, 1813, 1814, 1815, 1816, 1817, 1820, 1826, 1827, 1828, 1829, 1830, 1831, 1834, 1836, 1837, 1838, 1841, 1842, 1844, 1847, 1848, 1849, 1850, 1851, 1853, 1854, 1859, 1860, 1862, 1864, 1866, 1867, 1868, 1870, 1871, 1872, 1873, 1874, 1875, 1876, 1879, 1880, 1881, 1882, 1883, 1884, 1885, 1886, 1887, 1888, 1890, 1891, 1892, 1893, 1895, 1898, 1902, 1903, 1905, 1907, 1908, 1909, 1911, 1912, 1916, 1918, 1919, 1920, 1921, 1922, 1923, 1924, 1925, 1926, 1927, 1928, 1929, 1930, 1931, 1935, 1936, 1939, 1940, 1941, 1942, 1944, 1945, 1946, 1948, 1949, 1951, 1953, 1955, 1956, 1957, 1958, 1959, 1960, 1962, 1963, 1964, 1966, 1968, 1969, 1971, 1974, 1975, 1977, 1978, 1980, 1981, 1988, 1989, 1990, 1994, 1999, 2001, 2004, 2005, 2007, 2008, 2010, 2011, 2013, 2014, 2015, 2016, 2018, 2019, 2020, 2023, 2024, 2025, 2026, 2028, 2029, 2030, 2031, 2032, 2034, 2035, 2036, 2038, 2039, 2040, 2041, 2042, 2043, 2046, 2047, 2048, 2050, 2054, 2057, 2058, 2059, 2062, 2063, 2064, 2066, 2068, 2069, 2070, 2071, 2072, 2074, 2075, 2076, 2077, 2078, 2081, 2082, 2085, 2086, 2087, 2091, 2095, 2098, 2099, 2100, 2101, 2102, 2105, 2106, 2107, 2109, 2114, 2115, 2116, 2118, 2119, 2121, 2124, 2126, 2127, 2131, 2132, 2135, 2136, 2140, 2141, 2142, 2144, 2145, 2146, 2147, 2148, 2150, 2151, 2153, 2154, 2155, 2157, 2159, 2161, 2162, 2163, 2164, 2165, 2166, 2167, 2168, 2171, 2172, 2173, 2174, 2176, 2177, 2181, 2182, 2184, 2185, 2186, 2189, 2193, 2196, 2197, 2200, 2204, 2205, 2206, 2207, 2208, 2210, 2211, 2213, 2214, 2216, 2217, 2218, 2219, 2220, 2221, 2223, 2224, 2225, 2227, 2229, 2230, 2231, 2235, 2236, 2240, 2242, 2243, 2244, 2245, 2246, 2248, 2249, 2252, 2253, 2256, 2258, 2260, 2261, 2263, 2266, 2271, 2272, 2273, 2274, 2277, 2279, 2280, 2281, 2283, 2287, 2288, 2289, 2290, 2291, 2294, 2295, 2299, 2300, 2301, 2303, 2304, 2305, 2306, 2307, 2310, 2311, 2312, 2313, 2315, 2316, 2317, 2318, 2320, 2323, 2324, 2326, 2329, 2331, 2332, 2333, 2335, 2337, 2340, 2344, 2345, 2348, 2350, 2351, 2355, 2357, 2358, 2359, 2360, 2361, 2362, 2364, 2366, 2367, 2368, 2370, 2371, 2372, 2373, 2375, 2376, 2379, 2380, 2382, 2383, 2386, 2387, 2388, 2389, 2391, 2392, 2395, 2396, 2397, 2401, 2403, 2404, 2407, 2409, 2411, 2412, 2413, 2414, 2415, 2416, 2417, 2419, 2421, 2422, 2423, 2424, 2425, 2427, 2429, 2430, 2432, 2433, 2437, 2438, 2439, 2440, 2441, 2442, 2447, 2449, 2450, 2454, 2455, 2457, 2461, 2464, 2465, 2467, 2469, 2471, 2472, 2473, 2474, 2476, 2477, 2478, 2479, 2480, 2481, 2485, 2486, 2488, 2490, 2493, 2495, 2496, 2497, 2498, 2499, 2500, 2502, 2503, 2505, 2508, 2510, 2511, 2513, 2515, 2516, 2517, 2519, 2522, 2523, 2524, 2525, 2526, 2528, 2531, 2533, 2536, 2537, 2538, 2539, 2541, 2542, 2544, 2545, 2547, 2548, 2549, 2551, 2553, 2554, 2556, 2560, 2561, 2562, 2563, 2564, 2567, 2569, 2570, 2571, 2573, 2574, 2575, 2577, 2578, 2579, 2580, 2581, 2582, 2583, 2584, 2587, 2588, 2589, 2594, 2598, 2599, 2600, 2601, 2602, 2603, 2604, 2605, 2606, 2607, 2608, 2609, 2610, 2611, 2612, 2613, 2616, 2617, 2618, 2619, 2624, 2625, 2626, 2628, 2630, 2635, 2637, 2638, 2639, 2641, 2643, 2644, 2648, 2649, 2650, 2651, 2653, 2654, 2655, 2656, 2657, 2658, 2659, 2661, 2665, 2666, 2673, 2676, 2677, 2678, 2679, 2680, 2683, 2686, 2687, 2688, 2689, 2692, 2694, 2696, 2698, 2699, 2700, 2701, 2702, 2707, 2709, 2711, 2714, 2715, 2716, 2717, 2718, 2721, 2723, 2724, 2725, 2726, 2728, 2729, 2730, 2734, 2735, 2736, 2737, 2741, 2743, 2744, 2745, 2746, 2748, 2749, 2750, 2751, 2753, 2754, 2755, 2756, 2758, 2759, 2763, 2764, 2766, 2767, 2768, 2769, 2770, 2771, 2772, 2774, 2775, 2776, 2777, 2780, 2782, 2786, 2788, 2789, 2790, 2797, 2799, 2803, 2804, 2808, 2809, 2810, 2811, 2812, 2813, 2815, 2816, 2817, 2818, 2821, 2822, 2824, 2825, 2826, 2827, 2828, 2829, 2830, 2831, 2832, 2833, 2834, 2835, 2836, 2837, 2838, 2840, 2843, 2845, 2846, 2849, 2852, 2853, 2856, 2858, 2862, 2864, 2865, 2866, 2867, 2868, 2872, 2874, 2875, 2878, 2880, 2883, 2884, 2887, 2888, 2889, 2891, 2895, 2898, 2899, 2903, 2904, 2905, 2911, 2912, 2913, 2914, 2915, 2917, 2918, 2920, 2921, 2923, 2925, 2926, 2928, 2930, 2931, 2933, 2934, 2937, 2939, 2940, 2942, 2944, 2945, 2946, 2947, 2951, 2952, 2953, 2954, 2956, 2961, 2962, 2963, 2964, 2969, 2970, 2971, 2972, 2974, 2977, 2980, 2982, 2984, 2987, 2988, 2990, 2992, 2993, 2995, 2997, 2998, 2999, 3000, 3001, 3003, 3004, 3005, 3006, 3007, 3008, 3014, 3015, 3017, 3021, 3022, 3023, 3024, 3025, 3026, 3029, 3030, 3031, 3032, 3039, 3040, 3043, 3044, 3046, 3047, 3048, 3049, 3052, 3053, 3056, 3057, 3058, 3062, 3063, 3066, 3068, 3069, 3070, 3072, 3074, 3076, 3077, 3079, 3080, 3084, 3087, 3088, 3091, 3092, 3093, 3094, 3095, 3096, 3097, 3098, 3099, 3101, 3102, 3104, 3105, 3107, 3108, 3112, 3114, 3115, 3116, 3119, 3123, 3124, 3125, 3126, 3128, 3129, 3130, 3132, 3133, 3134, 3136, 3137, 3138, 3139, 3141, 3142, 3143, 3145, 3147, 3148, 3149, 3150, 3151, 3152, 3153, 3154, 3156, 3157, 3159, 3161, 3163, 3164, 3165, 3167, 3168, 3169, 3171, 3173, 3174, 3175, 3177, 3180, 3181, 3182, 3184, 3185, 3186, 3187, 3188, 3190, 3191, 3192, 3193, 3197, 3198, 3200, 3201, 3202, 3203, 3205, 3206, 3207, 3208, 3210, 3212, 3213, 3214, 3215, 3217, 3219, 3220, 3221, 3223, 3226, 3228, 3230, 3231, 3234, 3235, 3236, 3240, 3241, 3242, 3243, 3244, 3245, 3246, 3248, 3253, 3255, 3256, 3257, 3258, 3259, 3263, 3266, 3267, 3268, 3272, 3273, 3275, 3276, 3277, 3278, 3279, 3280, 3286, 3287, 3288, 3290, 3292, 3293, 3294, 3295, 3296, 3298, 3300, 3302, 3304, 3305, 3306, 3307, 3308, 3309, 3310, 3311, 3312, 3313, 3314, 3317, 3318, 3320, 3321, 3323, 3324, 3325, 3329, 3330, 3331, 3334, 3336, 3338, 3339, 3341, 3343, 3344, 3345, 3347, 3348, 3349, 3350, 3353, 3356, 3357, 3360, 3361, 3363, 3364, 3365, 3367, 3370, 3373, 3378, 3379, 3381, 3382, 3383, 3384, 3386, 3387, 3389, 3390, 3392, 3393, 3394, 3396, 3397, 3398, 3399, 3400, 3402, 3403, 3405, 3407, 3409, 3410, 3413, 3415, 3416, 3418, 3423, 3425, 3426, 3427, 3428, 3429, 3430, 3431, 3432, 3434, 3435, 3437, 3438, 3441, 3443, 3444, 3445, 3447, 3448, 3449, 3450, 3452, 3453, 3455, 3456, 3458, 3459, 3460, 3462, 3465, 3466, 3467, 3468, 3469, 3472, 3473, 3474, 3475, 3476, 3477, 3478, 3479, 3480, 3481, 3482, 3484, 3485, 3486, 3488, 3489, 3490, 3491, 3492, 3494, 3495, 3496, 3497, 3498, 3499, 3500, 3501, 3503, 3504, 3506, 3510, 3512, 3513, 3515, 3518, 3521, 3522, 3524, 3527, 3530, 3531, 3532, 3533, 3534, 3537, 3538, 3541, 3542, 3544, 3549, 3553, 3554, 3557, 3558, 3560, 3561, 3563, 3564, 3568, 3569, 3570, 3572, 3573, 3575, 3576, 3578, 3579, 3581, 3584, 3585, 3586, 3587, 3596, 3597, 3599, 3601, 3604, 3605, 3606, 3609, 3611, 3613, 3614, 3616, 3617, 3618, 3619, 3620, 3623, 3626, 3627, 3628, 3630, 3631, 3632, 3634, 3635, 3636, 3638, 3640, 3641, 3642, 3644, 3647, 3650, 3651, 3652, 3653, 3654, 3655, 3657, 3658, 3659, 3660, 3661, 3662, 3663, 3665, 3666, 3668, 3669, 3670, 3673, 3674, 3675, 3676, 3677, 3678, 3679, 3681, 3683, 3686, 3687, 3690, 3691, 3694, 3695, 3696, 3699, 3700, 3701, 3703, 3704, 3705, 3706, 3707, 3709, 3710, 3711, 3712, 3714, 3715, 3716, 3717, 3718, 3720, 3721, 3722, 3723, 3724, 3728, 3729, 3734, 3735, 3737, 3738, 3739, 3741, 3742, 3743, 3745, 3751, 3752, 3755, 3756, 3757, 3761, 3764, 3765, 3766, 3767, 3768, 3769, 3773, 3774, 3775, 3777, 3778, 3779, 3780, 3781, 3784, 3786, 3787, 3788, 3789, 3794, 3799, 3800, 3802, 3803, 3804, 3805, 3807, 3808, 3810, 3812, 3813, 3814, 3816, 3817, 3819, 3820, 3822, 3823, 3824, 3825, 3826, 3827, 3830, 3831, 3834, 3836, 3839, 3840, 3843, 3848, 3849, 3850, 3852, 3853, 3854, 3856, 3860, 3861, 3862, 3863, 3864, 3866, 3867, 3868, 3871, 3873, 3874, 3875, 3876, 3877, 3880, 3881, 3882, 3884, 3888, 3889, 3890, 3895, 3898, 3899, 3900, 3903, 3904, 3906, 3907, 3908, 3909, 3911, 3912, 3913, 3914, 3915, 3918, 3920, 3923, 3925, 3926, 3928, 3930, 3931, 3932, 3933, 3934, 3935, 3936, 3938, 3940, 3941, 3944, 3947, 3948, 3950, 3953, 3954, 3956, 3957, 3958, 3960, 3961, 3965, 3967, 3969, 3974, 3976, 3979, 3981, 3983, 3984, 3986, 3987, 3989, 3991, 3993, 3994, 3996, 3999, 4002, 4004, 4006, 4007, 4008, 4009, 4010, 4014, 4016, 4017, 4018, 4020, 4021, 4022, 4025, 4026, 4031, 4033, 4035, 4036, 4037, 4039, 4041, 4042, 4043, 4046, 4047, 4048, 4051, 4053, 4057, 4058, 4059, 4064, 4065, 4066, 4068, 4069, 4070, 4074, 4075, 4077, 4078, 4079, 4080, 4081, 4082, 4086, 4087, 4088, 4090, 4092, 4093, 4095, 4096, 4097, 4098, 4099, 4100, 4102, 4104, 4105, 4106, 4107, 4108, 4110, 4111, 4112, 4113, 4114, 4115, 4118, 4119, 4120, 4121, 4123, 4124, 4125, 4127, 4129, 4130, 4131, 4132, 4133, 4134, 4135, 4136, 4137, 4139, 4141, 4142, 4145, 4148, 4153, 4154, 4155, 4157, 4158, 4159, 4160, 4166, 4167, 4168, 4171, 4174, 4175, 4176, 4178, 4179, 4182, 4183, 4184, 4185, 4187, 4188, 4189, 4191, 4193, 4194, 4195, 4196, 4197, 4198, 4199, 4201, 4202, 4204, 4205, 4206, 4207, 4208, 4209, 4210, 4211, 4212, 4213, 4214, 4217, 4219, 4221, 4223, 4224, 4226, 4227, 4228, 4229, 4230, 4231, 4235, 4236, 4237, 4238, 4239, 4240, 4242, 4244, 4245, 4247, 4248, 4249, 4251, 4252, 4253, 4255, 4256, 4257, 4258, 4262, 4263, 4265, 4266, 4267, 4268, 4269, 4270, 4271, 4276, 4278, 4279, 4281, 4282, 4288, 4289, 4291, 4293, 4294, 4295, 4296, 4298, 4299, 4303, 4304, 4306, 4310, 4311, 4316, 4317, 4319, 4320, 4322, 4324, 4325, 4326, 4327, 4328, 4330, 4334, 4336, 4339, 4341, 4342, 4344, 4347, 4349, 4351, 4352, 4353, 4354, 4356, 4360, 4361, 4364, 4371, 4372, 4374, 4375, 4376, 4378, 4379, 4382, 4383, 4387, 4389, 4390, 4391, 4392, 4393, 4394, 4395, 4396, 4403, 4404, 4405, 4406, 4409, 4411, 4412, 4413, 4414, 4415, 4418, 4419, 4420, 4421, 4422, 4423, 4424, 4425, 4427, 4428, 4431, 4433, 4434, 4436, 4437, 4438, 4439, 4443, 4444, 4445, 4447, 4448, 4449, 4452, 4454, 4455, 4456, 4458, 4459, 4461, 4462, 4463, 4465, 4466, 4467, 4469, 4470, 4471, 4472, 4473, 4474, 4475, 4477, 4478, 4479, 4481, 4482, 4483, 4485, 4486, 4489, 4490, 4492, 4493, 4494, 4496, 4497, 4500, 4502, 4504, 4505, 4507, 4512, 4514, 4516, 4519, 4523, 4524, 4525, 4531, 4533, 4536, 4539, 4541, 4542, 4544, 4547, 4548, 4550, 4551, 4552, 4553, 4554, 4555, 4556, 4558, 4559, 4560, 4563, 4567, 4569, 4570, 4571, 4572, 4574, 4575, 4576, 4577, 4579, 4580, 4583, 4584, 4586, 4587, 4589, 4590, 4591, 4592, 4594, 4595, 4596, 4597, 4599, 4600, 4603, 4605, 4607, 4608, 4610, 4612, 4613, 4616, 4617, 4619, 4620, 4622, 4623, 4627, 4629, 4630, 4632, 4633, 4634, 4635, 4636, 4637, 4640, 4642, 4643, 4646, 4648, 4649, 4654, 4655, 4656, 4657, 4658, 4660, 4661, 4662, 4665, 4666, 4667, 4669, 4671, 4672, 4674, 4675, 4677, 4680, 4681, 4682, 4684, 4687, 4691, 4692, 4693, 4694, 4695, 4698, 4700, 4701, 4702, 4703, 4705, 4706, 4707, 4711, 4712, 4717, 4719, 4721, 4723, 4724, 4725, 4728, 4731, 4734, 4735, 4736, 4737, 4738, 4740, 4742, 4743, 4746, 4748, 4750, 4751, 4752, 4754, 4755, 4757, 4758, 4759, 4760, 4761, 4763, 4764, 4769, 4773, 4774, 4775, 4776, 4777, 4778, 4780, 4782, 4786, 4788, 4789, 4791, 4793, 4794, 4796, 4797, 4804, 4806, 4807, 4808, 4811, 4812, 4813, 4814, 4816, 4818, 4820, 4822, 4824, 4825, 4827, 4834, 4835, 4836, 4837, 4839, 4840, 4845, 4846, 4847, 4848, 4850, 4851, 4853, 4855, 4857, 4858, 4860, 4862, 4863, 4864, 4867, 4870, 4871, 4874, 4875, 4877, 4878, 4880, 4881, 4882, 4885, 4886, 4888, 4889, 4890, 4891, 4892, 4893, 4894, 4895, 4896, 4897, 4898, 4902, 4903, 4906, 4909, 4910, 4913, 4919, 4920, 4921, 4923, 4924, 4926, 4927, 4929, 4930, 4933, 4937, 4938, 4940, 4941, 4942, 4943, 4944, 4945, 4946, 4947, 4948, 4953, 4956, 4957, 4958, 4959, 4961, 4962, 4965, 4968, 4969, 4970, 4971, 4972, 4973, 4976, 4977, 4978, 4979, 4980, 4981, 4982, 4983, 4984, 4985, 4986, 4988, 4990, 4992, 4993, 4994, 4999, 5002, 5004, 5006, 5008, 5009, 5010, 5011, 5012, 5013, 5014, 5015, 5017, 5019, 5020, 5021, 5023, 5024, 5025, 5026, 5028, 5031, 5034, 5035, 5036, 5037, 5038, 5039, 5041, 5042, 5044, 5045, 5046, 5047, 5049, 5050, 5053, 5054, 5058, 5059, 5062, 5063, 5064, 5065, 5066, 5067, 5068, 5071, 5074, 5075, 5077, 5083, 5087, 5090, 5091, 5092, 5093, 5094, 5096, 5097, 5098, 5101, 5103, 5105, 5106, 5107, 5109, 5111, 5112, 5113, 5115, 5117, 5118, 5119, 5120, 5121, 5123, 5124, 5134, 5136, 5137, 5138, 5140, 5141, 5144, 5149, 5151, 5153, 5154, 5155, 5157, 5158, 5159, 5160, 5161, 5162, 5163, 5164, 5165, 5166, 5167, 5169, 5170, 5173, 5174, 5178, 5179, 5180, 5185, 5186, 5189, 5192, 5194, 5195, 5196, 5197, 5198, 5199, 5200, 5201, 5202, 5203, 5204, 5205, 5206, 5208, 5210, 5211, 5212, 5214, 5215, 5219, 5220, 5221, 5224, 5225, 5226, 5227, 5228, 5229, 5231, 5232, 5233, 5234, 5235, 5237, 5238, 5239, 5241, 5242, 5244, 5248, 5251, 5252, 5256, 5257, 5258, 5259, 5260, 5264, 5266, 5268, 5269, 5271, 5272, 5273, 5274, 5275, 5276, 5277, 5279, 5280, 5281, 5283, 5286, 5289, 5290, 5291, 5292, 5293, 5294, 5295, 5296, 5298, 5299, 5300, 5301, 5302, 5303, 5306, 5307, 5308, 5310, 5311, 5314, 5316, 5317, 5319, 5321, 5323, 5324, 5325, 5326, 5327, 5328, 5329, 5330, 5331, 5332, 5334, 5335, 5339, 5340, 5341, 5342, 5345, 5346, 5347, 5348, 5349, 5350, 5352, 5353, 5354, 5356, 5357, 5358, 5360, 5361, 5362, 5364, 5365, 5366, 5367, 5368, 5369, 5370, 5371, 5372, 5375, 5376, 5377, 5378, 5379, 5380, 5382, 5383, 5385, 5386, 5387, 5388, 5389, 5393, 5394, 5395, 5396, 5397, 5398, 5399, 5406, 5409, 5410, 5411, 5413, 5414, 5416, 5417, 5418, 5421, 5423, 5424, 5425, 5426, 5427, 5431, 5432, 5433, 5434, 5436, 5438, 5440, 5441, 5444, 5445, 5446, 5447, 5451, 5452, 5453, 5455, 5461, 5462, 5463, 5464, 5466, 5470, 5472, 5473, 5474, 5476, 5477, 5482, 5483, 5484, 5486, 5487, 5488, 5492, 5493, 5499, 5500, 5501, 5504, 5506, 5507, 5509, 5512, 5514, 5516, 5520, 5521, 5522, 5523, 5524, 5525, 5526, 5530, 5531, 5532, 5533, 5534, 5536, 5537, 5539, 5540, 5541, 5544, 5547, 5548, 5549, 5550, 5551, 5552, 5553, 5554, 5555, 5556, 5557, 5559, 5564, 5565, 5567, 5570, 5572, 5573, 5576, 5577, 5578, 5579, 5581, 5582, 5584, 5586, 5589, 5590, 5593, 5594, 5595, 5596, 5597, 5600, 5601, 5602, 5604, 5605, 5606, 5608, 5610, 5615, 5616, 5617, 5619, 5620, 5622, 5627, 5629, 5630, 5631, 5633, 5634, 5637, 5642, 5643, 5645, 5646, 5647, 5648, 5649, 5651, 5652, 5653, 5657, 5658, 5659, 5661, 5662, 5663, 5664, 5665, 5666, 5667, 5668, 5669, 5670, 5671, 5672, 5673, 5674, 5675, 5676, 5678, 5680, 5681, 5682, 5683, 5684, 5685, 5686, 5687, 5688, 5689, 5690, 5691, 5693, 5694, 5696, 5697, 5698, 5702, 5705, 5706, 5707, 5708, 5709, 5712, 5714, 5715, 5716, 5717, 5720, 5722, 5723, 5724, 5725, 5727, 5728, 5730, 5731, 5733, 5735, 5736, 5737, 5739, 5741, 5745, 5746, 5747, 5749, 5750, 5751, 5760, 5762, 5763, 5764, 5765, 5768, 5771, 5773, 5774, 5776, 5777, 5778, 5779, 5780, 5781, 5786, 5788, 5790, 5791, 5796, 5798, 5799, 5804, 5807, 5808, 5810, 5811, 5813, 5814, 5815, 5816, 5817, 5818, 5819, 5820, 5821, 5823, 5824, 5825, 5826, 5828, 5829, 5830, 5831, 5833, 5834, 5836, 5837, 5838, 5841, 5842, 5843, 5844, 5845, 5848, 5849, 5850, 5852, 5854, 5855, 5856, 5857, 5860, 5862, 5863, 5864, 5865, 5866, 5868, 5870, 5872, 5873, 5874, 5875, 5880, 5881, 5882, 5883, 5885, 5886, 5889, 5891, 5892, 5893, 5894, 5895, 5896, 5900, 5901, 5905, 5906, 5907, 5909, 5911, 5913, 5917, 5918, 5919, 5920, 5923, 5926, 5928, 5929, 5930, 5931, 5933, 5937, 5938, 5940, 5941, 5944, 5946, 5947, 5948, 5949, 5951, 5952, 5953, 5954, 5955, 5956, 5959, 5960, 5961, 5962, 5964, 5968, 5971, 5972, 5974, 5975, 5976, 5980, 5981, 5982, 5983, 5984, 5985, 5986, 5989, 5990, 5991, 5993, 5994, 5995, 5996, 5998, 5999, 6001, 6002, 6003, 6004, 6005, 6006, 6007, 6009, 6010, 6013, 6014, 6016, 6020, 6021, 6023, 6025, 6028, 6029, 6030, 6031, 6033, 6036, 6037, 6039, 6041, 6043, 6045, 6047, 6051, 6052, 6053, 6054, 6056, 6058, 6060, 6061, 6062, 6063, 6064, 6065, 6066, 6067, 6070, 6071, 6072, 6073, 6074, 6076, 6077, 6078, 6079, 6083, 6084, 6087, 6088, 6089, 6091, 6092, 6093, 6095, 6097, 6098, 6099, 6102, 6104, 6105, 6106, 6107, 6108, 6109, 6110, 6111, 6112, 6113, 6114, 6117, 6120, 6121, 6123, 6124, 6126, 6127, 6129, 6130, 6131, 6132, 6133, 6134, 6135, 6136, 6138, 6139, 6141, 6145, 6146, 6147, 6148, 6149, 6152, 6154, 6157, 6160, 6161, 6163, 6166, 6167, 6168, 6169, 6170, 6171, 6172, 6173, 6175, 6177, 6178, 6179, 6180, 6182, 6183, 6185, 6188, 6189, 6191, 6195, 6198, 6200, 6202, 6204, 6206, 6208, 6211, 6212, 6213, 6216, 6217, 6218, 6220, 6221, 6222, 6224, 6225, 6226, 6228, 6231, 6232, 6233, 6234, 6236, 6238, 6239, 6240, 6241, 6244, 6245, 6248, 6249, 6251, 6252, 6254, 6258, 6259, 6263, 6264, 6267, 6268, 6270, 6272, 6274, 6275, 6276, 6277, 6278, 6279, 6280, 6282, 6283, 6284, 6285, 6286, 6287, 6289, 6290, 6292, 6293, 6295, 6296, 6297, 6299, 6300, 6301, 6302, 6304, 6305, 6306, 6307, 6309, 6311, 6312, 6313, 6315, 6316, 6318, 6319, 6321, 6323, 6325, 6327, 6328, 6329, 6332, 6334, 6335, 6338, 6339, 6343, 6344, 6348, 6350, 6351, 6352, 6354, 6355, 6357, 6359, 6360, 6361, 6362, 6363, 6364, 6365, 6367, 6368, 6369, 6370, 6371, 6372, 6373, 6375, 6376, 6377, 6378, 6379, 6382, 6383, 6385, 6386, 6389, 6390, 6391, 6392, 6393, 6394, 6395, 6396, 6401, 6402, 6403, 6405, 6406, 6407, 6408, 6409, 6411, 6415, 6416, 6419, 6420, 6422, 6424, 6427, 6429, 6430, 6432, 6434, 6436, 6437, 6438, 6439, 6440, 6444, 6445, 6446, 6447, 6449, 6450, 6451, 6452, 6453, 6454, 6455, 6456, 6459, 6461, 6465, 6467, 6468, 6470, 6473, 6474, 6477, 6478, 6480, 6481, 6482, 6483, 6484, 6485, 6486, 6487, 6489, 6490, 6496, 6497, 6498, 6499, 6500, 6503, 6504, 6505, 6510, 6511, 6512, 6513, 6514, 6515, 6516, 6517, 6518, 6519, 6521, 6525, 6526, 6528, 6529, 6530, 6531, 6532, 6533, 6535, 6537, 6538, 6540, 6542, 6544, 6545, 6546, 6547, 6548, 6549, 6550, 6552, 6555, 6556, 6558, 6565, 6566, 6567, 6569, 6571, 6572, 6575, 6577, 6579, 6585, 6587, 6588, 6589, 6590, 6592, 6593, 6594, 6597, 6598, 6599, 6600, 6606, 6607, 6608, 6609, 6610, 6611, 6612, 6613, 6614, 6615, 6616, 6617, 6618, 6619, 6621, 6622, 6623, 6626, 6628, 6630, 6632, 6634, 6636, 6639, 6641, 6642, 6643, 6645, 6647, 6649, 6650, 6653, 6654, 6657, 6658, 6659, 6660, 6661, 6662, 6665, 6666, 6667, 6669, 6670, 6674, 6675, 6676, 6678, 6679, 6681, 6682, 6683, 6684, 6686, 6687, 6688, 6689, 6691, 6693, 6694, 6696, 6699, 6701, 6702, 6703, 6704, 6705, 6707, 6708, 6710, 6712, 6714, 6716, 6717, 6718, 6719, 6720, 6722, 6724, 6729, 6730, 6733, 6737, 6739, 6741, 6742, 6743, 6744, 6745, 6746, 6747, 6748, 6750, 6751, 6753, 6754, 6756, 6757, 6759, 6762, 6763, 6764, 6766, 6767, 6771, 6772, 6774, 6775, 6776, 6777, 6778, 6779, 6780, 6781, 6782, 6783, 6784, 6785, 6786, 6788, 6789, 6790, 6791, 6792, 6796, 6799, 6800, 6801, 6802, 6804, 6806, 6808, 6809, 6812, 6813, 6814, 6818, 6820, 6821, 6823, 6825, 6827, 6828, 6829, 6830, 6831, 6834, 6835, 6836, 6838, 6839, 6841, 6842, 6843, 6844, 6848, 6849, 6850, 6851, 6852, 6853, 6854, 6856, 6858, 6859, 6861, 6862, 6863, 6868, 6869, 6870, 6873, 6874, 6877, 6879, 6880, 6881, 6883, 6884, 6885, 6893, 6894, 6896, 6897, 6899, 6902, 6904, 6907, 6910, 6911, 6912, 6913, 6914, 6916, 6917, 6918, 6920, 6922, 6923, 6925, 6926, 6927, 6928, 6931, 6932, 6933, 6935, 6936, 6937, 6938, 6943, 6944, 6946, 6947, 6949, 6950, 6951, 6952, 6953, 6954, 6955, 6956, 6957, 6959, 6960, 6961, 6964, 6965, 6966, 6967, 6970, 6971, 6974, 6975, 6976, 6977, 6978, 6979, 6980, 6981, 6982, 6983, 6985, 6986, 6987, 6988, 6989, 6993, 6994, 6996, 6999, 7000, 7002, 7003, 7004, 7005, 7006, 7007, 7010, 7012, 7013, 7015, 7020, 7021, 7024, 7029, 7030, 7031, 7032, 7033, 7034, 7035, 7036, 7037, 7038, 7039, 7040, 7041, 7043, 7045, 7046, 7047, 7048, 7049, 7051, 7052, 7053, 7054, 7059, 7061, 7062, 7065, 7066, 7067, 7075, 7077, 7079, 7081, 7082, 7083, 7084, 7085, 7089, 7090, 7091, 7092, 7093, 7095, 7096, 7101, 7102, 7103, 7104, 7105, 7106, 7107, 7108, 7110, 7111, 7113, 7115, 7117, 7119, 7120, 7121, 7123, 7124, 7126, 7127, 7128, 7129, 7130, 7131, 7132, 7133, 7134, 7135, 7138, 7139, 7141, 7142, 7147, 7149, 7150, 7151, 7152, 7153, 7154, 7157, 7159, 7161, 7163, 7164, 7165, 7167, 7172, 7173, 7175, 7177, 7179, 7180, 7181, 7184, 7186, 7187, 7188, 7189, 7193, 7194, 7196, 7197, 7199, 7202, 7204, 7205, 7206, 7207, 7211, 7213, 7214, 7216, 7217, 7218, 7219, 7220, 7221, 7222, 7223, 7224, 7225, 7226, 7227, 7228, 7229, 7231, 7235, 7236, 7238, 7239, 7241, 7244, 7245, 7246, 7247, 7248, 7250, 7251, 7252, 7253, 7254, 7255, 7256, 7259, 7261, 7262, 7266, 7267, 7268, 7269, 7270, 7271, 7275, 7279, 7281, 7282, 7283, 7284, 7285, 7286, 7288, 7289, 7291, 7293, 7294, 7295, 7297, 7298, 7299, 7300, 7303, 7304, 7305, 7306, 7307, 7309, 7310, 7312, 7313, 7314, 7315, 7316, 7317, 7318, 7319, 7320, 7322, 7323, 7324, 7325, 7327, 7330, 7332, 7334, 7337, 7339, 7341, 7342, 7345, 7346, 7348, 7351, 7352, 7353, 7354, 7358, 7360, 7361, 7367, 7371, 7372, 7373, 7375, 7376, 7378, 7379, 7380, 7382, 7386, 7387, 7388, 7389, 7391, 7394, 7395, 7396, 7397, 7398, 7399, 7401, 7404, 7405, 7407, 7408, 7409, 7410, 7413, 7414, 7415, 7416, 7418, 7419, 7421, 7424, 7425, 7428, 7429, 7430, 7432, 7433, 7438, 7440, 7441, 7442, 7443, 7446, 7447, 7449, 7452, 7453, 7455, 7456, 7457, 7458, 7464, 7465, 7467, 7468, 7469, 7471, 7473, 7474, 7476, 7477, 7478, 7479, 7480, 7482, 7483, 7484, 7485, 7486, 7489, 7492, 7494, 7495, 7496, 7498, 7500, 7507, 7509, 7510, 7511, 7516, 7517, 7518, 7519, 7522, 7524, 7526, 7527, 7528, 7529, 7531, 7538, 7541, 7543, 7544, 7549, 7551, 7553, 7554, 7555, 7556, 7557, 7559, 7560, 7562, 7563, 7572, 7573, 7574, 7575, 7576, 7577, 7578, 7579, 7581, 7582, 7584, 7586, 7588, 7589, 7590, 7591, 7592, 7593, 7594, 7595, 7599, 7602, 7605, 7609, 7611, 7612, 7613, 7615, 7620, 7621, 7622, 7624, 7626, 7627, 7629, 7630, 7632, 7635, 7637, 7638, 7640, 7642, 7646, 7651, 7652, 7653, 7654, 7655, 7656, 7657, 7658, 7659, 7660, 7663, 7665, 7667, 7669, 7670, 7673, 7675, 7678, 7679, 7680, 7682, 7683, 7684, 7685, 7686, 7688, 7689, 7693, 7695, 7696, 7698, 7700, 7701, 7702, 7703, 7705, 7708, 7710, 7711, 7712, 7713, 7714, 7717, 7718, 7719, 7722, 7723, 7724, 7726, 7727, 7729, 7730, 7732, 7733, 7734, 7735, 7736, 7737, 7738, 7739, 7741, 7743, 7744, 7746, 7747, 7749, 7750, 7751, 7752, 7756, 7757, 7760, 7762, 7763, 7764, 7766, 7767, 7768, 7770, 7771, 7776, 7777, 7779, 7780, 7782, 7783, 7786, 7790, 7792, 7793, 7794, 7795, 7797, 7802, 7804, 7808, 7809, 7810, 7811, 7812, 7813, 7815, 7817, 7818, 7819, 7820, 7821, 7822, 7823, 7825, 7826, 7827, 7828, 7829, 7832, 7833, 7835, 7837, 7839, 7841, 7842, 7843, 7844, 7845, 7846, 7847, 7848, 7850, 7852, 7853, 7855, 7856, 7857, 7858, 7860, 7861, 7862, 7863, 7865, 7869, 7870, 7871, 7873, 7874, 7875, 7876, 7877, 7880, 7883, 7884, 7886, 7888, 7891, 7893, 7895, 7899, 7900, 7904, 7905, 7907, 7908, 7911, 7912, 7914, 7916, 7917, 7920, 7921, 7923, 7924, 7925, 7926, 7927, 7928, 7929, 7930, 7931, 7932, 7934, 7936, 7937, 7938, 7943, 7944, 7945, 7946, 7947, 7948, 7951, 7952, 7953, 7954, 7955, 7958, 7959, 7961, 7962, 7963, 7964, 7967, 7969, 7970, 7972, 7976, 7980, 7981, 7982, 7983, 7984, 7986, 7987, 7988, 7992, 7993, 7994, 7996, 7997, 7999, 8002, 8003, 8006, 8008, 8010, 8012, 8013, 8015, 8017, 8020, 8021, 8022, 8023, 8024, 8030, 8032, 8034, 8037, 8038, 8039, 8040, 8041, 8043, 8048, 8049, 8052, 8053, 8054, 8055, 8056, 8059, 8061, 8065, 8066, 8071, 8073, 8075, 8076, 8078, 8079, 8081, 8082, 8083, 8086, 8088, 8090, 8093, 8094, 8096, 8098, 8099, 8102, 8103, 8104, 8105, 8107, 8108, 8109, 8111, 8112, 8113, 8114, 8115, 8116, 8119, 8120, 8121, 8122, 8123, 8124, 8125, 8126, 8127, 8128, 8129, 8131, 8132, 8136, 8137, 8138, 8140, 8141, 8142, 8144, 8148, 8149, 8151, 8152, 8153, 8154, 8156, 8158, 8159, 8160, 8161, 8163, 8167, 8168, 8173, 8174, 8176, 8177, 8179, 8181, 8182, 8184, 8185, 8186, 8188, 8189, 8190, 8195, 8197, 8198, 8200, 8201, 8202, 8203, 8205, 8207, 8209, 8210, 8211, 8213, 8214, 8215, 8216, 8217, 8219, 8223, 8229, 8230, 8231, 8232, 8233, 8234, 8235, 8236, 8237, 8238, 8240, 8241, 8243, 8246, 8247, 8249, 8250, 8252, 8253, 8254, 8255, 8257, 8259, 8260, 8263, 8264, 8265, 8266, 8267, 8270, 8271, 8273, 8275, 8277, 8278, 8280, 8282, 8283, 8284, 8286, 8287, 8289, 8290, 8293, 8294, 8295, 8296, 8298, 8299, 8301, 8302, 8304, 8305, 8307, 8308, 8313, 8316, 8317, 8318, 8319, 8321, 8324, 8327, 8328, 8329, 8330, 8332, 8333, 8335, 8336, 8337, 8338, 8339, 8341, 8342, 8343, 8344, 8346, 8347, 8348, 8351, 8353, 8354, 8356, 8358, 8359, 8360, 8362, 8364, 8366, 8367, 8368, 8370, 8373, 8374, 8377, 8378, 8380, 8381, 8382, 8383, 8384, 8385, 8386, 8388, 8389, 8390, 8392, 8393, 8394, 8397, 8398, 8400, 8402, 8403, 8406, 8408, 8409, 8410, 8413, 8416, 8419, 8421, 8423, 8424, 8425, 8428, 8431, 8432, 8434, 8436, 8438, 8440, 8441, 8442, 8445, 8446, 8447, 8448, 8449, 8451, 8452, 8453, 8454, 8455, 8458, 8460, 8462, 8464, 8465, 8466, 8467, 8468, 8470, 8471, 8473, 8474, 8475, 8478, 8479, 8480, 8481, 8482, 8483, 8484, 8485, 8487, 8488, 8489, 8490, 8491, 8492, 8493, 8494, 8495, 8496, 8497, 8498, 8499, 8500, 8501, 8502, 8503, 8506, 8507, 8508, 8509, 8510, 8511, 8512, 8513, 8515, 8520, 8521, 8522, 8523, 8524, 8525, 8526, 8528, 8529, 8531, 8534, 8535, 8536, 8539, 8540, 8541, 8542, 8543, 8545, 8546, 8547, 8550, 8552, 8553, 8554, 8555, 8556, 8559, 8561, 8562, 8563, 8565, 8567, 8568, 8569, 8570, 8571, 8572, 8573, 8574, 8576, 8579, 8581, 8584, 8586, 8588, 8589, 8590, 8592, 8593, 8595, 8596, 8599, 8600, 8603, 8604, 8605, 8608, 8609, 8610, 8611, 8613, 8614, 8615, 8616, 8617, 8619, 8620, 8621, 8623, 8625, 8627, 8629, 8636, 8638, 8639, 8640, 8641, 8643, 8644, 8645, 8646, 8647, 8648, 8655, 8656, 8657, 8660, 8662, 8665, 8667, 8669, 8670, 8671, 8672, 8673, 8674, 8676, 8678, 8680, 8681, 8685, 8686, 8687, 8690, 8692, 8694, 8695, 8696, 8699, 8700, 8701, 8702, 8703, 8704, 8705, 8706, 8710, 8711, 8713, 8714, 8716, 8717, 8718, 8721, 8725, 8726, 8728, 8729, 8730, 8732, 8733, 8734, 8735, 8736, 8738, 8739, 8742, 8745, 8746, 8747, 8748, 8751, 8753, 8754, 8756, 8759, 8760, 8762, 8763, 8764, 8768, 8769, 8773, 8774, 8775, 8777, 8779, 8782, 8784, 8785, 8786, 8789, 8790, 8791, 8792, 8793, 8794, 8798, 8802, 8807, 8810, 8811, 8812, 8814, 8815, 8817, 8818, 8819, 8820, 8821, 8822, 8823, 8824, 8828, 8830, 8831, 8832, 8833, 8834, 8835, 8836, 8837, 8838, 8839, 8840, 8841, 8844, 8845, 8846, 8847, 8849, 8851, 8854, 8858, 8861, 8862, 8863, 8864, 8866, 8867, 8868, 8869, 8870, 8872, 8873, 8875, 8876, 8877, 8881, 8882, 8889, 8891, 8892, 8893, 8894, 8895, 8896, 8897, 8898, 8899, 8906, 8907, 8908, 8909, 8910, 8912, 8913, 8914, 8918, 8919, 8920, 8921, 8922, 8925, 8928, 8930, 8931, 8932, 8933, 8934, 8936, 8937, 8938, 8940, 8941, 8942, 8943, 8944, 8945, 8946, 8948, 8949, 8951, 8952, 8953, 8954, 8955, 8957, 8958, 8961, 8962, 8963, 8964, 8965, 8970, 8971, 8972, 8973, 8974, 8977, 8978, 8979, 8982, 8984, 8985, 8987, 8988, 8991, 8992, 8995, 8997, 8999, 9002, 9003, 9005, 9010, 9011, 9013, 9014, 9016, 9018, 9020, 9021, 9024, 9025, 9027, 9028, 9029, 9030, 9031, 9032, 9033, 9034, 9036, 9039, 9040, 9041, 9043, 9046, 9047, 9048, 9049, 9050, 9051, 9052, 9053, 9054, 9058, 9059, 9060, 9062, 9064, 9065, 9068, 9069, 9071, 9073, 9074, 9076, 9078, 9080, 9082, 9084, 9085, 9086, 9088, 9090, 9093, 9094, 9095, 9096, 9101, 9106, 9108, 9111, 9113, 9115, 9117, 9120, 9122, 9123, 9124, 9125, 9126, 9129, 9131, 9133, 9136, 9137, 9138, 9139, 9140, 9141, 9142, 9143, 9144, 9145, 9146, 9147, 9148, 9149, 9150, 9151, 9153, 9155, 9156, 9157, 9159, 9160, 9161, 9162, 9164, 9165, 9166, 9167, 9170, 9171, 9172, 9176, 9177, 9178, 9179, 9180, 9181, 9182, 9183, 9184, 9187, 9188, 9189, 9191, 9192, 9194, 9195, 9199, 9201, 9202, 9203, 9204, 9208, 9209, 9210, 9211, 9212, 9214, 9215, 9217, 9218, 9220, 9223, 9226, 9227, 9228, 9229, 9232, 9233, 9234, 9235, 9236, 9238, 9240, 9241, 9243, 9244, 9245, 9247, 9251, 9253, 9255, 9257, 9260, 9263, 9264, 9265, 9266, 9267, 9269, 9270, 9271, 9275, 9277, 9278, 9281, 9282, 9283, 9284, 9288, 9289, 9290, 9292, 9294, 9296, 9298, 9299, 9300, 9301, 9302, 9303, 9304, 9308, 9309, 9311, 9312, 9313, 9314, 9318, 9319, 9320, 9321, 9322, 9323, 9325, 9327, 9329, 9330, 9331, 9332, 9338, 9340, 9341, 9345, 9347, 9348, 9349, 9351, 9352, 9355, 9357, 9358, 9359, 9360, 9361, 9362, 9364, 9365, 9366, 9368, 9369, 9370, 9373, 9375, 9376, 9378, 9379, 9385, 9387, 9388, 9389, 9390, 9391, 9392, 9393, 9394, 9396, 9397, 9398, 9399, 9400, 9401, 9403, 9404, 9405, 9408, 9410, 9411, 9413, 9414, 9416, 9418, 9419, 9421, 9422, 9424, 9425, 9426, 9427, 9430, 9432, 9433, 9435, 9437, 9439, 9440, 9444, 9445, 9446, 9447, 9448, 9449, 9451, 9452, 9456, 9458, 9459, 9460, 9461, 9463, 9464, 9465, 9466, 9467, 9471, 9472, 9473, 9476, 9477, 9478, 9479, 9480, 9481, 9482, 9483, 9484, 9488, 9490, 9491, 9493, 9494, 9495, 9496, 9497, 9498, 9499, 9500, 9505, 9506, 9508, 9509, 9510, 9512, 9513, 9514, 9515, 9516, 9517, 9520, 9521, 9522, 9523, 9526, 9528, 9531, 9533, 9535, 9536, 9537, 9538, 9539, 9540, 9542, 9543, 9546, 9551, 9554, 9556, 9558, 9559, 9560, 9565, 9566, 9567, 9568, 9569, 9570, 9571, 9576, 9577, 9578, 9579, 9580, 9582, 9584, 9585, 9587, 9589, 9590, 9591, 9592, 9594, 9598, 9599, 9600, 9601, 9606, 9607, 9608, 9610, 9611, 9615, 9616, 9617, 9618, 9620, 9621, 9624, 9625, 9626, 9628, 9629, 9630, 9631, 9632, 9633, 9634, 9635, 9636, 9637, 9640, 9644, 9647, 9648, 9649, 9652, 9653, 9654, 9658, 9659, 9661, 9662, 9663, 9664, 9665, 9666, 9667, 9668, 9669, 9670, 9671, 9672, 9673, 9677, 9679, 9681, 9682, 9683, 9685, 9686, 9687, 9688, 9689, 9690, 9693, 9694, 9695, 9697, 9698, 9699, 9700, 9701, 9702, 9704, 9707, 9708, 9711, 9712, 9714, 9715, 9717, 9718, 9720, 9721, 9722, 9723, 9724, 9725, 9726, 9727, 9728, 9729, 9731, 9734, 9735, 9736, 9737, 9738, 9739, 9740, 9741, 9742, 9744, 9745, 9746, 9749, 9752, 9754, 9755, 9760, 9761, 9765, 9766, 9771, 9772, 9774, 9775, 9777, 9778, 9780, 9781, 9782, 9783, 9784, 9786, 9787, 9788, 9791, 9792, 9794, 9795, 9797, 9798, 9802, 9805, 9808, 9809, 9810, 9812, 9815, 9816, 9820, 9821, 9822, 9824, 9825, 9826, 9828, 9832, 9834, 9835, 9838, 9840, 9841, 9842, 9843, 9844, 9846, 9847, 9848, 9849, 9850, 9851, 9852, 9854, 9855, 9856, 9858, 9859, 9860, 9862, 9864, 9865, 9866, 9867, 9870, 9871, 9872, 9875, 9876, 9879, 9880, 9881, 9883, 9884, 9885, 9886, 9888, 9889, 9890, 9891, 9893, 9895, 9896, 9897, 9900, 9901, 9903, 9904, 9905, 9906, 9908, 9910, 9911, 9914, 9915, 9916, 9917, 9918, 9919, 9920, 9921, 9925, 9926, 9927, 9931, 9933, 9935, 9936, 9937, 9939, 9940, 9942, 9943, 9944, 9946, 9947, 9948, 9949, 9951, 9955, 9956, 9962, 9963, 9965, 9966, 9967, 9970, 9971, 9972, 9973, 9974, 9977, 9978, 9980, 9981, 9982, 9983, 9985, 9986, 9987, 9988, 9989, 9990, 9992, 9994, 9996, 9998, 10000, 10001, 10002, 10004, 10006, 10008, 10009, 10010, 10011, 10012, 10013, 10014, 10015, 10016, 10019, 10020, 10021, 10022, 10023, 10024, 10025, 10027, 10029, 10030, 10031, 10032, 10033, 10034, 10035, 10036, 10037, 10038, 10039, 10040, 10041, 10042, 10044, 10046, 10047, 10051, 10052, 10053, 10056, 10060, 10061, 10063, 10064, 10065, 10066, 10068, 10070, 10071, 10073, 10074, 10076, 10078, 10087, 10089, 10091, 10092, 10094, 10095, 10096, 10098, 10101, 10104, 10105, 10106, 10107, 10108, 10109, 10113, 10115, 10116, 10117, 10118, 10119, 10122, 10125, 10127, 10129, 10131, 10132, 10133, 10134, 10135, 10136, 10137, 10139, 10140, 10141, 10147, 10149, 10151, 10152, 10155, 10156, 10157, 10158, 10160, 10161, 10167, 10170, 10171, 10173, 10176, 10178, 10180, 10181, 10182, 10183, 10186, 10189, 10190, 10191, 10192, 10194, 10195, 10196, 10197, 10198, 10200, 10203, 10205, 10206, 10207, 10208, 10209, 10213, 10214, 10216, 10217, 10221, 10222, 10223, 10225, 10227, 10232, 10233, 10234, 10235, 10236, 10237, 10238, 10240, 10241, 10243, 10244, 10245, 10246, 10248, 10249, 10250, 10251, 10253, 10254, 10255, 10257, 10258, 10260, 10263, 10266, 10267, 10268, 10271, 10273, 10275, 10277, 10279, 10281, 10282, 10283, 10284, 10286, 10287, 10289, 10293, 10298, 10299, 10301, 10302, 10303, 10305, 10307, 10308, 10312, 10313, 10314, 10315, 10316, 10317, 10319, 10320, 10322, 10323, 10324, 10326, 10327, 10328, 10331, 10332, 10333, 10334, 10335, 10338, 10340, 10342, 10343, 10344, 10346, 10348, 10349, 10351, 10352, 10354, 10355, 10356, 10357, 10358, 10359, 10361, 10363, 10365, 10366, 10367, 10368, 10369, 10371, 10373, 10374, 10375, 10376, 10377, 10380, 10381, 10382, 10384, 10385, 10386, 10387, 10388, 10389, 10392, 10394, 10395, 10396, 10397, 10398, 10400, 10402, 10403, 10404, 10405, 10406, 10407, 10409, 10410, 10411, 10413, 10415, 10416, 10418, 10419, 10420, 10421, 10422, 10424, 10425, 10427, 10428, 10429, 10430, 10432, 10435, 10436, 10437, 10438, 10439, 10440, 10442, 10443, 10444, 10445, 10446, 10447, 10449, 10450, 10451, 10453, 10455, 10456, 10457, 10461, 10462, 10463, 10464, 10465, 10466, 10467, 10469, 10476, 10477, 10478, 10479, 10480, 10482, 10483, 10484, 10485, 10486, 10487, 10491, 10493, 10494, 10496, 10497, 10500, 10501, 10504, 10506, 10507, 10509, 10510, 10512, 10514, 10515, 10516, 10518, 10519, 10521, 10522, 10523, 10525, 10527, 10529, 10531, 10534, 10535, 10536, 10538, 10539, 10540, 10541, 10542, 10544, 10545, 10546, 10549, 10550, 10551, 10554, 10555, 10556, 10560, 10561, 10564, 10565, 10569, 10572, 10574, 10576, 10577, 10578, 10579, 10580, 10583, 10584, 10587, 10588, 10590, 10592, 10593, 10594, 10598, 10599, 10600, 10601, 10602, 10604, 10605, 10608, 10611, 10612, 10615, 10617, 10618, 10619, 10620, 10621, 10622, 10623, 10624, 10626, 10627, 10629, 10630, 10631, 10636, 10637, 10640, 10645, 10647, 10650, 10651, 10652, 10653, 10655, 10659, 10660, 10662, 10663, 10664, 10665, 10666, 10667, 10668, 10670, 10672, 10674, 10675, 10676, 10677, 10683, 10686, 10689, 10692, 10693, 10695, 10696, 10698, 10699, 10701, 10705, 10706, 10708, 10711, 10713, 10714, 10717, 10718, 10720, 10721, 10723, 10729, 10731, 10733, 10735, 10736, 10740, 10741, 10742, 10743, 10744, 10746, 10747, 10750, 10751, 10752, 10755, 10756, 10758, 10759, 10760, 10761, 10762, 10763, 10764, 10765, 10766, 10767, 10769, 10771, 10772, 10773, 10775, 10776, 10777, 10778, 10779, 10780, 10784, 10785, 10786, 10788, 10792, 10793, 10794, 10796, 10798, 10799, 10800, 10801, 10803, 10805, 10806, 10807, 10808, 10809, 10810, 10811, 10812, 10813, 10815, 10816, 10817, 10818, 10819, 10820, 10821, 10822, 10823, 10825, 10829, 10830, 10831, 10832, 10833, 10836, 10837, 10838, 10840, 10841, 10843, 10844, 10845, 10846, 10847, 10849, 10850, 10851, 10852, 10854, 10855, 10856, 10858, 10860, 10861, 10863, 10864, 10866, 10867, 10868, 10869, 10870, 10872, 10873, 10874, 10876, 10877, 10878, 10879, 10881, 10883, 10884, 10885, 10886, 10887, 10888, 10889, 10892, 10894, 10896, 10897, 10898, 10902, 10904, 10905, 10906, 10909, 10910, 10911, 10912, 10914, 10915, 10916, 10917, 10919, 10921, 10924, 10925, 10926, 10931, 10934, 10936, 10939, 10942, 10943, 10947, 10950, 10954, 10955, 10956, 10957, 10958, 10960, 10962, 10963, 10964, 10965, 10966, 10967, 10969, 10971, 10973, 10976, 10977, 10978, 10981, 10982, 10983, 10987, 10988, 10989, 10991, 10992, 10993, 10994, 10996, 10998, 11000, 11001, 11003, 11004, 11006, 11007, 11008, 11009, 11010, 11011, 11012, 11014, 11015, 11016, 11020, 11021, 11023, 11024, 11026, 11027, 11029, 11032, 11033, 11036, 11038, 11040, 11042, 11043, 11044, 11045, 11049, 11053, 11054, 11056, 11058, 11059, 11062, 11065, 11066, 11069, 11074, 11076, 11078, 11079, 11080, 11081, 11082, 11084, 11085, 11086, 11087, 11089, 11091, 11092, 11094, 11096, 11097, 11098, 11100, 11101, 11102, 11103, 11105, 11108, 11109, 11111, 11114, 11115, 11117, 11120, 11121, 11122, 11123, 11125, 11131, 11133, 11136, 11137, 11138, 11139, 11143, 11145, 11146, 11149, 11151, 11153, 11154, 11155, 11156, 11157, 11158, 11159, 11160, 11164, 11165, 11168, 11169, 11170, 11172, 11175, 11176, 11178, 11179, 11181, 11184, 11185, 11186, 11189, 11191, 11192, 11193, 11195, 11197, 11198, 11201, 11202, 11204, 11205, 11207, 11209, 11212, 11214, 11215, 11216, 11217, 11218, 11220, 11224, 11225, 11226, 11227, 11228, 11232, 11233, 11234, 11236, 11237, 11238, 11240, 11241, 11242, 11243, 11244, 11247, 11248, 11251, 11252, 11253, 11254, 11255, 11258, 11261, 11262, 11264, 11266, 11269, 11270, 11271, 11272, 11273, 11274, 11278, 11279, 11280, 11281, 11284, 11285, 11287, 11288, 11289, 11293, 11295, 11297, 11300, 11301, 11302, 11303, 11306, 11308, 11309, 11310, 11311, 11312, 11314, 11315, 11316, 11317, 11319, 11321, 11322, 11323, 11325, 11326, 11327, 11330, 11331, 11334, 11337, 11338, 11341, 11342, 11346, 11347, 11349, 11350, 11351, 11353, 11358, 11359, 11360, 11363, 11364, 11365, 11368, 11369, 11371, 11372, 11373, 11374, 11375, 11376, 11377, 11379, 11380, 11381, 11382, 11383, 11385, 11386, 11387, 11390, 11392, 11394, 11395, 11396, 11397, 11398, 11399, 11400, 11403, 11404, 11405, 11408, 11409, 11411, 11412, 11413, 11416, 11417, 11418, 11421, 11422, 11424, 11425, 11427, 11428, 11429, 11431, 11434, 11435, 11436, 11437, 11438, 11439, 11440, 11441, 11443, 11444, 11449, 11450, 11451, 11452, 11453, 11455, 11456, 11457, 11459, 11460, 11461, 11463, 11467, 11469, 11470, 11471, 11472, 11473, 11475, 11479, 11480, 11483, 11484, 11485, 11486, 11488, 11489, 11494, 11495, 11496, 11497, 11498, 11501, 11502, 11503, 11505, 11507, 11509, 11510, 11512, 11515, 11516, 11517, 11519, 11520, 11521, 11522, 11524, 11528, 11529, 11530, 11531, 11532, 11533, 11536, 11537, 11539, 11540, 11541, 11542, 11543, 11544, 11545, 11546, 11547, 11548, 11549, 11553, 11555, 11556, 11557, 11558, 11559, 11560, 11561, 11562, 11563, 11564, 11566, 11567, 11569, 11573, 11574, 11578, 11579, 11580, 11582, 11583, 11585, 11586, 11588, 11592, 11593, 11595, 11596, 11597, 11598, 11600, 11602, 11604, 11605, 11607, 11608, 11611, 11615, 11618, 11620, 11622, 11623, 11624, 11625, 11626, 11630, 11632, 11633, 11634, 11636, 11639, 11640, 11641, 11643, 11644, 11647, 11648, 11649, 11650, 11651, 11652, 11653, 11654, 11655, 11656, 11657, 11658, 11659, 11660, 11661, 11662, 11664, 11665, 11667, 11669, 11670, 11671, 11674, 11679, 11680, 11685, 11687, 11688, 11690, 11692, 11694, 11695, 11697, 11700, 11702, 11704, 11705, 11712, 11714, 11716, 11720, 11721, 11723, 11724, 11726, 11728, 11729, 11730, 11731, 11735, 11736, 11737, 11740, 11741, 11743, 11744, 11745, 11746, 11752, 11756, 11757, 11761, 11763, 11764, 11765, 11770, 11771, 11772, 11774, 11775, 11776, 11777, 11778, 11779, 11782, 11783, 11785, 11787, 11789, 11790, 11791, 11792, 11793, 11796, 11797, 11799, 11802, 11803, 11804, 11805, 11806, 11807, 11809, 11810, 11816, 11817, 11819, 11820, 11821, 11822, 11823, 11824, 11827, 11828, 11829, 11830, 11832, 11833, 11835, 11836, 11838, 11839, 11840, 11843, 11844, 11845, 11846, 11847, 11848, 11849, 11851, 11852, 11853, 11855, 11856, 11857, 11858, 11859, 11860, 11861, 11862, 11864, 11867, 11868, 11870, 11871, 11873, 11876, 11878, 11879, 11881, 11882, 11884, 11885, 11889, 11891, 11892, 11895, 11898, 11899, 11900, 11901, 11904, 11905, 11906, 11909, 11911, 11912, 11913, 11914, 11917, 11922, 11923, 11925, 11926, 11928, 11931, 11932, 11933, 11934, 11935, 11936, 11937, 11941, 11942, 11944, 11946, 11947, 11948, 11949, 11951, 11952, 11953, 11954, 11955, 11956, 11957, 11958, 11959, 11960, 11963, 11964, 11965, 11966, 11967, 11969, 11970, 11973, 11975, 11977, 11978, 11979, 11980, 11983, 11984, 11985, 11986, 11987, 11988, 11989, 11990, 11991, 11992, 11997, 11998, 12000, 12001, 12002, 12003, 12004, 12006, 12008, 12010, 12013, 12016, 12018, 12019, 12021, 12024, 12025, 12026, 12027, 12028, 12030, 12032, 12033, 12034, 12036, 12037, 12039, 12040, 12042, 12043, 12045, 12046, 12049, 12051, 12052, 12053, 12054, 12055, 12056, 12058, 12059, 12060, 12062, 12063, 12064, 12066, 12067, 12068, 12070, 12071, 12072, 12079, 12080, 12081, 12084, 12085, 12087, 12088, 12090, 12091, 12092, 12099, 12101, 12105, 12106, 12109, 12110, 12111, 12113, 12114, 12115, 12116, 12119, 12120, 12121, 12123, 12124, 12125, 12137, 12138, 12141, 12142, 12143, 12144, 12145, 12146, 12149, 12150, 12151, 12152, 12153, 12157, 12160, 12161, 12162, 12163, 12164, 12166, 12167, 12169, 12170, 12171, 12173, 12175, 12176, 12177, 12179, 12181, 12182, 12183, 12184, 12185, 12186, 12187, 12188, 12189, 12191, 12193, 12194, 12196, 12197, 12198, 12199, 12200, 12201, 12202, 12204, 12205, 12207, 12208, 12214, 12215, 12216, 12217, 12218, 12223, 12224, 12225, 12226, 12229, 12230, 12232, 12235, 12236, 12237, 12238, 12244, 12245, 12246, 12248, 12249, 12251, 12254, 12255, 12258, 12259, 12264, 12265, 12266, 12267, 12268, 12269, 12271, 12272, 12273, 12274, 12276, 12277, 12278, 12280, 12282, 12284, 12285, 12286, 12289, 12290, 12292, 12293, 12294, 12300, 12302, 12303, 12305, 12306, 12308, 12311, 12313, 12315, 12316, 12318, 12319, 12321, 12322, 12324, 12325, 12327, 12328, 12329, 12330, 12331, 12332, 12334, 12335, 12337, 12338, 12340, 12344, 12345, 12347, 12349, 12350, 12351, 12352, 12353, 12355, 12356, 12361, 12362, 12365, 12366, 12367, 12368, 12369, 12370, 12371, 12372, 12376, 12378, 12380, 12383, 12386, 12389, 12391, 12392, 12393, 12394, 12395, 12396, 12397, 12398, 12400, 12401, 12402, 12403, 12404, 12409, 12411, 12413, 12414, 12415, 12416, 12418, 12419, 12420, 12421, 12422, 12423, 12425, 12426, 12427, 12429, 12430, 12434, 12435, 12436, 12438, 12439, 12440, 12441, 12446, 12448, 12453, 12454, 12456, 12458, 12462, 12463, 12464, 12465, 12468, 12469, 12470, 12474, 12475, 12476, 12477, 12478, 12480, 12485, 12488, 12491, 12492, 12493, 12495, 12497, 12499, 12501, 12502, 12503, 12505, 12506, 12507, 12508, 12510, 12511, 12512, 12513, 12515, 12516, 12517, 12520, 12521, 12522, 12525, 12528, 12533, 12534, 12535, 12536, 12538, 12539, 12540, 12541, 12542, 12545, 12546, 12549, 12550, 12551, 12552, 12553, 12556, 12557, 12560, 12561, 12565, 12566, 12567, 12570, 12571, 12572, 12574, 12576, 12577, 12578, 12580, 12581, 12582, 12584, 12585, 12586, 12587, 12590, 12591, 12592, 12593, 12594, 12595, 12596, 12598, 12599, 12600, 12603, 12604, 12605, 12606, 12607, 12609, 12610, 12611, 12612, 12613, 12614, 12615, 12616, 12618, 12619, 12620, 12621, 12623, 12624, 12625, 12626, 12627, 12628, 12630, 12632, 12634, 12635, 12637, 12638, 12639, 12644, 12646, 12647, 12649, 12650, 12653, 12654, 12655, 12656, 12658, 12661, 12663, 12664, 12667, 12675, 12677, 12678, 12679, 12681, 12683, 12684, 12685, 12686, 12687, 12690, 12696, 12698, 12699, 12700, 12702, 12704, 12705, 12706, 12707, 12709, 12717, 12719, 12721, 12722, 12723, 12726, 12730, 12733, 12736, 12738, 12739, 12740, 12741, 12742, 12743, 12744, 12746, 12747, 12750, 12751, 12752, 12753, 12754, 12755, 12756, 12757, 12760, 12761, 12762, 12764, 12765, 12766, 12768, 12769, 12771, 12773, 12774, 12775, 12776, 12777, 12786, 12787, 12788, 12789, 12791, 12792, 12794, 12795, 12796, 12797, 12798, 12799, 12800, 12803, 12805, 12807, 12808, 12810, 12811, 12812, 12813, 12815, 12816, 12817, 12818, 12821, 12822, 12824, 12825, 12826, 12827, 12833, 12834, 12835, 12837, 12839, 12840, 12843, 12844, 12846, 12847, 12848, 12849, 12852, 12855, 12858, 12859, 12860, 12861, 12862, 12864, 12866, 12867, 12868, 12870, 12875, 12876, 12878, 12879, 12880, 12881, 12882, 12887, 12888, 12890, 12893, 12894, 12895, 12896, 12897, 12899, 12902, 12903, 12905, 12907, 12908, 12909, 12912, 12913, 12916, 12919, 12920, 12922, 12924, 12926, 12927, 12928, 12930, 12931, 12932, 12934, 12935, 12936, 12937, 12939, 12940, 12941, 12942, 12944, 12946, 12948, 12949, 12951, 12960, 12962, 12967, 12968, 12969, 12970, 12971, 12973, 12975, 12977, 12980, 12981, 12982, 12983, 12984, 12987, 12988, 12991, 12992, 12993, 12994, 12997, 12998, 12999, 13000, 13001, 13002, 13004, 13007, 13008, 13009, 13010, 13011, 13012, 13013, 13014, 13015, 13016, 13018, 13019, 13023, 13024, 13025, 13028, 13029, 13032, 13033, 13034, 13036, 13037, 13038, 13042, 13044, 13045, 13046, 13048, 13049, 13050, 13052, 13053, 13054, 13055, 13056, 13057, 13059, 13060, 13063, 13064, 13065, 13066, 13068, 13069, 13070, 13072, 13074, 13075, 13078, 13079, 13080, 13082, 13083, 13084, 13086, 13088, 13089, 13090, 13093, 13094, 13098, 13099, 13101, 13102, 13107, 13108, 13109, 13112, 13113, 13115, 13116, 13118, 13120, 13121, 13122, 13124, 13126, 13127, 13129, 13130, 13131, 13132, 13133, 13134, 13137, 13139, 13140, 13141, 13142, 13144, 13147, 13148, 13151, 13152, 13153, 13154, 13155, 13161, 13162, 13163, 13166, 13168, 13170, 13171, 13172, 13173, 13174, 13178, 13179, 13180, 13183, 13184, 13185, 13187, 13189, 13190, 13193, 13195, 13197, 13200, 13202, 13203, 13205, 13206, 13207, 13208, 13210, 13213, 13214, 13215, 13216, 13218, 13219, 13220, 13222, 13224, 13225, 13226, 13227, 13228, 13229, 13230, 13231, 13232, 13234, 13238, 13241, 13242, 13243, 13244, 13246, 13247, 13248, 13250, 13251, 13252, 13253, 13254, 13255, 13256, 13257, 13259, 13261, 13262, 13264, 13266, 13271, 13274, 13277, 13278, 13280, 13281, 13282, 13283, 13284, 13285, 13288, 13289, 13290, 13292, 13294, 13295, 13296, 13297, 13298, 13300, 13302, 13303, 13307, 13310, 13313, 13316, 13318, 13321, 13322, 13324, 13325, 13327, 13330, 13331, 13333, 13336, 13337, 13338, 13339, 13341, 13344, 13346, 13347, 13349, 13351, 13352, 13353, 13355, 13358, 13360, 13363, 13367, 13370, 13371, 13372, 13373, 13374, 13376, 13377, 13379, 13382, 13383, 13384, 13386, 13387, 13388, 13389, 13391, 13393, 13395, 13396, 13397, 13398, 13399, 13400, 13401, 13405, 13406, 13408, 13410, 13411, 13416, 13417, 13418, 13419, 13420, 13421, 13422, 13423, 13425, 13427, 13428, 13430, 13431, 13432, 13433, 13434, 13435, 13436, 13440, 13441, 13442, 13443, 13445, 13447, 13451, 13454, 13455, 13456, 13457, 13459, 13460, 13461, 13463, 13467, 13468, 13469, 13470, 13471, 13472, 13474, 13476, 13478, 13479, 13480, 13481, 13482, 13486, 13487, 13488, 13489, 13490, 13491, 13492, 13493, 13496, 13497, 13500, 13502, 13503, 13504, 13505, 13506, 13508, 13511, 13512, 13513, 13514, 13518, 13520, 13521, 13523, 13525, 13526, 13527, 13530, 13532, 13535, 13536, 13538, 13540, 13541, 13542, 13544, 13545, 13548, 13550, 13551, 13552, 13555, 13558, 13559, 13560, 13561, 13562, 13563, 13564, 13565, 13567, 13568, 13570, 13572, 13574, 13575, 13576, 13577, 13580, 13581, 13582, 13583, 13584, 13588, 13589, 13591, 13593, 13594, 13595, 13597, 13600, 13602, 13608, 13609, 13610, 13612, 13613, 13616, 13618, 13619, 13620, 13621, 13623, 13624, 13625, 13626, 13630, 13631, 13634, 13635, 13636, 13641, 13642, 13644, 13647, 13648, 13650, 13655, 13659, 13661, 13662, 13663, 13664, 13667, 13675, 13677, 13678, 13679, 13681, 13682, 13684, 13686, 13687, 13689, 13692, 13693, 13694, 13696, 13697, 13702, 13703, 13705, 13706, 13708, 13709, 13710, 13712, 13714, 13715, 13716, 13717, 13718, 13719, 13720, 13721, 13723, 13724, 13725, 13727, 13728, 13730, 13731, 13734, 13735, 13736, 13737, 13739, 13740, 13741, 13745, 13746, 13750, 13751, 13753, 13755, 13756, 13757, 13759, 13760, 13762, 13763, 13764, 13766, 13767, 13769, 13770, 13771, 13775, 13776, 13779, 13780, 13781, 13782, 13783, 13784, 13785, 13787, 13788, 13789, 13791, 13792, 13793, 13794, 13795, 13796, 13797, 13798, 13800, 13802, 13803, 13805, 13808, 13810, 13811, 13812, 13813, 13816, 13817, 13819, 13820, 13822, 13823, 13824, 13825, 13829, 13831, 13832, 13837, 13838, 13839, 13842, 13845, 13846, 13847, 13849, 13852, 13853, 13855, 13856, 13864, 13866, 13867, 13869, 13870, 13871, 13872, 13873, 13874, 13875, 13876, 13877, 13881, 13882, 13883, 13884, 13885, 13886, 13887, 13888, 13889, 13890, 13891, 13892, 13897, 13899, 13900, 13903, 13905, 13907, 13908, 13909, 13911, 13914, 13915, 13918, 13920, 13921, 13922, 13923, 13924, 13925, 13927, 13928, 13930, 13931, 13932, 13936, 13937, 13939, 13942, 13943, 13945, 13948, 13949, 13952, 13953, 13954, 13956, 13961, 13962, 13964, 13968, 13969, 13972, 13973, 13975, 13977, 13978, 13982, 13983, 13986, 13988, 13989, 13990, 13991, 13992, 13993, 13994, 13995, 13997, 13999, 14001, 14002, 14003, 14004, 14005, 14006, 14007, 14009, 14014, 14015, 14016, 14017, 14018, 14020, 14021, 14022, 14023, 14024, 14025, 14026, 14027, 14029, 14031, 14032, 14033, 14034, 14035, 14036, 14037, 14039, 14041, 14042, 14043, 14045, 14046, 14047, 14051, 14052, 14053, 14055, 14056, 14057, 14058, 14061, 14062, 14064, 14067, 14068, 14069, 14070, 14071, 14072, 14073, 14077, 14078, 14079, 14082, 14084, 14087, 14088, 14089, 14090, 14091, 14092, 14094, 14095, 14096, 14100, 14102, 14105, 14109, 14110, 14111, 14115, 14117, 14118, 14120, 14121, 14122, 14125, 14127, 14128, 14129, 14134, 14135, 14137, 14138, 14139, 14140, 14141, 14142, 14146, 14147, 14148, 14150, 14152, 14153, 14154, 14155, 14156, 14158, 14160, 14161, 14162, 14163, 14164, 14165, 14170, 14171, 14172, 14173, 14174, 14175, 14176, 14181, 14182, 14183, 14184, 14185, 14187, 14188, 14189, 14190, 14191, 14193, 14194, 14195, 14196, 14199, 14200, 14201, 14202, 14204, 14209, 14212, 14213, 14214, 14216, 14217, 14218, 14220, 14221, 14222, 14226, 14228, 14231, 14232, 14235, 14236, 14237, 14238, 14240, 14241, 14242, 14244, 14246, 14247, 14249, 14251, 14252, 14253, 14254, 14255, 14256, 14257, 14258, 14259, 14262, 14263, 14267, 14268, 14269, 14270, 14273, 14276, 14277, 14278, 14281, 14282, 14283, 14285, 14286, 14287, 14288, 14291, 14292, 14293, 14294, 14295, 14296, 14297, 14298, 14299, 14300, 14304, 14305, 14306, 14307, 14309, 14314, 14315, 14318, 14319, 14320, 14321, 14322, 14323, 14325, 14326, 14328, 14330, 14331, 14332, 14336, 14337, 14338, 14339, 14340, 14341, 14342, 14344, 14345, 14346, 14347, 14348, 14350, 14351, 14357, 14358, 14360, 14361, 14362, 14364, 14365, 14366, 14367, 14368, 14369, 14370, 14371, 14372, 14373, 14374, 14375, 14376, 14377, 14378, 14379, 14382, 14383, 14384, 14386, 14387, 14389, 14390, 14393, 14394, 14396, 14398, 14399, 14401, 14402, 14404, 14406, 14407, 14408, 14409, 14411, 14415, 14416, 14417, 14418, 14419, 14421, 14422, 14427, 14428, 14432, 14434, 14435, 14437, 14438, 14439, 14440, 14442, 14444, 14446, 14448, 14449, 14452, 14453, 14454, 14456, 14458, 14460, 14461, 14464, 14467, 14468, 14472, 14474, 14475, 14476, 14477, 14478, 14481, 14482, 14484, 14485, 14486, 14487, 14488, 14489, 14490, 14492, 14494, 14495, 14500, 14501, 14502, 14504, 14506, 14507, 14510, 14511, 14512, 14513, 14514, 14515, 14516, 14517, 14520, 14522, 14523, 14525, 14526, 14527, 14530, 14531, 14532, 14533, 14534, 14535, 14537, 14539, 14540, 14541, 14542, 14544, 14545, 14547, 14548, 14549, 14550, 14551, 14552, 14554, 14556, 14557, 14558, 14559, 14566, 14567, 14568, 14569, 14570, 14572, 14573, 14575, 14576, 14578, 14579, 14580, 14581, 14582, 14586, 14588, 14589, 14591, 14593, 14594, 14595, 14596, 14597, 14599, 14600, 14603, 14604, 14605, 14607, 14611, 14616, 14617, 14621, 14623, 14624, 14625, 14626, 14629, 14630, 14631, 14632, 14633, 14634, 14635, 14636, 14638, 14642, 14645, 14647, 14648, 14649, 14650, 14654, 14655, 14656, 14657, 14658, 14660, 14661, 14662, 14665, 14666, 14667, 14668, 14669, 14670, 14671, 14675, 14676, 14677, 14679, 14681, 14683, 14685, 14686, 14689, 14691, 14693, 14695, 14696, 14697, 14700, 14701, 14703, 14704, 14708, 14709, 14712, 14714, 14715, 14717, 14718, 14719, 14720, 14721, 14722, 14723, 14724, 14726, 14727, 14728, 14729, 14732, 14733, 14740, 14741, 14742, 14743, 14744, 14746, 14749, 14750, 14751, 14753, 14754, 14755, 14756, 14757, 14758, 14759, 14762, 14763, 14764, 14765, 14766, 14769, 14772, 14773, 14774, 14775, 14776, 14777, 14778, 14779, 14780, 14781, 14782, 14784, 14786, 14787, 14789, 14797, 14798, 14799, 14802, 14803, 14804, 14809, 14810, 14812, 14813, 14815, 14821, 14824, 14826, 14827, 14828, 14830, 14833, 14838, 14839, 14840, 14842, 14846, 14848, 14849, 14850, 14851, 14852, 14854, 14855, 14856, 14859, 14861, 14862, 14863, 14867, 14869, 14871, 14872, 14873, 14874, 14875, 14876, 14877, 14878, 14879, 14880, 14881, 14882, 14883, 14884, 14886, 14888, 14889, 14890, 14891, 14892, 14895, 14896, 14898, 14899, 14901, 14902, 14903, 14904, 14908, 14909, 14910, 14915, 14916, 14917, 14918, 14919, 14920, 14921, 14923, 14924, 14925, 14926, 14929, 14931, 14932, 14934, 14938, 14939, 14940, 14941, 14942, 14943, 14944, 14945, 14946, 14949, 14950, 14952, 14953, 14955, 14956, 14959, 14963, 14967, 14969, 14970, 14971, 14972, 14973, 14974, 14975, 14976, 14981, 14982, 14984, 14985, 14986, 14988, 14989, 14994, 14997, 14998, 15001, 15002, 15005, 15006, 15007, 15008, 15009, 15012, 15013, 15017, 15018, 15019, 15021, 15022, 15023, 15024, 15025, 15028, 15029, 15030, 15031, 15032, 15033, 15034, 15035, 15036, 15038, 15039, 15040, 15041, 15043, 15048, 15050, 15052, 15057, 15058, 15060, 15061, 15063, 15064, 15065, 15068, 15072, 15073, 15076, 15077, 15078, 15079, 15080, 15082, 15084, 15086, 15090, 15093, 15094, 15095, 15098, 15102, 15104, 15107, 15110, 15113, 15115, 15116, 15117, 15118, 15119, 15121, 15122, 15123, 15126, 15127, 15128, 15129, 15130, 15132, 15133, 15134, 15135, 15137, 15138, 15141, 15143, 15144, 15147, 15148, 15149, 15150, 15151, 15152, 15155, 15159, 15162, 15163, 15165, 15166, 15168, 15169, 15170, 15173, 15174, 15175, 15181, 15182, 15186, 15190, 15193, 15194, 15195, 15198, 15200, 15204, 15206, 15208, 15209, 15214, 15215, 15216, 15217, 15218, 15220, 15222, 15223, 15224, 15225, 15226, 15227, 15228, 15231, 15232, 15233, 15234, 15236, 15237, 15238, 15240, 15248, 15249, 15252, 15253, 15255, 15256, 15257, 15258, 15265, 15266, 15267, 15269, 15270, 15271, 15272, 15273, 15274, 15277, 15280, 15281, 15282, 15283, 15284, 15287, 15288, 15290, 15293, 15294, 15296, 15297, 15298, 15299, 15300, 15303, 15306, 15309, 15310, 15314, 15316, 15319, 15320, 15321, 15322, 15323, 15324, 15325, 15328, 15330, 15331, 15332, 15333, 15335, 15336, 15337, 15338, 15339, 15340, 15341, 15343, 15344, 15345, 15346, 15347, 15348, 15349, 15350, 15352, 15353, 15354, 15355, 15356, 15357, 15358, 15359, 15362, 15365, 15367, 15368, 15370, 15371, 15372, 15374, 15375, 15376, 15381, 15383, 15384, 15385, 15388, 15391, 15392, 15393, 15394, 15395, 15396, 15397, 15401, 15402, 15403, 15407, 15408, 15412, 15413, 15414, 15415, 15417, 15419, 15420, 15421, 15422, 15427, 15428, 15431, 15432, 15438, 15439, 15440, 15442, 15443, 15444, 15446, 15447, 15448, 15452, 15453, 15454, 15455, 15456, 15457, 15459, 15460, 15461, 15462, 15464, 15465, 15466, 15467, 15468, 15469, 15471, 15472, 15473, 15475, 15476, 15479, 15480, 15481, 15482, 15484, 15485, 15488, 15489, 15491, 15492, 15493, 15495, 15496, 15497, 15499, 15500, 15504, 15505, 15507, 15508, 15510, 15511, 15512, 15513, 15514, 15516, 15517, 15518, 15519, 15520, 15523, 15525, 15527, 15528, 15529, 15532, 15536, 15537, 15538, 15539, 15542, 15543, 15544, 15545, 15549, 15551, 15552, 15555, 15557, 15558, 15560, 15561, 15563, 15564, 15567, 15568, 15569, 15571, 15572, 15574, 15575, 15576, 15577, 15578, 15580, 15582, 15583, 15585, 15587, 15589, 15591, 15592, 15595, 15596, 15597, 15598, 15599, 15601, 15602, 15603, 15604, 15605, 15606, 15607, 15609, 15612, 15614, 15615, 15616, 15617, 15620, 15621, 15623, 15624, 15625, 15626, 15627, 15628, 15629, 15633, 15635, 15637, 15638, 15639, 15640, 15641, 15642, 15643, 15646, 15647, 15653, 15655, 15659, 15660, 15661, 15663, 15664, 15665, 15667, 15669, 15670, 15671, 15672, 15674, 15676, 15678, 15679, 15680, 15681, 15682, 15683, 15686, 15689, 15690, 15691, 15693, 15694, 15695, 15697, 15698, 15699, 15700, 15701, 15703, 15704, 15705, 15706, 15708, 15709, 15710, 15712, 15714, 15715, 15717, 15718, 15722, 15726, 15727, 15729, 15730, 15731, 15733, 15735, 15737, 15739, 15740, 15741, 15743, 15744, 15747, 15748, 15750, 15752, 15756, 15761, 15762, 15763, 15764, 15765, 15767, 15769, 15776, 15778, 15780, 15781, 15782, 15784, 15785, 15787, 15788, 15789, 15790, 15791, 15792, 15794, 15795, 15796, 15797, 15799, 15800, 15801, 15803, 15804, 15810, 15812, 15815, 15816, 15817, 15823, 15824, 15826, 15828, 15830, 15832, 15835, 15836, 15837, 15838, 15840, 15843, 15844, 15845, 15846, 15849, 15851, 15853, 15858, 15859, 15860, 15862, 15863, 15869, 15870, 15873, 15874, 15877, 15879, 15880, 15881, 15882, 15883, 15884, 15887, 15891, 15893, 15896, 15897, 15898, 15900, 15901, 15903, 15904, 15905, 15906, 15912, 15913, 15914, 15915, 15916, 15917, 15918, 15919, 15920, 15922, 15923, 15925, 15928, 15932, 15934, 15935, 15936, 15938, 15939, 15940, 15942, 15945, 15946, 15948, 15950, 15951, 15952, 15954, 15955, 15957, 15958, 15959, 15960, 15963, 15966, 15968, 15971, 15972, 15973, 15975, 15977, 15978, 15980, 15982, 15984, 15986, 15989, 15990, 15991, 15992, 15993, 15995, 15996, 15997, 15998, 15999, 16001, 16002, 16003, 16004, 16005, 16006, 16009, 16010, 16011, 16014, 16016, 16019, 16021, 16022, 16025, 16026, 16028, 16032, 16033, 16034, 16035, 16038, 16039, 16040, 16041, 16043, 16044, 16047, 16048, 16049, 16050, 16053, 16054, 16055, 16056, 16058, 16059, 16060, 16061, 16062, 16064, 16067, 16069, 16073, 16074, 16075, 16077, 16078, 16079, 16080, 16082, 16084, 16085, 16087, 16089, 16090, 16091, 16093, 16094, 16096, 16099, 16100, 16102, 16105, 16106, 16109, 16110, 16113, 16114, 16118, 16119, 16120, 16121, 16122, 16124, 16126, 16127, 16129, 16130, 16137, 16138, 16140, 16141, 16142, 16143, 16144, 16145, 16149, 16150, 16152, 16153, 16154, 16155, 16156, 16157, 16159, 16160, 16161, 16162, 16163, 16164, 16165, 16170, 16172, 16173, 16174, 16183, 16185, 16186, 16187, 16188, 16189, 16190, 16192, 16193, 16194, 16195, 16196, 16197, 16198, 16199, 16200, 16201, 16203, 16204, 16206, 16208, 16209, 16210, 16211, 16214, 16215, 16216, 16217, 16218, 16219, 16220, 16221, 16224, 16226, 16228, 16229, 16230, 16231, 16233, 16236, 16237, 16238, 16239, 16240, 16241, 16242, 16243, 16244, 16246, 16248, 16251, 16252, 16254, 16255, 16257, 16258, 16259, 16261, 16264, 16265, 16266, 16267, 16268, 16269, 16270, 16271, 16272, 16273, 16276, 16277, 16279, 16280, 16283, 16284, 16285, 16286, 16288, 16289, 16290, 16294, 16295, 16297, 16298, 16300, 16301, 16302, 16304, 16307, 16310, 16311, 16312, 16313, 16314, 16317, 16322, 16323, 16324, 16325, 16326, 16328, 16331, 16332, 16334, 16335, 16336, 16337, 16338, 16339, 16340, 16342, 16343, 16344, 16345, 16346, 16347, 16349, 16352, 16355, 16358, 16359, 16360, 16361, 16362, 16364, 16365, 16366, 16369, 16370, 16372, 16374, 16375, 16376, 16377, 16381, 16384, 16385, 16386, 16387, 16390, 16391, 16393, 16395, 16396, 16397, 16398, 16399, 16400, 16403, 16404, 16406, 16408, 16409, 16410, 16412, 16413, 16415, 16416, 16417, 16418, 16420, 16421, 16422, 16423, 16424, 16425, 16426, 16427, 16428, 16429, 16433, 16435, 16439, 16441, 16443, 16445, 16449, 16451, 16452, 16453, 16454, 16460, 16461, 16462, 16463, 16465, 16466, 16472, 16474, 16475, 16476, 16477, 16478, 16479, 16480, 16481, 16482, 16483, 16485, 16486, 16487, 16492, 16493, 16494, 16496, 16498, 16499, 16500, 16501, 16508, 16509, 16510, 16511, 16512, 16513, 16514, 16515, 16516, 16517, 16519, 16520, 16521, 16523, 16524, 16525, 16526, 16527, 16529, 16531, 16532, 16536, 16537, 16538, 16539, 16540, 16541, 16543, 16546, 16547, 16549, 16550, 16552, 16553, 16559, 16560, 16561, 16565, 16566, 16567, 16568, 16570, 16572, 16573, 16574, 16575, 16577, 16578, 16583, 16584, 16585, 16586, 16587, 16588, 16589, 16591, 16594, 16596, 16597, 16599, 16601, 16602, 16603, 16604, 16605, 16606, 16608, 16611, 16613, 16614, 16616, 16619, 16623, 16624, 16626, 16627, 16628, 16629, 16630, 16631, 16632, 16635, 16636, 16637, 16639, 16646, 16647, 16649, 16650, 16651, 16652, 16655, 16657, 16658, 16659, 16660, 16661, 16662, 16663, 16664, 16665, 16666, 16669, 16671, 16673, 16674, 16675, 16677, 16678, 16680, 16681, 16683, 16684, 16685, 16687, 16691, 16693, 16694, 16695, 16696, 16697, 16699, 16700, 16701, 16702, 16704, 16706, 16707, 16708, 16709, 16710, 16711, 16712, 16714, 16715, 16716, 16717, 16718, 16720, 16721, 16722, 16723, 16724, 16727, 16728, 16729, 16730, 16733, 16734, 16735, 16736, 16737, 16740, 16741, 16743, 16744, 16745, 16746, 16748, 16749, 16750, 16751, 16752, 16753, 16755, 16756, 16759, 16760, 16761, 16767, 16769, 16772, 16773, 16774, 16776, 16777, 16778, 16779, 16780, 16781, 16782, 16783, 16784, 16786, 16787, 16788, 16789, 16790, 16792, 16794, 16797, 16799, 16801, 16802, 16803, 16804, 16805, 16806, 16807, 16808, 16810, 16812, 16813, 16815, 16819, 16820, 16821, 16822, 16823, 16825, 16826, 16827, 16829, 16830, 16831, 16833, 16837, 16839, 16840, 16841, 16843, 16845, 16846, 16848, 16849, 16850, 16852, 16856, 16857, 16858, 16860, 16861, 16866, 16867, 16869, 16870, 16873, 16874, 16876, 16879, 16881, 16882, 16884, 16885, 16889, 16890, 16891, 16893, 16894, 16895, 16896, 16897, 16898, 16901, 16903, 16904, 16907, 16909, 16911, 16912, 16917, 16918, 16919, 16920, 16921, 16924, 16925, 16926, 16928, 16930, 16932, 16933, 16934, 16935, 16937, 16939, 16945, 16946, 16947, 16948, 16949, 16951, 16952, 16956, 16957, 16958, 16959, 16963, 16964, 16966, 16968, 16972, 16973, 16977, 16978, 16979, 16983, 16984, 16985, 16987, 16990, 16991, 16992, 16995, 16996, 16997, 16999, 17002, 17006, 17008, 17009, 17010, 17012, 17013, 17014, 17015, 17017, 17018, 17019, 17022, 17023, 17024, 17027, 17033, 17034, 17038, 17039, 17040, 17041, 17043, 17045, 17047, 17048, 17051, 17052, 17054, 17055, 17057, 17059, 17060, 17061, 17067, 17068, 17069, 17070, 17071, 17072, 17075, 17076, 17077, 17078, 17079, 17081, 17085, 17086, 17087, 17090, 17092, 17093, 17094, 17096, 17097, 17098, 17099, 17101, 17104, 17105, 17106, 17108, 17111, 17112, 17114, 17115, 17116, 17117, 17119, 17121, 17122, 17123, 17125, 17126, 17127, 17129, 17130, 17131, 17132, 17136, 17137, 17138, 17140, 17141, 17142, 17143, 17144, 17148, 17149, 17150, 17151, 17152, 17153, 17154, 17156, 17157, 17159, 17166, 17168, 17169, 17171, 17172, 17174, 17176, 17177, 17179, 17180, 17181, 17183, 17184, 17185, 17186, 17187, 17188, 17190, 17192, 17195, 17196, 17199, 17200, 17201, 17206, 17207, 17209, 17211, 17212, 17213, 17215, 17216, 17217, 17219, 17223, 17224, 17225, 17226, 17229, 17230, 17231, 17232, 17233, 17234, 17235, 17238, 17241, 17243, 17244, 17247, 17248, 17250, 17251, 17252, 17253, 17256, 17257, 17259, 17260, 17261, 17262, 17265, 17267, 17268, 17269, 17270, 17271, 17272, 17274, 17276, 17277, 17279, 17280, 17283, 17284, 17286, 17287, 17288, 17289, 17292, 17293, 17294, 17296, 17298, 17299, 17304, 17307, 17309, 17310, 17311, 17313, 17314, 17315, 17316, 17317, 17320, 17321, 17322, 17323, 17325, 17332, 17334, 17336, 17337, 17340, 17341, 17342, 17343, 17344, 17345, 17347, 17350, 17351, 17352, 17355, 17356, 17357, 17359, 17361, 17362, 17363, 17364, 17365, 17366, 17367, 17368, 17369, 17370, 17371, 17374, 17375, 17376, 17378, 17379, 17380, 17382, 17383, 17384, 17385, 17387, 17388, 17391, 17392, 17395, 17396, 17397, 17398, 17400, 17401, 17402, 17404, 17406, 17407, 17408, 17409, 17410, 17411, 17412, 17413, 17414, 17415, 17416, 17417, 17423, 17424, 17427, 17428, 17429, 17430, 17432, 17433, 17435, 17439, 17440, 17441, 17442, 17443, 17444, 17447, 17448, 17450, 17451, 17452, 17454, 17457, 17458, 17459, 17460, 17461, 17462, 17464, 17465, 17466, 17467, 17468, 17471, 17473, 17475, 17476, 17478, 17480, 17482, 17483, 17484, 17486, 17488, 17489, 17493, 17494, 17495, 17497, 17500, 17501, 17502, 17504, 17505, 17507, 17508, 17510, 17514, 17515, 17518, 17521, 17522, 17524, 17528, 17535, 17536, 17537, 17543, 17544, 17545, 17546, 17549, 17550, 17551, 17556, 17557, 17558, 17559, 17560, 17562, 17563, 17568, 17569, 17570, 17571, 17572, 17574, 17576, 17578, 17580, 17583, 17585, 17587, 17589, 17590, 17591, 17592, 17595, 17597, 17598, 17599, 17600, 17601, 17602, 17604, 17606, 17607, 17608, 17609, 17610, 17612, 17613, 17618, 17619, 17622, 17624, 17627, 17628, 17630, 17634, 17636, 17644, 17645, 17647, 17648, 17649, 17650, 17652, 17653, 17656, 17658, 17659, 17661, 17662, 17663, 17664, 17666, 17667, 17668, 17669, 17671, 17672, 17673, 17674, 17677, 17679, 17680, 17682, 17683, 17685, 17687, 17688, 17689, 17691, 17693, 17695, 17698, 17699, 17700, 17702, 17703, 17704, 17706, 17707, 17708, 17713, 17714, 17716, 17718, 17720, 17723, 17725, 17728, 17730, 17731, 17733, 17734, 17736, 17737, 17739, 17740, 17741, 17743, 17744, 17745, 17746, 17747, 17748, 17749, 17750, 17751, 17752, 17753, 17754, 17755, 17756, 17758, 17759, 17761, 17762, 17763, 17766, 17768, 17769, 17770, 17771, 17772, 17773, 17775, 17777, 17779, 17783, 17784, 17785, 17786, 17787, 17788, 17790, 17791, 17792, 17793, 17794, 17795, 17797, 17801, 17803, 17804, 17805, 17809, 17812, 17813, 17814, 17815, 17816, 17818, 17819, 17822, 17823, 17827, 17828, 17829, 17830, 17832, 17836, 17838, 17839, 17840, 17841, 17845, 17846, 17847, 17848, 17851, 17853, 17854, 17856, 17858, 17859, 17862, 17863, 17864, 17865, 17866, 17867, 17868, 17869, 17870, 17871, 17872, 17873, 17874, 17875, 17877, 17880, 17883, 17884, 17886, 17887, 17889, 17890, 17896, 17900, 17901, 17902, 17903, 17906, 17907, 17909, 17910, 17912, 17913, 17914, 17915, 17916, 17917, 17918, 17919, 17921, 17922, 17923, 17924, 17925, 17926, 17927, 17929, 17930, 17932, 17934, 17935, 17936, 17937, 17938, 17939, 17941, 17942, 17943, 17948, 17949, 17950, 17952, 17954, 17955, 17956, 17957, 17958, 17960, 17961, 17962, 17963, 17966, 17968, 17969, 17973, 17976, 17977, 17978, 17979, 17980, 17981, 17983, 17985, 17986, 17988, 17989, 17991, 17992, 17993, 17995, 17999, 18002, 18003, 18004, 18007, 18008, 18010, 18011, 18012, 18014, 18016, 18017, 18019, 18022, 18023, 18025, 18026, 18027, 18028, 18030, 18032, 18033, 18034, 18035, 18036, 18037, 18039, 18041, 18043, 18044, 18047, 18051, 18054, 18055, 18056, 18057, 18060, 18064, 18065, 18066, 18067, 18071, 18072, 18073, 18074, 18076, 18077, 18080, 18082, 18084, 18085, 18087, 18088, 18090, 18091, 18092, 18093, 18094, 18095, 18097, 18098, 18099, 18100, 18101, 18104, 18108, 18109, 18111, 18112, 18116, 18118, 18119, 18120, 18121, 18123, 18125, 18127, 18130, 18131, 18132, 18133, 18134, 18137, 18138, 18141, 18144, 18145, 18146, 18147, 18150, 18152, 18156, 18158, 18159, 18160, 18161, 18163, 18165, 18169, 18172, 18179, 18180, 18181, 18182, 18183, 18184, 18185, 18186, 18187, 18188, 18189, 18191, 18194, 18195, 18197, 18198, 18199, 18200, 18205, 18206, 18208, 18210, 18211, 18214, 18216, 18218, 18219, 18220, 18222, 18225, 18226, 18227, 18228, 18229, 18231, 18232, 18233, 18234, 18237, 18238, 18246, 18247, 18248, 18250, 18252, 18253, 18254, 18255, 18256, 18257, 18258, 18261, 18263, 18264, 18265, 18267, 18268, 18269, 18272, 18273, 18274, 18275, 18276, 18277, 18278, 18279, 18282, 18285, 18287, 18288, 18289, 18290, 18291, 18292, 18294, 18297, 18299, 18300, 18302, 18303, 18304, 18305, 18308, 18309, 18311, 18313, 18317, 18319, 18321, 18322, 18323, 18324, 18325, 18326, 18328, 18330, 18331, 18332, 18333, 18335, 18336, 18338, 18341, 18342, 18345, 18346, 18347, 18348, 18350, 18351, 18355, 18356, 18357, 18358, 18360, 18363, 18364, 18365, 18367, 18368, 18369, 18370, 18372, 18373}, slice(None, None, None))' is an invalid key"
     ]
    }
   ],
   "source": [
    "# storing the reshaped data in X_train_bis based on the 'to_keep' variable containing the sample to be kept\n",
    "#X_train_bis = X_train[to_keep,:] \n",
    "#X_train_bis = X_train[list(to_keep),:] "
   ]
  },
  {
   "cell_type": "code",
   "execution_count": 168,
   "id": "d9cb2413",
   "metadata": {},
   "outputs": [],
   "source": [
    "# storing the corresponding y of reshaped data in y_train_bis, based on the 'to_keep' variable containing the sample to be kept\n",
    "y_train_bis = np.array(y_train)[list(to_keep)]"
   ]
  },
  {
   "cell_type": "code",
   "execution_count": 169,
   "id": "0503eb60",
   "metadata": {},
   "outputs": [
    {
     "data": {
      "text/plain": [
       "((11187, 3046), (11187,))"
      ]
     },
     "execution_count": 169,
     "metadata": {},
     "output_type": "execute_result"
    }
   ],
   "source": [
    "# checking of the size of X_train_bis & y_train_bis\n",
    "X_train_bis.shape, y_train_bis.shape"
   ]
  },
  {
   "cell_type": "code",
   "execution_count": 203,
   "id": "066ee2c0",
   "metadata": {},
   "outputs": [
    {
     "data": {
      "text/html": [
       "<div>\n",
       "<style scoped>\n",
       "    .dataframe tbody tr th:only-of-type {\n",
       "        vertical-align: middle;\n",
       "    }\n",
       "\n",
       "    .dataframe tbody tr th {\n",
       "        vertical-align: top;\n",
       "    }\n",
       "\n",
       "    .dataframe thead th {\n",
       "        text-align: right;\n",
       "    }\n",
       "</style>\n",
       "<table border=\"1\" class=\"dataframe\">\n",
       "  <thead>\n",
       "    <tr style=\"text-align: right;\">\n",
       "      <th></th>\n",
       "      <th>char_count</th>\n",
       "      <th>word_count</th>\n",
       "      <th>sent_count</th>\n",
       "      <th>capital_char_count</th>\n",
       "      <th>capital_word_count</th>\n",
       "      <th>quoted_word_count</th>\n",
       "      <th>stopword_count</th>\n",
       "      <th>unique_word_count</th>\n",
       "      <th>htag_count</th>\n",
       "      <th>mention_count</th>\n",
       "      <th>...</th>\n",
       "      <th>2990</th>\n",
       "      <th>2991</th>\n",
       "      <th>2992</th>\n",
       "      <th>2993</th>\n",
       "      <th>2994</th>\n",
       "      <th>2995</th>\n",
       "      <th>2996</th>\n",
       "      <th>2997</th>\n",
       "      <th>2998</th>\n",
       "      <th>2999</th>\n",
       "    </tr>\n",
       "  </thead>\n",
       "  <tbody>\n",
       "    <tr>\n",
       "      <th>0</th>\n",
       "      <td>192</td>\n",
       "      <td>41</td>\n",
       "      <td>2</td>\n",
       "      <td>3</td>\n",
       "      <td>0</td>\n",
       "      <td>0</td>\n",
       "      <td>19</td>\n",
       "      <td>34</td>\n",
       "      <td>0</td>\n",
       "      <td>0</td>\n",
       "      <td>...</td>\n",
       "      <td>0.0</td>\n",
       "      <td>0.0</td>\n",
       "      <td>0.0</td>\n",
       "      <td>0.0</td>\n",
       "      <td>0.0</td>\n",
       "      <td>0.0</td>\n",
       "      <td>0.0</td>\n",
       "      <td>0.0</td>\n",
       "      <td>0.0</td>\n",
       "      <td>0.0</td>\n",
       "    </tr>\n",
       "    <tr>\n",
       "      <th>1</th>\n",
       "      <td>51</td>\n",
       "      <td>10</td>\n",
       "      <td>2</td>\n",
       "      <td>2</td>\n",
       "      <td>1</td>\n",
       "      <td>0</td>\n",
       "      <td>4</td>\n",
       "      <td>10</td>\n",
       "      <td>0</td>\n",
       "      <td>0</td>\n",
       "      <td>...</td>\n",
       "      <td>0.0</td>\n",
       "      <td>0.0</td>\n",
       "      <td>0.0</td>\n",
       "      <td>0.0</td>\n",
       "      <td>0.0</td>\n",
       "      <td>0.0</td>\n",
       "      <td>0.0</td>\n",
       "      <td>0.0</td>\n",
       "      <td>0.0</td>\n",
       "      <td>0.0</td>\n",
       "    </tr>\n",
       "    <tr>\n",
       "      <th>3</th>\n",
       "      <td>75</td>\n",
       "      <td>16</td>\n",
       "      <td>1</td>\n",
       "      <td>1</td>\n",
       "      <td>0</td>\n",
       "      <td>0</td>\n",
       "      <td>8</td>\n",
       "      <td>14</td>\n",
       "      <td>0</td>\n",
       "      <td>0</td>\n",
       "      <td>...</td>\n",
       "      <td>0.0</td>\n",
       "      <td>0.0</td>\n",
       "      <td>0.0</td>\n",
       "      <td>0.0</td>\n",
       "      <td>0.0</td>\n",
       "      <td>0.0</td>\n",
       "      <td>0.0</td>\n",
       "      <td>0.0</td>\n",
       "      <td>0.0</td>\n",
       "      <td>0.0</td>\n",
       "    </tr>\n",
       "    <tr>\n",
       "      <th>4</th>\n",
       "      <td>11</td>\n",
       "      <td>2</td>\n",
       "      <td>1</td>\n",
       "      <td>1</td>\n",
       "      <td>0</td>\n",
       "      <td>0</td>\n",
       "      <td>0</td>\n",
       "      <td>2</td>\n",
       "      <td>0</td>\n",
       "      <td>0</td>\n",
       "      <td>...</td>\n",
       "      <td>0.0</td>\n",
       "      <td>0.0</td>\n",
       "      <td>0.0</td>\n",
       "      <td>0.0</td>\n",
       "      <td>0.0</td>\n",
       "      <td>0.0</td>\n",
       "      <td>0.0</td>\n",
       "      <td>0.0</td>\n",
       "      <td>0.0</td>\n",
       "      <td>0.0</td>\n",
       "    </tr>\n",
       "    <tr>\n",
       "      <th>5</th>\n",
       "      <td>73</td>\n",
       "      <td>12</td>\n",
       "      <td>1</td>\n",
       "      <td>4</td>\n",
       "      <td>0</td>\n",
       "      <td>0</td>\n",
       "      <td>4</td>\n",
       "      <td>12</td>\n",
       "      <td>0</td>\n",
       "      <td>0</td>\n",
       "      <td>...</td>\n",
       "      <td>0.0</td>\n",
       "      <td>0.0</td>\n",
       "      <td>0.0</td>\n",
       "      <td>0.0</td>\n",
       "      <td>0.0</td>\n",
       "      <td>0.0</td>\n",
       "      <td>0.0</td>\n",
       "      <td>0.0</td>\n",
       "      <td>0.0</td>\n",
       "      <td>0.0</td>\n",
       "    </tr>\n",
       "  </tbody>\n",
       "</table>\n",
       "<p>5 rows × 3046 columns</p>\n",
       "</div>"
      ],
      "text/plain": [
       "   char_count  word_count  sent_count  capital_char_count  capital_word_count  \\\n",
       "0         192          41           2                   3                   0   \n",
       "1          51          10           2                   2                   1   \n",
       "3          75          16           1                   1                   0   \n",
       "4          11           2           1                   1                   0   \n",
       "5          73          12           1                   4                   0   \n",
       "\n",
       "   quoted_word_count  stopword_count  unique_word_count  htag_count  \\\n",
       "0                  0              19                 34           0   \n",
       "1                  0               4                 10           0   \n",
       "3                  0               8                 14           0   \n",
       "4                  0               0                  2           0   \n",
       "5                  0               4                 12           0   \n",
       "\n",
       "   mention_count  ...  2990  2991  2992  2993  2994  2995  2996  2997  2998  \\\n",
       "0              0  ...   0.0   0.0   0.0   0.0   0.0   0.0   0.0   0.0   0.0   \n",
       "1              0  ...   0.0   0.0   0.0   0.0   0.0   0.0   0.0   0.0   0.0   \n",
       "3              0  ...   0.0   0.0   0.0   0.0   0.0   0.0   0.0   0.0   0.0   \n",
       "4              0  ...   0.0   0.0   0.0   0.0   0.0   0.0   0.0   0.0   0.0   \n",
       "5              0  ...   0.0   0.0   0.0   0.0   0.0   0.0   0.0   0.0   0.0   \n",
       "\n",
       "   2999  \n",
       "0   0.0  \n",
       "1   0.0  \n",
       "3   0.0  \n",
       "4   0.0  \n",
       "5   0.0  \n",
       "\n",
       "[5 rows x 3046 columns]"
      ]
     },
     "execution_count": 203,
     "metadata": {},
     "output_type": "execute_result"
    }
   ],
   "source": [
    "X_train_bis.head()"
   ]
  },
  {
   "cell_type": "markdown",
   "id": "af641df0",
   "metadata": {},
   "source": [
    "### I) N-grams"
   ]
  },
  {
   "cell_type": "markdown",
   "id": "8f96a2f4",
   "metadata": {},
   "source": [
    "We can use sklearn.feature_selection.chi2 to find the terms that are the most correlated with each of the rating_label:"
   ]
  },
  {
   "cell_type": "code",
   "execution_count": 170,
   "id": "9feda68e",
   "metadata": {
    "tags": []
   },
   "outputs": [
    {
     "name": "stdout",
     "output_type": "stream",
     "text": [
      "# '1' star :\n",
      "  . Most correlated unigrams:\n",
      ". refund\n",
      ". cancelled\n",
      ". sold\n",
      ". useless\n",
      ". rubbish\n",
      "  . Most correlated bigrams:\n",
      ". complete waste\n",
      ". don bother\n",
      ". time money\n",
      ". doesn work\n",
      ". waste time\n",
      "  . Most correlated trigrams:\n",
      ". app easy use\n",
      ". ordered magic bag\n",
      ". don waste time\n",
      ". complete waste time\n",
      ". waste time money\n",
      "# '2' star :\n",
      "  . Most correlated unigrams:\n",
      ". near\n",
      ". doesn\n",
      ". ok\n",
      ". update\n",
      ". poor\n",
      "  . Most correlated bigrams:\n",
      ". order cancelled\n",
      ". feel like\n",
      ". like good\n",
      ". open app\n",
      ". nice idea\n",
      "  . Most correlated trigrams:\n",
      ". great app great\n",
      ". great value money\n",
      ". app easy use\n",
      ". food waste just\n",
      ". great idea needs\n",
      "# '3' star :\n",
      "  . Most correlated unigrams:\n",
      ". vegetarian\n",
      ". available\n",
      ". okay\n",
      ". translate\n",
      ". option\n",
      "  . Most correlated bigrams:\n",
      ". hit miss\n",
      ". app don\n",
      ". app says\n",
      ". dietary requirements\n",
      ". vegetarian options\n",
      "  . Most correlated trigrams:\n",
      ". love idea app\n",
      ". love concept app\n",
      ". idea saving food\n",
      ". great idea needs\n",
      ". great concept app\n",
      "# '4' star :\n",
      "  . Most correlated unigrams:\n",
      ". wish\n",
      ". stores\n",
      ". notifications\n",
      ". improved\n",
      ". search\n",
      "  . Most correlated bigrams:\n",
      ". times good\n",
      ". notifications favourite\n",
      ". just wish\n",
      ". stores area\n",
      ". good app\n",
      "  . Most correlated trigrams:\n",
      ". good food waste\n",
      ". really great idea\n",
      ". great idea app\n",
      ". love idea app\n",
      ". great idea just\n",
      "# '5' star :\n",
      "  . Most correlated unigrams:\n",
      ". great\n",
      ". don\n",
      ". cancelled\n",
      ". sold\n",
      ". available\n",
      "  . Most correlated bigrams:\n",
      ". miles away\n",
      ". order cancelled\n",
      ". great app\n",
      ". doesn work\n",
      ". waste time\n",
      "  . Most correlated trigrams:\n",
      ". great value money\n",
      ". easy use great\n",
      ". don waste time\n",
      ". complete waste time\n",
      ". waste time money\n"
     ]
    }
   ],
   "source": [
    "N = 5 #top x associated words to be displayed\n",
    "for rating_label, rating in sorted(ratinglabel1_to_id.items()):\n",
    "    features_chi2= chi2(features_train, y_train==rating)\n",
    "    indices = np.argsort(features_chi2[0])\n",
    "    feature_names = np.array(tfidf.get_feature_names_out())[indices]\n",
    "    unigrams = [v for v in feature_names if len(v.split(' ')) == 1]\n",
    "    bigrams = [v for v in feature_names if len(v.split(' ')) == 2]\n",
    "    trigrams = [v for v in feature_names if len(v.split(' ')) == 3]\n",
    "    \n",
    "    print(\"# '{}' star :\".format(rating))\n",
    "    print(\"  . Most correlated unigrams:\\n. {}\".format('\\n. '.join(unigrams[-N:])))\n",
    "    print(\"  . Most correlated bigrams:\\n. {}\".format('\\n. '.join(bigrams[-N:])))\n",
    "    print(\"  . Most correlated trigrams:\\n. {}\".format('\\n. '.join(trigrams[-N:])))"
   ]
  },
  {
   "cell_type": "markdown",
   "id": "9d09255a",
   "metadata": {},
   "source": [
    "# Phase 2 => Topic Classification"
   ]
  },
  {
   "cell_type": "markdown",
   "id": "9ed16443",
   "metadata": {},
   "source": [
    "### Step 1 - Checking of balanced distribution of dataset"
   ]
  },
  {
   "cell_type": "code",
   "execution_count": 171,
   "id": "f5958d8e",
   "metadata": {},
   "outputs": [
    {
     "data": {
      "text/plain": [
       "5    77.647763\n",
       "1     8.713399\n",
       "4     7.303799\n",
       "3     3.662784\n",
       "2     2.672254\n",
       "Name: rating, dtype: float64"
      ]
     },
     "execution_count": 171,
     "metadata": {},
     "output_type": "execute_result"
    }
   ],
   "source": [
    "y_train.value_counts()/y_train.shape[0]*100"
   ]
  },
  {
   "cell_type": "code",
   "execution_count": 172,
   "id": "3b63e265",
   "metadata": {},
   "outputs": [
    {
     "data": {
      "text/plain": [
       "5    78.798433\n",
       "1     8.053983\n",
       "4     7.553330\n",
       "3     3.286896\n",
       "2     2.307357\n",
       "Name: rating, dtype: float64"
      ]
     },
     "execution_count": 172,
     "metadata": {},
     "output_type": "execute_result"
    }
   ],
   "source": [
    "y_test.value_counts()/y_test.shape[0]*100"
   ]
  },
  {
   "cell_type": "markdown",
   "id": "793bab0f",
   "metadata": {},
   "source": [
    "### Step 2 - ML Classifications applied"
   ]
  },
  {
   "cell_type": "markdown",
   "id": "abd5536a",
   "metadata": {},
   "source": [
    "We are now ready to experiment with different machine learning models, evaluate their accuracy and find the source of any potential issues.\n",
    "\n",
    "We will benchmark the following 5 models:\n",
    "\n",
    "- Logistic Regression\n",
    "- (Multinomial) Naive Bayes\n",
    "- Linear Support Vector Machine\n",
    "- Random Forest\n",
    "- K-Nearest Neighbor (KNN)"
   ]
  },
  {
   "cell_type": "code",
   "execution_count": 173,
   "id": "2fc69fb2",
   "metadata": {},
   "outputs": [
    {
     "name": "stderr",
     "output_type": "stream",
     "text": [
      "/home/vb/.pyenv/versions/3.9.7/envs/artefact/lib/python3.9/site-packages/sklearn/utils/validation.py:1673: FutureWarning: Feature names only support names that are all strings. Got feature names with dtypes: ['int', 'str']. An error will be raised in 1.2.\n",
      "  warnings.warn(\n",
      "/home/vb/.pyenv/versions/3.9.7/envs/artefact/lib/python3.9/site-packages/sklearn/utils/validation.py:1673: FutureWarning: Feature names only support names that are all strings. Got feature names with dtypes: ['int', 'str']. An error will be raised in 1.2.\n",
      "  warnings.warn(\n",
      "/home/vb/.pyenv/versions/3.9.7/envs/artefact/lib/python3.9/site-packages/sklearn/utils/validation.py:1673: FutureWarning: Feature names only support names that are all strings. Got feature names with dtypes: ['int', 'str']. An error will be raised in 1.2.\n",
      "  warnings.warn(\n",
      "/home/vb/.pyenv/versions/3.9.7/envs/artefact/lib/python3.9/site-packages/sklearn/utils/validation.py:1673: FutureWarning: Feature names only support names that are all strings. Got feature names with dtypes: ['int', 'str']. An error will be raised in 1.2.\n",
      "  warnings.warn(\n",
      "/home/vb/.pyenv/versions/3.9.7/envs/artefact/lib/python3.9/site-packages/sklearn/utils/validation.py:1673: FutureWarning: Feature names only support names that are all strings. Got feature names with dtypes: ['int', 'str']. An error will be raised in 1.2.\n",
      "  warnings.warn(\n",
      "/home/vb/.pyenv/versions/3.9.7/envs/artefact/lib/python3.9/site-packages/sklearn/utils/validation.py:1673: FutureWarning: Feature names only support names that are all strings. Got feature names with dtypes: ['int', 'str']. An error will be raised in 1.2.\n",
      "  warnings.warn(\n",
      "/home/vb/.pyenv/versions/3.9.7/envs/artefact/lib/python3.9/site-packages/sklearn/utils/validation.py:1673: FutureWarning: Feature names only support names that are all strings. Got feature names with dtypes: ['int', 'str']. An error will be raised in 1.2.\n",
      "  warnings.warn(\n",
      "/home/vb/.pyenv/versions/3.9.7/envs/artefact/lib/python3.9/site-packages/sklearn/utils/validation.py:1673: FutureWarning: Feature names only support names that are all strings. Got feature names with dtypes: ['int', 'str']. An error will be raised in 1.2.\n",
      "  warnings.warn(\n",
      "/home/vb/.pyenv/versions/3.9.7/envs/artefact/lib/python3.9/site-packages/sklearn/utils/validation.py:1673: FutureWarning: Feature names only support names that are all strings. Got feature names with dtypes: ['int', 'str']. An error will be raised in 1.2.\n",
      "  warnings.warn(\n",
      "/home/vb/.pyenv/versions/3.9.7/envs/artefact/lib/python3.9/site-packages/sklearn/utils/validation.py:1673: FutureWarning: Feature names only support names that are all strings. Got feature names with dtypes: ['int', 'str']. An error will be raised in 1.2.\n",
      "  warnings.warn(\n",
      "/home/vb/.pyenv/versions/3.9.7/envs/artefact/lib/python3.9/site-packages/sklearn/utils/validation.py:1673: FutureWarning: Feature names only support names that are all strings. Got feature names with dtypes: ['int', 'str']. An error will be raised in 1.2.\n",
      "  warnings.warn(\n",
      "/home/vb/.pyenv/versions/3.9.7/envs/artefact/lib/python3.9/site-packages/sklearn/utils/validation.py:1673: FutureWarning: Feature names only support names that are all strings. Got feature names with dtypes: ['int', 'str']. An error will be raised in 1.2.\n",
      "  warnings.warn(\n",
      "/home/vb/.pyenv/versions/3.9.7/envs/artefact/lib/python3.9/site-packages/sklearn/utils/validation.py:1673: FutureWarning: Feature names only support names that are all strings. Got feature names with dtypes: ['int', 'str']. An error will be raised in 1.2.\n",
      "  warnings.warn(\n",
      "/home/vb/.pyenv/versions/3.9.7/envs/artefact/lib/python3.9/site-packages/sklearn/utils/validation.py:1673: FutureWarning: Feature names only support names that are all strings. Got feature names with dtypes: ['int', 'str']. An error will be raised in 1.2.\n",
      "  warnings.warn(\n",
      "/home/vb/.pyenv/versions/3.9.7/envs/artefact/lib/python3.9/site-packages/sklearn/utils/validation.py:1673: FutureWarning: Feature names only support names that are all strings. Got feature names with dtypes: ['int', 'str']. An error will be raised in 1.2.\n",
      "  warnings.warn(\n",
      "/home/vb/.pyenv/versions/3.9.7/envs/artefact/lib/python3.9/site-packages/sklearn/utils/validation.py:1673: FutureWarning: Feature names only support names that are all strings. Got feature names with dtypes: ['int', 'str']. An error will be raised in 1.2.\n",
      "  warnings.warn(\n",
      "/home/vb/.pyenv/versions/3.9.7/envs/artefact/lib/python3.9/site-packages/sklearn/utils/validation.py:1673: FutureWarning: Feature names only support names that are all strings. Got feature names with dtypes: ['int', 'str']. An error will be raised in 1.2.\n",
      "  warnings.warn(\n",
      "/home/vb/.pyenv/versions/3.9.7/envs/artefact/lib/python3.9/site-packages/sklearn/utils/validation.py:1673: FutureWarning: Feature names only support names that are all strings. Got feature names with dtypes: ['int', 'str']. An error will be raised in 1.2.\n",
      "  warnings.warn(\n",
      "/home/vb/.pyenv/versions/3.9.7/envs/artefact/lib/python3.9/site-packages/sklearn/utils/validation.py:1673: FutureWarning: Feature names only support names that are all strings. Got feature names with dtypes: ['int', 'str']. An error will be raised in 1.2.\n",
      "  warnings.warn(\n",
      "/home/vb/.pyenv/versions/3.9.7/envs/artefact/lib/python3.9/site-packages/sklearn/utils/validation.py:1673: FutureWarning: Feature names only support names that are all strings. Got feature names with dtypes: ['int', 'str']. An error will be raised in 1.2.\n",
      "  warnings.warn(\n",
      "/home/vb/.pyenv/versions/3.9.7/envs/artefact/lib/python3.9/site-packages/sklearn/utils/validation.py:1673: FutureWarning: Feature names only support names that are all strings. Got feature names with dtypes: ['int', 'str']. An error will be raised in 1.2.\n",
      "  warnings.warn(\n",
      "/home/vb/.pyenv/versions/3.9.7/envs/artefact/lib/python3.9/site-packages/sklearn/svm/_base.py:1199: ConvergenceWarning: Liblinear failed to converge, increase the number of iterations.\n",
      "  warnings.warn(\n",
      "/home/vb/.pyenv/versions/3.9.7/envs/artefact/lib/python3.9/site-packages/sklearn/utils/validation.py:1673: FutureWarning: Feature names only support names that are all strings. Got feature names with dtypes: ['int', 'str']. An error will be raised in 1.2.\n",
      "  warnings.warn(\n",
      "/home/vb/.pyenv/versions/3.9.7/envs/artefact/lib/python3.9/site-packages/sklearn/utils/validation.py:1673: FutureWarning: Feature names only support names that are all strings. Got feature names with dtypes: ['int', 'str']. An error will be raised in 1.2.\n",
      "  warnings.warn(\n",
      "/home/vb/.pyenv/versions/3.9.7/envs/artefact/lib/python3.9/site-packages/sklearn/svm/_base.py:1199: ConvergenceWarning: Liblinear failed to converge, increase the number of iterations.\n",
      "  warnings.warn(\n",
      "/home/vb/.pyenv/versions/3.9.7/envs/artefact/lib/python3.9/site-packages/sklearn/utils/validation.py:1673: FutureWarning: Feature names only support names that are all strings. Got feature names with dtypes: ['int', 'str']. An error will be raised in 1.2.\n",
      "  warnings.warn(\n",
      "/home/vb/.pyenv/versions/3.9.7/envs/artefact/lib/python3.9/site-packages/sklearn/utils/validation.py:1673: FutureWarning: Feature names only support names that are all strings. Got feature names with dtypes: ['int', 'str']. An error will be raised in 1.2.\n",
      "  warnings.warn(\n",
      "/home/vb/.pyenv/versions/3.9.7/envs/artefact/lib/python3.9/site-packages/sklearn/svm/_base.py:1199: ConvergenceWarning: Liblinear failed to converge, increase the number of iterations.\n",
      "  warnings.warn(\n",
      "/home/vb/.pyenv/versions/3.9.7/envs/artefact/lib/python3.9/site-packages/sklearn/utils/validation.py:1673: FutureWarning: Feature names only support names that are all strings. Got feature names with dtypes: ['int', 'str']. An error will be raised in 1.2.\n",
      "  warnings.warn(\n",
      "/home/vb/.pyenv/versions/3.9.7/envs/artefact/lib/python3.9/site-packages/sklearn/utils/validation.py:1673: FutureWarning: Feature names only support names that are all strings. Got feature names with dtypes: ['int', 'str']. An error will be raised in 1.2.\n",
      "  warnings.warn(\n",
      "/home/vb/.pyenv/versions/3.9.7/envs/artefact/lib/python3.9/site-packages/sklearn/svm/_base.py:1199: ConvergenceWarning: Liblinear failed to converge, increase the number of iterations.\n",
      "  warnings.warn(\n",
      "/home/vb/.pyenv/versions/3.9.7/envs/artefact/lib/python3.9/site-packages/sklearn/utils/validation.py:1673: FutureWarning: Feature names only support names that are all strings. Got feature names with dtypes: ['int', 'str']. An error will be raised in 1.2.\n",
      "  warnings.warn(\n"
     ]
    },
    {
     "name": "stderr",
     "output_type": "stream",
     "text": [
      "/home/vb/.pyenv/versions/3.9.7/envs/artefact/lib/python3.9/site-packages/sklearn/utils/validation.py:1673: FutureWarning: Feature names only support names that are all strings. Got feature names with dtypes: ['int', 'str']. An error will be raised in 1.2.\n",
      "  warnings.warn(\n",
      "/home/vb/.pyenv/versions/3.9.7/envs/artefact/lib/python3.9/site-packages/sklearn/svm/_base.py:1199: ConvergenceWarning: Liblinear failed to converge, increase the number of iterations.\n",
      "  warnings.warn(\n",
      "/home/vb/.pyenv/versions/3.9.7/envs/artefact/lib/python3.9/site-packages/sklearn/utils/validation.py:1673: FutureWarning: Feature names only support names that are all strings. Got feature names with dtypes: ['int', 'str']. An error will be raised in 1.2.\n",
      "  warnings.warn(\n",
      "/home/vb/.pyenv/versions/3.9.7/envs/artefact/lib/python3.9/site-packages/sklearn/utils/validation.py:1673: FutureWarning: Feature names only support names that are all strings. Got feature names with dtypes: ['int', 'str']. An error will be raised in 1.2.\n",
      "  warnings.warn(\n",
      "/home/vb/.pyenv/versions/3.9.7/envs/artefact/lib/python3.9/site-packages/sklearn/utils/validation.py:1673: FutureWarning: Feature names only support names that are all strings. Got feature names with dtypes: ['int', 'str']. An error will be raised in 1.2.\n",
      "  warnings.warn(\n",
      "/home/vb/.pyenv/versions/3.9.7/envs/artefact/lib/python3.9/site-packages/sklearn/utils/validation.py:1673: FutureWarning: Feature names only support names that are all strings. Got feature names with dtypes: ['int', 'str']. An error will be raised in 1.2.\n",
      "  warnings.warn(\n",
      "/home/vb/.pyenv/versions/3.9.7/envs/artefact/lib/python3.9/site-packages/sklearn/utils/validation.py:1673: FutureWarning: Feature names only support names that are all strings. Got feature names with dtypes: ['int', 'str']. An error will be raised in 1.2.\n",
      "  warnings.warn(\n",
      "/home/vb/.pyenv/versions/3.9.7/envs/artefact/lib/python3.9/site-packages/sklearn/utils/validation.py:1673: FutureWarning: Feature names only support names that are all strings. Got feature names with dtypes: ['int', 'str']. An error will be raised in 1.2.\n",
      "  warnings.warn(\n",
      "/home/vb/.pyenv/versions/3.9.7/envs/artefact/lib/python3.9/site-packages/sklearn/utils/validation.py:1673: FutureWarning: Feature names only support names that are all strings. Got feature names with dtypes: ['int', 'str']. An error will be raised in 1.2.\n",
      "  warnings.warn(\n",
      "/home/vb/.pyenv/versions/3.9.7/envs/artefact/lib/python3.9/site-packages/sklearn/utils/validation.py:1673: FutureWarning: Feature names only support names that are all strings. Got feature names with dtypes: ['int', 'str']. An error will be raised in 1.2.\n",
      "  warnings.warn(\n",
      "/home/vb/.pyenv/versions/3.9.7/envs/artefact/lib/python3.9/site-packages/sklearn/utils/validation.py:1673: FutureWarning: Feature names only support names that are all strings. Got feature names with dtypes: ['int', 'str']. An error will be raised in 1.2.\n",
      "  warnings.warn(\n",
      "/home/vb/.pyenv/versions/3.9.7/envs/artefact/lib/python3.9/site-packages/sklearn/utils/validation.py:1673: FutureWarning: Feature names only support names that are all strings. Got feature names with dtypes: ['int', 'str']. An error will be raised in 1.2.\n",
      "  warnings.warn(\n",
      "/home/vb/.pyenv/versions/3.9.7/envs/artefact/lib/python3.9/site-packages/sklearn/utils/validation.py:1673: FutureWarning: Feature names only support names that are all strings. Got feature names with dtypes: ['int', 'str']. An error will be raised in 1.2.\n",
      "  warnings.warn(\n",
      "/home/vb/.pyenv/versions/3.9.7/envs/artefact/lib/python3.9/site-packages/sklearn/utils/validation.py:1673: FutureWarning: Feature names only support names that are all strings. Got feature names with dtypes: ['int', 'str']. An error will be raised in 1.2.\n",
      "  warnings.warn(\n",
      "/home/vb/.pyenv/versions/3.9.7/envs/artefact/lib/python3.9/site-packages/sklearn/linear_model/_logistic.py:814: ConvergenceWarning: lbfgs failed to converge (status=1):\n",
      "STOP: TOTAL NO. of ITERATIONS REACHED LIMIT.\n",
      "\n",
      "Increase the number of iterations (max_iter) or scale the data as shown in:\n",
      "    https://scikit-learn.org/stable/modules/preprocessing.html\n",
      "Please also refer to the documentation for alternative solver options:\n",
      "    https://scikit-learn.org/stable/modules/linear_model.html#logistic-regression\n",
      "  n_iter_i = _check_optimize_result(\n",
      "/home/vb/.pyenv/versions/3.9.7/envs/artefact/lib/python3.9/site-packages/sklearn/utils/validation.py:1673: FutureWarning: Feature names only support names that are all strings. Got feature names with dtypes: ['int', 'str']. An error will be raised in 1.2.\n",
      "  warnings.warn(\n",
      "/home/vb/.pyenv/versions/3.9.7/envs/artefact/lib/python3.9/site-packages/sklearn/utils/validation.py:1673: FutureWarning: Feature names only support names that are all strings. Got feature names with dtypes: ['int', 'str']. An error will be raised in 1.2.\n",
      "  warnings.warn(\n",
      "/home/vb/.pyenv/versions/3.9.7/envs/artefact/lib/python3.9/site-packages/sklearn/linear_model/_logistic.py:814: ConvergenceWarning: lbfgs failed to converge (status=1):\n",
      "STOP: TOTAL NO. of ITERATIONS REACHED LIMIT.\n",
      "\n",
      "Increase the number of iterations (max_iter) or scale the data as shown in:\n",
      "    https://scikit-learn.org/stable/modules/preprocessing.html\n",
      "Please also refer to the documentation for alternative solver options:\n",
      "    https://scikit-learn.org/stable/modules/linear_model.html#logistic-regression\n",
      "  n_iter_i = _check_optimize_result(\n",
      "/home/vb/.pyenv/versions/3.9.7/envs/artefact/lib/python3.9/site-packages/sklearn/utils/validation.py:1673: FutureWarning: Feature names only support names that are all strings. Got feature names with dtypes: ['int', 'str']. An error will be raised in 1.2.\n",
      "  warnings.warn(\n",
      "/home/vb/.pyenv/versions/3.9.7/envs/artefact/lib/python3.9/site-packages/sklearn/utils/validation.py:1673: FutureWarning: Feature names only support names that are all strings. Got feature names with dtypes: ['int', 'str']. An error will be raised in 1.2.\n",
      "  warnings.warn(\n",
      "/home/vb/.pyenv/versions/3.9.7/envs/artefact/lib/python3.9/site-packages/sklearn/linear_model/_logistic.py:814: ConvergenceWarning: lbfgs failed to converge (status=1):\n",
      "STOP: TOTAL NO. of ITERATIONS REACHED LIMIT.\n",
      "\n",
      "Increase the number of iterations (max_iter) or scale the data as shown in:\n",
      "    https://scikit-learn.org/stable/modules/preprocessing.html\n",
      "Please also refer to the documentation for alternative solver options:\n",
      "    https://scikit-learn.org/stable/modules/linear_model.html#logistic-regression\n",
      "  n_iter_i = _check_optimize_result(\n",
      "/home/vb/.pyenv/versions/3.9.7/envs/artefact/lib/python3.9/site-packages/sklearn/utils/validation.py:1673: FutureWarning: Feature names only support names that are all strings. Got feature names with dtypes: ['int', 'str']. An error will be raised in 1.2.\n",
      "  warnings.warn(\n",
      "/home/vb/.pyenv/versions/3.9.7/envs/artefact/lib/python3.9/site-packages/sklearn/utils/validation.py:1673: FutureWarning: Feature names only support names that are all strings. Got feature names with dtypes: ['int', 'str']. An error will be raised in 1.2.\n",
      "  warnings.warn(\n",
      "/home/vb/.pyenv/versions/3.9.7/envs/artefact/lib/python3.9/site-packages/sklearn/linear_model/_logistic.py:814: ConvergenceWarning: lbfgs failed to converge (status=1):\n",
      "STOP: TOTAL NO. of ITERATIONS REACHED LIMIT.\n",
      "\n",
      "Increase the number of iterations (max_iter) or scale the data as shown in:\n",
      "    https://scikit-learn.org/stable/modules/preprocessing.html\n",
      "Please also refer to the documentation for alternative solver options:\n",
      "    https://scikit-learn.org/stable/modules/linear_model.html#logistic-regression\n",
      "  n_iter_i = _check_optimize_result(\n",
      "/home/vb/.pyenv/versions/3.9.7/envs/artefact/lib/python3.9/site-packages/sklearn/utils/validation.py:1673: FutureWarning: Feature names only support names that are all strings. Got feature names with dtypes: ['int', 'str']. An error will be raised in 1.2.\n",
      "  warnings.warn(\n",
      "/home/vb/.pyenv/versions/3.9.7/envs/artefact/lib/python3.9/site-packages/sklearn/utils/validation.py:1673: FutureWarning: Feature names only support names that are all strings. Got feature names with dtypes: ['int', 'str']. An error will be raised in 1.2.\n",
      "  warnings.warn(\n",
      "/home/vb/.pyenv/versions/3.9.7/envs/artefact/lib/python3.9/site-packages/sklearn/linear_model/_logistic.py:814: ConvergenceWarning: lbfgs failed to converge (status=1):\n",
      "STOP: TOTAL NO. of ITERATIONS REACHED LIMIT.\n",
      "\n",
      "Increase the number of iterations (max_iter) or scale the data as shown in:\n",
      "    https://scikit-learn.org/stable/modules/preprocessing.html\n",
      "Please also refer to the documentation for alternative solver options:\n",
      "    https://scikit-learn.org/stable/modules/linear_model.html#logistic-regression\n",
      "  n_iter_i = _check_optimize_result(\n",
      "/home/vb/.pyenv/versions/3.9.7/envs/artefact/lib/python3.9/site-packages/sklearn/utils/validation.py:1673: FutureWarning: Feature names only support names that are all strings. Got feature names with dtypes: ['int', 'str']. An error will be raised in 1.2.\n",
      "  warnings.warn(\n"
     ]
    },
    {
     "data": {
      "image/png": "[encoded data removed]",
      "text/plain": [
       "<Figure size 432x288 with 1 Axes>"
      ]
     },
     "metadata": {
      "needs_background": "light"
     },
     "output_type": "display_data"
    }
   ],
   "source": [
    "models = [\n",
    "    RandomForestClassifier(n_estimators=200, max_depth=3, random_state=0),\n",
    "    KNeighborsClassifier(n_neighbors = 5),\n",
    "    LinearSVC(),\n",
    "    MultinomialNB(),\n",
    "    LogisticRegression(random_state=0),\n",
    "]\n",
    "\n",
    "CV = 5 #nb of model\n",
    "cv_df = pd.DataFrame(index=range(CV * len(models)))\n",
    "entries = []\n",
    "\n",
    "for model in models:\n",
    "    model_name = model.__class__.__name__\n",
    "    accuracies = cross_val_score(model, X_train_bis, y_train_bis, scoring='accuracy', cv=CV)\n",
    "    for fold_idx, accuracy in enumerate(accuracies):\n",
    "        entries.append((model_name, fold_idx, accuracy))\n",
    "        \n",
    "cv_df = pd.DataFrame(entries, columns=['model_name', 'fold_idx', 'accuracy'])\n",
    "\n",
    "\n",
    "\n",
    "sns.boxplot(x='model_name', y='accuracy', data=cv_df)\n",
    "sns.stripplot(x='model_name', y='accuracy', data=cv_df, \n",
    "              size=8, jitter=True, edgecolor=\"gray\", linewidth=2)\n",
    "plt.show()"
   ]
  },
  {
   "cell_type": "code",
   "execution_count": 174,
   "id": "f7e2b1fe",
   "metadata": {},
   "outputs": [
    {
     "data": {
      "text/plain": [
       "model_name\n",
       "KNeighborsClassifier      0.594886\n",
       "LinearSVC                 0.631720\n",
       "LogisticRegression        0.649414\n",
       "MultinomialNB             0.652006\n",
       "RandomForestClassifier    0.632877\n",
       "Name: accuracy, dtype: float64"
      ]
     },
     "execution_count": 174,
     "metadata": {},
     "output_type": "execute_result"
    }
   ],
   "source": [
    "cv_df.groupby('model_name').accuracy.mean()"
   ]
  },
  {
   "cell_type": "markdown",
   "id": "3788a55d",
   "metadata": {},
   "source": [
    "### Step 3 - Performance ML Classification models comparison"
   ]
  },
  {
   "cell_type": "markdown",
   "id": "c1bb0c69",
   "metadata": {},
   "source": [
    "4 models seem to perform well : SVC, Logistic regression, Naive Bayes, Random Forest.\n",
    "We are going to look deeper in their performance."
   ]
  },
  {
   "cell_type": "code",
   "execution_count": 175,
   "id": "4ab531eb",
   "metadata": {},
   "outputs": [
    {
     "name": "stderr",
     "output_type": "stream",
     "text": [
      "/home/vb/.pyenv/versions/3.9.7/envs/artefact/lib/python3.9/site-packages/sklearn/utils/validation.py:1673: FutureWarning: Feature names only support names that are all strings. Got feature names with dtypes: ['int', 'str']. An error will be raised in 1.2.\n",
      "  warnings.warn(\n",
      "/home/vb/.pyenv/versions/3.9.7/envs/artefact/lib/python3.9/site-packages/sklearn/svm/_base.py:1199: ConvergenceWarning: Liblinear failed to converge, increase the number of iterations.\n",
      "  warnings.warn(\n",
      "/home/vb/.pyenv/versions/3.9.7/envs/artefact/lib/python3.9/site-packages/sklearn/utils/validation.py:1673: FutureWarning: Feature names only support names that are all strings. Got feature names with dtypes: ['int', 'str']. An error will be raised in 1.2.\n",
      "  warnings.warn(\n"
     ]
    },
    {
     "data": {
      "image/png": "[encoded data removed]",
      "text/plain": [
       "<Figure size 720x720 with 2 Axes>"
      ]
     },
     "metadata": {
      "needs_background": "light"
     },
     "output_type": "display_data"
    }
   ],
   "source": [
    "model = LinearSVC() \n",
    "\n",
    "model.fit(X_train_bis, y_train_bis)\n",
    "y_pred = model.predict(X_test)\n",
    "\n",
    "#from sklearn.metrics import confusion_matrix\n",
    "conf_mat = confusion_matrix(y_test, y_pred)\n",
    "fig, ax = plt.subplots(figsize=(10,10))\n",
    "sns.heatmap(conf_mat, annot=True, fmt='d',\n",
    "            xticklabels=rating1_df['rating'].values, yticklabels=rating1_df['rating'].values)\n",
    "plt.ylabel('Actual')\n",
    "plt.xlabel('Predicted')\n",
    "plt.show()"
   ]
  },
  {
   "cell_type": "code",
   "execution_count": 176,
   "id": "f174a300",
   "metadata": {},
   "outputs": [
    {
     "name": "stdout",
     "output_type": "stream",
     "text": [
      "              precision    recall  f1-score   support\n",
      "\n",
      "           1       0.59      0.45      0.51       370\n",
      "           2       0.17      0.13      0.15       106\n",
      "           3       0.23      0.05      0.08       151\n",
      "           4       0.28      0.04      0.07       347\n",
      "           5       0.86      0.98      0.92      3620\n",
      "\n",
      "    accuracy                           0.82      4594\n",
      "   macro avg       0.42      0.33      0.35      4594\n",
      "weighted avg       0.76      0.82      0.78      4594\n",
      "\n"
     ]
    }
   ],
   "source": [
    "print(classification_report(y_test, y_pred))"
   ]
  },
  {
   "cell_type": "code",
   "execution_count": 177,
   "id": "d629dba6",
   "metadata": {},
   "outputs": [
    {
     "name": "stderr",
     "output_type": "stream",
     "text": [
      "/home/vb/.pyenv/versions/3.9.7/envs/artefact/lib/python3.9/site-packages/sklearn/utils/validation.py:1673: FutureWarning: Feature names only support names that are all strings. Got feature names with dtypes: ['int', 'str']. An error will be raised in 1.2.\n",
      "  warnings.warn(\n",
      "/home/vb/.pyenv/versions/3.9.7/envs/artefact/lib/python3.9/site-packages/sklearn/linear_model/_logistic.py:814: ConvergenceWarning: lbfgs failed to converge (status=1):\n",
      "STOP: TOTAL NO. of ITERATIONS REACHED LIMIT.\n",
      "\n",
      "Increase the number of iterations (max_iter) or scale the data as shown in:\n",
      "    https://scikit-learn.org/stable/modules/preprocessing.html\n",
      "Please also refer to the documentation for alternative solver options:\n",
      "    https://scikit-learn.org/stable/modules/linear_model.html#logistic-regression\n",
      "  n_iter_i = _check_optimize_result(\n",
      "/home/vb/.pyenv/versions/3.9.7/envs/artefact/lib/python3.9/site-packages/sklearn/utils/validation.py:1673: FutureWarning: Feature names only support names that are all strings. Got feature names with dtypes: ['int', 'str']. An error will be raised in 1.2.\n",
      "  warnings.warn(\n"
     ]
    },
    {
     "data": {
      "image/png": "[encoded data removed]",
      "text/plain": [
       "<Figure size 720x720 with 2 Axes>"
      ]
     },
     "metadata": {
      "needs_background": "light"
     },
     "output_type": "display_data"
    }
   ],
   "source": [
    "model2 = LogisticRegression()\n",
    "\n",
    "model2.fit(X_train_bis, y_train_bis)\n",
    "y_pred2 = model2.predict(X_test)\n",
    "conf_mat2 = confusion_matrix(y_test, y_pred2)\n",
    "fig, ax = plt.subplots(figsize=(10,10))\n",
    "sns.heatmap(conf_mat, annot=True, fmt='d',\n",
    "            xticklabels=rating1_df['rating_label'].values, yticklabels=rating1_df['rating_label'].values)\n",
    "plt.ylabel('Actual')\n",
    "plt.xlabel('Predicted')\n",
    "plt.show()"
   ]
  },
  {
   "cell_type": "code",
   "execution_count": 178,
   "id": "353f80bd",
   "metadata": {},
   "outputs": [
    {
     "name": "stdout",
     "output_type": "stream",
     "text": [
      "              precision    recall  f1-score   support\n",
      "\n",
      "           1       0.30      0.25      0.27       370\n",
      "           2       0.00      0.00      0.00       106\n",
      "           3       0.50      0.01      0.03       151\n",
      "           4       0.17      0.00      0.01       347\n",
      "           5       0.82      0.97      0.89      3620\n",
      "\n",
      "    accuracy                           0.78      4594\n",
      "   macro avg       0.36      0.25      0.24      4594\n",
      "weighted avg       0.70      0.78      0.72      4594\n",
      "\n"
     ]
    },
    {
     "name": "stderr",
     "output_type": "stream",
     "text": [
      "/home/vb/.pyenv/versions/3.9.7/envs/artefact/lib/python3.9/site-packages/sklearn/metrics/_classification.py:1308: UndefinedMetricWarning: Precision and F-score are ill-defined and being set to 0.0 in labels with no predicted samples. Use `zero_division` parameter to control this behavior.\n",
      "  _warn_prf(average, modifier, msg_start, len(result))\n",
      "/home/vb/.pyenv/versions/3.9.7/envs/artefact/lib/python3.9/site-packages/sklearn/metrics/_classification.py:1308: UndefinedMetricWarning: Precision and F-score are ill-defined and being set to 0.0 in labels with no predicted samples. Use `zero_division` parameter to control this behavior.\n",
      "  _warn_prf(average, modifier, msg_start, len(result))\n",
      "/home/vb/.pyenv/versions/3.9.7/envs/artefact/lib/python3.9/site-packages/sklearn/metrics/_classification.py:1308: UndefinedMetricWarning: Precision and F-score are ill-defined and being set to 0.0 in labels with no predicted samples. Use `zero_division` parameter to control this behavior.\n",
      "  _warn_prf(average, modifier, msg_start, len(result))\n"
     ]
    }
   ],
   "source": [
    "print(classification_report(y_test, y_pred2))"
   ]
  },
  {
   "cell_type": "code",
   "execution_count": 179,
   "id": "876fd7be",
   "metadata": {},
   "outputs": [
    {
     "name": "stderr",
     "output_type": "stream",
     "text": [
      "/home/vb/.pyenv/versions/3.9.7/envs/artefact/lib/python3.9/site-packages/sklearn/utils/validation.py:1673: FutureWarning: Feature names only support names that are all strings. Got feature names with dtypes: ['int', 'str']. An error will be raised in 1.2.\n",
      "  warnings.warn(\n",
      "/home/vb/.pyenv/versions/3.9.7/envs/artefact/lib/python3.9/site-packages/sklearn/utils/validation.py:1673: FutureWarning: Feature names only support names that are all strings. Got feature names with dtypes: ['int', 'str']. An error will be raised in 1.2.\n",
      "  warnings.warn(\n"
     ]
    },
    {
     "data": {
      "image/png": "[encoded data removed]",
      "text/plain": [
       "<Figure size 720x720 with 2 Axes>"
      ]
     },
     "metadata": {
      "needs_background": "light"
     },
     "output_type": "display_data"
    }
   ],
   "source": [
    "model3 = MultinomialNB()\n",
    "\n",
    "model3.fit(X_train_bis, y_train_bis)\n",
    "y_pred3 = model3.predict(X_test)\n",
    "conf_mat3 = confusion_matrix(y_test, y_pred3)\n",
    "fig, ax = plt.subplots(figsize=(10,10))\n",
    "sns.heatmap(conf_mat, annot=True, fmt='d',\n",
    "            xticklabels=rating1_df['rating_label'].values, yticklabels=rating1_df['rating_label'].values)\n",
    "plt.ylabel('Actual')\n",
    "plt.xlabel('Predicted')\n",
    "plt.show()"
   ]
  },
  {
   "cell_type": "code",
   "execution_count": 180,
   "id": "d0ee7712",
   "metadata": {},
   "outputs": [
    {
     "name": "stdout",
     "output_type": "stream",
     "text": [
      "              precision    recall  f1-score   support\n",
      "\n",
      "           1       0.32      0.54      0.40       370\n",
      "           2       0.08      0.01      0.02       106\n",
      "           3       0.37      0.05      0.08       151\n",
      "           4       0.16      0.16      0.16       347\n",
      "           5       0.88      0.87      0.87      3620\n",
      "\n",
      "    accuracy                           0.74      4594\n",
      "   macro avg       0.36      0.32      0.31      4594\n",
      "weighted avg       0.74      0.74      0.74      4594\n",
      "\n"
     ]
    }
   ],
   "source": [
    "print(classification_report(y_test, y_pred3))"
   ]
  },
  {
   "cell_type": "code",
   "execution_count": 181,
   "id": "61b1c951",
   "metadata": {},
   "outputs": [
    {
     "name": "stderr",
     "output_type": "stream",
     "text": [
      "/home/vb/.pyenv/versions/3.9.7/envs/artefact/lib/python3.9/site-packages/sklearn/utils/validation.py:1673: FutureWarning: Feature names only support names that are all strings. Got feature names with dtypes: ['int', 'str']. An error will be raised in 1.2.\n",
      "  warnings.warn(\n",
      "/home/vb/.pyenv/versions/3.9.7/envs/artefact/lib/python3.9/site-packages/sklearn/utils/validation.py:1673: FutureWarning: Feature names only support names that are all strings. Got feature names with dtypes: ['int', 'str']. An error will be raised in 1.2.\n",
      "  warnings.warn(\n"
     ]
    },
    {
     "data": {
      "image/png": "[encoded data removed]",
      "text/plain": [
       "<Figure size 720x720 with 2 Axes>"
      ]
     },
     "metadata": {
      "needs_background": "light"
     },
     "output_type": "display_data"
    }
   ],
   "source": [
    "model4 = RandomForestClassifier()\n",
    "\n",
    "model4.fit(X_train_bis, y_train_bis)\n",
    "y_pred4 = model4.predict(X_test)\n",
    "conf_mat4 = confusion_matrix(y_test, y_pred4)\n",
    "fig, ax = plt.subplots(figsize=(10,10))\n",
    "sns.heatmap(conf_mat, annot=True, fmt='d',\n",
    "            xticklabels=rating1_df['rating_label'].values, yticklabels=rating1_df['rating_label'].values)\n",
    "plt.ylabel('Actual')\n",
    "plt.xlabel('Predicted')\n",
    "plt.show()"
   ]
  },
  {
   "cell_type": "code",
   "execution_count": 182,
   "id": "d9a2aa61",
   "metadata": {},
   "outputs": [
    {
     "name": "stdout",
     "output_type": "stream",
     "text": [
      "              precision    recall  f1-score   support\n",
      "\n",
      "           1       0.51      0.60      0.55       370\n",
      "           2       0.00      0.00      0.00       106\n",
      "           3       0.50      0.02      0.04       151\n",
      "           4       0.31      0.03      0.06       347\n",
      "           5       0.86      0.98      0.91      3620\n",
      "\n",
      "    accuracy                           0.82      4594\n",
      "   macro avg       0.44      0.32      0.31      4594\n",
      "weighted avg       0.76      0.82      0.77      4594\n",
      "\n"
     ]
    }
   ],
   "source": [
    "print(classification_report(y_test, y_pred4))"
   ]
  },
  {
   "cell_type": "markdown",
   "id": "1c280847",
   "metadata": {},
   "source": [
    "**Conclusion** => best ML is SVC. So this will be applied on Twitter reviews"
   ]
  },
  {
   "cell_type": "markdown",
   "id": "7c1043e2",
   "metadata": {},
   "source": [
    "# Phase 3 => ML Application on tweets"
   ]
  },
  {
   "cell_type": "code",
   "execution_count": 258,
   "id": "9d4feb35",
   "metadata": {},
   "outputs": [
    {
     "data": {
      "text/html": [
       "<div>\n",
       "<style scoped>\n",
       "    .dataframe tbody tr th:only-of-type {\n",
       "        vertical-align: middle;\n",
       "    }\n",
       "\n",
       "    .dataframe tbody tr th {\n",
       "        vertical-align: top;\n",
       "    }\n",
       "\n",
       "    .dataframe thead th {\n",
       "        text-align: right;\n",
       "    }\n",
       "</style>\n",
       "<table border=\"1\" class=\"dataframe\">\n",
       "  <thead>\n",
       "    <tr style=\"text-align: right;\">\n",
       "      <th></th>\n",
       "      <th>Datetime</th>\n",
       "      <th>Tweet Id</th>\n",
       "      <th>Text</th>\n",
       "      <th>Username</th>\n",
       "    </tr>\n",
       "  </thead>\n",
       "  <tbody>\n",
       "    <tr>\n",
       "      <th>0</th>\n",
       "      <td>2021-12-10 17:18:26+00:00</td>\n",
       "      <td>1469355842768187399</td>\n",
       "      <td>GREGGS TOO GOOD TO GO BAG | vlogmas day 9 http...</td>\n",
       "      <td>TheArchersWeAre</td>\n",
       "    </tr>\n",
       "    <tr>\n",
       "      <th>1</th>\n",
       "      <td>2021-12-10 16:05:15+00:00</td>\n",
       "      <td>1469337421905117188</td>\n",
       "      <td>Vegetable magic bag from the local organic sup...</td>\n",
       "      <td>Ghostbear2k</td>\n",
       "    </tr>\n",
       "    <tr>\n",
       "      <th>2</th>\n",
       "      <td>2021-12-10 06:33:41+00:00</td>\n",
       "      <td>1469193583714471938</td>\n",
       "      <td>The retired dumpster diver in me has mixed fee...</td>\n",
       "      <td>NaSh12</td>\n",
       "    </tr>\n",
       "    <tr>\n",
       "      <th>3</th>\n",
       "      <td>2021-12-09 20:52:07+00:00</td>\n",
       "      <td>1469047230136999946</td>\n",
       "      <td>Just love this app #TooGoodToGo - save yummy f...</td>\n",
       "      <td>NicolaKwrites</td>\n",
       "    </tr>\n",
       "    <tr>\n",
       "      <th>4</th>\n",
       "      <td>2021-12-09 17:05:04+00:00</td>\n",
       "      <td>1468990089829228545</td>\n",
       "      <td>Unsure if your passed-the-best-before product ...</td>\n",
       "      <td>CanToogoodtogo</td>\n",
       "    </tr>\n",
       "  </tbody>\n",
       "</table>\n",
       "</div>"
      ],
      "text/plain": [
       "                   Datetime             Tweet Id  \\\n",
       "0 2021-12-10 17:18:26+00:00  1469355842768187399   \n",
       "1 2021-12-10 16:05:15+00:00  1469337421905117188   \n",
       "2 2021-12-10 06:33:41+00:00  1469193583714471938   \n",
       "3 2021-12-09 20:52:07+00:00  1469047230136999946   \n",
       "4 2021-12-09 17:05:04+00:00  1468990089829228545   \n",
       "\n",
       "                                                Text         Username  \n",
       "0  GREGGS TOO GOOD TO GO BAG | vlogmas day 9 http...  TheArchersWeAre  \n",
       "1  Vegetable magic bag from the local organic sup...      Ghostbear2k  \n",
       "2  The retired dumpster diver in me has mixed fee...           NaSh12  \n",
       "3  Just love this app #TooGoodToGo - save yummy f...    NicolaKwrites  \n",
       "4  Unsure if your passed-the-best-before product ...   CanToogoodtogo  "
      ]
     },
     "execution_count": 258,
     "metadata": {},
     "output_type": "execute_result"
    }
   ],
   "source": [
    "path = \"data/tweets2021tgtg.pkl\"\n",
    "\n",
    "with open(path, 'rb') as f:\n",
    "    tweet = pickle.load(f)\n",
    "\n",
    "tweet.head(5)"
   ]
  },
  {
   "cell_type": "code",
   "execution_count": 259,
   "id": "b015231a",
   "metadata": {},
   "outputs": [],
   "source": [
    "tweet = tweet.drop(columns=['Tweet Id','Username'])"
   ]
  },
  {
   "cell_type": "code",
   "execution_count": 260,
   "id": "01902394",
   "metadata": {},
   "outputs": [
    {
     "data": {
      "text/html": [
       "<div>\n",
       "<style scoped>\n",
       "    .dataframe tbody tr th:only-of-type {\n",
       "        vertical-align: middle;\n",
       "    }\n",
       "\n",
       "    .dataframe tbody tr th {\n",
       "        vertical-align: top;\n",
       "    }\n",
       "\n",
       "    .dataframe thead th {\n",
       "        text-align: right;\n",
       "    }\n",
       "</style>\n",
       "<table border=\"1\" class=\"dataframe\">\n",
       "  <thead>\n",
       "    <tr style=\"text-align: right;\">\n",
       "      <th></th>\n",
       "      <th>date</th>\n",
       "      <th>review_content</th>\n",
       "    </tr>\n",
       "  </thead>\n",
       "  <tbody>\n",
       "    <tr>\n",
       "      <th>0</th>\n",
       "      <td>2021-12-10 17:18:26+00:00</td>\n",
       "      <td>GREGGS TOO GOOD TO GO BAG | vlogmas day 9 http...</td>\n",
       "    </tr>\n",
       "    <tr>\n",
       "      <th>1</th>\n",
       "      <td>2021-12-10 16:05:15+00:00</td>\n",
       "      <td>Vegetable magic bag from the local organic sup...</td>\n",
       "    </tr>\n",
       "    <tr>\n",
       "      <th>2</th>\n",
       "      <td>2021-12-10 06:33:41+00:00</td>\n",
       "      <td>The retired dumpster diver in me has mixed fee...</td>\n",
       "    </tr>\n",
       "    <tr>\n",
       "      <th>3</th>\n",
       "      <td>2021-12-09 20:52:07+00:00</td>\n",
       "      <td>Just love this app #TooGoodToGo - save yummy f...</td>\n",
       "    </tr>\n",
       "    <tr>\n",
       "      <th>4</th>\n",
       "      <td>2021-12-09 17:05:04+00:00</td>\n",
       "      <td>Unsure if your passed-the-best-before product ...</td>\n",
       "    </tr>\n",
       "    <tr>\n",
       "      <th>...</th>\n",
       "      <td>...</td>\n",
       "      <td>...</td>\n",
       "    </tr>\n",
       "    <tr>\n",
       "      <th>1244</th>\n",
       "      <td>2021-01-03 09:38:05+00:00</td>\n",
       "      <td>@Tesco @coopuk @LidlGB @AldiUK @sainsburys @wa...</td>\n",
       "    </tr>\n",
       "    <tr>\n",
       "      <th>1245</th>\n",
       "      <td>2021-01-03 04:22:12+00:00</td>\n",
       "      <td>To the team of #TooGoodToGo, thank you for the...</td>\n",
       "    </tr>\n",
       "    <tr>\n",
       "      <th>1246</th>\n",
       "      <td>2021-01-02 20:11:10+00:00</td>\n",
       "      <td>I used to consider this a good haul of #toogoo...</td>\n",
       "    </tr>\n",
       "    <tr>\n",
       "      <th>1247</th>\n",
       "      <td>2021-01-01 12:39:43+00:00</td>\n",
       "      <td>Well this is exciting! Starting the year as I ...</td>\n",
       "    </tr>\n",
       "    <tr>\n",
       "      <th>1248</th>\n",
       "      <td>2021-01-01 09:37:09+00:00</td>\n",
       "      <td>#TooGoodToGo verry good to go 😉 https://t.co/j...</td>\n",
       "    </tr>\n",
       "  </tbody>\n",
       "</table>\n",
       "<p>1249 rows × 2 columns</p>\n",
       "</div>"
      ],
      "text/plain": [
       "                          date  \\\n",
       "0    2021-12-10 17:18:26+00:00   \n",
       "1    2021-12-10 16:05:15+00:00   \n",
       "2    2021-12-10 06:33:41+00:00   \n",
       "3    2021-12-09 20:52:07+00:00   \n",
       "4    2021-12-09 17:05:04+00:00   \n",
       "...                        ...   \n",
       "1244 2021-01-03 09:38:05+00:00   \n",
       "1245 2021-01-03 04:22:12+00:00   \n",
       "1246 2021-01-02 20:11:10+00:00   \n",
       "1247 2021-01-01 12:39:43+00:00   \n",
       "1248 2021-01-01 09:37:09+00:00   \n",
       "\n",
       "                                         review_content  \n",
       "0     GREGGS TOO GOOD TO GO BAG | vlogmas day 9 http...  \n",
       "1     Vegetable magic bag from the local organic sup...  \n",
       "2     The retired dumpster diver in me has mixed fee...  \n",
       "3     Just love this app #TooGoodToGo - save yummy f...  \n",
       "4     Unsure if your passed-the-best-before product ...  \n",
       "...                                                 ...  \n",
       "1244  @Tesco @coopuk @LidlGB @AldiUK @sainsburys @wa...  \n",
       "1245  To the team of #TooGoodToGo, thank you for the...  \n",
       "1246  I used to consider this a good haul of #toogoo...  \n",
       "1247  Well this is exciting! Starting the year as I ...  \n",
       "1248  #TooGoodToGo verry good to go 😉 https://t.co/j...  \n",
       "\n",
       "[1249 rows x 2 columns]"
      ]
     },
     "execution_count": 260,
     "metadata": {},
     "output_type": "execute_result"
    }
   ],
   "source": [
    "tweet = tweet.rename(columns={'Text':'review_content','Datetime':'date'})\n",
    "tweet"
   ]
  },
  {
   "cell_type": "code",
   "execution_count": 261,
   "id": "d6332266",
   "metadata": {},
   "outputs": [],
   "source": [
    "tweet['date'] = pd.to_datetime(tweet['date'],format='%Y-%m-%d %Hh%Mm%Ssec')"
   ]
  },
  {
   "cell_type": "code",
   "execution_count": 262,
   "id": "13d41096",
   "metadata": {},
   "outputs": [],
   "source": [
    "# Modifying date format to YY-MM\n",
    "tweet['date'] = tweet['date'].dt.strftime('%Y-%m')"
   ]
  },
  {
   "cell_type": "code",
   "execution_count": 263,
   "id": "6592f8c5",
   "metadata": {},
   "outputs": [
    {
     "data": {
      "text/html": [
       "<div>\n",
       "<style scoped>\n",
       "    .dataframe tbody tr th:only-of-type {\n",
       "        vertical-align: middle;\n",
       "    }\n",
       "\n",
       "    .dataframe tbody tr th {\n",
       "        vertical-align: top;\n",
       "    }\n",
       "\n",
       "    .dataframe thead th {\n",
       "        text-align: right;\n",
       "    }\n",
       "</style>\n",
       "<table border=\"1\" class=\"dataframe\">\n",
       "  <thead>\n",
       "    <tr style=\"text-align: right;\">\n",
       "      <th></th>\n",
       "      <th>date</th>\n",
       "      <th>review_content</th>\n",
       "    </tr>\n",
       "  </thead>\n",
       "  <tbody>\n",
       "    <tr>\n",
       "      <th>0</th>\n",
       "      <td>2021-12</td>\n",
       "      <td>GREGGS TOO GOOD TO GO BAG | vlogmas day 9 http...</td>\n",
       "    </tr>\n",
       "    <tr>\n",
       "      <th>1</th>\n",
       "      <td>2021-12</td>\n",
       "      <td>Vegetable magic bag from the local organic sup...</td>\n",
       "    </tr>\n",
       "    <tr>\n",
       "      <th>2</th>\n",
       "      <td>2021-12</td>\n",
       "      <td>The retired dumpster diver in me has mixed fee...</td>\n",
       "    </tr>\n",
       "    <tr>\n",
       "      <th>3</th>\n",
       "      <td>2021-12</td>\n",
       "      <td>Just love this app #TooGoodToGo - save yummy f...</td>\n",
       "    </tr>\n",
       "    <tr>\n",
       "      <th>4</th>\n",
       "      <td>2021-12</td>\n",
       "      <td>Unsure if your passed-the-best-before product ...</td>\n",
       "    </tr>\n",
       "  </tbody>\n",
       "</table>\n",
       "</div>"
      ],
      "text/plain": [
       "      date                                     review_content\n",
       "0  2021-12  GREGGS TOO GOOD TO GO BAG | vlogmas day 9 http...\n",
       "1  2021-12  Vegetable magic bag from the local organic sup...\n",
       "2  2021-12  The retired dumpster diver in me has mixed fee...\n",
       "3  2021-12  Just love this app #TooGoodToGo - save yummy f...\n",
       "4  2021-12  Unsure if your passed-the-best-before product ..."
      ]
     },
     "execution_count": 263,
     "metadata": {},
     "output_type": "execute_result"
    }
   ],
   "source": [
    "tweet.head()"
   ]
  },
  {
   "cell_type": "code",
   "execution_count": 264,
   "id": "8cc02a79",
   "metadata": {},
   "outputs": [],
   "source": [
    "df_tweet = tweet"
   ]
  },
  {
   "cell_type": "code",
   "execution_count": 265,
   "id": "8c37ce36",
   "metadata": {},
   "outputs": [
    {
     "data": {
      "text/html": [
       "<div>\n",
       "<style scoped>\n",
       "    .dataframe tbody tr th:only-of-type {\n",
       "        vertical-align: middle;\n",
       "    }\n",
       "\n",
       "    .dataframe tbody tr th {\n",
       "        vertical-align: top;\n",
       "    }\n",
       "\n",
       "    .dataframe thead th {\n",
       "        text-align: right;\n",
       "    }\n",
       "</style>\n",
       "<table border=\"1\" class=\"dataframe\">\n",
       "  <thead>\n",
       "    <tr style=\"text-align: right;\">\n",
       "      <th></th>\n",
       "      <th>date</th>\n",
       "      <th>review_content</th>\n",
       "    </tr>\n",
       "  </thead>\n",
       "  <tbody>\n",
       "    <tr>\n",
       "      <th>0</th>\n",
       "      <td>2021-12</td>\n",
       "      <td>GREGGS TOO GOOD TO GO BAG | vlogmas day 9 http...</td>\n",
       "    </tr>\n",
       "    <tr>\n",
       "      <th>1</th>\n",
       "      <td>2021-12</td>\n",
       "      <td>Vegetable magic bag from the local organic sup...</td>\n",
       "    </tr>\n",
       "    <tr>\n",
       "      <th>2</th>\n",
       "      <td>2021-12</td>\n",
       "      <td>The retired dumpster diver in me has mixed fee...</td>\n",
       "    </tr>\n",
       "    <tr>\n",
       "      <th>3</th>\n",
       "      <td>2021-12</td>\n",
       "      <td>Just love this app #TooGoodToGo - save yummy f...</td>\n",
       "    </tr>\n",
       "    <tr>\n",
       "      <th>4</th>\n",
       "      <td>2021-12</td>\n",
       "      <td>Unsure if your passed-the-best-before product ...</td>\n",
       "    </tr>\n",
       "    <tr>\n",
       "      <th>...</th>\n",
       "      <td>...</td>\n",
       "      <td>...</td>\n",
       "    </tr>\n",
       "    <tr>\n",
       "      <th>1244</th>\n",
       "      <td>2021-01</td>\n",
       "      <td>@Tesco @coopuk @LidlGB @AldiUK @sainsburys @wa...</td>\n",
       "    </tr>\n",
       "    <tr>\n",
       "      <th>1245</th>\n",
       "      <td>2021-01</td>\n",
       "      <td>To the team of #TooGoodToGo, thank you for the...</td>\n",
       "    </tr>\n",
       "    <tr>\n",
       "      <th>1246</th>\n",
       "      <td>2021-01</td>\n",
       "      <td>I used to consider this a good haul of #toogoo...</td>\n",
       "    </tr>\n",
       "    <tr>\n",
       "      <th>1247</th>\n",
       "      <td>2021-01</td>\n",
       "      <td>Well this is exciting! Starting the year as I ...</td>\n",
       "    </tr>\n",
       "    <tr>\n",
       "      <th>1248</th>\n",
       "      <td>2021-01</td>\n",
       "      <td>#TooGoodToGo verry good to go 😉 https://t.co/j...</td>\n",
       "    </tr>\n",
       "  </tbody>\n",
       "</table>\n",
       "<p>1249 rows × 2 columns</p>\n",
       "</div>"
      ],
      "text/plain": [
       "         date                                     review_content\n",
       "0     2021-12  GREGGS TOO GOOD TO GO BAG | vlogmas day 9 http...\n",
       "1     2021-12  Vegetable magic bag from the local organic sup...\n",
       "2     2021-12  The retired dumpster diver in me has mixed fee...\n",
       "3     2021-12  Just love this app #TooGoodToGo - save yummy f...\n",
       "4     2021-12  Unsure if your passed-the-best-before product ...\n",
       "...       ...                                                ...\n",
       "1244  2021-01  @Tesco @coopuk @LidlGB @AldiUK @sainsburys @wa...\n",
       "1245  2021-01  To the team of #TooGoodToGo, thank you for the...\n",
       "1246  2021-01  I used to consider this a good haul of #toogoo...\n",
       "1247  2021-01  Well this is exciting! Starting the year as I ...\n",
       "1248  2021-01  #TooGoodToGo verry good to go 😉 https://t.co/j...\n",
       "\n",
       "[1249 rows x 2 columns]"
      ]
     },
     "execution_count": 265,
     "metadata": {},
     "output_type": "execute_result"
    }
   ],
   "source": [
    "df_tweet"
   ]
  },
  {
   "cell_type": "markdown",
   "id": "6a4cd614",
   "metadata": {},
   "source": [
    "#### Application of 1st round of feature engineering"
   ]
  },
  {
   "cell_type": "code",
   "execution_count": 266,
   "id": "af1a71f0",
   "metadata": {},
   "outputs": [],
   "source": [
    "df_tweet['char_count'] = df_tweet[\"review_content\"].apply(lambda x:count_chars(x))\n",
    "df_tweet['word_count'] = df_tweet[\"review_content\"].apply(lambda x:count_words(x))\n",
    "df_tweet['sent_count'] = df_tweet[\"review_content\"].apply(lambda x:count_sent(x))\n",
    "df_tweet['capital_char_count'] = df_tweet[\"review_content\"].apply(lambda x:count_capital_chars(x))\n",
    "df_tweet['capital_word_count'] = df_tweet[\"review_content\"].apply(lambda x:count_capital_words(x))\n",
    "df_tweet['quoted_word_count'] = df_tweet[\"review_content\"].apply(lambda x:count_words_in_quotes(x))\n",
    "df_tweet['stopword_count'] = df_tweet[\"review_content\"].apply(lambda x:count_stopwords(x))\n",
    "df_tweet['unique_word_count'] = df_tweet[\"review_content\"].apply(lambda x:count_unique_words(x))\n",
    "df_tweet['htag_count'] = df_tweet[\"review_content\"].apply(lambda x:count_htags(x))\n",
    "df_tweet['mention_count'] = df_tweet[\"review_content\"].apply(lambda x:count_mentions(x))\n",
    "df_tweet['punct_count'] = df_tweet[\"review_content\"].apply(lambda x:count_punctuations(x))\n",
    "df_tweet['emoji_count'] = df_tweet[\"review_content\"].apply(lambda x:count_emoji(x))"
   ]
  },
  {
   "cell_type": "markdown",
   "id": "15b32371",
   "metadata": {},
   "source": [
    "#### Application of 2nd round of feature engineering"
   ]
  },
  {
   "cell_type": "code",
   "execution_count": 267,
   "id": "b564eec0",
   "metadata": {},
   "outputs": [],
   "source": [
    "df_tweet['avg_wordlength'] = df_tweet['char_count']/df_tweet['word_count']\n",
    "df_tweet['avg_sentlength'] = df_tweet['word_count']/df_tweet['sent_count']\n",
    "df_tweet['unique_vs_words'] = df_tweet['unique_word_count']/df_tweet['word_count']\n",
    "df_tweet['stopwords_vs_words'] = df_tweet['stopword_count']/df_tweet['word_count']"
   ]
  },
  {
   "cell_type": "code",
   "execution_count": 268,
   "id": "de7f6d7a",
   "metadata": {},
   "outputs": [
    {
     "data": {
      "text/plain": [
       "Index(['date', 'review_content', 'char_count', 'word_count', 'sent_count',\n",
       "       'capital_char_count', 'capital_word_count', 'quoted_word_count',\n",
       "       'stopword_count', 'unique_word_count', 'htag_count', 'mention_count',\n",
       "       'emoji_count', 'avg_wordlength', 'avg_sentlength', 'unique_vs_words',\n",
       "       'stopwords_vs_words', '!count', '#count', '$count', '%count', '&count',\n",
       "       ''count', '(count', ')count', '*count', '+count', ',count', '-count',\n",
       "       '.count', '/count', ':count', ';count', '<count', '=count', '>count',\n",
       "       '?count', '@count', '[count', '\\count', ']count', '^count', '_count',\n",
       "       '`count', '{count', '|count', '}count', '~count'],\n",
       "      dtype='object')"
      ]
     },
     "execution_count": 268,
     "metadata": {},
     "output_type": "execute_result"
    }
   ],
   "source": [
    "# Creating new dataframe retrieving all the different punctuation used in each text\n",
    "df_punct_tweet = pd.DataFrame(list(df_tweet.punct_count))\n",
    "\n",
    "# Merging punctuation DataFrame with main DataFrame\n",
    "df_tweet = pd.merge(df_tweet, df_punct_tweet, left_index=True, right_index=True)\n",
    "\n",
    "# Dropping \"punct_count\" column from main DataFrame\n",
    "df_tweet.drop(columns=['punct_count'],inplace=True)\n",
    "df_tweet.columns"
   ]
  },
  {
   "cell_type": "markdown",
   "id": "a5c62253",
   "metadata": {},
   "source": [
    "#### Formatting"
   ]
  },
  {
   "cell_type": "code",
   "execution_count": 269,
   "id": "5bc6cdaa",
   "metadata": {},
   "outputs": [],
   "source": [
    "sub_df_tweet = df_tweet[['char_count', 'word_count',\n",
    "       'sent_count', 'capital_char_count', 'capital_word_count',\n",
    "       'quoted_word_count', 'stopword_count', 'unique_word_count',\n",
    "       'htag_count', 'mention_count', 'emoji_count', 'avg_wordlength',\n",
    "       'avg_sentlength', 'unique_vs_words', 'stopwords_vs_words', '!count',\n",
    "       '#count', '$count', '%count', '&count', \"'count\", '(count', ')count',\n",
    "       '*count', '+count', ',count', '-count', '.count', '/count', ':count',\n",
    "       ';count', '<count', '=count', '>count', '?count', '@count', '[count',\n",
    "       '\\count', ']count', '^count', '_count', '`count', '{count', '|count',\n",
    "       '}count', '~count']]"
   ]
  },
  {
   "cell_type": "markdown",
   "id": "ec26060d",
   "metadata": {},
   "source": [
    "#### Application of preprocessing"
   ]
  },
  {
   "cell_type": "code",
   "execution_count": 270,
   "id": "9a29d8f5",
   "metadata": {},
   "outputs": [],
   "source": [
    "df_tweet['preprocessed_content'] = df_tweet['review_content'].apply(lambda x:preprocessing(x))"
   ]
  },
  {
   "cell_type": "code",
   "execution_count": 271,
   "id": "7308636f",
   "metadata": {},
   "outputs": [
    {
     "data": {
      "text/html": [
       "<div>\n",
       "<style scoped>\n",
       "    .dataframe tbody tr th:only-of-type {\n",
       "        vertical-align: middle;\n",
       "    }\n",
       "\n",
       "    .dataframe tbody tr th {\n",
       "        vertical-align: top;\n",
       "    }\n",
       "\n",
       "    .dataframe thead th {\n",
       "        text-align: right;\n",
       "    }\n",
       "</style>\n",
       "<table border=\"1\" class=\"dataframe\">\n",
       "  <thead>\n",
       "    <tr style=\"text-align: right;\">\n",
       "      <th></th>\n",
       "      <th>date</th>\n",
       "      <th>review_content</th>\n",
       "      <th>char_count</th>\n",
       "      <th>word_count</th>\n",
       "      <th>sent_count</th>\n",
       "      <th>capital_char_count</th>\n",
       "      <th>capital_word_count</th>\n",
       "      <th>quoted_word_count</th>\n",
       "      <th>stopword_count</th>\n",
       "      <th>unique_word_count</th>\n",
       "      <th>...</th>\n",
       "      <th>\\count</th>\n",
       "      <th>]count</th>\n",
       "      <th>^count</th>\n",
       "      <th>_count</th>\n",
       "      <th>`count</th>\n",
       "      <th>{count</th>\n",
       "      <th>|count</th>\n",
       "      <th>}count</th>\n",
       "      <th>~count</th>\n",
       "      <th>preprocessed_content</th>\n",
       "    </tr>\n",
       "  </thead>\n",
       "  <tbody>\n",
       "    <tr>\n",
       "      <th>0</th>\n",
       "      <td>2021-12</td>\n",
       "      <td>GREGGS TOO GOOD TO GO BAG | vlogmas day 9 http...</td>\n",
       "      <td>133</td>\n",
       "      <td>16</td>\n",
       "      <td>1</td>\n",
       "      <td>29</td>\n",
       "      <td>6</td>\n",
       "      <td>0</td>\n",
       "      <td>0</td>\n",
       "      <td>16</td>\n",
       "      <td>...</td>\n",
       "      <td>0</td>\n",
       "      <td>0</td>\n",
       "      <td>0</td>\n",
       "      <td>0</td>\n",
       "      <td>0</td>\n",
       "      <td>0</td>\n",
       "      <td>1</td>\n",
       "      <td>0</td>\n",
       "      <td>0</td>\n",
       "      <td>[greggs, good, bag, vlogmas, day, t, co, t, co]</td>\n",
       "    </tr>\n",
       "    <tr>\n",
       "      <th>1</th>\n",
       "      <td>2021-12</td>\n",
       "      <td>Vegetable magic bag from the local organic sup...</td>\n",
       "      <td>171</td>\n",
       "      <td>21</td>\n",
       "      <td>3</td>\n",
       "      <td>14</td>\n",
       "      <td>0</td>\n",
       "      <td>0</td>\n",
       "      <td>3</td>\n",
       "      <td>21</td>\n",
       "      <td>...</td>\n",
       "      <td>0</td>\n",
       "      <td>0</td>\n",
       "      <td>0</td>\n",
       "      <td>0</td>\n",
       "      <td>0</td>\n",
       "      <td>0</td>\n",
       "      <td>0</td>\n",
       "      <td>0</td>\n",
       "      <td>0</td>\n",
       "      <td>[vegetable, magic, bag, local, organic, superm...</td>\n",
       "    </tr>\n",
       "    <tr>\n",
       "      <th>2</th>\n",
       "      <td>2021-12</td>\n",
       "      <td>The retired dumpster diver in me has mixed fee...</td>\n",
       "      <td>101</td>\n",
       "      <td>13</td>\n",
       "      <td>2</td>\n",
       "      <td>9</td>\n",
       "      <td>0</td>\n",
       "      <td>0</td>\n",
       "      <td>5</td>\n",
       "      <td>13</td>\n",
       "      <td>...</td>\n",
       "      <td>0</td>\n",
       "      <td>0</td>\n",
       "      <td>0</td>\n",
       "      <td>0</td>\n",
       "      <td>0</td>\n",
       "      <td>0</td>\n",
       "      <td>0</td>\n",
       "      <td>0</td>\n",
       "      <td>0</td>\n",
       "      <td>[retired, dumpster, diver, mixed, feeling, t, co]</td>\n",
       "    </tr>\n",
       "    <tr>\n",
       "      <th>3</th>\n",
       "      <td>2021-12</td>\n",
       "      <td>Just love this app #TooGoodToGo - save yummy f...</td>\n",
       "      <td>158</td>\n",
       "      <td>24</td>\n",
       "      <td>2</td>\n",
       "      <td>9</td>\n",
       "      <td>0</td>\n",
       "      <td>0</td>\n",
       "      <td>10</td>\n",
       "      <td>23</td>\n",
       "      <td>...</td>\n",
       "      <td>0</td>\n",
       "      <td>0</td>\n",
       "      <td>0</td>\n",
       "      <td>0</td>\n",
       "      <td>0</td>\n",
       "      <td>0</td>\n",
       "      <td>0</td>\n",
       "      <td>0</td>\n",
       "      <td>0</td>\n",
       "      <td>[love, app, save, yummy, food, chucked, help, ...</td>\n",
       "    </tr>\n",
       "    <tr>\n",
       "      <th>4</th>\n",
       "      <td>2021-12</td>\n",
       "      <td>Unsure if your passed-the-best-before product ...</td>\n",
       "      <td>201</td>\n",
       "      <td>27</td>\n",
       "      <td>3</td>\n",
       "      <td>21</td>\n",
       "      <td>0</td>\n",
       "      <td>0</td>\n",
       "      <td>8</td>\n",
       "      <td>26</td>\n",
       "      <td>...</td>\n",
       "      <td>0</td>\n",
       "      <td>0</td>\n",
       "      <td>0</td>\n",
       "      <td>0</td>\n",
       "      <td>0</td>\n",
       "      <td>0</td>\n",
       "      <td>0</td>\n",
       "      <td>0</td>\n",
       "      <td>0</td>\n",
       "      <td>[unsure, passed, best, product, good, beat, qu...</td>\n",
       "    </tr>\n",
       "  </tbody>\n",
       "</table>\n",
       "<p>5 rows × 49 columns</p>\n",
       "</div>"
      ],
      "text/plain": [
       "      date                                     review_content  char_count  \\\n",
       "0  2021-12  GREGGS TOO GOOD TO GO BAG | vlogmas day 9 http...         133   \n",
       "1  2021-12  Vegetable magic bag from the local organic sup...         171   \n",
       "2  2021-12  The retired dumpster diver in me has mixed fee...         101   \n",
       "3  2021-12  Just love this app #TooGoodToGo - save yummy f...         158   \n",
       "4  2021-12  Unsure if your passed-the-best-before product ...         201   \n",
       "\n",
       "   word_count  sent_count  capital_char_count  capital_word_count  \\\n",
       "0          16           1                  29                   6   \n",
       "1          21           3                  14                   0   \n",
       "2          13           2                   9                   0   \n",
       "3          24           2                   9                   0   \n",
       "4          27           3                  21                   0   \n",
       "\n",
       "   quoted_word_count  stopword_count  unique_word_count  ...  \\count  ]count  \\\n",
       "0                  0               0                 16  ...       0       0   \n",
       "1                  0               3                 21  ...       0       0   \n",
       "2                  0               5                 13  ...       0       0   \n",
       "3                  0              10                 23  ...       0       0   \n",
       "4                  0               8                 26  ...       0       0   \n",
       "\n",
       "   ^count  _count  `count  {count  |count  }count  ~count  \\\n",
       "0       0       0       0       0       1       0       0   \n",
       "1       0       0       0       0       0       0       0   \n",
       "2       0       0       0       0       0       0       0   \n",
       "3       0       0       0       0       0       0       0   \n",
       "4       0       0       0       0       0       0       0   \n",
       "\n",
       "                                preprocessed_content  \n",
       "0    [greggs, good, bag, vlogmas, day, t, co, t, co]  \n",
       "1  [vegetable, magic, bag, local, organic, superm...  \n",
       "2  [retired, dumpster, diver, mixed, feeling, t, co]  \n",
       "3  [love, app, save, yummy, food, chucked, help, ...  \n",
       "4  [unsure, passed, best, product, good, beat, qu...  \n",
       "\n",
       "[5 rows x 49 columns]"
      ]
     },
     "execution_count": 271,
     "metadata": {},
     "output_type": "execute_result"
    }
   ],
   "source": [
    "df_tweet.head()"
   ]
  },
  {
   "cell_type": "code",
   "execution_count": 272,
   "id": "73f255c4",
   "metadata": {},
   "outputs": [
    {
     "data": {
      "text/plain": [
       "0                greggs,good,bag,vlogmas,day,t,co,t,co\n",
       "1    vegetable,magic,bag,local,organic,supermarket,...\n",
       "2            retired,dumpster,diver,mixed,feeling,t,co\n",
       "3    love,app,save,yummy,food,chucked,help,pray,coo...\n",
       "4    unsure,passed,best,product,good,beat,quick,tes...\n",
       "Name: preprocessed_content_string, dtype: object"
      ]
     },
     "execution_count": 272,
     "metadata": {},
     "output_type": "execute_result"
    }
   ],
   "source": [
    "df_tweet['preprocessed_content_string'] = [','.join(map(str, l)) for l in df_tweet['preprocessed_content']]\n",
    "df_tweet['preprocessed_content_string'].head(5)"
   ]
  },
  {
   "cell_type": "markdown",
   "id": "df0b62c7",
   "metadata": {},
   "source": [
    "#### TF-IDF"
   ]
  },
  {
   "cell_type": "code",
   "execution_count": 273,
   "id": "3006180f",
   "metadata": {},
   "outputs": [],
   "source": [
    "features_tweet = tfidf.transform(df_tweet['preprocessed_content_string']).toarray()"
   ]
  },
  {
   "cell_type": "markdown",
   "id": "d95dcafd",
   "metadata": {},
   "source": [
    "#### Removing date & review_content"
   ]
  },
  {
   "cell_type": "code",
   "execution_count": 274,
   "id": "d8649de1",
   "metadata": {},
   "outputs": [],
   "source": [
    "df_tweet = df_tweet.drop(columns=['date','review_content'])"
   ]
  },
  {
   "cell_type": "markdown",
   "id": "5c8d047b",
   "metadata": {},
   "source": [
    "#### Concatenation"
   ]
  },
  {
   "cell_type": "code",
   "execution_count": 275,
   "id": "73364401",
   "metadata": {},
   "outputs": [],
   "source": [
    "tweet_final_df = pd.concat([sub_df_tweet.reset_index(drop=True),pd.DataFrame(features_tweet).reset_index(drop=True)], axis=1)"
   ]
  },
  {
   "cell_type": "markdown",
   "id": "5c99f41c",
   "metadata": {},
   "source": [
    "#### ML application"
   ]
  },
  {
   "cell_type": "code",
   "execution_count": 280,
   "id": "9454a290",
   "metadata": {},
   "outputs": [
    {
     "name": "stderr",
     "output_type": "stream",
     "text": [
      "/home/vb/.pyenv/versions/3.9.7/envs/artefact/lib/python3.9/site-packages/sklearn/utils/validation.py:1673: FutureWarning: Feature names only support names that are all strings. Got feature names with dtypes: ['int', 'str']. An error will be raised in 1.2.\n",
      "  warnings.warn(\n"
     ]
    }
   ],
   "source": [
    "# SVC model is 'model'\n",
    "tweet_pred = model.predict(tweet_final_df)"
   ]
  },
  {
   "cell_type": "code",
   "execution_count": 281,
   "id": "ae046501",
   "metadata": {},
   "outputs": [
    {
     "data": {
      "text/plain": [
       "array([1, 5, 1, ..., 4, 1, 5])"
      ]
     },
     "execution_count": 281,
     "metadata": {},
     "output_type": "execute_result"
    }
   ],
   "source": [
    "tweet_pred"
   ]
  },
  {
   "cell_type": "markdown",
   "id": "b3e99b93",
   "metadata": {},
   "source": [
    "#### Reformatting & Adding Tweet scores ahead of the concatenation with the rest of reviews from Google/Apple/Trustpilot"
   ]
  },
  {
   "cell_type": "code",
   "execution_count": 284,
   "id": "d4e61af2",
   "metadata": {},
   "outputs": [
    {
     "data": {
      "text/html": [
       "<div>\n",
       "<style scoped>\n",
       "    .dataframe tbody tr th:only-of-type {\n",
       "        vertical-align: middle;\n",
       "    }\n",
       "\n",
       "    .dataframe tbody tr th {\n",
       "        vertical-align: top;\n",
       "    }\n",
       "\n",
       "    .dataframe thead th {\n",
       "        text-align: right;\n",
       "    }\n",
       "</style>\n",
       "<table border=\"1\" class=\"dataframe\">\n",
       "  <thead>\n",
       "    <tr style=\"text-align: right;\">\n",
       "      <th></th>\n",
       "      <th>date</th>\n",
       "      <th>review_content</th>\n",
       "      <th>char_count</th>\n",
       "      <th>word_count</th>\n",
       "      <th>sent_count</th>\n",
       "      <th>capital_char_count</th>\n",
       "      <th>capital_word_count</th>\n",
       "      <th>quoted_word_count</th>\n",
       "      <th>stopword_count</th>\n",
       "      <th>unique_word_count</th>\n",
       "      <th>htag_count</th>\n",
       "      <th>mention_count</th>\n",
       "      <th>punct_count</th>\n",
       "      <th>emoji_count</th>\n",
       "      <th>avg_wordlength</th>\n",
       "      <th>avg_sentlength</th>\n",
       "      <th>unique_vs_words</th>\n",
       "      <th>stopwords_vs_words</th>\n",
       "    </tr>\n",
       "  </thead>\n",
       "  <tbody>\n",
       "    <tr>\n",
       "      <th>0</th>\n",
       "      <td>2021-12</td>\n",
       "      <td>GREGGS TOO GOOD TO GO BAG | vlogmas day 9 http...</td>\n",
       "      <td>133</td>\n",
       "      <td>16</td>\n",
       "      <td>1</td>\n",
       "      <td>29</td>\n",
       "      <td>6</td>\n",
       "      <td>0</td>\n",
       "      <td>0</td>\n",
       "      <td>16</td>\n",
       "      <td>0</td>\n",
       "      <td>0</td>\n",
       "      <td>{'!count': 0, '#count': 4, '$count': 0, '%coun...</td>\n",
       "      <td>0</td>\n",
       "      <td>8.312500</td>\n",
       "      <td>16.0</td>\n",
       "      <td>1.000000</td>\n",
       "      <td>0.000000</td>\n",
       "    </tr>\n",
       "    <tr>\n",
       "      <th>1</th>\n",
       "      <td>2021-12</td>\n",
       "      <td>Vegetable magic bag from the local organic sup...</td>\n",
       "      <td>171</td>\n",
       "      <td>21</td>\n",
       "      <td>3</td>\n",
       "      <td>14</td>\n",
       "      <td>0</td>\n",
       "      <td>0</td>\n",
       "      <td>3</td>\n",
       "      <td>21</td>\n",
       "      <td>0</td>\n",
       "      <td>0</td>\n",
       "      <td>{'!count': 0, '#count': 1, '$count': 0, '%coun...</td>\n",
       "      <td>1</td>\n",
       "      <td>8.142857</td>\n",
       "      <td>7.0</td>\n",
       "      <td>1.000000</td>\n",
       "      <td>0.142857</td>\n",
       "    </tr>\n",
       "    <tr>\n",
       "      <th>2</th>\n",
       "      <td>2021-12</td>\n",
       "      <td>The retired dumpster diver in me has mixed fee...</td>\n",
       "      <td>101</td>\n",
       "      <td>13</td>\n",
       "      <td>2</td>\n",
       "      <td>9</td>\n",
       "      <td>0</td>\n",
       "      <td>0</td>\n",
       "      <td>5</td>\n",
       "      <td>13</td>\n",
       "      <td>0</td>\n",
       "      <td>0</td>\n",
       "      <td>{'!count': 0, '#count': 1, '$count': 0, '%coun...</td>\n",
       "      <td>0</td>\n",
       "      <td>7.769231</td>\n",
       "      <td>6.5</td>\n",
       "      <td>1.000000</td>\n",
       "      <td>0.384615</td>\n",
       "    </tr>\n",
       "    <tr>\n",
       "      <th>3</th>\n",
       "      <td>2021-12</td>\n",
       "      <td>Just love this app #TooGoodToGo - save yummy f...</td>\n",
       "      <td>158</td>\n",
       "      <td>24</td>\n",
       "      <td>2</td>\n",
       "      <td>9</td>\n",
       "      <td>0</td>\n",
       "      <td>0</td>\n",
       "      <td>10</td>\n",
       "      <td>23</td>\n",
       "      <td>0</td>\n",
       "      <td>0</td>\n",
       "      <td>{'!count': 1, '#count': 1, '$count': 0, '%coun...</td>\n",
       "      <td>0</td>\n",
       "      <td>6.583333</td>\n",
       "      <td>12.0</td>\n",
       "      <td>0.958333</td>\n",
       "      <td>0.416667</td>\n",
       "    </tr>\n",
       "    <tr>\n",
       "      <th>4</th>\n",
       "      <td>2021-12</td>\n",
       "      <td>Unsure if your passed-the-best-before product ...</td>\n",
       "      <td>201</td>\n",
       "      <td>27</td>\n",
       "      <td>3</td>\n",
       "      <td>21</td>\n",
       "      <td>0</td>\n",
       "      <td>0</td>\n",
       "      <td>8</td>\n",
       "      <td>26</td>\n",
       "      <td>0</td>\n",
       "      <td>0</td>\n",
       "      <td>{'!count': 1, '#count': 6, '$count': 0, '%coun...</td>\n",
       "      <td>3</td>\n",
       "      <td>7.444444</td>\n",
       "      <td>9.0</td>\n",
       "      <td>0.962963</td>\n",
       "      <td>0.296296</td>\n",
       "    </tr>\n",
       "  </tbody>\n",
       "</table>\n",
       "</div>"
      ],
      "text/plain": [
       "      date                                     review_content  char_count  \\\n",
       "0  2021-12  GREGGS TOO GOOD TO GO BAG | vlogmas day 9 http...         133   \n",
       "1  2021-12  Vegetable magic bag from the local organic sup...         171   \n",
       "2  2021-12  The retired dumpster diver in me has mixed fee...         101   \n",
       "3  2021-12  Just love this app #TooGoodToGo - save yummy f...         158   \n",
       "4  2021-12  Unsure if your passed-the-best-before product ...         201   \n",
       "\n",
       "   word_count  sent_count  capital_char_count  capital_word_count  \\\n",
       "0          16           1                  29                   6   \n",
       "1          21           3                  14                   0   \n",
       "2          13           2                   9                   0   \n",
       "3          24           2                   9                   0   \n",
       "4          27           3                  21                   0   \n",
       "\n",
       "   quoted_word_count  stopword_count  unique_word_count  htag_count  \\\n",
       "0                  0               0                 16           0   \n",
       "1                  0               3                 21           0   \n",
       "2                  0               5                 13           0   \n",
       "3                  0              10                 23           0   \n",
       "4                  0               8                 26           0   \n",
       "\n",
       "   mention_count                                        punct_count  \\\n",
       "0              0  {'!count': 0, '#count': 4, '$count': 0, '%coun...   \n",
       "1              0  {'!count': 0, '#count': 1, '$count': 0, '%coun...   \n",
       "2              0  {'!count': 0, '#count': 1, '$count': 0, '%coun...   \n",
       "3              0  {'!count': 1, '#count': 1, '$count': 0, '%coun...   \n",
       "4              0  {'!count': 1, '#count': 6, '$count': 0, '%coun...   \n",
       "\n",
       "   emoji_count  avg_wordlength  avg_sentlength  unique_vs_words  \\\n",
       "0            0        8.312500            16.0         1.000000   \n",
       "1            1        8.142857             7.0         1.000000   \n",
       "2            0        7.769231             6.5         1.000000   \n",
       "3            0        6.583333            12.0         0.958333   \n",
       "4            3        7.444444             9.0         0.962963   \n",
       "\n",
       "   stopwords_vs_words  \n",
       "0            0.000000  \n",
       "1            0.142857  \n",
       "2            0.384615  \n",
       "3            0.416667  \n",
       "4            0.296296  "
      ]
     },
     "execution_count": 284,
     "metadata": {},
     "output_type": "execute_result"
    }
   ],
   "source": [
    "# checking the Twitter dataframe\n",
    "tweet.head(5)"
   ]
  },
  {
   "cell_type": "code",
   "execution_count": 285,
   "id": "e6e488a2",
   "metadata": {},
   "outputs": [],
   "source": [
    "# adding the preprocessed reviews\n",
    "tweet['preprocessed_content'] = df_tweet['preprocessed_content_string']"
   ]
  },
  {
   "cell_type": "code",
   "execution_count": 287,
   "id": "aff371a7",
   "metadata": {},
   "outputs": [],
   "source": [
    "# adding the predicted Twitter scores\n",
    "tweet['rating'] = tweet_pred"
   ]
  },
  {
   "cell_type": "code",
   "execution_count": 288,
   "id": "96051968",
   "metadata": {},
   "outputs": [
    {
     "data": {
      "text/html": [
       "<div>\n",
       "<style scoped>\n",
       "    .dataframe tbody tr th:only-of-type {\n",
       "        vertical-align: middle;\n",
       "    }\n",
       "\n",
       "    .dataframe tbody tr th {\n",
       "        vertical-align: top;\n",
       "    }\n",
       "\n",
       "    .dataframe thead th {\n",
       "        text-align: right;\n",
       "    }\n",
       "</style>\n",
       "<table border=\"1\" class=\"dataframe\">\n",
       "  <thead>\n",
       "    <tr style=\"text-align: right;\">\n",
       "      <th></th>\n",
       "      <th>date</th>\n",
       "      <th>review_content</th>\n",
       "      <th>char_count</th>\n",
       "      <th>word_count</th>\n",
       "      <th>sent_count</th>\n",
       "      <th>capital_char_count</th>\n",
       "      <th>capital_word_count</th>\n",
       "      <th>quoted_word_count</th>\n",
       "      <th>stopword_count</th>\n",
       "      <th>unique_word_count</th>\n",
       "      <th>htag_count</th>\n",
       "      <th>mention_count</th>\n",
       "      <th>punct_count</th>\n",
       "      <th>emoji_count</th>\n",
       "      <th>avg_wordlength</th>\n",
       "      <th>avg_sentlength</th>\n",
       "      <th>unique_vs_words</th>\n",
       "      <th>stopwords_vs_words</th>\n",
       "      <th>preprocessed_content</th>\n",
       "      <th>rating</th>\n",
       "    </tr>\n",
       "  </thead>\n",
       "  <tbody>\n",
       "    <tr>\n",
       "      <th>0</th>\n",
       "      <td>2021-12</td>\n",
       "      <td>GREGGS TOO GOOD TO GO BAG | vlogmas day 9 http...</td>\n",
       "      <td>133</td>\n",
       "      <td>16</td>\n",
       "      <td>1</td>\n",
       "      <td>29</td>\n",
       "      <td>6</td>\n",
       "      <td>0</td>\n",
       "      <td>0</td>\n",
       "      <td>16</td>\n",
       "      <td>0</td>\n",
       "      <td>0</td>\n",
       "      <td>{'!count': 0, '#count': 4, '$count': 0, '%coun...</td>\n",
       "      <td>0</td>\n",
       "      <td>8.312500</td>\n",
       "      <td>16.0</td>\n",
       "      <td>1.000000</td>\n",
       "      <td>0.000000</td>\n",
       "      <td>greggs,good,bag,vlogmas,day,t,co,t,co</td>\n",
       "      <td>1</td>\n",
       "    </tr>\n",
       "    <tr>\n",
       "      <th>1</th>\n",
       "      <td>2021-12</td>\n",
       "      <td>Vegetable magic bag from the local organic sup...</td>\n",
       "      <td>171</td>\n",
       "      <td>21</td>\n",
       "      <td>3</td>\n",
       "      <td>14</td>\n",
       "      <td>0</td>\n",
       "      <td>0</td>\n",
       "      <td>3</td>\n",
       "      <td>21</td>\n",
       "      <td>0</td>\n",
       "      <td>0</td>\n",
       "      <td>{'!count': 0, '#count': 1, '$count': 0, '%coun...</td>\n",
       "      <td>1</td>\n",
       "      <td>8.142857</td>\n",
       "      <td>7.0</td>\n",
       "      <td>1.000000</td>\n",
       "      <td>0.142857</td>\n",
       "      <td>vegetable,magic,bag,local,organic,supermarket,...</td>\n",
       "      <td>5</td>\n",
       "    </tr>\n",
       "    <tr>\n",
       "      <th>2</th>\n",
       "      <td>2021-12</td>\n",
       "      <td>The retired dumpster diver in me has mixed fee...</td>\n",
       "      <td>101</td>\n",
       "      <td>13</td>\n",
       "      <td>2</td>\n",
       "      <td>9</td>\n",
       "      <td>0</td>\n",
       "      <td>0</td>\n",
       "      <td>5</td>\n",
       "      <td>13</td>\n",
       "      <td>0</td>\n",
       "      <td>0</td>\n",
       "      <td>{'!count': 0, '#count': 1, '$count': 0, '%coun...</td>\n",
       "      <td>0</td>\n",
       "      <td>7.769231</td>\n",
       "      <td>6.5</td>\n",
       "      <td>1.000000</td>\n",
       "      <td>0.384615</td>\n",
       "      <td>retired,dumpster,diver,mixed,feeling,t,co</td>\n",
       "      <td>1</td>\n",
       "    </tr>\n",
       "    <tr>\n",
       "      <th>3</th>\n",
       "      <td>2021-12</td>\n",
       "      <td>Just love this app #TooGoodToGo - save yummy f...</td>\n",
       "      <td>158</td>\n",
       "      <td>24</td>\n",
       "      <td>2</td>\n",
       "      <td>9</td>\n",
       "      <td>0</td>\n",
       "      <td>0</td>\n",
       "      <td>10</td>\n",
       "      <td>23</td>\n",
       "      <td>0</td>\n",
       "      <td>0</td>\n",
       "      <td>{'!count': 1, '#count': 1, '$count': 0, '%coun...</td>\n",
       "      <td>0</td>\n",
       "      <td>6.583333</td>\n",
       "      <td>12.0</td>\n",
       "      <td>0.958333</td>\n",
       "      <td>0.416667</td>\n",
       "      <td>love,app,save,yummy,food,chucked,help,pray,coo...</td>\n",
       "      <td>5</td>\n",
       "    </tr>\n",
       "    <tr>\n",
       "      <th>4</th>\n",
       "      <td>2021-12</td>\n",
       "      <td>Unsure if your passed-the-best-before product ...</td>\n",
       "      <td>201</td>\n",
       "      <td>27</td>\n",
       "      <td>3</td>\n",
       "      <td>21</td>\n",
       "      <td>0</td>\n",
       "      <td>0</td>\n",
       "      <td>8</td>\n",
       "      <td>26</td>\n",
       "      <td>0</td>\n",
       "      <td>0</td>\n",
       "      <td>{'!count': 1, '#count': 6, '$count': 0, '%coun...</td>\n",
       "      <td>3</td>\n",
       "      <td>7.444444</td>\n",
       "      <td>9.0</td>\n",
       "      <td>0.962963</td>\n",
       "      <td>0.296296</td>\n",
       "      <td>unsure,passed,best,product,good,beat,quick,tes...</td>\n",
       "      <td>1</td>\n",
       "    </tr>\n",
       "  </tbody>\n",
       "</table>\n",
       "</div>"
      ],
      "text/plain": [
       "      date                                     review_content  char_count  \\\n",
       "0  2021-12  GREGGS TOO GOOD TO GO BAG | vlogmas day 9 http...         133   \n",
       "1  2021-12  Vegetable magic bag from the local organic sup...         171   \n",
       "2  2021-12  The retired dumpster diver in me has mixed fee...         101   \n",
       "3  2021-12  Just love this app #TooGoodToGo - save yummy f...         158   \n",
       "4  2021-12  Unsure if your passed-the-best-before product ...         201   \n",
       "\n",
       "   word_count  sent_count  capital_char_count  capital_word_count  \\\n",
       "0          16           1                  29                   6   \n",
       "1          21           3                  14                   0   \n",
       "2          13           2                   9                   0   \n",
       "3          24           2                   9                   0   \n",
       "4          27           3                  21                   0   \n",
       "\n",
       "   quoted_word_count  stopword_count  unique_word_count  htag_count  \\\n",
       "0                  0               0                 16           0   \n",
       "1                  0               3                 21           0   \n",
       "2                  0               5                 13           0   \n",
       "3                  0              10                 23           0   \n",
       "4                  0               8                 26           0   \n",
       "\n",
       "   mention_count                                        punct_count  \\\n",
       "0              0  {'!count': 0, '#count': 4, '$count': 0, '%coun...   \n",
       "1              0  {'!count': 0, '#count': 1, '$count': 0, '%coun...   \n",
       "2              0  {'!count': 0, '#count': 1, '$count': 0, '%coun...   \n",
       "3              0  {'!count': 1, '#count': 1, '$count': 0, '%coun...   \n",
       "4              0  {'!count': 1, '#count': 6, '$count': 0, '%coun...   \n",
       "\n",
       "   emoji_count  avg_wordlength  avg_sentlength  unique_vs_words  \\\n",
       "0            0        8.312500            16.0         1.000000   \n",
       "1            1        8.142857             7.0         1.000000   \n",
       "2            0        7.769231             6.5         1.000000   \n",
       "3            0        6.583333            12.0         0.958333   \n",
       "4            3        7.444444             9.0         0.962963   \n",
       "\n",
       "   stopwords_vs_words                               preprocessed_content  \\\n",
       "0            0.000000              greggs,good,bag,vlogmas,day,t,co,t,co   \n",
       "1            0.142857  vegetable,magic,bag,local,organic,supermarket,...   \n",
       "2            0.384615          retired,dumpster,diver,mixed,feeling,t,co   \n",
       "3            0.416667  love,app,save,yummy,food,chucked,help,pray,coo...   \n",
       "4            0.296296  unsure,passed,best,product,good,beat,quick,tes...   \n",
       "\n",
       "   rating  \n",
       "0       1  \n",
       "1       5  \n",
       "2       1  \n",
       "3       5  \n",
       "4       1  "
      ]
     },
     "execution_count": 288,
     "metadata": {},
     "output_type": "execute_result"
    }
   ],
   "source": [
    "tweet.head(5)"
   ]
  },
  {
   "cell_type": "code",
   "execution_count": 289,
   "id": "0eb3ab9c",
   "metadata": {},
   "outputs": [
    {
     "data": {
      "text/html": [
       "<div>\n",
       "<style scoped>\n",
       "    .dataframe tbody tr th:only-of-type {\n",
       "        vertical-align: middle;\n",
       "    }\n",
       "\n",
       "    .dataframe tbody tr th {\n",
       "        vertical-align: top;\n",
       "    }\n",
       "\n",
       "    .dataframe thead th {\n",
       "        text-align: right;\n",
       "    }\n",
       "</style>\n",
       "<table border=\"1\" class=\"dataframe\">\n",
       "  <thead>\n",
       "    <tr style=\"text-align: right;\">\n",
       "      <th></th>\n",
       "      <th>date</th>\n",
       "      <th>review_content</th>\n",
       "      <th>char_count</th>\n",
       "      <th>word_count</th>\n",
       "      <th>sent_count</th>\n",
       "      <th>capital_char_count</th>\n",
       "      <th>capital_word_count</th>\n",
       "      <th>quoted_word_count</th>\n",
       "      <th>stopword_count</th>\n",
       "      <th>unique_word_count</th>\n",
       "      <th>...</th>\n",
       "      <th>mention_count</th>\n",
       "      <th>punct_count</th>\n",
       "      <th>emoji_count</th>\n",
       "      <th>avg_wordlength</th>\n",
       "      <th>avg_sentlength</th>\n",
       "      <th>unique_vs_words</th>\n",
       "      <th>stopwords_vs_words</th>\n",
       "      <th>preprocessed_content</th>\n",
       "      <th>rating</th>\n",
       "      <th>source</th>\n",
       "    </tr>\n",
       "  </thead>\n",
       "  <tbody>\n",
       "    <tr>\n",
       "      <th>0</th>\n",
       "      <td>2021-12</td>\n",
       "      <td>GREGGS TOO GOOD TO GO BAG | vlogmas day 9 http...</td>\n",
       "      <td>133</td>\n",
       "      <td>16</td>\n",
       "      <td>1</td>\n",
       "      <td>29</td>\n",
       "      <td>6</td>\n",
       "      <td>0</td>\n",
       "      <td>0</td>\n",
       "      <td>16</td>\n",
       "      <td>...</td>\n",
       "      <td>0</td>\n",
       "      <td>{'!count': 0, '#count': 4, '$count': 0, '%coun...</td>\n",
       "      <td>0</td>\n",
       "      <td>8.312500</td>\n",
       "      <td>16.0</td>\n",
       "      <td>1.000000</td>\n",
       "      <td>0.000000</td>\n",
       "      <td>greggs,good,bag,vlogmas,day,t,co,t,co</td>\n",
       "      <td>1</td>\n",
       "      <td>Twitter</td>\n",
       "    </tr>\n",
       "    <tr>\n",
       "      <th>1</th>\n",
       "      <td>2021-12</td>\n",
       "      <td>Vegetable magic bag from the local organic sup...</td>\n",
       "      <td>171</td>\n",
       "      <td>21</td>\n",
       "      <td>3</td>\n",
       "      <td>14</td>\n",
       "      <td>0</td>\n",
       "      <td>0</td>\n",
       "      <td>3</td>\n",
       "      <td>21</td>\n",
       "      <td>...</td>\n",
       "      <td>0</td>\n",
       "      <td>{'!count': 0, '#count': 1, '$count': 0, '%coun...</td>\n",
       "      <td>1</td>\n",
       "      <td>8.142857</td>\n",
       "      <td>7.0</td>\n",
       "      <td>1.000000</td>\n",
       "      <td>0.142857</td>\n",
       "      <td>vegetable,magic,bag,local,organic,supermarket,...</td>\n",
       "      <td>5</td>\n",
       "      <td>Twitter</td>\n",
       "    </tr>\n",
       "    <tr>\n",
       "      <th>2</th>\n",
       "      <td>2021-12</td>\n",
       "      <td>The retired dumpster diver in me has mixed fee...</td>\n",
       "      <td>101</td>\n",
       "      <td>13</td>\n",
       "      <td>2</td>\n",
       "      <td>9</td>\n",
       "      <td>0</td>\n",
       "      <td>0</td>\n",
       "      <td>5</td>\n",
       "      <td>13</td>\n",
       "      <td>...</td>\n",
       "      <td>0</td>\n",
       "      <td>{'!count': 0, '#count': 1, '$count': 0, '%coun...</td>\n",
       "      <td>0</td>\n",
       "      <td>7.769231</td>\n",
       "      <td>6.5</td>\n",
       "      <td>1.000000</td>\n",
       "      <td>0.384615</td>\n",
       "      <td>retired,dumpster,diver,mixed,feeling,t,co</td>\n",
       "      <td>1</td>\n",
       "      <td>Twitter</td>\n",
       "    </tr>\n",
       "    <tr>\n",
       "      <th>3</th>\n",
       "      <td>2021-12</td>\n",
       "      <td>Just love this app #TooGoodToGo - save yummy f...</td>\n",
       "      <td>158</td>\n",
       "      <td>24</td>\n",
       "      <td>2</td>\n",
       "      <td>9</td>\n",
       "      <td>0</td>\n",
       "      <td>0</td>\n",
       "      <td>10</td>\n",
       "      <td>23</td>\n",
       "      <td>...</td>\n",
       "      <td>0</td>\n",
       "      <td>{'!count': 1, '#count': 1, '$count': 0, '%coun...</td>\n",
       "      <td>0</td>\n",
       "      <td>6.583333</td>\n",
       "      <td>12.0</td>\n",
       "      <td>0.958333</td>\n",
       "      <td>0.416667</td>\n",
       "      <td>love,app,save,yummy,food,chucked,help,pray,coo...</td>\n",
       "      <td>5</td>\n",
       "      <td>Twitter</td>\n",
       "    </tr>\n",
       "    <tr>\n",
       "      <th>4</th>\n",
       "      <td>2021-12</td>\n",
       "      <td>Unsure if your passed-the-best-before product ...</td>\n",
       "      <td>201</td>\n",
       "      <td>27</td>\n",
       "      <td>3</td>\n",
       "      <td>21</td>\n",
       "      <td>0</td>\n",
       "      <td>0</td>\n",
       "      <td>8</td>\n",
       "      <td>26</td>\n",
       "      <td>...</td>\n",
       "      <td>0</td>\n",
       "      <td>{'!count': 1, '#count': 6, '$count': 0, '%coun...</td>\n",
       "      <td>3</td>\n",
       "      <td>7.444444</td>\n",
       "      <td>9.0</td>\n",
       "      <td>0.962963</td>\n",
       "      <td>0.296296</td>\n",
       "      <td>unsure,passed,best,product,good,beat,quick,tes...</td>\n",
       "      <td>1</td>\n",
       "      <td>Twitter</td>\n",
       "    </tr>\n",
       "  </tbody>\n",
       "</table>\n",
       "<p>5 rows × 21 columns</p>\n",
       "</div>"
      ],
      "text/plain": [
       "      date                                     review_content  char_count  \\\n",
       "0  2021-12  GREGGS TOO GOOD TO GO BAG | vlogmas day 9 http...         133   \n",
       "1  2021-12  Vegetable magic bag from the local organic sup...         171   \n",
       "2  2021-12  The retired dumpster diver in me has mixed fee...         101   \n",
       "3  2021-12  Just love this app #TooGoodToGo - save yummy f...         158   \n",
       "4  2021-12  Unsure if your passed-the-best-before product ...         201   \n",
       "\n",
       "   word_count  sent_count  capital_char_count  capital_word_count  \\\n",
       "0          16           1                  29                   6   \n",
       "1          21           3                  14                   0   \n",
       "2          13           2                   9                   0   \n",
       "3          24           2                   9                   0   \n",
       "4          27           3                  21                   0   \n",
       "\n",
       "   quoted_word_count  stopword_count  unique_word_count  ...  mention_count  \\\n",
       "0                  0               0                 16  ...              0   \n",
       "1                  0               3                 21  ...              0   \n",
       "2                  0               5                 13  ...              0   \n",
       "3                  0              10                 23  ...              0   \n",
       "4                  0               8                 26  ...              0   \n",
       "\n",
       "                                         punct_count emoji_count  \\\n",
       "0  {'!count': 0, '#count': 4, '$count': 0, '%coun...           0   \n",
       "1  {'!count': 0, '#count': 1, '$count': 0, '%coun...           1   \n",
       "2  {'!count': 0, '#count': 1, '$count': 0, '%coun...           0   \n",
       "3  {'!count': 1, '#count': 1, '$count': 0, '%coun...           0   \n",
       "4  {'!count': 1, '#count': 6, '$count': 0, '%coun...           3   \n",
       "\n",
       "   avg_wordlength  avg_sentlength  unique_vs_words  stopwords_vs_words  \\\n",
       "0        8.312500            16.0         1.000000            0.000000   \n",
       "1        8.142857             7.0         1.000000            0.142857   \n",
       "2        7.769231             6.5         1.000000            0.384615   \n",
       "3        6.583333            12.0         0.958333            0.416667   \n",
       "4        7.444444             9.0         0.962963            0.296296   \n",
       "\n",
       "                                preprocessed_content rating   source  \n",
       "0              greggs,good,bag,vlogmas,day,t,co,t,co      1  Twitter  \n",
       "1  vegetable,magic,bag,local,organic,supermarket,...      5  Twitter  \n",
       "2          retired,dumpster,diver,mixed,feeling,t,co      1  Twitter  \n",
       "3  love,app,save,yummy,food,chucked,help,pray,coo...      5  Twitter  \n",
       "4  unsure,passed,best,product,good,beat,quick,tes...      1  Twitter  \n",
       "\n",
       "[5 rows x 21 columns]"
      ]
     },
     "execution_count": 289,
     "metadata": {},
     "output_type": "execute_result"
    }
   ],
   "source": [
    "# adding the source dimension with 'Twitter'\n",
    "tweet['source'] = 'Twitter'\n",
    "tweet.head(5)"
   ]
  },
  {
   "cell_type": "code",
   "execution_count": 293,
   "id": "1c1cac66",
   "metadata": {},
   "outputs": [
    {
     "data": {
      "text/html": [
       "<div>\n",
       "<style scoped>\n",
       "    .dataframe tbody tr th:only-of-type {\n",
       "        vertical-align: middle;\n",
       "    }\n",
       "\n",
       "    .dataframe tbody tr th {\n",
       "        vertical-align: top;\n",
       "    }\n",
       "\n",
       "    .dataframe thead th {\n",
       "        text-align: right;\n",
       "    }\n",
       "</style>\n",
       "<table border=\"1\" class=\"dataframe\">\n",
       "  <thead>\n",
       "    <tr style=\"text-align: right;\">\n",
       "      <th></th>\n",
       "      <th>preprocessed_content</th>\n",
       "      <th>rating</th>\n",
       "      <th>date</th>\n",
       "      <th>source</th>\n",
       "    </tr>\n",
       "  </thead>\n",
       "  <tbody>\n",
       "    <tr>\n",
       "      <th>0</th>\n",
       "      <td>greggs,good,bag,vlogmas,day,t,co,t,co</td>\n",
       "      <td>1</td>\n",
       "      <td>2021-12</td>\n",
       "      <td>Twitter</td>\n",
       "    </tr>\n",
       "    <tr>\n",
       "      <th>1</th>\n",
       "      <td>vegetable,magic,bag,local,organic,supermarket,...</td>\n",
       "      <td>5</td>\n",
       "      <td>2021-12</td>\n",
       "      <td>Twitter</td>\n",
       "    </tr>\n",
       "    <tr>\n",
       "      <th>2</th>\n",
       "      <td>retired,dumpster,diver,mixed,feeling,t,co</td>\n",
       "      <td>1</td>\n",
       "      <td>2021-12</td>\n",
       "      <td>Twitter</td>\n",
       "    </tr>\n",
       "    <tr>\n",
       "      <th>3</th>\n",
       "      <td>love,app,save,yummy,food,chucked,help,pray,coo...</td>\n",
       "      <td>5</td>\n",
       "      <td>2021-12</td>\n",
       "      <td>Twitter</td>\n",
       "    </tr>\n",
       "    <tr>\n",
       "      <th>4</th>\n",
       "      <td>unsure,passed,best,product,good,beat,quick,tes...</td>\n",
       "      <td>1</td>\n",
       "      <td>2021-12</td>\n",
       "      <td>Twitter</td>\n",
       "    </tr>\n",
       "    <tr>\n",
       "      <th>...</th>\n",
       "      <td>...</td>\n",
       "      <td>...</td>\n",
       "      <td>...</td>\n",
       "      <td>...</td>\n",
       "    </tr>\n",
       "    <tr>\n",
       "      <th>1244</th>\n",
       "      <td>getting,app</td>\n",
       "      <td>1</td>\n",
       "      <td>2021-01</td>\n",
       "      <td>Twitter</td>\n",
       "    </tr>\n",
       "    <tr>\n",
       "      <th>1245</th>\n",
       "      <td>team,thank,giggle,face,tear,joy,t,co</td>\n",
       "      <td>5</td>\n",
       "      <td>2021-01</td>\n",
       "      <td>Twitter</td>\n",
       "    </tr>\n",
       "    <tr>\n",
       "      <th>1246</th>\n",
       "      <td>consider,good,haul,bit,current,diet,kid,end,bu...</td>\n",
       "      <td>4</td>\n",
       "      <td>2021-01</td>\n",
       "      <td>Twitter</td>\n",
       "    </tr>\n",
       "    <tr>\n",
       "      <th>1247</th>\n",
       "      <td>exciting,starting,year,mean,app,prevent,food,w...</td>\n",
       "      <td>1</td>\n",
       "      <td>2021-01</td>\n",
       "      <td>Twitter</td>\n",
       "    </tr>\n",
       "    <tr>\n",
       "      <th>1248</th>\n",
       "      <td>verry,good,winking,face,t,co</td>\n",
       "      <td>5</td>\n",
       "      <td>2021-01</td>\n",
       "      <td>Twitter</td>\n",
       "    </tr>\n",
       "  </tbody>\n",
       "</table>\n",
       "<p>1249 rows × 4 columns</p>\n",
       "</div>"
      ],
      "text/plain": [
       "                                   preprocessed_content  rating     date  \\\n",
       "0                 greggs,good,bag,vlogmas,day,t,co,t,co       1  2021-12   \n",
       "1     vegetable,magic,bag,local,organic,supermarket,...       5  2021-12   \n",
       "2             retired,dumpster,diver,mixed,feeling,t,co       1  2021-12   \n",
       "3     love,app,save,yummy,food,chucked,help,pray,coo...       5  2021-12   \n",
       "4     unsure,passed,best,product,good,beat,quick,tes...       1  2021-12   \n",
       "...                                                 ...     ...      ...   \n",
       "1244                                        getting,app       1  2021-01   \n",
       "1245               team,thank,giggle,face,tear,joy,t,co       5  2021-01   \n",
       "1246  consider,good,haul,bit,current,diet,kid,end,bu...       4  2021-01   \n",
       "1247  exciting,starting,year,mean,app,prevent,food,w...       1  2021-01   \n",
       "1248                       verry,good,winking,face,t,co       5  2021-01   \n",
       "\n",
       "       source  \n",
       "0     Twitter  \n",
       "1     Twitter  \n",
       "2     Twitter  \n",
       "3     Twitter  \n",
       "4     Twitter  \n",
       "...       ...  \n",
       "1244  Twitter  \n",
       "1245  Twitter  \n",
       "1246  Twitter  \n",
       "1247  Twitter  \n",
       "1248  Twitter  \n",
       "\n",
       "[1249 rows x 4 columns]"
      ]
     },
     "execution_count": 293,
     "metadata": {},
     "output_type": "execute_result"
    }
   ],
   "source": [
    "# reordering the dimensions so that concatenation can happen properly\n",
    "tweet = tweet[['preprocessed_content','rating','date','source']]\n",
    "tweet"
   ]
  },
  {
   "cell_type": "markdown",
   "id": "5f2d88ae",
   "metadata": {},
   "source": [
    "#### Formatting datasets with Google/Apple/Trustpilot reviews"
   ]
  },
  {
   "cell_type": "code",
   "execution_count": 294,
   "id": "cdee5502",
   "metadata": {},
   "outputs": [
    {
     "data": {
      "text/html": [
       "<div>\n",
       "<style scoped>\n",
       "    .dataframe tbody tr th:only-of-type {\n",
       "        vertical-align: middle;\n",
       "    }\n",
       "\n",
       "    .dataframe tbody tr th {\n",
       "        vertical-align: top;\n",
       "    }\n",
       "\n",
       "    .dataframe thead th {\n",
       "        text-align: right;\n",
       "    }\n",
       "</style>\n",
       "<table border=\"1\" class=\"dataframe\">\n",
       "  <thead>\n",
       "    <tr style=\"text-align: right;\">\n",
       "      <th></th>\n",
       "      <th>review_content</th>\n",
       "      <th>rating</th>\n",
       "      <th>date</th>\n",
       "      <th>source</th>\n",
       "      <th>preprocessed_review</th>\n",
       "    </tr>\n",
       "  </thead>\n",
       "  <tbody>\n",
       "    <tr>\n",
       "      <th>0</th>\n",
       "      <td>It does exactly what it says it does efficient...</td>\n",
       "      <td>5</td>\n",
       "      <td>2021-12</td>\n",
       "      <td>Google</td>\n",
       "      <td>[exactli, say, effici, save, food, fill, belli...</td>\n",
       "    </tr>\n",
       "    <tr>\n",
       "      <th>1</th>\n",
       "      <td>Well, I've only done 2 different vendors. The ...</td>\n",
       "      <td>4</td>\n",
       "      <td>2021-12</td>\n",
       "      <td>Google</td>\n",
       "      <td>[well, done, differ, vendor, first, donut, sho...</td>\n",
       "    </tr>\n",
       "    <tr>\n",
       "      <th>2</th>\n",
       "      <td>Still in my first week. And I'm looking forwar...</td>\n",
       "      <td>5</td>\n",
       "      <td>2021-12</td>\n",
       "      <td>Google</td>\n",
       "      <td>[still, first, week, look, forward, great, dea...</td>\n",
       "    </tr>\n",
       "    <tr>\n",
       "      <th>3</th>\n",
       "      <td>loving the app.</td>\n",
       "      <td>5</td>\n",
       "      <td>2021-12</td>\n",
       "      <td>Google</td>\n",
       "      <td>[love, app]</td>\n",
       "    </tr>\n",
       "    <tr>\n",
       "      <th>4</th>\n",
       "      <td>AT FIRST: 1) Lovely experience. charming staff...</td>\n",
       "      <td>2</td>\n",
       "      <td>2021-12</td>\n",
       "      <td>Google</td>\n",
       "      <td>[first, love, experi, charm, staff, moder, hi,...</td>\n",
       "    </tr>\n",
       "  </tbody>\n",
       "</table>\n",
       "</div>"
      ],
      "text/plain": [
       "                                      review_content  rating     date  source  \\\n",
       "0  It does exactly what it says it does efficient...       5  2021-12  Google   \n",
       "1  Well, I've only done 2 different vendors. The ...       4  2021-12  Google   \n",
       "2  Still in my first week. And I'm looking forwar...       5  2021-12  Google   \n",
       "3                                    loving the app.       5  2021-12  Google   \n",
       "4  AT FIRST: 1) Lovely experience. charming staff...       2  2021-12  Google   \n",
       "\n",
       "                                 preprocessed_review  \n",
       "0  [exactli, say, effici, save, food, fill, belli...  \n",
       "1  [well, done, differ, vendor, first, donut, sho...  \n",
       "2  [still, first, week, look, forward, great, dea...  \n",
       "3                                        [love, app]  \n",
       "4  [first, love, experi, charm, staff, moder, hi,...  "
      ]
     },
     "execution_count": 294,
     "metadata": {},
     "output_type": "execute_result"
    }
   ],
   "source": [
    "df.head(5)"
   ]
  },
  {
   "cell_type": "code",
   "execution_count": 297,
   "id": "92d559cf",
   "metadata": {},
   "outputs": [
    {
     "data": {
      "text/html": [
       "<div>\n",
       "<style scoped>\n",
       "    .dataframe tbody tr th:only-of-type {\n",
       "        vertical-align: middle;\n",
       "    }\n",
       "\n",
       "    .dataframe tbody tr th {\n",
       "        vertical-align: top;\n",
       "    }\n",
       "\n",
       "    .dataframe thead th {\n",
       "        text-align: right;\n",
       "    }\n",
       "</style>\n",
       "<table border=\"1\" class=\"dataframe\">\n",
       "  <thead>\n",
       "    <tr style=\"text-align: right;\">\n",
       "      <th></th>\n",
       "      <th>review_content</th>\n",
       "      <th>rating</th>\n",
       "      <th>date</th>\n",
       "      <th>source</th>\n",
       "      <th>preprocessed_review</th>\n",
       "      <th>preprocessed_content</th>\n",
       "    </tr>\n",
       "  </thead>\n",
       "  <tbody>\n",
       "    <tr>\n",
       "      <th>0</th>\n",
       "      <td>It does exactly what it says it does efficient...</td>\n",
       "      <td>5</td>\n",
       "      <td>2021-12</td>\n",
       "      <td>Google</td>\n",
       "      <td>[exactli, say, effici, save, food, fill, belli...</td>\n",
       "      <td>[exactly, say, efficiently, saving, food, fill...</td>\n",
       "    </tr>\n",
       "    <tr>\n",
       "      <th>1</th>\n",
       "      <td>Well, I've only done 2 different vendors. The ...</td>\n",
       "      <td>4</td>\n",
       "      <td>2021-12</td>\n",
       "      <td>Google</td>\n",
       "      <td>[well, done, differ, vendor, first, donut, sho...</td>\n",
       "      <td>[ive, different, vendor, donut, shop, bought, ...</td>\n",
       "    </tr>\n",
       "    <tr>\n",
       "      <th>2</th>\n",
       "      <td>Still in my first week. And I'm looking forwar...</td>\n",
       "      <td>5</td>\n",
       "      <td>2021-12</td>\n",
       "      <td>Google</td>\n",
       "      <td>[still, first, week, look, forward, great, dea...</td>\n",
       "      <td>[week, im, looking, forward, great, deal, ahead]</td>\n",
       "    </tr>\n",
       "    <tr>\n",
       "      <th>3</th>\n",
       "      <td>loving the app.</td>\n",
       "      <td>5</td>\n",
       "      <td>2021-12</td>\n",
       "      <td>Google</td>\n",
       "      <td>[love, app]</td>\n",
       "      <td>[loving, app]</td>\n",
       "    </tr>\n",
       "    <tr>\n",
       "      <th>4</th>\n",
       "      <td>AT FIRST: 1) Lovely experience. charming staff...</td>\n",
       "      <td>2</td>\n",
       "      <td>2021-12</td>\n",
       "      <td>Google</td>\n",
       "      <td>[first, love, experi, charm, staff, moder, hi,...</td>\n",
       "      <td>[lovely, experience, charming, staff, moderate...</td>\n",
       "    </tr>\n",
       "  </tbody>\n",
       "</table>\n",
       "</div>"
      ],
      "text/plain": [
       "                                      review_content  rating     date  source  \\\n",
       "0  It does exactly what it says it does efficient...       5  2021-12  Google   \n",
       "1  Well, I've only done 2 different vendors. The ...       4  2021-12  Google   \n",
       "2  Still in my first week. And I'm looking forwar...       5  2021-12  Google   \n",
       "3                                    loving the app.       5  2021-12  Google   \n",
       "4  AT FIRST: 1) Lovely experience. charming staff...       2  2021-12  Google   \n",
       "\n",
       "                                 preprocessed_review  \\\n",
       "0  [exactli, say, effici, save, food, fill, belli...   \n",
       "1  [well, done, differ, vendor, first, donut, sho...   \n",
       "2  [still, first, week, look, forward, great, dea...   \n",
       "3                                        [love, app]   \n",
       "4  [first, love, experi, charm, staff, moder, hi,...   \n",
       "\n",
       "                                preprocessed_content  \n",
       "0  [exactly, say, efficiently, saving, food, fill...  \n",
       "1  [ive, different, vendor, donut, shop, bought, ...  \n",
       "2   [week, im, looking, forward, great, deal, ahead]  \n",
       "3                                      [loving, app]  \n",
       "4  [lovely, experience, charming, staff, moderate...  "
      ]
     },
     "execution_count": 297,
     "metadata": {},
     "output_type": "execute_result"
    }
   ],
   "source": [
    "# applying preprocessing applied for the classification - step 1\n",
    "df['preprocessed_content'] = df['review_content'].apply(lambda x:preprocessing(x))\n",
    "df.head(5)"
   ]
  },
  {
   "cell_type": "code",
   "execution_count": 298,
   "id": "87622b26",
   "metadata": {},
   "outputs": [
    {
     "data": {
      "text/html": [
       "<div>\n",
       "<style scoped>\n",
       "    .dataframe tbody tr th:only-of-type {\n",
       "        vertical-align: middle;\n",
       "    }\n",
       "\n",
       "    .dataframe tbody tr th {\n",
       "        vertical-align: top;\n",
       "    }\n",
       "\n",
       "    .dataframe thead th {\n",
       "        text-align: right;\n",
       "    }\n",
       "</style>\n",
       "<table border=\"1\" class=\"dataframe\">\n",
       "  <thead>\n",
       "    <tr style=\"text-align: right;\">\n",
       "      <th></th>\n",
       "      <th>review_content</th>\n",
       "      <th>rating</th>\n",
       "      <th>date</th>\n",
       "      <th>source</th>\n",
       "      <th>preprocessed_review</th>\n",
       "      <th>preprocessed_content</th>\n",
       "    </tr>\n",
       "  </thead>\n",
       "  <tbody>\n",
       "    <tr>\n",
       "      <th>0</th>\n",
       "      <td>It does exactly what it says it does efficient...</td>\n",
       "      <td>5</td>\n",
       "      <td>2021-12</td>\n",
       "      <td>Google</td>\n",
       "      <td>[exactli, say, effici, save, food, fill, belli...</td>\n",
       "      <td>exactly,say,efficiently,saving,food,filling,be...</td>\n",
       "    </tr>\n",
       "    <tr>\n",
       "      <th>1</th>\n",
       "      <td>Well, I've only done 2 different vendors. The ...</td>\n",
       "      <td>4</td>\n",
       "      <td>2021-12</td>\n",
       "      <td>Google</td>\n",
       "      <td>[well, done, differ, vendor, first, donut, sho...</td>\n",
       "      <td>ive,different,vendor,donut,shop,bought,bag,hor...</td>\n",
       "    </tr>\n",
       "    <tr>\n",
       "      <th>2</th>\n",
       "      <td>Still in my first week. And I'm looking forwar...</td>\n",
       "      <td>5</td>\n",
       "      <td>2021-12</td>\n",
       "      <td>Google</td>\n",
       "      <td>[still, first, week, look, forward, great, dea...</td>\n",
       "      <td>week,im,looking,forward,great,deal,ahead</td>\n",
       "    </tr>\n",
       "    <tr>\n",
       "      <th>3</th>\n",
       "      <td>loving the app.</td>\n",
       "      <td>5</td>\n",
       "      <td>2021-12</td>\n",
       "      <td>Google</td>\n",
       "      <td>[love, app]</td>\n",
       "      <td>loving,app</td>\n",
       "    </tr>\n",
       "    <tr>\n",
       "      <th>4</th>\n",
       "      <td>AT FIRST: 1) Lovely experience. charming staff...</td>\n",
       "      <td>2</td>\n",
       "      <td>2021-12</td>\n",
       "      <td>Google</td>\n",
       "      <td>[first, love, experi, charm, staff, moder, hi,...</td>\n",
       "      <td>lovely,experience,charming,staff,moderately,hi...</td>\n",
       "    </tr>\n",
       "  </tbody>\n",
       "</table>\n",
       "</div>"
      ],
      "text/plain": [
       "                                      review_content  rating     date  source  \\\n",
       "0  It does exactly what it says it does efficient...       5  2021-12  Google   \n",
       "1  Well, I've only done 2 different vendors. The ...       4  2021-12  Google   \n",
       "2  Still in my first week. And I'm looking forwar...       5  2021-12  Google   \n",
       "3                                    loving the app.       5  2021-12  Google   \n",
       "4  AT FIRST: 1) Lovely experience. charming staff...       2  2021-12  Google   \n",
       "\n",
       "                                 preprocessed_review  \\\n",
       "0  [exactli, say, effici, save, food, fill, belli...   \n",
       "1  [well, done, differ, vendor, first, donut, sho...   \n",
       "2  [still, first, week, look, forward, great, dea...   \n",
       "3                                        [love, app]   \n",
       "4  [first, love, experi, charm, staff, moder, hi,...   \n",
       "\n",
       "                                preprocessed_content  \n",
       "0  exactly,say,efficiently,saving,food,filling,be...  \n",
       "1  ive,different,vendor,donut,shop,bought,bag,hor...  \n",
       "2           week,im,looking,forward,great,deal,ahead  \n",
       "3                                         loving,app  \n",
       "4  lovely,experience,charming,staff,moderately,hi...  "
      ]
     },
     "execution_count": 298,
     "metadata": {},
     "output_type": "execute_result"
    }
   ],
   "source": [
    "# applying preprocessing applied for the classification - step 2\n",
    "df['preprocessed_content'] = [','.join(map(str, l)) for l in df['preprocessed_content']]\n",
    "df.head(5)"
   ]
  },
  {
   "cell_type": "code",
   "execution_count": 299,
   "id": "ca011df7",
   "metadata": {},
   "outputs": [
    {
     "data": {
      "text/html": [
       "<div>\n",
       "<style scoped>\n",
       "    .dataframe tbody tr th:only-of-type {\n",
       "        vertical-align: middle;\n",
       "    }\n",
       "\n",
       "    .dataframe tbody tr th {\n",
       "        vertical-align: top;\n",
       "    }\n",
       "\n",
       "    .dataframe thead th {\n",
       "        text-align: right;\n",
       "    }\n",
       "</style>\n",
       "<table border=\"1\" class=\"dataframe\">\n",
       "  <thead>\n",
       "    <tr style=\"text-align: right;\">\n",
       "      <th></th>\n",
       "      <th>preprocessed_content</th>\n",
       "      <th>rating</th>\n",
       "      <th>date</th>\n",
       "      <th>source</th>\n",
       "    </tr>\n",
       "  </thead>\n",
       "  <tbody>\n",
       "    <tr>\n",
       "      <th>0</th>\n",
       "      <td>exactly,say,efficiently,saving,food,filling,be...</td>\n",
       "      <td>5</td>\n",
       "      <td>2021-12</td>\n",
       "      <td>Google</td>\n",
       "    </tr>\n",
       "    <tr>\n",
       "      <th>1</th>\n",
       "      <td>ive,different,vendor,donut,shop,bought,bag,hor...</td>\n",
       "      <td>4</td>\n",
       "      <td>2021-12</td>\n",
       "      <td>Google</td>\n",
       "    </tr>\n",
       "    <tr>\n",
       "      <th>2</th>\n",
       "      <td>week,im,looking,forward,great,deal,ahead</td>\n",
       "      <td>5</td>\n",
       "      <td>2021-12</td>\n",
       "      <td>Google</td>\n",
       "    </tr>\n",
       "    <tr>\n",
       "      <th>3</th>\n",
       "      <td>loving,app</td>\n",
       "      <td>5</td>\n",
       "      <td>2021-12</td>\n",
       "      <td>Google</td>\n",
       "    </tr>\n",
       "    <tr>\n",
       "      <th>4</th>\n",
       "      <td>lovely,experience,charming,staff,moderately,hi...</td>\n",
       "      <td>2</td>\n",
       "      <td>2021-12</td>\n",
       "      <td>Google</td>\n",
       "    </tr>\n",
       "  </tbody>\n",
       "</table>\n",
       "</div>"
      ],
      "text/plain": [
       "                                preprocessed_content  rating     date  source\n",
       "0  exactly,say,efficiently,saving,food,filling,be...       5  2021-12  Google\n",
       "1  ive,different,vendor,donut,shop,bought,bag,hor...       4  2021-12  Google\n",
       "2           week,im,looking,forward,great,deal,ahead       5  2021-12  Google\n",
       "3                                         loving,app       5  2021-12  Google\n",
       "4  lovely,experience,charming,staff,moderately,hi...       2  2021-12  Google"
      ]
     },
     "execution_count": 299,
     "metadata": {},
     "output_type": "execute_result"
    }
   ],
   "source": [
    "# Keeping only the necessary columns\n",
    "df = df[['preprocessed_content','rating','date','source']]\n",
    "df.head(5)"
   ]
  },
  {
   "cell_type": "markdown",
   "id": "3c15eaa9",
   "metadata": {},
   "source": [
    "#### Concatenation all datasets into one \"df_topic\" for topic modeling"
   ]
  },
  {
   "cell_type": "code",
   "execution_count": 300,
   "id": "d3bd5756",
   "metadata": {},
   "outputs": [],
   "source": [
    "df_topic = pd.concat([df,tweet], axis=0)"
   ]
  },
  {
   "cell_type": "code",
   "execution_count": 301,
   "id": "7ebe67f4",
   "metadata": {},
   "outputs": [
    {
     "data": {
      "text/plain": [
       "<bound method DataFrame.info of                                    preprocessed_content  rating     date  \\\n",
       "0     exactly,say,efficiently,saving,food,filling,be...       5  2021-12   \n",
       "1     ive,different,vendor,donut,shop,bought,bag,hor...       4  2021-12   \n",
       "2              week,im,looking,forward,great,deal,ahead       5  2021-12   \n",
       "3                                            loving,app       5  2021-12   \n",
       "4     lovely,experience,charming,staff,moderately,hi...       2  2021-12   \n",
       "...                                                 ...     ...      ...   \n",
       "1244                                        getting,app       1  2021-01   \n",
       "1245               team,thank,giggle,face,tear,joy,t,co       5  2021-01   \n",
       "1246  consider,good,haul,bit,current,diet,kid,end,bu...       4  2021-01   \n",
       "1247  exciting,starting,year,mean,app,prevent,food,w...       1  2021-01   \n",
       "1248                       verry,good,winking,face,t,co       5  2021-01   \n",
       "\n",
       "       source  \n",
       "0      Google  \n",
       "1      Google  \n",
       "2      Google  \n",
       "3      Google  \n",
       "4      Google  \n",
       "...       ...  \n",
       "1244  Twitter  \n",
       "1245  Twitter  \n",
       "1246  Twitter  \n",
       "1247  Twitter  \n",
       "1248  Twitter  \n",
       "\n",
       "[24217 rows x 4 columns]>"
      ]
     },
     "execution_count": 301,
     "metadata": {},
     "output_type": "execute_result"
    }
   ],
   "source": [
    "df_topic.info"
   ]
  },
  {
   "cell_type": "code",
   "execution_count": 305,
   "id": "24af1b78",
   "metadata": {},
   "outputs": [
    {
     "data": {
      "text/html": [
       "<div>\n",
       "<style scoped>\n",
       "    .dataframe tbody tr th:only-of-type {\n",
       "        vertical-align: middle;\n",
       "    }\n",
       "\n",
       "    .dataframe tbody tr th {\n",
       "        vertical-align: top;\n",
       "    }\n",
       "\n",
       "    .dataframe thead th {\n",
       "        text-align: right;\n",
       "    }\n",
       "</style>\n",
       "<table border=\"1\" class=\"dataframe\">\n",
       "  <thead>\n",
       "    <tr style=\"text-align: right;\">\n",
       "      <th></th>\n",
       "      <th>preprocessed_content</th>\n",
       "      <th>rating</th>\n",
       "      <th>date</th>\n",
       "      <th>source</th>\n",
       "    </tr>\n",
       "  </thead>\n",
       "  <tbody>\n",
       "    <tr>\n",
       "      <th>0</th>\n",
       "      <td>exactly,say,efficiently,saving,food,filling,be...</td>\n",
       "      <td>5</td>\n",
       "      <td>2021-12</td>\n",
       "      <td>Google</td>\n",
       "    </tr>\n",
       "    <tr>\n",
       "      <th>1</th>\n",
       "      <td>ive,different,vendor,donut,shop,bought,bag,hor...</td>\n",
       "      <td>4</td>\n",
       "      <td>2021-12</td>\n",
       "      <td>Google</td>\n",
       "    </tr>\n",
       "    <tr>\n",
       "      <th>2</th>\n",
       "      <td>week,im,looking,forward,great,deal,ahead</td>\n",
       "      <td>5</td>\n",
       "      <td>2021-12</td>\n",
       "      <td>Google</td>\n",
       "    </tr>\n",
       "    <tr>\n",
       "      <th>3</th>\n",
       "      <td>loving,app</td>\n",
       "      <td>5</td>\n",
       "      <td>2021-12</td>\n",
       "      <td>Google</td>\n",
       "    </tr>\n",
       "    <tr>\n",
       "      <th>4</th>\n",
       "      <td>lovely,experience,charming,staff,moderately,hi...</td>\n",
       "      <td>2</td>\n",
       "      <td>2021-12</td>\n",
       "      <td>Google</td>\n",
       "    </tr>\n",
       "    <tr>\n",
       "      <th>...</th>\n",
       "      <td>...</td>\n",
       "      <td>...</td>\n",
       "      <td>...</td>\n",
       "      <td>...</td>\n",
       "    </tr>\n",
       "    <tr>\n",
       "      <th>24212</th>\n",
       "      <td>getting,app</td>\n",
       "      <td>1</td>\n",
       "      <td>2021-01</td>\n",
       "      <td>Twitter</td>\n",
       "    </tr>\n",
       "    <tr>\n",
       "      <th>24213</th>\n",
       "      <td>team,thank,giggle,face,tear,joy,t,co</td>\n",
       "      <td>5</td>\n",
       "      <td>2021-01</td>\n",
       "      <td>Twitter</td>\n",
       "    </tr>\n",
       "    <tr>\n",
       "      <th>24214</th>\n",
       "      <td>consider,good,haul,bit,current,diet,kid,end,bu...</td>\n",
       "      <td>4</td>\n",
       "      <td>2021-01</td>\n",
       "      <td>Twitter</td>\n",
       "    </tr>\n",
       "    <tr>\n",
       "      <th>24215</th>\n",
       "      <td>exciting,starting,year,mean,app,prevent,food,w...</td>\n",
       "      <td>1</td>\n",
       "      <td>2021-01</td>\n",
       "      <td>Twitter</td>\n",
       "    </tr>\n",
       "    <tr>\n",
       "      <th>24216</th>\n",
       "      <td>verry,good,winking,face,t,co</td>\n",
       "      <td>5</td>\n",
       "      <td>2021-01</td>\n",
       "      <td>Twitter</td>\n",
       "    </tr>\n",
       "  </tbody>\n",
       "</table>\n",
       "<p>24217 rows × 4 columns</p>\n",
       "</div>"
      ],
      "text/plain": [
       "                                    preprocessed_content  rating     date  \\\n",
       "0      exactly,say,efficiently,saving,food,filling,be...       5  2021-12   \n",
       "1      ive,different,vendor,donut,shop,bought,bag,hor...       4  2021-12   \n",
       "2               week,im,looking,forward,great,deal,ahead       5  2021-12   \n",
       "3                                             loving,app       5  2021-12   \n",
       "4      lovely,experience,charming,staff,moderately,hi...       2  2021-12   \n",
       "...                                                  ...     ...      ...   \n",
       "24212                                        getting,app       1  2021-01   \n",
       "24213               team,thank,giggle,face,tear,joy,t,co       5  2021-01   \n",
       "24214  consider,good,haul,bit,current,diet,kid,end,bu...       4  2021-01   \n",
       "24215  exciting,starting,year,mean,app,prevent,food,w...       1  2021-01   \n",
       "24216                       verry,good,winking,face,t,co       5  2021-01   \n",
       "\n",
       "        source  \n",
       "0       Google  \n",
       "1       Google  \n",
       "2       Google  \n",
       "3       Google  \n",
       "4       Google  \n",
       "...        ...  \n",
       "24212  Twitter  \n",
       "24213  Twitter  \n",
       "24214  Twitter  \n",
       "24215  Twitter  \n",
       "24216  Twitter  \n",
       "\n",
       "[24217 rows x 4 columns]"
      ]
     },
     "execution_count": 305,
     "metadata": {},
     "output_type": "execute_result"
    }
   ],
   "source": [
    "# reseting index\n",
    "df_topic = df_topic.reset_index(drop=True)\n",
    "df_topic"
   ]
  },
  {
   "cell_type": "code",
   "execution_count": 307,
   "id": "2ebafc1a",
   "metadata": {},
   "outputs": [],
   "source": [
    "# Storing data in pickle format for Topic modeling\n",
    "df_topic.to_pickle('reviews_tgtg_topic.pkl')"
   ]
  }
 ],
 "metadata": {
  "kernelspec": {
   "display_name": "Python 3 (ipykernel)",
   "language": "python",
   "name": "python3"
  },
  "language_info": {
   "codemirror_mode": {
    "name": "ipython",
    "version": 3
   },
   "file_extension": ".py",
   "mimetype": "text/x-python",
   "name": "python",
   "nbconvert_exporter": "python",
   "pygments_lexer": "ipython3",
   "version": "3.9.7"
  }
 },
 "nbformat": 4,
 "nbformat_minor": 5
}
