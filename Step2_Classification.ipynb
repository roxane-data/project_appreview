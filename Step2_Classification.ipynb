{
 "cells": [
  {
   "cell_type": "code",
   "execution_count": 3,
   "id": "ad0cb428",
   "metadata": {},
   "outputs": [
    {
     "name": "stdout",
     "output_type": "stream",
     "text": [
      "Collecting imblearn\n",
      "  Downloading imblearn-0.0-py2.py3-none-any.whl (1.9 kB)\n",
      "Collecting imbalanced-learn\n",
      "  Downloading imbalanced_learn-0.8.1-py3-none-any.whl (189 kB)\n",
      "     |████████████████████████████████| 189 kB 1.4 MB/s            \n",
      "\u001b[?25hRequirement already satisfied: scipy>=0.19.1 in /home/vb/.pyenv/versions/3.9.7/envs/artefact/lib/python3.9/site-packages (from imbalanced-learn->imblearn) (1.7.1)\n",
      "Requirement already satisfied: scikit-learn>=0.24 in /home/vb/.pyenv/versions/3.9.7/envs/artefact/lib/python3.9/site-packages (from imbalanced-learn->imblearn) (1.0)\n",
      "Requirement already satisfied: numpy>=1.13.3 in /home/vb/.pyenv/versions/3.9.7/envs/artefact/lib/python3.9/site-packages (from imbalanced-learn->imblearn) (1.20.3)\n",
      "Requirement already satisfied: joblib>=0.11 in /home/vb/.pyenv/versions/3.9.7/envs/artefact/lib/python3.9/site-packages (from imbalanced-learn->imblearn) (1.1.0)\n",
      "Requirement already satisfied: threadpoolctl>=2.0.0 in /home/vb/.pyenv/versions/3.9.7/envs/artefact/lib/python3.9/site-packages (from scikit-learn>=0.24->imbalanced-learn->imblearn) (3.0.0)\n",
      "Installing collected packages: imbalanced-learn, imblearn\n",
      "Successfully installed imbalanced-learn-0.8.1 imblearn-0.0\n",
      "\u001b[33mWARNING: You are using pip version 21.3; however, version 21.3.1 is available.\n",
      "You should consider upgrading via the '/home/vb/.pyenv/versions/3.9.7/envs/artefact/bin/python3.9 -m pip install --upgrade pip' command.\u001b[0m\n"
     ]
    }
   ],
   "source": [
    "!pip install imblearn"
   ]
  },
  {
   "cell_type": "code",
   "execution_count": 1,
   "id": "1a0780dd",
   "metadata": {},
   "outputs": [
    {
     "name": "stderr",
     "output_type": "stream",
     "text": [
      "[nltk_data] Downloading package punkt to /home/vb/nltk_data...\n",
      "[nltk_data]   Package punkt is already up-to-date!\n",
      "[nltk_data] Downloading package wordnet to /home/vb/nltk_data...\n",
      "[nltk_data]   Package wordnet is already up-to-date!\n"
     ]
    }
   ],
   "source": [
    "# Import relevant libraries and packages\n",
    "import pickle\n",
    "import pandas as pd\n",
    "import numpy as np\n",
    "import seaborn as sns\n",
    "\n",
    "import datetime\n",
    "\n",
    "from sklearn.feature_extraction.text import TfidfVectorizer\n",
    "import matplotlib.pyplot as plt\n",
    "from sklearn.feature_selection import chi2\n",
    "from sklearn.model_selection import train_test_split\n",
    "from sklearn.feature_extraction.text import CountVectorizer\n",
    "from sklearn.feature_extraction.text import TfidfTransformer\n",
    "from sklearn.naive_bayes import MultinomialNB\n",
    "from sklearn.linear_model import LogisticRegression\n",
    "from sklearn.ensemble import RandomForestClassifier\n",
    "from sklearn.svm import LinearSVC\n",
    "from sklearn.neighbors import KNeighborsClassifier\n",
    "from sklearn.model_selection import cross_val_score\n",
    "from sklearn.metrics import classification_report\n",
    "from sklearn.metrics import confusion_matrix\n",
    "\n",
    "from collections import Counter\n",
    "from imblearn.over_sampling import RandomOverSampler\n",
    "from imblearn.under_sampling import RandomUnderSampler\n",
    "\n",
    "import re\n",
    "import emoji #install pip install emoji --upgrade\n",
    "\n",
    "import spacy #python -m spacy download en_core_web_md\n",
    "import nltk\n",
    "from nltk.tokenize import word_tokenize\n",
    "nltk.download('punkt')\n",
    "from nltk.stem import WordNetLemmatizer\n",
    "nltk.download('wordnet')\n",
    "\n",
    "import enchant\n",
    "from enchant.checker import SpellChecker"
   ]
  },
  {
   "cell_type": "markdown",
   "id": "23d20cc0",
   "metadata": {},
   "source": [
    "# Phase 0 => Data setup"
   ]
  },
  {
   "cell_type": "markdown",
   "id": "cb5d5f51",
   "metadata": {},
   "source": [
    "Creation of new dataset to run classification model with only 2 dimensions : 'review content' and 'rating'."
   ]
  },
  {
   "cell_type": "code",
   "execution_count": 3,
   "id": "dc320a41-6b40-4f1e-af84-3ae6f8e815fa",
   "metadata": {},
   "outputs": [
    {
     "data": {
      "text/html": [
       "<div>\n",
       "<style scoped>\n",
       "    .dataframe tbody tr th:only-of-type {\n",
       "        vertical-align: middle;\n",
       "    }\n",
       "\n",
       "    .dataframe tbody tr th {\n",
       "        vertical-align: top;\n",
       "    }\n",
       "\n",
       "    .dataframe thead th {\n",
       "        text-align: right;\n",
       "    }\n",
       "</style>\n",
       "<table border=\"1\" class=\"dataframe\">\n",
       "  <thead>\n",
       "    <tr style=\"text-align: right;\">\n",
       "      <th></th>\n",
       "      <th>review_content</th>\n",
       "      <th>rating</th>\n",
       "      <th>date</th>\n",
       "      <th>source</th>\n",
       "    </tr>\n",
       "  </thead>\n",
       "  <tbody>\n",
       "    <tr>\n",
       "      <th>0</th>\n",
       "      <td>It does exactly what it says it does efficient...</td>\n",
       "      <td>5</td>\n",
       "      <td>2021-12-01</td>\n",
       "      <td>Google</td>\n",
       "    </tr>\n",
       "    <tr>\n",
       "      <th>1</th>\n",
       "      <td>Well, I've only done 2 different vendors. The ...</td>\n",
       "      <td>4</td>\n",
       "      <td>2021-12-01</td>\n",
       "      <td>Google</td>\n",
       "    </tr>\n",
       "    <tr>\n",
       "      <th>2</th>\n",
       "      <td>Still in my first week. And I'm looking forwar...</td>\n",
       "      <td>5</td>\n",
       "      <td>2021-12-01</td>\n",
       "      <td>Google</td>\n",
       "    </tr>\n",
       "    <tr>\n",
       "      <th>3</th>\n",
       "      <td>loving the app.</td>\n",
       "      <td>5</td>\n",
       "      <td>2021-12-01</td>\n",
       "      <td>Google</td>\n",
       "    </tr>\n",
       "    <tr>\n",
       "      <th>4</th>\n",
       "      <td>AT FIRST: 1) Lovely experience. charming staff...</td>\n",
       "      <td>2</td>\n",
       "      <td>2021-12-01</td>\n",
       "      <td>Google</td>\n",
       "    </tr>\n",
       "  </tbody>\n",
       "</table>\n",
       "</div>"
      ],
      "text/plain": [
       "                                      review_content  rating       date  \\\n",
       "0  It does exactly what it says it does efficient...       5 2021-12-01   \n",
       "1  Well, I've only done 2 different vendors. The ...       4 2021-12-01   \n",
       "2  Still in my first week. And I'm looking forwar...       5 2021-12-01   \n",
       "3                                    loving the app.       5 2021-12-01   \n",
       "4  AT FIRST: 1) Lovely experience. charming staff...       2 2021-12-01   \n",
       "\n",
       "   source  \n",
       "0  Google  \n",
       "1  Google  \n",
       "2  Google  \n",
       "3  Google  \n",
       "4  Google  "
      ]
     },
     "execution_count": 3,
     "metadata": {},
     "output_type": "execute_result"
    }
   ],
   "source": [
    "path = \"data/reviews_tgtg_v0.pkl\" #(instead of reviews_tgtg_v2.pkl)\n",
    "\n",
    "with open(path, 'rb') as f:\n",
    "    df = pickle.load(f)\n",
    "\n",
    "df.head(5)"
   ]
  },
  {
   "cell_type": "code",
   "execution_count": 5,
   "id": "ce107c8c",
   "metadata": {},
   "outputs": [],
   "source": [
    "df_review = df[['review_content','rating']]"
   ]
  },
  {
   "cell_type": "markdown",
   "id": "157493c5",
   "metadata": {},
   "source": [
    "### A) Label creation"
   ]
  },
  {
   "cell_type": "markdown",
   "id": "a5bf4e8e",
   "metadata": {},
   "source": [
    "Since the dataset is inbalanced, 2 scenarii need to be designed depending on the success of Machine Learning prediction :\n",
    "- 1 scenario with 5 categories corresponding to the 5 different scores (from 1 to 5)\n",
    "- 1 scenario with 3 macro-categories gathering scores "
   ]
  },
  {
   "cell_type": "markdown",
   "id": "b622adda",
   "metadata": {},
   "source": [
    "##### Scenario 1 => 5 categories"
   ]
  },
  {
   "cell_type": "code",
   "execution_count": 6,
   "id": "36f1e457",
   "metadata": {},
   "outputs": [],
   "source": [
    "# function creating labels according to rating\n",
    "def label_rating (row):\n",
    "    if row['rating'] == 1 :\n",
    "        return '1 - awful'\n",
    "    if row['rating'] == 2 :\n",
    "        return '2 - bad'\n",
    "    if row['rating'] == 3 :\n",
    "        return '3 - neutral'\n",
    "    if row['rating'] == 4 :\n",
    "        return '4 - good'\n",
    "    if row['rating'] == 5 :\n",
    "        return '5 - awesome'\n",
    "    return 'Other'"
   ]
  },
  {
   "cell_type": "code",
   "execution_count": 7,
   "id": "395259f6",
   "metadata": {},
   "outputs": [
    {
     "name": "stderr",
     "output_type": "stream",
     "text": [
      "/tmp/ipykernel_5413/702338561.py:2: SettingWithCopyWarning: \n",
      "A value is trying to be set on a copy of a slice from a DataFrame.\n",
      "Try using .loc[row_indexer,col_indexer] = value instead\n",
      "\n",
      "See the caveats in the documentation: https://pandas.pydata.org/pandas-docs/stable/user_guide/indexing.html#returning-a-view-versus-a-copy\n",
      "  df_review['rating_label'] = df_review.apply (lambda row: label_rating(row), axis=1)\n"
     ]
    },
    {
     "data": {
      "text/html": [
       "<div>\n",
       "<style scoped>\n",
       "    .dataframe tbody tr th:only-of-type {\n",
       "        vertical-align: middle;\n",
       "    }\n",
       "\n",
       "    .dataframe tbody tr th {\n",
       "        vertical-align: top;\n",
       "    }\n",
       "\n",
       "    .dataframe thead th {\n",
       "        text-align: right;\n",
       "    }\n",
       "</style>\n",
       "<table border=\"1\" class=\"dataframe\">\n",
       "  <thead>\n",
       "    <tr style=\"text-align: right;\">\n",
       "      <th></th>\n",
       "      <th>review_content</th>\n",
       "      <th>rating</th>\n",
       "      <th>rating_label</th>\n",
       "    </tr>\n",
       "  </thead>\n",
       "  <tbody>\n",
       "    <tr>\n",
       "      <th>0</th>\n",
       "      <td>It does exactly what it says it does efficient...</td>\n",
       "      <td>5</td>\n",
       "      <td>5 - awesome</td>\n",
       "    </tr>\n",
       "    <tr>\n",
       "      <th>1</th>\n",
       "      <td>Well, I've only done 2 different vendors. The ...</td>\n",
       "      <td>4</td>\n",
       "      <td>4 - good</td>\n",
       "    </tr>\n",
       "    <tr>\n",
       "      <th>2</th>\n",
       "      <td>Still in my first week. And I'm looking forwar...</td>\n",
       "      <td>5</td>\n",
       "      <td>5 - awesome</td>\n",
       "    </tr>\n",
       "    <tr>\n",
       "      <th>3</th>\n",
       "      <td>loving the app.</td>\n",
       "      <td>5</td>\n",
       "      <td>5 - awesome</td>\n",
       "    </tr>\n",
       "    <tr>\n",
       "      <th>4</th>\n",
       "      <td>AT FIRST: 1) Lovely experience. charming staff...</td>\n",
       "      <td>2</td>\n",
       "      <td>2 - bad</td>\n",
       "    </tr>\n",
       "  </tbody>\n",
       "</table>\n",
       "</div>"
      ],
      "text/plain": [
       "                                      review_content  rating rating_label\n",
       "0  It does exactly what it says it does efficient...       5  5 - awesome\n",
       "1  Well, I've only done 2 different vendors. The ...       4     4 - good\n",
       "2  Still in my first week. And I'm looking forwar...       5  5 - awesome\n",
       "3                                    loving the app.       5  5 - awesome\n",
       "4  AT FIRST: 1) Lovely experience. charming staff...       2      2 - bad"
      ]
     },
     "execution_count": 7,
     "metadata": {},
     "output_type": "execute_result"
    }
   ],
   "source": [
    "# application of function to create labels\n",
    "df_review['rating_label'] = df_review.apply (lambda row: label_rating(row), axis=1)\n",
    "df_review.head()"
   ]
  },
  {
   "cell_type": "code",
   "execution_count": 8,
   "id": "49f16623",
   "metadata": {},
   "outputs": [],
   "source": [
    "# creation of dictionary scenario 1\n",
    "rating1_df = df_review[['rating_label', 'rating']].drop_duplicates().sort_values('rating')\n",
    "ratinglabel1_to_id = dict(rating1_df.values)\n",
    "id_to_ratinglabel1 = dict(rating1_df[['rating', 'rating_label']].values)"
   ]
  },
  {
   "cell_type": "code",
   "execution_count": 9,
   "id": "f2b4167e",
   "metadata": {},
   "outputs": [
    {
     "data": {
      "text/plain": [
       "{'1 - awful': 1,\n",
       " '2 - bad': 2,\n",
       " '3 - neutral': 3,\n",
       " '4 - good': 4,\n",
       " '5 - awesome': 5}"
      ]
     },
     "execution_count": 9,
     "metadata": {},
     "output_type": "execute_result"
    }
   ],
   "source": [
    "ratinglabel1_to_id "
   ]
  },
  {
   "cell_type": "code",
   "execution_count": 10,
   "id": "f5c80c48",
   "metadata": {},
   "outputs": [
    {
     "data": {
      "image/png": "[encoded data removed]",
      "text/plain": [
       "<Figure size 576x432 with 1 Axes>"
      ]
     },
     "metadata": {
      "needs_background": "light"
     },
     "output_type": "display_data"
    }
   ],
   "source": [
    "# distribution chart\n",
    "fig = plt.figure(figsize=(8,6))\n",
    "df_review.groupby('rating_label').review_content.count().plot.bar(ylim=0)\n",
    "plt.show()"
   ]
  },
  {
   "cell_type": "markdown",
   "id": "27c4a53c",
   "metadata": {},
   "source": [
    "##### Scenario 2 => 3 categories"
   ]
  },
  {
   "cell_type": "markdown",
   "id": "25baff49",
   "metadata": {},
   "source": [
    "- Bad = categories 1 & 2\n",
    "- Neutral = category 3\n",
    "- Good = categories 4 & 5"
   ]
  },
  {
   "cell_type": "code",
   "execution_count": 10,
   "id": "7f78fc0b",
   "metadata": {},
   "outputs": [
    {
     "name": "stderr",
     "output_type": "stream",
     "text": [
      "/tmp/ipykernel_12154/1835289214.py:16: SettingWithCopyWarning: \n",
      "A value is trying to be set on a copy of a slice from a DataFrame.\n",
      "Try using .loc[row_indexer,col_indexer] = value instead\n",
      "\n",
      "See the caveats in the documentation: https://pandas.pydata.org/pandas-docs/stable/user_guide/indexing.html#returning-a-view-versus-a-copy\n",
      "  df_test2['rating_label'] = df_test2.apply (lambda row: label_rating2(row), axis=1)\n"
     ]
    },
    {
     "data": {
      "text/html": [
       "<div>\n",
       "<style scoped>\n",
       "    .dataframe tbody tr th:only-of-type {\n",
       "        vertical-align: middle;\n",
       "    }\n",
       "\n",
       "    .dataframe tbody tr th {\n",
       "        vertical-align: top;\n",
       "    }\n",
       "\n",
       "    .dataframe thead th {\n",
       "        text-align: right;\n",
       "    }\n",
       "</style>\n",
       "<table border=\"1\" class=\"dataframe\">\n",
       "  <thead>\n",
       "    <tr style=\"text-align: right;\">\n",
       "      <th></th>\n",
       "      <th>review_content</th>\n",
       "      <th>rating</th>\n",
       "      <th>rating_label</th>\n",
       "    </tr>\n",
       "  </thead>\n",
       "  <tbody>\n",
       "    <tr>\n",
       "      <th>0</th>\n",
       "      <td>It does exactly what it says it does efficient...</td>\n",
       "      <td>5</td>\n",
       "      <td>3 - good</td>\n",
       "    </tr>\n",
       "    <tr>\n",
       "      <th>1</th>\n",
       "      <td>Well, I've only done 2 different vendors. The ...</td>\n",
       "      <td>4</td>\n",
       "      <td>3 - good</td>\n",
       "    </tr>\n",
       "    <tr>\n",
       "      <th>2</th>\n",
       "      <td>Still in my first week. And I'm looking forwar...</td>\n",
       "      <td>5</td>\n",
       "      <td>3 - good</td>\n",
       "    </tr>\n",
       "    <tr>\n",
       "      <th>3</th>\n",
       "      <td>loving the app.</td>\n",
       "      <td>5</td>\n",
       "      <td>3 - good</td>\n",
       "    </tr>\n",
       "    <tr>\n",
       "      <th>4</th>\n",
       "      <td>AT FIRST: 1) Lovely experience. charming staff...</td>\n",
       "      <td>2</td>\n",
       "      <td>1 - bad</td>\n",
       "    </tr>\n",
       "  </tbody>\n",
       "</table>\n",
       "</div>"
      ],
      "text/plain": [
       "                                      review_content  rating rating_label\n",
       "0  It does exactly what it says it does efficient...       5     3 - good\n",
       "1  Well, I've only done 2 different vendors. The ...       4     3 - good\n",
       "2  Still in my first week. And I'm looking forwar...       5     3 - good\n",
       "3                                    loving the app.       5     3 - good\n",
       "4  AT FIRST: 1) Lovely experience. charming staff...       2      1 - bad"
      ]
     },
     "execution_count": 10,
     "metadata": {},
     "output_type": "execute_result"
    }
   ],
   "source": [
    "df_test2 = df[['review_content','rating']]\n",
    "\n",
    "def label_rating2 (row):\n",
    "    if row['rating'] == 1 :\n",
    "        return '1 - bad'\n",
    "    if row['rating'] == 2 :\n",
    "        return '1 - bad'\n",
    "    if row['rating'] == 3 :\n",
    "        return '2 - neutral'\n",
    "    if row['rating'] == 4 :\n",
    "        return '3 - good'\n",
    "    if row['rating'] == 5 :\n",
    "        return '3 - good'\n",
    "    return 'Other'\n",
    "\n",
    "df_test2['rating_label'] = df_test2.apply (lambda row: label_rating2(row), axis=1)\n",
    "df_test2.head()"
   ]
  },
  {
   "cell_type": "code",
   "execution_count": 11,
   "id": "cacb20da",
   "metadata": {},
   "outputs": [],
   "source": [
    "# creation of dictionary scenario 2\n",
    "rating2_df = df_test2[['rating_label', 'rating']].drop_duplicates().sort_values('rating')\n",
    "ratinglabel2_to_id = dict(rating2_df.values)\n",
    "id_to_ratinglabel2 = dict(rating2_df[['rating', 'rating_label']].values)"
   ]
  },
  {
   "cell_type": "code",
   "execution_count": 12,
   "id": "24ad72eb",
   "metadata": {},
   "outputs": [
    {
     "data": {
      "image/png": "[encoded data removed]",
      "text/plain": [
       "<Figure size 576x432 with 1 Axes>"
      ]
     },
     "metadata": {
      "needs_background": "light"
     },
     "output_type": "display_data"
    }
   ],
   "source": [
    "# distribution chart\n",
    "fig = plt.figure(figsize=(8,6))\n",
    "df_test2.groupby('rating_label').review_content.count().plot.bar(ylim=0)\n",
    "plt.show()"
   ]
  },
  {
   "cell_type": "markdown",
   "id": "806706b5",
   "metadata": {},
   "source": [
    "# Phase 1 => Preparatory work"
   ]
  },
  {
   "cell_type": "markdown",
   "id": "2cd73c1b",
   "metadata": {},
   "source": [
    "### A) Feature engineering"
   ]
  },
  {
   "cell_type": "markdown",
   "id": "e5b4d526",
   "metadata": {},
   "source": [
    "#### Step 1 => Features created directly from text"
   ]
  },
  {
   "cell_type": "markdown",
   "id": "cad7369e",
   "metadata": {},
   "source": [
    "1. Number of Characters"
   ]
  },
  {
   "cell_type": "code",
   "execution_count": 11,
   "id": "1aa64d8f",
   "metadata": {},
   "outputs": [
    {
     "data": {
      "text/html": [
       "<div>\n",
       "<style scoped>\n",
       "    .dataframe tbody tr th:only-of-type {\n",
       "        vertical-align: middle;\n",
       "    }\n",
       "\n",
       "    .dataframe tbody tr th {\n",
       "        vertical-align: top;\n",
       "    }\n",
       "\n",
       "    .dataframe thead th {\n",
       "        text-align: right;\n",
       "    }\n",
       "</style>\n",
       "<table border=\"1\" class=\"dataframe\">\n",
       "  <thead>\n",
       "    <tr style=\"text-align: right;\">\n",
       "      <th></th>\n",
       "      <th>review_content</th>\n",
       "      <th>rating</th>\n",
       "      <th>rating_label</th>\n",
       "    </tr>\n",
       "  </thead>\n",
       "  <tbody>\n",
       "    <tr>\n",
       "      <th>0</th>\n",
       "      <td>It does exactly what it says it does efficient...</td>\n",
       "      <td>5</td>\n",
       "      <td>5 - awesome</td>\n",
       "    </tr>\n",
       "    <tr>\n",
       "      <th>1</th>\n",
       "      <td>Well, I've only done 2 different vendors. The ...</td>\n",
       "      <td>4</td>\n",
       "      <td>4 - good</td>\n",
       "    </tr>\n",
       "    <tr>\n",
       "      <th>2</th>\n",
       "      <td>Still in my first week. And I'm looking forwar...</td>\n",
       "      <td>5</td>\n",
       "      <td>5 - awesome</td>\n",
       "    </tr>\n",
       "    <tr>\n",
       "      <th>3</th>\n",
       "      <td>loving the app.</td>\n",
       "      <td>5</td>\n",
       "      <td>5 - awesome</td>\n",
       "    </tr>\n",
       "    <tr>\n",
       "      <th>4</th>\n",
       "      <td>AT FIRST: 1) Lovely experience. charming staff...</td>\n",
       "      <td>2</td>\n",
       "      <td>2 - bad</td>\n",
       "    </tr>\n",
       "  </tbody>\n",
       "</table>\n",
       "</div>"
      ],
      "text/plain": [
       "                                      review_content  rating rating_label\n",
       "0  It does exactly what it says it does efficient...       5  5 - awesome\n",
       "1  Well, I've only done 2 different vendors. The ...       4     4 - good\n",
       "2  Still in my first week. And I'm looking forwar...       5  5 - awesome\n",
       "3                                    loving the app.       5  5 - awesome\n",
       "4  AT FIRST: 1) Lovely experience. charming staff...       2      2 - bad"
      ]
     },
     "execution_count": 11,
     "metadata": {},
     "output_type": "execute_result"
    }
   ],
   "source": [
    "df_review.head()"
   ]
  },
  {
   "cell_type": "code",
   "execution_count": 12,
   "id": "c96bb190",
   "metadata": {},
   "outputs": [],
   "source": [
    "def count_chars(text):\n",
    "    return len(text)"
   ]
  },
  {
   "cell_type": "markdown",
   "id": "8f4393b8",
   "metadata": {},
   "source": [
    "2. Number of words"
   ]
  },
  {
   "cell_type": "code",
   "execution_count": 13,
   "id": "78ff6b5e",
   "metadata": {},
   "outputs": [],
   "source": [
    "def count_words(text):\n",
    "    return len(text.split())"
   ]
  },
  {
   "cell_type": "markdown",
   "id": "62e573ac",
   "metadata": {},
   "source": [
    "3. Number of capital characters"
   ]
  },
  {
   "cell_type": "code",
   "execution_count": 14,
   "id": "b18dbd43",
   "metadata": {},
   "outputs": [],
   "source": [
    "def count_capital_chars(text):\n",
    "    count=0\n",
    "    for i in text:\n",
    "        if i.isupper()== True: #isupper() method returns: True if characters in a string are uppercase characters\n",
    "            count+=1\n",
    "    return count"
   ]
  },
  {
   "cell_type": "markdown",
   "id": "0fbe3024",
   "metadata": {},
   "source": [
    "4. Number of capital words"
   ]
  },
  {
   "cell_type": "code",
   "execution_count": 15,
   "id": "b56e469c",
   "metadata": {},
   "outputs": [],
   "source": [
    "def count_capital_words(text):\n",
    "    return sum(map(str.isupper, text.split()))"
   ]
  },
  {
   "cell_type": "markdown",
   "id": "417bebb6",
   "metadata": {},
   "source": [
    "5. Count the number of punctuations"
   ]
  },
  {
   "cell_type": "code",
   "execution_count": 16,
   "id": "4a56cea2",
   "metadata": {},
   "outputs": [],
   "source": [
    "def count_punctuations(text):\n",
    "    punctuations=\"!#$%&'()*+,-./:;<=>?@[\\]^_`{|}~\"\n",
    "    d=dict()\n",
    "    for i in punctuations:\n",
    "        d[str(i)+'count']=text.count(i)\n",
    "    return d "
   ]
  },
  {
   "cell_type": "markdown",
   "id": "ed4f6619",
   "metadata": {},
   "source": [
    "6. Number of words in quotes"
   ]
  },
  {
   "cell_type": "code",
   "execution_count": 17,
   "id": "a6bf0c1a",
   "metadata": {},
   "outputs": [],
   "source": [
    "def count_words_in_quotes(text):\n",
    "    x = re.findall(\"'.'|'.'\", text)\n",
    "    count=0\n",
    "    if x is None:\n",
    "        return 0\n",
    "    else:\n",
    "        for i in x:\n",
    "            t=i[1:-1]\n",
    "            count+=count_words(t)\n",
    "        return count"
   ]
  },
  {
   "cell_type": "markdown",
   "id": "f11a5708",
   "metadata": {},
   "source": [
    "7. Number of sentences"
   ]
  },
  {
   "cell_type": "code",
   "execution_count": 18,
   "id": "7df8ff6c",
   "metadata": {},
   "outputs": [],
   "source": [
    "def count_sent(text):\n",
    "    return len(nltk.sent_tokenize(text))"
   ]
  },
  {
   "cell_type": "markdown",
   "id": "9e143fbf",
   "metadata": {},
   "source": [
    "8. Count the number of unique words"
   ]
  },
  {
   "cell_type": "code",
   "execution_count": 19,
   "id": "23fa16bb",
   "metadata": {},
   "outputs": [],
   "source": [
    "def count_unique_words(text):\n",
    "    return len(set(text.split()))"
   ]
  },
  {
   "cell_type": "markdown",
   "id": "c7bbb1cb",
   "metadata": {},
   "source": [
    "9. Count of hashtags"
   ]
  },
  {
   "cell_type": "code",
   "execution_count": 20,
   "id": "0a5784da",
   "metadata": {},
   "outputs": [],
   "source": [
    "def count_htags(text):\n",
    "    x = re.findall(r'(#w[A-Za-z0-9]*)', text)\n",
    "    return len(x) "
   ]
  },
  {
   "cell_type": "markdown",
   "id": "2fde5981",
   "metadata": {},
   "source": [
    "10. Count of mentions"
   ]
  },
  {
   "cell_type": "code",
   "execution_count": 21,
   "id": "fdf23014",
   "metadata": {},
   "outputs": [],
   "source": [
    "def count_mentions(text):\n",
    "    x = re.findall(r'(@w[A-Za-z0-9]*)', text)\n",
    "    return len(x)"
   ]
  },
  {
   "cell_type": "markdown",
   "id": "73f27bcd",
   "metadata": {},
   "source": [
    "11. Count of stopwords"
   ]
  },
  {
   "cell_type": "code",
   "execution_count": 28,
   "id": "e4a22447",
   "metadata": {},
   "outputs": [
    {
     "name": "stdout",
     "output_type": "stream",
     "text": [
      "319\n"
     ]
    }
   ],
   "source": [
    "nlp = spacy.load(\"en_core_web_md\") # need to use the medium model (not small one = en_core_web_md)\n",
    "nlp.Defaults.stop_words -= {\"no\", \"not\", \"isn't\",\"can't\", \"cannot\", \"doesn't\", \"don't\", \"but\", \"won't\", \"shouldn't\",'n’t','n‘t',\"n't\"} #to remove words form Spacy stopwords\n",
    "\n",
    "stopwords = nlp.Defaults.stop_words\n",
    "\n",
    "print(len(stopwords))"
   ]
  },
  {
   "cell_type": "code",
   "execution_count": 29,
   "id": "4a3fa1c1",
   "metadata": {},
   "outputs": [
    {
     "name": "stdout",
     "output_type": "stream",
     "text": [
      "{'put', '’re', 'least', 'them', 'else', 'call', 'forty', 'someone', 'twenty', 'former', 'whereafter', 'never', 'my', 'to', 'whoever', '‘re', 'show', 'behind', 'own', 'this', 'an', 'noone', \"'ve\", 'whose', 'both', 'next', 'before', 'around', 'front', 'serious', 'had', 'his', 'itself', 'us', 'whereby', 'more', 'hereupon', 'me', 'be', 'again', 'into', 'must', 'latter', 'if', 'last', 'herein', 'beforehand', 'throughout', 'became', 'there', 'get', 'becoming', '’ll', 'it', 'amount', 'should', 'beside', 'hereafter', 'the', 'hereby', 'whom', 'anything', 'anyhow', 'whatever', 'until', '’d', 'sometime', 'either', 'really', \"'m\", 'see', 'ourselves', 'somehow', 'yet', 'other', 'against', 'upon', 'any', 'name', 'those', 'part', 'another', 'because', 'just', 'first', 'various', '‘s', 'done', 'i', 'top', 'after', 'whether', 'been', 'thence', 'their', 'was', 'along', 'off', 'whither', 'full', 're', 'yours', 'whole', 'without', 'also', 'across', '’s', 'ours', 'doing', 'toward', 'may', 'except', 'anyone', 'hers', 'through', \"'re\", 'formerly', 'whence', 'though', 'via', 'therefore', 'am', 'out', 'a', 'have', 'does', 'beyond', '‘m', 'using', 'sometimes', 'mine', \"'ll\", 'whereupon', 'its', 'you', 'seems', 'mostly', 'where', 'whereas', 'back', 'above', 'then', 'two', 'while', 'in', 'seem', 'ten', 'nevertheless', 'still', 'sixty', 'every', 'over', 'few', 'whenever', 'only', 'very', 'she', 'none', 'too', 'eleven', 'thus', 'please', 'moreover', 'among', 'wherever', 'of', 'myself', 'could', 'anywhere', 'nobody', 'has', 'quite', 'together', 'due', 'seemed', 'further', 'make', 'often', 'at', 'nor', 'some', 'since', 'him', 'give', 'did', 'or', 'your', \"'d\", 'her', 'can', 'these', 'take', 'almost', 'one', 'made', 'our', 'third', 'by', 'they', 'bottom', 'hundred', 'keep', 'others', '‘d', 'anyway', 'towards', 'most', 'six', '’m', 'are', 'onto', 'however', '‘ve', 'move', 'once', 'about', 'nowhere', 'always', 'themselves', 'eight', 'all', 'wherein', 'is', 'below', 'why', 'ever', 'who', 'and', 'between', 'empty', 'unless', 'fifty', 'being', 'than', 'becomes', 'thereupon', 'thereby', 'when', 'from', 'alone', 'so', 'become', 'nothing', 'what', 'up', 'do', 'for', 'three', 'several', 'twelve', 'were', 'down', 'he', 'yourselves', 'herself', 'everyone', 'with', 'which', 'otherwise', 'latterly', 'four', 'how', 'per', 'same', 'much', 'thereafter', 'afterwards', 'as', 'such', \"'s\", 'besides', 'that', 'ca', 'under', 'will', 'meanwhile', 'regarding', 'side', 'within', 'well', 'fifteen', 'everything', 'enough', 'thru', 'seeming', 'amongst', 'many', 'elsewhere', 'everywhere', 'although', 'five', 'on', '‘ll', 'something', 'somewhere', 'might', 'go', 'indeed', 'less', 'nine', '’ve', 'neither', 'rather', 'even', 'hence', 'we', 'would', 'therein', 'each', 'perhaps', 'used', 'yourself', 'himself', 'here', 'now', 'already', 'during', 'say', 'namely'}\n"
     ]
    }
   ],
   "source": [
    "print(stopwords)"
   ]
  },
  {
   "cell_type": "code",
   "execution_count": 30,
   "id": "9754a19b",
   "metadata": {},
   "outputs": [],
   "source": [
    "def count_stopwords(text):\n",
    "    stop_words = stopwords  \n",
    "    word_tokens = word_tokenize(text)\n",
    "    stopwords_x = [w for w in word_tokens if w in stop_words]\n",
    "    return len(stopwords_x)"
   ]
  },
  {
   "cell_type": "markdown",
   "id": "dc9a971a",
   "metadata": {},
   "source": [
    "11. Count of emojis"
   ]
  },
  {
   "cell_type": "code",
   "execution_count": 31,
   "id": "7f36d3b5",
   "metadata": {},
   "outputs": [],
   "source": [
    "def count_emoji(text):\n",
    "    return emoji.emoji_count(text)"
   ]
  },
  {
   "cell_type": "markdown",
   "id": "cdb6565a",
   "metadata": {},
   "source": [
    "##### Application of 1st round of feature engineering"
   ]
  },
  {
   "cell_type": "code",
   "execution_count": 32,
   "id": "105f41e6",
   "metadata": {},
   "outputs": [],
   "source": [
    "#apply all the functions just created above, to the whole dataset\n",
    "df_review['char_count'] = df_review[\"review_content\"].apply(lambda x:count_chars(x))\n",
    "df_review['word_count'] = df_review[\"review_content\"].apply(lambda x:count_words(x))\n",
    "df_review['sent_count'] = df_review[\"review_content\"].apply(lambda x:count_sent(x))\n",
    "df_review['capital_char_count'] = df_review[\"review_content\"].apply(lambda x:count_capital_chars(x))\n",
    "df_review['capital_word_count'] = df_review[\"review_content\"].apply(lambda x:count_capital_words(x))\n",
    "df_review['quoted_word_count'] = df_review[\"review_content\"].apply(lambda x:count_words_in_quotes(x))\n",
    "df_review['stopword_count'] = df_review[\"review_content\"].apply(lambda x:count_stopwords(x))\n",
    "df_review['unique_word_count'] = df_review[\"review_content\"].apply(lambda x:count_unique_words(x))\n",
    "df_review['htag_count'] = df_review[\"review_content\"].apply(lambda x:count_htags(x))\n",
    "df_review['mention_count'] = df_review[\"review_content\"].apply(lambda x:count_mentions(x))\n",
    "df_review['punct_count'] = df_review[\"review_content\"].apply(lambda x:count_punctuations(x))\n",
    "df_review['emoji_count'] = df_review[\"review_content\"].apply(lambda x:count_emoji(x))"
   ]
  },
  {
   "cell_type": "code",
   "execution_count": 33,
   "id": "5b9b2bfc",
   "metadata": {},
   "outputs": [
    {
     "name": "stdout",
     "output_type": "stream",
     "text": [
      "<class 'pandas.core.frame.DataFrame'>\n",
      "Int64Index: 22968 entries, 0 to 1467\n",
      "Data columns (total 15 columns):\n",
      " #   Column              Non-Null Count  Dtype \n",
      "---  ------              --------------  ----- \n",
      " 0   review_content      22968 non-null  object\n",
      " 1   rating              22968 non-null  int64 \n",
      " 2   rating_label        22968 non-null  object\n",
      " 3   char_count          22968 non-null  int64 \n",
      " 4   word_count          22968 non-null  int64 \n",
      " 5   sent_count          22968 non-null  int64 \n",
      " 6   capital_char_count  22968 non-null  int64 \n",
      " 7   capital_word_count  22968 non-null  int64 \n",
      " 8   quoted_word_count   22968 non-null  int64 \n",
      " 9   stopword_count      22968 non-null  int64 \n",
      " 10  unique_word_count   22968 non-null  int64 \n",
      " 11  htag_count          22968 non-null  int64 \n",
      " 12  mention_count       22968 non-null  int64 \n",
      " 13  punct_count         22968 non-null  object\n",
      " 14  emoji_count         22968 non-null  int64 \n",
      "dtypes: int64(12), object(3)\n",
      "memory usage: 2.8+ MB\n"
     ]
    }
   ],
   "source": [
    "df_review.info()"
   ]
  },
  {
   "cell_type": "markdown",
   "id": "cd0e5767",
   "metadata": {},
   "source": [
    "#### Step 2 => New features created directly from features above and applied on df"
   ]
  },
  {
   "cell_type": "markdown",
   "id": "c8ef197b",
   "metadata": {},
   "source": [
    "12. Calculating average word length"
   ]
  },
  {
   "cell_type": "code",
   "execution_count": 34,
   "id": "e55bb06f",
   "metadata": {},
   "outputs": [],
   "source": [
    "df_review['avg_wordlength'] = df_review['char_count']/df_review['word_count']"
   ]
  },
  {
   "cell_type": "markdown",
   "id": "53edf648",
   "metadata": {},
   "source": [
    "13. Calculating average sentence length"
   ]
  },
  {
   "cell_type": "code",
   "execution_count": 35,
   "id": "0976421f",
   "metadata": {},
   "outputs": [],
   "source": [
    "df_review['avg_sentlength'] = df_review['word_count']/df_review['sent_count']"
   ]
  },
  {
   "cell_type": "markdown",
   "id": "47fddb5f",
   "metadata": {},
   "source": [
    "14. Ratio unique words vs word count"
   ]
  },
  {
   "cell_type": "code",
   "execution_count": 36,
   "id": "9f6ad659",
   "metadata": {},
   "outputs": [],
   "source": [
    "df_review['unique_vs_words'] = df_review['unique_word_count']/df_review['word_count']"
   ]
  },
  {
   "cell_type": "markdown",
   "id": "42f604ff",
   "metadata": {},
   "source": [
    "15. Ratio stopwords count vs words count"
   ]
  },
  {
   "cell_type": "code",
   "execution_count": 37,
   "id": "71372423",
   "metadata": {},
   "outputs": [],
   "source": [
    "df_review['stopwords_vs_words'] = df_review['stopword_count']/df_review['word_count']"
   ]
  },
  {
   "cell_type": "code",
   "execution_count": 38,
   "id": "e31b3e5e",
   "metadata": {},
   "outputs": [
    {
     "name": "stdout",
     "output_type": "stream",
     "text": [
      "<class 'pandas.core.frame.DataFrame'>\n",
      "Int64Index: 22968 entries, 0 to 1467\n",
      "Data columns (total 19 columns):\n",
      " #   Column              Non-Null Count  Dtype  \n",
      "---  ------              --------------  -----  \n",
      " 0   review_content      22968 non-null  object \n",
      " 1   rating              22968 non-null  int64  \n",
      " 2   rating_label        22968 non-null  object \n",
      " 3   char_count          22968 non-null  int64  \n",
      " 4   word_count          22968 non-null  int64  \n",
      " 5   sent_count          22968 non-null  int64  \n",
      " 6   capital_char_count  22968 non-null  int64  \n",
      " 7   capital_word_count  22968 non-null  int64  \n",
      " 8   quoted_word_count   22968 non-null  int64  \n",
      " 9   stopword_count      22968 non-null  int64  \n",
      " 10  unique_word_count   22968 non-null  int64  \n",
      " 11  htag_count          22968 non-null  int64  \n",
      " 12  mention_count       22968 non-null  int64  \n",
      " 13  punct_count         22968 non-null  object \n",
      " 14  emoji_count         22968 non-null  int64  \n",
      " 15  avg_wordlength      22968 non-null  float64\n",
      " 16  avg_sentlength      22968 non-null  float64\n",
      " 17  unique_vs_words     22968 non-null  float64\n",
      " 18  stopwords_vs_words  22968 non-null  float64\n",
      "dtypes: float64(4), int64(12), object(3)\n",
      "memory usage: 3.5+ MB\n"
     ]
    }
   ],
   "source": [
    "df_review.info()"
   ]
  },
  {
   "cell_type": "markdown",
   "id": "0d03f082",
   "metadata": {},
   "source": [
    "16. Adding columns based on punctuation used in each text"
   ]
  },
  {
   "cell_type": "code",
   "execution_count": 39,
   "id": "e9d27199",
   "metadata": {},
   "outputs": [
    {
     "data": {
      "text/plain": [
       "Index(['review_content', 'rating', 'rating_label', 'char_count', 'word_count',\n",
       "       'sent_count', 'capital_char_count', 'capital_word_count',\n",
       "       'quoted_word_count', 'stopword_count', 'unique_word_count',\n",
       "       'htag_count', 'mention_count', 'emoji_count', 'avg_wordlength',\n",
       "       'avg_sentlength', 'unique_vs_words', 'stopwords_vs_words', '!count',\n",
       "       '#count', '$count', '%count', '&count', ''count', '(count', ')count',\n",
       "       '*count', '+count', ',count', '-count', '.count', '/count', ':count',\n",
       "       ';count', '<count', '=count', '>count', '?count', '@count', '[count',\n",
       "       '\\count', ']count', '^count', '_count', '`count', '{count', '|count',\n",
       "       '}count', '~count'],\n",
       "      dtype='object')"
      ]
     },
     "execution_count": 39,
     "metadata": {},
     "output_type": "execute_result"
    }
   ],
   "source": [
    "# Creating new dataframe retrieving all the different punctuation used in each text\n",
    "df_punct = pd.DataFrame(list(df_review.punct_count))\n",
    "\n",
    "# Merging punctuation DataFrame with main DataFrame\n",
    "df_review = pd.merge(df_review, df_punct, left_index=True, right_index=True)\n",
    "\n",
    "# Dropping \"punct_count\" column from main DataFrame\n",
    "df_review.drop(columns=['punct_count'],inplace=True)\n",
    "df_review.columns"
   ]
  },
  {
   "cell_type": "code",
   "execution_count": 40,
   "id": "90d95b63",
   "metadata": {},
   "outputs": [
    {
     "name": "stdout",
     "output_type": "stream",
     "text": [
      "<class 'pandas.core.frame.DataFrame'>\n",
      "Int64Index: 22968 entries, 0 to 19847\n",
      "Data columns (total 49 columns):\n",
      " #   Column              Non-Null Count  Dtype  \n",
      "---  ------              --------------  -----  \n",
      " 0   review_content      22968 non-null  object \n",
      " 1   rating              22968 non-null  int64  \n",
      " 2   rating_label        22968 non-null  object \n",
      " 3   char_count          22968 non-null  int64  \n",
      " 4   word_count          22968 non-null  int64  \n",
      " 5   sent_count          22968 non-null  int64  \n",
      " 6   capital_char_count  22968 non-null  int64  \n",
      " 7   capital_word_count  22968 non-null  int64  \n",
      " 8   quoted_word_count   22968 non-null  int64  \n",
      " 9   stopword_count      22968 non-null  int64  \n",
      " 10  unique_word_count   22968 non-null  int64  \n",
      " 11  htag_count          22968 non-null  int64  \n",
      " 12  mention_count       22968 non-null  int64  \n",
      " 13  emoji_count         22968 non-null  int64  \n",
      " 14  avg_wordlength      22968 non-null  float64\n",
      " 15  avg_sentlength      22968 non-null  float64\n",
      " 16  unique_vs_words     22968 non-null  float64\n",
      " 17  stopwords_vs_words  22968 non-null  float64\n",
      " 18  !count              22968 non-null  int64  \n",
      " 19  #count              22968 non-null  int64  \n",
      " 20  $count              22968 non-null  int64  \n",
      " 21  %count              22968 non-null  int64  \n",
      " 22  &count              22968 non-null  int64  \n",
      " 23  'count              22968 non-null  int64  \n",
      " 24  (count              22968 non-null  int64  \n",
      " 25  )count              22968 non-null  int64  \n",
      " 26  *count              22968 non-null  int64  \n",
      " 27  +count              22968 non-null  int64  \n",
      " 28  ,count              22968 non-null  int64  \n",
      " 29  -count              22968 non-null  int64  \n",
      " 30  .count              22968 non-null  int64  \n",
      " 31  /count              22968 non-null  int64  \n",
      " 32  :count              22968 non-null  int64  \n",
      " 33  ;count              22968 non-null  int64  \n",
      " 34  <count              22968 non-null  int64  \n",
      " 35  =count              22968 non-null  int64  \n",
      " 36  >count              22968 non-null  int64  \n",
      " 37  ?count              22968 non-null  int64  \n",
      " 38  @count              22968 non-null  int64  \n",
      " 39  [count              22968 non-null  int64  \n",
      " 40  \\count              22968 non-null  int64  \n",
      " 41  ]count              22968 non-null  int64  \n",
      " 42  ^count              22968 non-null  int64  \n",
      " 43  _count              22968 non-null  int64  \n",
      " 44  `count              22968 non-null  int64  \n",
      " 45  {count              22968 non-null  int64  \n",
      " 46  |count              22968 non-null  int64  \n",
      " 47  }count              22968 non-null  int64  \n",
      " 48  ~count              22968 non-null  int64  \n",
      "dtypes: float64(4), int64(43), object(2)\n",
      "memory usage: 8.8+ MB\n"
     ]
    }
   ],
   "source": [
    "df_review.info()"
   ]
  },
  {
   "cell_type": "code",
   "execution_count": 41,
   "id": "27ab654f",
   "metadata": {},
   "outputs": [
    {
     "data": {
      "text/html": [
       "<div>\n",
       "<style scoped>\n",
       "    .dataframe tbody tr th:only-of-type {\n",
       "        vertical-align: middle;\n",
       "    }\n",
       "\n",
       "    .dataframe tbody tr th {\n",
       "        vertical-align: top;\n",
       "    }\n",
       "\n",
       "    .dataframe thead th {\n",
       "        text-align: right;\n",
       "    }\n",
       "</style>\n",
       "<table border=\"1\" class=\"dataframe\">\n",
       "  <thead>\n",
       "    <tr style=\"text-align: right;\">\n",
       "      <th></th>\n",
       "      <th>rating</th>\n",
       "      <th>char_count</th>\n",
       "      <th>word_count</th>\n",
       "      <th>sent_count</th>\n",
       "      <th>capital_char_count</th>\n",
       "      <th>capital_word_count</th>\n",
       "      <th>quoted_word_count</th>\n",
       "      <th>stopword_count</th>\n",
       "      <th>unique_word_count</th>\n",
       "      <th>htag_count</th>\n",
       "      <th>...</th>\n",
       "      <th>[count</th>\n",
       "      <th>\\count</th>\n",
       "      <th>]count</th>\n",
       "      <th>^count</th>\n",
       "      <th>_count</th>\n",
       "      <th>`count</th>\n",
       "      <th>{count</th>\n",
       "      <th>|count</th>\n",
       "      <th>}count</th>\n",
       "      <th>~count</th>\n",
       "    </tr>\n",
       "  </thead>\n",
       "  <tbody>\n",
       "    <tr>\n",
       "      <th>count</th>\n",
       "      <td>22968.000000</td>\n",
       "      <td>22968.000000</td>\n",
       "      <td>22968.000000</td>\n",
       "      <td>22968.000000</td>\n",
       "      <td>22968.000000</td>\n",
       "      <td>22968.000000</td>\n",
       "      <td>22968.000000</td>\n",
       "      <td>22968.000000</td>\n",
       "      <td>22968.000000</td>\n",
       "      <td>22968.000000</td>\n",
       "      <td>...</td>\n",
       "      <td>22968.000000</td>\n",
       "      <td>22968.000000</td>\n",
       "      <td>22968.000000</td>\n",
       "      <td>22968.000000</td>\n",
       "      <td>22968.000000</td>\n",
       "      <td>22968.000000</td>\n",
       "      <td>22968.0</td>\n",
       "      <td>22968.0</td>\n",
       "      <td>22968.0</td>\n",
       "      <td>22968.000000</td>\n",
       "    </tr>\n",
       "    <tr>\n",
       "      <th>mean</th>\n",
       "      <td>4.433473</td>\n",
       "      <td>121.877699</td>\n",
       "      <td>22.753701</td>\n",
       "      <td>2.080329</td>\n",
       "      <td>2.943530</td>\n",
       "      <td>0.565482</td>\n",
       "      <td>0.000087</td>\n",
       "      <td>9.923023</td>\n",
       "      <td>19.483063</td>\n",
       "      <td>0.000044</td>\n",
       "      <td>...</td>\n",
       "      <td>0.000218</td>\n",
       "      <td>0.000044</td>\n",
       "      <td>0.000218</td>\n",
       "      <td>0.000610</td>\n",
       "      <td>0.000305</td>\n",
       "      <td>0.000087</td>\n",
       "      <td>0.0</td>\n",
       "      <td>0.0</td>\n",
       "      <td>0.0</td>\n",
       "      <td>0.000610</td>\n",
       "    </tr>\n",
       "    <tr>\n",
       "      <th>std</th>\n",
       "      <td>1.226021</td>\n",
       "      <td>157.477405</td>\n",
       "      <td>29.794663</td>\n",
       "      <td>1.711031</td>\n",
       "      <td>4.837543</td>\n",
       "      <td>1.488223</td>\n",
       "      <td>0.009331</td>\n",
       "      <td>15.097644</td>\n",
       "      <td>21.407197</td>\n",
       "      <td>0.006598</td>\n",
       "      <td>...</td>\n",
       "      <td>0.017457</td>\n",
       "      <td>0.006598</td>\n",
       "      <td>0.017457</td>\n",
       "      <td>0.034911</td>\n",
       "      <td>0.021883</td>\n",
       "      <td>0.009331</td>\n",
       "      <td>0.0</td>\n",
       "      <td>0.0</td>\n",
       "      <td>0.0</td>\n",
       "      <td>0.026387</td>\n",
       "    </tr>\n",
       "    <tr>\n",
       "      <th>min</th>\n",
       "      <td>1.000000</td>\n",
       "      <td>1.000000</td>\n",
       "      <td>1.000000</td>\n",
       "      <td>1.000000</td>\n",
       "      <td>0.000000</td>\n",
       "      <td>0.000000</td>\n",
       "      <td>0.000000</td>\n",
       "      <td>0.000000</td>\n",
       "      <td>1.000000</td>\n",
       "      <td>0.000000</td>\n",
       "      <td>...</td>\n",
       "      <td>0.000000</td>\n",
       "      <td>0.000000</td>\n",
       "      <td>0.000000</td>\n",
       "      <td>0.000000</td>\n",
       "      <td>0.000000</td>\n",
       "      <td>0.000000</td>\n",
       "      <td>0.0</td>\n",
       "      <td>0.0</td>\n",
       "      <td>0.0</td>\n",
       "      <td>0.000000</td>\n",
       "    </tr>\n",
       "    <tr>\n",
       "      <th>25%</th>\n",
       "      <td>5.000000</td>\n",
       "      <td>31.000000</td>\n",
       "      <td>6.000000</td>\n",
       "      <td>1.000000</td>\n",
       "      <td>1.000000</td>\n",
       "      <td>0.000000</td>\n",
       "      <td>0.000000</td>\n",
       "      <td>1.000000</td>\n",
       "      <td>6.000000</td>\n",
       "      <td>0.000000</td>\n",
       "      <td>...</td>\n",
       "      <td>0.000000</td>\n",
       "      <td>0.000000</td>\n",
       "      <td>0.000000</td>\n",
       "      <td>0.000000</td>\n",
       "      <td>0.000000</td>\n",
       "      <td>0.000000</td>\n",
       "      <td>0.0</td>\n",
       "      <td>0.0</td>\n",
       "      <td>0.0</td>\n",
       "      <td>0.000000</td>\n",
       "    </tr>\n",
       "    <tr>\n",
       "      <th>50%</th>\n",
       "      <td>5.000000</td>\n",
       "      <td>69.000000</td>\n",
       "      <td>13.000000</td>\n",
       "      <td>1.000000</td>\n",
       "      <td>2.000000</td>\n",
       "      <td>0.000000</td>\n",
       "      <td>0.000000</td>\n",
       "      <td>5.000000</td>\n",
       "      <td>12.000000</td>\n",
       "      <td>0.000000</td>\n",
       "      <td>...</td>\n",
       "      <td>0.000000</td>\n",
       "      <td>0.000000</td>\n",
       "      <td>0.000000</td>\n",
       "      <td>0.000000</td>\n",
       "      <td>0.000000</td>\n",
       "      <td>0.000000</td>\n",
       "      <td>0.0</td>\n",
       "      <td>0.0</td>\n",
       "      <td>0.0</td>\n",
       "      <td>0.000000</td>\n",
       "    </tr>\n",
       "    <tr>\n",
       "      <th>75%</th>\n",
       "      <td>5.000000</td>\n",
       "      <td>151.000000</td>\n",
       "      <td>28.000000</td>\n",
       "      <td>3.000000</td>\n",
       "      <td>3.000000</td>\n",
       "      <td>1.000000</td>\n",
       "      <td>0.000000</td>\n",
       "      <td>13.000000</td>\n",
       "      <td>26.000000</td>\n",
       "      <td>0.000000</td>\n",
       "      <td>...</td>\n",
       "      <td>0.000000</td>\n",
       "      <td>0.000000</td>\n",
       "      <td>0.000000</td>\n",
       "      <td>0.000000</td>\n",
       "      <td>0.000000</td>\n",
       "      <td>0.000000</td>\n",
       "      <td>0.0</td>\n",
       "      <td>0.0</td>\n",
       "      <td>0.0</td>\n",
       "      <td>0.000000</td>\n",
       "    </tr>\n",
       "    <tr>\n",
       "      <th>max</th>\n",
       "      <td>5.000000</td>\n",
       "      <td>4894.000000</td>\n",
       "      <td>871.000000</td>\n",
       "      <td>37.000000</td>\n",
       "      <td>166.000000</td>\n",
       "      <td>47.000000</td>\n",
       "      <td>1.000000</td>\n",
       "      <td>438.000000</td>\n",
       "      <td>448.000000</td>\n",
       "      <td>1.000000</td>\n",
       "      <td>...</td>\n",
       "      <td>2.000000</td>\n",
       "      <td>1.000000</td>\n",
       "      <td>2.000000</td>\n",
       "      <td>2.000000</td>\n",
       "      <td>2.000000</td>\n",
       "      <td>1.000000</td>\n",
       "      <td>0.0</td>\n",
       "      <td>0.0</td>\n",
       "      <td>0.0</td>\n",
       "      <td>2.000000</td>\n",
       "    </tr>\n",
       "  </tbody>\n",
       "</table>\n",
       "<p>8 rows × 47 columns</p>\n",
       "</div>"
      ],
      "text/plain": [
       "             rating    char_count    word_count    sent_count  \\\n",
       "count  22968.000000  22968.000000  22968.000000  22968.000000   \n",
       "mean       4.433473    121.877699     22.753701      2.080329   \n",
       "std        1.226021    157.477405     29.794663      1.711031   \n",
       "min        1.000000      1.000000      1.000000      1.000000   \n",
       "25%        5.000000     31.000000      6.000000      1.000000   \n",
       "50%        5.000000     69.000000     13.000000      1.000000   \n",
       "75%        5.000000    151.000000     28.000000      3.000000   \n",
       "max        5.000000   4894.000000    871.000000     37.000000   \n",
       "\n",
       "       capital_char_count  capital_word_count  quoted_word_count  \\\n",
       "count        22968.000000        22968.000000       22968.000000   \n",
       "mean             2.943530            0.565482           0.000087   \n",
       "std              4.837543            1.488223           0.009331   \n",
       "min              0.000000            0.000000           0.000000   \n",
       "25%              1.000000            0.000000           0.000000   \n",
       "50%              2.000000            0.000000           0.000000   \n",
       "75%              3.000000            1.000000           0.000000   \n",
       "max            166.000000           47.000000           1.000000   \n",
       "\n",
       "       stopword_count  unique_word_count    htag_count  ...        [count  \\\n",
       "count    22968.000000       22968.000000  22968.000000  ...  22968.000000   \n",
       "mean         9.923023          19.483063      0.000044  ...      0.000218   \n",
       "std         15.097644          21.407197      0.006598  ...      0.017457   \n",
       "min          0.000000           1.000000      0.000000  ...      0.000000   \n",
       "25%          1.000000           6.000000      0.000000  ...      0.000000   \n",
       "50%          5.000000          12.000000      0.000000  ...      0.000000   \n",
       "75%         13.000000          26.000000      0.000000  ...      0.000000   \n",
       "max        438.000000         448.000000      1.000000  ...      2.000000   \n",
       "\n",
       "             \\count        ]count        ^count        _count        `count  \\\n",
       "count  22968.000000  22968.000000  22968.000000  22968.000000  22968.000000   \n",
       "mean       0.000044      0.000218      0.000610      0.000305      0.000087   \n",
       "std        0.006598      0.017457      0.034911      0.021883      0.009331   \n",
       "min        0.000000      0.000000      0.000000      0.000000      0.000000   \n",
       "25%        0.000000      0.000000      0.000000      0.000000      0.000000   \n",
       "50%        0.000000      0.000000      0.000000      0.000000      0.000000   \n",
       "75%        0.000000      0.000000      0.000000      0.000000      0.000000   \n",
       "max        1.000000      2.000000      2.000000      2.000000      1.000000   \n",
       "\n",
       "        {count   |count   }count        ~count  \n",
       "count  22968.0  22968.0  22968.0  22968.000000  \n",
       "mean       0.0      0.0      0.0      0.000610  \n",
       "std        0.0      0.0      0.0      0.026387  \n",
       "min        0.0      0.0      0.0      0.000000  \n",
       "25%        0.0      0.0      0.0      0.000000  \n",
       "50%        0.0      0.0      0.0      0.000000  \n",
       "75%        0.0      0.0      0.0      0.000000  \n",
       "max        0.0      0.0      0.0      2.000000  \n",
       "\n",
       "[8 rows x 47 columns]"
      ]
     },
     "execution_count": 41,
     "metadata": {},
     "output_type": "execute_result"
    }
   ],
   "source": [
    "df_review.describe()"
   ]
  },
  {
   "cell_type": "code",
   "execution_count": 42,
   "id": "ad8c74b3",
   "metadata": {},
   "outputs": [
    {
     "data": {
      "text/html": [
       "<div>\n",
       "<style scoped>\n",
       "    .dataframe tbody tr th:only-of-type {\n",
       "        vertical-align: middle;\n",
       "    }\n",
       "\n",
       "    .dataframe tbody tr th {\n",
       "        vertical-align: top;\n",
       "    }\n",
       "\n",
       "    .dataframe thead th {\n",
       "        text-align: right;\n",
       "    }\n",
       "</style>\n",
       "<table border=\"1\" class=\"dataframe\">\n",
       "  <thead>\n",
       "    <tr style=\"text-align: right;\">\n",
       "      <th></th>\n",
       "      <th>review_content</th>\n",
       "      <th>rating</th>\n",
       "      <th>rating_label</th>\n",
       "      <th>char_count</th>\n",
       "      <th>word_count</th>\n",
       "      <th>sent_count</th>\n",
       "      <th>capital_char_count</th>\n",
       "      <th>capital_word_count</th>\n",
       "      <th>quoted_word_count</th>\n",
       "      <th>stopword_count</th>\n",
       "      <th>...</th>\n",
       "      <th>[count</th>\n",
       "      <th>\\count</th>\n",
       "      <th>]count</th>\n",
       "      <th>^count</th>\n",
       "      <th>_count</th>\n",
       "      <th>`count</th>\n",
       "      <th>{count</th>\n",
       "      <th>|count</th>\n",
       "      <th>}count</th>\n",
       "      <th>~count</th>\n",
       "    </tr>\n",
       "  </thead>\n",
       "  <tbody>\n",
       "    <tr>\n",
       "      <th>0</th>\n",
       "      <td>It does exactly what it says it does efficient...</td>\n",
       "      <td>5</td>\n",
       "      <td>5 - awesome</td>\n",
       "      <td>97</td>\n",
       "      <td>17</td>\n",
       "      <td>2</td>\n",
       "      <td>2</td>\n",
       "      <td>0</td>\n",
       "      <td>0</td>\n",
       "      <td>8</td>\n",
       "      <td>...</td>\n",
       "      <td>0</td>\n",
       "      <td>0</td>\n",
       "      <td>0</td>\n",
       "      <td>0</td>\n",
       "      <td>0</td>\n",
       "      <td>0</td>\n",
       "      <td>0</td>\n",
       "      <td>0</td>\n",
       "      <td>0</td>\n",
       "      <td>0</td>\n",
       "    </tr>\n",
       "    <tr>\n",
       "      <th>0</th>\n",
       "      <td>Not that great to go more like I have had this...</td>\n",
       "      <td>5</td>\n",
       "      <td>5 - awesome</td>\n",
       "      <td>1267</td>\n",
       "      <td>271</td>\n",
       "      <td>2</td>\n",
       "      <td>14</td>\n",
       "      <td>9</td>\n",
       "      <td>0</td>\n",
       "      <td>133</td>\n",
       "      <td>...</td>\n",
       "      <td>0</td>\n",
       "      <td>0</td>\n",
       "      <td>0</td>\n",
       "      <td>0</td>\n",
       "      <td>0</td>\n",
       "      <td>0</td>\n",
       "      <td>0</td>\n",
       "      <td>0</td>\n",
       "      <td>0</td>\n",
       "      <td>0</td>\n",
       "    </tr>\n",
       "    <tr>\n",
       "      <th>0</th>\n",
       "      <td>TOBY CARVERY LATE CANCELLATION 30 minutes befo...</td>\n",
       "      <td>1</td>\n",
       "      <td>1 - awful</td>\n",
       "      <td>299</td>\n",
       "      <td>51</td>\n",
       "      <td>3</td>\n",
       "      <td>34</td>\n",
       "      <td>4</td>\n",
       "      <td>0</td>\n",
       "      <td>18</td>\n",
       "      <td>...</td>\n",
       "      <td>0</td>\n",
       "      <td>0</td>\n",
       "      <td>0</td>\n",
       "      <td>0</td>\n",
       "      <td>0</td>\n",
       "      <td>0</td>\n",
       "      <td>0</td>\n",
       "      <td>0</td>\n",
       "      <td>0</td>\n",
       "      <td>0</td>\n",
       "    </tr>\n",
       "    <tr>\n",
       "      <th>1</th>\n",
       "      <td>Well, I've only done 2 different vendors. The ...</td>\n",
       "      <td>4</td>\n",
       "      <td>4 - good</td>\n",
       "      <td>267</td>\n",
       "      <td>50</td>\n",
       "      <td>6</td>\n",
       "      <td>9</td>\n",
       "      <td>2</td>\n",
       "      <td>0</td>\n",
       "      <td>18</td>\n",
       "      <td>...</td>\n",
       "      <td>0</td>\n",
       "      <td>0</td>\n",
       "      <td>0</td>\n",
       "      <td>0</td>\n",
       "      <td>0</td>\n",
       "      <td>0</td>\n",
       "      <td>0</td>\n",
       "      <td>0</td>\n",
       "      <td>0</td>\n",
       "      <td>0</td>\n",
       "    </tr>\n",
       "    <tr>\n",
       "      <th>1</th>\n",
       "      <td>Barley Farm - Eccles This was the first time u...</td>\n",
       "      <td>5</td>\n",
       "      <td>5 - awesome</td>\n",
       "      <td>1021</td>\n",
       "      <td>206</td>\n",
       "      <td>15</td>\n",
       "      <td>33</td>\n",
       "      <td>14</td>\n",
       "      <td>0</td>\n",
       "      <td>98</td>\n",
       "      <td>...</td>\n",
       "      <td>0</td>\n",
       "      <td>0</td>\n",
       "      <td>0</td>\n",
       "      <td>0</td>\n",
       "      <td>0</td>\n",
       "      <td>0</td>\n",
       "      <td>0</td>\n",
       "      <td>0</td>\n",
       "      <td>0</td>\n",
       "      <td>0</td>\n",
       "    </tr>\n",
       "  </tbody>\n",
       "</table>\n",
       "<p>5 rows × 49 columns</p>\n",
       "</div>"
      ],
      "text/plain": [
       "                                      review_content  rating rating_label  \\\n",
       "0  It does exactly what it says it does efficient...       5  5 - awesome   \n",
       "0  Not that great to go more like I have had this...       5  5 - awesome   \n",
       "0  TOBY CARVERY LATE CANCELLATION 30 minutes befo...       1    1 - awful   \n",
       "1  Well, I've only done 2 different vendors. The ...       4     4 - good   \n",
       "1  Barley Farm - Eccles This was the first time u...       5  5 - awesome   \n",
       "\n",
       "   char_count  word_count  sent_count  capital_char_count  capital_word_count  \\\n",
       "0          97          17           2                   2                   0   \n",
       "0        1267         271           2                  14                   9   \n",
       "0         299          51           3                  34                   4   \n",
       "1         267          50           6                   9                   2   \n",
       "1        1021         206          15                  33                  14   \n",
       "\n",
       "   quoted_word_count  stopword_count  ...  [count  \\count  ]count  ^count  \\\n",
       "0                  0               8  ...       0       0       0       0   \n",
       "0                  0             133  ...       0       0       0       0   \n",
       "0                  0              18  ...       0       0       0       0   \n",
       "1                  0              18  ...       0       0       0       0   \n",
       "1                  0              98  ...       0       0       0       0   \n",
       "\n",
       "   _count  `count  {count  |count  }count  ~count  \n",
       "0       0       0       0       0       0       0  \n",
       "0       0       0       0       0       0       0  \n",
       "0       0       0       0       0       0       0  \n",
       "1       0       0       0       0       0       0  \n",
       "1       0       0       0       0       0       0  \n",
       "\n",
       "[5 rows x 49 columns]"
      ]
     },
     "execution_count": 42,
     "metadata": {},
     "output_type": "execute_result"
    }
   ],
   "source": [
    "df_review.head()"
   ]
  },
  {
   "cell_type": "markdown",
   "id": "52febf20",
   "metadata": {},
   "source": [
    "### B) Preprocessing methodology"
   ]
  },
  {
   "cell_type": "code",
   "execution_count": 43,
   "id": "3fb139ea",
   "metadata": {},
   "outputs": [],
   "source": [
    "# transform emojis into words\n",
    "def emo_trans(text):\n",
    "    text=emoji.demojize(text)\n",
    "    text=text.replace(\":\",\" \")\n",
    "    text=' '.join(text.split())\n",
    "    return text"
   ]
  },
  {
   "cell_type": "code",
   "execution_count": 44,
   "id": "e2c6b1f7",
   "metadata": {},
   "outputs": [],
   "source": [
    "# function to run preprocessing\n",
    "def preprocessing(text):\n",
    "    text=text.lower() # to put in lower case\n",
    "    text=' '.join(text.split()) # to remove extra white spaces (whichever how many)\n",
    "    text=re.sub(\"'\", \"\", text) # to avoid removing contractions in english\n",
    "    text=emo_trans(text) # to transform emojis into words\n",
    "    text=re.sub(\"@[A-Za-z0-9_]+\",\"\", text) # to remove mentions\n",
    "    text=re.sub(\"#[A-Za-z0-9_]+\",\"\", text) # to remove hashtags\n",
    "    text=re.sub(r\"http\\S+\", \"\", text) # to remove urls\n",
    "    text=re.sub(r\"www.\\S+\", \"\", text) # to remove urls\n",
    "    text=re.sub('((www.[^s]+)|(https?://[^s]+))',' ',text) # to remove urls - 3rd version\n",
    "    text=re.sub(\"[^a-z0-9]\",\" \", text) # to remove non-alphanumerical characters\n",
    "    tokens = word_tokenize(text) # to tokenize\n",
    "    tokens_no_punctuation = [t for t in tokens if t.isalpha()]\n",
    "    tokens_no_stop = [t for t in tokens_no_punctuation if t not in stopwords]\n",
    "    lemmatizer = WordNetLemmatizer()\n",
    "    token_lem = [lemmatizer.lemmatize(t) for t in tokens_no_stop]\n",
    "    return token_lem"
   ]
  },
  {
   "cell_type": "code",
   "execution_count": 45,
   "id": "d23a7af1",
   "metadata": {},
   "outputs": [],
   "source": [
    "df_review['preprocessed_content'] = df_review['review_content'].apply(lambda x:preprocessing(x))"
   ]
  },
  {
   "cell_type": "code",
   "execution_count": 46,
   "id": "80d8d648",
   "metadata": {},
   "outputs": [],
   "source": [
    "df_review['preprocessed_content'] = [','.join(map(str, l)) for l in df_review['preprocessed_content']]"
   ]
  },
  {
   "cell_type": "markdown",
   "id": "e73e4376",
   "metadata": {},
   "source": [
    "### D) Splitting data (df_train & df_test) & Definition of corresponding Ys"
   ]
  },
  {
   "cell_type": "code",
   "execution_count": 47,
   "id": "c8268bea",
   "metadata": {},
   "outputs": [],
   "source": [
    "df_review = df_review.sample(len(df_review))\n",
    "\n",
    "df_train = df_review[:int(0.8*len(df_review))]\n",
    "df_test = df_review[int(0.8*len(df_review)):]"
   ]
  },
  {
   "cell_type": "code",
   "execution_count": 48,
   "id": "25ddcd4d",
   "metadata": {},
   "outputs": [],
   "source": [
    "y_train = df_train['rating']"
   ]
  },
  {
   "cell_type": "code",
   "execution_count": 49,
   "id": "d4cd6ecd",
   "metadata": {},
   "outputs": [],
   "source": [
    "df_train = df_train.drop(columns=['rating_label','rating'])"
   ]
  },
  {
   "cell_type": "code",
   "execution_count": 50,
   "id": "30c4df30",
   "metadata": {},
   "outputs": [],
   "source": [
    "y_test = df_test['rating']"
   ]
  },
  {
   "cell_type": "code",
   "execution_count": 51,
   "id": "6d6310e3",
   "metadata": {},
   "outputs": [],
   "source": [
    "df_test = df_test.drop(columns=['rating_label','rating'])"
   ]
  },
  {
   "cell_type": "code",
   "execution_count": 52,
   "id": "2b641159",
   "metadata": {},
   "outputs": [
    {
     "name": "stdout",
     "output_type": "stream",
     "text": [
      "df_train shape: (18374, 48)\n",
      "df_test shape: (4594, 48)\n",
      "y_train shape: (18374,)\n",
      "y_test shape: (4594,)\n"
     ]
    }
   ],
   "source": [
    "print(\"df_train shape: {}\".format(df_train.shape))\n",
    "print(\"df_test shape: {}\".format(df_test.shape))\n",
    "print(\"y_train shape: {}\".format(y_train.shape))\n",
    "print(\"y_test shape: {}\".format(y_test.shape))"
   ]
  },
  {
   "cell_type": "markdown",
   "id": "6c37a3c1",
   "metadata": {},
   "source": [
    "### E) TF-IDF"
   ]
  },
  {
   "cell_type": "markdown",
   "id": "1e192499",
   "metadata": {},
   "source": [
    "So that the ML model won't be skewed with test data taken into account in its designing, TF-IDF will be done on df_train only.\n",
    "\n",
    "In few words, reminder of what TF_IDF is:\n",
    "Extracting features from text is to use the bag of words model: a model where for each document, a complaint narrative in our case, the presence (and often the frequency) of words is taken into consideration, but the order in which they occur is ignored.\n",
    "Specifically, for each term in our dataset, we will calculate a measure called Term Frequency, Inverse Document Frequency, abbreviated to tf-idf. We will use sklearn.feature_extraction.text.TfidfVectorizer to calculate a tf-idf vector for each of consumer complaint narratives.\n",
    "\n",
    "Due to dataset size, the number of words will be set up with 3000 maximum in the 'max_features' hyperparameter."
   ]
  },
  {
   "cell_type": "code",
   "execution_count": 53,
   "id": "01d5c445",
   "metadata": {},
   "outputs": [
    {
     "name": "stderr",
     "output_type": "stream",
     "text": [
      "/home/vb/.pyenv/versions/3.9.7/envs/artefact/lib/python3.9/site-packages/sklearn/feature_extraction/text.py:396: UserWarning: Your stop_words may be inconsistent with your preprocessing. Tokenizing the stop words generated tokens ['ll', 've'] not in stop_words.\n",
      "  warnings.warn(\n"
     ]
    }
   ],
   "source": [
    "tfidf = TfidfVectorizer(sublinear_tf=True, min_df=5, norm='l2', max_features=3000, encoding='latin-1', ngram_range=(1, 3), stop_words=stopwords)\n",
    "\n",
    "features_train = tfidf.fit_transform(df_train['preprocessed_content']).toarray()"
   ]
  },
  {
   "cell_type": "code",
   "execution_count": 54,
   "id": "1525592a",
   "metadata": {},
   "outputs": [
    {
     "data": {
      "text/plain": [
       "(18374, 3000)"
      ]
     },
     "execution_count": 54,
     "metadata": {},
     "output_type": "execute_result"
    }
   ],
   "source": [
    "features_train.shape"
   ]
  },
  {
   "cell_type": "markdown",
   "id": "2618dc65",
   "metadata": {},
   "source": [
    "On df_test, TF_IDF is created with .transform only."
   ]
  },
  {
   "cell_type": "code",
   "execution_count": 55,
   "id": "74efc332",
   "metadata": {},
   "outputs": [],
   "source": [
    "features_test = tfidf.transform(df_test['preprocessed_content']).toarray()"
   ]
  },
  {
   "cell_type": "code",
   "execution_count": 56,
   "id": "aeff26f9",
   "metadata": {},
   "outputs": [
    {
     "data": {
      "text/plain": [
       "(4594, 3000)"
      ]
     },
     "execution_count": 56,
     "metadata": {},
     "output_type": "execute_result"
    }
   ],
   "source": [
    "features_test.shape"
   ]
  },
  {
   "cell_type": "markdown",
   "id": "82289bb6",
   "metadata": {},
   "source": [
    "### F) Concatenation for Machine Learning => train dataset & test dataset"
   ]
  },
  {
   "cell_type": "markdown",
   "id": "14b8737f",
   "metadata": {},
   "source": [
    "#### Train dataset => train_df2"
   ]
  },
  {
   "cell_type": "code",
   "execution_count": 57,
   "id": "a83b30af",
   "metadata": {},
   "outputs": [],
   "source": [
    "sub_df_train = df_train[['char_count', 'word_count',\n",
    "       'sent_count', 'capital_char_count', 'capital_word_count',\n",
    "       'quoted_word_count', 'stopword_count', 'unique_word_count',\n",
    "       'htag_count', 'mention_count', 'emoji_count', 'avg_wordlength',\n",
    "       'avg_sentlength', 'unique_vs_words', 'stopwords_vs_words', '!count',\n",
    "       '#count', '$count', '%count', '&count', \"'count\", '(count', ')count',\n",
    "       '*count', '+count', ',count', '-count', '.count', '/count', ':count',\n",
    "       ';count', '<count', '=count', '>count', '?count', '@count', '[count',\n",
    "       '\\count', ']count', '^count', '_count', '`count', '{count', '|count',\n",
    "       '}count', '~count']]"
   ]
  },
  {
   "cell_type": "code",
   "execution_count": 58,
   "id": "fd24a20a",
   "metadata": {},
   "outputs": [
    {
     "data": {
      "text/plain": [
       "array([[205.,  41.,   2., ...,   0.,   0.,   0.],\n",
       "       [ 82.,  20.,   1., ...,   0.,   0.,   0.],\n",
       "       [872., 178.,  10., ...,   0.,   0.,   0.],\n",
       "       ...,\n",
       "       [ 34.,   6.,   1., ...,   0.,   0.,   0.],\n",
       "       [136.,  24.,   3., ...,   0.,   0.,   0.],\n",
       "       [116.,  22.,   4., ...,   0.,   0.,   0.]])"
      ]
     },
     "execution_count": 58,
     "metadata": {},
     "output_type": "execute_result"
    }
   ],
   "source": [
    "sub_df_train.to_numpy()"
   ]
  },
  {
   "cell_type": "code",
   "execution_count": 59,
   "id": "a33c75cf",
   "metadata": {},
   "outputs": [],
   "source": [
    "train_df2 = pd.concat([sub_df_train.reset_index(drop=True),pd.DataFrame(features_train).reset_index(drop=True)], axis=1)"
   ]
  },
  {
   "cell_type": "markdown",
   "id": "9a0f2ecd",
   "metadata": {},
   "source": [
    "#### Test dataset => test_df2"
   ]
  },
  {
   "cell_type": "code",
   "execution_count": 60,
   "id": "6ec4f912",
   "metadata": {},
   "outputs": [],
   "source": [
    "sub_df_test = df_test[['char_count', 'word_count',\n",
    "       'sent_count', 'capital_char_count', 'capital_word_count',\n",
    "       'quoted_word_count', 'stopword_count', 'unique_word_count',\n",
    "       'htag_count', 'mention_count', 'emoji_count', 'avg_wordlength',\n",
    "       'avg_sentlength', 'unique_vs_words', 'stopwords_vs_words', '!count',\n",
    "       '#count', '$count', '%count', '&count', \"'count\", '(count', ')count',\n",
    "       '*count', '+count', ',count', '-count', '.count', '/count', ':count',\n",
    "       ';count', '<count', '=count', '>count', '?count', '@count', '[count',\n",
    "       '\\count', ']count', '^count', '_count', '`count', '{count', '|count',\n",
    "       '}count', '~count']]"
   ]
  },
  {
   "cell_type": "code",
   "execution_count": 61,
   "id": "8d60db4f",
   "metadata": {},
   "outputs": [],
   "source": [
    "test_df2 = pd.concat([sub_df_test.reset_index(drop=True),pd.DataFrame(features_test).reset_index(drop=True)], axis=1)"
   ]
  },
  {
   "cell_type": "markdown",
   "id": "f3436527",
   "metadata": {},
   "source": [
    "### G)  Definition of X"
   ]
  },
  {
   "cell_type": "markdown",
   "id": "5658cdef",
   "metadata": {},
   "source": [
    "#### df_train2"
   ]
  },
  {
   "cell_type": "code",
   "execution_count": 62,
   "id": "6b6228ab",
   "metadata": {},
   "outputs": [
    {
     "data": {
      "text/plain": [
       "(18374, 3046)"
      ]
     },
     "execution_count": 62,
     "metadata": {},
     "output_type": "execute_result"
    }
   ],
   "source": [
    "X_train = train_df2 #features_train\n",
    "X_train.shape"
   ]
  },
  {
   "cell_type": "markdown",
   "id": "6577395a",
   "metadata": {},
   "source": [
    "#### df_test2"
   ]
  },
  {
   "cell_type": "code",
   "execution_count": 63,
   "id": "1762263a",
   "metadata": {},
   "outputs": [
    {
     "data": {
      "text/plain": [
       "(4594, 3046)"
      ]
     },
     "execution_count": 63,
     "metadata": {},
     "output_type": "execute_result"
    }
   ],
   "source": [
    "X_test = test_df2 #features_test\n",
    "X_test.shape"
   ]
  },
  {
   "cell_type": "markdown",
   "id": "3ce02ac7",
   "metadata": {},
   "source": [
    "### H) Reshaping Train dataset"
   ]
  },
  {
   "cell_type": "markdown",
   "id": "41683bd1",
   "metadata": {},
   "source": [
    "Since dataset is imbalanced with an over-representation of 5* reviews, has been decided to reduce the share of these reviews."
   ]
  },
  {
   "cell_type": "code",
   "execution_count": 64,
   "id": "a416be28",
   "metadata": {},
   "outputs": [
    {
     "data": {
      "text/plain": [
       "14333"
      ]
     },
     "execution_count": 64,
     "metadata": {},
     "output_type": "execute_result"
    }
   ],
   "source": [
    "# checking of nb of 5* reviews\n",
    "len(np.where(y_train==5)[0])"
   ]
  },
  {
   "cell_type": "code",
   "execution_count": 65,
   "id": "f3136faf",
   "metadata": {},
   "outputs": [],
   "source": [
    "# creation of a 'to_delete' variable storing the 10000 samples of 5* reviews\n",
    "to_delete = np.random.choice(np.where(y_train==5)[0],10000)"
   ]
  },
  {
   "cell_type": "code",
   "execution_count": 66,
   "id": "d65782f9",
   "metadata": {},
   "outputs": [
    {
     "data": {
      "text/plain": [
       "array([10255, 14992,  3237, ..., 12755, 18027,  7571])"
      ]
     },
     "execution_count": 66,
     "metadata": {},
     "output_type": "execute_result"
    }
   ],
   "source": [
    "to_delete"
   ]
  },
  {
   "cell_type": "code",
   "execution_count": 67,
   "id": "d00e7f91",
   "metadata": {},
   "outputs": [],
   "source": [
    "# creation of a 'to_keep' variable storing the reviews to be kept\n",
    "to_keep = set(range(len(X_train))) - set(to_delete)"
   ]
  },
  {
   "cell_type": "code",
   "execution_count": 68,
   "id": "734bab09",
   "metadata": {},
   "outputs": [
    {
     "name": "stderr",
     "output_type": "stream",
     "text": [
      "/home/vb/.pyenv/versions/3.9.7/envs/artefact/lib/python3.9/site-packages/pandas/core/indexes/base.py:4616: FutureWarning: Using a non-tuple sequence for multidimensional indexing is deprecated; use `arr[tuple(seq)]` instead of `arr[seq]`. In the future this will be interpreted as an array index, `arr[np.array(seq)]`, which will result either in an error or a different result.\n",
      "  result = getitem(key)\n"
     ]
    }
   ],
   "source": [
    "# storing the reshaped data in X_train_bis based on the 'to_keep' variable containing the sample to be kept\n",
    "X_train_bis =X_train.drop(X_train.index[[list(to_delete)]])"
   ]
  },
  {
   "cell_type": "code",
   "execution_count": 69,
   "id": "d9cb2413",
   "metadata": {},
   "outputs": [],
   "source": [
    "# storing the corresponding y of reshaped data in y_train_bis, based on the 'to_keep' variable containing the sample to be kept\n",
    "y_train_bis = np.array(y_train)[list(to_keep)]"
   ]
  },
  {
   "cell_type": "code",
   "execution_count": 70,
   "id": "0503eb60",
   "metadata": {},
   "outputs": [
    {
     "data": {
      "text/plain": [
       "((11180, 3046), (11180,))"
      ]
     },
     "execution_count": 70,
     "metadata": {},
     "output_type": "execute_result"
    }
   ],
   "source": [
    "# checking of the size of X_train_bis & y_train_bis\n",
    "X_train_bis.shape, y_train_bis.shape"
   ]
  },
  {
   "cell_type": "code",
   "execution_count": 71,
   "id": "066ee2c0",
   "metadata": {},
   "outputs": [
    {
     "data": {
      "text/html": [
       "<div>\n",
       "<style scoped>\n",
       "    .dataframe tbody tr th:only-of-type {\n",
       "        vertical-align: middle;\n",
       "    }\n",
       "\n",
       "    .dataframe tbody tr th {\n",
       "        vertical-align: top;\n",
       "    }\n",
       "\n",
       "    .dataframe thead th {\n",
       "        text-align: right;\n",
       "    }\n",
       "</style>\n",
       "<table border=\"1\" class=\"dataframe\">\n",
       "  <thead>\n",
       "    <tr style=\"text-align: right;\">\n",
       "      <th></th>\n",
       "      <th>char_count</th>\n",
       "      <th>word_count</th>\n",
       "      <th>sent_count</th>\n",
       "      <th>capital_char_count</th>\n",
       "      <th>capital_word_count</th>\n",
       "      <th>quoted_word_count</th>\n",
       "      <th>stopword_count</th>\n",
       "      <th>unique_word_count</th>\n",
       "      <th>htag_count</th>\n",
       "      <th>mention_count</th>\n",
       "      <th>...</th>\n",
       "      <th>2990</th>\n",
       "      <th>2991</th>\n",
       "      <th>2992</th>\n",
       "      <th>2993</th>\n",
       "      <th>2994</th>\n",
       "      <th>2995</th>\n",
       "      <th>2996</th>\n",
       "      <th>2997</th>\n",
       "      <th>2998</th>\n",
       "      <th>2999</th>\n",
       "    </tr>\n",
       "  </thead>\n",
       "  <tbody>\n",
       "    <tr>\n",
       "      <th>2</th>\n",
       "      <td>872</td>\n",
       "      <td>178</td>\n",
       "      <td>10</td>\n",
       "      <td>29</td>\n",
       "      <td>9</td>\n",
       "      <td>0</td>\n",
       "      <td>99</td>\n",
       "      <td>117</td>\n",
       "      <td>0</td>\n",
       "      <td>0</td>\n",
       "      <td>...</td>\n",
       "      <td>0.0</td>\n",
       "      <td>0.0</td>\n",
       "      <td>0.0</td>\n",
       "      <td>0.0</td>\n",
       "      <td>0.0</td>\n",
       "      <td>0.0</td>\n",
       "      <td>0.0</td>\n",
       "      <td>0.0</td>\n",
       "      <td>0.0</td>\n",
       "      <td>0.0</td>\n",
       "    </tr>\n",
       "    <tr>\n",
       "      <th>5</th>\n",
       "      <td>23</td>\n",
       "      <td>4</td>\n",
       "      <td>1</td>\n",
       "      <td>1</td>\n",
       "      <td>0</td>\n",
       "      <td>0</td>\n",
       "      <td>0</td>\n",
       "      <td>4</td>\n",
       "      <td>0</td>\n",
       "      <td>0</td>\n",
       "      <td>...</td>\n",
       "      <td>0.0</td>\n",
       "      <td>0.0</td>\n",
       "      <td>0.0</td>\n",
       "      <td>0.0</td>\n",
       "      <td>0.0</td>\n",
       "      <td>0.0</td>\n",
       "      <td>0.0</td>\n",
       "      <td>0.0</td>\n",
       "      <td>0.0</td>\n",
       "      <td>0.0</td>\n",
       "    </tr>\n",
       "    <tr>\n",
       "      <th>7</th>\n",
       "      <td>9</td>\n",
       "      <td>2</td>\n",
       "      <td>1</td>\n",
       "      <td>0</td>\n",
       "      <td>0</td>\n",
       "      <td>0</td>\n",
       "      <td>0</td>\n",
       "      <td>2</td>\n",
       "      <td>0</td>\n",
       "      <td>0</td>\n",
       "      <td>...</td>\n",
       "      <td>0.0</td>\n",
       "      <td>0.0</td>\n",
       "      <td>0.0</td>\n",
       "      <td>0.0</td>\n",
       "      <td>0.0</td>\n",
       "      <td>0.0</td>\n",
       "      <td>0.0</td>\n",
       "      <td>0.0</td>\n",
       "      <td>0.0</td>\n",
       "      <td>0.0</td>\n",
       "    </tr>\n",
       "    <tr>\n",
       "      <th>8</th>\n",
       "      <td>37</td>\n",
       "      <td>9</td>\n",
       "      <td>1</td>\n",
       "      <td>0</td>\n",
       "      <td>0</td>\n",
       "      <td>0</td>\n",
       "      <td>5</td>\n",
       "      <td>8</td>\n",
       "      <td>0</td>\n",
       "      <td>0</td>\n",
       "      <td>...</td>\n",
       "      <td>0.0</td>\n",
       "      <td>0.0</td>\n",
       "      <td>0.0</td>\n",
       "      <td>0.0</td>\n",
       "      <td>0.0</td>\n",
       "      <td>0.0</td>\n",
       "      <td>0.0</td>\n",
       "      <td>0.0</td>\n",
       "      <td>0.0</td>\n",
       "      <td>0.0</td>\n",
       "    </tr>\n",
       "    <tr>\n",
       "      <th>9</th>\n",
       "      <td>21</td>\n",
       "      <td>4</td>\n",
       "      <td>1</td>\n",
       "      <td>1</td>\n",
       "      <td>0</td>\n",
       "      <td>0</td>\n",
       "      <td>1</td>\n",
       "      <td>4</td>\n",
       "      <td>0</td>\n",
       "      <td>0</td>\n",
       "      <td>...</td>\n",
       "      <td>0.0</td>\n",
       "      <td>0.0</td>\n",
       "      <td>0.0</td>\n",
       "      <td>0.0</td>\n",
       "      <td>0.0</td>\n",
       "      <td>0.0</td>\n",
       "      <td>0.0</td>\n",
       "      <td>0.0</td>\n",
       "      <td>0.0</td>\n",
       "      <td>0.0</td>\n",
       "    </tr>\n",
       "  </tbody>\n",
       "</table>\n",
       "<p>5 rows × 3046 columns</p>\n",
       "</div>"
      ],
      "text/plain": [
       "   char_count  word_count  sent_count  capital_char_count  capital_word_count  \\\n",
       "2         872         178          10                  29                   9   \n",
       "5          23           4           1                   1                   0   \n",
       "7           9           2           1                   0                   0   \n",
       "8          37           9           1                   0                   0   \n",
       "9          21           4           1                   1                   0   \n",
       "\n",
       "   quoted_word_count  stopword_count  unique_word_count  htag_count  \\\n",
       "2                  0              99                117           0   \n",
       "5                  0               0                  4           0   \n",
       "7                  0               0                  2           0   \n",
       "8                  0               5                  8           0   \n",
       "9                  0               1                  4           0   \n",
       "\n",
       "   mention_count  ...  2990  2991  2992  2993  2994  2995  2996  2997  2998  \\\n",
       "2              0  ...   0.0   0.0   0.0   0.0   0.0   0.0   0.0   0.0   0.0   \n",
       "5              0  ...   0.0   0.0   0.0   0.0   0.0   0.0   0.0   0.0   0.0   \n",
       "7              0  ...   0.0   0.0   0.0   0.0   0.0   0.0   0.0   0.0   0.0   \n",
       "8              0  ...   0.0   0.0   0.0   0.0   0.0   0.0   0.0   0.0   0.0   \n",
       "9              0  ...   0.0   0.0   0.0   0.0   0.0   0.0   0.0   0.0   0.0   \n",
       "\n",
       "   2999  \n",
       "2   0.0  \n",
       "5   0.0  \n",
       "7   0.0  \n",
       "8   0.0  \n",
       "9   0.0  \n",
       "\n",
       "[5 rows x 3046 columns]"
      ]
     },
     "execution_count": 71,
     "metadata": {},
     "output_type": "execute_result"
    }
   ],
   "source": [
    "X_train_bis.head()"
   ]
  },
  {
   "cell_type": "markdown",
   "id": "af641df0",
   "metadata": {},
   "source": [
    "### I) N-grams"
   ]
  },
  {
   "cell_type": "markdown",
   "id": "8f96a2f4",
   "metadata": {},
   "source": [
    "We can use sklearn.feature_selection.chi2 to find the terms that are the most correlated with each of the rating_label:"
   ]
  },
  {
   "cell_type": "code",
   "execution_count": 72,
   "id": "9feda68e",
   "metadata": {
    "tags": []
   },
   "outputs": [
    {
     "name": "stdout",
     "output_type": "stream",
     "text": [
      "# '1' star :\n",
      "  . Most correlated unigrams:\n",
      ". cancelled\n",
      ". useless\n",
      ". sold\n",
      ". no\n",
      ". rubbish\n",
      "  . Most correlated bigrams:\n",
      ". time money\n",
      ". order cancelled\n",
      ". not worth\n",
      ". doesnt work\n",
      ". waste time\n",
      "  . Most correlated trigrams:\n",
      ". no matter time\n",
      ". no food left\n",
      ". dont waste time\n",
      ". waste time money\n",
      ". complete waste time\n",
      "# '2' star :\n",
      "  . Most correlated unigrams:\n",
      ". mile\n",
      ". poor\n",
      ". not\n",
      ". no\n",
      ". but\n",
      "  . Most correlated bigrams:\n",
      ". mile away\n",
      ". not worth\n",
      ". nice idea\n",
      ". concept but\n",
      ". idea but\n",
      "  . Most correlated trigrams:\n",
      ". great concept but\n",
      ". good idea but\n",
      ". good concept but\n",
      ". great idea but\n",
      ". nice idea but\n",
      "# '3' star :\n",
      "  . Most correlated unigrams:\n",
      ". not\n",
      ". option\n",
      ". translate\n",
      ". available\n",
      ". but\n",
      "  . Most correlated bigrams:\n",
      ". but app\n",
      ". good but\n",
      ". cancel order\n",
      ". concept but\n",
      ". idea but\n",
      "  . Most correlated trigrams:\n",
      ". good app but\n",
      ". good concept but\n",
      ". great concept but\n",
      ". good idea but\n",
      ". great idea but\n",
      "# '4' star :\n",
      "  . Most correlated unigrams:\n",
      ". rating\n",
      ". search\n",
      ". option\n",
      ". but\n",
      ". notification\n",
      "  . Most correlated bigrams:\n",
      ". store area\n",
      ". notification favourite\n",
      ". good app\n",
      ". good but\n",
      ". app but\n",
      "  . Most correlated trigrams:\n",
      ". love idea app\n",
      ". great concept but\n",
      ". love idea but\n",
      ". good app but\n",
      ". great app but\n",
      "# '5' star :\n",
      "  . Most correlated unigrams:\n",
      ". sold\n",
      ". available\n",
      ". no\n",
      ". not\n",
      ". but\n",
      "  . Most correlated bigrams:\n",
      ". good but\n",
      ". not worth\n",
      ". concept but\n",
      ". waste time\n",
      ". idea but\n",
      "  . Most correlated trigrams:\n",
      ". waste time money\n",
      ". good concept but\n",
      ". great concept but\n",
      ". good idea but\n",
      ". great idea but\n"
     ]
    }
   ],
   "source": [
    "N = 5 #top x associated words to be displayed\n",
    "for rating_label, rating in sorted(ratinglabel1_to_id.items()):\n",
    "    features_chi2= chi2(features_train, y_train==rating)\n",
    "    indices = np.argsort(features_chi2[0])\n",
    "    feature_names = np.array(tfidf.get_feature_names_out())[indices]\n",
    "    unigrams = [v for v in feature_names if len(v.split(' ')) == 1]\n",
    "    bigrams = [v for v in feature_names if len(v.split(' ')) == 2]\n",
    "    trigrams = [v for v in feature_names if len(v.split(' ')) == 3]\n",
    "    \n",
    "    print(\"# '{}' star :\".format(rating))\n",
    "    print(\"  . Most correlated unigrams:\\n. {}\".format('\\n. '.join(unigrams[-N:])))\n",
    "    print(\"  . Most correlated bigrams:\\n. {}\".format('\\n. '.join(bigrams[-N:])))\n",
    "    print(\"  . Most correlated trigrams:\\n. {}\".format('\\n. '.join(trigrams[-N:])))"
   ]
  },
  {
   "cell_type": "markdown",
   "id": "9d09255a",
   "metadata": {},
   "source": [
    "# Phase 2 => Topic Classification"
   ]
  },
  {
   "cell_type": "markdown",
   "id": "9ed16443",
   "metadata": {},
   "source": [
    "### Step 1 - Checking of balanced distribution of dataset"
   ]
  },
  {
   "cell_type": "code",
   "execution_count": 73,
   "id": "f5958d8e",
   "metadata": {},
   "outputs": [
    {
     "data": {
      "text/plain": [
       "5    78.006966\n",
       "1     8.386851\n",
       "4     7.390878\n",
       "3     3.597475\n",
       "2     2.617830\n",
       "Name: rating, dtype: float64"
      ]
     },
     "execution_count": 73,
     "metadata": {},
     "output_type": "execute_result"
    }
   ],
   "source": [
    "y_train.value_counts()/y_train.shape[0]*100"
   ]
  },
  {
   "cell_type": "code",
   "execution_count": 74,
   "id": "3b63e265",
   "metadata": {},
   "outputs": [
    {
     "data": {
      "text/plain": [
       "5    77.361776\n",
       "1     9.360035\n",
       "4     7.205050\n",
       "3     3.548106\n",
       "2     2.525033\n",
       "Name: rating, dtype: float64"
      ]
     },
     "execution_count": 74,
     "metadata": {},
     "output_type": "execute_result"
    }
   ],
   "source": [
    "y_test.value_counts()/y_test.shape[0]*100"
   ]
  },
  {
   "cell_type": "markdown",
   "id": "793bab0f",
   "metadata": {},
   "source": [
    "### Step 2 - Machine Learning Classifications applied"
   ]
  },
  {
   "cell_type": "markdown",
   "id": "abd5536a",
   "metadata": {},
   "source": [
    "We are now ready to experiment with different machine learning models, evaluate their accuracy and find the source of any potential issues.\n",
    "\n",
    "We will benchmark the following 5 models:\n",
    "\n",
    "- Logistic Regression\n",
    "- (Multinomial) Naive Bayes\n",
    "- Linear Support Vector Machine\n",
    "- Random Forest\n",
    "- K-Nearest Neighbor (KNN)"
   ]
  },
  {
   "cell_type": "code",
   "execution_count": 75,
   "id": "2fc69fb2",
   "metadata": {},
   "outputs": [
    {
     "name": "stderr",
     "output_type": "stream",
     "text": [
      "/home/vb/.pyenv/versions/3.9.7/envs/artefact/lib/python3.9/site-packages/sklearn/utils/validation.py:1673: FutureWarning: Feature names only support names that are all strings. Got feature names with dtypes: ['int', 'str']. An error will be raised in 1.2.\n",
      "  warnings.warn(\n",
      "/home/vb/.pyenv/versions/3.9.7/envs/artefact/lib/python3.9/site-packages/sklearn/utils/validation.py:1673: FutureWarning: Feature names only support names that are all strings. Got feature names with dtypes: ['int', 'str']. An error will be raised in 1.2.\n",
      "  warnings.warn(\n",
      "/home/vb/.pyenv/versions/3.9.7/envs/artefact/lib/python3.9/site-packages/sklearn/utils/validation.py:1673: FutureWarning: Feature names only support names that are all strings. Got feature names with dtypes: ['int', 'str']. An error will be raised in 1.2.\n",
      "  warnings.warn(\n",
      "/home/vb/.pyenv/versions/3.9.7/envs/artefact/lib/python3.9/site-packages/sklearn/utils/validation.py:1673: FutureWarning: Feature names only support names that are all strings. Got feature names with dtypes: ['int', 'str']. An error will be raised in 1.2.\n",
      "  warnings.warn(\n",
      "/home/vb/.pyenv/versions/3.9.7/envs/artefact/lib/python3.9/site-packages/sklearn/utils/validation.py:1673: FutureWarning: Feature names only support names that are all strings. Got feature names with dtypes: ['int', 'str']. An error will be raised in 1.2.\n",
      "  warnings.warn(\n",
      "/home/vb/.pyenv/versions/3.9.7/envs/artefact/lib/python3.9/site-packages/sklearn/utils/validation.py:1673: FutureWarning: Feature names only support names that are all strings. Got feature names with dtypes: ['int', 'str']. An error will be raised in 1.2.\n",
      "  warnings.warn(\n",
      "/home/vb/.pyenv/versions/3.9.7/envs/artefact/lib/python3.9/site-packages/sklearn/utils/validation.py:1673: FutureWarning: Feature names only support names that are all strings. Got feature names with dtypes: ['int', 'str']. An error will be raised in 1.2.\n",
      "  warnings.warn(\n",
      "/home/vb/.pyenv/versions/3.9.7/envs/artefact/lib/python3.9/site-packages/sklearn/utils/validation.py:1673: FutureWarning: Feature names only support names that are all strings. Got feature names with dtypes: ['int', 'str']. An error will be raised in 1.2.\n",
      "  warnings.warn(\n",
      "/home/vb/.pyenv/versions/3.9.7/envs/artefact/lib/python3.9/site-packages/sklearn/utils/validation.py:1673: FutureWarning: Feature names only support names that are all strings. Got feature names with dtypes: ['int', 'str']. An error will be raised in 1.2.\n",
      "  warnings.warn(\n",
      "/home/vb/.pyenv/versions/3.9.7/envs/artefact/lib/python3.9/site-packages/sklearn/utils/validation.py:1673: FutureWarning: Feature names only support names that are all strings. Got feature names with dtypes: ['int', 'str']. An error will be raised in 1.2.\n",
      "  warnings.warn(\n",
      "/home/vb/.pyenv/versions/3.9.7/envs/artefact/lib/python3.9/site-packages/sklearn/utils/validation.py:1673: FutureWarning: Feature names only support names that are all strings. Got feature names with dtypes: ['int', 'str']. An error will be raised in 1.2.\n",
      "  warnings.warn(\n",
      "/home/vb/.pyenv/versions/3.9.7/envs/artefact/lib/python3.9/site-packages/sklearn/utils/validation.py:1673: FutureWarning: Feature names only support names that are all strings. Got feature names with dtypes: ['int', 'str']. An error will be raised in 1.2.\n",
      "  warnings.warn(\n",
      "/home/vb/.pyenv/versions/3.9.7/envs/artefact/lib/python3.9/site-packages/sklearn/utils/validation.py:1673: FutureWarning: Feature names only support names that are all strings. Got feature names with dtypes: ['int', 'str']. An error will be raised in 1.2.\n",
      "  warnings.warn(\n",
      "/home/vb/.pyenv/versions/3.9.7/envs/artefact/lib/python3.9/site-packages/sklearn/utils/validation.py:1673: FutureWarning: Feature names only support names that are all strings. Got feature names with dtypes: ['int', 'str']. An error will be raised in 1.2.\n",
      "  warnings.warn(\n",
      "/home/vb/.pyenv/versions/3.9.7/envs/artefact/lib/python3.9/site-packages/sklearn/utils/validation.py:1673: FutureWarning: Feature names only support names that are all strings. Got feature names with dtypes: ['int', 'str']. An error will be raised in 1.2.\n",
      "  warnings.warn(\n",
      "/home/vb/.pyenv/versions/3.9.7/envs/artefact/lib/python3.9/site-packages/sklearn/utils/validation.py:1673: FutureWarning: Feature names only support names that are all strings. Got feature names with dtypes: ['int', 'str']. An error will be raised in 1.2.\n",
      "  warnings.warn(\n",
      "/home/vb/.pyenv/versions/3.9.7/envs/artefact/lib/python3.9/site-packages/sklearn/utils/validation.py:1673: FutureWarning: Feature names only support names that are all strings. Got feature names with dtypes: ['int', 'str']. An error will be raised in 1.2.\n",
      "  warnings.warn(\n",
      "/home/vb/.pyenv/versions/3.9.7/envs/artefact/lib/python3.9/site-packages/sklearn/utils/validation.py:1673: FutureWarning: Feature names only support names that are all strings. Got feature names with dtypes: ['int', 'str']. An error will be raised in 1.2.\n",
      "  warnings.warn(\n",
      "/home/vb/.pyenv/versions/3.9.7/envs/artefact/lib/python3.9/site-packages/sklearn/utils/validation.py:1673: FutureWarning: Feature names only support names that are all strings. Got feature names with dtypes: ['int', 'str']. An error will be raised in 1.2.\n",
      "  warnings.warn(\n",
      "/home/vb/.pyenv/versions/3.9.7/envs/artefact/lib/python3.9/site-packages/sklearn/utils/validation.py:1673: FutureWarning: Feature names only support names that are all strings. Got feature names with dtypes: ['int', 'str']. An error will be raised in 1.2.\n",
      "  warnings.warn(\n",
      "/home/vb/.pyenv/versions/3.9.7/envs/artefact/lib/python3.9/site-packages/sklearn/utils/validation.py:1673: FutureWarning: Feature names only support names that are all strings. Got feature names with dtypes: ['int', 'str']. An error will be raised in 1.2.\n",
      "  warnings.warn(\n",
      "/home/vb/.pyenv/versions/3.9.7/envs/artefact/lib/python3.9/site-packages/sklearn/svm/_base.py:1199: ConvergenceWarning: Liblinear failed to converge, increase the number of iterations.\n",
      "  warnings.warn(\n",
      "/home/vb/.pyenv/versions/3.9.7/envs/artefact/lib/python3.9/site-packages/sklearn/utils/validation.py:1673: FutureWarning: Feature names only support names that are all strings. Got feature names with dtypes: ['int', 'str']. An error will be raised in 1.2.\n",
      "  warnings.warn(\n",
      "/home/vb/.pyenv/versions/3.9.7/envs/artefact/lib/python3.9/site-packages/sklearn/utils/validation.py:1673: FutureWarning: Feature names only support names that are all strings. Got feature names with dtypes: ['int', 'str']. An error will be raised in 1.2.\n",
      "  warnings.warn(\n",
      "/home/vb/.pyenv/versions/3.9.7/envs/artefact/lib/python3.9/site-packages/sklearn/svm/_base.py:1199: ConvergenceWarning: Liblinear failed to converge, increase the number of iterations.\n",
      "  warnings.warn(\n",
      "/home/vb/.pyenv/versions/3.9.7/envs/artefact/lib/python3.9/site-packages/sklearn/utils/validation.py:1673: FutureWarning: Feature names only support names that are all strings. Got feature names with dtypes: ['int', 'str']. An error will be raised in 1.2.\n",
      "  warnings.warn(\n",
      "/home/vb/.pyenv/versions/3.9.7/envs/artefact/lib/python3.9/site-packages/sklearn/utils/validation.py:1673: FutureWarning: Feature names only support names that are all strings. Got feature names with dtypes: ['int', 'str']. An error will be raised in 1.2.\n",
      "  warnings.warn(\n",
      "/home/vb/.pyenv/versions/3.9.7/envs/artefact/lib/python3.9/site-packages/sklearn/svm/_base.py:1199: ConvergenceWarning: Liblinear failed to converge, increase the number of iterations.\n",
      "  warnings.warn(\n",
      "/home/vb/.pyenv/versions/3.9.7/envs/artefact/lib/python3.9/site-packages/sklearn/utils/validation.py:1673: FutureWarning: Feature names only support names that are all strings. Got feature names with dtypes: ['int', 'str']. An error will be raised in 1.2.\n",
      "  warnings.warn(\n",
      "/home/vb/.pyenv/versions/3.9.7/envs/artefact/lib/python3.9/site-packages/sklearn/utils/validation.py:1673: FutureWarning: Feature names only support names that are all strings. Got feature names with dtypes: ['int', 'str']. An error will be raised in 1.2.\n",
      "  warnings.warn(\n",
      "/home/vb/.pyenv/versions/3.9.7/envs/artefact/lib/python3.9/site-packages/sklearn/svm/_base.py:1199: ConvergenceWarning: Liblinear failed to converge, increase the number of iterations.\n",
      "  warnings.warn(\n",
      "/home/vb/.pyenv/versions/3.9.7/envs/artefact/lib/python3.9/site-packages/sklearn/utils/validation.py:1673: FutureWarning: Feature names only support names that are all strings. Got feature names with dtypes: ['int', 'str']. An error will be raised in 1.2.\n",
      "  warnings.warn(\n"
     ]
    },
    {
     "name": "stderr",
     "output_type": "stream",
     "text": [
      "/home/vb/.pyenv/versions/3.9.7/envs/artefact/lib/python3.9/site-packages/sklearn/utils/validation.py:1673: FutureWarning: Feature names only support names that are all strings. Got feature names with dtypes: ['int', 'str']. An error will be raised in 1.2.\n",
      "  warnings.warn(\n",
      "/home/vb/.pyenv/versions/3.9.7/envs/artefact/lib/python3.9/site-packages/sklearn/svm/_base.py:1199: ConvergenceWarning: Liblinear failed to converge, increase the number of iterations.\n",
      "  warnings.warn(\n",
      "/home/vb/.pyenv/versions/3.9.7/envs/artefact/lib/python3.9/site-packages/sklearn/utils/validation.py:1673: FutureWarning: Feature names only support names that are all strings. Got feature names with dtypes: ['int', 'str']. An error will be raised in 1.2.\n",
      "  warnings.warn(\n",
      "/home/vb/.pyenv/versions/3.9.7/envs/artefact/lib/python3.9/site-packages/sklearn/utils/validation.py:1673: FutureWarning: Feature names only support names that are all strings. Got feature names with dtypes: ['int', 'str']. An error will be raised in 1.2.\n",
      "  warnings.warn(\n",
      "/home/vb/.pyenv/versions/3.9.7/envs/artefact/lib/python3.9/site-packages/sklearn/utils/validation.py:1673: FutureWarning: Feature names only support names that are all strings. Got feature names with dtypes: ['int', 'str']. An error will be raised in 1.2.\n",
      "  warnings.warn(\n",
      "/home/vb/.pyenv/versions/3.9.7/envs/artefact/lib/python3.9/site-packages/sklearn/utils/validation.py:1673: FutureWarning: Feature names only support names that are all strings. Got feature names with dtypes: ['int', 'str']. An error will be raised in 1.2.\n",
      "  warnings.warn(\n",
      "/home/vb/.pyenv/versions/3.9.7/envs/artefact/lib/python3.9/site-packages/sklearn/utils/validation.py:1673: FutureWarning: Feature names only support names that are all strings. Got feature names with dtypes: ['int', 'str']. An error will be raised in 1.2.\n",
      "  warnings.warn(\n",
      "/home/vb/.pyenv/versions/3.9.7/envs/artefact/lib/python3.9/site-packages/sklearn/utils/validation.py:1673: FutureWarning: Feature names only support names that are all strings. Got feature names with dtypes: ['int', 'str']. An error will be raised in 1.2.\n",
      "  warnings.warn(\n",
      "/home/vb/.pyenv/versions/3.9.7/envs/artefact/lib/python3.9/site-packages/sklearn/utils/validation.py:1673: FutureWarning: Feature names only support names that are all strings. Got feature names with dtypes: ['int', 'str']. An error will be raised in 1.2.\n",
      "  warnings.warn(\n",
      "/home/vb/.pyenv/versions/3.9.7/envs/artefact/lib/python3.9/site-packages/sklearn/utils/validation.py:1673: FutureWarning: Feature names only support names that are all strings. Got feature names with dtypes: ['int', 'str']. An error will be raised in 1.2.\n",
      "  warnings.warn(\n",
      "/home/vb/.pyenv/versions/3.9.7/envs/artefact/lib/python3.9/site-packages/sklearn/utils/validation.py:1673: FutureWarning: Feature names only support names that are all strings. Got feature names with dtypes: ['int', 'str']. An error will be raised in 1.2.\n",
      "  warnings.warn(\n",
      "/home/vb/.pyenv/versions/3.9.7/envs/artefact/lib/python3.9/site-packages/sklearn/utils/validation.py:1673: FutureWarning: Feature names only support names that are all strings. Got feature names with dtypes: ['int', 'str']. An error will be raised in 1.2.\n",
      "  warnings.warn(\n",
      "/home/vb/.pyenv/versions/3.9.7/envs/artefact/lib/python3.9/site-packages/sklearn/utils/validation.py:1673: FutureWarning: Feature names only support names that are all strings. Got feature names with dtypes: ['int', 'str']. An error will be raised in 1.2.\n",
      "  warnings.warn(\n",
      "/home/vb/.pyenv/versions/3.9.7/envs/artefact/lib/python3.9/site-packages/sklearn/utils/validation.py:1673: FutureWarning: Feature names only support names that are all strings. Got feature names with dtypes: ['int', 'str']. An error will be raised in 1.2.\n",
      "  warnings.warn(\n",
      "/home/vb/.pyenv/versions/3.9.7/envs/artefact/lib/python3.9/site-packages/sklearn/linear_model/_logistic.py:814: ConvergenceWarning: lbfgs failed to converge (status=1):\n",
      "STOP: TOTAL NO. of ITERATIONS REACHED LIMIT.\n",
      "\n",
      "Increase the number of iterations (max_iter) or scale the data as shown in:\n",
      "    https://scikit-learn.org/stable/modules/preprocessing.html\n",
      "Please also refer to the documentation for alternative solver options:\n",
      "    https://scikit-learn.org/stable/modules/linear_model.html#logistic-regression\n",
      "  n_iter_i = _check_optimize_result(\n",
      "/home/vb/.pyenv/versions/3.9.7/envs/artefact/lib/python3.9/site-packages/sklearn/utils/validation.py:1673: FutureWarning: Feature names only support names that are all strings. Got feature names with dtypes: ['int', 'str']. An error will be raised in 1.2.\n",
      "  warnings.warn(\n",
      "/home/vb/.pyenv/versions/3.9.7/envs/artefact/lib/python3.9/site-packages/sklearn/utils/validation.py:1673: FutureWarning: Feature names only support names that are all strings. Got feature names with dtypes: ['int', 'str']. An error will be raised in 1.2.\n",
      "  warnings.warn(\n",
      "/home/vb/.pyenv/versions/3.9.7/envs/artefact/lib/python3.9/site-packages/sklearn/linear_model/_logistic.py:814: ConvergenceWarning: lbfgs failed to converge (status=1):\n",
      "STOP: TOTAL NO. of ITERATIONS REACHED LIMIT.\n",
      "\n",
      "Increase the number of iterations (max_iter) or scale the data as shown in:\n",
      "    https://scikit-learn.org/stable/modules/preprocessing.html\n",
      "Please also refer to the documentation for alternative solver options:\n",
      "    https://scikit-learn.org/stable/modules/linear_model.html#logistic-regression\n",
      "  n_iter_i = _check_optimize_result(\n",
      "/home/vb/.pyenv/versions/3.9.7/envs/artefact/lib/python3.9/site-packages/sklearn/utils/validation.py:1673: FutureWarning: Feature names only support names that are all strings. Got feature names with dtypes: ['int', 'str']. An error will be raised in 1.2.\n",
      "  warnings.warn(\n",
      "/home/vb/.pyenv/versions/3.9.7/envs/artefact/lib/python3.9/site-packages/sklearn/utils/validation.py:1673: FutureWarning: Feature names only support names that are all strings. Got feature names with dtypes: ['int', 'str']. An error will be raised in 1.2.\n",
      "  warnings.warn(\n",
      "/home/vb/.pyenv/versions/3.9.7/envs/artefact/lib/python3.9/site-packages/sklearn/linear_model/_logistic.py:814: ConvergenceWarning: lbfgs failed to converge (status=1):\n",
      "STOP: TOTAL NO. of ITERATIONS REACHED LIMIT.\n",
      "\n",
      "Increase the number of iterations (max_iter) or scale the data as shown in:\n",
      "    https://scikit-learn.org/stable/modules/preprocessing.html\n",
      "Please also refer to the documentation for alternative solver options:\n",
      "    https://scikit-learn.org/stable/modules/linear_model.html#logistic-regression\n",
      "  n_iter_i = _check_optimize_result(\n",
      "/home/vb/.pyenv/versions/3.9.7/envs/artefact/lib/python3.9/site-packages/sklearn/utils/validation.py:1673: FutureWarning: Feature names only support names that are all strings. Got feature names with dtypes: ['int', 'str']. An error will be raised in 1.2.\n",
      "  warnings.warn(\n",
      "/home/vb/.pyenv/versions/3.9.7/envs/artefact/lib/python3.9/site-packages/sklearn/utils/validation.py:1673: FutureWarning: Feature names only support names that are all strings. Got feature names with dtypes: ['int', 'str']. An error will be raised in 1.2.\n",
      "  warnings.warn(\n",
      "/home/vb/.pyenv/versions/3.9.7/envs/artefact/lib/python3.9/site-packages/sklearn/linear_model/_logistic.py:814: ConvergenceWarning: lbfgs failed to converge (status=1):\n",
      "STOP: TOTAL NO. of ITERATIONS REACHED LIMIT.\n",
      "\n",
      "Increase the number of iterations (max_iter) or scale the data as shown in:\n",
      "    https://scikit-learn.org/stable/modules/preprocessing.html\n",
      "Please also refer to the documentation for alternative solver options:\n",
      "    https://scikit-learn.org/stable/modules/linear_model.html#logistic-regression\n",
      "  n_iter_i = _check_optimize_result(\n",
      "/home/vb/.pyenv/versions/3.9.7/envs/artefact/lib/python3.9/site-packages/sklearn/utils/validation.py:1673: FutureWarning: Feature names only support names that are all strings. Got feature names with dtypes: ['int', 'str']. An error will be raised in 1.2.\n",
      "  warnings.warn(\n",
      "/home/vb/.pyenv/versions/3.9.7/envs/artefact/lib/python3.9/site-packages/sklearn/utils/validation.py:1673: FutureWarning: Feature names only support names that are all strings. Got feature names with dtypes: ['int', 'str']. An error will be raised in 1.2.\n",
      "  warnings.warn(\n",
      "/home/vb/.pyenv/versions/3.9.7/envs/artefact/lib/python3.9/site-packages/sklearn/linear_model/_logistic.py:814: ConvergenceWarning: lbfgs failed to converge (status=1):\n",
      "STOP: TOTAL NO. of ITERATIONS REACHED LIMIT.\n",
      "\n",
      "Increase the number of iterations (max_iter) or scale the data as shown in:\n",
      "    https://scikit-learn.org/stable/modules/preprocessing.html\n",
      "Please also refer to the documentation for alternative solver options:\n",
      "    https://scikit-learn.org/stable/modules/linear_model.html#logistic-regression\n",
      "  n_iter_i = _check_optimize_result(\n",
      "/home/vb/.pyenv/versions/3.9.7/envs/artefact/lib/python3.9/site-packages/sklearn/utils/validation.py:1673: FutureWarning: Feature names only support names that are all strings. Got feature names with dtypes: ['int', 'str']. An error will be raised in 1.2.\n",
      "  warnings.warn(\n"
     ]
    },
    {
     "data": {
      "image/png": "[encoded data removed]",
      "text/plain": [
       "<Figure size 432x288 with 1 Axes>"
      ]
     },
     "metadata": {
      "needs_background": "light"
     },
     "output_type": "display_data"
    }
   ],
   "source": [
    "models = [\n",
    "    RandomForestClassifier(n_estimators=200, max_depth=3, random_state=0),\n",
    "    KNeighborsClassifier(n_neighbors = 5),\n",
    "    LinearSVC(),\n",
    "    MultinomialNB(),\n",
    "    LogisticRegression(random_state=0),\n",
    "]\n",
    "\n",
    "CV = 5 #nb of model\n",
    "cv_df = pd.DataFrame(index=range(CV * len(models)))\n",
    "entries = []\n",
    "\n",
    "for model in models:\n",
    "    model_name = model.__class__.__name__\n",
    "    accuracies = cross_val_score(model, X_train_bis, y_train_bis, scoring='accuracy', cv=CV)\n",
    "    for fold_idx, accuracy in enumerate(accuracies):\n",
    "        entries.append((model_name, fold_idx, accuracy))\n",
    "        \n",
    "cv_df = pd.DataFrame(entries, columns=['model_name', 'fold_idx', 'accuracy'])\n",
    "\n",
    "\n",
    "\n",
    "sns.boxplot(x='model_name', y='accuracy', data=cv_df)\n",
    "sns.stripplot(x='model_name', y='accuracy', data=cv_df, \n",
    "              size=8, jitter=True, edgecolor=\"gray\", linewidth=2)\n",
    "plt.show()"
   ]
  },
  {
   "cell_type": "code",
   "execution_count": 76,
   "id": "f7e2b1fe",
   "metadata": {},
   "outputs": [
    {
     "data": {
      "text/plain": [
       "model_name\n",
       "KNeighborsClassifier      0.603041\n",
       "LinearSVC                 0.620036\n",
       "LogisticRegression        0.651521\n",
       "MultinomialNB             0.656082\n",
       "RandomForestClassifier    0.638551\n",
       "Name: accuracy, dtype: float64"
      ]
     },
     "execution_count": 76,
     "metadata": {},
     "output_type": "execute_result"
    }
   ],
   "source": [
    "cv_df.groupby('model_name').accuracy.mean()"
   ]
  },
  {
   "cell_type": "markdown",
   "id": "3788a55d",
   "metadata": {},
   "source": [
    "### Step 3 - Performance Machine Learning Classification models comparison"
   ]
  },
  {
   "cell_type": "markdown",
   "id": "c1bb0c69",
   "metadata": {},
   "source": [
    "4 models seem to perform well : SVC, Logistic regression, Naive Bayes, Random Forest.\n",
    "We are going to look deeper in their performance."
   ]
  },
  {
   "cell_type": "code",
   "execution_count": 77,
   "id": "4ab531eb",
   "metadata": {},
   "outputs": [
    {
     "name": "stderr",
     "output_type": "stream",
     "text": [
      "/home/vb/.pyenv/versions/3.9.7/envs/artefact/lib/python3.9/site-packages/sklearn/utils/validation.py:1673: FutureWarning: Feature names only support names that are all strings. Got feature names with dtypes: ['int', 'str']. An error will be raised in 1.2.\n",
      "  warnings.warn(\n",
      "/home/vb/.pyenv/versions/3.9.7/envs/artefact/lib/python3.9/site-packages/sklearn/svm/_base.py:1199: ConvergenceWarning: Liblinear failed to converge, increase the number of iterations.\n",
      "  warnings.warn(\n",
      "/home/vb/.pyenv/versions/3.9.7/envs/artefact/lib/python3.9/site-packages/sklearn/utils/validation.py:1673: FutureWarning: Feature names only support names that are all strings. Got feature names with dtypes: ['int', 'str']. An error will be raised in 1.2.\n",
      "  warnings.warn(\n"
     ]
    },
    {
     "data": {
      "image/png": "[encoded data removed]",
      "text/plain": [
       "<Figure size 720x720 with 2 Axes>"
      ]
     },
     "metadata": {
      "needs_background": "light"
     },
     "output_type": "display_data"
    }
   ],
   "source": [
    "model = LinearSVC() \n",
    "\n",
    "model.fit(X_train_bis, y_train_bis)\n",
    "y_pred = model.predict(X_test)\n",
    "\n",
    "#from sklearn.metrics import confusion_matrix\n",
    "conf_mat = confusion_matrix(y_test, y_pred)\n",
    "fig, ax = plt.subplots(figsize=(10,10))\n",
    "sns.heatmap(conf_mat, annot=True, fmt='d',\n",
    "            xticklabels=rating1_df['rating'].values, yticklabels=rating1_df['rating'].values)\n",
    "plt.ylabel('Actual')\n",
    "plt.xlabel('Predicted')\n",
    "plt.show()"
   ]
  },
  {
   "cell_type": "code",
   "execution_count": 78,
   "id": "f174a300",
   "metadata": {},
   "outputs": [
    {
     "name": "stdout",
     "output_type": "stream",
     "text": [
      "              precision    recall  f1-score   support\n",
      "\n",
      "           1       0.37      0.86      0.52       430\n",
      "           2       0.00      0.00      0.00       116\n",
      "           3       0.11      0.01      0.01       163\n",
      "           4       0.32      0.09      0.14       331\n",
      "           5       0.92      0.91      0.92      3554\n",
      "\n",
      "    accuracy                           0.79      4594\n",
      "   macro avg       0.34      0.37      0.32      4594\n",
      "weighted avg       0.78      0.79      0.77      4594\n",
      "\n"
     ]
    },
    {
     "name": "stderr",
     "output_type": "stream",
     "text": [
      "/home/vb/.pyenv/versions/3.9.7/envs/artefact/lib/python3.9/site-packages/sklearn/metrics/_classification.py:1308: UndefinedMetricWarning: Precision and F-score are ill-defined and being set to 0.0 in labels with no predicted samples. Use `zero_division` parameter to control this behavior.\n",
      "  _warn_prf(average, modifier, msg_start, len(result))\n",
      "/home/vb/.pyenv/versions/3.9.7/envs/artefact/lib/python3.9/site-packages/sklearn/metrics/_classification.py:1308: UndefinedMetricWarning: Precision and F-score are ill-defined and being set to 0.0 in labels with no predicted samples. Use `zero_division` parameter to control this behavior.\n",
      "  _warn_prf(average, modifier, msg_start, len(result))\n",
      "/home/vb/.pyenv/versions/3.9.7/envs/artefact/lib/python3.9/site-packages/sklearn/metrics/_classification.py:1308: UndefinedMetricWarning: Precision and F-score are ill-defined and being set to 0.0 in labels with no predicted samples. Use `zero_division` parameter to control this behavior.\n",
      "  _warn_prf(average, modifier, msg_start, len(result))\n"
     ]
    }
   ],
   "source": [
    "print(classification_report(y_test, y_pred))"
   ]
  },
  {
   "cell_type": "code",
   "execution_count": 79,
   "id": "d629dba6",
   "metadata": {},
   "outputs": [
    {
     "name": "stderr",
     "output_type": "stream",
     "text": [
      "/home/vb/.pyenv/versions/3.9.7/envs/artefact/lib/python3.9/site-packages/sklearn/utils/validation.py:1673: FutureWarning: Feature names only support names that are all strings. Got feature names with dtypes: ['int', 'str']. An error will be raised in 1.2.\n",
      "  warnings.warn(\n",
      "/home/vb/.pyenv/versions/3.9.7/envs/artefact/lib/python3.9/site-packages/sklearn/linear_model/_logistic.py:814: ConvergenceWarning: lbfgs failed to converge (status=1):\n",
      "STOP: TOTAL NO. of ITERATIONS REACHED LIMIT.\n",
      "\n",
      "Increase the number of iterations (max_iter) or scale the data as shown in:\n",
      "    https://scikit-learn.org/stable/modules/preprocessing.html\n",
      "Please also refer to the documentation for alternative solver options:\n",
      "    https://scikit-learn.org/stable/modules/linear_model.html#logistic-regression\n",
      "  n_iter_i = _check_optimize_result(\n",
      "/home/vb/.pyenv/versions/3.9.7/envs/artefact/lib/python3.9/site-packages/sklearn/utils/validation.py:1673: FutureWarning: Feature names only support names that are all strings. Got feature names with dtypes: ['int', 'str']. An error will be raised in 1.2.\n",
      "  warnings.warn(\n"
     ]
    },
    {
     "data": {
      "image/png": "[encoded data removed]",
      "text/plain": [
       "<Figure size 720x720 with 2 Axes>"
      ]
     },
     "metadata": {
      "needs_background": "light"
     },
     "output_type": "display_data"
    }
   ],
   "source": [
    "model2 = LogisticRegression()\n",
    "\n",
    "model2.fit(X_train_bis, y_train_bis)\n",
    "y_pred2 = model2.predict(X_test)\n",
    "conf_mat2 = confusion_matrix(y_test, y_pred2)\n",
    "fig, ax = plt.subplots(figsize=(10,10))\n",
    "sns.heatmap(conf_mat, annot=True, fmt='d',\n",
    "            xticklabels=rating1_df['rating_label'].values, yticklabels=rating1_df['rating_label'].values)\n",
    "plt.ylabel('Actual')\n",
    "plt.xlabel('Predicted')\n",
    "plt.show()"
   ]
  },
  {
   "cell_type": "code",
   "execution_count": 80,
   "id": "353f80bd",
   "metadata": {},
   "outputs": [
    {
     "name": "stdout",
     "output_type": "stream",
     "text": [
      "              precision    recall  f1-score   support\n",
      "\n",
      "           1       0.32      0.26      0.29       430\n",
      "           2       0.00      0.00      0.00       116\n",
      "           3       0.33      0.01      0.01       163\n",
      "           4       0.06      0.00      0.01       331\n",
      "           5       0.81      0.96      0.88      3554\n",
      "\n",
      "    accuracy                           0.77      4594\n",
      "   macro avg       0.30      0.25      0.24      4594\n",
      "weighted avg       0.67      0.77      0.71      4594\n",
      "\n"
     ]
    }
   ],
   "source": [
    "print(classification_report(y_test, y_pred2))"
   ]
  },
  {
   "cell_type": "code",
   "execution_count": 81,
   "id": "876fd7be",
   "metadata": {},
   "outputs": [
    {
     "name": "stderr",
     "output_type": "stream",
     "text": [
      "/home/vb/.pyenv/versions/3.9.7/envs/artefact/lib/python3.9/site-packages/sklearn/utils/validation.py:1673: FutureWarning: Feature names only support names that are all strings. Got feature names with dtypes: ['int', 'str']. An error will be raised in 1.2.\n",
      "  warnings.warn(\n",
      "/home/vb/.pyenv/versions/3.9.7/envs/artefact/lib/python3.9/site-packages/sklearn/utils/validation.py:1673: FutureWarning: Feature names only support names that are all strings. Got feature names with dtypes: ['int', 'str']. An error will be raised in 1.2.\n",
      "  warnings.warn(\n"
     ]
    },
    {
     "data": {
      "image/png": "[encoded data removed]",
      "text/plain": [
       "<Figure size 720x720 with 2 Axes>"
      ]
     },
     "metadata": {
      "needs_background": "light"
     },
     "output_type": "display_data"
    }
   ],
   "source": [
    "model3 = MultinomialNB()\n",
    "\n",
    "model3.fit(X_train_bis, y_train_bis)\n",
    "y_pred3 = model3.predict(X_test)\n",
    "conf_mat3 = confusion_matrix(y_test, y_pred3)\n",
    "fig, ax = plt.subplots(figsize=(10,10))\n",
    "sns.heatmap(conf_mat, annot=True, fmt='d',\n",
    "            xticklabels=rating1_df['rating_label'].values, yticklabels=rating1_df['rating_label'].values)\n",
    "plt.ylabel('Actual')\n",
    "plt.xlabel('Predicted')\n",
    "plt.show()"
   ]
  },
  {
   "cell_type": "code",
   "execution_count": 82,
   "id": "d0ee7712",
   "metadata": {},
   "outputs": [
    {
     "name": "stdout",
     "output_type": "stream",
     "text": [
      "              precision    recall  f1-score   support\n",
      "\n",
      "           1       0.34      0.57      0.42       430\n",
      "           2       0.14      0.01      0.02       116\n",
      "           3       0.26      0.03      0.05       163\n",
      "           4       0.18      0.17      0.17       331\n",
      "           5       0.88      0.88      0.88      3554\n",
      "\n",
      "    accuracy                           0.75      4594\n",
      "   macro avg       0.36      0.33      0.31      4594\n",
      "weighted avg       0.74      0.75      0.73      4594\n",
      "\n"
     ]
    }
   ],
   "source": [
    "print(classification_report(y_test, y_pred3))"
   ]
  },
  {
   "cell_type": "code",
   "execution_count": 83,
   "id": "61b1c951",
   "metadata": {},
   "outputs": [
    {
     "name": "stderr",
     "output_type": "stream",
     "text": [
      "/home/vb/.pyenv/versions/3.9.7/envs/artefact/lib/python3.9/site-packages/sklearn/utils/validation.py:1673: FutureWarning: Feature names only support names that are all strings. Got feature names with dtypes: ['int', 'str']. An error will be raised in 1.2.\n",
      "  warnings.warn(\n",
      "/home/vb/.pyenv/versions/3.9.7/envs/artefact/lib/python3.9/site-packages/sklearn/utils/validation.py:1673: FutureWarning: Feature names only support names that are all strings. Got feature names with dtypes: ['int', 'str']. An error will be raised in 1.2.\n",
      "  warnings.warn(\n"
     ]
    },
    {
     "data": {
      "image/png": "[encoded data removed]",
      "text/plain": [
       "<Figure size 720x720 with 2 Axes>"
      ]
     },
     "metadata": {
      "needs_background": "light"
     },
     "output_type": "display_data"
    }
   ],
   "source": [
    "model4 = RandomForestClassifier()\n",
    "\n",
    "model4.fit(X_train_bis, y_train_bis)\n",
    "y_pred4 = model4.predict(X_test)\n",
    "conf_mat4 = confusion_matrix(y_test, y_pred4)\n",
    "fig, ax = plt.subplots(figsize=(10,10))\n",
    "sns.heatmap(conf_mat, annot=True, fmt='d',\n",
    "            xticklabels=rating1_df['rating_label'].values, yticklabels=rating1_df['rating_label'].values)\n",
    "plt.ylabel('Actual')\n",
    "plt.xlabel('Predicted')\n",
    "plt.show()"
   ]
  },
  {
   "cell_type": "code",
   "execution_count": 84,
   "id": "d9a2aa61",
   "metadata": {},
   "outputs": [
    {
     "name": "stdout",
     "output_type": "stream",
     "text": [
      "              precision    recall  f1-score   support\n",
      "\n",
      "           1       0.54      0.66      0.60       430\n",
      "           2       0.40      0.02      0.03       116\n",
      "           3       0.20      0.02      0.03       163\n",
      "           4       0.29      0.05      0.08       331\n",
      "           5       0.87      0.97      0.92      3554\n",
      "\n",
      "    accuracy                           0.82      4594\n",
      "   macro avg       0.46      0.34      0.33      4594\n",
      "weighted avg       0.76      0.82      0.77      4594\n",
      "\n"
     ]
    }
   ],
   "source": [
    "print(classification_report(y_test, y_pred4))"
   ]
  },
  {
   "cell_type": "markdown",
   "id": "1c280847",
   "metadata": {},
   "source": [
    "**Conclusion** => best ML is Random Forest Classifier. So this will be applied on Twitter reviews."
   ]
  },
  {
   "cell_type": "markdown",
   "id": "7c1043e2",
   "metadata": {},
   "source": [
    "# Phase 3 => Machine Learning Application on tweets"
   ]
  },
  {
   "cell_type": "code",
   "execution_count": 85,
   "id": "9d4feb35",
   "metadata": {},
   "outputs": [
    {
     "data": {
      "text/html": [
       "<div>\n",
       "<style scoped>\n",
       "    .dataframe tbody tr th:only-of-type {\n",
       "        vertical-align: middle;\n",
       "    }\n",
       "\n",
       "    .dataframe tbody tr th {\n",
       "        vertical-align: top;\n",
       "    }\n",
       "\n",
       "    .dataframe thead th {\n",
       "        text-align: right;\n",
       "    }\n",
       "</style>\n",
       "<table border=\"1\" class=\"dataframe\">\n",
       "  <thead>\n",
       "    <tr style=\"text-align: right;\">\n",
       "      <th></th>\n",
       "      <th>Datetime</th>\n",
       "      <th>Tweet Id</th>\n",
       "      <th>Text</th>\n",
       "      <th>Username</th>\n",
       "    </tr>\n",
       "  </thead>\n",
       "  <tbody>\n",
       "    <tr>\n",
       "      <th>0</th>\n",
       "      <td>2021-12-10 17:18:26+00:00</td>\n",
       "      <td>1469355842768187399</td>\n",
       "      <td>GREGGS TOO GOOD TO GO BAG | vlogmas day 9 http...</td>\n",
       "      <td>TheArchersWeAre</td>\n",
       "    </tr>\n",
       "    <tr>\n",
       "      <th>1</th>\n",
       "      <td>2021-12-10 16:05:15+00:00</td>\n",
       "      <td>1469337421905117188</td>\n",
       "      <td>Vegetable magic bag from the local organic sup...</td>\n",
       "      <td>Ghostbear2k</td>\n",
       "    </tr>\n",
       "    <tr>\n",
       "      <th>2</th>\n",
       "      <td>2021-12-10 06:33:41+00:00</td>\n",
       "      <td>1469193583714471938</td>\n",
       "      <td>The retired dumpster diver in me has mixed fee...</td>\n",
       "      <td>NaSh12</td>\n",
       "    </tr>\n",
       "    <tr>\n",
       "      <th>3</th>\n",
       "      <td>2021-12-09 20:52:07+00:00</td>\n",
       "      <td>1469047230136999946</td>\n",
       "      <td>Just love this app #TooGoodToGo - save yummy f...</td>\n",
       "      <td>NicolaKwrites</td>\n",
       "    </tr>\n",
       "    <tr>\n",
       "      <th>4</th>\n",
       "      <td>2021-12-09 17:05:04+00:00</td>\n",
       "      <td>1468990089829228545</td>\n",
       "      <td>Unsure if your passed-the-best-before product ...</td>\n",
       "      <td>CanToogoodtogo</td>\n",
       "    </tr>\n",
       "  </tbody>\n",
       "</table>\n",
       "</div>"
      ],
      "text/plain": [
       "                   Datetime             Tweet Id  \\\n",
       "0 2021-12-10 17:18:26+00:00  1469355842768187399   \n",
       "1 2021-12-10 16:05:15+00:00  1469337421905117188   \n",
       "2 2021-12-10 06:33:41+00:00  1469193583714471938   \n",
       "3 2021-12-09 20:52:07+00:00  1469047230136999946   \n",
       "4 2021-12-09 17:05:04+00:00  1468990089829228545   \n",
       "\n",
       "                                                Text         Username  \n",
       "0  GREGGS TOO GOOD TO GO BAG | vlogmas day 9 http...  TheArchersWeAre  \n",
       "1  Vegetable magic bag from the local organic sup...      Ghostbear2k  \n",
       "2  The retired dumpster diver in me has mixed fee...           NaSh12  \n",
       "3  Just love this app #TooGoodToGo - save yummy f...    NicolaKwrites  \n",
       "4  Unsure if your passed-the-best-before product ...   CanToogoodtogo  "
      ]
     },
     "execution_count": 85,
     "metadata": {},
     "output_type": "execute_result"
    }
   ],
   "source": [
    "path = \"data/tweets2021tgtg.pkl\"\n",
    "\n",
    "with open(path, 'rb') as f:\n",
    "    tweet = pickle.load(f)\n",
    "\n",
    "tweet.head(5)"
   ]
  },
  {
   "cell_type": "markdown",
   "id": "522856b4",
   "metadata": {},
   "source": [
    "### Step 1 - Formatting"
   ]
  },
  {
   "cell_type": "code",
   "execution_count": 86,
   "id": "b015231a",
   "metadata": {},
   "outputs": [],
   "source": [
    "tweet = tweet.drop(columns=['Tweet Id','Username'])"
   ]
  },
  {
   "cell_type": "code",
   "execution_count": 87,
   "id": "01902394",
   "metadata": {},
   "outputs": [
    {
     "data": {
      "text/html": [
       "<div>\n",
       "<style scoped>\n",
       "    .dataframe tbody tr th:only-of-type {\n",
       "        vertical-align: middle;\n",
       "    }\n",
       "\n",
       "    .dataframe tbody tr th {\n",
       "        vertical-align: top;\n",
       "    }\n",
       "\n",
       "    .dataframe thead th {\n",
       "        text-align: right;\n",
       "    }\n",
       "</style>\n",
       "<table border=\"1\" class=\"dataframe\">\n",
       "  <thead>\n",
       "    <tr style=\"text-align: right;\">\n",
       "      <th></th>\n",
       "      <th>date</th>\n",
       "      <th>review_content</th>\n",
       "    </tr>\n",
       "  </thead>\n",
       "  <tbody>\n",
       "    <tr>\n",
       "      <th>0</th>\n",
       "      <td>2021-12-10 17:18:26+00:00</td>\n",
       "      <td>GREGGS TOO GOOD TO GO BAG | vlogmas day 9 http...</td>\n",
       "    </tr>\n",
       "    <tr>\n",
       "      <th>1</th>\n",
       "      <td>2021-12-10 16:05:15+00:00</td>\n",
       "      <td>Vegetable magic bag from the local organic sup...</td>\n",
       "    </tr>\n",
       "    <tr>\n",
       "      <th>2</th>\n",
       "      <td>2021-12-10 06:33:41+00:00</td>\n",
       "      <td>The retired dumpster diver in me has mixed fee...</td>\n",
       "    </tr>\n",
       "    <tr>\n",
       "      <th>3</th>\n",
       "      <td>2021-12-09 20:52:07+00:00</td>\n",
       "      <td>Just love this app #TooGoodToGo - save yummy f...</td>\n",
       "    </tr>\n",
       "    <tr>\n",
       "      <th>4</th>\n",
       "      <td>2021-12-09 17:05:04+00:00</td>\n",
       "      <td>Unsure if your passed-the-best-before product ...</td>\n",
       "    </tr>\n",
       "    <tr>\n",
       "      <th>...</th>\n",
       "      <td>...</td>\n",
       "      <td>...</td>\n",
       "    </tr>\n",
       "    <tr>\n",
       "      <th>1244</th>\n",
       "      <td>2021-01-03 09:38:05+00:00</td>\n",
       "      <td>@Tesco @coopuk @LidlGB @AldiUK @sainsburys @wa...</td>\n",
       "    </tr>\n",
       "    <tr>\n",
       "      <th>1245</th>\n",
       "      <td>2021-01-03 04:22:12+00:00</td>\n",
       "      <td>To the team of #TooGoodToGo, thank you for the...</td>\n",
       "    </tr>\n",
       "    <tr>\n",
       "      <th>1246</th>\n",
       "      <td>2021-01-02 20:11:10+00:00</td>\n",
       "      <td>I used to consider this a good haul of #toogoo...</td>\n",
       "    </tr>\n",
       "    <tr>\n",
       "      <th>1247</th>\n",
       "      <td>2021-01-01 12:39:43+00:00</td>\n",
       "      <td>Well this is exciting! Starting the year as I ...</td>\n",
       "    </tr>\n",
       "    <tr>\n",
       "      <th>1248</th>\n",
       "      <td>2021-01-01 09:37:09+00:00</td>\n",
       "      <td>#TooGoodToGo verry good to go 😉 https://t.co/j...</td>\n",
       "    </tr>\n",
       "  </tbody>\n",
       "</table>\n",
       "<p>1249 rows × 2 columns</p>\n",
       "</div>"
      ],
      "text/plain": [
       "                          date  \\\n",
       "0    2021-12-10 17:18:26+00:00   \n",
       "1    2021-12-10 16:05:15+00:00   \n",
       "2    2021-12-10 06:33:41+00:00   \n",
       "3    2021-12-09 20:52:07+00:00   \n",
       "4    2021-12-09 17:05:04+00:00   \n",
       "...                        ...   \n",
       "1244 2021-01-03 09:38:05+00:00   \n",
       "1245 2021-01-03 04:22:12+00:00   \n",
       "1246 2021-01-02 20:11:10+00:00   \n",
       "1247 2021-01-01 12:39:43+00:00   \n",
       "1248 2021-01-01 09:37:09+00:00   \n",
       "\n",
       "                                         review_content  \n",
       "0     GREGGS TOO GOOD TO GO BAG | vlogmas day 9 http...  \n",
       "1     Vegetable magic bag from the local organic sup...  \n",
       "2     The retired dumpster diver in me has mixed fee...  \n",
       "3     Just love this app #TooGoodToGo - save yummy f...  \n",
       "4     Unsure if your passed-the-best-before product ...  \n",
       "...                                                 ...  \n",
       "1244  @Tesco @coopuk @LidlGB @AldiUK @sainsburys @wa...  \n",
       "1245  To the team of #TooGoodToGo, thank you for the...  \n",
       "1246  I used to consider this a good haul of #toogoo...  \n",
       "1247  Well this is exciting! Starting the year as I ...  \n",
       "1248  #TooGoodToGo verry good to go 😉 https://t.co/j...  \n",
       "\n",
       "[1249 rows x 2 columns]"
      ]
     },
     "execution_count": 87,
     "metadata": {},
     "output_type": "execute_result"
    }
   ],
   "source": [
    "tweet = tweet.rename(columns={'Text':'review_content','Datetime':'date'})\n",
    "tweet"
   ]
  },
  {
   "cell_type": "code",
   "execution_count": 88,
   "id": "d6332266",
   "metadata": {},
   "outputs": [],
   "source": [
    "tweet['date'] = pd.to_datetime(tweet['date'],format='%Y-%m-%d %Hh%Mm%Ssec')"
   ]
  },
  {
   "cell_type": "code",
   "execution_count": 89,
   "id": "13d41096",
   "metadata": {},
   "outputs": [],
   "source": [
    "# Modifying date format to YY-MM\n",
    "tweet['date'] = tweet['date'].dt.strftime('%Y-%m')"
   ]
  },
  {
   "cell_type": "code",
   "execution_count": 90,
   "id": "6592f8c5",
   "metadata": {},
   "outputs": [
    {
     "data": {
      "text/html": [
       "<div>\n",
       "<style scoped>\n",
       "    .dataframe tbody tr th:only-of-type {\n",
       "        vertical-align: middle;\n",
       "    }\n",
       "\n",
       "    .dataframe tbody tr th {\n",
       "        vertical-align: top;\n",
       "    }\n",
       "\n",
       "    .dataframe thead th {\n",
       "        text-align: right;\n",
       "    }\n",
       "</style>\n",
       "<table border=\"1\" class=\"dataframe\">\n",
       "  <thead>\n",
       "    <tr style=\"text-align: right;\">\n",
       "      <th></th>\n",
       "      <th>date</th>\n",
       "      <th>review_content</th>\n",
       "    </tr>\n",
       "  </thead>\n",
       "  <tbody>\n",
       "    <tr>\n",
       "      <th>0</th>\n",
       "      <td>2021-12</td>\n",
       "      <td>GREGGS TOO GOOD TO GO BAG | vlogmas day 9 http...</td>\n",
       "    </tr>\n",
       "    <tr>\n",
       "      <th>1</th>\n",
       "      <td>2021-12</td>\n",
       "      <td>Vegetable magic bag from the local organic sup...</td>\n",
       "    </tr>\n",
       "    <tr>\n",
       "      <th>2</th>\n",
       "      <td>2021-12</td>\n",
       "      <td>The retired dumpster diver in me has mixed fee...</td>\n",
       "    </tr>\n",
       "    <tr>\n",
       "      <th>3</th>\n",
       "      <td>2021-12</td>\n",
       "      <td>Just love this app #TooGoodToGo - save yummy f...</td>\n",
       "    </tr>\n",
       "    <tr>\n",
       "      <th>4</th>\n",
       "      <td>2021-12</td>\n",
       "      <td>Unsure if your passed-the-best-before product ...</td>\n",
       "    </tr>\n",
       "  </tbody>\n",
       "</table>\n",
       "</div>"
      ],
      "text/plain": [
       "      date                                     review_content\n",
       "0  2021-12  GREGGS TOO GOOD TO GO BAG | vlogmas day 9 http...\n",
       "1  2021-12  Vegetable magic bag from the local organic sup...\n",
       "2  2021-12  The retired dumpster diver in me has mixed fee...\n",
       "3  2021-12  Just love this app #TooGoodToGo - save yummy f...\n",
       "4  2021-12  Unsure if your passed-the-best-before product ..."
      ]
     },
     "execution_count": 90,
     "metadata": {},
     "output_type": "execute_result"
    }
   ],
   "source": [
    "tweet.head()"
   ]
  },
  {
   "cell_type": "markdown",
   "id": "e4be7992",
   "metadata": {},
   "source": [
    "### Step 2 - Preparation of Twitter dataset to run Machine Learning on"
   ]
  },
  {
   "cell_type": "code",
   "execution_count": 91,
   "id": "8cc02a79",
   "metadata": {},
   "outputs": [],
   "source": [
    "df_tweet = tweet"
   ]
  },
  {
   "cell_type": "code",
   "execution_count": 92,
   "id": "8c37ce36",
   "metadata": {},
   "outputs": [
    {
     "data": {
      "text/html": [
       "<div>\n",
       "<style scoped>\n",
       "    .dataframe tbody tr th:only-of-type {\n",
       "        vertical-align: middle;\n",
       "    }\n",
       "\n",
       "    .dataframe tbody tr th {\n",
       "        vertical-align: top;\n",
       "    }\n",
       "\n",
       "    .dataframe thead th {\n",
       "        text-align: right;\n",
       "    }\n",
       "</style>\n",
       "<table border=\"1\" class=\"dataframe\">\n",
       "  <thead>\n",
       "    <tr style=\"text-align: right;\">\n",
       "      <th></th>\n",
       "      <th>date</th>\n",
       "      <th>review_content</th>\n",
       "    </tr>\n",
       "  </thead>\n",
       "  <tbody>\n",
       "    <tr>\n",
       "      <th>0</th>\n",
       "      <td>2021-12</td>\n",
       "      <td>GREGGS TOO GOOD TO GO BAG | vlogmas day 9 http...</td>\n",
       "    </tr>\n",
       "    <tr>\n",
       "      <th>1</th>\n",
       "      <td>2021-12</td>\n",
       "      <td>Vegetable magic bag from the local organic sup...</td>\n",
       "    </tr>\n",
       "    <tr>\n",
       "      <th>2</th>\n",
       "      <td>2021-12</td>\n",
       "      <td>The retired dumpster diver in me has mixed fee...</td>\n",
       "    </tr>\n",
       "    <tr>\n",
       "      <th>3</th>\n",
       "      <td>2021-12</td>\n",
       "      <td>Just love this app #TooGoodToGo - save yummy f...</td>\n",
       "    </tr>\n",
       "    <tr>\n",
       "      <th>4</th>\n",
       "      <td>2021-12</td>\n",
       "      <td>Unsure if your passed-the-best-before product ...</td>\n",
       "    </tr>\n",
       "    <tr>\n",
       "      <th>...</th>\n",
       "      <td>...</td>\n",
       "      <td>...</td>\n",
       "    </tr>\n",
       "    <tr>\n",
       "      <th>1244</th>\n",
       "      <td>2021-01</td>\n",
       "      <td>@Tesco @coopuk @LidlGB @AldiUK @sainsburys @wa...</td>\n",
       "    </tr>\n",
       "    <tr>\n",
       "      <th>1245</th>\n",
       "      <td>2021-01</td>\n",
       "      <td>To the team of #TooGoodToGo, thank you for the...</td>\n",
       "    </tr>\n",
       "    <tr>\n",
       "      <th>1246</th>\n",
       "      <td>2021-01</td>\n",
       "      <td>I used to consider this a good haul of #toogoo...</td>\n",
       "    </tr>\n",
       "    <tr>\n",
       "      <th>1247</th>\n",
       "      <td>2021-01</td>\n",
       "      <td>Well this is exciting! Starting the year as I ...</td>\n",
       "    </tr>\n",
       "    <tr>\n",
       "      <th>1248</th>\n",
       "      <td>2021-01</td>\n",
       "      <td>#TooGoodToGo verry good to go 😉 https://t.co/j...</td>\n",
       "    </tr>\n",
       "  </tbody>\n",
       "</table>\n",
       "<p>1249 rows × 2 columns</p>\n",
       "</div>"
      ],
      "text/plain": [
       "         date                                     review_content\n",
       "0     2021-12  GREGGS TOO GOOD TO GO BAG | vlogmas day 9 http...\n",
       "1     2021-12  Vegetable magic bag from the local organic sup...\n",
       "2     2021-12  The retired dumpster diver in me has mixed fee...\n",
       "3     2021-12  Just love this app #TooGoodToGo - save yummy f...\n",
       "4     2021-12  Unsure if your passed-the-best-before product ...\n",
       "...       ...                                                ...\n",
       "1244  2021-01  @Tesco @coopuk @LidlGB @AldiUK @sainsburys @wa...\n",
       "1245  2021-01  To the team of #TooGoodToGo, thank you for the...\n",
       "1246  2021-01  I used to consider this a good haul of #toogoo...\n",
       "1247  2021-01  Well this is exciting! Starting the year as I ...\n",
       "1248  2021-01  #TooGoodToGo verry good to go 😉 https://t.co/j...\n",
       "\n",
       "[1249 rows x 2 columns]"
      ]
     },
     "execution_count": 92,
     "metadata": {},
     "output_type": "execute_result"
    }
   ],
   "source": [
    "df_tweet"
   ]
  },
  {
   "cell_type": "markdown",
   "id": "e7124082",
   "metadata": {},
   "source": [
    "#### Application of 1st round of feature engineering"
   ]
  },
  {
   "cell_type": "code",
   "execution_count": 93,
   "id": "af1a71f0",
   "metadata": {},
   "outputs": [],
   "source": [
    "df_tweet['char_count'] = df_tweet[\"review_content\"].apply(lambda x:count_chars(x))\n",
    "df_tweet['word_count'] = df_tweet[\"review_content\"].apply(lambda x:count_words(x))\n",
    "df_tweet['sent_count'] = df_tweet[\"review_content\"].apply(lambda x:count_sent(x))\n",
    "df_tweet['capital_char_count'] = df_tweet[\"review_content\"].apply(lambda x:count_capital_chars(x))\n",
    "df_tweet['capital_word_count'] = df_tweet[\"review_content\"].apply(lambda x:count_capital_words(x))\n",
    "df_tweet['quoted_word_count'] = df_tweet[\"review_content\"].apply(lambda x:count_words_in_quotes(x))\n",
    "df_tweet['stopword_count'] = df_tweet[\"review_content\"].apply(lambda x:count_stopwords(x))\n",
    "df_tweet['unique_word_count'] = df_tweet[\"review_content\"].apply(lambda x:count_unique_words(x))\n",
    "df_tweet['htag_count'] = df_tweet[\"review_content\"].apply(lambda x:count_htags(x))\n",
    "df_tweet['mention_count'] = df_tweet[\"review_content\"].apply(lambda x:count_mentions(x))\n",
    "df_tweet['punct_count'] = df_tweet[\"review_content\"].apply(lambda x:count_punctuations(x))\n",
    "df_tweet['emoji_count'] = df_tweet[\"review_content\"].apply(lambda x:count_emoji(x))"
   ]
  },
  {
   "cell_type": "markdown",
   "id": "15b32371",
   "metadata": {},
   "source": [
    "#### Application of 2nd round of feature engineering"
   ]
  },
  {
   "cell_type": "code",
   "execution_count": 94,
   "id": "b564eec0",
   "metadata": {},
   "outputs": [],
   "source": [
    "df_tweet['avg_wordlength'] = df_tweet['char_count']/df_tweet['word_count']\n",
    "df_tweet['avg_sentlength'] = df_tweet['word_count']/df_tweet['sent_count']\n",
    "df_tweet['unique_vs_words'] = df_tweet['unique_word_count']/df_tweet['word_count']\n",
    "df_tweet['stopwords_vs_words'] = df_tweet['stopword_count']/df_tweet['word_count']"
   ]
  },
  {
   "cell_type": "code",
   "execution_count": 95,
   "id": "de7f6d7a",
   "metadata": {},
   "outputs": [
    {
     "data": {
      "text/plain": [
       "Index(['date', 'review_content', 'char_count', 'word_count', 'sent_count',\n",
       "       'capital_char_count', 'capital_word_count', 'quoted_word_count',\n",
       "       'stopword_count', 'unique_word_count', 'htag_count', 'mention_count',\n",
       "       'emoji_count', 'avg_wordlength', 'avg_sentlength', 'unique_vs_words',\n",
       "       'stopwords_vs_words', '!count', '#count', '$count', '%count', '&count',\n",
       "       ''count', '(count', ')count', '*count', '+count', ',count', '-count',\n",
       "       '.count', '/count', ':count', ';count', '<count', '=count', '>count',\n",
       "       '?count', '@count', '[count', '\\count', ']count', '^count', '_count',\n",
       "       '`count', '{count', '|count', '}count', '~count'],\n",
       "      dtype='object')"
      ]
     },
     "execution_count": 95,
     "metadata": {},
     "output_type": "execute_result"
    }
   ],
   "source": [
    "# Creating new dataframe retrieving all the different punctuation used in each text\n",
    "df_punct_tweet = pd.DataFrame(list(df_tweet.punct_count))\n",
    "\n",
    "# Merging punctuation DataFrame with main DataFrame\n",
    "df_tweet = pd.merge(df_tweet, df_punct_tweet, left_index=True, right_index=True)\n",
    "\n",
    "# Dropping \"punct_count\" column from main DataFrame\n",
    "df_tweet.drop(columns=['punct_count'],inplace=True)\n",
    "df_tweet.columns"
   ]
  },
  {
   "cell_type": "markdown",
   "id": "a5c62253",
   "metadata": {},
   "source": [
    "#### Formatting"
   ]
  },
  {
   "cell_type": "code",
   "execution_count": 96,
   "id": "5bc6cdaa",
   "metadata": {},
   "outputs": [],
   "source": [
    "sub_df_tweet = df_tweet[['char_count', 'word_count',\n",
    "       'sent_count', 'capital_char_count', 'capital_word_count',\n",
    "       'quoted_word_count', 'stopword_count', 'unique_word_count',\n",
    "       'htag_count', 'mention_count', 'emoji_count', 'avg_wordlength',\n",
    "       'avg_sentlength', 'unique_vs_words', 'stopwords_vs_words', '!count',\n",
    "       '#count', '$count', '%count', '&count', \"'count\", '(count', ')count',\n",
    "       '*count', '+count', ',count', '-count', '.count', '/count', ':count',\n",
    "       ';count', '<count', '=count', '>count', '?count', '@count', '[count',\n",
    "       '\\count', ']count', '^count', '_count', '`count', '{count', '|count',\n",
    "       '}count', '~count']]"
   ]
  },
  {
   "cell_type": "markdown",
   "id": "ec26060d",
   "metadata": {},
   "source": [
    "#### Application of preprocessing"
   ]
  },
  {
   "cell_type": "code",
   "execution_count": 97,
   "id": "9a29d8f5",
   "metadata": {},
   "outputs": [],
   "source": [
    "df_tweet['preprocessed_content'] = df_tweet['review_content'].apply(lambda x:preprocessing(x))"
   ]
  },
  {
   "cell_type": "code",
   "execution_count": 98,
   "id": "7308636f",
   "metadata": {},
   "outputs": [
    {
     "data": {
      "text/html": [
       "<div>\n",
       "<style scoped>\n",
       "    .dataframe tbody tr th:only-of-type {\n",
       "        vertical-align: middle;\n",
       "    }\n",
       "\n",
       "    .dataframe tbody tr th {\n",
       "        vertical-align: top;\n",
       "    }\n",
       "\n",
       "    .dataframe thead th {\n",
       "        text-align: right;\n",
       "    }\n",
       "</style>\n",
       "<table border=\"1\" class=\"dataframe\">\n",
       "  <thead>\n",
       "    <tr style=\"text-align: right;\">\n",
       "      <th></th>\n",
       "      <th>date</th>\n",
       "      <th>review_content</th>\n",
       "      <th>char_count</th>\n",
       "      <th>word_count</th>\n",
       "      <th>sent_count</th>\n",
       "      <th>capital_char_count</th>\n",
       "      <th>capital_word_count</th>\n",
       "      <th>quoted_word_count</th>\n",
       "      <th>stopword_count</th>\n",
       "      <th>unique_word_count</th>\n",
       "      <th>...</th>\n",
       "      <th>\\count</th>\n",
       "      <th>]count</th>\n",
       "      <th>^count</th>\n",
       "      <th>_count</th>\n",
       "      <th>`count</th>\n",
       "      <th>{count</th>\n",
       "      <th>|count</th>\n",
       "      <th>}count</th>\n",
       "      <th>~count</th>\n",
       "      <th>preprocessed_content</th>\n",
       "    </tr>\n",
       "  </thead>\n",
       "  <tbody>\n",
       "    <tr>\n",
       "      <th>0</th>\n",
       "      <td>2021-12</td>\n",
       "      <td>GREGGS TOO GOOD TO GO BAG | vlogmas day 9 http...</td>\n",
       "      <td>133</td>\n",
       "      <td>16</td>\n",
       "      <td>1</td>\n",
       "      <td>29</td>\n",
       "      <td>6</td>\n",
       "      <td>0</td>\n",
       "      <td>0</td>\n",
       "      <td>16</td>\n",
       "      <td>...</td>\n",
       "      <td>0</td>\n",
       "      <td>0</td>\n",
       "      <td>0</td>\n",
       "      <td>0</td>\n",
       "      <td>0</td>\n",
       "      <td>0</td>\n",
       "      <td>1</td>\n",
       "      <td>0</td>\n",
       "      <td>0</td>\n",
       "      <td>[greggs, good, bag, vlogmas, day, t, co, t, co]</td>\n",
       "    </tr>\n",
       "    <tr>\n",
       "      <th>1</th>\n",
       "      <td>2021-12</td>\n",
       "      <td>Vegetable magic bag from the local organic sup...</td>\n",
       "      <td>171</td>\n",
       "      <td>21</td>\n",
       "      <td>3</td>\n",
       "      <td>14</td>\n",
       "      <td>0</td>\n",
       "      <td>0</td>\n",
       "      <td>3</td>\n",
       "      <td>21</td>\n",
       "      <td>...</td>\n",
       "      <td>0</td>\n",
       "      <td>0</td>\n",
       "      <td>0</td>\n",
       "      <td>0</td>\n",
       "      <td>0</td>\n",
       "      <td>0</td>\n",
       "      <td>0</td>\n",
       "      <td>0</td>\n",
       "      <td>0</td>\n",
       "      <td>[vegetable, magic, bag, local, organic, superm...</td>\n",
       "    </tr>\n",
       "    <tr>\n",
       "      <th>2</th>\n",
       "      <td>2021-12</td>\n",
       "      <td>The retired dumpster diver in me has mixed fee...</td>\n",
       "      <td>101</td>\n",
       "      <td>13</td>\n",
       "      <td>2</td>\n",
       "      <td>9</td>\n",
       "      <td>0</td>\n",
       "      <td>0</td>\n",
       "      <td>5</td>\n",
       "      <td>13</td>\n",
       "      <td>...</td>\n",
       "      <td>0</td>\n",
       "      <td>0</td>\n",
       "      <td>0</td>\n",
       "      <td>0</td>\n",
       "      <td>0</td>\n",
       "      <td>0</td>\n",
       "      <td>0</td>\n",
       "      <td>0</td>\n",
       "      <td>0</td>\n",
       "      <td>[retired, dumpster, diver, mixed, feeling, t, co]</td>\n",
       "    </tr>\n",
       "    <tr>\n",
       "      <th>3</th>\n",
       "      <td>2021-12</td>\n",
       "      <td>Just love this app #TooGoodToGo - save yummy f...</td>\n",
       "      <td>158</td>\n",
       "      <td>24</td>\n",
       "      <td>2</td>\n",
       "      <td>9</td>\n",
       "      <td>0</td>\n",
       "      <td>0</td>\n",
       "      <td>10</td>\n",
       "      <td>23</td>\n",
       "      <td>...</td>\n",
       "      <td>0</td>\n",
       "      <td>0</td>\n",
       "      <td>0</td>\n",
       "      <td>0</td>\n",
       "      <td>0</td>\n",
       "      <td>0</td>\n",
       "      <td>0</td>\n",
       "      <td>0</td>\n",
       "      <td>0</td>\n",
       "      <td>[love, app, save, yummy, food, chucked, help, ...</td>\n",
       "    </tr>\n",
       "    <tr>\n",
       "      <th>4</th>\n",
       "      <td>2021-12</td>\n",
       "      <td>Unsure if your passed-the-best-before product ...</td>\n",
       "      <td>201</td>\n",
       "      <td>27</td>\n",
       "      <td>3</td>\n",
       "      <td>21</td>\n",
       "      <td>0</td>\n",
       "      <td>0</td>\n",
       "      <td>8</td>\n",
       "      <td>26</td>\n",
       "      <td>...</td>\n",
       "      <td>0</td>\n",
       "      <td>0</td>\n",
       "      <td>0</td>\n",
       "      <td>0</td>\n",
       "      <td>0</td>\n",
       "      <td>0</td>\n",
       "      <td>0</td>\n",
       "      <td>0</td>\n",
       "      <td>0</td>\n",
       "      <td>[unsure, passed, best, product, good, beat, qu...</td>\n",
       "    </tr>\n",
       "  </tbody>\n",
       "</table>\n",
       "<p>5 rows × 49 columns</p>\n",
       "</div>"
      ],
      "text/plain": [
       "      date                                     review_content  char_count  \\\n",
       "0  2021-12  GREGGS TOO GOOD TO GO BAG | vlogmas day 9 http...         133   \n",
       "1  2021-12  Vegetable magic bag from the local organic sup...         171   \n",
       "2  2021-12  The retired dumpster diver in me has mixed fee...         101   \n",
       "3  2021-12  Just love this app #TooGoodToGo - save yummy f...         158   \n",
       "4  2021-12  Unsure if your passed-the-best-before product ...         201   \n",
       "\n",
       "   word_count  sent_count  capital_char_count  capital_word_count  \\\n",
       "0          16           1                  29                   6   \n",
       "1          21           3                  14                   0   \n",
       "2          13           2                   9                   0   \n",
       "3          24           2                   9                   0   \n",
       "4          27           3                  21                   0   \n",
       "\n",
       "   quoted_word_count  stopword_count  unique_word_count  ...  \\count  ]count  \\\n",
       "0                  0               0                 16  ...       0       0   \n",
       "1                  0               3                 21  ...       0       0   \n",
       "2                  0               5                 13  ...       0       0   \n",
       "3                  0              10                 23  ...       0       0   \n",
       "4                  0               8                 26  ...       0       0   \n",
       "\n",
       "   ^count  _count  `count  {count  |count  }count  ~count  \\\n",
       "0       0       0       0       0       1       0       0   \n",
       "1       0       0       0       0       0       0       0   \n",
       "2       0       0       0       0       0       0       0   \n",
       "3       0       0       0       0       0       0       0   \n",
       "4       0       0       0       0       0       0       0   \n",
       "\n",
       "                                preprocessed_content  \n",
       "0    [greggs, good, bag, vlogmas, day, t, co, t, co]  \n",
       "1  [vegetable, magic, bag, local, organic, superm...  \n",
       "2  [retired, dumpster, diver, mixed, feeling, t, co]  \n",
       "3  [love, app, save, yummy, food, chucked, help, ...  \n",
       "4  [unsure, passed, best, product, good, beat, qu...  \n",
       "\n",
       "[5 rows x 49 columns]"
      ]
     },
     "execution_count": 98,
     "metadata": {},
     "output_type": "execute_result"
    }
   ],
   "source": [
    "df_tweet.head()"
   ]
  },
  {
   "cell_type": "code",
   "execution_count": 99,
   "id": "73f255c4",
   "metadata": {},
   "outputs": [
    {
     "data": {
      "text/plain": [
       "0                greggs,good,bag,vlogmas,day,t,co,t,co\n",
       "1    vegetable,magic,bag,local,organic,supermarket,...\n",
       "2            retired,dumpster,diver,mixed,feeling,t,co\n",
       "3    love,app,save,yummy,food,chucked,help,pray,coo...\n",
       "4    unsure,passed,best,product,good,beat,quick,tes...\n",
       "Name: preprocessed_content_string, dtype: object"
      ]
     },
     "execution_count": 99,
     "metadata": {},
     "output_type": "execute_result"
    }
   ],
   "source": [
    "df_tweet['preprocessed_content_string'] = [','.join(map(str, l)) for l in df_tweet['preprocessed_content']]\n",
    "df_tweet['preprocessed_content_string'].head(5)"
   ]
  },
  {
   "cell_type": "markdown",
   "id": "df0b62c7",
   "metadata": {},
   "source": [
    "#### TF-IDF"
   ]
  },
  {
   "cell_type": "code",
   "execution_count": 100,
   "id": "3006180f",
   "metadata": {},
   "outputs": [],
   "source": [
    "features_tweet = tfidf.transform(df_tweet['preprocessed_content_string']).toarray()"
   ]
  },
  {
   "cell_type": "markdown",
   "id": "d95dcafd",
   "metadata": {},
   "source": [
    "#### Removing date & review_content"
   ]
  },
  {
   "cell_type": "code",
   "execution_count": 101,
   "id": "d8649de1",
   "metadata": {},
   "outputs": [],
   "source": [
    "df_tweet = df_tweet.drop(columns=['date','review_content'])"
   ]
  },
  {
   "cell_type": "markdown",
   "id": "5c8d047b",
   "metadata": {},
   "source": [
    "#### Concatenation"
   ]
  },
  {
   "cell_type": "code",
   "execution_count": 102,
   "id": "73364401",
   "metadata": {},
   "outputs": [],
   "source": [
    "tweet_final_df = pd.concat([sub_df_tweet.reset_index(drop=True),pd.DataFrame(features_tweet).reset_index(drop=True)], axis=1)"
   ]
  },
  {
   "cell_type": "markdown",
   "id": "5c99f41c",
   "metadata": {},
   "source": [
    "### Step 3 - Machine Learning application on Twitter dataset"
   ]
  },
  {
   "cell_type": "markdown",
   "id": "7006da37",
   "metadata": {},
   "source": [
    "#### Computing estimation of Tweet scores"
   ]
  },
  {
   "cell_type": "code",
   "execution_count": 103,
   "id": "9454a290",
   "metadata": {},
   "outputs": [
    {
     "name": "stderr",
     "output_type": "stream",
     "text": [
      "/home/vb/.pyenv/versions/3.9.7/envs/artefact/lib/python3.9/site-packages/sklearn/utils/validation.py:1673: FutureWarning: Feature names only support names that are all strings. Got feature names with dtypes: ['int', 'str']. An error will be raised in 1.2.\n",
      "  warnings.warn(\n"
     ]
    }
   ],
   "source": [
    "# Random Forest calssifier model is the best performing 'model'\n",
    "tweet_pred = model4.predict(tweet_final_df)"
   ]
  },
  {
   "cell_type": "code",
   "execution_count": 104,
   "id": "ae046501",
   "metadata": {},
   "outputs": [
    {
     "data": {
      "text/plain": [
       "array([5, 5, 5, ..., 4, 5, 5])"
      ]
     },
     "execution_count": 104,
     "metadata": {},
     "output_type": "execute_result"
    }
   ],
   "source": [
    "tweet_pred"
   ]
  },
  {
   "cell_type": "markdown",
   "id": "b3e99b93",
   "metadata": {},
   "source": [
    "#### Reformatting & Adding Tweet scores ahead of the concatenation with the rest of reviews from Google/Apple/Trustpilot"
   ]
  },
  {
   "cell_type": "code",
   "execution_count": 105,
   "id": "d4e61af2",
   "metadata": {},
   "outputs": [
    {
     "data": {
      "text/html": [
       "<div>\n",
       "<style scoped>\n",
       "    .dataframe tbody tr th:only-of-type {\n",
       "        vertical-align: middle;\n",
       "    }\n",
       "\n",
       "    .dataframe tbody tr th {\n",
       "        vertical-align: top;\n",
       "    }\n",
       "\n",
       "    .dataframe thead th {\n",
       "        text-align: right;\n",
       "    }\n",
       "</style>\n",
       "<table border=\"1\" class=\"dataframe\">\n",
       "  <thead>\n",
       "    <tr style=\"text-align: right;\">\n",
       "      <th></th>\n",
       "      <th>date</th>\n",
       "      <th>review_content</th>\n",
       "      <th>char_count</th>\n",
       "      <th>word_count</th>\n",
       "      <th>sent_count</th>\n",
       "      <th>capital_char_count</th>\n",
       "      <th>capital_word_count</th>\n",
       "      <th>quoted_word_count</th>\n",
       "      <th>stopword_count</th>\n",
       "      <th>unique_word_count</th>\n",
       "      <th>htag_count</th>\n",
       "      <th>mention_count</th>\n",
       "      <th>punct_count</th>\n",
       "      <th>emoji_count</th>\n",
       "      <th>avg_wordlength</th>\n",
       "      <th>avg_sentlength</th>\n",
       "      <th>unique_vs_words</th>\n",
       "      <th>stopwords_vs_words</th>\n",
       "    </tr>\n",
       "  </thead>\n",
       "  <tbody>\n",
       "    <tr>\n",
       "      <th>0</th>\n",
       "      <td>2021-12</td>\n",
       "      <td>GREGGS TOO GOOD TO GO BAG | vlogmas day 9 http...</td>\n",
       "      <td>133</td>\n",
       "      <td>16</td>\n",
       "      <td>1</td>\n",
       "      <td>29</td>\n",
       "      <td>6</td>\n",
       "      <td>0</td>\n",
       "      <td>0</td>\n",
       "      <td>16</td>\n",
       "      <td>0</td>\n",
       "      <td>0</td>\n",
       "      <td>{'!count': 0, '#count': 4, '$count': 0, '%coun...</td>\n",
       "      <td>0</td>\n",
       "      <td>8.312500</td>\n",
       "      <td>16.0</td>\n",
       "      <td>1.000000</td>\n",
       "      <td>0.000000</td>\n",
       "    </tr>\n",
       "    <tr>\n",
       "      <th>1</th>\n",
       "      <td>2021-12</td>\n",
       "      <td>Vegetable magic bag from the local organic sup...</td>\n",
       "      <td>171</td>\n",
       "      <td>21</td>\n",
       "      <td>3</td>\n",
       "      <td>14</td>\n",
       "      <td>0</td>\n",
       "      <td>0</td>\n",
       "      <td>3</td>\n",
       "      <td>21</td>\n",
       "      <td>0</td>\n",
       "      <td>0</td>\n",
       "      <td>{'!count': 0, '#count': 1, '$count': 0, '%coun...</td>\n",
       "      <td>1</td>\n",
       "      <td>8.142857</td>\n",
       "      <td>7.0</td>\n",
       "      <td>1.000000</td>\n",
       "      <td>0.142857</td>\n",
       "    </tr>\n",
       "    <tr>\n",
       "      <th>2</th>\n",
       "      <td>2021-12</td>\n",
       "      <td>The retired dumpster diver in me has mixed fee...</td>\n",
       "      <td>101</td>\n",
       "      <td>13</td>\n",
       "      <td>2</td>\n",
       "      <td>9</td>\n",
       "      <td>0</td>\n",
       "      <td>0</td>\n",
       "      <td>5</td>\n",
       "      <td>13</td>\n",
       "      <td>0</td>\n",
       "      <td>0</td>\n",
       "      <td>{'!count': 0, '#count': 1, '$count': 0, '%coun...</td>\n",
       "      <td>0</td>\n",
       "      <td>7.769231</td>\n",
       "      <td>6.5</td>\n",
       "      <td>1.000000</td>\n",
       "      <td>0.384615</td>\n",
       "    </tr>\n",
       "    <tr>\n",
       "      <th>3</th>\n",
       "      <td>2021-12</td>\n",
       "      <td>Just love this app #TooGoodToGo - save yummy f...</td>\n",
       "      <td>158</td>\n",
       "      <td>24</td>\n",
       "      <td>2</td>\n",
       "      <td>9</td>\n",
       "      <td>0</td>\n",
       "      <td>0</td>\n",
       "      <td>10</td>\n",
       "      <td>23</td>\n",
       "      <td>0</td>\n",
       "      <td>0</td>\n",
       "      <td>{'!count': 1, '#count': 1, '$count': 0, '%coun...</td>\n",
       "      <td>0</td>\n",
       "      <td>6.583333</td>\n",
       "      <td>12.0</td>\n",
       "      <td>0.958333</td>\n",
       "      <td>0.416667</td>\n",
       "    </tr>\n",
       "    <tr>\n",
       "      <th>4</th>\n",
       "      <td>2021-12</td>\n",
       "      <td>Unsure if your passed-the-best-before product ...</td>\n",
       "      <td>201</td>\n",
       "      <td>27</td>\n",
       "      <td>3</td>\n",
       "      <td>21</td>\n",
       "      <td>0</td>\n",
       "      <td>0</td>\n",
       "      <td>8</td>\n",
       "      <td>26</td>\n",
       "      <td>0</td>\n",
       "      <td>0</td>\n",
       "      <td>{'!count': 1, '#count': 6, '$count': 0, '%coun...</td>\n",
       "      <td>3</td>\n",
       "      <td>7.444444</td>\n",
       "      <td>9.0</td>\n",
       "      <td>0.962963</td>\n",
       "      <td>0.296296</td>\n",
       "    </tr>\n",
       "  </tbody>\n",
       "</table>\n",
       "</div>"
      ],
      "text/plain": [
       "      date                                     review_content  char_count  \\\n",
       "0  2021-12  GREGGS TOO GOOD TO GO BAG | vlogmas day 9 http...         133   \n",
       "1  2021-12  Vegetable magic bag from the local organic sup...         171   \n",
       "2  2021-12  The retired dumpster diver in me has mixed fee...         101   \n",
       "3  2021-12  Just love this app #TooGoodToGo - save yummy f...         158   \n",
       "4  2021-12  Unsure if your passed-the-best-before product ...         201   \n",
       "\n",
       "   word_count  sent_count  capital_char_count  capital_word_count  \\\n",
       "0          16           1                  29                   6   \n",
       "1          21           3                  14                   0   \n",
       "2          13           2                   9                   0   \n",
       "3          24           2                   9                   0   \n",
       "4          27           3                  21                   0   \n",
       "\n",
       "   quoted_word_count  stopword_count  unique_word_count  htag_count  \\\n",
       "0                  0               0                 16           0   \n",
       "1                  0               3                 21           0   \n",
       "2                  0               5                 13           0   \n",
       "3                  0              10                 23           0   \n",
       "4                  0               8                 26           0   \n",
       "\n",
       "   mention_count                                        punct_count  \\\n",
       "0              0  {'!count': 0, '#count': 4, '$count': 0, '%coun...   \n",
       "1              0  {'!count': 0, '#count': 1, '$count': 0, '%coun...   \n",
       "2              0  {'!count': 0, '#count': 1, '$count': 0, '%coun...   \n",
       "3              0  {'!count': 1, '#count': 1, '$count': 0, '%coun...   \n",
       "4              0  {'!count': 1, '#count': 6, '$count': 0, '%coun...   \n",
       "\n",
       "   emoji_count  avg_wordlength  avg_sentlength  unique_vs_words  \\\n",
       "0            0        8.312500            16.0         1.000000   \n",
       "1            1        8.142857             7.0         1.000000   \n",
       "2            0        7.769231             6.5         1.000000   \n",
       "3            0        6.583333            12.0         0.958333   \n",
       "4            3        7.444444             9.0         0.962963   \n",
       "\n",
       "   stopwords_vs_words  \n",
       "0            0.000000  \n",
       "1            0.142857  \n",
       "2            0.384615  \n",
       "3            0.416667  \n",
       "4            0.296296  "
      ]
     },
     "execution_count": 105,
     "metadata": {},
     "output_type": "execute_result"
    }
   ],
   "source": [
    "# checking the Twitter dataframe\n",
    "tweet.head(5)"
   ]
  },
  {
   "cell_type": "code",
   "execution_count": 106,
   "id": "e6e488a2",
   "metadata": {},
   "outputs": [],
   "source": [
    "# adding the preprocessed reviews\n",
    "tweet['preprocessed_content'] = df_tweet['preprocessed_content_string']"
   ]
  },
  {
   "cell_type": "code",
   "execution_count": 107,
   "id": "aff371a7",
   "metadata": {},
   "outputs": [],
   "source": [
    "# adding the predicted Twitter scores\n",
    "tweet['rating'] = tweet_pred"
   ]
  },
  {
   "cell_type": "code",
   "execution_count": 108,
   "id": "96051968",
   "metadata": {},
   "outputs": [
    {
     "data": {
      "text/html": [
       "<div>\n",
       "<style scoped>\n",
       "    .dataframe tbody tr th:only-of-type {\n",
       "        vertical-align: middle;\n",
       "    }\n",
       "\n",
       "    .dataframe tbody tr th {\n",
       "        vertical-align: top;\n",
       "    }\n",
       "\n",
       "    .dataframe thead th {\n",
       "        text-align: right;\n",
       "    }\n",
       "</style>\n",
       "<table border=\"1\" class=\"dataframe\">\n",
       "  <thead>\n",
       "    <tr style=\"text-align: right;\">\n",
       "      <th></th>\n",
       "      <th>date</th>\n",
       "      <th>review_content</th>\n",
       "      <th>char_count</th>\n",
       "      <th>word_count</th>\n",
       "      <th>sent_count</th>\n",
       "      <th>capital_char_count</th>\n",
       "      <th>capital_word_count</th>\n",
       "      <th>quoted_word_count</th>\n",
       "      <th>stopword_count</th>\n",
       "      <th>unique_word_count</th>\n",
       "      <th>htag_count</th>\n",
       "      <th>mention_count</th>\n",
       "      <th>punct_count</th>\n",
       "      <th>emoji_count</th>\n",
       "      <th>avg_wordlength</th>\n",
       "      <th>avg_sentlength</th>\n",
       "      <th>unique_vs_words</th>\n",
       "      <th>stopwords_vs_words</th>\n",
       "      <th>preprocessed_content</th>\n",
       "      <th>rating</th>\n",
       "    </tr>\n",
       "  </thead>\n",
       "  <tbody>\n",
       "    <tr>\n",
       "      <th>0</th>\n",
       "      <td>2021-12</td>\n",
       "      <td>GREGGS TOO GOOD TO GO BAG | vlogmas day 9 http...</td>\n",
       "      <td>133</td>\n",
       "      <td>16</td>\n",
       "      <td>1</td>\n",
       "      <td>29</td>\n",
       "      <td>6</td>\n",
       "      <td>0</td>\n",
       "      <td>0</td>\n",
       "      <td>16</td>\n",
       "      <td>0</td>\n",
       "      <td>0</td>\n",
       "      <td>{'!count': 0, '#count': 4, '$count': 0, '%coun...</td>\n",
       "      <td>0</td>\n",
       "      <td>8.312500</td>\n",
       "      <td>16.0</td>\n",
       "      <td>1.000000</td>\n",
       "      <td>0.000000</td>\n",
       "      <td>greggs,good,bag,vlogmas,day,t,co,t,co</td>\n",
       "      <td>5</td>\n",
       "    </tr>\n",
       "    <tr>\n",
       "      <th>1</th>\n",
       "      <td>2021-12</td>\n",
       "      <td>Vegetable magic bag from the local organic sup...</td>\n",
       "      <td>171</td>\n",
       "      <td>21</td>\n",
       "      <td>3</td>\n",
       "      <td>14</td>\n",
       "      <td>0</td>\n",
       "      <td>0</td>\n",
       "      <td>3</td>\n",
       "      <td>21</td>\n",
       "      <td>0</td>\n",
       "      <td>0</td>\n",
       "      <td>{'!count': 0, '#count': 1, '$count': 0, '%coun...</td>\n",
       "      <td>1</td>\n",
       "      <td>8.142857</td>\n",
       "      <td>7.0</td>\n",
       "      <td>1.000000</td>\n",
       "      <td>0.142857</td>\n",
       "      <td>vegetable,magic,bag,local,organic,supermarket,...</td>\n",
       "      <td>5</td>\n",
       "    </tr>\n",
       "    <tr>\n",
       "      <th>2</th>\n",
       "      <td>2021-12</td>\n",
       "      <td>The retired dumpster diver in me has mixed fee...</td>\n",
       "      <td>101</td>\n",
       "      <td>13</td>\n",
       "      <td>2</td>\n",
       "      <td>9</td>\n",
       "      <td>0</td>\n",
       "      <td>0</td>\n",
       "      <td>5</td>\n",
       "      <td>13</td>\n",
       "      <td>0</td>\n",
       "      <td>0</td>\n",
       "      <td>{'!count': 0, '#count': 1, '$count': 0, '%coun...</td>\n",
       "      <td>0</td>\n",
       "      <td>7.769231</td>\n",
       "      <td>6.5</td>\n",
       "      <td>1.000000</td>\n",
       "      <td>0.384615</td>\n",
       "      <td>retired,dumpster,diver,mixed,feeling,t,co</td>\n",
       "      <td>5</td>\n",
       "    </tr>\n",
       "    <tr>\n",
       "      <th>3</th>\n",
       "      <td>2021-12</td>\n",
       "      <td>Just love this app #TooGoodToGo - save yummy f...</td>\n",
       "      <td>158</td>\n",
       "      <td>24</td>\n",
       "      <td>2</td>\n",
       "      <td>9</td>\n",
       "      <td>0</td>\n",
       "      <td>0</td>\n",
       "      <td>10</td>\n",
       "      <td>23</td>\n",
       "      <td>0</td>\n",
       "      <td>0</td>\n",
       "      <td>{'!count': 1, '#count': 1, '$count': 0, '%coun...</td>\n",
       "      <td>0</td>\n",
       "      <td>6.583333</td>\n",
       "      <td>12.0</td>\n",
       "      <td>0.958333</td>\n",
       "      <td>0.416667</td>\n",
       "      <td>love,app,save,yummy,food,chucked,help,pray,coo...</td>\n",
       "      <td>5</td>\n",
       "    </tr>\n",
       "    <tr>\n",
       "      <th>4</th>\n",
       "      <td>2021-12</td>\n",
       "      <td>Unsure if your passed-the-best-before product ...</td>\n",
       "      <td>201</td>\n",
       "      <td>27</td>\n",
       "      <td>3</td>\n",
       "      <td>21</td>\n",
       "      <td>0</td>\n",
       "      <td>0</td>\n",
       "      <td>8</td>\n",
       "      <td>26</td>\n",
       "      <td>0</td>\n",
       "      <td>0</td>\n",
       "      <td>{'!count': 1, '#count': 6, '$count': 0, '%coun...</td>\n",
       "      <td>3</td>\n",
       "      <td>7.444444</td>\n",
       "      <td>9.0</td>\n",
       "      <td>0.962963</td>\n",
       "      <td>0.296296</td>\n",
       "      <td>unsure,passed,best,product,good,beat,quick,tes...</td>\n",
       "      <td>5</td>\n",
       "    </tr>\n",
       "  </tbody>\n",
       "</table>\n",
       "</div>"
      ],
      "text/plain": [
       "      date                                     review_content  char_count  \\\n",
       "0  2021-12  GREGGS TOO GOOD TO GO BAG | vlogmas day 9 http...         133   \n",
       "1  2021-12  Vegetable magic bag from the local organic sup...         171   \n",
       "2  2021-12  The retired dumpster diver in me has mixed fee...         101   \n",
       "3  2021-12  Just love this app #TooGoodToGo - save yummy f...         158   \n",
       "4  2021-12  Unsure if your passed-the-best-before product ...         201   \n",
       "\n",
       "   word_count  sent_count  capital_char_count  capital_word_count  \\\n",
       "0          16           1                  29                   6   \n",
       "1          21           3                  14                   0   \n",
       "2          13           2                   9                   0   \n",
       "3          24           2                   9                   0   \n",
       "4          27           3                  21                   0   \n",
       "\n",
       "   quoted_word_count  stopword_count  unique_word_count  htag_count  \\\n",
       "0                  0               0                 16           0   \n",
       "1                  0               3                 21           0   \n",
       "2                  0               5                 13           0   \n",
       "3                  0              10                 23           0   \n",
       "4                  0               8                 26           0   \n",
       "\n",
       "   mention_count                                        punct_count  \\\n",
       "0              0  {'!count': 0, '#count': 4, '$count': 0, '%coun...   \n",
       "1              0  {'!count': 0, '#count': 1, '$count': 0, '%coun...   \n",
       "2              0  {'!count': 0, '#count': 1, '$count': 0, '%coun...   \n",
       "3              0  {'!count': 1, '#count': 1, '$count': 0, '%coun...   \n",
       "4              0  {'!count': 1, '#count': 6, '$count': 0, '%coun...   \n",
       "\n",
       "   emoji_count  avg_wordlength  avg_sentlength  unique_vs_words  \\\n",
       "0            0        8.312500            16.0         1.000000   \n",
       "1            1        8.142857             7.0         1.000000   \n",
       "2            0        7.769231             6.5         1.000000   \n",
       "3            0        6.583333            12.0         0.958333   \n",
       "4            3        7.444444             9.0         0.962963   \n",
       "\n",
       "   stopwords_vs_words                               preprocessed_content  \\\n",
       "0            0.000000              greggs,good,bag,vlogmas,day,t,co,t,co   \n",
       "1            0.142857  vegetable,magic,bag,local,organic,supermarket,...   \n",
       "2            0.384615          retired,dumpster,diver,mixed,feeling,t,co   \n",
       "3            0.416667  love,app,save,yummy,food,chucked,help,pray,coo...   \n",
       "4            0.296296  unsure,passed,best,product,good,beat,quick,tes...   \n",
       "\n",
       "   rating  \n",
       "0       5  \n",
       "1       5  \n",
       "2       5  \n",
       "3       5  \n",
       "4       5  "
      ]
     },
     "execution_count": 108,
     "metadata": {},
     "output_type": "execute_result"
    }
   ],
   "source": [
    "tweet.head(5)"
   ]
  },
  {
   "cell_type": "code",
   "execution_count": 109,
   "id": "0eb3ab9c",
   "metadata": {},
   "outputs": [
    {
     "data": {
      "text/html": [
       "<div>\n",
       "<style scoped>\n",
       "    .dataframe tbody tr th:only-of-type {\n",
       "        vertical-align: middle;\n",
       "    }\n",
       "\n",
       "    .dataframe tbody tr th {\n",
       "        vertical-align: top;\n",
       "    }\n",
       "\n",
       "    .dataframe thead th {\n",
       "        text-align: right;\n",
       "    }\n",
       "</style>\n",
       "<table border=\"1\" class=\"dataframe\">\n",
       "  <thead>\n",
       "    <tr style=\"text-align: right;\">\n",
       "      <th></th>\n",
       "      <th>date</th>\n",
       "      <th>review_content</th>\n",
       "      <th>char_count</th>\n",
       "      <th>word_count</th>\n",
       "      <th>sent_count</th>\n",
       "      <th>capital_char_count</th>\n",
       "      <th>capital_word_count</th>\n",
       "      <th>quoted_word_count</th>\n",
       "      <th>stopword_count</th>\n",
       "      <th>unique_word_count</th>\n",
       "      <th>...</th>\n",
       "      <th>mention_count</th>\n",
       "      <th>punct_count</th>\n",
       "      <th>emoji_count</th>\n",
       "      <th>avg_wordlength</th>\n",
       "      <th>avg_sentlength</th>\n",
       "      <th>unique_vs_words</th>\n",
       "      <th>stopwords_vs_words</th>\n",
       "      <th>preprocessed_content</th>\n",
       "      <th>rating</th>\n",
       "      <th>source</th>\n",
       "    </tr>\n",
       "  </thead>\n",
       "  <tbody>\n",
       "    <tr>\n",
       "      <th>0</th>\n",
       "      <td>2021-12</td>\n",
       "      <td>GREGGS TOO GOOD TO GO BAG | vlogmas day 9 http...</td>\n",
       "      <td>133</td>\n",
       "      <td>16</td>\n",
       "      <td>1</td>\n",
       "      <td>29</td>\n",
       "      <td>6</td>\n",
       "      <td>0</td>\n",
       "      <td>0</td>\n",
       "      <td>16</td>\n",
       "      <td>...</td>\n",
       "      <td>0</td>\n",
       "      <td>{'!count': 0, '#count': 4, '$count': 0, '%coun...</td>\n",
       "      <td>0</td>\n",
       "      <td>8.312500</td>\n",
       "      <td>16.0</td>\n",
       "      <td>1.000000</td>\n",
       "      <td>0.000000</td>\n",
       "      <td>greggs,good,bag,vlogmas,day,t,co,t,co</td>\n",
       "      <td>5</td>\n",
       "      <td>Twitter</td>\n",
       "    </tr>\n",
       "    <tr>\n",
       "      <th>1</th>\n",
       "      <td>2021-12</td>\n",
       "      <td>Vegetable magic bag from the local organic sup...</td>\n",
       "      <td>171</td>\n",
       "      <td>21</td>\n",
       "      <td>3</td>\n",
       "      <td>14</td>\n",
       "      <td>0</td>\n",
       "      <td>0</td>\n",
       "      <td>3</td>\n",
       "      <td>21</td>\n",
       "      <td>...</td>\n",
       "      <td>0</td>\n",
       "      <td>{'!count': 0, '#count': 1, '$count': 0, '%coun...</td>\n",
       "      <td>1</td>\n",
       "      <td>8.142857</td>\n",
       "      <td>7.0</td>\n",
       "      <td>1.000000</td>\n",
       "      <td>0.142857</td>\n",
       "      <td>vegetable,magic,bag,local,organic,supermarket,...</td>\n",
       "      <td>5</td>\n",
       "      <td>Twitter</td>\n",
       "    </tr>\n",
       "    <tr>\n",
       "      <th>2</th>\n",
       "      <td>2021-12</td>\n",
       "      <td>The retired dumpster diver in me has mixed fee...</td>\n",
       "      <td>101</td>\n",
       "      <td>13</td>\n",
       "      <td>2</td>\n",
       "      <td>9</td>\n",
       "      <td>0</td>\n",
       "      <td>0</td>\n",
       "      <td>5</td>\n",
       "      <td>13</td>\n",
       "      <td>...</td>\n",
       "      <td>0</td>\n",
       "      <td>{'!count': 0, '#count': 1, '$count': 0, '%coun...</td>\n",
       "      <td>0</td>\n",
       "      <td>7.769231</td>\n",
       "      <td>6.5</td>\n",
       "      <td>1.000000</td>\n",
       "      <td>0.384615</td>\n",
       "      <td>retired,dumpster,diver,mixed,feeling,t,co</td>\n",
       "      <td>5</td>\n",
       "      <td>Twitter</td>\n",
       "    </tr>\n",
       "    <tr>\n",
       "      <th>3</th>\n",
       "      <td>2021-12</td>\n",
       "      <td>Just love this app #TooGoodToGo - save yummy f...</td>\n",
       "      <td>158</td>\n",
       "      <td>24</td>\n",
       "      <td>2</td>\n",
       "      <td>9</td>\n",
       "      <td>0</td>\n",
       "      <td>0</td>\n",
       "      <td>10</td>\n",
       "      <td>23</td>\n",
       "      <td>...</td>\n",
       "      <td>0</td>\n",
       "      <td>{'!count': 1, '#count': 1, '$count': 0, '%coun...</td>\n",
       "      <td>0</td>\n",
       "      <td>6.583333</td>\n",
       "      <td>12.0</td>\n",
       "      <td>0.958333</td>\n",
       "      <td>0.416667</td>\n",
       "      <td>love,app,save,yummy,food,chucked,help,pray,coo...</td>\n",
       "      <td>5</td>\n",
       "      <td>Twitter</td>\n",
       "    </tr>\n",
       "    <tr>\n",
       "      <th>4</th>\n",
       "      <td>2021-12</td>\n",
       "      <td>Unsure if your passed-the-best-before product ...</td>\n",
       "      <td>201</td>\n",
       "      <td>27</td>\n",
       "      <td>3</td>\n",
       "      <td>21</td>\n",
       "      <td>0</td>\n",
       "      <td>0</td>\n",
       "      <td>8</td>\n",
       "      <td>26</td>\n",
       "      <td>...</td>\n",
       "      <td>0</td>\n",
       "      <td>{'!count': 1, '#count': 6, '$count': 0, '%coun...</td>\n",
       "      <td>3</td>\n",
       "      <td>7.444444</td>\n",
       "      <td>9.0</td>\n",
       "      <td>0.962963</td>\n",
       "      <td>0.296296</td>\n",
       "      <td>unsure,passed,best,product,good,beat,quick,tes...</td>\n",
       "      <td>5</td>\n",
       "      <td>Twitter</td>\n",
       "    </tr>\n",
       "  </tbody>\n",
       "</table>\n",
       "<p>5 rows × 21 columns</p>\n",
       "</div>"
      ],
      "text/plain": [
       "      date                                     review_content  char_count  \\\n",
       "0  2021-12  GREGGS TOO GOOD TO GO BAG | vlogmas day 9 http...         133   \n",
       "1  2021-12  Vegetable magic bag from the local organic sup...         171   \n",
       "2  2021-12  The retired dumpster diver in me has mixed fee...         101   \n",
       "3  2021-12  Just love this app #TooGoodToGo - save yummy f...         158   \n",
       "4  2021-12  Unsure if your passed-the-best-before product ...         201   \n",
       "\n",
       "   word_count  sent_count  capital_char_count  capital_word_count  \\\n",
       "0          16           1                  29                   6   \n",
       "1          21           3                  14                   0   \n",
       "2          13           2                   9                   0   \n",
       "3          24           2                   9                   0   \n",
       "4          27           3                  21                   0   \n",
       "\n",
       "   quoted_word_count  stopword_count  unique_word_count  ...  mention_count  \\\n",
       "0                  0               0                 16  ...              0   \n",
       "1                  0               3                 21  ...              0   \n",
       "2                  0               5                 13  ...              0   \n",
       "3                  0              10                 23  ...              0   \n",
       "4                  0               8                 26  ...              0   \n",
       "\n",
       "                                         punct_count emoji_count  \\\n",
       "0  {'!count': 0, '#count': 4, '$count': 0, '%coun...           0   \n",
       "1  {'!count': 0, '#count': 1, '$count': 0, '%coun...           1   \n",
       "2  {'!count': 0, '#count': 1, '$count': 0, '%coun...           0   \n",
       "3  {'!count': 1, '#count': 1, '$count': 0, '%coun...           0   \n",
       "4  {'!count': 1, '#count': 6, '$count': 0, '%coun...           3   \n",
       "\n",
       "   avg_wordlength  avg_sentlength  unique_vs_words  stopwords_vs_words  \\\n",
       "0        8.312500            16.0         1.000000            0.000000   \n",
       "1        8.142857             7.0         1.000000            0.142857   \n",
       "2        7.769231             6.5         1.000000            0.384615   \n",
       "3        6.583333            12.0         0.958333            0.416667   \n",
       "4        7.444444             9.0         0.962963            0.296296   \n",
       "\n",
       "                                preprocessed_content rating   source  \n",
       "0              greggs,good,bag,vlogmas,day,t,co,t,co      5  Twitter  \n",
       "1  vegetable,magic,bag,local,organic,supermarket,...      5  Twitter  \n",
       "2          retired,dumpster,diver,mixed,feeling,t,co      5  Twitter  \n",
       "3  love,app,save,yummy,food,chucked,help,pray,coo...      5  Twitter  \n",
       "4  unsure,passed,best,product,good,beat,quick,tes...      5  Twitter  \n",
       "\n",
       "[5 rows x 21 columns]"
      ]
     },
     "execution_count": 109,
     "metadata": {},
     "output_type": "execute_result"
    }
   ],
   "source": [
    "# adding the source dimension with 'Twitter'\n",
    "tweet['source'] = 'Twitter'\n",
    "tweet.head(5)"
   ]
  },
  {
   "cell_type": "markdown",
   "id": "888157cf",
   "metadata": {},
   "source": [
    "#### Formatting Twitter dataset for Topic modeling "
   ]
  },
  {
   "cell_type": "code",
   "execution_count": 110,
   "id": "1c1cac66",
   "metadata": {},
   "outputs": [
    {
     "data": {
      "text/html": [
       "<div>\n",
       "<style scoped>\n",
       "    .dataframe tbody tr th:only-of-type {\n",
       "        vertical-align: middle;\n",
       "    }\n",
       "\n",
       "    .dataframe tbody tr th {\n",
       "        vertical-align: top;\n",
       "    }\n",
       "\n",
       "    .dataframe thead th {\n",
       "        text-align: right;\n",
       "    }\n",
       "</style>\n",
       "<table border=\"1\" class=\"dataframe\">\n",
       "  <thead>\n",
       "    <tr style=\"text-align: right;\">\n",
       "      <th></th>\n",
       "      <th>preprocessed_content</th>\n",
       "      <th>rating</th>\n",
       "      <th>date</th>\n",
       "      <th>source</th>\n",
       "      <th>avg_sentlength</th>\n",
       "      <th>capital_word_count</th>\n",
       "      <th>emoji_count</th>\n",
       "    </tr>\n",
       "  </thead>\n",
       "  <tbody>\n",
       "    <tr>\n",
       "      <th>0</th>\n",
       "      <td>greggs,good,bag,vlogmas,day,t,co,t,co</td>\n",
       "      <td>5</td>\n",
       "      <td>2021-12</td>\n",
       "      <td>Twitter</td>\n",
       "      <td>16.0</td>\n",
       "      <td>6</td>\n",
       "      <td>0</td>\n",
       "    </tr>\n",
       "    <tr>\n",
       "      <th>1</th>\n",
       "      <td>vegetable,magic,bag,local,organic,supermarket,...</td>\n",
       "      <td>5</td>\n",
       "      <td>2021-12</td>\n",
       "      <td>Twitter</td>\n",
       "      <td>7.0</td>\n",
       "      <td>0</td>\n",
       "      <td>1</td>\n",
       "    </tr>\n",
       "    <tr>\n",
       "      <th>2</th>\n",
       "      <td>retired,dumpster,diver,mixed,feeling,t,co</td>\n",
       "      <td>5</td>\n",
       "      <td>2021-12</td>\n",
       "      <td>Twitter</td>\n",
       "      <td>6.5</td>\n",
       "      <td>0</td>\n",
       "      <td>0</td>\n",
       "    </tr>\n",
       "    <tr>\n",
       "      <th>3</th>\n",
       "      <td>love,app,save,yummy,food,chucked,help,pray,coo...</td>\n",
       "      <td>5</td>\n",
       "      <td>2021-12</td>\n",
       "      <td>Twitter</td>\n",
       "      <td>12.0</td>\n",
       "      <td>0</td>\n",
       "      <td>0</td>\n",
       "    </tr>\n",
       "    <tr>\n",
       "      <th>4</th>\n",
       "      <td>unsure,passed,best,product,good,beat,quick,tes...</td>\n",
       "      <td>5</td>\n",
       "      <td>2021-12</td>\n",
       "      <td>Twitter</td>\n",
       "      <td>9.0</td>\n",
       "      <td>0</td>\n",
       "      <td>3</td>\n",
       "    </tr>\n",
       "    <tr>\n",
       "      <th>...</th>\n",
       "      <td>...</td>\n",
       "      <td>...</td>\n",
       "      <td>...</td>\n",
       "      <td>...</td>\n",
       "      <td>...</td>\n",
       "      <td>...</td>\n",
       "      <td>...</td>\n",
       "    </tr>\n",
       "    <tr>\n",
       "      <th>1244</th>\n",
       "      <td>getting,app</td>\n",
       "      <td>5</td>\n",
       "      <td>2021-01</td>\n",
       "      <td>Twitter</td>\n",
       "      <td>9.0</td>\n",
       "      <td>0</td>\n",
       "      <td>0</td>\n",
       "    </tr>\n",
       "    <tr>\n",
       "      <th>1245</th>\n",
       "      <td>team,thank,giggle,face,tear,joy,t,co</td>\n",
       "      <td>5</td>\n",
       "      <td>2021-01</td>\n",
       "      <td>Twitter</td>\n",
       "      <td>6.0</td>\n",
       "      <td>0</td>\n",
       "      <td>1</td>\n",
       "    </tr>\n",
       "    <tr>\n",
       "      <th>1246</th>\n",
       "      <td>consider,good,haul,bit,current,diet,kid,end,bu...</td>\n",
       "      <td>4</td>\n",
       "      <td>2021-01</td>\n",
       "      <td>Twitter</td>\n",
       "      <td>15.0</td>\n",
       "      <td>1</td>\n",
       "      <td>0</td>\n",
       "    </tr>\n",
       "    <tr>\n",
       "      <th>1247</th>\n",
       "      <td>exciting,starting,year,mean,app,prevent,food,w...</td>\n",
       "      <td>5</td>\n",
       "      <td>2021-01</td>\n",
       "      <td>Twitter</td>\n",
       "      <td>9.2</td>\n",
       "      <td>1</td>\n",
       "      <td>0</td>\n",
       "    </tr>\n",
       "    <tr>\n",
       "      <th>1248</th>\n",
       "      <td>verry,good,winking,face,t,co</td>\n",
       "      <td>5</td>\n",
       "      <td>2021-01</td>\n",
       "      <td>Twitter</td>\n",
       "      <td>7.0</td>\n",
       "      <td>0</td>\n",
       "      <td>1</td>\n",
       "    </tr>\n",
       "  </tbody>\n",
       "</table>\n",
       "<p>1249 rows × 7 columns</p>\n",
       "</div>"
      ],
      "text/plain": [
       "                                   preprocessed_content  rating     date  \\\n",
       "0                 greggs,good,bag,vlogmas,day,t,co,t,co       5  2021-12   \n",
       "1     vegetable,magic,bag,local,organic,supermarket,...       5  2021-12   \n",
       "2             retired,dumpster,diver,mixed,feeling,t,co       5  2021-12   \n",
       "3     love,app,save,yummy,food,chucked,help,pray,coo...       5  2021-12   \n",
       "4     unsure,passed,best,product,good,beat,quick,tes...       5  2021-12   \n",
       "...                                                 ...     ...      ...   \n",
       "1244                                        getting,app       5  2021-01   \n",
       "1245               team,thank,giggle,face,tear,joy,t,co       5  2021-01   \n",
       "1246  consider,good,haul,bit,current,diet,kid,end,bu...       4  2021-01   \n",
       "1247  exciting,starting,year,mean,app,prevent,food,w...       5  2021-01   \n",
       "1248                       verry,good,winking,face,t,co       5  2021-01   \n",
       "\n",
       "       source  avg_sentlength  capital_word_count  emoji_count  \n",
       "0     Twitter            16.0                   6            0  \n",
       "1     Twitter             7.0                   0            1  \n",
       "2     Twitter             6.5                   0            0  \n",
       "3     Twitter            12.0                   0            0  \n",
       "4     Twitter             9.0                   0            3  \n",
       "...       ...             ...                 ...          ...  \n",
       "1244  Twitter             9.0                   0            0  \n",
       "1245  Twitter             6.0                   0            1  \n",
       "1246  Twitter            15.0                   1            0  \n",
       "1247  Twitter             9.2                   1            0  \n",
       "1248  Twitter             7.0                   0            1  \n",
       "\n",
       "[1249 rows x 7 columns]"
      ]
     },
     "execution_count": 110,
     "metadata": {},
     "output_type": "execute_result"
    }
   ],
   "source": [
    "# reordering the dimensions so that concatenation can happen properly\n",
    "tweet = tweet[['preprocessed_content','rating','date','source','avg_sentlength','capital_word_count','emoji_count']]\n",
    "tweet"
   ]
  },
  {
   "cell_type": "code",
   "execution_count": 112,
   "id": "0167f6d8",
   "metadata": {},
   "outputs": [
    {
     "name": "stdout",
     "output_type": "stream",
     "text": [
      "<class 'pandas.core.frame.DataFrame'>\n",
      "RangeIndex: 1249 entries, 0 to 1248\n",
      "Data columns (total 7 columns):\n",
      " #   Column                Non-Null Count  Dtype  \n",
      "---  ------                --------------  -----  \n",
      " 0   preprocessed_content  1249 non-null   object \n",
      " 1   rating                1249 non-null   int64  \n",
      " 2   date                  1249 non-null   object \n",
      " 3   source                1249 non-null   object \n",
      " 4   avg_sentlength        1249 non-null   float64\n",
      " 5   capital_word_count    1249 non-null   int64  \n",
      " 6   emoji_count           1249 non-null   int64  \n",
      "dtypes: float64(1), int64(3), object(3)\n",
      "memory usage: 68.4+ KB\n"
     ]
    }
   ],
   "source": [
    "tweet.info()"
   ]
  },
  {
   "cell_type": "markdown",
   "id": "66bf8e3e",
   "metadata": {},
   "source": [
    "## Step 4 - Formatting Google/Apple/Trustpilot dataset with the Twitter one for Topic modeling"
   ]
  },
  {
   "cell_type": "markdown",
   "id": "5f2d88ae",
   "metadata": {},
   "source": [
    "#### Formatting datasets with Google/Apple/Trustpilot reviews"
   ]
  },
  {
   "cell_type": "code",
   "execution_count": 113,
   "id": "cdee5502",
   "metadata": {},
   "outputs": [
    {
     "data": {
      "text/html": [
       "<div>\n",
       "<style scoped>\n",
       "    .dataframe tbody tr th:only-of-type {\n",
       "        vertical-align: middle;\n",
       "    }\n",
       "\n",
       "    .dataframe tbody tr th {\n",
       "        vertical-align: top;\n",
       "    }\n",
       "\n",
       "    .dataframe thead th {\n",
       "        text-align: right;\n",
       "    }\n",
       "</style>\n",
       "<table border=\"1\" class=\"dataframe\">\n",
       "  <thead>\n",
       "    <tr style=\"text-align: right;\">\n",
       "      <th></th>\n",
       "      <th>review_content</th>\n",
       "      <th>rating</th>\n",
       "      <th>date</th>\n",
       "      <th>source</th>\n",
       "    </tr>\n",
       "  </thead>\n",
       "  <tbody>\n",
       "    <tr>\n",
       "      <th>0</th>\n",
       "      <td>It does exactly what it says it does efficient...</td>\n",
       "      <td>5</td>\n",
       "      <td>2021-12-01</td>\n",
       "      <td>Google</td>\n",
       "    </tr>\n",
       "    <tr>\n",
       "      <th>1</th>\n",
       "      <td>Well, I've only done 2 different vendors. The ...</td>\n",
       "      <td>4</td>\n",
       "      <td>2021-12-01</td>\n",
       "      <td>Google</td>\n",
       "    </tr>\n",
       "    <tr>\n",
       "      <th>2</th>\n",
       "      <td>Still in my first week. And I'm looking forwar...</td>\n",
       "      <td>5</td>\n",
       "      <td>2021-12-01</td>\n",
       "      <td>Google</td>\n",
       "    </tr>\n",
       "    <tr>\n",
       "      <th>3</th>\n",
       "      <td>loving the app.</td>\n",
       "      <td>5</td>\n",
       "      <td>2021-12-01</td>\n",
       "      <td>Google</td>\n",
       "    </tr>\n",
       "    <tr>\n",
       "      <th>4</th>\n",
       "      <td>AT FIRST: 1) Lovely experience. charming staff...</td>\n",
       "      <td>2</td>\n",
       "      <td>2021-12-01</td>\n",
       "      <td>Google</td>\n",
       "    </tr>\n",
       "  </tbody>\n",
       "</table>\n",
       "</div>"
      ],
      "text/plain": [
       "                                      review_content  rating       date  \\\n",
       "0  It does exactly what it says it does efficient...       5 2021-12-01   \n",
       "1  Well, I've only done 2 different vendors. The ...       4 2021-12-01   \n",
       "2  Still in my first week. And I'm looking forwar...       5 2021-12-01   \n",
       "3                                    loving the app.       5 2021-12-01   \n",
       "4  AT FIRST: 1) Lovely experience. charming staff...       2 2021-12-01   \n",
       "\n",
       "   source  \n",
       "0  Google  \n",
       "1  Google  \n",
       "2  Google  \n",
       "3  Google  \n",
       "4  Google  "
      ]
     },
     "execution_count": 113,
     "metadata": {},
     "output_type": "execute_result"
    }
   ],
   "source": [
    "df.head(5)"
   ]
  },
  {
   "cell_type": "code",
   "execution_count": 114,
   "id": "92d559cf",
   "metadata": {},
   "outputs": [
    {
     "data": {
      "text/html": [
       "<div>\n",
       "<style scoped>\n",
       "    .dataframe tbody tr th:only-of-type {\n",
       "        vertical-align: middle;\n",
       "    }\n",
       "\n",
       "    .dataframe tbody tr th {\n",
       "        vertical-align: top;\n",
       "    }\n",
       "\n",
       "    .dataframe thead th {\n",
       "        text-align: right;\n",
       "    }\n",
       "</style>\n",
       "<table border=\"1\" class=\"dataframe\">\n",
       "  <thead>\n",
       "    <tr style=\"text-align: right;\">\n",
       "      <th></th>\n",
       "      <th>review_content</th>\n",
       "      <th>rating</th>\n",
       "      <th>date</th>\n",
       "      <th>source</th>\n",
       "      <th>preprocessed_content</th>\n",
       "    </tr>\n",
       "  </thead>\n",
       "  <tbody>\n",
       "    <tr>\n",
       "      <th>0</th>\n",
       "      <td>It does exactly what it says it does efficient...</td>\n",
       "      <td>5</td>\n",
       "      <td>2021-12-01</td>\n",
       "      <td>Google</td>\n",
       "      <td>[exactly, say, efficiently, saving, food, fill...</td>\n",
       "    </tr>\n",
       "    <tr>\n",
       "      <th>1</th>\n",
       "      <td>Well, I've only done 2 different vendors. The ...</td>\n",
       "      <td>4</td>\n",
       "      <td>2021-12-01</td>\n",
       "      <td>Google</td>\n",
       "      <td>[ive, different, vendor, donut, shop, bought, ...</td>\n",
       "    </tr>\n",
       "    <tr>\n",
       "      <th>2</th>\n",
       "      <td>Still in my first week. And I'm looking forwar...</td>\n",
       "      <td>5</td>\n",
       "      <td>2021-12-01</td>\n",
       "      <td>Google</td>\n",
       "      <td>[week, im, looking, forward, great, deal, ahead]</td>\n",
       "    </tr>\n",
       "    <tr>\n",
       "      <th>3</th>\n",
       "      <td>loving the app.</td>\n",
       "      <td>5</td>\n",
       "      <td>2021-12-01</td>\n",
       "      <td>Google</td>\n",
       "      <td>[loving, app]</td>\n",
       "    </tr>\n",
       "    <tr>\n",
       "      <th>4</th>\n",
       "      <td>AT FIRST: 1) Lovely experience. charming staff...</td>\n",
       "      <td>2</td>\n",
       "      <td>2021-12-01</td>\n",
       "      <td>Google</td>\n",
       "      <td>[lovely, experience, charming, staff, moderate...</td>\n",
       "    </tr>\n",
       "  </tbody>\n",
       "</table>\n",
       "</div>"
      ],
      "text/plain": [
       "                                      review_content  rating       date  \\\n",
       "0  It does exactly what it says it does efficient...       5 2021-12-01   \n",
       "1  Well, I've only done 2 different vendors. The ...       4 2021-12-01   \n",
       "2  Still in my first week. And I'm looking forwar...       5 2021-12-01   \n",
       "3                                    loving the app.       5 2021-12-01   \n",
       "4  AT FIRST: 1) Lovely experience. charming staff...       2 2021-12-01   \n",
       "\n",
       "   source                               preprocessed_content  \n",
       "0  Google  [exactly, say, efficiently, saving, food, fill...  \n",
       "1  Google  [ive, different, vendor, donut, shop, bought, ...  \n",
       "2  Google   [week, im, looking, forward, great, deal, ahead]  \n",
       "3  Google                                      [loving, app]  \n",
       "4  Google  [lovely, experience, charming, staff, moderate...  "
      ]
     },
     "execution_count": 114,
     "metadata": {},
     "output_type": "execute_result"
    }
   ],
   "source": [
    "# applying preprocessing applied for the classification - step 1\n",
    "df['preprocessed_content'] = df['review_content'].apply(lambda x:preprocessing(x))\n",
    "df.head(5)"
   ]
  },
  {
   "cell_type": "code",
   "execution_count": 115,
   "id": "87622b26",
   "metadata": {},
   "outputs": [
    {
     "data": {
      "text/html": [
       "<div>\n",
       "<style scoped>\n",
       "    .dataframe tbody tr th:only-of-type {\n",
       "        vertical-align: middle;\n",
       "    }\n",
       "\n",
       "    .dataframe tbody tr th {\n",
       "        vertical-align: top;\n",
       "    }\n",
       "\n",
       "    .dataframe thead th {\n",
       "        text-align: right;\n",
       "    }\n",
       "</style>\n",
       "<table border=\"1\" class=\"dataframe\">\n",
       "  <thead>\n",
       "    <tr style=\"text-align: right;\">\n",
       "      <th></th>\n",
       "      <th>review_content</th>\n",
       "      <th>rating</th>\n",
       "      <th>date</th>\n",
       "      <th>source</th>\n",
       "      <th>preprocessed_content</th>\n",
       "    </tr>\n",
       "  </thead>\n",
       "  <tbody>\n",
       "    <tr>\n",
       "      <th>0</th>\n",
       "      <td>It does exactly what it says it does efficient...</td>\n",
       "      <td>5</td>\n",
       "      <td>2021-12-01</td>\n",
       "      <td>Google</td>\n",
       "      <td>exactly,say,efficiently,saving,food,filling,be...</td>\n",
       "    </tr>\n",
       "    <tr>\n",
       "      <th>1</th>\n",
       "      <td>Well, I've only done 2 different vendors. The ...</td>\n",
       "      <td>4</td>\n",
       "      <td>2021-12-01</td>\n",
       "      <td>Google</td>\n",
       "      <td>ive,different,vendor,donut,shop,bought,bag,hor...</td>\n",
       "    </tr>\n",
       "    <tr>\n",
       "      <th>2</th>\n",
       "      <td>Still in my first week. And I'm looking forwar...</td>\n",
       "      <td>5</td>\n",
       "      <td>2021-12-01</td>\n",
       "      <td>Google</td>\n",
       "      <td>week,im,looking,forward,great,deal,ahead</td>\n",
       "    </tr>\n",
       "    <tr>\n",
       "      <th>3</th>\n",
       "      <td>loving the app.</td>\n",
       "      <td>5</td>\n",
       "      <td>2021-12-01</td>\n",
       "      <td>Google</td>\n",
       "      <td>loving,app</td>\n",
       "    </tr>\n",
       "    <tr>\n",
       "      <th>4</th>\n",
       "      <td>AT FIRST: 1) Lovely experience. charming staff...</td>\n",
       "      <td>2</td>\n",
       "      <td>2021-12-01</td>\n",
       "      <td>Google</td>\n",
       "      <td>lovely,experience,charming,staff,moderately,hi...</td>\n",
       "    </tr>\n",
       "  </tbody>\n",
       "</table>\n",
       "</div>"
      ],
      "text/plain": [
       "                                      review_content  rating       date  \\\n",
       "0  It does exactly what it says it does efficient...       5 2021-12-01   \n",
       "1  Well, I've only done 2 different vendors. The ...       4 2021-12-01   \n",
       "2  Still in my first week. And I'm looking forwar...       5 2021-12-01   \n",
       "3                                    loving the app.       5 2021-12-01   \n",
       "4  AT FIRST: 1) Lovely experience. charming staff...       2 2021-12-01   \n",
       "\n",
       "   source                               preprocessed_content  \n",
       "0  Google  exactly,say,efficiently,saving,food,filling,be...  \n",
       "1  Google  ive,different,vendor,donut,shop,bought,bag,hor...  \n",
       "2  Google           week,im,looking,forward,great,deal,ahead  \n",
       "3  Google                                         loving,app  \n",
       "4  Google  lovely,experience,charming,staff,moderately,hi...  "
      ]
     },
     "execution_count": 115,
     "metadata": {},
     "output_type": "execute_result"
    }
   ],
   "source": [
    "# applying preprocessing applied for the classification - step 2\n",
    "df['preprocessed_content'] = [','.join(map(str, l)) for l in df['preprocessed_content']]\n",
    "df.head(5)"
   ]
  },
  {
   "cell_type": "code",
   "execution_count": 117,
   "id": "b863466a",
   "metadata": {},
   "outputs": [],
   "source": [
    "# adding complimentary dimensions for topic modeling\n",
    "df['word_count'] = df[\"review_content\"].apply(lambda x:count_words(x))\n",
    "df['sent_count'] = df[\"review_content\"].apply(lambda x:count_sent(x))\n",
    "df['avg_sentlength'] = df['word_count']/df['sent_count']\n",
    "df['capital_word_count'] = df[\"review_content\"].apply(lambda x:count_capital_words(x))\n",
    "df['emoji_count'] = df[\"review_content\"].apply(lambda x:count_emoji(x))"
   ]
  },
  {
   "cell_type": "code",
   "execution_count": 118,
   "id": "ca011df7",
   "metadata": {},
   "outputs": [
    {
     "data": {
      "text/html": [
       "<div>\n",
       "<style scoped>\n",
       "    .dataframe tbody tr th:only-of-type {\n",
       "        vertical-align: middle;\n",
       "    }\n",
       "\n",
       "    .dataframe tbody tr th {\n",
       "        vertical-align: top;\n",
       "    }\n",
       "\n",
       "    .dataframe thead th {\n",
       "        text-align: right;\n",
       "    }\n",
       "</style>\n",
       "<table border=\"1\" class=\"dataframe\">\n",
       "  <thead>\n",
       "    <tr style=\"text-align: right;\">\n",
       "      <th></th>\n",
       "      <th>preprocessed_content</th>\n",
       "      <th>rating</th>\n",
       "      <th>date</th>\n",
       "      <th>source</th>\n",
       "      <th>avg_sentlength</th>\n",
       "      <th>capital_word_count</th>\n",
       "      <th>emoji_count</th>\n",
       "    </tr>\n",
       "  </thead>\n",
       "  <tbody>\n",
       "    <tr>\n",
       "      <th>0</th>\n",
       "      <td>exactly,say,efficiently,saving,food,filling,be...</td>\n",
       "      <td>5</td>\n",
       "      <td>2021-12-01</td>\n",
       "      <td>Google</td>\n",
       "      <td>8.500000</td>\n",
       "      <td>0</td>\n",
       "      <td>0</td>\n",
       "    </tr>\n",
       "    <tr>\n",
       "      <th>1</th>\n",
       "      <td>ive,different,vendor,donut,shop,bought,bag,hor...</td>\n",
       "      <td>4</td>\n",
       "      <td>2021-12-01</td>\n",
       "      <td>Google</td>\n",
       "      <td>8.333333</td>\n",
       "      <td>2</td>\n",
       "      <td>0</td>\n",
       "    </tr>\n",
       "    <tr>\n",
       "      <th>2</th>\n",
       "      <td>week,im,looking,forward,great,deal,ahead</td>\n",
       "      <td>5</td>\n",
       "      <td>2021-12-01</td>\n",
       "      <td>Google</td>\n",
       "      <td>7.000000</td>\n",
       "      <td>0</td>\n",
       "      <td>0</td>\n",
       "    </tr>\n",
       "    <tr>\n",
       "      <th>3</th>\n",
       "      <td>loving,app</td>\n",
       "      <td>5</td>\n",
       "      <td>2021-12-01</td>\n",
       "      <td>Google</td>\n",
       "      <td>3.000000</td>\n",
       "      <td>0</td>\n",
       "      <td>0</td>\n",
       "    </tr>\n",
       "    <tr>\n",
       "      <th>4</th>\n",
       "      <td>lovely,experience,charming,staff,moderately,hi...</td>\n",
       "      <td>2</td>\n",
       "      <td>2021-12-01</td>\n",
       "      <td>Google</td>\n",
       "      <td>10.833333</td>\n",
       "      <td>17</td>\n",
       "      <td>4</td>\n",
       "    </tr>\n",
       "  </tbody>\n",
       "</table>\n",
       "</div>"
      ],
      "text/plain": [
       "                                preprocessed_content  rating       date  \\\n",
       "0  exactly,say,efficiently,saving,food,filling,be...       5 2021-12-01   \n",
       "1  ive,different,vendor,donut,shop,bought,bag,hor...       4 2021-12-01   \n",
       "2           week,im,looking,forward,great,deal,ahead       5 2021-12-01   \n",
       "3                                         loving,app       5 2021-12-01   \n",
       "4  lovely,experience,charming,staff,moderately,hi...       2 2021-12-01   \n",
       "\n",
       "   source  avg_sentlength  capital_word_count  emoji_count  \n",
       "0  Google        8.500000                   0            0  \n",
       "1  Google        8.333333                   2            0  \n",
       "2  Google        7.000000                   0            0  \n",
       "3  Google        3.000000                   0            0  \n",
       "4  Google       10.833333                  17            4  "
      ]
     },
     "execution_count": 118,
     "metadata": {},
     "output_type": "execute_result"
    }
   ],
   "source": [
    "# Keeping only the necessary columns\n",
    "df = df[['preprocessed_content','rating','date','source','avg_sentlength', 'capital_word_count', 'emoji_count']]\n",
    "df.head(5)"
   ]
  },
  {
   "cell_type": "code",
   "execution_count": 119,
   "id": "467ce897",
   "metadata": {},
   "outputs": [
    {
     "name": "stdout",
     "output_type": "stream",
     "text": [
      "<class 'pandas.core.frame.DataFrame'>\n",
      "Int64Index: 22968 entries, 0 to 1467\n",
      "Data columns (total 7 columns):\n",
      " #   Column                Non-Null Count  Dtype         \n",
      "---  ------                --------------  -----         \n",
      " 0   preprocessed_content  22968 non-null  object        \n",
      " 1   rating                22968 non-null  int64         \n",
      " 2   date                  22968 non-null  datetime64[ns]\n",
      " 3   source                22968 non-null  object        \n",
      " 4   avg_sentlength        22968 non-null  float64       \n",
      " 5   capital_word_count    22968 non-null  int64         \n",
      " 6   emoji_count           22968 non-null  int64         \n",
      "dtypes: datetime64[ns](1), float64(1), int64(3), object(2)\n",
      "memory usage: 1.9+ MB\n"
     ]
    }
   ],
   "source": [
    "df.info()"
   ]
  },
  {
   "cell_type": "markdown",
   "id": "3c15eaa9",
   "metadata": {},
   "source": [
    "#### Concatenation all datasets into one \"df_topic\" for topic modeling"
   ]
  },
  {
   "cell_type": "code",
   "execution_count": 120,
   "id": "d3bd5756",
   "metadata": {},
   "outputs": [],
   "source": [
    "df_topic = pd.concat([df,tweet], axis=0)"
   ]
  },
  {
   "cell_type": "code",
   "execution_count": 122,
   "id": "7ebe67f4",
   "metadata": {},
   "outputs": [
    {
     "name": "stdout",
     "output_type": "stream",
     "text": [
      "<class 'pandas.core.frame.DataFrame'>\n",
      "Int64Index: 24217 entries, 0 to 1248\n",
      "Data columns (total 7 columns):\n",
      " #   Column                Non-Null Count  Dtype  \n",
      "---  ------                --------------  -----  \n",
      " 0   preprocessed_content  24217 non-null  object \n",
      " 1   rating                24217 non-null  int64  \n",
      " 2   date                  24217 non-null  object \n",
      " 3   source                24217 non-null  object \n",
      " 4   avg_sentlength        24217 non-null  float64\n",
      " 5   capital_word_count    24217 non-null  int64  \n",
      " 6   emoji_count           24217 non-null  int64  \n",
      "dtypes: float64(1), int64(3), object(3)\n",
      "memory usage: 1.5+ MB\n"
     ]
    }
   ],
   "source": [
    "df_topic.info()"
   ]
  },
  {
   "cell_type": "code",
   "execution_count": 123,
   "id": "24af1b78",
   "metadata": {},
   "outputs": [
    {
     "data": {
      "text/html": [
       "<div>\n",
       "<style scoped>\n",
       "    .dataframe tbody tr th:only-of-type {\n",
       "        vertical-align: middle;\n",
       "    }\n",
       "\n",
       "    .dataframe tbody tr th {\n",
       "        vertical-align: top;\n",
       "    }\n",
       "\n",
       "    .dataframe thead th {\n",
       "        text-align: right;\n",
       "    }\n",
       "</style>\n",
       "<table border=\"1\" class=\"dataframe\">\n",
       "  <thead>\n",
       "    <tr style=\"text-align: right;\">\n",
       "      <th></th>\n",
       "      <th>preprocessed_content</th>\n",
       "      <th>rating</th>\n",
       "      <th>date</th>\n",
       "      <th>source</th>\n",
       "      <th>avg_sentlength</th>\n",
       "      <th>capital_word_count</th>\n",
       "      <th>emoji_count</th>\n",
       "    </tr>\n",
       "  </thead>\n",
       "  <tbody>\n",
       "    <tr>\n",
       "      <th>0</th>\n",
       "      <td>exactly,say,efficiently,saving,food,filling,be...</td>\n",
       "      <td>5</td>\n",
       "      <td>2021-12-01 00:00:00</td>\n",
       "      <td>Google</td>\n",
       "      <td>8.500000</td>\n",
       "      <td>0</td>\n",
       "      <td>0</td>\n",
       "    </tr>\n",
       "    <tr>\n",
       "      <th>1</th>\n",
       "      <td>ive,different,vendor,donut,shop,bought,bag,hor...</td>\n",
       "      <td>4</td>\n",
       "      <td>2021-12-01 00:00:00</td>\n",
       "      <td>Google</td>\n",
       "      <td>8.333333</td>\n",
       "      <td>2</td>\n",
       "      <td>0</td>\n",
       "    </tr>\n",
       "    <tr>\n",
       "      <th>2</th>\n",
       "      <td>week,im,looking,forward,great,deal,ahead</td>\n",
       "      <td>5</td>\n",
       "      <td>2021-12-01 00:00:00</td>\n",
       "      <td>Google</td>\n",
       "      <td>7.000000</td>\n",
       "      <td>0</td>\n",
       "      <td>0</td>\n",
       "    </tr>\n",
       "    <tr>\n",
       "      <th>3</th>\n",
       "      <td>loving,app</td>\n",
       "      <td>5</td>\n",
       "      <td>2021-12-01 00:00:00</td>\n",
       "      <td>Google</td>\n",
       "      <td>3.000000</td>\n",
       "      <td>0</td>\n",
       "      <td>0</td>\n",
       "    </tr>\n",
       "    <tr>\n",
       "      <th>4</th>\n",
       "      <td>lovely,experience,charming,staff,moderately,hi...</td>\n",
       "      <td>2</td>\n",
       "      <td>2021-12-01 00:00:00</td>\n",
       "      <td>Google</td>\n",
       "      <td>10.833333</td>\n",
       "      <td>17</td>\n",
       "      <td>4</td>\n",
       "    </tr>\n",
       "    <tr>\n",
       "      <th>...</th>\n",
       "      <td>...</td>\n",
       "      <td>...</td>\n",
       "      <td>...</td>\n",
       "      <td>...</td>\n",
       "      <td>...</td>\n",
       "      <td>...</td>\n",
       "      <td>...</td>\n",
       "    </tr>\n",
       "    <tr>\n",
       "      <th>24212</th>\n",
       "      <td>getting,app</td>\n",
       "      <td>5</td>\n",
       "      <td>2021-01</td>\n",
       "      <td>Twitter</td>\n",
       "      <td>9.000000</td>\n",
       "      <td>0</td>\n",
       "      <td>0</td>\n",
       "    </tr>\n",
       "    <tr>\n",
       "      <th>24213</th>\n",
       "      <td>team,thank,giggle,face,tear,joy,t,co</td>\n",
       "      <td>5</td>\n",
       "      <td>2021-01</td>\n",
       "      <td>Twitter</td>\n",
       "      <td>6.000000</td>\n",
       "      <td>0</td>\n",
       "      <td>1</td>\n",
       "    </tr>\n",
       "    <tr>\n",
       "      <th>24214</th>\n",
       "      <td>consider,good,haul,bit,current,diet,kid,end,bu...</td>\n",
       "      <td>4</td>\n",
       "      <td>2021-01</td>\n",
       "      <td>Twitter</td>\n",
       "      <td>15.000000</td>\n",
       "      <td>1</td>\n",
       "      <td>0</td>\n",
       "    </tr>\n",
       "    <tr>\n",
       "      <th>24215</th>\n",
       "      <td>exciting,starting,year,mean,app,prevent,food,w...</td>\n",
       "      <td>5</td>\n",
       "      <td>2021-01</td>\n",
       "      <td>Twitter</td>\n",
       "      <td>9.200000</td>\n",
       "      <td>1</td>\n",
       "      <td>0</td>\n",
       "    </tr>\n",
       "    <tr>\n",
       "      <th>24216</th>\n",
       "      <td>verry,good,winking,face,t,co</td>\n",
       "      <td>5</td>\n",
       "      <td>2021-01</td>\n",
       "      <td>Twitter</td>\n",
       "      <td>7.000000</td>\n",
       "      <td>0</td>\n",
       "      <td>1</td>\n",
       "    </tr>\n",
       "  </tbody>\n",
       "</table>\n",
       "<p>24217 rows × 7 columns</p>\n",
       "</div>"
      ],
      "text/plain": [
       "                                    preprocessed_content  rating  \\\n",
       "0      exactly,say,efficiently,saving,food,filling,be...       5   \n",
       "1      ive,different,vendor,donut,shop,bought,bag,hor...       4   \n",
       "2               week,im,looking,forward,great,deal,ahead       5   \n",
       "3                                             loving,app       5   \n",
       "4      lovely,experience,charming,staff,moderately,hi...       2   \n",
       "...                                                  ...     ...   \n",
       "24212                                        getting,app       5   \n",
       "24213               team,thank,giggle,face,tear,joy,t,co       5   \n",
       "24214  consider,good,haul,bit,current,diet,kid,end,bu...       4   \n",
       "24215  exciting,starting,year,mean,app,prevent,food,w...       5   \n",
       "24216                       verry,good,winking,face,t,co       5   \n",
       "\n",
       "                      date   source  avg_sentlength  capital_word_count  \\\n",
       "0      2021-12-01 00:00:00   Google        8.500000                   0   \n",
       "1      2021-12-01 00:00:00   Google        8.333333                   2   \n",
       "2      2021-12-01 00:00:00   Google        7.000000                   0   \n",
       "3      2021-12-01 00:00:00   Google        3.000000                   0   \n",
       "4      2021-12-01 00:00:00   Google       10.833333                  17   \n",
       "...                    ...      ...             ...                 ...   \n",
       "24212              2021-01  Twitter        9.000000                   0   \n",
       "24213              2021-01  Twitter        6.000000                   0   \n",
       "24214              2021-01  Twitter       15.000000                   1   \n",
       "24215              2021-01  Twitter        9.200000                   1   \n",
       "24216              2021-01  Twitter        7.000000                   0   \n",
       "\n",
       "       emoji_count  \n",
       "0                0  \n",
       "1                0  \n",
       "2                0  \n",
       "3                0  \n",
       "4                4  \n",
       "...            ...  \n",
       "24212            0  \n",
       "24213            1  \n",
       "24214            0  \n",
       "24215            0  \n",
       "24216            1  \n",
       "\n",
       "[24217 rows x 7 columns]"
      ]
     },
     "execution_count": 123,
     "metadata": {},
     "output_type": "execute_result"
    }
   ],
   "source": [
    "# reseting index\n",
    "df_topic = df_topic.reset_index(drop=True)\n",
    "df_topic"
   ]
  },
  {
   "cell_type": "code",
   "execution_count": 124,
   "id": "2ebafc1a",
   "metadata": {},
   "outputs": [],
   "source": [
    "# Storing data in pickle format for Topic modeling\n",
    "df_topic.to_pickle('reviews_tgtg_topic.pkl')"
   ]
  },
  {
   "cell_type": "code",
   "execution_count": null,
   "id": "4d56fa24",
   "metadata": {},
   "outputs": [],
   "source": []
  }
 ],
 "metadata": {
  "kernelspec": {
   "display_name": "Python 3 (ipykernel)",
   "language": "python",
   "name": "python3"
  },
  "language_info": {
   "codemirror_mode": {
    "name": "ipython",
    "version": 3
   },
   "file_extension": ".py",
   "mimetype": "text/x-python",
   "name": "python",
   "nbconvert_exporter": "python",
   "pygments_lexer": "ipython3",
   "version": "3.9.7"
  }
 },
 "nbformat": 4,
 "nbformat_minor": 5
}
