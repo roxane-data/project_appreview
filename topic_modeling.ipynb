{
 "cells": [
  {
   "cell_type": "code",
   "execution_count": 1,
   "id": "1ad333db-4cd2-4bda-b5ae-8efa4b391d94",
   "metadata": {},
   "outputs": [],
   "source": [
    "import pandas as pd\n",
    "import numpy as np\n",
    "import pickle"
   ]
  },
  {
   "cell_type": "code",
   "execution_count": 3,
   "id": "f830dde7-a0c1-4ec0-96c0-dac94ce3379c",
   "metadata": {},
   "outputs": [
    {
     "data": {
      "text/plain": [
       "24"
      ]
     },
     "execution_count": 3,
     "metadata": {},
     "output_type": "execute_result"
    }
   ],
   "source": [
    "\n",
    "f =1\n",
    "for i in range (4):\n",
    "    f=f*(i+1)\n",
    "f"
   ]
  },
  {
   "cell_type": "code",
   "execution_count": 5,
   "id": "44db3750-b661-442a-a6fd-44fb8ea99566",
   "metadata": {},
   "outputs": [
    {
     "data": {
      "text/html": [
       "<div>\n",
       "<style scoped>\n",
       "    .dataframe tbody tr th:only-of-type {\n",
       "        vertical-align: middle;\n",
       "    }\n",
       "\n",
       "    .dataframe tbody tr th {\n",
       "        vertical-align: top;\n",
       "    }\n",
       "\n",
       "    .dataframe thead th {\n",
       "        text-align: right;\n",
       "    }\n",
       "</style>\n",
       "<table border=\"1\" class=\"dataframe\">\n",
       "  <thead>\n",
       "    <tr style=\"text-align: right;\">\n",
       "      <th></th>\n",
       "      <th>reviewId</th>\n",
       "      <th>userName</th>\n",
       "      <th>userImage</th>\n",
       "      <th>content</th>\n",
       "      <th>score</th>\n",
       "      <th>thumbsUpCount</th>\n",
       "      <th>reviewCreatedVersion</th>\n",
       "      <th>at</th>\n",
       "      <th>replyContent</th>\n",
       "      <th>repliedAt</th>\n",
       "    </tr>\n",
       "  </thead>\n",
       "  <tbody>\n",
       "    <tr>\n",
       "      <th>0</th>\n",
       "      <td>gp:AOqpTOHKjUjEAjZuuQvBSTb_0-c7LG--AdBELjURUU_...</td>\n",
       "      <td>Why in the world am I allowed such a long user...</td>\n",
       "      <td>https://play-lh.googleusercontent.com/a/AATXAJ...</td>\n",
       "      <td>It does exactly what it says it does efficient...</td>\n",
       "      <td>5</td>\n",
       "      <td>0</td>\n",
       "      <td>21.11.1</td>\n",
       "      <td>2021-12-11 08:03:30</td>\n",
       "      <td>None</td>\n",
       "      <td>NaT</td>\n",
       "    </tr>\n",
       "    <tr>\n",
       "      <th>1</th>\n",
       "      <td>gp:AOqpTOGcsoUhTFPKgN8WPsk_Tdd2vRlvTzkSXNBDiZI...</td>\n",
       "      <td>cathyhammer</td>\n",
       "      <td>https://play-lh.googleusercontent.com/a-/AOh14...</td>\n",
       "      <td>Well, I've only done 2 different vendors. The ...</td>\n",
       "      <td>4</td>\n",
       "      <td>0</td>\n",
       "      <td>21.11.1</td>\n",
       "      <td>2021-12-11 04:56:39</td>\n",
       "      <td>None</td>\n",
       "      <td>NaT</td>\n",
       "    </tr>\n",
       "    <tr>\n",
       "      <th>2</th>\n",
       "      <td>gp:AOqpTOHPLWFKIrKg2pszn9ry43bgMQh_PxeAOGXFNsx...</td>\n",
       "      <td>Carl Sager</td>\n",
       "      <td>https://play-lh.googleusercontent.com/a-/AOh14...</td>\n",
       "      <td>Still in my first week. And I'm looking forwar...</td>\n",
       "      <td>5</td>\n",
       "      <td>0</td>\n",
       "      <td>21.11.1</td>\n",
       "      <td>2021-12-11 03:23:46</td>\n",
       "      <td>None</td>\n",
       "      <td>NaT</td>\n",
       "    </tr>\n",
       "    <tr>\n",
       "      <th>3</th>\n",
       "      <td>gp:AOqpTOFVAXjBTnAAHreROAhOFymJyRmKQ8GIYysY6N_...</td>\n",
       "      <td>LDJCR7</td>\n",
       "      <td>https://play-lh.googleusercontent.com/a-/AOh14...</td>\n",
       "      <td>loving the app.</td>\n",
       "      <td>5</td>\n",
       "      <td>0</td>\n",
       "      <td>21.11.1</td>\n",
       "      <td>2021-12-10 22:52:33</td>\n",
       "      <td>None</td>\n",
       "      <td>NaT</td>\n",
       "    </tr>\n",
       "    <tr>\n",
       "      <th>4</th>\n",
       "      <td>gp:AOqpTOGn2A6aX-KdnukiV7VKjuHDKRp4RvVLhGxyPd-...</td>\n",
       "      <td>Rosalinda Martin</td>\n",
       "      <td>https://play-lh.googleusercontent.com/a/AATXAJ...</td>\n",
       "      <td>AT FIRST: 1) Lovely experience. charming staff...</td>\n",
       "      <td>2</td>\n",
       "      <td>1</td>\n",
       "      <td>21.11.1</td>\n",
       "      <td>2021-12-10 22:22:27</td>\n",
       "      <td>None</td>\n",
       "      <td>NaT</td>\n",
       "    </tr>\n",
       "  </tbody>\n",
       "</table>\n",
       "</div>"
      ],
      "text/plain": [
       "                                            reviewId  \\\n",
       "0  gp:AOqpTOHKjUjEAjZuuQvBSTb_0-c7LG--AdBELjURUU_...   \n",
       "1  gp:AOqpTOGcsoUhTFPKgN8WPsk_Tdd2vRlvTzkSXNBDiZI...   \n",
       "2  gp:AOqpTOHPLWFKIrKg2pszn9ry43bgMQh_PxeAOGXFNsx...   \n",
       "3  gp:AOqpTOFVAXjBTnAAHreROAhOFymJyRmKQ8GIYysY6N_...   \n",
       "4  gp:AOqpTOGn2A6aX-KdnukiV7VKjuHDKRp4RvVLhGxyPd-...   \n",
       "\n",
       "                                            userName  \\\n",
       "0  Why in the world am I allowed such a long user...   \n",
       "1                                        cathyhammer   \n",
       "2                                         Carl Sager   \n",
       "3                                             LDJCR7   \n",
       "4                                   Rosalinda Martin   \n",
       "\n",
       "                                           userImage  \\\n",
       "0  https://play-lh.googleusercontent.com/a/AATXAJ...   \n",
       "1  https://play-lh.googleusercontent.com/a-/AOh14...   \n",
       "2  https://play-lh.googleusercontent.com/a-/AOh14...   \n",
       "3  https://play-lh.googleusercontent.com/a-/AOh14...   \n",
       "4  https://play-lh.googleusercontent.com/a/AATXAJ...   \n",
       "\n",
       "                                             content  score  thumbsUpCount  \\\n",
       "0  It does exactly what it says it does efficient...      5              0   \n",
       "1  Well, I've only done 2 different vendors. The ...      4              0   \n",
       "2  Still in my first week. And I'm looking forwar...      5              0   \n",
       "3                                    loving the app.      5              0   \n",
       "4  AT FIRST: 1) Lovely experience. charming staff...      2              1   \n",
       "\n",
       "  reviewCreatedVersion                  at replyContent repliedAt  \n",
       "0              21.11.1 2021-12-11 08:03:30         None       NaT  \n",
       "1              21.11.1 2021-12-11 04:56:39         None       NaT  \n",
       "2              21.11.1 2021-12-11 03:23:46         None       NaT  \n",
       "3              21.11.1 2021-12-10 22:52:33         None       NaT  \n",
       "4              21.11.1 2021-12-10 22:22:27         None       NaT  "
      ]
     },
     "execution_count": 5,
     "metadata": {},
     "output_type": "execute_result"
    }
   ],
   "source": [
    "df_google = \"data/GooglePlayReview_TooGoodToGo.pkl\" #path to be written\n",
    "\n",
    "with open(df_google, 'rb') as f:\n",
    "  df_google = pickle.load(f)\n",
    "\n",
    "df_google.head(5)"
   ]
  },
  {
   "cell_type": "code",
   "execution_count": 6,
   "id": "1a83d9d5-17b8-456d-a062-3007db73649c",
   "metadata": {},
   "outputs": [
    {
     "data": {
      "text/html": [
       "<div>\n",
       "<style scoped>\n",
       "    .dataframe tbody tr th:only-of-type {\n",
       "        vertical-align: middle;\n",
       "    }\n",
       "\n",
       "    .dataframe tbody tr th {\n",
       "        vertical-align: top;\n",
       "    }\n",
       "\n",
       "    .dataframe thead th {\n",
       "        text-align: right;\n",
       "    }\n",
       "</style>\n",
       "<table border=\"1\" class=\"dataframe\">\n",
       "  <thead>\n",
       "    <tr style=\"text-align: right;\">\n",
       "      <th></th>\n",
       "      <th>title</th>\n",
       "      <th>isEdited</th>\n",
       "      <th>review</th>\n",
       "      <th>userName</th>\n",
       "      <th>date</th>\n",
       "      <th>rating</th>\n",
       "      <th>developerResponse</th>\n",
       "    </tr>\n",
       "  </thead>\n",
       "  <tbody>\n",
       "    <tr>\n",
       "      <th>0</th>\n",
       "      <td>Not that great to go more like</td>\n",
       "      <td>False</td>\n",
       "      <td>I have had this app for a while but it’s took ...</td>\n",
       "      <td>Jay shake</td>\n",
       "      <td>2021-02-27 15:09:54</td>\n",
       "      <td>5</td>\n",
       "      <td>NaN</td>\n",
       "    </tr>\n",
       "    <tr>\n",
       "      <th>1</th>\n",
       "      <td>Barley Farm - Eccles</td>\n",
       "      <td>False</td>\n",
       "      <td>This was the first time using the app. I was a...</td>\n",
       "      <td>Ck1TWO</td>\n",
       "      <td>2020-09-28 21:50:36</td>\n",
       "      <td>5</td>\n",
       "      <td>NaN</td>\n",
       "    </tr>\n",
       "    <tr>\n",
       "      <th>2</th>\n",
       "      <td>Good idea in theory, but flawed</td>\n",
       "      <td>False</td>\n",
       "      <td>Just got the app really so I don’t have much t...</td>\n",
       "      <td>AnActualPoolPlayer</td>\n",
       "      <td>2019-09-07 11:44:36</td>\n",
       "      <td>1</td>\n",
       "      <td>{'id': 10585622, 'body': 'Hi there,\n",
       "\n",
       "We're sor...</td>\n",
       "    </tr>\n",
       "    <tr>\n",
       "      <th>3</th>\n",
       "      <td>Outstanding!</td>\n",
       "      <td>False</td>\n",
       "      <td>Used the app for the first time today and was ...</td>\n",
       "      <td>Ceilidh279</td>\n",
       "      <td>2019-09-07 17:21:51</td>\n",
       "      <td>5</td>\n",
       "      <td>NaN</td>\n",
       "    </tr>\n",
       "    <tr>\n",
       "      <th>4</th>\n",
       "      <td>Mixed review</td>\n",
       "      <td>False</td>\n",
       "      <td>I like this idea, sometimes we get some great ...</td>\n",
       "      <td>mobilebob2</td>\n",
       "      <td>2021-11-04 16:43:02</td>\n",
       "      <td>5</td>\n",
       "      <td>NaN</td>\n",
       "    </tr>\n",
       "  </tbody>\n",
       "</table>\n",
       "</div>"
      ],
      "text/plain": [
       "                             title  isEdited  \\\n",
       "0   Not that great to go more like     False   \n",
       "1             Barley Farm - Eccles     False   \n",
       "2  Good idea in theory, but flawed     False   \n",
       "3                     Outstanding!     False   \n",
       "4                     Mixed review     False   \n",
       "\n",
       "                                              review            userName  \\\n",
       "0  I have had this app for a while but it’s took ...           Jay shake   \n",
       "1  This was the first time using the app. I was a...              Ck1TWO   \n",
       "2  Just got the app really so I don’t have much t...  AnActualPoolPlayer   \n",
       "3  Used the app for the first time today and was ...          Ceilidh279   \n",
       "4  I like this idea, sometimes we get some great ...          mobilebob2   \n",
       "\n",
       "                 date  rating  \\\n",
       "0 2021-02-27 15:09:54       5   \n",
       "1 2020-09-28 21:50:36       5   \n",
       "2 2019-09-07 11:44:36       1   \n",
       "3 2019-09-07 17:21:51       5   \n",
       "4 2021-11-04 16:43:02       5   \n",
       "\n",
       "                                   developerResponse  \n",
       "0                                                NaN  \n",
       "1                                                NaN  \n",
       "2  {'id': 10585622, 'body': 'Hi there,\n",
       "\n",
       "We're sor...  \n",
       "3                                                NaN  \n",
       "4                                                NaN  "
      ]
     },
     "execution_count": 6,
     "metadata": {},
     "output_type": "execute_result"
    }
   ],
   "source": [
    "df_apple = \"data/AppleStoreReview_TooGoodToGo.pkl\" #path to be written\n",
    "\n",
    "with open(df_apple, 'rb') as f:\n",
    "  df_apple = pickle.load(f)\n",
    "\n",
    "df_apple.head(5)"
   ]
  },
  {
   "cell_type": "code",
   "execution_count": 7,
   "id": "f686a71d-83bf-44ec-8c00-33105f18fe87",
   "metadata": {},
   "outputs": [
    {
     "data": {
      "text/html": [
       "<div>\n",
       "<style scoped>\n",
       "    .dataframe tbody tr th:only-of-type {\n",
       "        vertical-align: middle;\n",
       "    }\n",
       "\n",
       "    .dataframe tbody tr th {\n",
       "        vertical-align: top;\n",
       "    }\n",
       "\n",
       "    .dataframe thead th {\n",
       "        text-align: right;\n",
       "    }\n",
       "</style>\n",
       "<table border=\"1\" class=\"dataframe\">\n",
       "  <thead>\n",
       "    <tr style=\"text-align: right;\">\n",
       "      <th></th>\n",
       "      <th>rating</th>\n",
       "      <th>location</th>\n",
       "      <th>date</th>\n",
       "      <th>title</th>\n",
       "      <th>content</th>\n",
       "      <th>language</th>\n",
       "    </tr>\n",
       "  </thead>\n",
       "  <tbody>\n",
       "    <tr>\n",
       "      <th>0</th>\n",
       "      <td>1</td>\n",
       "      <td>GB</td>\n",
       "      <td>2021-12-10T20:35:51.000Z</td>\n",
       "      <td>TOBY CARVERY LATE CANCELLATION</td>\n",
       "      <td>30 minutes before order cancelled..from toby c...</td>\n",
       "      <td>en</td>\n",
       "    </tr>\n",
       "    <tr>\n",
       "      <th>1</th>\n",
       "      <td>1</td>\n",
       "      <td>GB</td>\n",
       "      <td>2021-12-08T21:03:08.000Z</td>\n",
       "      <td>Made an order with Co op Erdington</td>\n",
       "      <td>Made an order with Co op Erdington, it was rea...</td>\n",
       "      <td>en</td>\n",
       "    </tr>\n",
       "    <tr>\n",
       "      <th>2</th>\n",
       "      <td>1</td>\n",
       "      <td>NO</td>\n",
       "      <td>2021-12-06T21:25:09.000Z</td>\n",
       "      <td>Feel cheated with the amount of food…</td>\n",
       "      <td>Feel cheated with the amount of food received....</td>\n",
       "      <td>en</td>\n",
       "    </tr>\n",
       "    <tr>\n",
       "      <th>3</th>\n",
       "      <td>2</td>\n",
       "      <td>GB</td>\n",
       "      <td>2021-12-06T20:08:14.000Z</td>\n",
       "      <td>X2 orders cancelled and I was charged…</td>\n",
       "      <td>X2 orders cancelled and I was charged for them...</td>\n",
       "      <td>en</td>\n",
       "    </tr>\n",
       "    <tr>\n",
       "      <th>4</th>\n",
       "      <td>2</td>\n",
       "      <td>GB</td>\n",
       "      <td>2021-12-06T15:59:02.000Z</td>\n",
       "      <td>Love the idea, BUT</td>\n",
       "      <td>Love the idea, but out of three times of order...</td>\n",
       "      <td>en</td>\n",
       "    </tr>\n",
       "  </tbody>\n",
       "</table>\n",
       "</div>"
      ],
      "text/plain": [
       "  rating location                      date  \\\n",
       "0      1       GB  2021-12-10T20:35:51.000Z   \n",
       "1      1       GB  2021-12-08T21:03:08.000Z   \n",
       "2      1       NO  2021-12-06T21:25:09.000Z   \n",
       "3      2       GB  2021-12-06T20:08:14.000Z   \n",
       "4      2       GB  2021-12-06T15:59:02.000Z   \n",
       "\n",
       "                                    title  \\\n",
       "0          TOBY CARVERY LATE CANCELLATION   \n",
       "1      Made an order with Co op Erdington   \n",
       "2   Feel cheated with the amount of food…   \n",
       "3  X2 orders cancelled and I was charged…   \n",
       "4                      Love the idea, BUT   \n",
       "\n",
       "                                             content language  \n",
       "0  30 minutes before order cancelled..from toby c...       en  \n",
       "1  Made an order with Co op Erdington, it was rea...       en  \n",
       "2  Feel cheated with the amount of food received....       en  \n",
       "3  X2 orders cancelled and I was charged for them...       en  \n",
       "4  Love the idea, but out of three times of order...       en  "
      ]
     },
     "execution_count": 7,
     "metadata": {},
     "output_type": "execute_result"
    }
   ],
   "source": [
    "df_trust = \"data/TrustpilotReview_TooGoodToGo.pkl\" #path to be written\n",
    "\n",
    "with open(df_trust, 'rb') as f:\n",
    "  df_trust = pickle.load(f)\n",
    "\n",
    "df_trust.head(5)"
   ]
  },
  {
   "cell_type": "markdown",
   "id": "f07ae535-2585-4ed4-8a00-4f8a1dec82dd",
   "metadata": {},
   "source": [
    "def load_df(path,name):\n",
    "    with open(path,'rb') as f:\n",
    "        name = pickle.load(f)\n",
    "    return name"
   ]
  },
  {
   "cell_type": "code",
   "execution_count": 8,
   "id": "1989e4b9-1646-4dad-afd8-0a056c54865b",
   "metadata": {},
   "outputs": [],
   "source": [
    "# Dropping unnecessary columns\n",
    "df_google = df_google.drop(columns=['reviewId','userName', 'userImage', 'thumbsUpCount', 'reviewCreatedVersion','replyContent','repliedAt'])"
   ]
  },
  {
   "cell_type": "code",
   "execution_count": 9,
   "id": "64cdc300-d88e-487f-ab5e-0ca9904cb1d1",
   "metadata": {},
   "outputs": [],
   "source": [
    "# Renaming columns\n",
    "df_google.columns=['review_content','rating','date']"
   ]
  },
  {
   "cell_type": "code",
   "execution_count": 10,
   "id": "b88345b5-c7e6-4446-b7b0-cc69f639fe49",
   "metadata": {},
   "outputs": [],
   "source": [
    "# Adding \"source\" column to put \"Google\"\n",
    "df_google['source'] = 'Google'"
   ]
  },
  {
   "cell_type": "code",
   "execution_count": 16,
   "id": "0f6bf434-263c-41ef-9609-5f35372c15c9",
   "metadata": {},
   "outputs": [
    {
     "data": {
      "text/html": [
       "<div>\n",
       "<style scoped>\n",
       "    .dataframe tbody tr th:only-of-type {\n",
       "        vertical-align: middle;\n",
       "    }\n",
       "\n",
       "    .dataframe tbody tr th {\n",
       "        vertical-align: top;\n",
       "    }\n",
       "\n",
       "    .dataframe thead th {\n",
       "        text-align: right;\n",
       "    }\n",
       "</style>\n",
       "<table border=\"1\" class=\"dataframe\">\n",
       "  <thead>\n",
       "    <tr style=\"text-align: right;\">\n",
       "      <th></th>\n",
       "      <th>review_content</th>\n",
       "      <th>rating</th>\n",
       "      <th>date</th>\n",
       "      <th>source</th>\n",
       "    </tr>\n",
       "  </thead>\n",
       "  <tbody>\n",
       "    <tr>\n",
       "      <th>0</th>\n",
       "      <td>It does exactly what it says it does efficient...</td>\n",
       "      <td>5</td>\n",
       "      <td>2021-12-11 08:03:30</td>\n",
       "      <td>Google</td>\n",
       "    </tr>\n",
       "    <tr>\n",
       "      <th>1</th>\n",
       "      <td>Well, I've only done 2 different vendors. The ...</td>\n",
       "      <td>4</td>\n",
       "      <td>2021-12-11 04:56:39</td>\n",
       "      <td>Google</td>\n",
       "    </tr>\n",
       "    <tr>\n",
       "      <th>2</th>\n",
       "      <td>Still in my first week. And I'm looking forwar...</td>\n",
       "      <td>5</td>\n",
       "      <td>2021-12-11 03:23:46</td>\n",
       "      <td>Google</td>\n",
       "    </tr>\n",
       "    <tr>\n",
       "      <th>3</th>\n",
       "      <td>loving the app.</td>\n",
       "      <td>5</td>\n",
       "      <td>2021-12-10 22:52:33</td>\n",
       "      <td>Google</td>\n",
       "    </tr>\n",
       "    <tr>\n",
       "      <th>4</th>\n",
       "      <td>AT FIRST: 1) Lovely experience. charming staff...</td>\n",
       "      <td>2</td>\n",
       "      <td>2021-12-10 22:22:27</td>\n",
       "      <td>Google</td>\n",
       "    </tr>\n",
       "  </tbody>\n",
       "</table>\n",
       "</div>"
      ],
      "text/plain": [
       "                                      review_content  rating  \\\n",
       "0  It does exactly what it says it does efficient...       5   \n",
       "1  Well, I've only done 2 different vendors. The ...       4   \n",
       "2  Still in my first week. And I'm looking forwar...       5   \n",
       "3                                    loving the app.       5   \n",
       "4  AT FIRST: 1) Lovely experience. charming staff...       2   \n",
       "\n",
       "                 date  source  \n",
       "0 2021-12-11 08:03:30  Google  \n",
       "1 2021-12-11 04:56:39  Google  \n",
       "2 2021-12-11 03:23:46  Google  \n",
       "3 2021-12-10 22:52:33  Google  \n",
       "4 2021-12-10 22:22:27  Google  "
      ]
     },
     "execution_count": 16,
     "metadata": {},
     "output_type": "execute_result"
    }
   ],
   "source": [
    "df_google.head(5)"
   ]
  },
  {
   "cell_type": "code",
   "execution_count": 11,
   "id": "080976e8-7f20-4962-a73c-d4c62ac8955b",
   "metadata": {},
   "outputs": [
    {
     "name": "stdout",
     "output_type": "stream",
     "text": [
      "<class 'pandas.core.frame.DataFrame'>\n",
      "RangeIndex: 19848 entries, 0 to 19847\n",
      "Data columns (total 4 columns):\n",
      " #   Column          Non-Null Count  Dtype         \n",
      "---  ------          --------------  -----         \n",
      " 0   review_content  19848 non-null  object        \n",
      " 1   rating          19848 non-null  int64         \n",
      " 2   date            19848 non-null  datetime64[ns]\n",
      " 3   source          19848 non-null  object        \n",
      "dtypes: datetime64[ns](1), int64(1), object(2)\n",
      "memory usage: 620.4+ KB\n"
     ]
    }
   ],
   "source": [
    "# Check new format\n",
    "df_google.info()"
   ]
  },
  {
   "cell_type": "code",
   "execution_count": 12,
   "id": "7be554e3-69a4-422d-b6af-1c700e92f41f",
   "metadata": {},
   "outputs": [
    {
     "data": {
      "text/plain": [
       "review_content    0\n",
       "rating            0\n",
       "date              0\n",
       "source            0\n",
       "dtype: int64"
      ]
     },
     "execution_count": 12,
     "metadata": {},
     "output_type": "execute_result"
    }
   ],
   "source": [
    "# Checking ISNA\n",
    "df_google.isna().sum()"
   ]
  },
  {
   "cell_type": "code",
   "execution_count": 13,
   "id": "9c93ffd9-435d-454e-b4ce-33d80542612d",
   "metadata": {},
   "outputs": [
    {
     "data": {
      "text/plain": [
       "0"
      ]
     },
     "execution_count": 13,
     "metadata": {},
     "output_type": "execute_result"
    }
   ],
   "source": [
    "# Checking duplicates \n",
    "df_google.duplicated().sum()"
   ]
  },
  {
   "cell_type": "code",
   "execution_count": 14,
   "id": "28a73937-aba3-4a3d-af42-fead8d4121e0",
   "metadata": {},
   "outputs": [
    {
     "data": {
      "text/html": [
       "<div>\n",
       "<style scoped>\n",
       "    .dataframe tbody tr th:only-of-type {\n",
       "        vertical-align: middle;\n",
       "    }\n",
       "\n",
       "    .dataframe tbody tr th {\n",
       "        vertical-align: top;\n",
       "    }\n",
       "\n",
       "    .dataframe thead th {\n",
       "        text-align: right;\n",
       "    }\n",
       "</style>\n",
       "<table border=\"1\" class=\"dataframe\">\n",
       "  <thead>\n",
       "    <tr style=\"text-align: right;\">\n",
       "      <th></th>\n",
       "      <th>review_content</th>\n",
       "      <th>rating</th>\n",
       "      <th>date</th>\n",
       "      <th>source</th>\n",
       "    </tr>\n",
       "  </thead>\n",
       "  <tbody>\n",
       "    <tr>\n",
       "      <th>0</th>\n",
       "      <td>Not that great to go more like I have had this...</td>\n",
       "      <td>5</td>\n",
       "      <td>2021-02-27 15:09:54</td>\n",
       "      <td>Apple</td>\n",
       "    </tr>\n",
       "    <tr>\n",
       "      <th>1</th>\n",
       "      <td>Barley Farm - Eccles This was the first time u...</td>\n",
       "      <td>5</td>\n",
       "      <td>2020-09-28 21:50:36</td>\n",
       "      <td>Apple</td>\n",
       "    </tr>\n",
       "    <tr>\n",
       "      <th>2</th>\n",
       "      <td>Good idea in theory, but flawed Just got the a...</td>\n",
       "      <td>1</td>\n",
       "      <td>2019-09-07 11:44:36</td>\n",
       "      <td>Apple</td>\n",
       "    </tr>\n",
       "    <tr>\n",
       "      <th>3</th>\n",
       "      <td>Outstanding! Used the app for the first time t...</td>\n",
       "      <td>5</td>\n",
       "      <td>2019-09-07 17:21:51</td>\n",
       "      <td>Apple</td>\n",
       "    </tr>\n",
       "    <tr>\n",
       "      <th>4</th>\n",
       "      <td>Mixed review I like this idea, sometimes we ge...</td>\n",
       "      <td>5</td>\n",
       "      <td>2021-11-04 16:43:02</td>\n",
       "      <td>Apple</td>\n",
       "    </tr>\n",
       "  </tbody>\n",
       "</table>\n",
       "</div>"
      ],
      "text/plain": [
       "                                      review_content  rating  \\\n",
       "0  Not that great to go more like I have had this...       5   \n",
       "1  Barley Farm - Eccles This was the first time u...       5   \n",
       "2  Good idea in theory, but flawed Just got the a...       1   \n",
       "3  Outstanding! Used the app for the first time t...       5   \n",
       "4  Mixed review I like this idea, sometimes we ge...       5   \n",
       "\n",
       "                 date source  \n",
       "0 2021-02-27 15:09:54  Apple  \n",
       "1 2020-09-28 21:50:36  Apple  \n",
       "2 2019-09-07 11:44:36  Apple  \n",
       "3 2019-09-07 17:21:51  Apple  \n",
       "4 2021-11-04 16:43:02  Apple  "
      ]
     },
     "execution_count": 14,
     "metadata": {},
     "output_type": "execute_result"
    }
   ],
   "source": [
    "# to concatenate Title & review content\n",
    "df_apple['review_content'] = df_apple['title'] + ' ' + df_apple['review']\n",
    "# Dropping unnecessary columns\n",
    "df_apple = df_apple.drop(columns=['review','userName', 'isEdited','title','developerResponse'])\n",
    "# Reordering columns\n",
    "df_apple = df_apple[['review_content', 'rating', 'date']]\n",
    "# Adding \"source\" column to put \"Apple\"\n",
    "df_apple['source'] = 'Apple'\n",
    "# Formatting date\n",
    "df_apple['date'] = pd.to_datetime(df_apple['date'], format='%Y-%m-%d %Hh%Mm%Ssec')\n",
    "# Checking df\n",
    "df_apple.head(5)"
   ]
  },
  {
   "cell_type": "code",
   "execution_count": 15,
   "id": "eaad2d37-4459-49bb-a412-6e173a45e2b6",
   "metadata": {},
   "outputs": [
    {
     "name": "stdout",
     "output_type": "stream",
     "text": [
      "<class 'pandas.core.frame.DataFrame'>\n",
      "RangeIndex: 2000 entries, 0 to 1999\n",
      "Data columns (total 4 columns):\n",
      " #   Column          Non-Null Count  Dtype         \n",
      "---  ------          --------------  -----         \n",
      " 0   review_content  2000 non-null   object        \n",
      " 1   rating          2000 non-null   int64         \n",
      " 2   date            2000 non-null   datetime64[ns]\n",
      " 3   source          2000 non-null   object        \n",
      "dtypes: datetime64[ns](1), int64(1), object(2)\n",
      "memory usage: 62.6+ KB\n"
     ]
    }
   ],
   "source": [
    "# Check new format\n",
    "df_apple.info()"
   ]
  },
  {
   "cell_type": "code",
   "execution_count": 17,
   "id": "cab0b7f7-8aee-4e54-9c3b-fcb25077e7cf",
   "metadata": {},
   "outputs": [
    {
     "data": {
      "text/plain": [
       "review_content    0\n",
       "rating            0\n",
       "date              0\n",
       "source            0\n",
       "dtype: int64"
      ]
     },
     "execution_count": 17,
     "metadata": {},
     "output_type": "execute_result"
    }
   ],
   "source": [
    "# Checking ISNA\n",
    "df_apple.isna().sum()"
   ]
  },
  {
   "cell_type": "code",
   "execution_count": 18,
   "id": "5ef46cfe-6fe6-4cd0-9515-156c72b05d85",
   "metadata": {},
   "outputs": [
    {
     "data": {
      "text/plain": [
       "0"
      ]
     },
     "execution_count": 18,
     "metadata": {},
     "output_type": "execute_result"
    }
   ],
   "source": [
    "# Checking duplicates \n",
    "df_apple.duplicated().sum()"
   ]
  },
  {
   "cell_type": "code",
   "execution_count": 20,
   "id": "82282945-7ffe-40c3-ae9c-323c802de752",
   "metadata": {},
   "outputs": [
    {
     "data": {
      "text/plain": [
       "(1480, 6)"
      ]
     },
     "execution_count": 20,
     "metadata": {},
     "output_type": "execute_result"
    }
   ],
   "source": [
    "df_trust.shape"
   ]
  },
  {
   "cell_type": "code",
   "execution_count": 19,
   "id": "a5cdbce2-a08a-46eb-a809-491b6666d850",
   "metadata": {},
   "outputs": [
    {
     "data": {
      "text/plain": [
       "en    1480\n",
       "Name: language, dtype: int64"
      ]
     },
     "execution_count": 19,
     "metadata": {},
     "output_type": "execute_result"
    }
   ],
   "source": [
    "#to check if all the reviews are in english\n",
    "df_trust['language'].value_counts()"
   ]
  },
  {
   "cell_type": "code",
   "execution_count": 21,
   "id": "8d5bca33-4f1b-4539-8325-b0690a0e2a9c",
   "metadata": {
    "collapsed": true,
    "jupyter": {
     "outputs_hidden": true
    },
    "tags": []
   },
   "outputs": [
    {
     "data": {
      "text/plain": [
       "GB    1120\n",
       "DK     125\n",
       "NO      45\n",
       "US      34\n",
       "DE      31\n",
       "NL      31\n",
       "BE      19\n",
       "CH      19\n",
       "FR      17\n",
       "SE       5\n",
       "ES       5\n",
       "AU       4\n",
       "IT       3\n",
       "CA       3\n",
       "GR       3\n",
       "PL       2\n",
       "PT       2\n",
       "MY       2\n",
       "IE       2\n",
       "IN       1\n",
       "AT       1\n",
       "BN       1\n",
       "UA       1\n",
       "RO       1\n",
       "AW       1\n",
       "LU       1\n",
       "HU       1\n",
       "Name: location, dtype: int64"
      ]
     },
     "execution_count": 21,
     "metadata": {},
     "output_type": "execute_result"
    }
   ],
   "source": [
    "df_trust['location'].value_counts()"
   ]
  },
  {
   "cell_type": "code",
   "execution_count": 22,
   "id": "48f27a1e-d9ed-4cb9-a431-7d8e926eb1ed",
   "metadata": {},
   "outputs": [],
   "source": [
    "df_trust = df_trust[df_trust['location']=='GB']"
   ]
  },
  {
   "cell_type": "code",
   "execution_count": 23,
   "id": "7a583e52-dbda-4386-91a9-6c758a814a2e",
   "metadata": {},
   "outputs": [
    {
     "name": "stdout",
     "output_type": "stream",
     "text": [
      "<class 'pandas.core.frame.DataFrame'>\n",
      "Int64Index: 1120 entries, 0 to 1467\n",
      "Data columns (total 4 columns):\n",
      " #   Column          Non-Null Count  Dtype         \n",
      "---  ------          --------------  -----         \n",
      " 0   review_content  1120 non-null   object        \n",
      " 1   rating          1120 non-null   object        \n",
      " 2   date            1120 non-null   datetime64[ns]\n",
      " 3   source          1120 non-null   object        \n",
      "dtypes: datetime64[ns](1), object(3)\n",
      "memory usage: 43.8+ KB\n"
     ]
    }
   ],
   "source": [
    "# to concatenate Title & review content\n",
    "df_trust['review_content'] = df_trust['title'] + ' ' + df_trust['content']\n",
    "# Dropping unnecessary columns\n",
    "df_trust = df_trust.drop(columns=['location','title','content','language'])\n",
    "# Formatting date => removing anything on the right of T (T being included)\n",
    "df_trust['date'] = df_trust['date'].str[:10]\n",
    "# Formatting date\n",
    "df_trust['date'] = pd.to_datetime(df_trust['date'], format='%Y-%m-%d')\n",
    "# Reordering columns\n",
    "df_trust = df_trust[['review_content', 'rating', 'date']]\n",
    "# Adding \"source\" column to put \"Trustpilot\"\n",
    "df_trust['source'] = 'Trustpilot'\n",
    "# Check new format\n",
    "df_trust.info()"
   ]
  },
  {
   "cell_type": "code",
   "execution_count": 24,
   "id": "da6399b8-2ea1-423f-96c8-cb74d2b9ef99",
   "metadata": {},
   "outputs": [
    {
     "name": "stdout",
     "output_type": "stream",
     "text": [
      "<class 'pandas.core.frame.DataFrame'>\n",
      "Int64Index: 1120 entries, 0 to 1467\n",
      "Data columns (total 4 columns):\n",
      " #   Column          Non-Null Count  Dtype         \n",
      "---  ------          --------------  -----         \n",
      " 0   review_content  1120 non-null   object        \n",
      " 1   rating          1120 non-null   int64         \n",
      " 2   date            1120 non-null   datetime64[ns]\n",
      " 3   source          1120 non-null   object        \n",
      "dtypes: datetime64[ns](1), int64(1), object(2)\n",
      "memory usage: 43.8+ KB\n"
     ]
    }
   ],
   "source": [
    "# Formatting rating\n",
    "df_trust['rating'] = df_trust['rating'].astype(int)\n",
    "df_trust.info()"
   ]
  },
  {
   "cell_type": "code",
   "execution_count": 25,
   "id": "92a8bc6a-d528-4d78-a420-a509acc9e74a",
   "metadata": {},
   "outputs": [
    {
     "data": {
      "text/plain": [
       "review_content    0\n",
       "rating            0\n",
       "date              0\n",
       "source            0\n",
       "dtype: int64"
      ]
     },
     "execution_count": 25,
     "metadata": {},
     "output_type": "execute_result"
    }
   ],
   "source": [
    "# Checking ISNA\n",
    "df_trust.isna().sum()"
   ]
  },
  {
   "cell_type": "code",
   "execution_count": 26,
   "id": "76db850e-24e7-40fa-ad6b-2e67132a6af6",
   "metadata": {},
   "outputs": [
    {
     "data": {
      "text/plain": [
       "0"
      ]
     },
     "execution_count": 26,
     "metadata": {},
     "output_type": "execute_result"
    }
   ],
   "source": [
    "# Checking duplicates \n",
    "df_trust.duplicated().sum()"
   ]
  },
  {
   "cell_type": "code",
   "execution_count": 27,
   "id": "4659c1d9-4876-4689-a091-41d936926806",
   "metadata": {},
   "outputs": [
    {
     "data": {
      "text/html": [
       "<div>\n",
       "<style scoped>\n",
       "    .dataframe tbody tr th:only-of-type {\n",
       "        vertical-align: middle;\n",
       "    }\n",
       "\n",
       "    .dataframe tbody tr th {\n",
       "        vertical-align: top;\n",
       "    }\n",
       "\n",
       "    .dataframe thead th {\n",
       "        text-align: right;\n",
       "    }\n",
       "</style>\n",
       "<table border=\"1\" class=\"dataframe\">\n",
       "  <thead>\n",
       "    <tr style=\"text-align: right;\">\n",
       "      <th></th>\n",
       "      <th>review_content</th>\n",
       "      <th>rating</th>\n",
       "      <th>date</th>\n",
       "      <th>source</th>\n",
       "    </tr>\n",
       "  </thead>\n",
       "  <tbody>\n",
       "    <tr>\n",
       "      <th>0</th>\n",
       "      <td>It does exactly what it says it does efficient...</td>\n",
       "      <td>5</td>\n",
       "      <td>2021-12-11 08:03:30</td>\n",
       "      <td>Google</td>\n",
       "    </tr>\n",
       "    <tr>\n",
       "      <th>1</th>\n",
       "      <td>Well, I've only done 2 different vendors. The ...</td>\n",
       "      <td>4</td>\n",
       "      <td>2021-12-11 04:56:39</td>\n",
       "      <td>Google</td>\n",
       "    </tr>\n",
       "    <tr>\n",
       "      <th>2</th>\n",
       "      <td>Still in my first week. And I'm looking forwar...</td>\n",
       "      <td>5</td>\n",
       "      <td>2021-12-11 03:23:46</td>\n",
       "      <td>Google</td>\n",
       "    </tr>\n",
       "    <tr>\n",
       "      <th>3</th>\n",
       "      <td>loving the app.</td>\n",
       "      <td>5</td>\n",
       "      <td>2021-12-10 22:52:33</td>\n",
       "      <td>Google</td>\n",
       "    </tr>\n",
       "    <tr>\n",
       "      <th>4</th>\n",
       "      <td>AT FIRST: 1) Lovely experience. charming staff...</td>\n",
       "      <td>2</td>\n",
       "      <td>2021-12-10 22:22:27</td>\n",
       "      <td>Google</td>\n",
       "    </tr>\n",
       "  </tbody>\n",
       "</table>\n",
       "</div>"
      ],
      "text/plain": [
       "                                      review_content  rating  \\\n",
       "0  It does exactly what it says it does efficient...       5   \n",
       "1  Well, I've only done 2 different vendors. The ...       4   \n",
       "2  Still in my first week. And I'm looking forwar...       5   \n",
       "3                                    loving the app.       5   \n",
       "4  AT FIRST: 1) Lovely experience. charming staff...       2   \n",
       "\n",
       "                 date  source  \n",
       "0 2021-12-11 08:03:30  Google  \n",
       "1 2021-12-11 04:56:39  Google  \n",
       "2 2021-12-11 03:23:46  Google  \n",
       "3 2021-12-10 22:52:33  Google  \n",
       "4 2021-12-10 22:22:27  Google  "
      ]
     },
     "execution_count": 27,
     "metadata": {},
     "output_type": "execute_result"
    }
   ],
   "source": [
    "df = pd.concat([df_google, df_apple, df_trust], axis=0)\n",
    "df.head(5)"
   ]
  },
  {
   "cell_type": "code",
   "execution_count": 28,
   "id": "a8b8a719-2ee0-4414-bab6-6d7611763f4d",
   "metadata": {},
   "outputs": [
    {
     "data": {
      "text/plain": [
       "(22968, 4)"
      ]
     },
     "execution_count": 28,
     "metadata": {},
     "output_type": "execute_result"
    }
   ],
   "source": [
    "df.shape"
   ]
  },
  {
   "cell_type": "code",
   "execution_count": 29,
   "id": "2299b335-e29f-489b-be76-f1d561dd3bb1",
   "metadata": {},
   "outputs": [
    {
     "name": "stdout",
     "output_type": "stream",
     "text": [
      "<class 'pandas.core.frame.DataFrame'>\n",
      "Int64Index: 22968 entries, 0 to 1467\n",
      "Data columns (total 4 columns):\n",
      " #   Column          Non-Null Count  Dtype         \n",
      "---  ------          --------------  -----         \n",
      " 0   review_content  22968 non-null  object        \n",
      " 1   rating          22968 non-null  int64         \n",
      " 2   date            22968 non-null  datetime64[ns]\n",
      " 3   source          22968 non-null  object        \n",
      "dtypes: datetime64[ns](1), int64(1), object(2)\n",
      "memory usage: 897.2+ KB\n"
     ]
    }
   ],
   "source": [
    "df.info()"
   ]
  },
  {
   "cell_type": "code",
   "execution_count": 30,
   "id": "77f5356e-4a8e-4ebd-ab2d-bdb689f9d05f",
   "metadata": {},
   "outputs": [
    {
     "data": {
      "text/plain": [
       "0"
      ]
     },
     "execution_count": 30,
     "metadata": {},
     "output_type": "execute_result"
    }
   ],
   "source": [
    "# Checking duplicates \n",
    "df.duplicated().sum()"
   ]
  },
  {
   "cell_type": "code",
   "execution_count": 48,
   "id": "4461f1b1-7061-4eb3-92c9-d2f67469b681",
   "metadata": {},
   "outputs": [],
   "source": [
    "df.to_pickle('reviews_tgtg.pkl')"
   ]
  },
  {
   "cell_type": "code",
   "execution_count": 49,
   "id": "f1a5fcfb-1f47-4e39-8512-d2552f739c3d",
   "metadata": {},
   "outputs": [
    {
     "name": "stdout",
     "output_type": "stream",
     "text": [
      "/home/roxane/code/projet/project_appreview\n"
     ]
    }
   ],
   "source": [
    "df = \"../reviews_tgtg.pkl\" #path to be written\n",
    "\n",
    "with open(df, 'rb') as f:\n",
    "  df = pickle.load(f)"
   ]
  },
  {
   "cell_type": "code",
   "execution_count": 31,
   "id": "f376c1bb-fbb6-48ce-bf55-bd969855c3cd",
   "metadata": {},
   "outputs": [
    {
     "data": {
      "text/plain": [
       "Text(0.5, 1.0, 'Reviews Distribution per Platform')"
      ]
     },
     "execution_count": 31,
     "metadata": {},
     "output_type": "execute_result"
    },
    {
     "data": {
      "image/png": "[encoded data removed]",
      "text/plain": [
       "<Figure size 1728x1152 with 1 Axes>"
      ]
     },
     "metadata": {},
     "output_type": "display_data"
    }
   ],
   "source": [
    "import matplotlib.pyplot as plt\n",
    "\n",
    "plt.figure(figsize=(24,16))\n",
    "plt.pie(df['source'].value_counts(), labels = ['Google','Apple','Trustpilot'],autopct='%1.0f%%')\n",
    "plt.title('Reviews Distribution per Platform')"
   ]
  },
  {
   "cell_type": "code",
   "execution_count": 32,
   "id": "9d13409a-135d-4bc8-b4ae-b00ce7d37321",
   "metadata": {},
   "outputs": [
    {
     "data": {
      "text/plain": [
       "Text(0.5, 1.0, 'Reviews Distribution per Rating')"
      ]
     },
     "execution_count": 32,
     "metadata": {},
     "output_type": "execute_result"
    },
    {
     "data": {
      "image/png": "[encoded data removed]",
      "text/plain": [
       "<Figure size 1728x1152 with 1 Axes>"
      ]
     },
     "metadata": {
      "needs_background": "light"
     },
     "output_type": "display_data"
    }
   ],
   "source": [
    "import seaborn as sns\n",
    "\n",
    "plt.figure(figsize=(24,16))\n",
    "sns.set_theme(style=\"whitegrid\")\n",
    "sns.countplot(x='rating', data=df)\n",
    "plt.title('Reviews Distribution per Rating')"
   ]
  },
  {
   "cell_type": "code",
   "execution_count": 33,
   "id": "161892e1-79c8-40a1-8c65-80b9aaef5fd2",
   "metadata": {},
   "outputs": [
    {
     "name": "stderr",
     "output_type": "stream",
     "text": [
      "[nltk_data] Downloading package punkt to /home/roxane/nltk_data...\n",
      "[nltk_data]   Package punkt is already up-to-date!\n",
      "[nltk_data] Downloading package stopwords to /home/roxane/nltk_data...\n",
      "[nltk_data]   Package stopwords is already up-to-date!\n",
      "[nltk_data] Downloading package wordnet to /home/roxane/nltk_data...\n",
      "[nltk_data]   Package wordnet is already up-to-date!\n"
     ]
    }
   ],
   "source": [
    "from nltk import word_tokenize\n",
    "import nltk\n",
    "nltk.download('punkt')\n",
    "nltk.download('stopwords')\n",
    "from nltk.corpus import stopwords\n",
    "from nltk.stem import PorterStemmer\n",
    "import nltk\n",
    "nltk.download('wordnet')\n",
    "\n",
    "def preprocessing(text):\n",
    "    text=text.lower()\n",
    "    tokens = word_tokenize(text)\n",
    "    tokens_no_punctuation = [t for t in tokens if t.isalpha()]\n",
    "    stop_words = stopwords.words('english')\n",
    "    tokens_no_stop = [t for t in tokens_no_punctuation if t not in stop_words]\n",
    "    stemmer = PorterStemmer()\n",
    "    token_stem = [stemmer.stem(t) for t in tokens_no_stop]\n",
    "    return token_stem"
   ]
  },
  {
   "cell_type": "code",
   "execution_count": 34,
   "id": "4923feb5-015c-4bcd-ae7b-54c93d1a947e",
   "metadata": {},
   "outputs": [],
   "source": [
    "# preprocessing applied on the column concerned + output stored in new column\n",
    "df['preprocessed_review']= df['review_content'].apply(preprocessing)"
   ]
  },
  {
   "cell_type": "code",
   "execution_count": 35,
   "id": "0424332c-1ac3-4972-8692-74c4f0928e77",
   "metadata": {},
   "outputs": [],
   "source": [
    "# import libraries\n",
    "from gensim.models import TfidfModel\n",
    "from gensim.corpora import Dictionary\n",
    "from gensim.models import LsiModel\n",
    "from pprint import pprint"
   ]
  },
  {
   "cell_type": "code",
   "execution_count": 36,
   "id": "fc86ec12-e364-41f7-9435-9f8e2ef8529f",
   "metadata": {},
   "outputs": [],
   "source": [
    "# Create a corpus\n",
    "corpus = df['preprocessed_review']"
   ]
  },
  {
   "cell_type": "code",
   "execution_count": 37,
   "id": "1bf0f1c9-ab4e-48fd-8065-167e8dc08932",
   "metadata": {},
   "outputs": [],
   "source": [
    "# Compute the dictionary: this is a dictionary mapping words and their corresponding numbers for later visualisation\n",
    "id2word = Dictionary(corpus)"
   ]
  },
  {
   "cell_type": "code",
   "execution_count": 38,
   "id": "05777bff-b8f8-47f9-8cd1-027ef0dfde74",
   "metadata": {},
   "outputs": [],
   "source": [
    "# Create a BOW\n",
    "bow = [id2word.doc2bow(line) for line in corpus]  # convert corpus to BoW format"
   ]
  },
  {
   "cell_type": "code",
   "execution_count": 39,
   "id": "05548dca-c6bc-4a72-8797-b0faed834d68",
   "metadata": {},
   "outputs": [],
   "source": [
    "# Instanciate a TF-IDF\n",
    "tfidf_model = TfidfModel(bow)"
   ]
  },
  {
   "cell_type": "code",
   "execution_count": 40,
   "id": "4764cf4a-3d30-4e24-8525-e36f86a46b07",
   "metadata": {},
   "outputs": [],
   "source": [
    "# Compute the TF-IDF\n",
    "tf_idf_gensim = tfidf_model[bow]"
   ]
  },
  {
   "cell_type": "code",
   "execution_count": 41,
   "id": "2655a070-8fec-4264-b15f-e8bf196c6d41",
   "metadata": {},
   "outputs": [],
   "source": [
    "# compute LDA\n",
    "from gensim.models import LdaModel\n",
    "\n",
    "lda1 = LdaModel(corpus=tf_idf_gensim, num_topics=4, id2word=id2word, passes=10, random_state=0)"
   ]
  },
  {
   "cell_type": "code",
   "execution_count": 42,
   "id": "1e4a53a8-92e9-4ff8-8730-99c11ed53a8f",
   "metadata": {
    "collapsed": true,
    "jupyter": {
     "outputs_hidden": true
    },
    "tags": []
   },
   "outputs": [
    {
     "name": "stdout",
     "output_type": "stream",
     "text": [
      "[(0,\n",
      "  '0.051*\"great\" + 0.030*\"good\" + 0.029*\"idea\" + 0.027*\"app\" + 0.026*\"food\" + '\n",
      "  '0.024*\"easi\" + 0.022*\"excel\" + 0.022*\"use\" + 0.019*\"brilliant\" + '\n",
      "  '0.018*\"valu\"'),\n",
      " (1,\n",
      "  '0.013*\"awesom\" + 0.011*\"bag\" + 0.011*\"best\" + 0.008*\"got\" + 0.008*\"magic\" + '\n",
      "  '0.008*\"box\" + 0.007*\"bread\" + 0.007*\"cake\" + 0.006*\"sushi\" + '\n",
      "  '0.006*\"portion\"'),\n",
      " (2,\n",
      "  '0.010*\"time\" + 0.008*\"get\" + 0.007*\"app\" + 0.007*\"order\" + 0.007*\"place\" + '\n",
      "  '0.007*\"would\" + 0.006*\"use\" + 0.006*\"bag\" + 0.006*\"go\" + 0.006*\"food\"'),\n",
      " (3,\n",
      "  '0.030*\"love\" + 0.027*\"amaz\" + 0.019*\"perfect\" + 0.009*\"app\" + 0.007*\"wow\" + '\n",
      "  '0.005*\"scheme\" + 0.005*\"de\" + 0.004*\"rescu\" + 0.003*\"la\" + 0.003*\"satisfi\"')]\n"
     ]
    }
   ],
   "source": [
    "# print the most frequent words of each topic\n",
    "pprint(lda1.print_topics())"
   ]
  },
  {
   "cell_type": "code",
   "execution_count": 43,
   "id": "ae4bbaf5-bd60-4e4d-b06f-33e050274db1",
   "metadata": {
    "collapsed": true,
    "jupyter": {
     "outputs_hidden": true
    },
    "tags": []
   },
   "outputs": [
    {
     "name": "stdout",
     "output_type": "stream",
     "text": [
      "[(0,\n",
      "  '0.058*\"great\" + 0.034*\"idea\" + 0.032*\"app\" + 0.028*\"easi\" + 0.027*\"food\" + '\n",
      "  '0.027*\"use\" + 0.024*\"wast\" + 0.022*\"save\" + 0.020*\"good\" + 0.017*\"fantast\"'),\n",
      " (1,\n",
      "  '0.026*\"best\" + 0.019*\"ever\" + 0.013*\"nice\" + 0.009*\"handi\" + '\n",
      "  '0.008*\"account\" + 0.008*\"farm\" + 0.008*\"none\" + 0.007*\"instal\" + '\n",
      "  '0.007*\"avoid\" + 0.007*\"landfil\"'),\n",
      " (2,\n",
      "  '0.057*\"brilliant\" + 0.018*\"veg\" + 0.017*\"fruit\" + 0.014*\"fabul\" + '\n",
      "  '0.013*\"execut\" + 0.012*\"absolut\" + 0.011*\"idea\" + 0.010*\"nero\" + '\n",
      "  '0.009*\"morrison\" + 0.008*\"guess\"'),\n",
      " (3,\n",
      "  '0.046*\"love\" + 0.043*\"good\" + 0.043*\"amaz\" + 0.019*\"app\" + 0.013*\"advertis\" '\n",
      "  '+ 0.011*\"super\" + 0.011*\"behind\" + 0.009*\"tasti\" + 0.008*\"min\" + '\n",
      "  '0.007*\"joke\"'),\n",
      " (4,\n",
      "  '0.055*\"excel\" + 0.033*\"servic\" + 0.033*\"valu\" + 0.025*\"staff\" + '\n",
      "  '0.024*\"friendli\" + 0.021*\"great\" + 0.020*\"awesom\" + 0.018*\"good\" + '\n",
      "  '0.015*\"fab\" + 0.015*\"food\"'),\n",
      " (5,\n",
      "  '0.012*\"morrison\" + 0.008*\"place\" + 0.008*\"area\" + 0.008*\"avail\" + '\n",
      "  '0.008*\"date\" + 0.008*\"app\" + 0.007*\"would\" + 0.007*\"need\" + 0.006*\"get\" + '\n",
      "  '0.006*\"wish\"'),\n",
      " (6,\n",
      "  '0.012*\"bag\" + 0.011*\"time\" + 0.009*\"first\" + 0.009*\"order\" + 0.008*\"food\" + '\n",
      "  '0.008*\"got\" + 0.008*\"use\" + 0.007*\"magic\" + 0.007*\"good\" + 0.007*\"go\"'),\n",
      " (7,\n",
      "  '0.026*\"win\" + 0.024*\"perfect\" + 0.021*\"recommend\" + 0.019*\"highli\" + '\n",
      "  '0.017*\"total\" + 0.010*\"breakfast\" + 0.009*\"whilst\" + 0.008*\"low\" + '\n",
      "  '0.008*\"superb\" + 0.008*\"u\"')]\n"
     ]
    }
   ],
   "source": [
    "# check the coherence of your model & adjust num_topics to improve your coherence (since our preprocessing \n",
    "# has been done properly)\n",
    "lda1_8 = LdaModel(corpus=tf_idf_gensim, num_topics=8, id2word=id2word, passes=10, random_state=0)\n",
    "pprint(lda1_8.print_topics())"
   ]
  },
  {
   "cell_type": "code",
   "execution_count": 44,
   "id": "05e5c748-3a51-4377-897a-31ab729f7087",
   "metadata": {
    "collapsed": true,
    "jupyter": {
     "outputs_hidden": true
    },
    "tags": []
   },
   "outputs": [
    {
     "name": "stdout",
     "output_type": "stream",
     "text": [
      "[(0,\n",
      "  '0.068*\"easi\" + 0.056*\"use\" + 0.038*\"fantast\" + 0.031*\"simpl\" + '\n",
      "  '0.026*\"super\" + 0.017*\"idea\" + 0.013*\"app\" + 0.010*\"effici\" + '\n",
      "  '0.010*\"wenzel\" + 0.010*\"great\"'),\n",
      " (1,\n",
      "  '0.020*\"fab\" + 0.017*\"highli\" + 0.016*\"recommend\" + 0.015*\"portion\" + '\n",
      "  '0.013*\"dinner\" + 0.013*\"wait\" + 0.012*\"veg\" + 0.010*\"bought\" + '\n",
      "  '0.009*\"found\" + 0.009*\"huge\"'),\n",
      " (2,\n",
      "  '0.062*\"brilliant\" + 0.035*\"work\" + 0.029*\"well\" + 0.023*\"idea\" + '\n",
      "  '0.017*\"worth\" + 0.013*\"execut\" + 0.012*\"incred\" + 0.012*\"download\" + '\n",
      "  '0.012*\"cool\" + 0.011*\"absolut\"'),\n",
      " (3,\n",
      "  '0.080*\"love\" + 0.077*\"amaz\" + 0.067*\"good\" + 0.028*\"app\" + 0.027*\"perfect\" '\n",
      "  '+ 0.021*\"cheap\" + 0.018*\"tasti\" + 0.012*\"lunch\" + 0.012*\"yesterday\" + '\n",
      "  '0.012*\"whilst\"'),\n",
      " (4,\n",
      "  '0.053*\"excel\" + 0.039*\"valu\" + 0.031*\"servic\" + 0.029*\"great\" + '\n",
      "  '0.026*\"staff\" + 0.025*\"good\" + 0.023*\"friendli\" + 0.023*\"awesom\" + '\n",
      "  '0.021*\"food\" + 0.019*\"thank\"'),\n",
      " (5,\n",
      "  '0.035*\"wast\" + 0.032*\"food\" + 0.032*\"save\" + 0.022*\"great\" + 0.021*\"way\" + '\n",
      "  '0.018*\"help\" + 0.018*\"reduc\" + 0.016*\"money\" + 0.015*\"good\" + 0.013*\"app\"'),\n",
      " (6,\n",
      "  '0.012*\"time\" + 0.012*\"bag\" + 0.010*\"use\" + 0.009*\"app\" + 0.009*\"order\" + '\n",
      "  '0.009*\"food\" + 0.008*\"get\" + 0.008*\"would\" + 0.008*\"good\" + 0.007*\"go\"'),\n",
      " (7,\n",
      "  '0.019*\"win\" + 0.014*\"london\" + 0.012*\"last\" + 0.011*\"breakfast\" + '\n",
      "  '0.011*\"cafe\" + 0.010*\"top\" + 0.010*\"everyon\" + 0.009*\"bargain\" + '\n",
      "  '0.009*\"near\" + 0.008*\"believ\"'),\n",
      " (8,\n",
      "  '0.026*\"nice\" + 0.016*\"student\" + 0.013*\"rice\" + 0.011*\"cake\" + '\n",
      "  '0.009*\"disgust\" + 0.008*\"combat\" + 0.008*\"appear\" + 0.008*\"packet\" + '\n",
      "  '0.008*\"panini\" + 0.008*\"morn\"'),\n",
      " (9,\n",
      "  '0.104*\"great\" + 0.049*\"idea\" + 0.049*\"app\" + 0.037*\"concept\" + 0.021*\"best\" '\n",
      "  '+ 0.016*\"sign\" + 0.014*\"far\" + 0.013*\"ever\" + 0.012*\"deal\" + 0.012*\"fabul\"')]\n"
     ]
    }
   ],
   "source": [
    "# check the coherence of your model & adjust num_topics to improve your coherence (since our preprocessing \n",
    "# has been done properly)\n",
    "lda1_10 = LdaModel(corpus=tf_idf_gensim, num_topics=10, id2word=id2word, passes=10, random_state=0)\n",
    "pprint(lda1_10.print_topics())"
   ]
  },
  {
   "cell_type": "code",
   "execution_count": 45,
   "id": "e3a1493e-feeb-4059-8926-15819a4dc4ec",
   "metadata": {
    "collapsed": true,
    "jupyter": {
     "outputs_hidden": true
    },
    "tags": []
   },
   "outputs": [
    {
     "name": "stdout",
     "output_type": "stream",
     "text": [
      "Requirement already satisfied: pyLDAvis==2.1.2 in /home/roxane/.pyenv/versions/3.9.7/lib/python3.9/site-packages (2.1.2)\n",
      "Requirement already satisfied: funcy in /home/roxane/.pyenv/versions/3.9.7/lib/python3.9/site-packages (from pyLDAvis==2.1.2) (1.16)\n",
      "Requirement already satisfied: scipy>=0.18.0 in /home/roxane/.pyenv/versions/3.9.7/lib/python3.9/site-packages (from pyLDAvis==2.1.2) (1.7.1)\n",
      "Requirement already satisfied: jinja2>=2.7.2 in /home/roxane/.pyenv/versions/3.9.7/lib/python3.9/site-packages (from pyLDAvis==2.1.2) (3.0.2)\n",
      "Requirement already satisfied: numpy>=1.9.2 in /home/roxane/.pyenv/versions/3.9.7/lib/python3.9/site-packages (from pyLDAvis==2.1.2) (1.21.2)\n",
      "Requirement already satisfied: pytest in /home/roxane/.pyenv/versions/3.9.7/lib/python3.9/site-packages (from pyLDAvis==2.1.2) (6.2.5)\n",
      "Requirement already satisfied: future in /home/roxane/.pyenv/versions/3.9.7/lib/python3.9/site-packages (from pyLDAvis==2.1.2) (0.18.2)\n",
      "Requirement already satisfied: numexpr in /home/roxane/.pyenv/versions/3.9.7/lib/python3.9/site-packages (from pyLDAvis==2.1.2) (2.7.3)\n",
      "Requirement already satisfied: joblib>=0.8.4 in /home/roxane/.pyenv/versions/3.9.7/lib/python3.9/site-packages (from pyLDAvis==2.1.2) (1.1.0)\n",
      "Requirement already satisfied: wheel>=0.23.0 in /home/roxane/.pyenv/versions/3.9.7/lib/python3.9/site-packages (from pyLDAvis==2.1.2) (0.37.0)\n",
      "Requirement already satisfied: pandas>=0.17.0 in /home/roxane/.pyenv/versions/3.9.7/lib/python3.9/site-packages (from pyLDAvis==2.1.2) (1.3.3)\n",
      "Requirement already satisfied: MarkupSafe>=2.0 in /home/roxane/.pyenv/versions/3.9.7/lib/python3.9/site-packages (from jinja2>=2.7.2->pyLDAvis==2.1.2) (2.0.1)\n",
      "Requirement already satisfied: pytz>=2017.3 in /home/roxane/.pyenv/versions/3.9.7/lib/python3.9/site-packages (from pandas>=0.17.0->pyLDAvis==2.1.2) (2021.3)\n",
      "Requirement already satisfied: python-dateutil>=2.7.3 in /home/roxane/.pyenv/versions/3.9.7/lib/python3.9/site-packages (from pandas>=0.17.0->pyLDAvis==2.1.2) (2.8.2)\n",
      "Requirement already satisfied: packaging in /home/roxane/.pyenv/versions/3.9.7/lib/python3.9/site-packages (from pytest->pyLDAvis==2.1.2) (21.0)\n",
      "Requirement already satisfied: iniconfig in /home/roxane/.pyenv/versions/3.9.7/lib/python3.9/site-packages (from pytest->pyLDAvis==2.1.2) (1.1.1)\n",
      "Requirement already satisfied: py>=1.8.2 in /home/roxane/.pyenv/versions/3.9.7/lib/python3.9/site-packages (from pytest->pyLDAvis==2.1.2) (1.11.0)\n",
      "Requirement already satisfied: attrs>=19.2.0 in /home/roxane/.pyenv/versions/3.9.7/lib/python3.9/site-packages (from pytest->pyLDAvis==2.1.2) (21.2.0)\n",
      "Requirement already satisfied: toml in /home/roxane/.pyenv/versions/3.9.7/lib/python3.9/site-packages (from pytest->pyLDAvis==2.1.2) (0.10.2)\n",
      "Requirement already satisfied: pluggy<2.0,>=0.12 in /home/roxane/.pyenv/versions/3.9.7/lib/python3.9/site-packages (from pytest->pyLDAvis==2.1.2) (1.0.0)\n",
      "Requirement already satisfied: six>=1.5 in /home/roxane/.pyenv/versions/3.9.7/lib/python3.9/site-packages (from python-dateutil>=2.7.3->pandas>=0.17.0->pyLDAvis==2.1.2) (1.16.0)\n",
      "Requirement already satisfied: pyparsing>=2.0.2 in /home/roxane/.pyenv/versions/3.9.7/lib/python3.9/site-packages (from packaging->pytest->pyLDAvis==2.1.2) (2.4.7)\n",
      "Note: you may need to restart the kernel to use updated packages.\n"
     ]
    }
   ],
   "source": [
    "pip install pyLDAvis==2.1.2"
   ]
  },
  {
   "cell_type": "code",
   "execution_count": 46,
   "id": "17ca979c-9f40-4544-8ac9-12fc19e73de2",
   "metadata": {
    "collapsed": true,
    "jupyter": {
     "outputs_hidden": true
    },
    "tags": []
   },
   "outputs": [
    {
     "name": "stderr",
     "output_type": "stream",
     "text": [
      "/home/roxane/.pyenv/versions/3.9.7/lib/python3.9/site-packages/pyLDAvis/_prepare.py:228: FutureWarning: In a future version of pandas all arguments of DataFrame.drop except for the argument 'labels' will be keyword-only\n",
      "  default_term_info  = pd.DataFrame({'saliency': saliency, 'Term': vocab, \\\n",
      "/home/roxane/.pyenv/versions/3.9.7/lib/python3.9/site-packages/past/builtins/misc.py:45: DeprecationWarning: the imp module is deprecated in favour of importlib; see the module's documentation for alternative uses\n",
      "  from imp import reload\n",
      "/home/roxane/.pyenv/versions/3.9.7/lib/python3.9/site-packages/past/builtins/misc.py:45: DeprecationWarning: the imp module is deprecated in favour of importlib; see the module's documentation for alternative uses\n",
      "  from imp import reload\n",
      "/home/roxane/.pyenv/versions/3.9.7/lib/python3.9/site-packages/past/builtins/misc.py:45: DeprecationWarning: the imp module is deprecated in favour of importlib; see the module's documentation for alternative uses\n",
      "  from imp import reload\n",
      "/home/roxane/.pyenv/versions/3.9.7/lib/python3.9/site-packages/past/builtins/misc.py:45: DeprecationWarning: the imp module is deprecated in favour of importlib; see the module's documentation for alternative uses\n",
      "  from imp import reload\n",
      "/home/roxane/.pyenv/versions/3.9.7/lib/python3.9/site-packages/past/builtins/misc.py:45: DeprecationWarning: the imp module is deprecated in favour of importlib; see the module's documentation for alternative uses\n",
      "  from imp import reload\n",
      "/home/roxane/.pyenv/versions/3.9.7/lib/python3.9/site-packages/past/builtins/misc.py:45: DeprecationWarning: the imp module is deprecated in favour of importlib; see the module's documentation for alternative uses\n",
      "  from imp import reload\n"
     ]
    },
    {
     "data": {
      "text/html": [
       "\n",
       "<link rel=\"stylesheet\" type=\"text/css\" href=\"https://cdn.rawgit.com/bmabey/pyLDAvis/files/ldavis.v1.0.0.css\">\n",
       "\n",
       "\n",
       "<div id=\"ldavis_el95771406016742235047099961308\"></div>\n",
       "<script type=\"text/javascript\">\n",
       "\n",
       "var ldavis_el95771406016742235047099961308_data = {\"mdsDat\": {\"x\": [0.17151077717659174, 0.18075003351531757, -0.1683325794791278, -0.1839282312127817], \"y\": [0.1435007428845019, -0.1454641209680874, 0.13092376616929552, -0.12896038808570984], \"topics\": [1, 2, 3, 4], \"cluster\": [1, 1, 1, 1], \"Freq\": [50.17228391015236, 29.61761198601134, 13.337758468948891, 6.872345634887414]}, \"tinfo\": {\"Term\": [\"great\", \"love\", \"amaz\", \"idea\", \"easi\", \"excel\", \"good\", \"brilliant\", \"valu\", \"fantast\", \"food\", \"use\", \"app\", \"save\", \"wast\", \"perfect\", \"awesom\", \"servic\", \"money\", \"help\", \"realli\", \"best\", \"bag\", \"friendli\", \"box\", \"way\", \"concept\", \"recommend\", \"staff\", \"magic\", \"shop\", \"store\", \"could\", \"cancel\", \"avail\", \"option\", \"never\", \"say\", \"noth\", \"disappoint\", \"need\", \"area\", \"see\", \"better\", \"away\", \"wish\", \"left\", \"refund\", \"sold\", \"take\", \"want\", \"pay\", \"review\", \"sign\", \"compani\", \"seem\", \"week\", \"last\", \"live\", \"ca\", \"hope\", \"join\", \"even\", \"place\", \"restaur\", \"day\", \"order\", \"local\", \"give\", \"time\", \"would\", \"one\", \"make\", \"get\", \"tri\", \"like\", \"go\", \"bag\", \"collect\", \"app\", \"use\", \"food\", \"good\", \"wast\", \"work\", \"first\", \"idea\", \"excel\", \"brilliant\", \"fantast\", \"simpl\", \"quick\", \"win\", \"everyon\", \"fab\", \"planet\", \"wastag\", \"prevent\", \"cool\", \"fun\", \"yummi\", \"effici\", \"fast\", \"geniu\", \"hate\", \"fraction\", \"board\", \"glad\", \"afford\", \"handi\", \"pleasant\", \"job\", \"implement\", \"contribut\", \"smooth\", \"tackl\", \"benefit\", \"friendli\", \"highli\", \"easi\", \"valu\", \"great\", \"super\", \"idea\", \"save\", \"recommend\", \"staff\", \"good\", \"wonder\", \"thank\", \"help\", \"servic\", \"cheap\", \"food\", \"initi\", \"use\", \"app\", \"wast\", \"money\", \"realli\", \"way\", \"amaz\", \"concept\", \"love\", \"nice\", \"reduc\", \"well\", \"price\", \"awesom\", \"bread\", \"cake\", \"sandwich\", \"portion\", \"sushi\", \"veg\", \"fruit\", \"pastri\", \"salad\", \"breakfast\", \"roll\", \"carveri\", \"lunch\", \"chicken\", \"croissant\", \"hot\", \"sausag\", \"chees\", \"fill\", \"larg\", \"size\", \"beauti\", \"decent\", \"nero\", \"rice\", \"baguett\", \"wenzel\", \"massiv\", \"pizza\", \"pack\", \"tast\", \"london\", \"home\", \"best\", \"ever\", \"box\", \"magic\", \"bag\", \"got\", \"fresh\", \"costa\", \"morrison\", \"two\", \"first\", \"full\", \"date\", \"delici\", \"definit\", \"perfect\", \"wow\", \"de\", \"la\", \"rescu\", \"scheme\", \"en\", \"satisfi\", \"le\", \"et\", \"que\", \"lower\", \"thankyou\", \"outstand\", \"og\", \"project\", \"wallet\", \"bien\", \"god\", \"muy\", \"step\", \"er\", \"tr\\u00e8\", \"je\", \"e\", \"importantli\", \"reduct\", \"wee\", \"deffo\", \"un\", \"tin\", \"organ\", \"holiday\", \"amaz\", \"love\", \"app\", \"super\"], \"Freq\": [4751.0, 2282.0, 1895.0, 2968.0, 2161.0, 1856.0, 3287.0, 1600.0, 1611.0, 1331.0, 3068.0, 2757.0, 3535.0, 1587.0, 2053.0, 370.0, 486.0, 1238.0, 1438.0, 1188.0, 1495.0, 447.0, 1438.0, 801.0, 691.0, 1134.0, 1340.0, 937.0, 923.0, 776.0, 694.4542290280406, 611.6743791512633, 587.3372332068607, 546.9153732868294, 524.8902286987069, 516.312202880765, 522.1925457847348, 522.733335161452, 480.3079661029799, 501.4469412754825, 565.3938516506903, 449.63675374126177, 445.35478365527, 445.62131721950124, 406.20828783436605, 389.6332276658998, 369.3314701464741, 349.89513471473873, 351.62544860697744, 350.0684047313765, 388.3556430061155, 334.66076289995084, 327.85252392562774, 319.37283248782427, 344.3772071956071, 310.3246443791357, 313.4258396214485, 306.2597258116904, 290.43842998683397, 284.1538787578998, 450.51742146928365, 320.84827904495506, 598.9674030764835, 957.9268663930445, 795.1606982313729, 670.3035438934321, 990.5798462843828, 516.3493227007026, 521.8647645176063, 1368.2303320766443, 955.3300698468315, 763.1473060946396, 456.54246538561773, 1118.1877781358853, 776.3745562170819, 670.0115567383864, 826.873088399647, 840.6842465467879, 606.6360264486483, 1035.8792174015314, 913.2510419654566, 824.849925642257, 752.447783139169, 638.436973901631, 546.8760660489311, 543.5099280918129, 554.9199310294304, 1853.7209193374924, 1598.3890543039167, 1329.5151046395038, 530.6760687522996, 490.71462461082456, 436.2745710250148, 396.8270925150803, 351.57135237979594, 344.1929815095893, 282.59176475975346, 238.49680044933754, 222.14561093168714, 198.52970209897356, 187.51082285842472, 152.52471080931255, 160.71876489715788, 134.41597208742314, 142.59667324251149, 131.86901510685334, 126.33289896816989, 119.62074651003849, 119.57024014240157, 108.05465136802898, 108.31669166822073, 109.96606744357555, 102.44516746694443, 88.2417360434553, 89.08691310157926, 87.54489881853803, 115.55680832695872, 768.8226212863026, 424.78118822672894, 2048.0992386629723, 1514.6907979209632, 4254.664392146078, 573.1520511057313, 2412.1390411857333, 1331.20675002837, 807.9627377836181, 795.9125817100228, 2521.507014630215, 375.2559530028536, 737.7849665622508, 956.3741779264124, 989.6584122293955, 669.1413837292688, 2180.314911555987, 451.41658155934863, 1842.3682069956503, 2265.1555920408405, 1413.3384188190623, 1049.0576569998398, 1023.6915063920223, 819.383065855289, 1184.8288686119677, 903.0041589169334, 1257.0401985597266, 683.0006518705185, 668.8601210753279, 695.5162921582596, 680.5423818411392, 483.6057300258084, 262.93591158449016, 259.06637231269633, 230.65654079617258, 230.95945015240625, 233.47550090457767, 175.39221774729995, 173.65502642186087, 158.69417648831867, 151.5576567252087, 147.41457391696963, 143.73926491737396, 138.317328410823, 129.76058843919841, 111.22722309126058, 101.1028875533052, 99.05328020510026, 98.29338124767028, 95.69637845462991, 102.4391424865171, 103.94553943771122, 97.02850120377917, 90.93041956005297, 95.61844845882167, 97.50220456439301, 86.39357220996413, 83.2172706917241, 83.77325649788379, 84.57505879732213, 80.1001149125299, 147.22401767623018, 99.3118632969008, 182.6898486357179, 158.19253462949024, 408.5308707604429, 195.68444856309495, 303.5956688344156, 306.6465775092026, 413.38668923978497, 311.1145521880384, 186.73387356460458, 166.0578165942149, 196.81931018435836, 152.08310489818902, 196.5918197952381, 121.55433520960337, 125.42131939956741, 132.47758316134136, 128.92715598883282, 367.6129977014834, 138.90312246680796, 96.07535095407098, 67.89360688745371, 74.26956034583864, 105.5685114639574, 61.544419611611985, 66.47056390731396, 59.84670094036364, 57.80120802452798, 48.68562955342471, 50.802341579120906, 47.21163276852498, 45.66267160568497, 39.507629947659126, 46.913255205120244, 42.44227220421919, 35.70946960319675, 37.73035043309993, 34.86210837480448, 36.02517981330263, 31.18029648563376, 30.340616461594117, 29.999576889971994, 31.26847144552802, 32.003964921167665, 38.26854545615838, 28.965851121931923, 32.10716862042917, 29.970152702021903, 47.02813733121221, 34.539304853941516, 44.11321561348655, 525.5528683854335, 584.16946439825, 168.86813620705257, 49.42431899115906], \"Total\": [4751.0, 2282.0, 1895.0, 2968.0, 2161.0, 1856.0, 3287.0, 1600.0, 1611.0, 1331.0, 3068.0, 2757.0, 3535.0, 1587.0, 2053.0, 370.0, 486.0, 1238.0, 1438.0, 1188.0, 1495.0, 447.0, 1438.0, 801.0, 691.0, 1134.0, 1340.0, 937.0, 923.0, 776.0, 697.1707072571959, 614.07178327816, 589.7605732871469, 549.2648042990756, 527.2446931004926, 518.6987655290784, 524.6071302379098, 525.1878907999965, 482.6936432521555, 503.9813771977266, 568.3131799522612, 451.99254241347154, 447.7378299842121, 448.0196173117901, 408.5889938221844, 391.99318693932946, 371.7292087378547, 352.24498806243, 353.9911715124804, 352.4549533405719, 391.09593396573985, 337.08116926615725, 330.26268643862574, 321.73894844757814, 346.9287761002323, 312.6952341110834, 315.87396655238535, 308.7171872143874, 292.8318699021449, 286.5503688710367, 455.63918727166265, 323.6756611027359, 608.0807262580024, 986.3490657438559, 840.6111420543598, 702.9269997747447, 1082.450537944921, 541.4493714193252, 555.1314099476181, 1717.4583178572495, 1146.4385702497996, 882.3650511627234, 484.1683806277215, 1508.3729980361857, 962.2817859908405, 799.3483057604882, 1276.8807052627847, 1438.5706393730545, 809.5160515549709, 3535.2309739065568, 2757.0347882530627, 3068.0725374170975, 3287.688725063202, 2053.171840276429, 1153.3064421923564, 1096.083673233431, 2968.488398170121, 1856.0248967971595, 1600.7112647339038, 1331.8474619568003, 533.1792598651647, 493.14863616898947, 438.6215784567883, 399.3308527447164, 353.88372694907093, 346.73936582110196, 285.1292173853829, 240.860186805454, 224.52675524087965, 200.8846941964731, 190.0641667420208, 154.78073388206258, 163.15533596725865, 136.68553142527568, 145.06250145120333, 134.1883934710376, 128.753934377026, 121.9788260598455, 122.02344630067806, 110.40025640392443, 110.74674577697924, 112.55644058493245, 104.90447949608638, 90.56490446364994, 91.47540368241721, 89.95289193365933, 118.79080095516267, 801.562171067423, 441.1340011344587, 2161.5090926613047, 1611.138968222756, 4751.019933329907, 637.4485343998543, 2968.488398170121, 1587.638728533923, 937.0893530539166, 923.1370324593939, 3287.688725063202, 418.8793564043651, 884.533763444644, 1188.8783172389385, 1238.695183748856, 801.791062542114, 3068.0725374170975, 520.245803386559, 2757.0347882530627, 3535.2309739065568, 2053.171840276429, 1438.1610394191641, 1495.727910165956, 1134.0325281192431, 1895.018442394468, 1340.8639562965718, 2282.688454523209, 945.8466939722654, 926.7107766539369, 1032.5765356653744, 1041.0553201112543, 486.26352991216885, 265.5796574180572, 261.7154720421054, 233.3877252985, 233.76583872641535, 236.4313701569721, 178.0430614805871, 176.28770909203374, 161.37629616268683, 154.21644374072218, 150.09388555074005, 146.37871408890533, 140.96567335668274, 132.46000379868718, 113.85237690157636, 103.78159043230727, 101.69302003369887, 100.92300246056479, 98.31378740417034, 105.24576385701246, 106.83584886117326, 99.7469592454933, 93.57844124716544, 98.44482499382902, 100.44015568062294, 89.06756535269022, 85.83703308456955, 86.42959304893459, 87.31972611492266, 82.78308490701667, 152.18986323010836, 102.65179609518265, 190.4228489520407, 165.3925870939799, 447.7977560394144, 289.7428991276039, 691.532217719792, 776.3600519689838, 1438.5706393730545, 889.7712293185843, 353.58309238466364, 319.6481448173573, 603.4064618265386, 338.8844889974022, 1096.083673233431, 231.6228255129312, 298.83607237211595, 641.4018145749568, 645.4110557839274, 370.1928960846311, 141.53921896267804, 98.4895743434736, 70.31534744924758, 77.02232180902053, 109.69526648704273, 63.95856727099026, 69.09310790211437, 62.318405957376555, 60.20792568923497, 51.10802772365116, 53.6275068257033, 49.91411381704276, 48.286888797104865, 41.91476029561547, 49.777058594129635, 45.04855225538916, 38.115405554290575, 40.29840039320804, 37.267607870361815, 38.674319366744356, 33.58611994452608, 32.747044669075365, 32.40705804963821, 33.78065139517348, 34.611824744899494, 41.421596430786074, 31.407875601979544, 34.82067761624041, 32.52615184410668, 53.67777082337663, 38.26656374331791, 51.28592427873071, 1895.018442394468, 2282.688454523209, 3535.2309739065568, 637.4485343998543], \"Category\": [\"Default\", \"Default\", \"Default\", \"Default\", \"Default\", \"Default\", \"Default\", \"Default\", \"Default\", \"Default\", \"Default\", \"Default\", \"Default\", \"Default\", \"Default\", \"Default\", \"Default\", \"Default\", \"Default\", \"Default\", \"Default\", \"Default\", \"Default\", \"Default\", \"Default\", \"Default\", \"Default\", \"Default\", \"Default\", \"Default\", \"Topic1\", \"Topic1\", \"Topic1\", \"Topic1\", \"Topic1\", \"Topic1\", \"Topic1\", \"Topic1\", \"Topic1\", \"Topic1\", \"Topic1\", \"Topic1\", \"Topic1\", \"Topic1\", \"Topic1\", \"Topic1\", \"Topic1\", \"Topic1\", \"Topic1\", \"Topic1\", \"Topic1\", \"Topic1\", \"Topic1\", \"Topic1\", \"Topic1\", \"Topic1\", \"Topic1\", \"Topic1\", \"Topic1\", \"Topic1\", \"Topic1\", \"Topic1\", \"Topic1\", \"Topic1\", \"Topic1\", \"Topic1\", \"Topic1\", \"Topic1\", \"Topic1\", \"Topic1\", \"Topic1\", \"Topic1\", \"Topic1\", \"Topic1\", \"Topic1\", \"Topic1\", \"Topic1\", \"Topic1\", \"Topic1\", \"Topic1\", \"Topic1\", \"Topic1\", \"Topic1\", \"Topic1\", \"Topic1\", \"Topic1\", \"Topic1\", \"Topic2\", \"Topic2\", \"Topic2\", \"Topic2\", \"Topic2\", \"Topic2\", \"Topic2\", \"Topic2\", \"Topic2\", \"Topic2\", \"Topic2\", \"Topic2\", \"Topic2\", \"Topic2\", \"Topic2\", \"Topic2\", \"Topic2\", \"Topic2\", \"Topic2\", \"Topic2\", \"Topic2\", \"Topic2\", \"Topic2\", \"Topic2\", \"Topic2\", \"Topic2\", \"Topic2\", \"Topic2\", \"Topic2\", \"Topic2\", \"Topic2\", \"Topic2\", \"Topic2\", \"Topic2\", \"Topic2\", \"Topic2\", \"Topic2\", \"Topic2\", \"Topic2\", \"Topic2\", \"Topic2\", \"Topic2\", \"Topic2\", \"Topic2\", \"Topic2\", \"Topic2\", \"Topic2\", \"Topic2\", \"Topic2\", \"Topic2\", \"Topic2\", \"Topic2\", \"Topic2\", \"Topic2\", \"Topic2\", \"Topic2\", \"Topic2\", \"Topic2\", \"Topic2\", \"Topic2\", \"Topic2\", \"Topic3\", \"Topic3\", \"Topic3\", \"Topic3\", \"Topic3\", \"Topic3\", \"Topic3\", \"Topic3\", \"Topic3\", \"Topic3\", \"Topic3\", \"Topic3\", \"Topic3\", \"Topic3\", \"Topic3\", \"Topic3\", \"Topic3\", \"Topic3\", \"Topic3\", \"Topic3\", \"Topic3\", \"Topic3\", \"Topic3\", \"Topic3\", \"Topic3\", \"Topic3\", \"Topic3\", \"Topic3\", \"Topic3\", \"Topic3\", \"Topic3\", \"Topic3\", \"Topic3\", \"Topic3\", \"Topic3\", \"Topic3\", \"Topic3\", \"Topic3\", \"Topic3\", \"Topic3\", \"Topic3\", \"Topic3\", \"Topic3\", \"Topic3\", \"Topic3\", \"Topic3\", \"Topic3\", \"Topic3\", \"Topic3\", \"Topic4\", \"Topic4\", \"Topic4\", \"Topic4\", \"Topic4\", \"Topic4\", \"Topic4\", \"Topic4\", \"Topic4\", \"Topic4\", \"Topic4\", \"Topic4\", \"Topic4\", \"Topic4\", \"Topic4\", \"Topic4\", \"Topic4\", \"Topic4\", \"Topic4\", \"Topic4\", \"Topic4\", \"Topic4\", \"Topic4\", \"Topic4\", \"Topic4\", \"Topic4\", \"Topic4\", \"Topic4\", \"Topic4\", \"Topic4\", \"Topic4\", \"Topic4\", \"Topic4\", \"Topic4\", \"Topic4\", \"Topic4\", \"Topic4\"], \"logprob\": [30.0, 29.0, 28.0, 27.0, 26.0, 25.0, 24.0, 23.0, 22.0, 21.0, 20.0, 19.0, 18.0, 17.0, 16.0, 15.0, 14.0, 13.0, 12.0, 11.0, 10.0, 9.0, 8.0, 7.0, 6.0, 5.0, 4.0, 3.0, 2.0, 1.0, -5.32289981842041, -5.44980001449585, -5.4903998374938965, -5.561699867248535, -5.602799892425537, -5.61929988861084, -5.607999801635742, -5.60699987411499, -5.6915998458862305, -5.648499965667725, -5.528500080108643, -5.757599830627441, -5.767199993133545, -5.766600131988525, -5.8592000007629395, -5.9008002281188965, -5.9542999267578125, -6.008399963378906, -6.003499984741211, -6.007900238037109, -5.904099941253662, -6.0528998374938965, -6.073500156402588, -6.099699974060059, -6.0243000984191895, -6.128399848937988, -6.118500232696533, -6.141600131988525, -6.1946001052856445, -6.2164998054504395, -5.7555999755859375, -6.095099925994873, -5.470799922943115, -5.001299858093262, -5.1875, -5.35830020904541, -4.967700004577637, -5.619200229644775, -5.60860013961792, -4.644700050354004, -5.004000186920166, -5.228600025177002, -5.742300033569336, -4.84660005569458, -5.211400032043457, -5.358699798583984, -5.148399829864502, -5.131800174713135, -5.458099842071533, -4.922999858856201, -5.048999786376953, -5.1508002281188965, -5.242700099945068, -5.4070000648498535, -5.561800003051758, -5.567999839782715, -5.5472002029418945, -3.813999891281128, -3.9621999263763428, -4.146399974822998, -5.064799785614014, -5.143099784851074, -5.260700225830078, -5.355400085449219, -5.476500034332275, -5.497700214385986, -5.694900035858154, -5.86460018157959, -5.9355998039245605, -6.047999858856201, -6.105100154876709, -6.311600208282471, -6.259300231933594, -6.438000202178955, -6.378900051116943, -6.457099914550781, -6.5, -6.554599761962891, -6.554999828338623, -6.656300067901611, -6.653900146484375, -6.638800144195557, -6.70959997177124, -6.858799934387207, -6.849299907684326, -6.866799831390381, -6.589200019836426, -4.6940999031066895, -5.287399768829346, -3.7142999172210693, -4.015999794006348, -2.9832000732421875, -4.987800121307373, -3.5506999492645264, -4.145100116729736, -4.644400119781494, -4.65939998626709, -3.5062999725341797, -5.411300182342529, -4.735300064086914, -4.475800037384033, -4.4415998458862305, -4.832900047302246, -3.651700019836426, -5.226500034332275, -3.8201000690460205, -3.6135001182556152, -4.08519983291626, -4.383299827575684, -4.407800197601318, -4.63040018081665, -4.261600017547607, -4.533199787139893, -4.202400207519531, -4.812399864196777, -4.833399772644043, -4.794300079345703, -4.815999984741211, -4.359899997711182, -4.969200134277344, -4.984099864959717, -5.100200176239014, -5.098899841308594, -5.088099956512451, -5.374100208282471, -5.384099960327148, -5.4741997718811035, -5.520199775695801, -5.547900199890137, -5.573200225830078, -5.611599922180176, -5.67549991607666, -5.829599857330322, -5.925000190734863, -5.945499897003174, -5.953199863433838, -5.980000019073486, -5.911900043487549, -5.897299766540527, -5.96619987487793, -6.031099796295166, -5.980800151824951, -5.961299896240234, -6.082200050354004, -6.119699954986572, -6.11299991607666, -6.103499889373779, -6.157899856567383, -5.549200057983398, -5.94290018081665, -5.333399772644043, -5.47730016708374, -4.528600215911865, -5.264699935913086, -4.825500011444092, -4.815499782562256, -4.5167999267578125, -4.801000118255615, -5.311500072479248, -5.428800106048584, -5.258900165557861, -5.51669979095459, -5.260000228881836, -5.740799903869629, -5.709499835968018, -5.654699802398682, -5.6819000244140625, -3.9709999561309814, -4.944300174713135, -5.312900066375732, -5.660099983215332, -5.570400238037109, -5.218699932098389, -5.758299827575684, -5.681300163269043, -5.786300182342529, -5.821100234985352, -5.992700099945068, -5.950099945068359, -6.023399829864502, -6.05679988861084, -6.201600074768066, -6.029799938201904, -6.129899978637695, -6.302599906921387, -6.247600078582764, -6.326700210571289, -6.293799877166748, -6.438300132751465, -6.46560001373291, -6.476900100708008, -6.435500144958496, -6.412199974060059, -6.233399868011475, -6.511899948120117, -6.408999919891357, -6.47790002822876, -6.027299880981445, -6.335999965667725, -6.091300010681152, -3.613600015640259, -3.5078999996185303, -4.748899936676025, -5.97760009765625], \"loglift\": [30.0, 29.0, 28.0, 27.0, 26.0, 25.0, 24.0, 23.0, 22.0, 21.0, 20.0, 19.0, 18.0, 17.0, 16.0, 15.0, 14.0, 13.0, 12.0, 11.0, 10.0, 9.0, 8.0, 7.0, 6.0, 5.0, 4.0, 3.0, 2.0, 1.0, 0.6858, 0.6858, 0.6856, 0.6854, 0.6852, 0.6851, 0.6851, 0.685, 0.6848, 0.6847, 0.6846, 0.6845, 0.6844, 0.6843, 0.6839, 0.6837, 0.6832, 0.683, 0.683, 0.6829, 0.6827, 0.6825, 0.6824, 0.6823, 0.6823, 0.6821, 0.6819, 0.6817, 0.6815, 0.6813, 0.6784, 0.6809, 0.6746, 0.6605, 0.6341, 0.6422, 0.601, 0.6422, 0.6279, 0.4624, 0.5073, 0.5446, 0.631, 0.3904, 0.475, 0.5132, 0.2552, 0.1525, 0.4012, -0.5378, -0.4152, -0.6239, -0.7849, -0.4784, -0.0565, -0.0117, -0.9873, 1.2156, 1.2153, 1.215, 1.2121, 1.2119, 1.2114, 1.2105, 1.2102, 1.2094, 1.2079, 1.2069, 1.2061, 1.205, 1.2033, 1.2021, 1.2018, 1.2001, 1.1997, 1.1994, 1.1978, 1.1973, 1.1965, 1.1953, 1.1946, 1.1935, 1.1931, 1.1908, 1.1903, 1.1897, 1.1892, 1.1751, 1.179, 1.1629, 1.1551, 1.1065, 1.1105, 1.0093, 1.0406, 1.0685, 1.0685, 0.9515, 1.1068, 1.0354, 0.9992, 0.9923, 1.0359, 0.8752, 1.0749, 0.8137, 0.7717, 0.8434, 0.9013, 0.8376, 0.8918, 0.7472, 0.8215, 0.6202, 0.8912, 0.8907, 0.8216, 0.7917, 2.0091, 2.0046, 2.0044, 2.0028, 2.0025, 2.002, 1.9996, 1.9995, 1.9978, 1.9972, 1.9966, 1.9964, 1.9956, 1.994, 1.9912, 1.9884, 1.9883, 1.9882, 1.9876, 1.9875, 1.9871, 1.9869, 1.9859, 1.9854, 1.9849, 1.9841, 1.9836, 1.9834, 1.9826, 1.9816, 1.9814, 1.9815, 1.9731, 1.9701, 1.9228, 1.6221, 1.1914, 1.0857, 0.7675, 0.9638, 1.3761, 1.3597, 0.8943, 1.2133, 0.2962, 1.3698, 1.1464, 0.4373, 0.4039, 2.6707, 2.6589, 2.6528, 2.6426, 2.6413, 2.6393, 2.6392, 2.639, 2.6372, 2.6369, 2.6291, 2.6235, 2.622, 2.6218, 2.6185, 2.6184, 2.6181, 2.6125, 2.6118, 2.6109, 2.6067, 2.6033, 2.6013, 2.6005, 2.6004, 2.5993, 2.5985, 2.5967, 2.5965, 2.5958, 2.5454, 2.5752, 2.527, 1.3951, 1.3147, -0.3638, 0.1206]}, \"token.table\": {\"Topic\": [1, 2, 3, 4, 1, 2, 3, 4, 1, 2, 3, 4, 1, 2, 3, 4, 1, 2, 3, 4, 1, 2, 3, 4, 1, 2, 3, 4, 1, 2, 3, 4, 1, 2, 3, 4, 1, 2, 3, 4, 1, 2, 3, 4, 1, 2, 3, 4, 1, 2, 3, 4, 1, 2, 3, 4, 1, 2, 3, 4, 1, 2, 3, 4, 1, 2, 3, 4, 1, 2, 3, 4, 1, 2, 3, 4, 1, 2, 3, 4, 1, 2, 3, 4, 1, 2, 3, 4, 1, 2, 3, 4, 1, 2, 3, 4, 1, 2, 3, 4, 1, 2, 3, 4, 1, 2, 3, 4, 1, 2, 3, 4, 1, 2, 3, 4, 1, 2, 3, 4, 1, 2, 3, 4, 1, 2, 3, 4, 1, 2, 3, 4, 1, 2, 3, 4, 1, 2, 3, 4, 1, 2, 3, 4, 1, 2, 3, 4, 1, 2, 3, 4, 1, 2, 3, 4, 1, 2, 3, 4, 1, 2, 3, 4, 1, 2, 3, 4, 1, 2, 3, 4, 1, 2, 3, 4, 1, 2, 3, 4, 1, 2, 3, 4, 1, 2, 3, 4, 1, 2, 3, 4, 1, 2, 3, 4, 1, 2, 3, 4, 1, 2, 3, 4, 1, 2, 3, 4, 1, 2, 3, 4, 1, 2, 3, 4, 1, 2, 3, 4, 1, 2, 3, 4, 1, 2, 3, 4, 1, 2, 3, 4, 1, 2, 3, 4, 1, 2, 3, 4, 1, 2, 3, 4, 1, 2, 3, 4, 1, 2, 3, 4, 1, 2, 3, 4, 1, 2, 3, 4, 1, 2, 3, 4, 1, 2, 3, 4, 1, 2, 3, 4, 1, 2, 3, 4, 1, 2, 3, 4, 1, 2, 3, 4, 1, 2, 3, 4, 1, 2, 3, 4, 1, 2, 3, 4, 1, 2, 3, 4, 1, 2, 3, 4, 1, 2, 3, 4, 1, 2, 3, 4, 1, 2, 3, 4, 1, 2, 3, 4, 1, 2, 3, 4, 1, 2, 3, 4, 1, 2, 3, 4, 1, 2, 3, 4, 1, 2, 3, 4, 1, 2, 3, 4, 1, 2, 3, 4, 1, 2, 3, 4, 1, 2, 3, 4, 1, 2, 3, 4, 1, 2, 3, 4, 1, 2, 3, 4, 1, 2, 3, 4, 1, 2, 3, 4, 1, 2, 3, 4, 1, 2, 3, 4, 1, 2, 3, 4, 1, 2, 3, 4, 1, 2, 3, 4, 1, 2, 3, 4, 1, 2, 3, 4, 1, 2, 3, 4, 1, 2, 3, 4, 1, 2, 3, 4, 1, 2, 3, 4, 1, 2, 3, 4, 1, 2, 3, 4, 1, 2, 3, 4, 1, 2, 3, 4, 1, 2, 3, 4, 1, 2, 3, 4, 1, 2, 3, 4, 1, 2, 3, 4, 1, 2, 3, 4, 1, 2, 3, 4, 1, 2, 3, 4, 1, 2, 3, 4, 1, 2, 3, 4, 1, 2, 3, 4, 1, 2, 3, 4, 1, 2, 3, 4, 1, 2, 3, 4, 1, 2, 3, 4, 1, 2, 3, 4, 1, 2, 3, 4, 1, 2, 3, 4, 1, 2, 3, 4, 1, 2, 3, 4, 1, 2, 3, 4, 1, 2, 3, 4, 1, 2, 3, 4, 1, 2, 3, 4, 1, 2, 3, 4, 1, 2, 3, 4, 1, 2, 3, 4, 1, 2, 3, 4, 1, 2, 3, 4, 1, 2, 3, 4, 1, 2, 3, 4, 1, 2, 3, 4, 1, 2, 3, 4, 1, 2, 3, 4, 1, 2, 3, 4, 1, 2, 3, 4, 1, 2, 3, 4, 1, 2, 3, 4, 1, 2, 3, 4, 1, 2, 3, 4, 1, 2, 3, 4, 1, 2, 3, 4, 1, 2, 3, 4, 1, 2, 3, 4, 1, 2, 3, 4, 1, 2, 3, 4, 1, 2, 3, 4, 1, 2, 3, 4, 1, 2, 3, 4, 1, 2, 3, 4, 1, 2, 3, 4, 1, 2, 3, 4, 1, 2, 3, 4, 1, 2, 3, 4, 1, 2, 3, 4, 1, 2, 3, 4, 1, 2, 3, 4, 1, 2, 3, 4, 1, 2, 3, 4, 1, 2, 3, 4, 1, 2, 3, 4, 1, 2, 3, 4, 1, 2, 3, 4, 1, 2, 3, 4, 1, 2, 3, 4, 1, 2, 3, 4, 1, 2, 3, 4, 1, 2, 3, 4, 1, 2, 3, 4, 1, 2, 3, 4, 1, 2, 3, 4, 1, 2, 3, 4, 1, 2, 3, 4, 1, 2, 3, 4, 1, 2, 3, 4, 1, 2, 3, 4, 1, 2, 3, 4, 1, 2, 3, 4, 1, 2, 3, 4, 1, 2, 3, 4, 1, 2, 3, 4, 1, 2, 3, 4, 1, 2, 3, 4, 1, 2, 3, 4], \"Freq\": [0.008195146345366278, 0.9834175614439533, 0.008195146345366278, 0.008195146345366278, 0.06596241873089906, 0.625323729568923, 0.031661960990831545, 0.2775698580196232, 0.2930501592814409, 0.6406936397417603, 0.018386351692368397, 0.04780451440015784, 0.9955916475903959, 0.002212425883534213, 0.002212425883534213, 0.002212425883534213, 0.9957425970714043, 0.001896652565850294, 0.001896652565850294, 0.001896652565850294, 0.9936635742486223, 0.002447447227213355, 0.002447447227213355, 0.002447447227213355, 0.0020564980478396653, 0.0020564980478396653, 0.9953450551543981, 0.0020564980478396653, 0.5846080664947516, 0.12790473749706813, 0.2870905249254844, 0.0006951344429188485, 0.011649983277203513, 0.011649983277203513, 0.9669486120078916, 0.011649983277203513, 0.010686222025848189, 0.010686222025848189, 0.9724462043521852, 0.010686222025848189, 0.016836320522452708, 0.9765065903022571, 0.008418160261226354, 0.008418160261226354, 0.08039343546159114, 0.006699452955132595, 0.9133587528830772, 0.0022331509850441983, 0.9954921230371379, 0.0022320451189173497, 0.0022320451189173497, 0.0022320451189173497, 0.02623611071317676, 0.02623611071317676, 0.02623611071317676, 0.9444999856743634, 0.007766752952742649, 0.9786108720455737, 0.007766752952742649, 0.007766752952742649, 0.5567347263580444, 0.0014460642243066088, 0.4396035241892091, 0.0028921284486132176, 0.003765348632955983, 0.003765348632955983, 0.9902866904674236, 0.003765348632955983, 0.00666249658559172, 0.00666249658559172, 0.9793869980819828, 0.00666249658559172, 0.0006247222856685751, 0.998306212498383, 0.0006247222856685751, 0.0006247222856685751, 0.9910997536625593, 0.0034897878650090117, 0.0034897878650090117, 0.0034897878650090117, 0.0038209433786899603, 0.0038209433786899603, 0.9896243350806998, 0.0038209433786899603, 0.9958766622558936, 0.0018206154703032788, 0.0018206154703032788, 0.0018206154703032788, 0.00709392560747551, 0.00709392560747551, 0.9789617338316204, 0.00709392560747551, 0.16338421082502305, 0.8343819621522169, 0.0012472077162215501, 0.0012472077162215501, 0.010171513339110577, 0.010171513339110577, 0.9764652805546153, 0.010171513339110577, 0.008783303671072978, 0.008783303671072978, 0.9749467074891005, 0.008783303671072978, 0.7498307153193998, 0.21617854230789946, 0.03335326081321877, 0.0012353059560451399, 0.9915579902792896, 0.0028824360182537487, 0.0028824360182537487, 0.0028824360182537487, 0.3236719116521677, 0.6734463968246714, 0.0007457878148667457, 0.002983151259466983, 0.011041804835132027, 0.9716788254916184, 0.011041804835132027, 0.011041804835132027, 0.004453812192347265, 0.9887463067010929, 0.004453812192347265, 0.004453812192347265, 0.4755228599460534, 0.003128439868066141, 0.5193210180989793, 0.003128439868066141, 0.99531916270401, 0.0016956033436184156, 0.0016956033436184156, 0.0016956033436184156, 0.009635620304472608, 0.009635620304472608, 0.9731976507517334, 0.009635620304472608, 0.5755663920847633, 0.0033463162330509494, 0.4182895291313687, 0.0033463162330509494, 0.9531572982894436, 0.0014226228332678264, 0.044101307831302616, 0.0014226228332678264, 0.010153358938404883, 0.010153358938404883, 0.010153358938404883, 0.9747224580868687, 0.01015797427709059, 0.01015797427709059, 0.9751655306006967, 0.01015797427709059, 0.02871856805950263, 0.02871856805950263, 0.02871856805950263, 0.9189941779040841, 0.22621242492145704, 0.5717286629864222, 0.19987262201964356, 0.0015494001706949112, 0.0015590850809530036, 0.7904561360431729, 0.2057992306857965, 0.0015590850809530036, 0.9940843504688529, 0.001984200300337032, 0.001984200300337032, 0.001984200300337032, 0.029602744728092434, 0.029602744728092434, 0.029602744728092434, 0.9176850865708654, 0.05181565063975871, 0.9474861831270164, 0.00046263973785498847, 0.00046263973785498847, 0.006460752413552739, 0.988495119273569, 0.006460752413552739, 0.006460752413552739, 0.015635121965178397, 0.015635121965178397, 0.015635121965178397, 0.9693775618410607, 0.029774204393115126, 0.029774204393115126, 0.029774204393115126, 0.9230003361865688, 0.016609108992751722, 0.016609108992751722, 0.016609108992751722, 0.9633283215795999, 0.9850665777323955, 0.001644518493710176, 0.011511629455971232, 0.001644518493710176, 0.3175228807228951, 0.0034513356600314685, 0.6764617893661679, 0.0034513356600314685, 0.002504189178288406, 0.9941631037804973, 0.002504189178288406, 0.002504189178288406, 0.0005387858760545967, 0.9989090142052223, 0.0005387858760545967, 0.0005387858760545967, 0.0028257869007463987, 0.9946769890627324, 0.0028257869007463987, 0.0028257869007463987, 0.0007508367351098619, 0.9986128576961164, 0.0007508367351098619, 0.0007508367351098619, 0.006129128379844567, 0.9867896691549752, 0.006129128379844567, 0.006129128379844567, 0.009501570071348487, 0.009501570071348487, 0.9691601472775457, 0.009501570071348487, 0.4963124743891202, 0.3238803831031942, 0.17973080414458947, 0.0009123391073329415, 0.2688984663623822, 0.7105438262666585, 0.020208127169051755, 0.0003259375349847057, 0.007452209346375652, 0.9836916337215861, 0.007452209346375652, 0.007452209346375652, 0.09333025450238228, 0.3761492075399043, 0.5288714421801662, 0.0028281895303752204, 0.0012475638647820937, 0.9593766120174301, 0.038674479808244906, 0.0012475638647820937, 0.005672545211180517, 0.005672545211180517, 0.98702286674541, 0.005672545211180517, 0.46627528940998303, 0.004317363790833176, 0.5267183824816475, 0.004317363790833176, 0.00497798004969936, 0.9906180298901727, 0.00497798004969936, 0.00497798004969936, 0.00731606329925774, 0.9803524821005373, 0.00731606329925774, 0.00731606329925774, 0.7411959783525502, 0.25789377064323976, 0.0006629659913707963, 0.0006629659913707963, 0.9403178970709938, 0.05764400901584636, 0.0018013752817451988, 0.0018013752817451988, 0.008198144155850278, 0.9837772987020333, 0.008198144155850278, 0.008198144155850278, 0.6476720938701958, 0.28741917587710014, 0.0587368888032221, 0.006265268139010358, 0.0248148807457018, 0.0248148807457018, 0.0248148807457018, 0.9429654683366684, 0.22873211635494586, 0.7671042519244329, 0.0039541456284764576, 0.0003041650483443429, 0.5226062438050645, 0.12699893666660705, 0.34952804693198936, 0.0011238843952797084, 0.10418815474282027, 0.8955971685468692, 0.0002104811206925662, 0.0002104811206925662, 0.009057949977410131, 0.9782585975602942, 0.009057949977410131, 0.009057949977410131, 0.006893580284332707, 0.9857819806595771, 0.006893580284332707, 0.006893580284332707, 0.19430079315137688, 0.8041192997953086, 0.0008411289746812851, 0.0008411289746812851, 0.002266884886289229, 0.9634260766729223, 0.034003273294338436, 0.002266884886289229, 0.01949852740422814, 0.01949852740422814, 0.0974926370211407, 0.8579352057860381, 0.03023110096922835, 0.00604622019384567, 0.9553027906276158, 0.00604622019384567, 0.9898182873614497, 0.008778876162850996, 0.002194719040712749, 0.002194719040712749, 0.009833516594045704, 0.009833516594045704, 0.9735181428105246, 0.009833516594045704, 0.18696384339656547, 0.8125347572477765, 0.00033687178990372157, 0.00033687178990372157, 0.00953248140406918, 0.9723131032150564, 0.00953248140406918, 0.00953248140406918, 0.02889186014809471, 0.02889186014809471, 0.02889186014809471, 0.9245395247390307, 0.1287852771975498, 0.8668979106879845, 0.0019221683163813403, 0.0019221683163813403, 0.030857475506363155, 0.030857475506363155, 0.030857475506363155, 0.9257242651908947, 0.008884431622066296, 0.9772874784272925, 0.008884431622066296, 0.008884431622066296, 0.9917335115849609, 0.003089512497149411, 0.003089512497149411, 0.003089512497149411, 0.014221646287416597, 0.014221646287416597, 0.014221646287416597, 0.9670719475443287, 0.009360154018146471, 0.009360154018146471, 0.973456017887233, 0.009360154018146471, 0.9911984582429468, 0.0032392106478527677, 0.0032392106478527677, 0.0032392106478527677, 0.016046623539824854, 0.016046623539824854, 0.016046623539824854, 0.9627974123894912, 0.9926580729366915, 0.0026901302789612237, 0.0026901302789612237, 0.0026901302789612237, 0.8381827986269038, 0.14261617767681647, 0.017514267433995003, 0.0012510191024282147, 0.9903293657787617, 0.0034149288475129715, 0.0034149288475129715, 0.0034149288475129715, 0.9529976896037138, 0.022162736967528227, 0.024009631714822247, 0.001846894747294019, 0.01575441191280344, 0.021005882550404587, 0.9610191266810097, 0.005251470637601147, 0.15902301484931317, 0.5506664729079521, 0.03417023459572018, 0.25583867953718703, 0.018647146943641, 0.018647146943641, 0.018647146943641, 0.9510044941256909, 0.0075494486737279634, 0.0075494486737279634, 0.9814283275846353, 0.0075494486737279634, 0.5306816070135196, 0.07341954271788986, 0.3954350809542489, 0.001288062152945436, 0.9438865037148898, 0.04750413476026798, 0.006196191490469736, 0.0020653971634899118, 0.01145216601669005, 0.01145216601669005, 0.9734341114186543, 0.01145216601669005, 0.26978898006909097, 0.7294037115785474, 0.0006953324228584818, 0.0006953324228584818, 0.6711893650824466, 0.0016572576915615967, 0.32647976523763456, 0.0016572576915615967, 0.02683295379404483, 0.02683295379404483, 0.02683295379404483, 0.939153382791569, 0.9941701511259347, 0.0035191863756670254, 0.0017595931878335127, 0.0017595931878335127, 0.009956177319953333, 0.009956177319953333, 0.9757053773554266, 0.009956177319953333, 0.9950303187134962, 0.0019061883500258547, 0.0019061883500258547, 0.0019061883500258547, 0.267485208345422, 0.7221043371538467, 0.009515284091339123, 0.0010572537879265692, 0.9944195593005803, 0.0020717074152095424, 0.0020717074152095424, 0.0020717074152095424, 0.023857943906805686, 0.023857943906805686, 0.023857943906805686, 0.9543177562722274, 0.8647214653329346, 0.0011333177789422473, 0.13259818013624292, 0.0011333177789422473, 0.9947970465549004, 0.001927901253013373, 0.001927901253013373, 0.001927901253013373, 0.9155152732257459, 0.02124808404055717, 0.06282042238077772, 0.00092382974089379, 0.05226494893598172, 0.02613247446799086, 0.02613247446799086, 0.91463660637968, 0.020709555428221272, 0.020709555428221272, 0.020709555428221272, 0.9526395496981785, 0.01314147971193085, 0.006570739855965425, 0.9658987588269176, 0.01314147971193085, 0.006196696936158945, 0.006196696936158945, 0.9852748128492723, 0.006196696936158945, 0.9938259106235805, 0.0029666445093241207, 0.0029666445093241207, 0.0029666445093241207, 0.0027012944077981077, 0.0027012944077981077, 0.0027012944077981077, 0.9940763420697036, 0.012079762443296435, 0.012079762443296435, 0.9663809954637148, 0.012079762443296435, 0.9712585871184696, 0.027373676254904677, 0.0010138398612927657, 0.0010138398612927657, 0.002884010581353903, 0.9920996399857427, 0.002884010581353903, 0.002884010581353903, 0.009029610694058592, 0.975197954958328, 0.009029610694058592, 0.009029610694058592, 0.0042777850067748195, 0.0042777850067748195, 0.9881683365649833, 0.0042777850067748195, 0.0041517862012110515, 0.9881251158882302, 0.0041517862012110515, 0.0041517862012110515, 0.3448423854763403, 0.6541439122824171, 0.000960563747844959, 0.000960563747844959, 0.020089575966184815, 0.020089575966184815, 0.020089575966184815, 0.9442100704106863, 0.01956639777623882, 0.01956639777623882, 0.01956639777623882, 0.9587534910357022, 0.0020277862020839604, 0.9956430252232246, 0.0020277862020839604, 0.0020277862020839604, 0.31422827427740646, 0.6846164954469451, 0.0013371415926698147, 0.0006685707963349074, 0.09817633686710628, 0.8622443498763247, 0.038416827469737236, 0.00106713409638159, 0.2762458433086707, 0.7219080827089871, 0.0010790853254244949, 0.0010790853254244949, 0.024141995629525344, 0.024141995629525344, 0.024141995629525344, 0.9173958339219631, 0.9936266287995213, 0.0028389332251414897, 0.0028389332251414897, 0.0028389332251414897, 0.012983249225848243, 0.012983249225848243, 0.012983249225848243, 0.9607604427127701, 0.9457404978681447, 0.0523428703222621, 0.0011896106891423205, 0.0011896106891423205, 0.9931488280949164, 0.0030278927685820625, 0.0030278927685820625, 0.0030278927685820625, 0.011227431624971387, 0.011227431624971387, 0.9655591197475393, 0.011227431624971387, 0.0068315943764380585, 0.0068315943764380585, 0.9837495902070804, 0.0068315943764380585, 0.0064843928166393155, 0.0064843928166393155, 0.9856277081291759, 0.0064843928166393155, 0.004284715482448841, 0.004284715482448841, 0.9897692764456824, 0.004284715482448841, 0.014473223601646644, 0.014473223601646644, 0.014473223601646644, 0.9552327577086785, 0.009908543896033468, 0.009908543896033468, 0.97103730181128, 0.009908543896033468, 0.16061588535036259, 0.8383519349071866, 0.0006298662170602454, 0.0006298662170602454, 0.9958340798820328, 0.0019040804586654546, 0.0019040804586654546, 0.0019040804586654546, 0.01823232728311245, 0.009116163641556225, 0.009116163641556225, 0.9663133460049599, 0.9938851939665034, 0.00223344987408203, 0.00223344987408203, 0.00223344987408203, 0.9913806357850471, 0.003198002050919507, 0.003198002050919507, 0.003198002050919507, 0.20021067592225475, 0.7992281014638396, 0.000807301112589737, 0.000807301112589737, 0.9954520360305009, 0.00143436892799784, 0.00143436892799784, 0.00143436892799784, 0.9914870473071605, 0.0031081098661666475, 0.0031081098661666475, 0.0031081098661666475, 0.0018755418210619995, 0.9959127069839218, 0.0018755418210619995, 0.0018755418210619995, 0.010025368267506173, 0.010025368267506173, 0.9724607219480987, 0.010025368267506173, 0.010931900376977657, 0.9729391335510115, 0.010931900376977657, 0.010931900376977657, 0.9943750814350177, 0.0028249292086222092, 0.0028249292086222092, 0.0028249292086222092, 0.060662716401709595, 0.8622771831385864, 0.07691165829502467, 0.0010832627928876713, 0.025856951495826182, 0.025856951495826182, 0.025856951495826182, 0.9308502538497426, 0.996626154572516, 0.0016284741087786209, 0.0016284741087786209, 0.0016284741087786209, 0.0015687540970526835, 0.8988960976111877, 0.02196255735873757, 0.07686895075558149, 0.004229557183279349, 0.004229557183279349, 0.9854868237040882, 0.004229557183279349, 0.01111692996749348, 0.9782898371394263, 0.01111692996749348, 0.01111692996749348, 0.9930347032512842, 0.0028372420092893833, 0.0028372420092893833, 0.0028372420092893833, 0.009741670755305265, 0.01948334151061053, 0.9644254047752212, 0.009741670755305265, 0.07348504114401488, 0.8343378517581999, 0.09157366665638779, 0.001130539094523306, 0.02003441358621413, 0.02003441358621413, 0.02003441358621413, 0.9416174385520641, 0.7965258811676759, 0.1909798896366942, 0.012227370982837129, 0.0005822557610874824, 0.01862968570901422, 0.01862968570901422, 0.09314842854507109, 0.8755952283236682, 0.8064165936602133, 0.1693890525342974, 0.022862326108923574, 0.001039196641314708, 0.030537106786443814, 0.030537106786443814, 0.030537106786443814, 0.9161132035933144, 0.5459087270335886, 0.002950857983965344, 0.4485304135627323, 0.002950857983965344, 0.030744491533854387, 0.030744491533854387, 0.030744491533854387, 0.9223347460156316, 0.3311528762313889, 0.6681090887384648, 0.0003627085172304369, 0.0003627085172304369, 0.05896449770859574, 0.94032856872129, 0.0006206789232483762, 0.0006206789232483762, 0.005616618764494986, 0.005616618764494986, 0.9829082837866225, 0.005616618764494986, 0.022198271641024156, 0.022198271641024156, 0.022198271641024156, 0.9323274089230146, 0.9920839525628741, 0.002556917403512562, 0.002556917403512562, 0.002556917403512562, 0.3107387250714011, 0.6882034773133069, 0.00048705129321536226, 0.00048705129321536226, 0.0035071817934687207, 0.992532447551648, 0.0035071817934687207, 0.0035071817934687207, 0.276006192273074, 0.7222015062991936, 0.0008818089210002363, 0.0008818089210002363, 0.031839148010920325, 0.031839148010920325, 0.031839148010920325, 0.9233352923166894, 0.9909015403081383, 0.003165819617597886, 0.003165819617597886, 0.003165819617597886, 0.3253996080624546, 0.6740420452722273, 0.000968451214471591, 0.000968451214471591, 0.01157011117053185, 0.01157011117053185, 0.9718893383246754, 0.01157011117053185, 0.0022798695940093082, 0.9940231429880585, 0.0022798695940093082, 0.0022798695940093082, 0.9949152510662438, 0.002551064746323702, 0.002551064746323702, 0.002551064746323702, 0.10026753373698204, 0.8952458369373395, 0.0023873222318329056, 0.0023873222318329056, 0.4742885151670449, 0.524578705075068, 0.0008670722397935007, 0.0008670722397935007, 0.8330145415396425, 0.16311384216535407, 0.0034890661425744187, 0.0008722665356436047, 0.007065179582937267, 0.007065179582937267, 0.007065179582937267, 0.98205996202828, 0.005261381022743371, 0.9891396322757537, 0.005261381022743371, 0.005261381022743371], \"Term\": [\"afford\", \"afford\", \"afford\", \"afford\", \"amaz\", \"amaz\", \"amaz\", \"amaz\", \"app\", \"app\", \"app\", \"app\", \"area\", \"area\", \"area\", \"area\", \"avail\", \"avail\", \"avail\", \"avail\", \"away\", \"away\", \"away\", \"away\", \"awesom\", \"awesom\", \"awesom\", \"awesom\", \"bag\", \"bag\", \"bag\", \"bag\", \"baguett\", \"baguett\", \"baguett\", \"baguett\", \"beauti\", \"beauti\", \"beauti\", \"beauti\", \"benefit\", \"benefit\", \"benefit\", \"benefit\", \"best\", \"best\", \"best\", \"best\", \"better\", \"better\", \"better\", \"better\", \"bien\", \"bien\", \"bien\", \"bien\", \"board\", \"board\", \"board\", \"board\", \"box\", \"box\", \"box\", \"box\", \"bread\", \"bread\", \"bread\", \"bread\", \"breakfast\", \"breakfast\", \"breakfast\", \"breakfast\", \"brilliant\", \"brilliant\", \"brilliant\", \"brilliant\", \"ca\", \"ca\", \"ca\", \"ca\", \"cake\", \"cake\", \"cake\", \"cake\", \"cancel\", \"cancel\", \"cancel\", \"cancel\", \"carveri\", \"carveri\", \"carveri\", \"carveri\", \"cheap\", \"cheap\", \"cheap\", \"cheap\", \"chees\", \"chees\", \"chees\", \"chees\", \"chicken\", \"chicken\", \"chicken\", \"chicken\", \"collect\", \"collect\", \"collect\", \"collect\", \"compani\", \"compani\", \"compani\", \"compani\", \"concept\", \"concept\", \"concept\", \"concept\", \"contribut\", \"contribut\", \"contribut\", \"contribut\", \"cool\", \"cool\", \"cool\", \"cool\", \"costa\", \"costa\", \"costa\", \"costa\", \"could\", \"could\", \"could\", \"could\", \"croissant\", \"croissant\", \"croissant\", \"croissant\", \"date\", \"date\", \"date\", \"date\", \"day\", \"day\", \"day\", \"day\", \"de\", \"de\", \"de\", \"de\", \"decent\", \"decent\", \"decent\", \"decent\", \"deffo\", \"deffo\", \"deffo\", \"deffo\", \"definit\", \"definit\", \"definit\", \"definit\", \"delici\", \"delici\", \"delici\", \"delici\", \"disappoint\", \"disappoint\", \"disappoint\", \"disappoint\", \"e\", \"e\", \"e\", \"e\", \"easi\", \"easi\", \"easi\", \"easi\", \"effici\", \"effici\", \"effici\", \"effici\", \"en\", \"en\", \"en\", \"en\", \"er\", \"er\", \"er\", \"er\", \"et\", \"et\", \"et\", \"et\", \"even\", \"even\", \"even\", \"even\", \"ever\", \"ever\", \"ever\", \"ever\", \"everyon\", \"everyon\", \"everyon\", \"everyon\", \"excel\", \"excel\", \"excel\", \"excel\", \"fab\", \"fab\", \"fab\", \"fab\", \"fantast\", \"fantast\", \"fantast\", \"fantast\", \"fast\", \"fast\", \"fast\", \"fast\", \"fill\", \"fill\", \"fill\", \"fill\", \"first\", \"first\", \"first\", \"first\", \"food\", \"food\", \"food\", \"food\", \"fraction\", \"fraction\", \"fraction\", \"fraction\", \"fresh\", \"fresh\", \"fresh\", \"fresh\", \"friendli\", \"friendli\", \"friendli\", \"friendli\", \"fruit\", \"fruit\", \"fruit\", \"fruit\", \"full\", \"full\", \"full\", \"full\", \"fun\", \"fun\", \"fun\", \"fun\", \"geniu\", \"geniu\", \"geniu\", \"geniu\", \"get\", \"get\", \"get\", \"get\", \"give\", \"give\", \"give\", \"give\", \"glad\", \"glad\", \"glad\", \"glad\", \"go\", \"go\", \"go\", \"go\", \"god\", \"god\", \"god\", \"god\", \"good\", \"good\", \"good\", \"good\", \"got\", \"got\", \"got\", \"got\", \"great\", \"great\", \"great\", \"great\", \"handi\", \"handi\", \"handi\", \"handi\", \"hate\", \"hate\", \"hate\", \"hate\", \"help\", \"help\", \"help\", \"help\", \"highli\", \"highli\", \"highli\", \"highli\", \"holiday\", \"holiday\", \"holiday\", \"holiday\", \"home\", \"home\", \"home\", \"home\", \"hope\", \"hope\", \"hope\", \"hope\", \"hot\", \"hot\", \"hot\", \"hot\", \"idea\", \"idea\", \"idea\", \"idea\", \"implement\", \"implement\", \"implement\", \"implement\", \"importantli\", \"importantli\", \"importantli\", \"importantli\", \"initi\", \"initi\", \"initi\", \"initi\", \"je\", \"je\", \"je\", \"je\", \"job\", \"job\", \"job\", \"job\", \"join\", \"join\", \"join\", \"join\", \"la\", \"la\", \"la\", \"la\", \"larg\", \"larg\", \"larg\", \"larg\", \"last\", \"last\", \"last\", \"last\", \"le\", \"le\", \"le\", \"le\", \"left\", \"left\", \"left\", \"left\", \"like\", \"like\", \"like\", \"like\", \"live\", \"live\", \"live\", \"live\", \"local\", \"local\", \"local\", \"local\", \"london\", \"london\", \"london\", \"london\", \"love\", \"love\", \"love\", \"love\", \"lower\", \"lower\", \"lower\", \"lower\", \"lunch\", \"lunch\", \"lunch\", \"lunch\", \"magic\", \"magic\", \"magic\", \"magic\", \"make\", \"make\", \"make\", \"make\", \"massiv\", \"massiv\", \"massiv\", \"massiv\", \"money\", \"money\", \"money\", \"money\", \"morrison\", \"morrison\", \"morrison\", \"morrison\", \"muy\", \"muy\", \"muy\", \"muy\", \"need\", \"need\", \"need\", \"need\", \"nero\", \"nero\", \"nero\", \"nero\", \"never\", \"never\", \"never\", \"never\", \"nice\", \"nice\", \"nice\", \"nice\", \"noth\", \"noth\", \"noth\", \"noth\", \"og\", \"og\", \"og\", \"og\", \"one\", \"one\", \"one\", \"one\", \"option\", \"option\", \"option\", \"option\", \"order\", \"order\", \"order\", \"order\", \"organ\", \"organ\", \"organ\", \"organ\", \"outstand\", \"outstand\", \"outstand\", \"outstand\", \"pack\", \"pack\", \"pack\", \"pack\", \"pastri\", \"pastri\", \"pastri\", \"pastri\", \"pay\", \"pay\", \"pay\", \"pay\", \"perfect\", \"perfect\", \"perfect\", \"perfect\", \"pizza\", \"pizza\", \"pizza\", \"pizza\", \"place\", \"place\", \"place\", \"place\", \"planet\", \"planet\", \"planet\", \"planet\", \"pleasant\", \"pleasant\", \"pleasant\", \"pleasant\", \"portion\", \"portion\", \"portion\", \"portion\", \"prevent\", \"prevent\", \"prevent\", \"prevent\", \"price\", \"price\", \"price\", \"price\", \"project\", \"project\", \"project\", \"project\", \"que\", \"que\", \"que\", \"que\", \"quick\", \"quick\", \"quick\", \"quick\", \"realli\", \"realli\", \"realli\", \"realli\", \"recommend\", \"recommend\", \"recommend\", \"recommend\", \"reduc\", \"reduc\", \"reduc\", \"reduc\", \"reduct\", \"reduct\", \"reduct\", \"reduct\", \"refund\", \"refund\", \"refund\", \"refund\", \"rescu\", \"rescu\", \"rescu\", \"rescu\", \"restaur\", \"restaur\", \"restaur\", \"restaur\", \"review\", \"review\", \"review\", \"review\", \"rice\", \"rice\", \"rice\", \"rice\", \"roll\", \"roll\", \"roll\", \"roll\", \"salad\", \"salad\", \"salad\", \"salad\", \"sandwich\", \"sandwich\", \"sandwich\", \"sandwich\", \"satisfi\", \"satisfi\", \"satisfi\", \"satisfi\", \"sausag\", \"sausag\", \"sausag\", \"sausag\", \"save\", \"save\", \"save\", \"save\", \"say\", \"say\", \"say\", \"say\", \"scheme\", \"scheme\", \"scheme\", \"scheme\", \"see\", \"see\", \"see\", \"see\", \"seem\", \"seem\", \"seem\", \"seem\", \"servic\", \"servic\", \"servic\", \"servic\", \"shop\", \"shop\", \"shop\", \"shop\", \"sign\", \"sign\", \"sign\", \"sign\", \"simpl\", \"simpl\", \"simpl\", \"simpl\", \"size\", \"size\", \"size\", \"size\", \"smooth\", \"smooth\", \"smooth\", \"smooth\", \"sold\", \"sold\", \"sold\", \"sold\", \"staff\", \"staff\", \"staff\", \"staff\", \"step\", \"step\", \"step\", \"step\", \"store\", \"store\", \"store\", \"store\", \"super\", \"super\", \"super\", \"super\", \"sushi\", \"sushi\", \"sushi\", \"sushi\", \"tackl\", \"tackl\", \"tackl\", \"tackl\", \"take\", \"take\", \"take\", \"take\", \"tast\", \"tast\", \"tast\", \"tast\", \"thank\", \"thank\", \"thank\", \"thank\", \"thankyou\", \"thankyou\", \"thankyou\", \"thankyou\", \"time\", \"time\", \"time\", \"time\", \"tin\", \"tin\", \"tin\", \"tin\", \"tri\", \"tri\", \"tri\", \"tri\", \"tr\\u00e8\", \"tr\\u00e8\", \"tr\\u00e8\", \"tr\\u00e8\", \"two\", \"two\", \"two\", \"two\", \"un\", \"un\", \"un\", \"un\", \"use\", \"use\", \"use\", \"use\", \"valu\", \"valu\", \"valu\", \"valu\", \"veg\", \"veg\", \"veg\", \"veg\", \"wallet\", \"wallet\", \"wallet\", \"wallet\", \"want\", \"want\", \"want\", \"want\", \"wast\", \"wast\", \"wast\", \"wast\", \"wastag\", \"wastag\", \"wastag\", \"wastag\", \"way\", \"way\", \"way\", \"way\", \"wee\", \"wee\", \"wee\", \"wee\", \"week\", \"week\", \"week\", \"week\", \"well\", \"well\", \"well\", \"well\", \"wenzel\", \"wenzel\", \"wenzel\", \"wenzel\", \"win\", \"win\", \"win\", \"win\", \"wish\", \"wish\", \"wish\", \"wish\", \"wonder\", \"wonder\", \"wonder\", \"wonder\", \"work\", \"work\", \"work\", \"work\", \"would\", \"would\", \"would\", \"would\", \"wow\", \"wow\", \"wow\", \"wow\", \"yummi\", \"yummi\", \"yummi\", \"yummi\"]}, \"R\": 30, \"lambda.step\": 0.01, \"plot.opts\": {\"xlab\": \"PC1\", \"ylab\": \"PC2\"}, \"topic.order\": [3, 1, 2, 4]};\n",
       "\n",
       "function LDAvis_load_lib(url, callback){\n",
       "  var s = document.createElement('script');\n",
       "  s.src = url;\n",
       "  s.async = true;\n",
       "  s.onreadystatechange = s.onload = callback;\n",
       "  s.onerror = function(){console.warn(\"failed to load library \" + url);};\n",
       "  document.getElementsByTagName(\"head\")[0].appendChild(s);\n",
       "}\n",
       "\n",
       "if(typeof(LDAvis) !== \"undefined\"){\n",
       "   // already loaded: just create the visualization\n",
       "   !function(LDAvis){\n",
       "       new LDAvis(\"#\" + \"ldavis_el95771406016742235047099961308\", ldavis_el95771406016742235047099961308_data);\n",
       "   }(LDAvis);\n",
       "}else if(typeof define === \"function\" && define.amd){\n",
       "   // require.js is available: use it to load d3/LDAvis\n",
       "   require.config({paths: {d3: \"https://cdnjs.cloudflare.com/ajax/libs/d3/3.5.5/d3.min\"}});\n",
       "   require([\"d3\"], function(d3){\n",
       "      window.d3 = d3;\n",
       "      LDAvis_load_lib(\"https://cdn.rawgit.com/bmabey/pyLDAvis/files/ldavis.v1.0.0.js\", function(){\n",
       "        new LDAvis(\"#\" + \"ldavis_el95771406016742235047099961308\", ldavis_el95771406016742235047099961308_data);\n",
       "      });\n",
       "    });\n",
       "}else{\n",
       "    // require.js not available: dynamically load d3 & LDAvis\n",
       "    LDAvis_load_lib(\"https://cdnjs.cloudflare.com/ajax/libs/d3/3.5.5/d3.min.js\", function(){\n",
       "         LDAvis_load_lib(\"https://cdn.rawgit.com/bmabey/pyLDAvis/files/ldavis.v1.0.0.js\", function(){\n",
       "                 new LDAvis(\"#\" + \"ldavis_el95771406016742235047099961308\", ldavis_el95771406016742235047099961308_data);\n",
       "            })\n",
       "         });\n",
       "}\n",
       "</script>"
      ],
      "text/plain": [
       "PreparedData(topic_coordinates=              x         y  topics  cluster       Freq\n",
       "topic                                                \n",
       "2      0.171511  0.143501       1        1  50.172284\n",
       "0      0.180750 -0.145464       2        1  29.617612\n",
       "1     -0.168333  0.130924       3        1  13.337758\n",
       "3     -0.183928 -0.128960       4        1   6.872346, topic_info=         Term         Freq        Total Category  logprob  loglift\n",
       "21      great  4751.000000  4751.000000  Default  30.0000  30.0000\n",
       "41       love  2282.000000  2282.000000  Default  29.0000  29.0000\n",
       "199      amaz  1895.000000  1895.000000  Default  28.0000  28.0000\n",
       "151      idea  2968.000000  2968.000000  Default  27.0000  27.0000\n",
       "94       easi  2161.000000  2161.000000  Default  26.0000  26.0000\n",
       "...       ...          ...          ...      ...      ...      ...\n",
       "3433  holiday    44.113216    51.285924   Topic4  -6.0913   2.5270\n",
       "199      amaz   525.552868  1895.018442   Topic4  -3.6136   1.3951\n",
       "41       love   584.169464  2282.688455   Topic4  -3.5079   1.3147\n",
       "40        app   168.868136  3535.230974   Topic4  -4.7489  -0.3638\n",
       "612     super    49.424319   637.448534   Topic4  -5.9776   0.1206\n",
       "\n",
       "[234 rows x 6 columns], token_table=      Topic      Freq    Term\n",
       "term                         \n",
       "176       1  0.008195  afford\n",
       "176       2  0.983418  afford\n",
       "176       3  0.008195  afford\n",
       "176       4  0.008195  afford\n",
       "199       1  0.065962    amaz\n",
       "...     ...       ...     ...\n",
       "611       4  0.982060     wow\n",
       "915       1  0.005261   yummi\n",
       "915       2  0.989140   yummi\n",
       "915       3  0.005261   yummi\n",
       "915       4  0.005261   yummi\n",
       "\n",
       "[768 rows x 3 columns], R=30, lambda_step=0.01, plot_opts={'xlab': 'PC1', 'ylab': 'PC2'}, topic_order=[3, 1, 2, 4])"
      ]
     },
     "execution_count": 46,
     "metadata": {},
     "output_type": "execute_result"
    }
   ],
   "source": [
    "# Import the modules\n",
    "import pyLDAvis\n",
    "from pyLDAvis import gensim\n",
    "\n",
    "# Visualize the different topics\n",
    "pyLDAvis.enable_notebook()\n",
    "vis = pyLDAvis.gensim.prepare(topic_model=lda1, corpus=bow, dictionary=id2word)\n",
    "vis"
   ]
  },
  {
   "cell_type": "code",
   "execution_count": 47,
   "id": "024a6429-0a29-431b-b27c-fa14e2b1c522",
   "metadata": {},
   "outputs": [],
   "source": [
    "pyLDAvis.save_html(vis, 'lda.html')"
   ]
  },
  {
   "cell_type": "code",
   "execution_count": null,
   "id": "5bf31040-cda4-4691-9b0b-c76636023f66",
   "metadata": {},
   "outputs": [],
   "source": []
  }
 ],
 "metadata": {
  "kernelspec": {
   "display_name": "Python 3 (ipykernel)",
   "language": "python",
   "name": "python3"
  },
  "language_info": {
   "codemirror_mode": {
    "name": "ipython",
    "version": 3
   },
   "file_extension": ".py",
   "mimetype": "text/x-python",
   "name": "python",
   "nbconvert_exporter": "python",
   "pygments_lexer": "ipython3",
   "version": "3.9.7"
  }
 },
 "nbformat": 4,
 "nbformat_minor": 5
}
