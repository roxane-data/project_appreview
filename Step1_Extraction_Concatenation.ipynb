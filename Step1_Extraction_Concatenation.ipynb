{
 "cells": [
  {
   "cell_type": "markdown",
   "metadata": {
    "id": "pJAw-bBretUY"
   },
   "source": [
    "pip install google-play-scraper AND \n",
    "pip install app_store_scraper"
   ]
  },
  {
   "cell_type": "markdown",
   "metadata": {
    "id": "ky9Kv-ROSt4d"
   },
   "source": [
    "# Data extraction"
   ]
  },
  {
   "cell_type": "markdown",
   "metadata": {},
   "source": [
    "## Step 1: Classification training/testing Machine Learning dataset"
   ]
  },
  {
   "cell_type": "markdown",
   "metadata": {
    "id": "NQfbPaPi9nRX"
   },
   "source": [
    "Retrieving data from the 3 main feedback platforms :\n",
    "\n",
    "    Google Play\n",
    "    Apple Store\n",
    "    Trustpilot\n",
    "\n",
    "Then storing of the reviews of each platform into 1 csv doc.\n",
    "\n",
    "Installation of pip install google-play-scraper to scrap app reviews"
   ]
  },
  {
   "cell_type": "code",
   "execution_count": null,
   "metadata": {
    "colab": {
     "base_uri": "https://localhost:8080/"
    },
    "executionInfo": {
     "elapsed": 8413,
     "status": "ok",
     "timestamp": 1639213958164,
     "user": {
      "displayName": "Roxane Ajavon",
      "photoUrl": "https://lh3.googleusercontent.com/a/default-user=s64",
      "userId": "10325748363259226548"
     },
     "user_tz": -60
    },
    "id": "AfTubAQX5zTm",
    "outputId": "ff3b2171-3706-4919-dd25-7d7f5b0b03c7"
   },
   "outputs": [
    {
     "name": "stdout",
     "output_type": "stream",
     "text": [
      "Collecting google-play-scraper\n",
      "  Downloading google-play-scraper-1.0.2.tar.gz (52 kB)\n",
      "\u001b[K     |████████████████████████████████| 52 kB 622 kB/s  eta 0:00:01\n",
      "\u001b[?25hBuilding wheels for collected packages: google-play-scraper\n",
      "  Building wheel for google-play-scraper (setup.py) ... \u001b[?25l\u001b[?25hdone\n",
      "  Created wheel for google-play-scraper: filename=google_play_scraper-1.0.2-py3-none-any.whl size=24393 sha256=d5f8c4d483b1f45f160256e72227922496332089d7cde526ac077f05c5d58144\n",
      "  Stored in directory: /root/.cache/pip/wheels/98/99/eb/bbb9d24a5c526980647efc10336eaaeffcf07749f581111128\n",
      "Successfully built google-play-scraper\n",
      "Installing collected packages: google-play-scraper\n",
      "Successfully installed google-play-scraper-1.0.2\n",
      "Collecting app_store_scraper\n",
      "  Downloading app_store_scraper-0.3.5-py3-none-any.whl (8.3 kB)\n",
      "Requirement already satisfied: requests==2.23.0 in /usr/local/lib/python3.7/dist-packages (from app_store_scraper) (2.23.0)\n",
      "Requirement already satisfied: certifi>=2017.4.17 in /usr/local/lib/python3.7/dist-packages (from requests==2.23.0->app_store_scraper) (2021.10.8)\n",
      "Requirement already satisfied: chardet<4,>=3.0.2 in /usr/local/lib/python3.7/dist-packages (from requests==2.23.0->app_store_scraper) (3.0.4)\n",
      "Requirement already satisfied: idna<3,>=2.5 in /usr/local/lib/python3.7/dist-packages (from requests==2.23.0->app_store_scraper) (2.10)\n",
      "Requirement already satisfied: urllib3!=1.25.0,!=1.25.1,<1.26,>=1.21.1 in /usr/local/lib/python3.7/dist-packages (from requests==2.23.0->app_store_scraper) (1.24.3)\n",
      "Installing collected packages: app-store-scraper\n",
      "Successfully installed app-store-scraper-0.3.5\n"
     ]
    }
   ],
   "source": [
    "!pip install google-play-scraper\n",
    "!pip install app_store_scraper"
   ]
  },
  {
   "cell_type": "code",
   "execution_count": 2,
   "metadata": {
    "id": "qEIEDtMC9oiZ"
   },
   "outputs": [
    {
     "ename": "ModuleNotFoundError",
     "evalue": "No module named 'snscrape'",
     "output_type": "error",
     "traceback": [
      "\u001b[0;31m---------------------------------------------------------------------------\u001b[0m",
      "\u001b[0;31mModuleNotFoundError\u001b[0m                       Traceback (most recent call last)",
      "\u001b[0;32m/tmp/ipykernel_5174/2777867315.py\u001b[0m in \u001b[0;36m<module>\u001b[0;34m\u001b[0m\n\u001b[1;32m     11\u001b[0m \u001b[0;32mfrom\u001b[0m \u001b[0mgoogle_play_scraper\u001b[0m \u001b[0;32mimport\u001b[0m \u001b[0mSort\u001b[0m\u001b[0;34m,\u001b[0m \u001b[0mreviews_all\u001b[0m\u001b[0;34m\u001b[0m\u001b[0;34m\u001b[0m\u001b[0m\n\u001b[1;32m     12\u001b[0m \u001b[0;32mfrom\u001b[0m \u001b[0mapp_store_scraper\u001b[0m \u001b[0;32mimport\u001b[0m \u001b[0mAppStore\u001b[0m\u001b[0;34m\u001b[0m\u001b[0;34m\u001b[0m\u001b[0m\n\u001b[0;32m---> 13\u001b[0;31m \u001b[0;32mimport\u001b[0m \u001b[0msnscrape\u001b[0m\u001b[0;34m.\u001b[0m\u001b[0mmodules\u001b[0m\u001b[0;34m.\u001b[0m\u001b[0mtwitter\u001b[0m \u001b[0;32mas\u001b[0m \u001b[0msntwitter\u001b[0m\u001b[0;34m\u001b[0m\u001b[0;34m\u001b[0m\u001b[0m\n\u001b[0m\u001b[1;32m     14\u001b[0m \u001b[0;32mimport\u001b[0m \u001b[0mpandas\u001b[0m \u001b[0;32mas\u001b[0m \u001b[0mpd\u001b[0m\u001b[0;34m\u001b[0m\u001b[0;34m\u001b[0m\u001b[0m\n",
      "\u001b[0;31mModuleNotFoundError\u001b[0m: No module named 'snscrape'"
     ]
    }
   ],
   "source": [
    "# Import relevant libraries and packages\n",
    "import pandas as pd\n",
    "import numpy as np\n",
    "import pickle\n",
    "\n",
    "import requests\n",
    "from bs4 import BeautifulSoup\n",
    "import json\n",
    "\n",
    "from google_play_scraper import app\n",
    "from google_play_scraper import Sort, reviews_all\n",
    "from app_store_scraper import AppStore\n",
    "import snscrape.modules.twitter as sntwitter\n",
    "import pandas as pd"
   ]
  },
  {
   "cell_type": "markdown",
   "metadata": {
    "id": "4rPDdf6F93mP"
   },
   "source": [
    "## **1. Google Play**\n",
    "\n",
    "google app id => \"com.app.tgtg\""
   ]
  },
  {
   "cell_type": "code",
   "execution_count": null,
   "metadata": {
    "id": "ZPu-n8Nj9pQI"
   },
   "outputs": [],
   "source": [
    "# Retrieving app reviews from google play \n",
    "reviews_g = reviews_all(\n",
    "    'com.app.tgtg',\n",
    "    sleep_milliseconds=0, # defaults to 0\n",
    "    lang='en', # defaults to 'en'\n",
    "    country='uk', # 'uk'\n",
    "    sort=Sort.NEWEST, # since default is to Sort.MOST_RELEVANT\n",
    ")"
   ]
  },
  {
   "cell_type": "code",
   "execution_count": null,
   "metadata": {
    "colab": {
     "base_uri": "https://localhost:8080/",
     "height": 556
    },
    "executionInfo": {
     "elapsed": 226,
     "status": "ok",
     "timestamp": 1639214305245,
     "user": {
      "displayName": "Roxane Ajavon",
      "photoUrl": "https://lh3.googleusercontent.com/a/default-user=s64",
      "userId": "10325748363259226548"
     },
     "user_tz": -60
    },
    "id": "sesNfdyx96Z7",
    "outputId": "ede42046-a8be-47c5-da7d-f8f3187e3c57"
   },
   "outputs": [
    {
     "data": {
      "text/html": [
       "<div>\n",
       "<style scoped>\n",
       "    .dataframe tbody tr th:only-of-type {\n",
       "        vertical-align: middle;\n",
       "    }\n",
       "\n",
       "    .dataframe tbody tr th {\n",
       "        vertical-align: top;\n",
       "    }\n",
       "\n",
       "    .dataframe thead th {\n",
       "        text-align: right;\n",
       "    }\n",
       "</style>\n",
       "<table border=\"1\" class=\"dataframe\">\n",
       "  <thead>\n",
       "    <tr style=\"text-align: right;\">\n",
       "      <th></th>\n",
       "      <th>reviewId</th>\n",
       "      <th>userName</th>\n",
       "      <th>userImage</th>\n",
       "      <th>content</th>\n",
       "      <th>score</th>\n",
       "      <th>thumbsUpCount</th>\n",
       "      <th>reviewCreatedVersion</th>\n",
       "      <th>at</th>\n",
       "      <th>replyContent</th>\n",
       "      <th>repliedAt</th>\n",
       "    </tr>\n",
       "  </thead>\n",
       "  <tbody>\n",
       "    <tr>\n",
       "      <th>0</th>\n",
       "      <td>gp:AOqpTOHKjUjEAjZuuQvBSTb_0-c7LG--AdBELjURUU_...</td>\n",
       "      <td>Why in the world am I allowed such a long user...</td>\n",
       "      <td>https://play-lh.googleusercontent.com/a/AATXAJ...</td>\n",
       "      <td>It does exactly what it says it does efficient...</td>\n",
       "      <td>5</td>\n",
       "      <td>0</td>\n",
       "      <td>21.11.1</td>\n",
       "      <td>2021-12-11 08:03:30</td>\n",
       "      <td>None</td>\n",
       "      <td>NaT</td>\n",
       "    </tr>\n",
       "    <tr>\n",
       "      <th>1</th>\n",
       "      <td>gp:AOqpTOGcsoUhTFPKgN8WPsk_Tdd2vRlvTzkSXNBDiZI...</td>\n",
       "      <td>cathyhammer</td>\n",
       "      <td>https://play-lh.googleusercontent.com/a-/AOh14...</td>\n",
       "      <td>Well, I've only done 2 different vendors. The ...</td>\n",
       "      <td>4</td>\n",
       "      <td>0</td>\n",
       "      <td>21.11.1</td>\n",
       "      <td>2021-12-11 04:56:39</td>\n",
       "      <td>None</td>\n",
       "      <td>NaT</td>\n",
       "    </tr>\n",
       "    <tr>\n",
       "      <th>2</th>\n",
       "      <td>gp:AOqpTOHPLWFKIrKg2pszn9ry43bgMQh_PxeAOGXFNsx...</td>\n",
       "      <td>Carl Sager</td>\n",
       "      <td>https://play-lh.googleusercontent.com/a-/AOh14...</td>\n",
       "      <td>Still in my first week. And I'm looking forwar...</td>\n",
       "      <td>5</td>\n",
       "      <td>0</td>\n",
       "      <td>21.11.1</td>\n",
       "      <td>2021-12-11 03:23:46</td>\n",
       "      <td>None</td>\n",
       "      <td>NaT</td>\n",
       "    </tr>\n",
       "    <tr>\n",
       "      <th>3</th>\n",
       "      <td>gp:AOqpTOFVAXjBTnAAHreROAhOFymJyRmKQ8GIYysY6N_...</td>\n",
       "      <td>LDJCR7</td>\n",
       "      <td>https://play-lh.googleusercontent.com/a-/AOh14...</td>\n",
       "      <td>loving the app.</td>\n",
       "      <td>5</td>\n",
       "      <td>0</td>\n",
       "      <td>21.11.1</td>\n",
       "      <td>2021-12-10 22:52:33</td>\n",
       "      <td>None</td>\n",
       "      <td>NaT</td>\n",
       "    </tr>\n",
       "    <tr>\n",
       "      <th>4</th>\n",
       "      <td>gp:AOqpTOGn2A6aX-KdnukiV7VKjuHDKRp4RvVLhGxyPd-...</td>\n",
       "      <td>Rosalinda Martin</td>\n",
       "      <td>https://play-lh.googleusercontent.com/a/AATXAJ...</td>\n",
       "      <td>AT FIRST: 1) Lovely experience. charming staff...</td>\n",
       "      <td>2</td>\n",
       "      <td>1</td>\n",
       "      <td>21.11.1</td>\n",
       "      <td>2021-12-10 22:22:27</td>\n",
       "      <td>None</td>\n",
       "      <td>NaT</td>\n",
       "    </tr>\n",
       "  </tbody>\n",
       "</table>\n",
       "</div>"
      ],
      "text/plain": [
       "                                            reviewId  ... repliedAt\n",
       "0  gp:AOqpTOHKjUjEAjZuuQvBSTb_0-c7LG--AdBELjURUU_...  ...       NaT\n",
       "1  gp:AOqpTOGcsoUhTFPKgN8WPsk_Tdd2vRlvTzkSXNBDiZI...  ...       NaT\n",
       "2  gp:AOqpTOHPLWFKIrKg2pszn9ry43bgMQh_PxeAOGXFNsx...  ...       NaT\n",
       "3  gp:AOqpTOFVAXjBTnAAHreROAhOFymJyRmKQ8GIYysY6N_...  ...       NaT\n",
       "4  gp:AOqpTOGn2A6aX-KdnukiV7VKjuHDKRp4RvVLhGxyPd-...  ...       NaT\n",
       "\n",
       "[5 rows x 10 columns]"
      ]
     },
     "execution_count": 7,
     "metadata": {},
     "output_type": "execute_result"
    }
   ],
   "source": [
    "# Converting reviews in pandas dataframe\n",
    "df_google = pd.DataFrame(np.array(reviews_g),columns=['review'])\n",
    "df_google = df_google.join(pd.DataFrame(df_google.pop('review').tolist()))\n",
    "df_google.head()"
   ]
  },
  {
   "cell_type": "code",
   "execution_count": null,
   "metadata": {
    "id": "vXhVEjvFIK7D"
   },
   "outputs": [],
   "source": [
    "# Storing raw data in pickle format\n",
    "df_google.to_pickle('GooglePlayReview_TooGoodToGo.pkl')"
   ]
  },
  {
   "cell_type": "code",
   "execution_count": 3,
   "metadata": {
    "colab": {
     "base_uri": "https://localhost:8080/",
     "height": 556
    },
    "executionInfo": {
     "elapsed": 193,
     "status": "ok",
     "timestamp": 1639214456405,
     "user": {
      "displayName": "Roxane Ajavon",
      "photoUrl": "https://lh3.googleusercontent.com/a/default-user=s64",
      "userId": "10325748363259226548"
     },
     "user_tz": -60
    },
    "id": "cuytdYtvIxcA",
    "outputId": "c0f1878e-fb1c-4e11-be7f-3cf65fea5b0c"
   },
   "outputs": [
    {
     "data": {
      "text/html": [
       "<div>\n",
       "<style scoped>\n",
       "    .dataframe tbody tr th:only-of-type {\n",
       "        vertical-align: middle;\n",
       "    }\n",
       "\n",
       "    .dataframe tbody tr th {\n",
       "        vertical-align: top;\n",
       "    }\n",
       "\n",
       "    .dataframe thead th {\n",
       "        text-align: right;\n",
       "    }\n",
       "</style>\n",
       "<table border=\"1\" class=\"dataframe\">\n",
       "  <thead>\n",
       "    <tr style=\"text-align: right;\">\n",
       "      <th></th>\n",
       "      <th>reviewId</th>\n",
       "      <th>userName</th>\n",
       "      <th>userImage</th>\n",
       "      <th>content</th>\n",
       "      <th>score</th>\n",
       "      <th>thumbsUpCount</th>\n",
       "      <th>reviewCreatedVersion</th>\n",
       "      <th>at</th>\n",
       "      <th>replyContent</th>\n",
       "      <th>repliedAt</th>\n",
       "    </tr>\n",
       "  </thead>\n",
       "  <tbody>\n",
       "    <tr>\n",
       "      <th>0</th>\n",
       "      <td>gp:AOqpTOHKjUjEAjZuuQvBSTb_0-c7LG--AdBELjURUU_...</td>\n",
       "      <td>Why in the world am I allowed such a long user...</td>\n",
       "      <td>https://play-lh.googleusercontent.com/a/AATXAJ...</td>\n",
       "      <td>It does exactly what it says it does efficient...</td>\n",
       "      <td>5</td>\n",
       "      <td>0</td>\n",
       "      <td>21.11.1</td>\n",
       "      <td>2021-12-11 08:03:30</td>\n",
       "      <td>None</td>\n",
       "      <td>NaT</td>\n",
       "    </tr>\n",
       "    <tr>\n",
       "      <th>1</th>\n",
       "      <td>gp:AOqpTOGcsoUhTFPKgN8WPsk_Tdd2vRlvTzkSXNBDiZI...</td>\n",
       "      <td>cathyhammer</td>\n",
       "      <td>https://play-lh.googleusercontent.com/a-/AOh14...</td>\n",
       "      <td>Well, I've only done 2 different vendors. The ...</td>\n",
       "      <td>4</td>\n",
       "      <td>0</td>\n",
       "      <td>21.11.1</td>\n",
       "      <td>2021-12-11 04:56:39</td>\n",
       "      <td>None</td>\n",
       "      <td>NaT</td>\n",
       "    </tr>\n",
       "    <tr>\n",
       "      <th>2</th>\n",
       "      <td>gp:AOqpTOHPLWFKIrKg2pszn9ry43bgMQh_PxeAOGXFNsx...</td>\n",
       "      <td>Carl Sager</td>\n",
       "      <td>https://play-lh.googleusercontent.com/a-/AOh14...</td>\n",
       "      <td>Still in my first week. And I'm looking forwar...</td>\n",
       "      <td>5</td>\n",
       "      <td>0</td>\n",
       "      <td>21.11.1</td>\n",
       "      <td>2021-12-11 03:23:46</td>\n",
       "      <td>None</td>\n",
       "      <td>NaT</td>\n",
       "    </tr>\n",
       "    <tr>\n",
       "      <th>3</th>\n",
       "      <td>gp:AOqpTOFVAXjBTnAAHreROAhOFymJyRmKQ8GIYysY6N_...</td>\n",
       "      <td>LDJCR7</td>\n",
       "      <td>https://play-lh.googleusercontent.com/a-/AOh14...</td>\n",
       "      <td>loving the app.</td>\n",
       "      <td>5</td>\n",
       "      <td>0</td>\n",
       "      <td>21.11.1</td>\n",
       "      <td>2021-12-10 22:52:33</td>\n",
       "      <td>None</td>\n",
       "      <td>NaT</td>\n",
       "    </tr>\n",
       "    <tr>\n",
       "      <th>4</th>\n",
       "      <td>gp:AOqpTOGn2A6aX-KdnukiV7VKjuHDKRp4RvVLhGxyPd-...</td>\n",
       "      <td>Rosalinda Martin</td>\n",
       "      <td>https://play-lh.googleusercontent.com/a/AATXAJ...</td>\n",
       "      <td>AT FIRST: 1) Lovely experience. charming staff...</td>\n",
       "      <td>2</td>\n",
       "      <td>1</td>\n",
       "      <td>21.11.1</td>\n",
       "      <td>2021-12-10 22:22:27</td>\n",
       "      <td>None</td>\n",
       "      <td>NaT</td>\n",
       "    </tr>\n",
       "  </tbody>\n",
       "</table>\n",
       "</div>"
      ],
      "text/plain": [
       "                                            reviewId  \\\n",
       "0  gp:AOqpTOHKjUjEAjZuuQvBSTb_0-c7LG--AdBELjURUU_...   \n",
       "1  gp:AOqpTOGcsoUhTFPKgN8WPsk_Tdd2vRlvTzkSXNBDiZI...   \n",
       "2  gp:AOqpTOHPLWFKIrKg2pszn9ry43bgMQh_PxeAOGXFNsx...   \n",
       "3  gp:AOqpTOFVAXjBTnAAHreROAhOFymJyRmKQ8GIYysY6N_...   \n",
       "4  gp:AOqpTOGn2A6aX-KdnukiV7VKjuHDKRp4RvVLhGxyPd-...   \n",
       "\n",
       "                                            userName  \\\n",
       "0  Why in the world am I allowed such a long user...   \n",
       "1                                        cathyhammer   \n",
       "2                                         Carl Sager   \n",
       "3                                             LDJCR7   \n",
       "4                                   Rosalinda Martin   \n",
       "\n",
       "                                           userImage  \\\n",
       "0  https://play-lh.googleusercontent.com/a/AATXAJ...   \n",
       "1  https://play-lh.googleusercontent.com/a-/AOh14...   \n",
       "2  https://play-lh.googleusercontent.com/a-/AOh14...   \n",
       "3  https://play-lh.googleusercontent.com/a-/AOh14...   \n",
       "4  https://play-lh.googleusercontent.com/a/AATXAJ...   \n",
       "\n",
       "                                             content  score  thumbsUpCount  \\\n",
       "0  It does exactly what it says it does efficient...      5              0   \n",
       "1  Well, I've only done 2 different vendors. The ...      4              0   \n",
       "2  Still in my first week. And I'm looking forwar...      5              0   \n",
       "3                                    loving the app.      5              0   \n",
       "4  AT FIRST: 1) Lovely experience. charming staff...      2              1   \n",
       "\n",
       "  reviewCreatedVersion                  at replyContent repliedAt  \n",
       "0              21.11.1 2021-12-11 08:03:30         None       NaT  \n",
       "1              21.11.1 2021-12-11 04:56:39         None       NaT  \n",
       "2              21.11.1 2021-12-11 03:23:46         None       NaT  \n",
       "3              21.11.1 2021-12-10 22:52:33         None       NaT  \n",
       "4              21.11.1 2021-12-10 22:22:27         None       NaT  "
      ]
     },
     "execution_count": 3,
     "metadata": {},
     "output_type": "execute_result"
    }
   ],
   "source": [
    "# Importing doc back to standardize it into workable format\n",
    "df_google = \"data/GooglePlayReview_TooGoodToGo.pkl\" #path to be written\n",
    "\n",
    "with open(df_google, 'rb') as f:\n",
    "  df_google = pickle.load(f)\n",
    "\n",
    "df_google.head(5)"
   ]
  },
  {
   "cell_type": "code",
   "execution_count": 4,
   "metadata": {
    "colab": {
     "base_uri": "https://localhost:8080/"
    },
    "executionInfo": {
     "elapsed": 185,
     "status": "ok",
     "timestamp": 1639214464149,
     "user": {
      "displayName": "Roxane Ajavon",
      "photoUrl": "https://lh3.googleusercontent.com/a/default-user=s64",
      "userId": "10325748363259226548"
     },
     "user_tz": -60
    },
    "id": "7h5PgI45-DNu",
    "outputId": "f0d2a492-c15b-4b0e-dc61-b1a61b0f3524"
   },
   "outputs": [
    {
     "data": {
      "text/plain": [
       "(19848, 10)"
      ]
     },
     "execution_count": 4,
     "metadata": {},
     "output_type": "execute_result"
    }
   ],
   "source": [
    "df_google.shape"
   ]
  },
  {
   "cell_type": "code",
   "execution_count": 5,
   "metadata": {
    "id": "WnI_X6bdCiul"
   },
   "outputs": [],
   "source": [
    "# Dropping unnecessary columns\n",
    "df_google = df_google.drop(columns=['reviewId','userName', 'userImage', 'thumbsUpCount', 'reviewCreatedVersion','replyContent','repliedAt'])"
   ]
  },
  {
   "cell_type": "code",
   "execution_count": 6,
   "metadata": {
    "colab": {
     "base_uri": "https://localhost:8080/",
     "height": 206
    },
    "executionInfo": {
     "elapsed": 262,
     "status": "ok",
     "timestamp": 1638461906756,
     "user": {
      "displayName": "Virginie Boirel",
      "photoUrl": "https://lh3.googleusercontent.com/a/default-user=s64",
      "userId": "09734304838834625501"
     },
     "user_tz": -60
    },
    "id": "-hhayAKJFCJY",
    "outputId": "fc325b3b-c97a-4256-e4e1-676bce28cd94"
   },
   "outputs": [
    {
     "data": {
      "text/html": [
       "<div>\n",
       "<style scoped>\n",
       "    .dataframe tbody tr th:only-of-type {\n",
       "        vertical-align: middle;\n",
       "    }\n",
       "\n",
       "    .dataframe tbody tr th {\n",
       "        vertical-align: top;\n",
       "    }\n",
       "\n",
       "    .dataframe thead th {\n",
       "        text-align: right;\n",
       "    }\n",
       "</style>\n",
       "<table border=\"1\" class=\"dataframe\">\n",
       "  <thead>\n",
       "    <tr style=\"text-align: right;\">\n",
       "      <th></th>\n",
       "      <th>content</th>\n",
       "      <th>score</th>\n",
       "      <th>at</th>\n",
       "    </tr>\n",
       "  </thead>\n",
       "  <tbody>\n",
       "    <tr>\n",
       "      <th>0</th>\n",
       "      <td>It does exactly what it says it does efficient...</td>\n",
       "      <td>5</td>\n",
       "      <td>2021-12-11 08:03:30</td>\n",
       "    </tr>\n",
       "    <tr>\n",
       "      <th>1</th>\n",
       "      <td>Well, I've only done 2 different vendors. The ...</td>\n",
       "      <td>4</td>\n",
       "      <td>2021-12-11 04:56:39</td>\n",
       "    </tr>\n",
       "    <tr>\n",
       "      <th>2</th>\n",
       "      <td>Still in my first week. And I'm looking forwar...</td>\n",
       "      <td>5</td>\n",
       "      <td>2021-12-11 03:23:46</td>\n",
       "    </tr>\n",
       "    <tr>\n",
       "      <th>3</th>\n",
       "      <td>loving the app.</td>\n",
       "      <td>5</td>\n",
       "      <td>2021-12-10 22:52:33</td>\n",
       "    </tr>\n",
       "    <tr>\n",
       "      <th>4</th>\n",
       "      <td>AT FIRST: 1) Lovely experience. charming staff...</td>\n",
       "      <td>2</td>\n",
       "      <td>2021-12-10 22:22:27</td>\n",
       "    </tr>\n",
       "  </tbody>\n",
       "</table>\n",
       "</div>"
      ],
      "text/plain": [
       "                                             content  score  \\\n",
       "0  It does exactly what it says it does efficient...      5   \n",
       "1  Well, I've only done 2 different vendors. The ...      4   \n",
       "2  Still in my first week. And I'm looking forwar...      5   \n",
       "3                                    loving the app.      5   \n",
       "4  AT FIRST: 1) Lovely experience. charming staff...      2   \n",
       "\n",
       "                   at  \n",
       "0 2021-12-11 08:03:30  \n",
       "1 2021-12-11 04:56:39  \n",
       "2 2021-12-11 03:23:46  \n",
       "3 2021-12-10 22:52:33  \n",
       "4 2021-12-10 22:22:27  "
      ]
     },
     "execution_count": 6,
     "metadata": {},
     "output_type": "execute_result"
    }
   ],
   "source": [
    "# Checking dataframe\n",
    "df_google.head(5)"
   ]
  },
  {
   "cell_type": "code",
   "execution_count": 7,
   "metadata": {
    "id": "0S_3fGolG9a1"
   },
   "outputs": [],
   "source": [
    "# Renaming columns\n",
    "df_google.columns=['review_content','rating','date']"
   ]
  },
  {
   "cell_type": "code",
   "execution_count": 8,
   "metadata": {
    "id": "d5xCL9VqAX5u"
   },
   "outputs": [],
   "source": [
    "# Adding \"source\" column to put \"Google\"\n",
    "df_google['source'] = 'Google'"
   ]
  },
  {
   "cell_type": "code",
   "execution_count": 9,
   "metadata": {
    "colab": {
     "base_uri": "https://localhost:8080/"
    },
    "executionInfo": {
     "elapsed": 263,
     "status": "ok",
     "timestamp": 1638461921049,
     "user": {
      "displayName": "Virginie Boirel",
      "photoUrl": "https://lh3.googleusercontent.com/a/default-user=s64",
      "userId": "09734304838834625501"
     },
     "user_tz": -60
    },
    "id": "MdftpX90OR0f",
    "outputId": "70095c6f-aed6-4c64-8eeb-14ba81c5f93d"
   },
   "outputs": [
    {
     "name": "stdout",
     "output_type": "stream",
     "text": [
      "<class 'pandas.core.frame.DataFrame'>\n",
      "RangeIndex: 19848 entries, 0 to 19847\n",
      "Data columns (total 4 columns):\n",
      " #   Column          Non-Null Count  Dtype         \n",
      "---  ------          --------------  -----         \n",
      " 0   review_content  19848 non-null  object        \n",
      " 1   rating          19848 non-null  int64         \n",
      " 2   date            19848 non-null  datetime64[ns]\n",
      " 3   source          19848 non-null  object        \n",
      "dtypes: datetime64[ns](1), int64(1), object(2)\n",
      "memory usage: 620.4+ KB\n"
     ]
    }
   ],
   "source": [
    "# Checking dataframe\n",
    "df_google.info()"
   ]
  },
  {
   "cell_type": "code",
   "execution_count": 10,
   "metadata": {
    "id": "VR1fSNynM-pF"
   },
   "outputs": [],
   "source": [
    "# Formatting date\n",
    "df_google['date'] = pd.to_datetime(df_google['date'], format='%Y-%m-%d %Hh%Mm%Ssec')"
   ]
  },
  {
   "cell_type": "code",
   "execution_count": 11,
   "metadata": {
    "colab": {
     "base_uri": "https://localhost:8080/"
    },
    "executionInfo": {
     "elapsed": 25,
     "status": "ok",
     "timestamp": 1638461940539,
     "user": {
      "displayName": "Virginie Boirel",
      "photoUrl": "https://lh3.googleusercontent.com/a/default-user=s64",
      "userId": "09734304838834625501"
     },
     "user_tz": -60
    },
    "id": "7e1q_0onNFMh",
    "outputId": "2ccd0ead-7f36-45fa-a8b7-84f1c90f08e3"
   },
   "outputs": [
    {
     "name": "stdout",
     "output_type": "stream",
     "text": [
      "<class 'pandas.core.frame.DataFrame'>\n",
      "RangeIndex: 19848 entries, 0 to 19847\n",
      "Data columns (total 4 columns):\n",
      " #   Column          Non-Null Count  Dtype         \n",
      "---  ------          --------------  -----         \n",
      " 0   review_content  19848 non-null  object        \n",
      " 1   rating          19848 non-null  int64         \n",
      " 2   date            19848 non-null  datetime64[ns]\n",
      " 3   source          19848 non-null  object        \n",
      "dtypes: datetime64[ns](1), int64(1), object(2)\n",
      "memory usage: 620.4+ KB\n"
     ]
    }
   ],
   "source": [
    "# Check new format\n",
    "df_google.info()"
   ]
  },
  {
   "cell_type": "code",
   "execution_count": 12,
   "metadata": {
    "colab": {
     "base_uri": "https://localhost:8080/"
    },
    "executionInfo": {
     "elapsed": 278,
     "status": "ok",
     "timestamp": 1638461946242,
     "user": {
      "displayName": "Virginie Boirel",
      "photoUrl": "https://lh3.googleusercontent.com/a/default-user=s64",
      "userId": "09734304838834625501"
     },
     "user_tz": -60
    },
    "id": "fd8_eEY3OaoZ",
    "outputId": "d851cab7-81da-455f-dd87-8c56c7936de8"
   },
   "outputs": [
    {
     "data": {
      "text/plain": [
       "0        5\n",
       "1        4\n",
       "2        5\n",
       "3        5\n",
       "4        2\n",
       "        ..\n",
       "19843    5\n",
       "19844    4\n",
       "19845    5\n",
       "19846    5\n",
       "19847    5\n",
       "Name: rating, Length: 19848, dtype: int64"
      ]
     },
     "execution_count": 12,
     "metadata": {},
     "output_type": "execute_result"
    }
   ],
   "source": [
    "# Formatting rating\n",
    "df_google['rating'].astype(int)"
   ]
  },
  {
   "cell_type": "code",
   "execution_count": 13,
   "metadata": {
    "colab": {
     "base_uri": "https://localhost:8080/"
    },
    "executionInfo": {
     "elapsed": 193,
     "status": "ok",
     "timestamp": 1638461951371,
     "user": {
      "displayName": "Virginie Boirel",
      "photoUrl": "https://lh3.googleusercontent.com/a/default-user=s64",
      "userId": "09734304838834625501"
     },
     "user_tz": -60
    },
    "id": "XAEJ6R7yOdpb",
    "outputId": "9432c9e1-fd30-492d-fdd7-715c860398d1"
   },
   "outputs": [
    {
     "name": "stdout",
     "output_type": "stream",
     "text": [
      "<class 'pandas.core.frame.DataFrame'>\n",
      "RangeIndex: 19848 entries, 0 to 19847\n",
      "Data columns (total 4 columns):\n",
      " #   Column          Non-Null Count  Dtype         \n",
      "---  ------          --------------  -----         \n",
      " 0   review_content  19848 non-null  object        \n",
      " 1   rating          19848 non-null  int64         \n",
      " 2   date            19848 non-null  datetime64[ns]\n",
      " 3   source          19848 non-null  object        \n",
      "dtypes: datetime64[ns](1), int64(1), object(2)\n",
      "memory usage: 620.4+ KB\n"
     ]
    }
   ],
   "source": [
    "# Check new format\n",
    "df_google.info()"
   ]
  },
  {
   "cell_type": "code",
   "execution_count": 14,
   "metadata": {
    "colab": {
     "base_uri": "https://localhost:8080/"
    },
    "executionInfo": {
     "elapsed": 238,
     "status": "ok",
     "timestamp": 1638461955177,
     "user": {
      "displayName": "Virginie Boirel",
      "photoUrl": "https://lh3.googleusercontent.com/a/default-user=s64",
      "userId": "09734304838834625501"
     },
     "user_tz": -60
    },
    "id": "aNzGJjAm-GXW",
    "outputId": "41f03422-2d06-41dc-e0c3-d7f982e90950"
   },
   "outputs": [
    {
     "data": {
      "text/plain": [
       "review_content    0\n",
       "rating            0\n",
       "date              0\n",
       "source            0\n",
       "dtype: int64"
      ]
     },
     "execution_count": 14,
     "metadata": {},
     "output_type": "execute_result"
    }
   ],
   "source": [
    "# Checking ISNA\n",
    "df_google.isna().sum()"
   ]
  },
  {
   "cell_type": "code",
   "execution_count": 15,
   "metadata": {
    "colab": {
     "base_uri": "https://localhost:8080/"
    },
    "executionInfo": {
     "elapsed": 360,
     "status": "ok",
     "timestamp": 1638461958580,
     "user": {
      "displayName": "Virginie Boirel",
      "photoUrl": "https://lh3.googleusercontent.com/a/default-user=s64",
      "userId": "09734304838834625501"
     },
     "user_tz": -60
    },
    "id": "rXp8uQ9s-Gas",
    "outputId": "bd97a3cd-d411-4f39-8226-725dc9099217"
   },
   "outputs": [
    {
     "data": {
      "text/plain": [
       "0"
      ]
     },
     "execution_count": 15,
     "metadata": {},
     "output_type": "execute_result"
    }
   ],
   "source": [
    "# Checking duplicates \n",
    "df_google.duplicated().sum()"
   ]
  },
  {
   "cell_type": "markdown",
   "metadata": {
    "id": "_Us8ONeD-gr3"
   },
   "source": [
    "## **2. Apple Store**\n",
    "\n",
    "apple store app name => too-good-to-go-end-food-waste AND its id => 1060683933"
   ]
  },
  {
   "cell_type": "code",
   "execution_count": null,
   "metadata": {
    "colab": {
     "base_uri": "https://localhost:8080/"
    },
    "executionInfo": {
     "elapsed": 19728,
     "status": "ok",
     "timestamp": 1639214854810,
     "user": {
      "displayName": "Roxane Ajavon",
      "photoUrl": "https://lh3.googleusercontent.com/a/default-user=s64",
      "userId": "10325748363259226548"
     },
     "user_tz": -60
    },
    "id": "R3RtzZmT-GiE",
    "outputId": "d19f0dc9-ac84-44e0-9cb4-2492b9423d09"
   },
   "outputs": [
    {
     "name": "stderr",
     "output_type": "stream",
     "text": [
      "2021-12-11 09:27:15,061 [INFO] Base - Initialised: AppStore('gb', 'too-good-to-go-end-food-waste', 1060683933)\n",
      "2021-12-11 09:27:15,062 [INFO] Base - Ready to fetch reviews from: https://apps.apple.com/gb/app/too-good-to-go-end-food-waste/id1060683933\n",
      "2021-12-11 09:27:34,515 [ERROR] Base - Something went wrong: HTTPSConnectionPool(host='amp-api.apps.apple.com', port=443): Max retries exceeded with url: /v1/catalog/gb/apps/1060683933/reviews?l=en-GB&offset=140&limit=20&platform=web&additionalPlatforms=appletv%2Cipad%2Ciphone%2Cmac (Caused by ResponseError('too many 429 error responses'))\n",
      "2021-12-11 09:27:34,517 [INFO] Base - [id:1060683933] Fetched 140 reviews (140 fetched in total)\n"
     ]
    }
   ],
   "source": [
    "# Retrieving app reviews from apple store\n",
    "apple_r = AppStore(country=\"gb\", app_name=\"too-good-to-go-end-food-waste\",app_id=1060683933)\n",
    "apple_r.review(how_many=10000)"
   ]
  },
  {
   "cell_type": "code",
   "execution_count": null,
   "metadata": {
    "colab": {
     "base_uri": "https://localhost:8080/",
     "height": 519
    },
    "executionInfo": {
     "elapsed": 202,
     "status": "ok",
     "timestamp": 1639214691108,
     "user": {
      "displayName": "Roxane Ajavon",
      "photoUrl": "https://lh3.googleusercontent.com/a/default-user=s64",
      "userId": "10325748363259226548"
     },
     "user_tz": -60
    },
    "id": "_J2Ae2-HihQA",
    "outputId": "0972136e-3f11-48a5-9a3f-00084356eb95"
   },
   "outputs": [
    {
     "data": {
      "text/html": [
       "<div>\n",
       "<style scoped>\n",
       "    .dataframe tbody tr th:only-of-type {\n",
       "        vertical-align: middle;\n",
       "    }\n",
       "\n",
       "    .dataframe tbody tr th {\n",
       "        vertical-align: top;\n",
       "    }\n",
       "\n",
       "    .dataframe thead th {\n",
       "        text-align: right;\n",
       "    }\n",
       "</style>\n",
       "<table border=\"1\" class=\"dataframe\">\n",
       "  <thead>\n",
       "    <tr style=\"text-align: right;\">\n",
       "      <th></th>\n",
       "      <th>title</th>\n",
       "      <th>isEdited</th>\n",
       "      <th>review</th>\n",
       "      <th>userName</th>\n",
       "      <th>date</th>\n",
       "      <th>rating</th>\n",
       "      <th>developerResponse</th>\n",
       "    </tr>\n",
       "  </thead>\n",
       "  <tbody>\n",
       "    <tr>\n",
       "      <th>0</th>\n",
       "      <td>Not that great to go more like</td>\n",
       "      <td>False</td>\n",
       "      <td>I have had this app for a while but it’s took ...</td>\n",
       "      <td>Jay shake</td>\n",
       "      <td>2021-02-27 15:09:54</td>\n",
       "      <td>5</td>\n",
       "      <td>NaN</td>\n",
       "    </tr>\n",
       "    <tr>\n",
       "      <th>1</th>\n",
       "      <td>Barley Farm - Eccles</td>\n",
       "      <td>False</td>\n",
       "      <td>This was the first time using the app. I was a...</td>\n",
       "      <td>Ck1TWO</td>\n",
       "      <td>2020-09-28 21:50:36</td>\n",
       "      <td>5</td>\n",
       "      <td>NaN</td>\n",
       "    </tr>\n",
       "    <tr>\n",
       "      <th>2</th>\n",
       "      <td>Good idea in theory, but flawed</td>\n",
       "      <td>False</td>\n",
       "      <td>Just got the app really so I don’t have much t...</td>\n",
       "      <td>AnActualPoolPlayer</td>\n",
       "      <td>2019-09-07 11:44:36</td>\n",
       "      <td>1</td>\n",
       "      <td>{'id': 10585622, 'body': 'Hi there,\n",
       "\n",
       "We're sor...</td>\n",
       "    </tr>\n",
       "    <tr>\n",
       "      <th>3</th>\n",
       "      <td>Outstanding!</td>\n",
       "      <td>False</td>\n",
       "      <td>Used the app for the first time today and was ...</td>\n",
       "      <td>Ceilidh279</td>\n",
       "      <td>2019-09-07 17:21:51</td>\n",
       "      <td>5</td>\n",
       "      <td>NaN</td>\n",
       "    </tr>\n",
       "    <tr>\n",
       "      <th>4</th>\n",
       "      <td>Mixed review</td>\n",
       "      <td>False</td>\n",
       "      <td>I like this idea, sometimes we get some great ...</td>\n",
       "      <td>mobilebob2</td>\n",
       "      <td>2021-11-04 16:43:02</td>\n",
       "      <td>5</td>\n",
       "      <td>NaN</td>\n",
       "    </tr>\n",
       "  </tbody>\n",
       "</table>\n",
       "</div>"
      ],
      "text/plain": [
       "                             title  ...                                  developerResponse\n",
       "0   Not that great to go more like  ...                                                NaN\n",
       "1             Barley Farm - Eccles  ...                                                NaN\n",
       "2  Good idea in theory, but flawed  ...  {'id': 10585622, 'body': 'Hi there,\n",
       "\n",
       "We're sor...\n",
       "3                     Outstanding!  ...                                                NaN\n",
       "4                     Mixed review  ...                                                NaN\n",
       "\n",
       "[5 rows x 7 columns]"
      ]
     },
     "execution_count": 12,
     "metadata": {},
     "output_type": "execute_result"
    }
   ],
   "source": [
    "# Converting format (JSON to Pandas Dataframe)\n",
    "apple = pd.DataFrame(np.array(apple_r.reviews),columns=['review'])\n",
    "df_apple = apple.join(pd.DataFrame(apple.pop('review').tolist()))\n",
    "df_apple.head()"
   ]
  },
  {
   "cell_type": "code",
   "execution_count": null,
   "metadata": {
    "id": "kY_Q0gUl-qI2"
   },
   "outputs": [],
   "source": [
    "# Storing raw data in pickle format\n",
    "df_apple.to_pickle('AppleStoreReview_TooGoodToGo.pkl')"
   ]
  },
  {
   "cell_type": "code",
   "execution_count": 16,
   "metadata": {
    "colab": {
     "base_uri": "https://localhost:8080/",
     "height": 519
    },
    "executionInfo": {
     "elapsed": 219,
     "status": "ok",
     "timestamp": 1639214727235,
     "user": {
      "displayName": "Roxane Ajavon",
      "photoUrl": "https://lh3.googleusercontent.com/a/default-user=s64",
      "userId": "10325748363259226548"
     },
     "user_tz": -60
    },
    "id": "3H_L7bOk-qWH",
    "outputId": "5ddadd6c-eeed-4db6-8248-9486f5d8aefa"
   },
   "outputs": [
    {
     "data": {
      "text/html": [
       "<div>\n",
       "<style scoped>\n",
       "    .dataframe tbody tr th:only-of-type {\n",
       "        vertical-align: middle;\n",
       "    }\n",
       "\n",
       "    .dataframe tbody tr th {\n",
       "        vertical-align: top;\n",
       "    }\n",
       "\n",
       "    .dataframe thead th {\n",
       "        text-align: right;\n",
       "    }\n",
       "</style>\n",
       "<table border=\"1\" class=\"dataframe\">\n",
       "  <thead>\n",
       "    <tr style=\"text-align: right;\">\n",
       "      <th></th>\n",
       "      <th>title</th>\n",
       "      <th>isEdited</th>\n",
       "      <th>review</th>\n",
       "      <th>userName</th>\n",
       "      <th>date</th>\n",
       "      <th>rating</th>\n",
       "      <th>developerResponse</th>\n",
       "    </tr>\n",
       "  </thead>\n",
       "  <tbody>\n",
       "    <tr>\n",
       "      <th>0</th>\n",
       "      <td>Not that great to go more like</td>\n",
       "      <td>False</td>\n",
       "      <td>I have had this app for a while but it’s took ...</td>\n",
       "      <td>Jay shake</td>\n",
       "      <td>2021-02-27 15:09:54</td>\n",
       "      <td>5</td>\n",
       "      <td>NaN</td>\n",
       "    </tr>\n",
       "    <tr>\n",
       "      <th>1</th>\n",
       "      <td>Barley Farm - Eccles</td>\n",
       "      <td>False</td>\n",
       "      <td>This was the first time using the app. I was a...</td>\n",
       "      <td>Ck1TWO</td>\n",
       "      <td>2020-09-28 21:50:36</td>\n",
       "      <td>5</td>\n",
       "      <td>NaN</td>\n",
       "    </tr>\n",
       "    <tr>\n",
       "      <th>2</th>\n",
       "      <td>Good idea in theory, but flawed</td>\n",
       "      <td>False</td>\n",
       "      <td>Just got the app really so I don’t have much t...</td>\n",
       "      <td>AnActualPoolPlayer</td>\n",
       "      <td>2019-09-07 11:44:36</td>\n",
       "      <td>1</td>\n",
       "      <td>{'id': 10585622, 'body': 'Hi there,\n",
       "\n",
       "We're sor...</td>\n",
       "    </tr>\n",
       "    <tr>\n",
       "      <th>3</th>\n",
       "      <td>Outstanding!</td>\n",
       "      <td>False</td>\n",
       "      <td>Used the app for the first time today and was ...</td>\n",
       "      <td>Ceilidh279</td>\n",
       "      <td>2019-09-07 17:21:51</td>\n",
       "      <td>5</td>\n",
       "      <td>NaN</td>\n",
       "    </tr>\n",
       "    <tr>\n",
       "      <th>4</th>\n",
       "      <td>Mixed review</td>\n",
       "      <td>False</td>\n",
       "      <td>I like this idea, sometimes we get some great ...</td>\n",
       "      <td>mobilebob2</td>\n",
       "      <td>2021-11-04 16:43:02</td>\n",
       "      <td>5</td>\n",
       "      <td>NaN</td>\n",
       "    </tr>\n",
       "  </tbody>\n",
       "</table>\n",
       "</div>"
      ],
      "text/plain": [
       "                             title  isEdited  \\\n",
       "0   Not that great to go more like     False   \n",
       "1             Barley Farm - Eccles     False   \n",
       "2  Good idea in theory, but flawed     False   \n",
       "3                     Outstanding!     False   \n",
       "4                     Mixed review     False   \n",
       "\n",
       "                                              review            userName  \\\n",
       "0  I have had this app for a while but it’s took ...           Jay shake   \n",
       "1  This was the first time using the app. I was a...              Ck1TWO   \n",
       "2  Just got the app really so I don’t have much t...  AnActualPoolPlayer   \n",
       "3  Used the app for the first time today and was ...          Ceilidh279   \n",
       "4  I like this idea, sometimes we get some great ...          mobilebob2   \n",
       "\n",
       "                 date  rating  \\\n",
       "0 2021-02-27 15:09:54       5   \n",
       "1 2020-09-28 21:50:36       5   \n",
       "2 2019-09-07 11:44:36       1   \n",
       "3 2019-09-07 17:21:51       5   \n",
       "4 2021-11-04 16:43:02       5   \n",
       "\n",
       "                                   developerResponse  \n",
       "0                                                NaN  \n",
       "1                                                NaN  \n",
       "2  {'id': 10585622, 'body': 'Hi there,\n",
       "\n",
       "We're sor...  \n",
       "3                                                NaN  \n",
       "4                                                NaN  "
      ]
     },
     "execution_count": 16,
     "metadata": {},
     "output_type": "execute_result"
    }
   ],
   "source": [
    "# Importing doc back to standardize it into workable format\n",
    "df_apple = \"data/AppleStoreReview_TooGoodToGo.pkl\" #path to be written\n",
    "\n",
    "with open(df_apple, 'rb') as f:\n",
    "    df_apple = pickle.load(f)\n",
    "\n",
    "df_apple.head(5)"
   ]
  },
  {
   "cell_type": "code",
   "execution_count": 17,
   "metadata": {
    "colab": {
     "base_uri": "https://localhost:8080/"
    },
    "executionInfo": {
     "elapsed": 199,
     "status": "ok",
     "timestamp": 1639214732125,
     "user": {
      "displayName": "Roxane Ajavon",
      "photoUrl": "https://lh3.googleusercontent.com/a/default-user=s64",
      "userId": "10325748363259226548"
     },
     "user_tz": -60
    },
    "id": "uuX4_QGuKb0g",
    "outputId": "4eb7a741-bc51-4f32-a94a-c051b3c1d68d"
   },
   "outputs": [
    {
     "data": {
      "text/plain": [
       "(2000, 7)"
      ]
     },
     "execution_count": 17,
     "metadata": {},
     "output_type": "execute_result"
    }
   ],
   "source": [
    "df_apple.shape"
   ]
  },
  {
   "cell_type": "code",
   "execution_count": 18,
   "metadata": {
    "id": "505JsPdL9s3j"
   },
   "outputs": [],
   "source": [
    "# to concatenate Title & review content\n",
    "df_apple['review_content'] = df_apple['title'] + ' ' + df_apple['review']"
   ]
  },
  {
   "cell_type": "code",
   "execution_count": 19,
   "metadata": {
    "id": "tQOWNjkgKb4X"
   },
   "outputs": [],
   "source": [
    "# Dropping unnecessary columns\n",
    "df_apple = df_apple.drop(columns=['review','userName', 'isEdited','title','developerResponse'])"
   ]
  },
  {
   "cell_type": "code",
   "execution_count": 20,
   "metadata": {
    "colab": {
     "base_uri": "https://localhost:8080/",
     "height": 206
    },
    "executionInfo": {
     "elapsed": 31,
     "status": "ok",
     "timestamp": 1638462669484,
     "user": {
      "displayName": "Virginie Boirel",
      "photoUrl": "https://lh3.googleusercontent.com/a/default-user=s64",
      "userId": "09734304838834625501"
     },
     "user_tz": -60
    },
    "id": "uxymplzt-ngl",
    "outputId": "0a170078-e1dd-4fb8-b0e7-37911f10f26a"
   },
   "outputs": [
    {
     "data": {
      "text/html": [
       "<div>\n",
       "<style scoped>\n",
       "    .dataframe tbody tr th:only-of-type {\n",
       "        vertical-align: middle;\n",
       "    }\n",
       "\n",
       "    .dataframe tbody tr th {\n",
       "        vertical-align: top;\n",
       "    }\n",
       "\n",
       "    .dataframe thead th {\n",
       "        text-align: right;\n",
       "    }\n",
       "</style>\n",
       "<table border=\"1\" class=\"dataframe\">\n",
       "  <thead>\n",
       "    <tr style=\"text-align: right;\">\n",
       "      <th></th>\n",
       "      <th>date</th>\n",
       "      <th>rating</th>\n",
       "      <th>review_content</th>\n",
       "    </tr>\n",
       "  </thead>\n",
       "  <tbody>\n",
       "    <tr>\n",
       "      <th>0</th>\n",
       "      <td>2021-02-27 15:09:54</td>\n",
       "      <td>5</td>\n",
       "      <td>Not that great to go more like I have had this...</td>\n",
       "    </tr>\n",
       "    <tr>\n",
       "      <th>1</th>\n",
       "      <td>2020-09-28 21:50:36</td>\n",
       "      <td>5</td>\n",
       "      <td>Barley Farm - Eccles This was the first time u...</td>\n",
       "    </tr>\n",
       "    <tr>\n",
       "      <th>2</th>\n",
       "      <td>2019-09-07 11:44:36</td>\n",
       "      <td>1</td>\n",
       "      <td>Good idea in theory, but flawed Just got the a...</td>\n",
       "    </tr>\n",
       "    <tr>\n",
       "      <th>3</th>\n",
       "      <td>2019-09-07 17:21:51</td>\n",
       "      <td>5</td>\n",
       "      <td>Outstanding! Used the app for the first time t...</td>\n",
       "    </tr>\n",
       "    <tr>\n",
       "      <th>4</th>\n",
       "      <td>2021-11-04 16:43:02</td>\n",
       "      <td>5</td>\n",
       "      <td>Mixed review I like this idea, sometimes we ge...</td>\n",
       "    </tr>\n",
       "  </tbody>\n",
       "</table>\n",
       "</div>"
      ],
      "text/plain": [
       "                 date  rating  \\\n",
       "0 2021-02-27 15:09:54       5   \n",
       "1 2020-09-28 21:50:36       5   \n",
       "2 2019-09-07 11:44:36       1   \n",
       "3 2019-09-07 17:21:51       5   \n",
       "4 2021-11-04 16:43:02       5   \n",
       "\n",
       "                                      review_content  \n",
       "0  Not that great to go more like I have had this...  \n",
       "1  Barley Farm - Eccles This was the first time u...  \n",
       "2  Good idea in theory, but flawed Just got the a...  \n",
       "3  Outstanding! Used the app for the first time t...  \n",
       "4  Mixed review I like this idea, sometimes we ge...  "
      ]
     },
     "execution_count": 20,
     "metadata": {},
     "output_type": "execute_result"
    }
   ],
   "source": [
    "# Checking dataframe\n",
    "df_apple.head(5)"
   ]
  },
  {
   "cell_type": "code",
   "execution_count": 21,
   "metadata": {
    "id": "BlldX62I_kky"
   },
   "outputs": [],
   "source": [
    "# Reordering columns\n",
    "df_apple = df_apple[['review_content', 'rating', 'date']]"
   ]
  },
  {
   "cell_type": "code",
   "execution_count": 22,
   "metadata": {
    "colab": {
     "base_uri": "https://localhost:8080/",
     "height": 206
    },
    "executionInfo": {
     "elapsed": 289,
     "status": "ok",
     "timestamp": 1638462898727,
     "user": {
      "displayName": "Virginie Boirel",
      "photoUrl": "https://lh3.googleusercontent.com/a/default-user=s64",
      "userId": "09734304838834625501"
     },
     "user_tz": -60
    },
    "id": "TQlLHR4oOqeg",
    "outputId": "f0297170-e5e7-4198-cf65-7d66d12d907a"
   },
   "outputs": [
    {
     "data": {
      "text/html": [
       "<div>\n",
       "<style scoped>\n",
       "    .dataframe tbody tr th:only-of-type {\n",
       "        vertical-align: middle;\n",
       "    }\n",
       "\n",
       "    .dataframe tbody tr th {\n",
       "        vertical-align: top;\n",
       "    }\n",
       "\n",
       "    .dataframe thead th {\n",
       "        text-align: right;\n",
       "    }\n",
       "</style>\n",
       "<table border=\"1\" class=\"dataframe\">\n",
       "  <thead>\n",
       "    <tr style=\"text-align: right;\">\n",
       "      <th></th>\n",
       "      <th>review_content</th>\n",
       "      <th>rating</th>\n",
       "      <th>date</th>\n",
       "    </tr>\n",
       "  </thead>\n",
       "  <tbody>\n",
       "    <tr>\n",
       "      <th>0</th>\n",
       "      <td>Not that great to go more like I have had this...</td>\n",
       "      <td>5</td>\n",
       "      <td>2021-02-27 15:09:54</td>\n",
       "    </tr>\n",
       "    <tr>\n",
       "      <th>1</th>\n",
       "      <td>Barley Farm - Eccles This was the first time u...</td>\n",
       "      <td>5</td>\n",
       "      <td>2020-09-28 21:50:36</td>\n",
       "    </tr>\n",
       "    <tr>\n",
       "      <th>2</th>\n",
       "      <td>Good idea in theory, but flawed Just got the a...</td>\n",
       "      <td>1</td>\n",
       "      <td>2019-09-07 11:44:36</td>\n",
       "    </tr>\n",
       "    <tr>\n",
       "      <th>3</th>\n",
       "      <td>Outstanding! Used the app for the first time t...</td>\n",
       "      <td>5</td>\n",
       "      <td>2019-09-07 17:21:51</td>\n",
       "    </tr>\n",
       "    <tr>\n",
       "      <th>4</th>\n",
       "      <td>Mixed review I like this idea, sometimes we ge...</td>\n",
       "      <td>5</td>\n",
       "      <td>2021-11-04 16:43:02</td>\n",
       "    </tr>\n",
       "  </tbody>\n",
       "</table>\n",
       "</div>"
      ],
      "text/plain": [
       "                                      review_content  rating  \\\n",
       "0  Not that great to go more like I have had this...       5   \n",
       "1  Barley Farm - Eccles This was the first time u...       5   \n",
       "2  Good idea in theory, but flawed Just got the a...       1   \n",
       "3  Outstanding! Used the app for the first time t...       5   \n",
       "4  Mixed review I like this idea, sometimes we ge...       5   \n",
       "\n",
       "                 date  \n",
       "0 2021-02-27 15:09:54  \n",
       "1 2020-09-28 21:50:36  \n",
       "2 2019-09-07 11:44:36  \n",
       "3 2019-09-07 17:21:51  \n",
       "4 2021-11-04 16:43:02  "
      ]
     },
     "execution_count": 22,
     "metadata": {},
     "output_type": "execute_result"
    }
   ],
   "source": [
    "# Checking dataframe\n",
    "df_apple.head(5)"
   ]
  },
  {
   "cell_type": "code",
   "execution_count": 23,
   "metadata": {
    "id": "2UomSm1SKcED"
   },
   "outputs": [],
   "source": [
    "# Adding \"source\" column to put \"Apple\"\n",
    "df_apple['source'] = 'Apple'"
   ]
  },
  {
   "cell_type": "code",
   "execution_count": 24,
   "metadata": {
    "id": "kuOhxHD6OqrK"
   },
   "outputs": [],
   "source": [
    "# Formatting date\n",
    "df_apple['date'] = pd.to_datetime(df_apple['date'], format='%Y-%m-%d %Hh%Mm%Ssec')"
   ]
  },
  {
   "cell_type": "code",
   "execution_count": 25,
   "metadata": {
    "colab": {
     "base_uri": "https://localhost:8080/"
    },
    "executionInfo": {
     "elapsed": 252,
     "status": "ok",
     "timestamp": 1638462942578,
     "user": {
      "displayName": "Virginie Boirel",
      "photoUrl": "https://lh3.googleusercontent.com/a/default-user=s64",
      "userId": "09734304838834625501"
     },
     "user_tz": -60
    },
    "id": "S6q8VLMCOq2U",
    "outputId": "12cd24fe-fc97-431d-cee4-89034c306554"
   },
   "outputs": [
    {
     "name": "stdout",
     "output_type": "stream",
     "text": [
      "<class 'pandas.core.frame.DataFrame'>\n",
      "RangeIndex: 2000 entries, 0 to 1999\n",
      "Data columns (total 4 columns):\n",
      " #   Column          Non-Null Count  Dtype         \n",
      "---  ------          --------------  -----         \n",
      " 0   review_content  2000 non-null   object        \n",
      " 1   rating          2000 non-null   int64         \n",
      " 2   date            2000 non-null   datetime64[ns]\n",
      " 3   source          2000 non-null   object        \n",
      "dtypes: datetime64[ns](1), int64(1), object(2)\n",
      "memory usage: 62.6+ KB\n"
     ]
    }
   ],
   "source": [
    "# Check new format\n",
    "df_apple.info()"
   ]
  },
  {
   "cell_type": "code",
   "execution_count": 26,
   "metadata": {
    "colab": {
     "base_uri": "https://localhost:8080/"
    },
    "executionInfo": {
     "elapsed": 209,
     "status": "ok",
     "timestamp": 1638462975731,
     "user": {
      "displayName": "Virginie Boirel",
      "photoUrl": "https://lh3.googleusercontent.com/a/default-user=s64",
      "userId": "09734304838834625501"
     },
     "user_tz": -60
    },
    "id": "Erk78Bng-qcv",
    "outputId": "bbdeb3e1-5ec6-4f6e-d401-98956d671b33"
   },
   "outputs": [
    {
     "data": {
      "text/plain": [
       "review_content    0\n",
       "rating            0\n",
       "date              0\n",
       "source            0\n",
       "dtype: int64"
      ]
     },
     "execution_count": 26,
     "metadata": {},
     "output_type": "execute_result"
    }
   ],
   "source": [
    "# Checking ISNA\n",
    "df_apple.isna().sum()"
   ]
  },
  {
   "cell_type": "code",
   "execution_count": 27,
   "metadata": {
    "colab": {
     "base_uri": "https://localhost:8080/"
    },
    "executionInfo": {
     "elapsed": 299,
     "status": "ok",
     "timestamp": 1638462979154,
     "user": {
      "displayName": "Virginie Boirel",
      "photoUrl": "https://lh3.googleusercontent.com/a/default-user=s64",
      "userId": "09734304838834625501"
     },
     "user_tz": -60
    },
    "id": "OJX1jgrm-qhf",
    "outputId": "a719112e-8bbb-4467-9400-2886afb8fea7"
   },
   "outputs": [
    {
     "data": {
      "text/plain": [
       "0"
      ]
     },
     "execution_count": 27,
     "metadata": {},
     "output_type": "execute_result"
    }
   ],
   "source": [
    "# Checking duplicates \n",
    "df_apple.duplicated().sum()"
   ]
  },
  {
   "cell_type": "markdown",
   "metadata": {
    "id": "J21Lsk67-ncz"
   },
   "source": [
    "## **3. Trustpilot**"
   ]
  },
  {
   "cell_type": "code",
   "execution_count": null,
   "metadata": {
    "colab": {
     "base_uri": "https://localhost:8080/"
    },
    "executionInfo": {
     "elapsed": 2130,
     "status": "ok",
     "timestamp": 1639214895107,
     "user": {
      "displayName": "Roxane Ajavon",
      "photoUrl": "https://lh3.googleusercontent.com/a/default-user=s64",
      "userId": "10325748363259226548"
     },
     "user_tz": -60
    },
    "id": "0mDco5pI-ywd",
    "outputId": "08848f77-a1b1-4dea-caa2-534f49c3d495"
   },
   "outputs": [
    {
     "data": {
      "text/plain": [
       "200"
      ]
     },
     "execution_count": 18,
     "metadata": {},
     "output_type": "execute_result"
    }
   ],
   "source": [
    "# Retrieving app reviews from trustpilot website\n",
    "headers = {\n",
    "    'User-Agent': 'Mozilla/5.0 (X11; Ubuntu; Linux x86_64; rv:93.0) Gecko/20100101 Firefox/93.0'\n",
    "}\n",
    "response = requests.get('https://uk.trustpilot.com/review/toogoodtogo.com?page=2', headers=headers)\n",
    "response.status_code"
   ]
  },
  {
   "cell_type": "code",
   "execution_count": null,
   "metadata": {
    "colab": {
     "base_uri": "https://localhost:8080/"
    },
    "executionInfo": {
     "elapsed": 23,
     "status": "ok",
     "timestamp": 1638462994373,
     "user": {
      "displayName": "Virginie Boirel",
      "photoUrl": "https://lh3.googleusercontent.com/a/default-user=s64",
      "userId": "09734304838834625501"
     },
     "user_tz": -60
    },
    "id": "n1d7wF-5QIpP",
    "outputId": "d8fafa28-c6d7-4176-9314-694950303ba9"
   },
   "outputs": [
    {
     "data": {
      "text/plain": [
       "{'consumer': {'countryCode': 'GB',\n",
       "  'displayName': 'Yvonne Simpson',\n",
       "  'hasReviewFacebookFriend': False,\n",
       "  'id': '61914c343f59d00012152fb3',\n",
       "  'imageUrl': '',\n",
       "  'isDirectFacebookFriend': False,\n",
       "  'numberOfReviews': 1},\n",
       " 'consumersReviewCountOnSameDomain': 1,\n",
       " 'consumersReviewCountOnSameLocation': 0,\n",
       " 'dates': {'experiencedDate': None,\n",
       "  'publishedDate': '2021-11-14T17:49:53.000Z',\n",
       "  'updatedDate': '2021-11-14T17:50:30.000Z'},\n",
       " 'filtered': False,\n",
       " 'hasUnhandledReports': False,\n",
       " 'id': '61914c4101034f34babf3c56',\n",
       " 'labels': {'merged': None,\n",
       "  'verification': {'createdDateTime': '2021-11-14T17:49:53.000Z',\n",
       "   'isVerified': False,\n",
       "   'reviewSourceName': 'Organic',\n",
       "   'verificationLevel': 'not-verified',\n",
       "   'verificationSource': 'invitation'}},\n",
       " 'language': 'en',\n",
       " 'likes': 0,\n",
       " 'location': None,\n",
       " 'productReviews': [],\n",
       " 'rating': 1,\n",
       " 'reply': {'message': \"Hi Yvonne,\\n\\nThanks for getting in touch and for fighting food waste with us.\\n\\nWe'd love to chat about your experience. Please get in touch via the Help Centre in the Too Good To Go app, or fill out this contact form: Bit.ly/tgtgcontactus - one of the team will get back to you shortly.\\n\\nAll the best,\\n\\nToo Good To Go\",\n",
       "  'publishedDate': '2021-11-26T14:25:41.002Z',\n",
       "  'updatedDate': None},\n",
       " 'report': None,\n",
       " 'text': 'Dissapointed with my first box. It was from Morrisons It contained 3 strawberries,  2 apples, 2 bags of carrots .4 bags of wonky  mixed peppers and 4 bags of runner beans which were not fit for consumption. and 6 oranges. I doubt it would have cost £10.',\n",
       " 'title': 'Dissapointed with my first box'}"
      ]
     },
     "execution_count": 63,
     "metadata": {},
     "output_type": "execute_result"
    }
   ],
   "source": [
    "soup = BeautifulSoup(response.content)\n",
    "data = json.loads(soup.find('script', type='application/json').string)\n",
    "reviews_t = data[\"props\"][\"pageProps\"][\"reviews\"]\n",
    "\n",
    "sample_reply = reviews_t[0]\n",
    "sample_reply"
   ]
  },
  {
   "cell_type": "code",
   "execution_count": null,
   "metadata": {
    "id": "zpt07FK1QIWy"
   },
   "outputs": [],
   "source": [
    "#collecting all the info of the review we might need to process after checking it\n",
    "reviewsText = []\n",
    "reviewsTitle = []\n",
    "ratings = []\n",
    "country = []\n",
    "language = []\n",
    "publishedDate = []\n",
    "\n",
    "\n",
    "for i in range(1,75):\n",
    "    url = \"https://uk.trustpilot.com/review/toogoodtogo.com?page={}\".format(i)\n",
    "    response = requests.get(url, headers=headers)\n",
    "    soup = BeautifulSoup(response.content)\n",
    "    data = json.loads(soup.find('script', type='application/json').string)\n",
    "    reviews_t = data[\"props\"][\"pageProps\"][\"reviews\"]\n",
    "    for review in reviews_t:\n",
    "        reviewsTitle.append(review['title'])\n",
    "        reviewsText.append(review['text'])\n",
    "        ratings.append(review['rating'])\n",
    "        country.append(review['consumer']['countryCode'])\n",
    "        language.append(review['language'])\n",
    "        publishedDate.append(review['dates']['publishedDate'])"
   ]
  },
  {
   "cell_type": "code",
   "execution_count": null,
   "metadata": {
    "id": "IlmX6MyBQIjV"
   },
   "outputs": [],
   "source": [
    "# Converting reviews in pandas dataframe\n",
    "df_trust = pd.DataFrame(np.column_stack([ratings, country, publishedDate, reviewsTitle, reviewsText, language]), \n",
    "                               columns=['rating', 'location', 'date', 'title', 'content', 'language'])"
   ]
  },
  {
   "cell_type": "code",
   "execution_count": null,
   "metadata": {
    "colab": {
     "base_uri": "https://localhost:8080/",
     "height": 380
    },
    "executionInfo": {
     "elapsed": 211,
     "status": "ok",
     "timestamp": 1639215318328,
     "user": {
      "displayName": "Roxane Ajavon",
      "photoUrl": "https://lh3.googleusercontent.com/a/default-user=s64",
      "userId": "10325748363259226548"
     },
     "user_tz": -60
    },
    "id": "K938K6xn2HU1",
    "outputId": "f0f0ff10-d5d1-4e20-c289-0cc14420ef12"
   },
   "outputs": [
    {
     "data": {
      "text/html": [
       "<div>\n",
       "<style scoped>\n",
       "    .dataframe tbody tr th:only-of-type {\n",
       "        vertical-align: middle;\n",
       "    }\n",
       "\n",
       "    .dataframe tbody tr th {\n",
       "        vertical-align: top;\n",
       "    }\n",
       "\n",
       "    .dataframe thead th {\n",
       "        text-align: right;\n",
       "    }\n",
       "</style>\n",
       "<table border=\"1\" class=\"dataframe\">\n",
       "  <thead>\n",
       "    <tr style=\"text-align: right;\">\n",
       "      <th></th>\n",
       "      <th>rating</th>\n",
       "      <th>location</th>\n",
       "      <th>date</th>\n",
       "      <th>title</th>\n",
       "      <th>content</th>\n",
       "      <th>language</th>\n",
       "    </tr>\n",
       "  </thead>\n",
       "  <tbody>\n",
       "    <tr>\n",
       "      <th>0</th>\n",
       "      <td>1</td>\n",
       "      <td>GB</td>\n",
       "      <td>2021-12-10T20:35:51.000Z</td>\n",
       "      <td>TOBY CARVERY LATE CANCELLATION</td>\n",
       "      <td>30 minutes before order cancelled..from toby c...</td>\n",
       "      <td>en</td>\n",
       "    </tr>\n",
       "    <tr>\n",
       "      <th>1</th>\n",
       "      <td>1</td>\n",
       "      <td>GB</td>\n",
       "      <td>2021-12-08T21:03:08.000Z</td>\n",
       "      <td>Made an order with Co op Erdington</td>\n",
       "      <td>Made an order with Co op Erdington, it was rea...</td>\n",
       "      <td>en</td>\n",
       "    </tr>\n",
       "    <tr>\n",
       "      <th>2</th>\n",
       "      <td>1</td>\n",
       "      <td>NO</td>\n",
       "      <td>2021-12-06T21:25:09.000Z</td>\n",
       "      <td>Feel cheated with the amount of food…</td>\n",
       "      <td>Feel cheated with the amount of food received....</td>\n",
       "      <td>en</td>\n",
       "    </tr>\n",
       "    <tr>\n",
       "      <th>3</th>\n",
       "      <td>2</td>\n",
       "      <td>GB</td>\n",
       "      <td>2021-12-06T20:08:14.000Z</td>\n",
       "      <td>X2 orders cancelled and I was charged…</td>\n",
       "      <td>X2 orders cancelled and I was charged for them...</td>\n",
       "      <td>en</td>\n",
       "    </tr>\n",
       "    <tr>\n",
       "      <th>4</th>\n",
       "      <td>2</td>\n",
       "      <td>GB</td>\n",
       "      <td>2021-12-06T15:59:02.000Z</td>\n",
       "      <td>Love the idea, BUT</td>\n",
       "      <td>Love the idea, but out of three times of order...</td>\n",
       "      <td>en</td>\n",
       "    </tr>\n",
       "  </tbody>\n",
       "</table>\n",
       "</div>"
      ],
      "text/plain": [
       "  rating location  ...                                            content language\n",
       "0      1       GB  ...  30 minutes before order cancelled..from toby c...       en\n",
       "1      1       GB  ...  Made an order with Co op Erdington, it was rea...       en\n",
       "2      1       NO  ...  Feel cheated with the amount of food received....       en\n",
       "3      2       GB  ...  X2 orders cancelled and I was charged for them...       en\n",
       "4      2       GB  ...  Love the idea, but out of three times of order...       en\n",
       "\n",
       "[5 rows x 6 columns]"
      ]
     },
     "execution_count": 23,
     "metadata": {},
     "output_type": "execute_result"
    }
   ],
   "source": [
    "df_trust.head()"
   ]
  },
  {
   "cell_type": "code",
   "execution_count": null,
   "metadata": {
    "id": "mopG6f4aLLrN"
   },
   "outputs": [],
   "source": [
    "# Storing raw data in pickle format\n",
    "df_trust.to_pickle('TrustpilotReview_TooGoodToGo.pkl')"
   ]
  },
  {
   "cell_type": "code",
   "execution_count": 28,
   "metadata": {
    "colab": {
     "base_uri": "https://localhost:8080/",
     "height": 380
    },
    "executionInfo": {
     "elapsed": 197,
     "status": "ok",
     "timestamp": 1639215361043,
     "user": {
      "displayName": "Roxane Ajavon",
      "photoUrl": "https://lh3.googleusercontent.com/a/default-user=s64",
      "userId": "10325748363259226548"
     },
     "user_tz": -60
    },
    "id": "zjIA3OxeLQ4H",
    "outputId": "cdd93b8c-dcc4-4e8e-dbbc-01d41a730933"
   },
   "outputs": [
    {
     "data": {
      "text/html": [
       "<div>\n",
       "<style scoped>\n",
       "    .dataframe tbody tr th:only-of-type {\n",
       "        vertical-align: middle;\n",
       "    }\n",
       "\n",
       "    .dataframe tbody tr th {\n",
       "        vertical-align: top;\n",
       "    }\n",
       "\n",
       "    .dataframe thead th {\n",
       "        text-align: right;\n",
       "    }\n",
       "</style>\n",
       "<table border=\"1\" class=\"dataframe\">\n",
       "  <thead>\n",
       "    <tr style=\"text-align: right;\">\n",
       "      <th></th>\n",
       "      <th>rating</th>\n",
       "      <th>location</th>\n",
       "      <th>date</th>\n",
       "      <th>title</th>\n",
       "      <th>content</th>\n",
       "      <th>language</th>\n",
       "    </tr>\n",
       "  </thead>\n",
       "  <tbody>\n",
       "    <tr>\n",
       "      <th>0</th>\n",
       "      <td>1</td>\n",
       "      <td>GB</td>\n",
       "      <td>2021-12-10T20:35:51.000Z</td>\n",
       "      <td>TOBY CARVERY LATE CANCELLATION</td>\n",
       "      <td>30 minutes before order cancelled..from toby c...</td>\n",
       "      <td>en</td>\n",
       "    </tr>\n",
       "    <tr>\n",
       "      <th>1</th>\n",
       "      <td>1</td>\n",
       "      <td>GB</td>\n",
       "      <td>2021-12-08T21:03:08.000Z</td>\n",
       "      <td>Made an order with Co op Erdington</td>\n",
       "      <td>Made an order with Co op Erdington, it was rea...</td>\n",
       "      <td>en</td>\n",
       "    </tr>\n",
       "    <tr>\n",
       "      <th>2</th>\n",
       "      <td>1</td>\n",
       "      <td>NO</td>\n",
       "      <td>2021-12-06T21:25:09.000Z</td>\n",
       "      <td>Feel cheated with the amount of food…</td>\n",
       "      <td>Feel cheated with the amount of food received....</td>\n",
       "      <td>en</td>\n",
       "    </tr>\n",
       "    <tr>\n",
       "      <th>3</th>\n",
       "      <td>2</td>\n",
       "      <td>GB</td>\n",
       "      <td>2021-12-06T20:08:14.000Z</td>\n",
       "      <td>X2 orders cancelled and I was charged…</td>\n",
       "      <td>X2 orders cancelled and I was charged for them...</td>\n",
       "      <td>en</td>\n",
       "    </tr>\n",
       "    <tr>\n",
       "      <th>4</th>\n",
       "      <td>2</td>\n",
       "      <td>GB</td>\n",
       "      <td>2021-12-06T15:59:02.000Z</td>\n",
       "      <td>Love the idea, BUT</td>\n",
       "      <td>Love the idea, but out of three times of order...</td>\n",
       "      <td>en</td>\n",
       "    </tr>\n",
       "  </tbody>\n",
       "</table>\n",
       "</div>"
      ],
      "text/plain": [
       "  rating location                      date  \\\n",
       "0      1       GB  2021-12-10T20:35:51.000Z   \n",
       "1      1       GB  2021-12-08T21:03:08.000Z   \n",
       "2      1       NO  2021-12-06T21:25:09.000Z   \n",
       "3      2       GB  2021-12-06T20:08:14.000Z   \n",
       "4      2       GB  2021-12-06T15:59:02.000Z   \n",
       "\n",
       "                                    title  \\\n",
       "0          TOBY CARVERY LATE CANCELLATION   \n",
       "1      Made an order with Co op Erdington   \n",
       "2   Feel cheated with the amount of food…   \n",
       "3  X2 orders cancelled and I was charged…   \n",
       "4                      Love the idea, BUT   \n",
       "\n",
       "                                             content language  \n",
       "0  30 minutes before order cancelled..from toby c...       en  \n",
       "1  Made an order with Co op Erdington, it was rea...       en  \n",
       "2  Feel cheated with the amount of food received....       en  \n",
       "3  X2 orders cancelled and I was charged for them...       en  \n",
       "4  Love the idea, but out of three times of order...       en  "
      ]
     },
     "execution_count": 28,
     "metadata": {},
     "output_type": "execute_result"
    }
   ],
   "source": [
    "# Importing doc back to standardize it into workable format\n",
    "df_trust = \"data/TrustpilotReview_TooGoodToGo.pkl\" \n",
    "\n",
    "with open(df_trust, 'rb') as f:\n",
    "    df_trust = pickle.load(f)\n",
    "\n",
    "df_trust.head(5)"
   ]
  },
  {
   "cell_type": "code",
   "execution_count": 29,
   "metadata": {
    "colab": {
     "base_uri": "https://localhost:8080/",
     "height": 206
    },
    "executionInfo": {
     "elapsed": 212,
     "status": "ok",
     "timestamp": 1638464103014,
     "user": {
      "displayName": "Virginie Boirel",
      "photoUrl": "https://lh3.googleusercontent.com/a/default-user=s64",
      "userId": "09734304838834625501"
     },
     "user_tz": -60
    },
    "id": "6dkfA76eQeFh",
    "outputId": "10acaf08-f68a-401d-fed0-145c8ad89232"
   },
   "outputs": [
    {
     "data": {
      "text/html": [
       "<div>\n",
       "<style scoped>\n",
       "    .dataframe tbody tr th:only-of-type {\n",
       "        vertical-align: middle;\n",
       "    }\n",
       "\n",
       "    .dataframe tbody tr th {\n",
       "        vertical-align: top;\n",
       "    }\n",
       "\n",
       "    .dataframe thead th {\n",
       "        text-align: right;\n",
       "    }\n",
       "</style>\n",
       "<table border=\"1\" class=\"dataframe\">\n",
       "  <thead>\n",
       "    <tr style=\"text-align: right;\">\n",
       "      <th></th>\n",
       "      <th>rating</th>\n",
       "      <th>location</th>\n",
       "      <th>date</th>\n",
       "      <th>title</th>\n",
       "      <th>content</th>\n",
       "      <th>language</th>\n",
       "    </tr>\n",
       "  </thead>\n",
       "  <tbody>\n",
       "    <tr>\n",
       "      <th>0</th>\n",
       "      <td>1</td>\n",
       "      <td>GB</td>\n",
       "      <td>2021-12-10T20:35:51.000Z</td>\n",
       "      <td>TOBY CARVERY LATE CANCELLATION</td>\n",
       "      <td>30 minutes before order cancelled..from toby c...</td>\n",
       "      <td>en</td>\n",
       "    </tr>\n",
       "    <tr>\n",
       "      <th>1</th>\n",
       "      <td>1</td>\n",
       "      <td>GB</td>\n",
       "      <td>2021-12-08T21:03:08.000Z</td>\n",
       "      <td>Made an order with Co op Erdington</td>\n",
       "      <td>Made an order with Co op Erdington, it was rea...</td>\n",
       "      <td>en</td>\n",
       "    </tr>\n",
       "    <tr>\n",
       "      <th>2</th>\n",
       "      <td>1</td>\n",
       "      <td>NO</td>\n",
       "      <td>2021-12-06T21:25:09.000Z</td>\n",
       "      <td>Feel cheated with the amount of food…</td>\n",
       "      <td>Feel cheated with the amount of food received....</td>\n",
       "      <td>en</td>\n",
       "    </tr>\n",
       "    <tr>\n",
       "      <th>3</th>\n",
       "      <td>2</td>\n",
       "      <td>GB</td>\n",
       "      <td>2021-12-06T20:08:14.000Z</td>\n",
       "      <td>X2 orders cancelled and I was charged…</td>\n",
       "      <td>X2 orders cancelled and I was charged for them...</td>\n",
       "      <td>en</td>\n",
       "    </tr>\n",
       "    <tr>\n",
       "      <th>4</th>\n",
       "      <td>2</td>\n",
       "      <td>GB</td>\n",
       "      <td>2021-12-06T15:59:02.000Z</td>\n",
       "      <td>Love the idea, BUT</td>\n",
       "      <td>Love the idea, but out of three times of order...</td>\n",
       "      <td>en</td>\n",
       "    </tr>\n",
       "  </tbody>\n",
       "</table>\n",
       "</div>"
      ],
      "text/plain": [
       "  rating location                      date  \\\n",
       "0      1       GB  2021-12-10T20:35:51.000Z   \n",
       "1      1       GB  2021-12-08T21:03:08.000Z   \n",
       "2      1       NO  2021-12-06T21:25:09.000Z   \n",
       "3      2       GB  2021-12-06T20:08:14.000Z   \n",
       "4      2       GB  2021-12-06T15:59:02.000Z   \n",
       "\n",
       "                                    title  \\\n",
       "0          TOBY CARVERY LATE CANCELLATION   \n",
       "1      Made an order with Co op Erdington   \n",
       "2   Feel cheated with the amount of food…   \n",
       "3  X2 orders cancelled and I was charged…   \n",
       "4                      Love the idea, BUT   \n",
       "\n",
       "                                             content language  \n",
       "0  30 minutes before order cancelled..from toby c...       en  \n",
       "1  Made an order with Co op Erdington, it was rea...       en  \n",
       "2  Feel cheated with the amount of food received....       en  \n",
       "3  X2 orders cancelled and I was charged for them...       en  \n",
       "4  Love the idea, but out of three times of order...       en  "
      ]
     },
     "execution_count": 29,
     "metadata": {},
     "output_type": "execute_result"
    }
   ],
   "source": [
    "# Checking data\n",
    "df_trust.head(5)"
   ]
  },
  {
   "cell_type": "code",
   "execution_count": 30,
   "metadata": {
    "colab": {
     "base_uri": "https://localhost:8080/"
    },
    "executionInfo": {
     "elapsed": 284,
     "status": "ok",
     "timestamp": 1638464106719,
     "user": {
      "displayName": "Virginie Boirel",
      "photoUrl": "https://lh3.googleusercontent.com/a/default-user=s64",
      "userId": "09734304838834625501"
     },
     "user_tz": -60
    },
    "id": "FOXiC4anLQ_d",
    "outputId": "929a88b4-a067-464a-96fc-db14de746064"
   },
   "outputs": [
    {
     "data": {
      "text/plain": [
       "(1480, 6)"
      ]
     },
     "execution_count": 30,
     "metadata": {},
     "output_type": "execute_result"
    }
   ],
   "source": [
    "df_trust.shape"
   ]
  },
  {
   "cell_type": "code",
   "execution_count": 31,
   "metadata": {
    "colab": {
     "base_uri": "https://localhost:8080/"
    },
    "executionInfo": {
     "elapsed": 232,
     "status": "ok",
     "timestamp": 1638464108461,
     "user": {
      "displayName": "Virginie Boirel",
      "photoUrl": "https://lh3.googleusercontent.com/a/default-user=s64",
      "userId": "09734304838834625501"
     },
     "user_tz": -60
    },
    "id": "JTEGUD1jQeMN",
    "outputId": "8b3a02b6-eea5-4b16-ab08-7b969bb17fa4"
   },
   "outputs": [
    {
     "data": {
      "text/plain": [
       "en    1480\n",
       "Name: language, dtype: int64"
      ]
     },
     "execution_count": 31,
     "metadata": {},
     "output_type": "execute_result"
    }
   ],
   "source": [
    "# Checking if all the reviews are in english\n",
    "df_trust['language'].value_counts()"
   ]
  },
  {
   "cell_type": "code",
   "execution_count": 32,
   "metadata": {
    "colab": {
     "base_uri": "https://localhost:8080/"
    },
    "executionInfo": {
     "elapsed": 238,
     "status": "ok",
     "timestamp": 1638464111250,
     "user": {
      "displayName": "Virginie Boirel",
      "photoUrl": "https://lh3.googleusercontent.com/a/default-user=s64",
      "userId": "09734304838834625501"
     },
     "user_tz": -60
    },
    "id": "JYCCP1KmQeQ-",
    "outputId": "fadaca84-3bd1-4a1f-988c-72e5ad9d40a8"
   },
   "outputs": [
    {
     "data": {
      "text/plain": [
       "GB    1120\n",
       "DK     125\n",
       "NO      45\n",
       "US      34\n",
       "DE      31\n",
       "NL      31\n",
       "BE      19\n",
       "CH      19\n",
       "FR      17\n",
       "SE       5\n",
       "ES       5\n",
       "AU       4\n",
       "IT       3\n",
       "CA       3\n",
       "GR       3\n",
       "PL       2\n",
       "PT       2\n",
       "MY       2\n",
       "IE       2\n",
       "IN       1\n",
       "AT       1\n",
       "BN       1\n",
       "UA       1\n",
       "RO       1\n",
       "AW       1\n",
       "LU       1\n",
       "HU       1\n",
       "Name: location, dtype: int64"
      ]
     },
     "execution_count": 32,
     "metadata": {},
     "output_type": "execute_result"
    }
   ],
   "source": [
    "df_trust['location'].value_counts()"
   ]
  },
  {
   "cell_type": "code",
   "execution_count": 33,
   "metadata": {
    "id": "BBY4G336Ql6r"
   },
   "outputs": [],
   "source": [
    "df_trust = df_trust[df_trust['location']=='GB']"
   ]
  },
  {
   "cell_type": "code",
   "execution_count": 34,
   "metadata": {
    "id": "gr49XDqcQl_S"
   },
   "outputs": [],
   "source": [
    "# to concatenate Title & review content\n",
    "df_trust['review_content'] = df_trust['title'] + ' ' + df_trust['content']"
   ]
  },
  {
   "cell_type": "code",
   "execution_count": 35,
   "metadata": {
    "colab": {
     "base_uri": "https://localhost:8080/",
     "height": 293
    },
    "executionInfo": {
     "elapsed": 245,
     "status": "ok",
     "timestamp": 1638464120598,
     "user": {
      "displayName": "Virginie Boirel",
      "photoUrl": "https://lh3.googleusercontent.com/a/default-user=s64",
      "userId": "09734304838834625501"
     },
     "user_tz": -60
    },
    "id": "kcQg9VtGLRIx",
    "outputId": "bfda4f8e-48a9-4de0-e072-b4db5b80df20"
   },
   "outputs": [
    {
     "data": {
      "text/html": [
       "<div>\n",
       "<style scoped>\n",
       "    .dataframe tbody tr th:only-of-type {\n",
       "        vertical-align: middle;\n",
       "    }\n",
       "\n",
       "    .dataframe tbody tr th {\n",
       "        vertical-align: top;\n",
       "    }\n",
       "\n",
       "    .dataframe thead th {\n",
       "        text-align: right;\n",
       "    }\n",
       "</style>\n",
       "<table border=\"1\" class=\"dataframe\">\n",
       "  <thead>\n",
       "    <tr style=\"text-align: right;\">\n",
       "      <th></th>\n",
       "      <th>rating</th>\n",
       "      <th>location</th>\n",
       "      <th>date</th>\n",
       "      <th>title</th>\n",
       "      <th>content</th>\n",
       "      <th>language</th>\n",
       "      <th>review_content</th>\n",
       "    </tr>\n",
       "  </thead>\n",
       "  <tbody>\n",
       "    <tr>\n",
       "      <th>0</th>\n",
       "      <td>1</td>\n",
       "      <td>GB</td>\n",
       "      <td>2021-12-10T20:35:51.000Z</td>\n",
       "      <td>TOBY CARVERY LATE CANCELLATION</td>\n",
       "      <td>30 minutes before order cancelled..from toby c...</td>\n",
       "      <td>en</td>\n",
       "      <td>TOBY CARVERY LATE CANCELLATION 30 minutes befo...</td>\n",
       "    </tr>\n",
       "    <tr>\n",
       "      <th>1</th>\n",
       "      <td>1</td>\n",
       "      <td>GB</td>\n",
       "      <td>2021-12-08T21:03:08.000Z</td>\n",
       "      <td>Made an order with Co op Erdington</td>\n",
       "      <td>Made an order with Co op Erdington, it was rea...</td>\n",
       "      <td>en</td>\n",
       "      <td>Made an order with Co op Erdington Made an ord...</td>\n",
       "    </tr>\n",
       "    <tr>\n",
       "      <th>3</th>\n",
       "      <td>2</td>\n",
       "      <td>GB</td>\n",
       "      <td>2021-12-06T20:08:14.000Z</td>\n",
       "      <td>X2 orders cancelled and I was charged…</td>\n",
       "      <td>X2 orders cancelled and I was charged for them...</td>\n",
       "      <td>en</td>\n",
       "      <td>X2 orders cancelled and I was charged… X2 orde...</td>\n",
       "    </tr>\n",
       "    <tr>\n",
       "      <th>4</th>\n",
       "      <td>2</td>\n",
       "      <td>GB</td>\n",
       "      <td>2021-12-06T15:59:02.000Z</td>\n",
       "      <td>Love the idea, BUT</td>\n",
       "      <td>Love the idea, but out of three times of order...</td>\n",
       "      <td>en</td>\n",
       "      <td>Love the idea, BUT Love the idea, but out of t...</td>\n",
       "    </tr>\n",
       "    <tr>\n",
       "      <th>5</th>\n",
       "      <td>5</td>\n",
       "      <td>GB</td>\n",
       "      <td>2021-12-06T13:01:07.000Z</td>\n",
       "      <td>Great idea, keep it up!</td>\n",
       "      <td>I've used the app a few times now, always pick...</td>\n",
       "      <td>en</td>\n",
       "      <td>Great idea, keep it up! I've used the app a fe...</td>\n",
       "    </tr>\n",
       "  </tbody>\n",
       "</table>\n",
       "</div>"
      ],
      "text/plain": [
       "  rating location                      date  \\\n",
       "0      1       GB  2021-12-10T20:35:51.000Z   \n",
       "1      1       GB  2021-12-08T21:03:08.000Z   \n",
       "3      2       GB  2021-12-06T20:08:14.000Z   \n",
       "4      2       GB  2021-12-06T15:59:02.000Z   \n",
       "5      5       GB  2021-12-06T13:01:07.000Z   \n",
       "\n",
       "                                    title  \\\n",
       "0          TOBY CARVERY LATE CANCELLATION   \n",
       "1      Made an order with Co op Erdington   \n",
       "3  X2 orders cancelled and I was charged…   \n",
       "4                      Love the idea, BUT   \n",
       "5                 Great idea, keep it up!   \n",
       "\n",
       "                                             content language  \\\n",
       "0  30 minutes before order cancelled..from toby c...       en   \n",
       "1  Made an order with Co op Erdington, it was rea...       en   \n",
       "3  X2 orders cancelled and I was charged for them...       en   \n",
       "4  Love the idea, but out of three times of order...       en   \n",
       "5  I've used the app a few times now, always pick...       en   \n",
       "\n",
       "                                      review_content  \n",
       "0  TOBY CARVERY LATE CANCELLATION 30 minutes befo...  \n",
       "1  Made an order with Co op Erdington Made an ord...  \n",
       "3  X2 orders cancelled and I was charged… X2 orde...  \n",
       "4  Love the idea, BUT Love the idea, but out of t...  \n",
       "5  Great idea, keep it up! I've used the app a fe...  "
      ]
     },
     "execution_count": 35,
     "metadata": {},
     "output_type": "execute_result"
    }
   ],
   "source": [
    "# Checking dataframe\n",
    "df_trust.head(5)"
   ]
  },
  {
   "cell_type": "code",
   "execution_count": 36,
   "metadata": {
    "id": "ylJ5ykgmQmHP"
   },
   "outputs": [],
   "source": [
    "# Dropping unnecessary columns\n",
    "df_trust = df_trust.drop(columns=['location','title','content','language'])"
   ]
  },
  {
   "cell_type": "code",
   "execution_count": 37,
   "metadata": {
    "colab": {
     "base_uri": "https://localhost:8080/"
    },
    "executionInfo": {
     "elapsed": 351,
     "status": "ok",
     "timestamp": 1638464129887,
     "user": {
      "displayName": "Virginie Boirel",
      "photoUrl": "https://lh3.googleusercontent.com/a/default-user=s64",
      "userId": "09734304838834625501"
     },
     "user_tz": -60
    },
    "id": "EXo8Z8NQBLZ5",
    "outputId": "e6c9a158-906c-4cf6-8249-7b3e8ef7e455"
   },
   "outputs": [
    {
     "name": "stdout",
     "output_type": "stream",
     "text": [
      "<class 'pandas.core.frame.DataFrame'>\n",
      "Int64Index: 1120 entries, 0 to 1467\n",
      "Data columns (total 3 columns):\n",
      " #   Column          Non-Null Count  Dtype \n",
      "---  ------          --------------  ----- \n",
      " 0   rating          1120 non-null   object\n",
      " 1   date            1120 non-null   object\n",
      " 2   review_content  1120 non-null   object\n",
      "dtypes: object(3)\n",
      "memory usage: 35.0+ KB\n"
     ]
    }
   ],
   "source": [
    "df_trust.info()"
   ]
  },
  {
   "cell_type": "code",
   "execution_count": 38,
   "metadata": {
    "id": "mZ0pZCyMBY_x"
   },
   "outputs": [],
   "source": [
    "# Formatting date => removing anything on the right of T (T being included)\n",
    "df_trust['date'] = df_trust['date'].str[:10]"
   ]
  },
  {
   "cell_type": "code",
   "execution_count": 39,
   "metadata": {
    "id": "ZIAz_YsVA7UD"
   },
   "outputs": [],
   "source": [
    "# Formatting date\n",
    "df_trust['date'] = pd.to_datetime(df_trust['date'], format='%Y-%m-%d')"
   ]
  },
  {
   "cell_type": "code",
   "execution_count": 40,
   "metadata": {
    "id": "JWiJgP09CqZ-"
   },
   "outputs": [],
   "source": [
    "# Reordering columns\n",
    "df_trust = df_trust[['review_content', 'rating', 'date']]"
   ]
  },
  {
   "cell_type": "code",
   "execution_count": 41,
   "metadata": {
    "colab": {
     "base_uri": "https://localhost:8080/"
    },
    "executionInfo": {
     "elapsed": 232,
     "status": "ok",
     "timestamp": 1638464156327,
     "user": {
      "displayName": "Virginie Boirel",
      "photoUrl": "https://lh3.googleusercontent.com/a/default-user=s64",
      "userId": "09734304838834625501"
     },
     "user_tz": -60
    },
    "id": "IA6MFcpkLr5I",
    "outputId": "3b672ad0-630c-456f-8484-7a4e185e26bf"
   },
   "outputs": [],
   "source": [
    "# Adding \"source\" column to put \"Trustpilot\"\n",
    "df_trust['source'] = 'Trustpilot'"
   ]
  },
  {
   "cell_type": "code",
   "execution_count": 42,
   "metadata": {
    "colab": {
     "base_uri": "https://localhost:8080/"
    },
    "executionInfo": {
     "elapsed": 252,
     "status": "ok",
     "timestamp": 1638464201326,
     "user": {
      "displayName": "Virginie Boirel",
      "photoUrl": "https://lh3.googleusercontent.com/a/default-user=s64",
      "userId": "09734304838834625501"
     },
     "user_tz": -60
    },
    "id": "_wnPbgZRNNyb",
    "outputId": "a8110112-df2e-4bf7-a28a-43ebb074b818"
   },
   "outputs": [
    {
     "name": "stdout",
     "output_type": "stream",
     "text": [
      "<class 'pandas.core.frame.DataFrame'>\n",
      "Int64Index: 1120 entries, 0 to 1467\n",
      "Data columns (total 4 columns):\n",
      " #   Column          Non-Null Count  Dtype         \n",
      "---  ------          --------------  -----         \n",
      " 0   review_content  1120 non-null   object        \n",
      " 1   rating          1120 non-null   object        \n",
      " 2   date            1120 non-null   datetime64[ns]\n",
      " 3   source          1120 non-null   object        \n",
      "dtypes: datetime64[ns](1), object(3)\n",
      "memory usage: 43.8+ KB\n"
     ]
    }
   ],
   "source": [
    "# Check formatting\n",
    "df_trust.info()"
   ]
  },
  {
   "cell_type": "code",
   "execution_count": 43,
   "metadata": {
    "colab": {
     "base_uri": "https://localhost:8080/"
    },
    "executionInfo": {
     "elapsed": 78,
     "status": "ok",
     "timestamp": 1638464206586,
     "user": {
      "displayName": "Virginie Boirel",
      "photoUrl": "https://lh3.googleusercontent.com/a/default-user=s64",
      "userId": "09734304838834625501"
     },
     "user_tz": -60
    },
    "id": "VjmO7cjuPSvU",
    "outputId": "1d40b5c5-b589-4ed1-b571-4a6fa744a2c1"
   },
   "outputs": [
    {
     "data": {
      "text/plain": [
       "0       1\n",
       "1       1\n",
       "3       2\n",
       "4       2\n",
       "5       5\n",
       "       ..\n",
       "1454    4\n",
       "1461    5\n",
       "1464    5\n",
       "1465    5\n",
       "1467    5\n",
       "Name: rating, Length: 1120, dtype: int64"
      ]
     },
     "execution_count": 43,
     "metadata": {},
     "output_type": "execute_result"
    }
   ],
   "source": [
    "# Formatting rating\n",
    "df_trust['rating'].astype(int)"
   ]
  },
  {
   "cell_type": "code",
   "execution_count": 44,
   "metadata": {
    "colab": {
     "base_uri": "https://localhost:8080/"
    },
    "executionInfo": {
     "elapsed": 348,
     "status": "ok",
     "timestamp": 1638464215031,
     "user": {
      "displayName": "Virginie Boirel",
      "photoUrl": "https://lh3.googleusercontent.com/a/default-user=s64",
      "userId": "09734304838834625501"
     },
     "user_tz": -60
    },
    "id": "0Fg7W8oxPS6Z",
    "outputId": "795bc2ae-f3f6-4971-81e1-7df3df9b7bcc"
   },
   "outputs": [
    {
     "name": "stdout",
     "output_type": "stream",
     "text": [
      "<class 'pandas.core.frame.DataFrame'>\n",
      "Int64Index: 1120 entries, 0 to 1467\n",
      "Data columns (total 4 columns):\n",
      " #   Column          Non-Null Count  Dtype         \n",
      "---  ------          --------------  -----         \n",
      " 0   review_content  1120 non-null   object        \n",
      " 1   rating          1120 non-null   object        \n",
      " 2   date            1120 non-null   datetime64[ns]\n",
      " 3   source          1120 non-null   object        \n",
      "dtypes: datetime64[ns](1), object(3)\n",
      "memory usage: 43.8+ KB\n"
     ]
    }
   ],
   "source": [
    "# Check new format\n",
    "df_trust.info()"
   ]
  },
  {
   "cell_type": "code",
   "execution_count": 45,
   "metadata": {
    "colab": {
     "base_uri": "https://localhost:8080/"
    },
    "executionInfo": {
     "elapsed": 553,
     "status": "ok",
     "timestamp": 1638464219521,
     "user": {
      "displayName": "Virginie Boirel",
      "photoUrl": "https://lh3.googleusercontent.com/a/default-user=s64",
      "userId": "09734304838834625501"
     },
     "user_tz": -60
    },
    "id": "mIee1mbM_Ire",
    "outputId": "46e8e4cc-016b-43af-9a05-1a96ac9a77d4"
   },
   "outputs": [
    {
     "data": {
      "text/plain": [
       "review_content    0\n",
       "rating            0\n",
       "date              0\n",
       "source            0\n",
       "dtype: int64"
      ]
     },
     "execution_count": 45,
     "metadata": {},
     "output_type": "execute_result"
    }
   ],
   "source": [
    "# Checking ISNA\n",
    "df_trust.isna().sum()"
   ]
  },
  {
   "cell_type": "code",
   "execution_count": 46,
   "metadata": {
    "colab": {
     "base_uri": "https://localhost:8080/"
    },
    "executionInfo": {
     "elapsed": 41,
     "status": "ok",
     "timestamp": 1638464221676,
     "user": {
      "displayName": "Virginie Boirel",
      "photoUrl": "https://lh3.googleusercontent.com/a/default-user=s64",
      "userId": "09734304838834625501"
     },
     "user_tz": -60
    },
    "id": "rRqiMqls_Ivl",
    "outputId": "df4de90b-9a35-42f2-f5fd-a9b3d34ab66f"
   },
   "outputs": [
    {
     "data": {
      "text/plain": [
       "0"
      ]
     },
     "execution_count": 46,
     "metadata": {},
     "output_type": "execute_result"
    }
   ],
   "source": [
    "# Checking duplicates \n",
    "df_trust.duplicated().sum()"
   ]
  },
  {
   "cell_type": "markdown",
   "metadata": {
    "id": "soMp90FRA9gp"
   },
   "source": [
    "## **4. Concatenation**"
   ]
  },
  {
   "cell_type": "code",
   "execution_count": 70,
   "metadata": {
    "colab": {
     "base_uri": "https://localhost:8080/",
     "height": 206
    },
    "executionInfo": {
     "elapsed": 390,
     "status": "ok",
     "timestamp": 1638465382509,
     "user": {
      "displayName": "Virginie Boirel",
      "photoUrl": "https://lh3.googleusercontent.com/a/default-user=s64",
      "userId": "09734304838834625501"
     },
     "user_tz": -60
    },
    "id": "Y92LHsOEGIM8",
    "outputId": "ff24c089-96e5-441b-be22-e90bbc6e6c92"
   },
   "outputs": [
    {
     "data": {
      "text/html": [
       "<div>\n",
       "<style scoped>\n",
       "    .dataframe tbody tr th:only-of-type {\n",
       "        vertical-align: middle;\n",
       "    }\n",
       "\n",
       "    .dataframe tbody tr th {\n",
       "        vertical-align: top;\n",
       "    }\n",
       "\n",
       "    .dataframe thead th {\n",
       "        text-align: right;\n",
       "    }\n",
       "</style>\n",
       "<table border=\"1\" class=\"dataframe\">\n",
       "  <thead>\n",
       "    <tr style=\"text-align: right;\">\n",
       "      <th></th>\n",
       "      <th>review_content</th>\n",
       "      <th>rating</th>\n",
       "      <th>date</th>\n",
       "      <th>source</th>\n",
       "    </tr>\n",
       "  </thead>\n",
       "  <tbody>\n",
       "    <tr>\n",
       "      <th>0</th>\n",
       "      <td>It does exactly what it says it does efficient...</td>\n",
       "      <td>5</td>\n",
       "      <td>2021-12-11 08:03:30</td>\n",
       "      <td>Google</td>\n",
       "    </tr>\n",
       "    <tr>\n",
       "      <th>1</th>\n",
       "      <td>Well, I've only done 2 different vendors. The ...</td>\n",
       "      <td>4</td>\n",
       "      <td>2021-12-11 04:56:39</td>\n",
       "      <td>Google</td>\n",
       "    </tr>\n",
       "    <tr>\n",
       "      <th>2</th>\n",
       "      <td>Still in my first week. And I'm looking forwar...</td>\n",
       "      <td>5</td>\n",
       "      <td>2021-12-11 03:23:46</td>\n",
       "      <td>Google</td>\n",
       "    </tr>\n",
       "    <tr>\n",
       "      <th>3</th>\n",
       "      <td>loving the app.</td>\n",
       "      <td>5</td>\n",
       "      <td>2021-12-10 22:52:33</td>\n",
       "      <td>Google</td>\n",
       "    </tr>\n",
       "    <tr>\n",
       "      <th>4</th>\n",
       "      <td>AT FIRST: 1) Lovely experience. charming staff...</td>\n",
       "      <td>2</td>\n",
       "      <td>2021-12-10 22:22:27</td>\n",
       "      <td>Google</td>\n",
       "    </tr>\n",
       "  </tbody>\n",
       "</table>\n",
       "</div>"
      ],
      "text/plain": [
       "                                      review_content rating  \\\n",
       "0  It does exactly what it says it does efficient...      5   \n",
       "1  Well, I've only done 2 different vendors. The ...      4   \n",
       "2  Still in my first week. And I'm looking forwar...      5   \n",
       "3                                    loving the app.      5   \n",
       "4  AT FIRST: 1) Lovely experience. charming staff...      2   \n",
       "\n",
       "                 date  source  \n",
       "0 2021-12-11 08:03:30  Google  \n",
       "1 2021-12-11 04:56:39  Google  \n",
       "2 2021-12-11 03:23:46  Google  \n",
       "3 2021-12-10 22:52:33  Google  \n",
       "4 2021-12-10 22:22:27  Google  "
      ]
     },
     "execution_count": 70,
     "metadata": {},
     "output_type": "execute_result"
    }
   ],
   "source": [
    "df = pd.concat([df_google, df_apple, df_trust], axis=0)\n",
    "df.head(5)"
   ]
  },
  {
   "cell_type": "code",
   "execution_count": 71,
   "metadata": {
    "colab": {
     "base_uri": "https://localhost:8080/"
    },
    "executionInfo": {
     "elapsed": 320,
     "status": "ok",
     "timestamp": 1638465394794,
     "user": {
      "displayName": "Virginie Boirel",
      "photoUrl": "https://lh3.googleusercontent.com/a/default-user=s64",
      "userId": "09734304838834625501"
     },
     "user_tz": -60
    },
    "id": "VH0TjfGdJboL",
    "outputId": "559aa02c-3bb1-464c-a018-59506b9d5628"
   },
   "outputs": [
    {
     "data": {
      "text/plain": [
       "(22968, 4)"
      ]
     },
     "execution_count": 71,
     "metadata": {},
     "output_type": "execute_result"
    }
   ],
   "source": [
    "df.shape"
   ]
  },
  {
   "cell_type": "code",
   "execution_count": 72,
   "metadata": {},
   "outputs": [],
   "source": [
    "# formatting rating\n",
    "df['rating'] = df['rating'].astype(int)"
   ]
  },
  {
   "cell_type": "code",
   "execution_count": 73,
   "metadata": {},
   "outputs": [],
   "source": [
    "# formatting date => to remove day\n",
    "df['date'] = df['date'].dt.strftime('%Y-%m')"
   ]
  },
  {
   "cell_type": "code",
   "execution_count": 74,
   "metadata": {},
   "outputs": [
    {
     "name": "stdout",
     "output_type": "stream",
     "text": [
      "<class 'pandas.core.frame.DataFrame'>\n",
      "Int64Index: 22968 entries, 0 to 1467\n",
      "Data columns (total 4 columns):\n",
      " #   Column          Non-Null Count  Dtype \n",
      "---  ------          --------------  ----- \n",
      " 0   review_content  22968 non-null  object\n",
      " 1   rating          22968 non-null  int64 \n",
      " 2   date            22968 non-null  object\n",
      " 3   source          22968 non-null  object\n",
      "dtypes: int64(1), object(3)\n",
      "memory usage: 897.2+ KB\n"
     ]
    }
   ],
   "source": [
    "# checking format\n",
    "df.info()"
   ]
  },
  {
   "cell_type": "code",
   "execution_count": 75,
   "metadata": {},
   "outputs": [],
   "source": [
    "# formatting date\n",
    "df['date'] = pd.to_datetime(df['date'], format='%Y-%m')"
   ]
  },
  {
   "cell_type": "code",
   "execution_count": 76,
   "metadata": {},
   "outputs": [
    {
     "name": "stdout",
     "output_type": "stream",
     "text": [
      "<class 'pandas.core.frame.DataFrame'>\n",
      "Int64Index: 22968 entries, 0 to 1467\n",
      "Data columns (total 4 columns):\n",
      " #   Column          Non-Null Count  Dtype         \n",
      "---  ------          --------------  -----         \n",
      " 0   review_content  22968 non-null  object        \n",
      " 1   rating          22968 non-null  int64         \n",
      " 2   date            22968 non-null  datetime64[ns]\n",
      " 3   source          22968 non-null  object        \n",
      "dtypes: datetime64[ns](1), int64(1), object(2)\n",
      "memory usage: 897.2+ KB\n"
     ]
    }
   ],
   "source": [
    "# checking format\n",
    "df.info()"
   ]
  },
  {
   "cell_type": "code",
   "execution_count": 77,
   "metadata": {},
   "outputs": [],
   "source": [
    "# Storing data in pickle format\n",
    "df.to_pickle('reviews_tgtg_v0.pkl')"
   ]
  },
  {
   "cell_type": "markdown",
   "metadata": {},
   "source": [
    "## Step 2: Twitter dataset"
   ]
  },
  {
   "cell_type": "code",
   "execution_count": null,
   "metadata": {},
   "outputs": [],
   "source": [
    "# Creating list to append tweet data to\n",
    "tweets_list = []\n",
    "\n",
    "# Using TwitterSearchScraper to scrape data and append tweets to list\n",
    "for i,tweet in enumerate(sntwitter.TwitterSearchScraper('#TooGoodToGo since:2021-01-01 until:2021-12-11 lang:en').get_items()):\n",
    "    if i>5000:\n",
    "        break\n",
    "    tweets_list.append([tweet.date, tweet.id, tweet.content, tweet.username])\n",
    "    \n",
    "# Creating a dataframe from the tweets list above\n",
    "tweets_df = pd.DataFrame(tweets_list, columns=['Datetime', 'Tweet Id', 'Text', 'Username'])"
   ]
  },
  {
   "cell_type": "code",
   "execution_count": null,
   "metadata": {},
   "outputs": [],
   "source": [
    "tweets_df"
   ]
  },
  {
   "cell_type": "code",
   "execution_count": null,
   "metadata": {},
   "outputs": [],
   "source": [
    "tweets_df.to_pickle('tweets2021tgtg.pkl')"
   ]
  }
 ],
 "metadata": {
  "colab": {
   "name": "Step1_Extraction_Concatenation.ipynb",
   "provenance": []
  },
  "kernelspec": {
   "display_name": "Python 3 (ipykernel)",
   "language": "python",
   "name": "python3"
  },
  "language_info": {
   "codemirror_mode": {
    "name": "ipython",
    "version": 3
   },
   "file_extension": ".py",
   "mimetype": "text/x-python",
   "name": "python",
   "nbconvert_exporter": "python",
   "pygments_lexer": "ipython3",
   "version": "3.9.7"
  }
 },
 "nbformat": 4,
 "nbformat_minor": 4
}
