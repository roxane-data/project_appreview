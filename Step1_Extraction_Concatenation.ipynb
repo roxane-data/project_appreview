{
 "cells": [
  {
   "cell_type": "markdown",
   "metadata": {
    "id": "pJAw-bBretUY"
   },
   "source": [
    "pip install google-play-scraper AND \n",
    "pip install app_store_scraper"
   ]
  },
  {
   "cell_type": "markdown",
   "metadata": {
    "id": "ky9Kv-ROSt4d"
   },
   "source": [
    "# Data extraction"
   ]
  },
  {
   "cell_type": "markdown",
   "metadata": {
    "id": "NQfbPaPi9nRX"
   },
   "source": [
    "Retrieving data from the 3 main feedback platforms :\n",
    "\n",
    "    Google Play\n",
    "    Apple Store\n",
    "    Trustpilot\n",
    "\n",
    "Then storing of the reviews of each platform into 1 csv doc.\n",
    "\n",
    "Installation of pip install google-play-scraper to scrap app reviews"
   ]
  },
  {
   "cell_type": "code",
   "execution_count": null,
   "metadata": {
    "colab": {
     "base_uri": "https://localhost:8080/"
    },
    "executionInfo": {
     "elapsed": 8413,
     "status": "ok",
     "timestamp": 1639213958164,
     "user": {
      "displayName": "Roxane Ajavon",
      "photoUrl": "https://lh3.googleusercontent.com/a/default-user=s64",
      "userId": "10325748363259226548"
     },
     "user_tz": -60
    },
    "id": "AfTubAQX5zTm",
    "outputId": "ff3b2171-3706-4919-dd25-7d7f5b0b03c7"
   },
   "outputs": [
    {
     "name": "stdout",
     "output_type": "stream",
     "text": [
      "Collecting google-play-scraper\n",
      "  Downloading google-play-scraper-1.0.2.tar.gz (52 kB)\n",
      "\u001b[?25l\r",
      "\u001b[K     |██████▏                         | 10 kB 8.3 MB/s eta 0:00:01\r",
      "\u001b[K     |████████████▍                   | 20 kB 9.7 MB/s eta 0:00:01\r",
      "\u001b[K     |██████████████████▋             | 30 kB 10.9 MB/s eta 0:00:01\r",
      "\u001b[K     |████████████████████████▉       | 40 kB 13.4 MB/s eta 0:00:01\r",
      "\u001b[K     |███████████████████████████████ | 51 kB 15.9 MB/s eta 0:00:01\r",
      "\u001b[K     |████████████████████████████████| 52 kB 622 kB/s \n",
      "\u001b[?25hBuilding wheels for collected packages: google-play-scraper\n",
      "  Building wheel for google-play-scraper (setup.py) ... \u001b[?25l\u001b[?25hdone\n",
      "  Created wheel for google-play-scraper: filename=google_play_scraper-1.0.2-py3-none-any.whl size=24393 sha256=d5f8c4d483b1f45f160256e72227922496332089d7cde526ac077f05c5d58144\n",
      "  Stored in directory: /root/.cache/pip/wheels/98/99/eb/bbb9d24a5c526980647efc10336eaaeffcf07749f581111128\n",
      "Successfully built google-play-scraper\n",
      "Installing collected packages: google-play-scraper\n",
      "Successfully installed google-play-scraper-1.0.2\n",
      "Collecting app_store_scraper\n",
      "  Downloading app_store_scraper-0.3.5-py3-none-any.whl (8.3 kB)\n",
      "Requirement already satisfied: requests==2.23.0 in /usr/local/lib/python3.7/dist-packages (from app_store_scraper) (2.23.0)\n",
      "Requirement already satisfied: certifi>=2017.4.17 in /usr/local/lib/python3.7/dist-packages (from requests==2.23.0->app_store_scraper) (2021.10.8)\n",
      "Requirement already satisfied: chardet<4,>=3.0.2 in /usr/local/lib/python3.7/dist-packages (from requests==2.23.0->app_store_scraper) (3.0.4)\n",
      "Requirement already satisfied: idna<3,>=2.5 in /usr/local/lib/python3.7/dist-packages (from requests==2.23.0->app_store_scraper) (2.10)\n",
      "Requirement already satisfied: urllib3!=1.25.0,!=1.25.1,<1.26,>=1.21.1 in /usr/local/lib/python3.7/dist-packages (from requests==2.23.0->app_store_scraper) (1.24.3)\n",
      "Installing collected packages: app-store-scraper\n",
      "Successfully installed app-store-scraper-0.3.5\n"
     ]
    }
   ],
   "source": [
    "!pip install google-play-scraper\n",
    "!pip install app_store_scraper"
   ]
  },
  {
   "cell_type": "code",
   "execution_count": null,
   "metadata": {
    "id": "qEIEDtMC9oiZ"
   },
   "outputs": [],
   "source": [
    "# Import relevant libraries and packages\n",
    "import pandas as pd\n",
    "import numpy as np\n",
    "import pickle\n",
    "\n",
    "import requests\n",
    "from bs4 import BeautifulSoup\n",
    "import json\n",
    "\n",
    "from google_play_scraper import app\n",
    "from app_store_scraper import AppStore"
   ]
  },
  {
   "cell_type": "markdown",
   "metadata": {
    "id": "4rPDdf6F93mP"
   },
   "source": [
    "**1. Google Play**\n",
    "\n",
    "google app id => \"com.app.tgtg\""
   ]
  },
  {
   "cell_type": "code",
   "execution_count": null,
   "metadata": {
    "id": "ZPu-n8Nj9pQI"
   },
   "outputs": [],
   "source": [
    "# Retrieving app reviews from google play \n",
    "from google_play_scraper import Sort, reviews_all\n",
    "\n",
    "reviews_g = reviews_all(\n",
    "    'com.app.tgtg',\n",
    "    sleep_milliseconds=0, # defaults to 0\n",
    "    lang='en', # defaults to 'en'\n",
    "    country='uk', # 'uk'\n",
    "    sort=Sort.NEWEST, # since default is to Sort.MOST_RELEVANT\n",
    ")"
   ]
  },
  {
   "cell_type": "code",
   "execution_count": null,
   "metadata": {
    "colab": {
     "base_uri": "https://localhost:8080/",
     "height": 556
    },
    "executionInfo": {
     "elapsed": 226,
     "status": "ok",
     "timestamp": 1639214305245,
     "user": {
      "displayName": "Roxane Ajavon",
      "photoUrl": "https://lh3.googleusercontent.com/a/default-user=s64",
      "userId": "10325748363259226548"
     },
     "user_tz": -60
    },
    "id": "sesNfdyx96Z7",
    "outputId": "ede42046-a8be-47c5-da7d-f8f3187e3c57"
   },
   "outputs": [
    {
     "data": {
      "text/html": [
       "<div>\n",
       "<style scoped>\n",
       "    .dataframe tbody tr th:only-of-type {\n",
       "        vertical-align: middle;\n",
       "    }\n",
       "\n",
       "    .dataframe tbody tr th {\n",
       "        vertical-align: top;\n",
       "    }\n",
       "\n",
       "    .dataframe thead th {\n",
       "        text-align: right;\n",
       "    }\n",
       "</style>\n",
       "<table border=\"1\" class=\"dataframe\">\n",
       "  <thead>\n",
       "    <tr style=\"text-align: right;\">\n",
       "      <th></th>\n",
       "      <th>reviewId</th>\n",
       "      <th>userName</th>\n",
       "      <th>userImage</th>\n",
       "      <th>content</th>\n",
       "      <th>score</th>\n",
       "      <th>thumbsUpCount</th>\n",
       "      <th>reviewCreatedVersion</th>\n",
       "      <th>at</th>\n",
       "      <th>replyContent</th>\n",
       "      <th>repliedAt</th>\n",
       "    </tr>\n",
       "  </thead>\n",
       "  <tbody>\n",
       "    <tr>\n",
       "      <th>0</th>\n",
       "      <td>gp:AOqpTOHKjUjEAjZuuQvBSTb_0-c7LG--AdBELjURUU_...</td>\n",
       "      <td>Why in the world am I allowed such a long user...</td>\n",
       "      <td>https://play-lh.googleusercontent.com/a/AATXAJ...</td>\n",
       "      <td>It does exactly what it says it does efficient...</td>\n",
       "      <td>5</td>\n",
       "      <td>0</td>\n",
       "      <td>21.11.1</td>\n",
       "      <td>2021-12-11 08:03:30</td>\n",
       "      <td>None</td>\n",
       "      <td>NaT</td>\n",
       "    </tr>\n",
       "    <tr>\n",
       "      <th>1</th>\n",
       "      <td>gp:AOqpTOGcsoUhTFPKgN8WPsk_Tdd2vRlvTzkSXNBDiZI...</td>\n",
       "      <td>cathyhammer</td>\n",
       "      <td>https://play-lh.googleusercontent.com/a-/AOh14...</td>\n",
       "      <td>Well, I've only done 2 different vendors. The ...</td>\n",
       "      <td>4</td>\n",
       "      <td>0</td>\n",
       "      <td>21.11.1</td>\n",
       "      <td>2021-12-11 04:56:39</td>\n",
       "      <td>None</td>\n",
       "      <td>NaT</td>\n",
       "    </tr>\n",
       "    <tr>\n",
       "      <th>2</th>\n",
       "      <td>gp:AOqpTOHPLWFKIrKg2pszn9ry43bgMQh_PxeAOGXFNsx...</td>\n",
       "      <td>Carl Sager</td>\n",
       "      <td>https://play-lh.googleusercontent.com/a-/AOh14...</td>\n",
       "      <td>Still in my first week. And I'm looking forwar...</td>\n",
       "      <td>5</td>\n",
       "      <td>0</td>\n",
       "      <td>21.11.1</td>\n",
       "      <td>2021-12-11 03:23:46</td>\n",
       "      <td>None</td>\n",
       "      <td>NaT</td>\n",
       "    </tr>\n",
       "    <tr>\n",
       "      <th>3</th>\n",
       "      <td>gp:AOqpTOFVAXjBTnAAHreROAhOFymJyRmKQ8GIYysY6N_...</td>\n",
       "      <td>LDJCR7</td>\n",
       "      <td>https://play-lh.googleusercontent.com/a-/AOh14...</td>\n",
       "      <td>loving the app.</td>\n",
       "      <td>5</td>\n",
       "      <td>0</td>\n",
       "      <td>21.11.1</td>\n",
       "      <td>2021-12-10 22:52:33</td>\n",
       "      <td>None</td>\n",
       "      <td>NaT</td>\n",
       "    </tr>\n",
       "    <tr>\n",
       "      <th>4</th>\n",
       "      <td>gp:AOqpTOGn2A6aX-KdnukiV7VKjuHDKRp4RvVLhGxyPd-...</td>\n",
       "      <td>Rosalinda Martin</td>\n",
       "      <td>https://play-lh.googleusercontent.com/a/AATXAJ...</td>\n",
       "      <td>AT FIRST: 1) Lovely experience. charming staff...</td>\n",
       "      <td>2</td>\n",
       "      <td>1</td>\n",
       "      <td>21.11.1</td>\n",
       "      <td>2021-12-10 22:22:27</td>\n",
       "      <td>None</td>\n",
       "      <td>NaT</td>\n",
       "    </tr>\n",
       "  </tbody>\n",
       "</table>\n",
       "</div>"
      ],
      "text/plain": [
       "                                            reviewId  ... repliedAt\n",
       "0  gp:AOqpTOHKjUjEAjZuuQvBSTb_0-c7LG--AdBELjURUU_...  ...       NaT\n",
       "1  gp:AOqpTOGcsoUhTFPKgN8WPsk_Tdd2vRlvTzkSXNBDiZI...  ...       NaT\n",
       "2  gp:AOqpTOHPLWFKIrKg2pszn9ry43bgMQh_PxeAOGXFNsx...  ...       NaT\n",
       "3  gp:AOqpTOFVAXjBTnAAHreROAhOFymJyRmKQ8GIYysY6N_...  ...       NaT\n",
       "4  gp:AOqpTOGn2A6aX-KdnukiV7VKjuHDKRp4RvVLhGxyPd-...  ...       NaT\n",
       "\n",
       "[5 rows x 10 columns]"
      ]
     },
     "execution_count": 7,
     "metadata": {},
     "output_type": "execute_result"
    }
   ],
   "source": [
    "# Converting reviews in pandas dataframe\n",
    "df_google = pd.DataFrame(np.array(reviews_g),columns=['review'])\n",
    "df_google = df_google.join(pd.DataFrame(df_google.pop('review').tolist()))\n",
    "df_google.head()"
   ]
  },
  {
   "cell_type": "code",
   "execution_count": null,
   "metadata": {
    "id": "vXhVEjvFIK7D"
   },
   "outputs": [],
   "source": [
    "# Storing raw data in pickle format\n",
    "df_google.to_pickle('GooglePlayReview_TooGoodToGo.pkl')"
   ]
  },
  {
   "cell_type": "code",
   "execution_count": null,
   "metadata": {
    "colab": {
     "base_uri": "https://localhost:8080/",
     "height": 556
    },
    "executionInfo": {
     "elapsed": 193,
     "status": "ok",
     "timestamp": 1639214456405,
     "user": {
      "displayName": "Roxane Ajavon",
      "photoUrl": "https://lh3.googleusercontent.com/a/default-user=s64",
      "userId": "10325748363259226548"
     },
     "user_tz": -60
    },
    "id": "cuytdYtvIxcA",
    "outputId": "c0f1878e-fb1c-4e11-be7f-3cf65fea5b0c"
   },
   "outputs": [
    {
     "data": {
      "text/html": [
       "<div>\n",
       "<style scoped>\n",
       "    .dataframe tbody tr th:only-of-type {\n",
       "        vertical-align: middle;\n",
       "    }\n",
       "\n",
       "    .dataframe tbody tr th {\n",
       "        vertical-align: top;\n",
       "    }\n",
       "\n",
       "    .dataframe thead th {\n",
       "        text-align: right;\n",
       "    }\n",
       "</style>\n",
       "<table border=\"1\" class=\"dataframe\">\n",
       "  <thead>\n",
       "    <tr style=\"text-align: right;\">\n",
       "      <th></th>\n",
       "      <th>reviewId</th>\n",
       "      <th>userName</th>\n",
       "      <th>userImage</th>\n",
       "      <th>content</th>\n",
       "      <th>score</th>\n",
       "      <th>thumbsUpCount</th>\n",
       "      <th>reviewCreatedVersion</th>\n",
       "      <th>at</th>\n",
       "      <th>replyContent</th>\n",
       "      <th>repliedAt</th>\n",
       "    </tr>\n",
       "  </thead>\n",
       "  <tbody>\n",
       "    <tr>\n",
       "      <th>0</th>\n",
       "      <td>gp:AOqpTOHKjUjEAjZuuQvBSTb_0-c7LG--AdBELjURUU_...</td>\n",
       "      <td>Why in the world am I allowed such a long user...</td>\n",
       "      <td>https://play-lh.googleusercontent.com/a/AATXAJ...</td>\n",
       "      <td>It does exactly what it says it does efficient...</td>\n",
       "      <td>5</td>\n",
       "      <td>0</td>\n",
       "      <td>21.11.1</td>\n",
       "      <td>2021-12-11 08:03:30</td>\n",
       "      <td>None</td>\n",
       "      <td>NaT</td>\n",
       "    </tr>\n",
       "    <tr>\n",
       "      <th>1</th>\n",
       "      <td>gp:AOqpTOGcsoUhTFPKgN8WPsk_Tdd2vRlvTzkSXNBDiZI...</td>\n",
       "      <td>cathyhammer</td>\n",
       "      <td>https://play-lh.googleusercontent.com/a-/AOh14...</td>\n",
       "      <td>Well, I've only done 2 different vendors. The ...</td>\n",
       "      <td>4</td>\n",
       "      <td>0</td>\n",
       "      <td>21.11.1</td>\n",
       "      <td>2021-12-11 04:56:39</td>\n",
       "      <td>None</td>\n",
       "      <td>NaT</td>\n",
       "    </tr>\n",
       "    <tr>\n",
       "      <th>2</th>\n",
       "      <td>gp:AOqpTOHPLWFKIrKg2pszn9ry43bgMQh_PxeAOGXFNsx...</td>\n",
       "      <td>Carl Sager</td>\n",
       "      <td>https://play-lh.googleusercontent.com/a-/AOh14...</td>\n",
       "      <td>Still in my first week. And I'm looking forwar...</td>\n",
       "      <td>5</td>\n",
       "      <td>0</td>\n",
       "      <td>21.11.1</td>\n",
       "      <td>2021-12-11 03:23:46</td>\n",
       "      <td>None</td>\n",
       "      <td>NaT</td>\n",
       "    </tr>\n",
       "    <tr>\n",
       "      <th>3</th>\n",
       "      <td>gp:AOqpTOFVAXjBTnAAHreROAhOFymJyRmKQ8GIYysY6N_...</td>\n",
       "      <td>LDJCR7</td>\n",
       "      <td>https://play-lh.googleusercontent.com/a-/AOh14...</td>\n",
       "      <td>loving the app.</td>\n",
       "      <td>5</td>\n",
       "      <td>0</td>\n",
       "      <td>21.11.1</td>\n",
       "      <td>2021-12-10 22:52:33</td>\n",
       "      <td>None</td>\n",
       "      <td>NaT</td>\n",
       "    </tr>\n",
       "    <tr>\n",
       "      <th>4</th>\n",
       "      <td>gp:AOqpTOGn2A6aX-KdnukiV7VKjuHDKRp4RvVLhGxyPd-...</td>\n",
       "      <td>Rosalinda Martin</td>\n",
       "      <td>https://play-lh.googleusercontent.com/a/AATXAJ...</td>\n",
       "      <td>AT FIRST: 1) Lovely experience. charming staff...</td>\n",
       "      <td>2</td>\n",
       "      <td>1</td>\n",
       "      <td>21.11.1</td>\n",
       "      <td>2021-12-10 22:22:27</td>\n",
       "      <td>None</td>\n",
       "      <td>NaT</td>\n",
       "    </tr>\n",
       "  </tbody>\n",
       "</table>\n",
       "</div>"
      ],
      "text/plain": [
       "                                            reviewId  ... repliedAt\n",
       "0  gp:AOqpTOHKjUjEAjZuuQvBSTb_0-c7LG--AdBELjURUU_...  ...       NaT\n",
       "1  gp:AOqpTOGcsoUhTFPKgN8WPsk_Tdd2vRlvTzkSXNBDiZI...  ...       NaT\n",
       "2  gp:AOqpTOHPLWFKIrKg2pszn9ry43bgMQh_PxeAOGXFNsx...  ...       NaT\n",
       "3  gp:AOqpTOFVAXjBTnAAHreROAhOFymJyRmKQ8GIYysY6N_...  ...       NaT\n",
       "4  gp:AOqpTOGn2A6aX-KdnukiV7VKjuHDKRp4RvVLhGxyPd-...  ...       NaT\n",
       "\n",
       "[5 rows x 10 columns]"
      ]
     },
     "execution_count": 9,
     "metadata": {},
     "output_type": "execute_result"
    }
   ],
   "source": [
    "# Importing doc back to standardize it into workable format\n",
    "df_google = \"/content/GooglePlayReview_TooGoodToGo.pkl\" #path to be written\n",
    "\n",
    "with open(df_google, 'rb') as f:\n",
    "  df_google = pickle.load(f)\n",
    "\n",
    "df_google.head(5)"
   ]
  },
  {
   "cell_type": "code",
   "execution_count": null,
   "metadata": {
    "colab": {
     "base_uri": "https://localhost:8080/"
    },
    "executionInfo": {
     "elapsed": 185,
     "status": "ok",
     "timestamp": 1639214464149,
     "user": {
      "displayName": "Roxane Ajavon",
      "photoUrl": "https://lh3.googleusercontent.com/a/default-user=s64",
      "userId": "10325748363259226548"
     },
     "user_tz": -60
    },
    "id": "7h5PgI45-DNu",
    "outputId": "f0d2a492-c15b-4b0e-dc61-b1a61b0f3524"
   },
   "outputs": [
    {
     "data": {
      "text/plain": [
       "(19848, 10)"
      ]
     },
     "execution_count": 10,
     "metadata": {},
     "output_type": "execute_result"
    }
   ],
   "source": [
    "df_google.shape"
   ]
  },
  {
   "cell_type": "code",
   "execution_count": null,
   "metadata": {
    "id": "WnI_X6bdCiul"
   },
   "outputs": [],
   "source": [
    "# Dropping unnecessary columns\n",
    "df_google = df_google.drop(columns=['reviewId','userName', 'userImage', 'thumbsUpCount', 'reviewCreatedVersion','replyContent','repliedAt'])"
   ]
  },
  {
   "cell_type": "code",
   "execution_count": null,
   "metadata": {
    "colab": {
     "base_uri": "https://localhost:8080/",
     "height": 206
    },
    "executionInfo": {
     "elapsed": 262,
     "status": "ok",
     "timestamp": 1638461906756,
     "user": {
      "displayName": "Virginie Boirel",
      "photoUrl": "https://lh3.googleusercontent.com/a/default-user=s64",
      "userId": "09734304838834625501"
     },
     "user_tz": -60
    },
    "id": "-hhayAKJFCJY",
    "outputId": "fc325b3b-c97a-4256-e4e1-676bce28cd94"
   },
   "outputs": [
    {
     "data": {
      "text/html": [
       "<div>\n",
       "<style scoped>\n",
       "    .dataframe tbody tr th:only-of-type {\n",
       "        vertical-align: middle;\n",
       "    }\n",
       "\n",
       "    .dataframe tbody tr th {\n",
       "        vertical-align: top;\n",
       "    }\n",
       "\n",
       "    .dataframe thead th {\n",
       "        text-align: right;\n",
       "    }\n",
       "</style>\n",
       "<table border=\"1\" class=\"dataframe\">\n",
       "  <thead>\n",
       "    <tr style=\"text-align: right;\">\n",
       "      <th></th>\n",
       "      <th>content</th>\n",
       "      <th>score</th>\n",
       "      <th>at</th>\n",
       "    </tr>\n",
       "  </thead>\n",
       "  <tbody>\n",
       "    <tr>\n",
       "      <th>0</th>\n",
       "      <td>Such short windows to buy things and to pick u...</td>\n",
       "      <td>1</td>\n",
       "      <td>2021-12-02 16:12:23</td>\n",
       "    </tr>\n",
       "    <tr>\n",
       "      <th>1</th>\n",
       "      <td>Impossible ordinare se si hanno allergie o die...</td>\n",
       "      <td>2</td>\n",
       "      <td>2021-12-02 15:28:24</td>\n",
       "    </tr>\n",
       "    <tr>\n",
       "      <th>2</th>\n",
       "      <td>Easy to order, turned up at stated time and th...</td>\n",
       "      <td>5</td>\n",
       "      <td>2021-12-02 09:24:40</td>\n",
       "    </tr>\n",
       "    <tr>\n",
       "      <th>3</th>\n",
       "      <td>This is a fantastic service for everyone, grea...</td>\n",
       "      <td>5</td>\n",
       "      <td>2021-12-02 08:06:30</td>\n",
       "    </tr>\n",
       "    <tr>\n",
       "      <th>4</th>\n",
       "      <td>I am greatly impressed with this app. I can ge...</td>\n",
       "      <td>5</td>\n",
       "      <td>2021-12-02 06:56:31</td>\n",
       "    </tr>\n",
       "  </tbody>\n",
       "</table>\n",
       "</div>"
      ],
      "text/plain": [
       "                                             content  score                  at\n",
       "0  Such short windows to buy things and to pick u...      1 2021-12-02 16:12:23\n",
       "1  Impossible ordinare se si hanno allergie o die...      2 2021-12-02 15:28:24\n",
       "2  Easy to order, turned up at stated time and th...      5 2021-12-02 09:24:40\n",
       "3  This is a fantastic service for everyone, grea...      5 2021-12-02 08:06:30\n",
       "4  I am greatly impressed with this app. I can ge...      5 2021-12-02 06:56:31"
      ]
     },
     "execution_count": 18,
     "metadata": {},
     "output_type": "execute_result"
    }
   ],
   "source": [
    "# Checking df\n",
    "df_google.head(5)"
   ]
  },
  {
   "cell_type": "code",
   "execution_count": null,
   "metadata": {
    "id": "0S_3fGolG9a1"
   },
   "outputs": [],
   "source": [
    "# Renaming columns\n",
    "df_google.columns=['review_content','rating','date']"
   ]
  },
  {
   "cell_type": "code",
   "execution_count": null,
   "metadata": {
    "id": "d5xCL9VqAX5u"
   },
   "outputs": [],
   "source": [
    "# Adding \"source\" column to put \"Google\"\n",
    "df_google['source'] = 'Google'"
   ]
  },
  {
   "cell_type": "code",
   "execution_count": null,
   "metadata": {
    "colab": {
     "base_uri": "https://localhost:8080/"
    },
    "executionInfo": {
     "elapsed": 263,
     "status": "ok",
     "timestamp": 1638461921049,
     "user": {
      "displayName": "Virginie Boirel",
      "photoUrl": "https://lh3.googleusercontent.com/a/default-user=s64",
      "userId": "09734304838834625501"
     },
     "user_tz": -60
    },
    "id": "MdftpX90OR0f",
    "outputId": "70095c6f-aed6-4c64-8eeb-14ba81c5f93d"
   },
   "outputs": [
    {
     "name": "stdout",
     "output_type": "stream",
     "text": [
      "<class 'pandas.core.frame.DataFrame'>\n",
      "RangeIndex: 19696 entries, 0 to 19695\n",
      "Data columns (total 4 columns):\n",
      " #   Column          Non-Null Count  Dtype         \n",
      "---  ------          --------------  -----         \n",
      " 0   review_content  19696 non-null  object        \n",
      " 1   rating          19696 non-null  int64         \n",
      " 2   date            19696 non-null  datetime64[ns]\n",
      " 3   source          19696 non-null  object        \n",
      "dtypes: datetime64[ns](1), int64(1), object(2)\n",
      "memory usage: 615.6+ KB\n"
     ]
    }
   ],
   "source": [
    "# Checking df\n",
    "df_google.info()"
   ]
  },
  {
   "cell_type": "code",
   "execution_count": null,
   "metadata": {
    "id": "VR1fSNynM-pF"
   },
   "outputs": [],
   "source": [
    "# Formatting date\n",
    "df_google['date'] = pd.to_datetime(df_google['date'], format='%Y-%m-%d %Hh%Mm%Ssec')"
   ]
  },
  {
   "cell_type": "code",
   "execution_count": null,
   "metadata": {
    "colab": {
     "base_uri": "https://localhost:8080/"
    },
    "executionInfo": {
     "elapsed": 25,
     "status": "ok",
     "timestamp": 1638461940539,
     "user": {
      "displayName": "Virginie Boirel",
      "photoUrl": "https://lh3.googleusercontent.com/a/default-user=s64",
      "userId": "09734304838834625501"
     },
     "user_tz": -60
    },
    "id": "7e1q_0onNFMh",
    "outputId": "2ccd0ead-7f36-45fa-a8b7-84f1c90f08e3"
   },
   "outputs": [
    {
     "name": "stdout",
     "output_type": "stream",
     "text": [
      "<class 'pandas.core.frame.DataFrame'>\n",
      "RangeIndex: 19696 entries, 0 to 19695\n",
      "Data columns (total 4 columns):\n",
      " #   Column          Non-Null Count  Dtype         \n",
      "---  ------          --------------  -----         \n",
      " 0   review_content  19696 non-null  object        \n",
      " 1   rating          19696 non-null  int64         \n",
      " 2   date            19696 non-null  datetime64[ns]\n",
      " 3   source          19696 non-null  object        \n",
      "dtypes: datetime64[ns](1), int64(1), object(2)\n",
      "memory usage: 615.6+ KB\n"
     ]
    }
   ],
   "source": [
    "# Check new format\n",
    "df_google.info()"
   ]
  },
  {
   "cell_type": "code",
   "execution_count": null,
   "metadata": {
    "colab": {
     "base_uri": "https://localhost:8080/"
    },
    "executionInfo": {
     "elapsed": 278,
     "status": "ok",
     "timestamp": 1638461946242,
     "user": {
      "displayName": "Virginie Boirel",
      "photoUrl": "https://lh3.googleusercontent.com/a/default-user=s64",
      "userId": "09734304838834625501"
     },
     "user_tz": -60
    },
    "id": "fd8_eEY3OaoZ",
    "outputId": "d851cab7-81da-455f-dd87-8c56c7936de8"
   },
   "outputs": [
    {
     "data": {
      "text/plain": [
       "0        1\n",
       "1        2\n",
       "2        5\n",
       "3        5\n",
       "4        5\n",
       "        ..\n",
       "19691    5\n",
       "19692    4\n",
       "19693    5\n",
       "19694    5\n",
       "19695    5\n",
       "Name: rating, Length: 19696, dtype: int64"
      ]
     },
     "execution_count": 25,
     "metadata": {},
     "output_type": "execute_result"
    }
   ],
   "source": [
    "# Formatting rating\n",
    "df_google['rating'].astype(int)"
   ]
  },
  {
   "cell_type": "code",
   "execution_count": null,
   "metadata": {
    "colab": {
     "base_uri": "https://localhost:8080/"
    },
    "executionInfo": {
     "elapsed": 193,
     "status": "ok",
     "timestamp": 1638461951371,
     "user": {
      "displayName": "Virginie Boirel",
      "photoUrl": "https://lh3.googleusercontent.com/a/default-user=s64",
      "userId": "09734304838834625501"
     },
     "user_tz": -60
    },
    "id": "XAEJ6R7yOdpb",
    "outputId": "9432c9e1-fd30-492d-fdd7-715c860398d1"
   },
   "outputs": [
    {
     "name": "stdout",
     "output_type": "stream",
     "text": [
      "<class 'pandas.core.frame.DataFrame'>\n",
      "RangeIndex: 19696 entries, 0 to 19695\n",
      "Data columns (total 4 columns):\n",
      " #   Column          Non-Null Count  Dtype         \n",
      "---  ------          --------------  -----         \n",
      " 0   review_content  19696 non-null  object        \n",
      " 1   rating          19696 non-null  int64         \n",
      " 2   date            19696 non-null  datetime64[ns]\n",
      " 3   source          19696 non-null  object        \n",
      "dtypes: datetime64[ns](1), int64(1), object(2)\n",
      "memory usage: 615.6+ KB\n"
     ]
    }
   ],
   "source": [
    "# Check new format\n",
    "df_google.info()"
   ]
  },
  {
   "cell_type": "markdown",
   "metadata": {
    "id": "qdQiT-uE-MUe"
   },
   "source": [
    "EDA"
   ]
  },
  {
   "cell_type": "code",
   "execution_count": null,
   "metadata": {
    "colab": {
     "base_uri": "https://localhost:8080/"
    },
    "executionInfo": {
     "elapsed": 238,
     "status": "ok",
     "timestamp": 1638461955177,
     "user": {
      "displayName": "Virginie Boirel",
      "photoUrl": "https://lh3.googleusercontent.com/a/default-user=s64",
      "userId": "09734304838834625501"
     },
     "user_tz": -60
    },
    "id": "aNzGJjAm-GXW",
    "outputId": "41f03422-2d06-41dc-e0c3-d7f982e90950"
   },
   "outputs": [
    {
     "data": {
      "text/plain": [
       "review_content    0\n",
       "rating            0\n",
       "date              0\n",
       "source            0\n",
       "dtype: int64"
      ]
     },
     "execution_count": 27,
     "metadata": {},
     "output_type": "execute_result"
    }
   ],
   "source": [
    "# Checking ISNA\n",
    "df_google.isna().sum()"
   ]
  },
  {
   "cell_type": "code",
   "execution_count": null,
   "metadata": {
    "colab": {
     "base_uri": "https://localhost:8080/"
    },
    "executionInfo": {
     "elapsed": 360,
     "status": "ok",
     "timestamp": 1638461958580,
     "user": {
      "displayName": "Virginie Boirel",
      "photoUrl": "https://lh3.googleusercontent.com/a/default-user=s64",
      "userId": "09734304838834625501"
     },
     "user_tz": -60
    },
    "id": "rXp8uQ9s-Gas",
    "outputId": "bd97a3cd-d411-4f39-8226-725dc9099217"
   },
   "outputs": [
    {
     "data": {
      "text/plain": [
       "0"
      ]
     },
     "execution_count": 28,
     "metadata": {},
     "output_type": "execute_result"
    }
   ],
   "source": [
    "# Checking duplicates \n",
    "df_google.duplicated().sum()"
   ]
  },
  {
   "cell_type": "markdown",
   "metadata": {
    "id": "_Us8ONeD-gr3"
   },
   "source": [
    "**2. Apple Store**\n",
    "\n",
    "apple store app name => too-good-to-go-end-food-waste AND its id => 1060683933"
   ]
  },
  {
   "cell_type": "code",
   "execution_count": null,
   "metadata": {
    "colab": {
     "base_uri": "https://localhost:8080/"
    },
    "executionInfo": {
     "elapsed": 19728,
     "status": "ok",
     "timestamp": 1639214854810,
     "user": {
      "displayName": "Roxane Ajavon",
      "photoUrl": "https://lh3.googleusercontent.com/a/default-user=s64",
      "userId": "10325748363259226548"
     },
     "user_tz": -60
    },
    "id": "R3RtzZmT-GiE",
    "outputId": "d19f0dc9-ac84-44e0-9cb4-2492b9423d09"
   },
   "outputs": [
    {
     "name": "stderr",
     "output_type": "stream",
     "text": [
      "2021-12-11 09:27:15,061 [INFO] Base - Initialised: AppStore('gb', 'too-good-to-go-end-food-waste', 1060683933)\n",
      "2021-12-11 09:27:15,062 [INFO] Base - Ready to fetch reviews from: https://apps.apple.com/gb/app/too-good-to-go-end-food-waste/id1060683933\n",
      "2021-12-11 09:27:34,515 [ERROR] Base - Something went wrong: HTTPSConnectionPool(host='amp-api.apps.apple.com', port=443): Max retries exceeded with url: /v1/catalog/gb/apps/1060683933/reviews?l=en-GB&offset=140&limit=20&platform=web&additionalPlatforms=appletv%2Cipad%2Ciphone%2Cmac (Caused by ResponseError('too many 429 error responses'))\n",
      "2021-12-11 09:27:34,517 [INFO] Base - [id:1060683933] Fetched 140 reviews (140 fetched in total)\n"
     ]
    }
   ],
   "source": [
    "# Retrieving app reviews from apple store\n",
    "apple_r = AppStore(country=\"gb\", app_name=\"too-good-to-go-end-food-waste\",app_id=1060683933)\n",
    "apple_r.review(how_many=10000)"
   ]
  },
  {
   "cell_type": "code",
   "execution_count": null,
   "metadata": {
    "colab": {
     "base_uri": "https://localhost:8080/",
     "height": 519
    },
    "executionInfo": {
     "elapsed": 202,
     "status": "ok",
     "timestamp": 1639214691108,
     "user": {
      "displayName": "Roxane Ajavon",
      "photoUrl": "https://lh3.googleusercontent.com/a/default-user=s64",
      "userId": "10325748363259226548"
     },
     "user_tz": -60
    },
    "id": "_J2Ae2-HihQA",
    "outputId": "0972136e-3f11-48a5-9a3f-00084356eb95"
   },
   "outputs": [
    {
     "data": {
      "text/html": [
       "<div>\n",
       "<style scoped>\n",
       "    .dataframe tbody tr th:only-of-type {\n",
       "        vertical-align: middle;\n",
       "    }\n",
       "\n",
       "    .dataframe tbody tr th {\n",
       "        vertical-align: top;\n",
       "    }\n",
       "\n",
       "    .dataframe thead th {\n",
       "        text-align: right;\n",
       "    }\n",
       "</style>\n",
       "<table border=\"1\" class=\"dataframe\">\n",
       "  <thead>\n",
       "    <tr style=\"text-align: right;\">\n",
       "      <th></th>\n",
       "      <th>title</th>\n",
       "      <th>isEdited</th>\n",
       "      <th>review</th>\n",
       "      <th>userName</th>\n",
       "      <th>date</th>\n",
       "      <th>rating</th>\n",
       "      <th>developerResponse</th>\n",
       "    </tr>\n",
       "  </thead>\n",
       "  <tbody>\n",
       "    <tr>\n",
       "      <th>0</th>\n",
       "      <td>Not that great to go more like</td>\n",
       "      <td>False</td>\n",
       "      <td>I have had this app for a while but it’s took ...</td>\n",
       "      <td>Jay shake</td>\n",
       "      <td>2021-02-27 15:09:54</td>\n",
       "      <td>5</td>\n",
       "      <td>NaN</td>\n",
       "    </tr>\n",
       "    <tr>\n",
       "      <th>1</th>\n",
       "      <td>Barley Farm - Eccles</td>\n",
       "      <td>False</td>\n",
       "      <td>This was the first time using the app. I was a...</td>\n",
       "      <td>Ck1TWO</td>\n",
       "      <td>2020-09-28 21:50:36</td>\n",
       "      <td>5</td>\n",
       "      <td>NaN</td>\n",
       "    </tr>\n",
       "    <tr>\n",
       "      <th>2</th>\n",
       "      <td>Good idea in theory, but flawed</td>\n",
       "      <td>False</td>\n",
       "      <td>Just got the app really so I don’t have much t...</td>\n",
       "      <td>AnActualPoolPlayer</td>\n",
       "      <td>2019-09-07 11:44:36</td>\n",
       "      <td>1</td>\n",
       "      <td>{'id': 10585622, 'body': 'Hi there,\n",
       "\n",
       "We're sor...</td>\n",
       "    </tr>\n",
       "    <tr>\n",
       "      <th>3</th>\n",
       "      <td>Outstanding!</td>\n",
       "      <td>False</td>\n",
       "      <td>Used the app for the first time today and was ...</td>\n",
       "      <td>Ceilidh279</td>\n",
       "      <td>2019-09-07 17:21:51</td>\n",
       "      <td>5</td>\n",
       "      <td>NaN</td>\n",
       "    </tr>\n",
       "    <tr>\n",
       "      <th>4</th>\n",
       "      <td>Mixed review</td>\n",
       "      <td>False</td>\n",
       "      <td>I like this idea, sometimes we get some great ...</td>\n",
       "      <td>mobilebob2</td>\n",
       "      <td>2021-11-04 16:43:02</td>\n",
       "      <td>5</td>\n",
       "      <td>NaN</td>\n",
       "    </tr>\n",
       "  </tbody>\n",
       "</table>\n",
       "</div>"
      ],
      "text/plain": [
       "                             title  ...                                  developerResponse\n",
       "0   Not that great to go more like  ...                                                NaN\n",
       "1             Barley Farm - Eccles  ...                                                NaN\n",
       "2  Good idea in theory, but flawed  ...  {'id': 10585622, 'body': 'Hi there,\n",
       "\n",
       "We're sor...\n",
       "3                     Outstanding!  ...                                                NaN\n",
       "4                     Mixed review  ...                                                NaN\n",
       "\n",
       "[5 rows x 7 columns]"
      ]
     },
     "execution_count": 12,
     "metadata": {},
     "output_type": "execute_result"
    }
   ],
   "source": [
    "# Converting format (JSON to Pandas Dataframe)\n",
    "apple = pd.DataFrame(np.array(apple_r.reviews),columns=['review'])\n",
    "df_apple = apple.join(pd.DataFrame(apple.pop('review').tolist()))\n",
    "df_apple.head()"
   ]
  },
  {
   "cell_type": "code",
   "execution_count": null,
   "metadata": {
    "id": "kY_Q0gUl-qI2"
   },
   "outputs": [],
   "source": [
    "# Storing raw data in pickle format\n",
    "df_apple.to_pickle('AppleStoreReview_TooGoodToGo.pkl')"
   ]
  },
  {
   "cell_type": "code",
   "execution_count": null,
   "metadata": {
    "colab": {
     "base_uri": "https://localhost:8080/",
     "height": 519
    },
    "executionInfo": {
     "elapsed": 219,
     "status": "ok",
     "timestamp": 1639214727235,
     "user": {
      "displayName": "Roxane Ajavon",
      "photoUrl": "https://lh3.googleusercontent.com/a/default-user=s64",
      "userId": "10325748363259226548"
     },
     "user_tz": -60
    },
    "id": "3H_L7bOk-qWH",
    "outputId": "5ddadd6c-eeed-4db6-8248-9486f5d8aefa"
   },
   "outputs": [
    {
     "data": {
      "text/html": [
       "<div>\n",
       "<style scoped>\n",
       "    .dataframe tbody tr th:only-of-type {\n",
       "        vertical-align: middle;\n",
       "    }\n",
       "\n",
       "    .dataframe tbody tr th {\n",
       "        vertical-align: top;\n",
       "    }\n",
       "\n",
       "    .dataframe thead th {\n",
       "        text-align: right;\n",
       "    }\n",
       "</style>\n",
       "<table border=\"1\" class=\"dataframe\">\n",
       "  <thead>\n",
       "    <tr style=\"text-align: right;\">\n",
       "      <th></th>\n",
       "      <th>title</th>\n",
       "      <th>isEdited</th>\n",
       "      <th>review</th>\n",
       "      <th>userName</th>\n",
       "      <th>date</th>\n",
       "      <th>rating</th>\n",
       "      <th>developerResponse</th>\n",
       "    </tr>\n",
       "  </thead>\n",
       "  <tbody>\n",
       "    <tr>\n",
       "      <th>0</th>\n",
       "      <td>Not that great to go more like</td>\n",
       "      <td>False</td>\n",
       "      <td>I have had this app for a while but it’s took ...</td>\n",
       "      <td>Jay shake</td>\n",
       "      <td>2021-02-27 15:09:54</td>\n",
       "      <td>5</td>\n",
       "      <td>NaN</td>\n",
       "    </tr>\n",
       "    <tr>\n",
       "      <th>1</th>\n",
       "      <td>Barley Farm - Eccles</td>\n",
       "      <td>False</td>\n",
       "      <td>This was the first time using the app. I was a...</td>\n",
       "      <td>Ck1TWO</td>\n",
       "      <td>2020-09-28 21:50:36</td>\n",
       "      <td>5</td>\n",
       "      <td>NaN</td>\n",
       "    </tr>\n",
       "    <tr>\n",
       "      <th>2</th>\n",
       "      <td>Good idea in theory, but flawed</td>\n",
       "      <td>False</td>\n",
       "      <td>Just got the app really so I don’t have much t...</td>\n",
       "      <td>AnActualPoolPlayer</td>\n",
       "      <td>2019-09-07 11:44:36</td>\n",
       "      <td>1</td>\n",
       "      <td>{'id': 10585622, 'body': 'Hi there,\n",
       "\n",
       "We're sor...</td>\n",
       "    </tr>\n",
       "    <tr>\n",
       "      <th>3</th>\n",
       "      <td>Outstanding!</td>\n",
       "      <td>False</td>\n",
       "      <td>Used the app for the first time today and was ...</td>\n",
       "      <td>Ceilidh279</td>\n",
       "      <td>2019-09-07 17:21:51</td>\n",
       "      <td>5</td>\n",
       "      <td>NaN</td>\n",
       "    </tr>\n",
       "    <tr>\n",
       "      <th>4</th>\n",
       "      <td>Mixed review</td>\n",
       "      <td>False</td>\n",
       "      <td>I like this idea, sometimes we get some great ...</td>\n",
       "      <td>mobilebob2</td>\n",
       "      <td>2021-11-04 16:43:02</td>\n",
       "      <td>5</td>\n",
       "      <td>NaN</td>\n",
       "    </tr>\n",
       "  </tbody>\n",
       "</table>\n",
       "</div>"
      ],
      "text/plain": [
       "                             title  ...                                  developerResponse\n",
       "0   Not that great to go more like  ...                                                NaN\n",
       "1             Barley Farm - Eccles  ...                                                NaN\n",
       "2  Good idea in theory, but flawed  ...  {'id': 10585622, 'body': 'Hi there,\n",
       "\n",
       "We're sor...\n",
       "3                     Outstanding!  ...                                                NaN\n",
       "4                     Mixed review  ...                                                NaN\n",
       "\n",
       "[5 rows x 7 columns]"
      ]
     },
     "execution_count": 14,
     "metadata": {},
     "output_type": "execute_result"
    }
   ],
   "source": [
    "# Importing doc back to standardize it into workable format\n",
    "df_apple = \"/content/AppleStoreReview_TooGoodToGo.pkl\" #path to be written\n",
    "\n",
    "with open(df_apple, 'rb') as f:\n",
    "  df_apple = pickle.load(f)\n",
    "\n",
    "df_apple.head(5)"
   ]
  },
  {
   "cell_type": "code",
   "execution_count": null,
   "metadata": {
    "colab": {
     "base_uri": "https://localhost:8080/"
    },
    "executionInfo": {
     "elapsed": 199,
     "status": "ok",
     "timestamp": 1639214732125,
     "user": {
      "displayName": "Roxane Ajavon",
      "photoUrl": "https://lh3.googleusercontent.com/a/default-user=s64",
      "userId": "10325748363259226548"
     },
     "user_tz": -60
    },
    "id": "uuX4_QGuKb0g",
    "outputId": "4eb7a741-bc51-4f32-a94a-c051b3c1d68d"
   },
   "outputs": [
    {
     "data": {
      "text/plain": [
       "(2000, 7)"
      ]
     },
     "execution_count": 15,
     "metadata": {},
     "output_type": "execute_result"
    }
   ],
   "source": [
    "df_apple.shape"
   ]
  },
  {
   "cell_type": "code",
   "execution_count": null,
   "metadata": {
    "id": "505JsPdL9s3j"
   },
   "outputs": [],
   "source": [
    "# to concatenate Title & review content\n",
    "df_apple['review_content'] = df_apple['title'] + ' ' + df_apple['review']"
   ]
  },
  {
   "cell_type": "code",
   "execution_count": null,
   "metadata": {
    "id": "tQOWNjkgKb4X"
   },
   "outputs": [],
   "source": [
    "# Dropping unnecessary columns\n",
    "df_apple = df_apple.drop(columns=['review','userName', 'isEdited','title','developerResponse'])"
   ]
  },
  {
   "cell_type": "code",
   "execution_count": null,
   "metadata": {
    "colab": {
     "base_uri": "https://localhost:8080/",
     "height": 206
    },
    "executionInfo": {
     "elapsed": 31,
     "status": "ok",
     "timestamp": 1638462669484,
     "user": {
      "displayName": "Virginie Boirel",
      "photoUrl": "https://lh3.googleusercontent.com/a/default-user=s64",
      "userId": "09734304838834625501"
     },
     "user_tz": -60
    },
    "id": "uxymplzt-ngl",
    "outputId": "0a170078-e1dd-4fb8-b0e7-37911f10f26a"
   },
   "outputs": [
    {
     "data": {
      "text/html": [
       "<div>\n",
       "<style scoped>\n",
       "    .dataframe tbody tr th:only-of-type {\n",
       "        vertical-align: middle;\n",
       "    }\n",
       "\n",
       "    .dataframe tbody tr th {\n",
       "        vertical-align: top;\n",
       "    }\n",
       "\n",
       "    .dataframe thead th {\n",
       "        text-align: right;\n",
       "    }\n",
       "</style>\n",
       "<table border=\"1\" class=\"dataframe\">\n",
       "  <thead>\n",
       "    <tr style=\"text-align: right;\">\n",
       "      <th></th>\n",
       "      <th>rating</th>\n",
       "      <th>date</th>\n",
       "      <th>review_content</th>\n",
       "    </tr>\n",
       "  </thead>\n",
       "  <tbody>\n",
       "    <tr>\n",
       "      <th>0</th>\n",
       "      <td>5</td>\n",
       "      <td>2021-02-27 15:09:54</td>\n",
       "      <td>Not that great to go more like I have had this...</td>\n",
       "    </tr>\n",
       "    <tr>\n",
       "      <th>1</th>\n",
       "      <td>5</td>\n",
       "      <td>2020-09-28 21:50:36</td>\n",
       "      <td>Barley Farm - Eccles This was the first time u...</td>\n",
       "    </tr>\n",
       "    <tr>\n",
       "      <th>2</th>\n",
       "      <td>1</td>\n",
       "      <td>2019-09-07 11:44:36</td>\n",
       "      <td>Good idea in theory, but flawed Just got the a...</td>\n",
       "    </tr>\n",
       "    <tr>\n",
       "      <th>3</th>\n",
       "      <td>5</td>\n",
       "      <td>2019-09-07 17:21:51</td>\n",
       "      <td>Outstanding! Used the app for the first time t...</td>\n",
       "    </tr>\n",
       "    <tr>\n",
       "      <th>4</th>\n",
       "      <td>5</td>\n",
       "      <td>2021-11-04 16:43:02</td>\n",
       "      <td>Mixed review I like this idea, sometimes we ge...</td>\n",
       "    </tr>\n",
       "  </tbody>\n",
       "</table>\n",
       "</div>"
      ],
      "text/plain": [
       "   rating  ...                                     review_content\n",
       "0       5  ...  Not that great to go more like I have had this...\n",
       "1       5  ...  Barley Farm - Eccles This was the first time u...\n",
       "2       1  ...  Good idea in theory, but flawed Just got the a...\n",
       "3       5  ...  Outstanding! Used the app for the first time t...\n",
       "4       5  ...  Mixed review I like this idea, sometimes we ge...\n",
       "\n",
       "[5 rows x 3 columns]"
      ]
     },
     "execution_count": 51,
     "metadata": {},
     "output_type": "execute_result"
    }
   ],
   "source": [
    "# Checking df\n",
    "df_apple.head(5)"
   ]
  },
  {
   "cell_type": "code",
   "execution_count": null,
   "metadata": {
    "id": "BlldX62I_kky"
   },
   "outputs": [],
   "source": [
    "# Reordering columns\n",
    "df_apple = df_apple[['review_content', 'rating', 'date']]"
   ]
  },
  {
   "cell_type": "code",
   "execution_count": null,
   "metadata": {
    "colab": {
     "base_uri": "https://localhost:8080/",
     "height": 206
    },
    "executionInfo": {
     "elapsed": 289,
     "status": "ok",
     "timestamp": 1638462898727,
     "user": {
      "displayName": "Virginie Boirel",
      "photoUrl": "https://lh3.googleusercontent.com/a/default-user=s64",
      "userId": "09734304838834625501"
     },
     "user_tz": -60
    },
    "id": "TQlLHR4oOqeg",
    "outputId": "f0297170-e5e7-4198-cf65-7d66d12d907a"
   },
   "outputs": [
    {
     "data": {
      "text/html": [
       "<div>\n",
       "<style scoped>\n",
       "    .dataframe tbody tr th:only-of-type {\n",
       "        vertical-align: middle;\n",
       "    }\n",
       "\n",
       "    .dataframe tbody tr th {\n",
       "        vertical-align: top;\n",
       "    }\n",
       "\n",
       "    .dataframe thead th {\n",
       "        text-align: right;\n",
       "    }\n",
       "</style>\n",
       "<table border=\"1\" class=\"dataframe\">\n",
       "  <thead>\n",
       "    <tr style=\"text-align: right;\">\n",
       "      <th></th>\n",
       "      <th>review_content</th>\n",
       "      <th>rating</th>\n",
       "      <th>date</th>\n",
       "    </tr>\n",
       "  </thead>\n",
       "  <tbody>\n",
       "    <tr>\n",
       "      <th>0</th>\n",
       "      <td>Not that great to go more like I have had this...</td>\n",
       "      <td>5</td>\n",
       "      <td>2021-02-27 15:09:54</td>\n",
       "    </tr>\n",
       "    <tr>\n",
       "      <th>1</th>\n",
       "      <td>Barley Farm - Eccles This was the first time u...</td>\n",
       "      <td>5</td>\n",
       "      <td>2020-09-28 21:50:36</td>\n",
       "    </tr>\n",
       "    <tr>\n",
       "      <th>2</th>\n",
       "      <td>Good idea in theory, but flawed Just got the a...</td>\n",
       "      <td>1</td>\n",
       "      <td>2019-09-07 11:44:36</td>\n",
       "    </tr>\n",
       "    <tr>\n",
       "      <th>3</th>\n",
       "      <td>Outstanding! Used the app for the first time t...</td>\n",
       "      <td>5</td>\n",
       "      <td>2019-09-07 17:21:51</td>\n",
       "    </tr>\n",
       "    <tr>\n",
       "      <th>4</th>\n",
       "      <td>Mixed review I like this idea, sometimes we ge...</td>\n",
       "      <td>5</td>\n",
       "      <td>2021-11-04 16:43:02</td>\n",
       "    </tr>\n",
       "  </tbody>\n",
       "</table>\n",
       "</div>"
      ],
      "text/plain": [
       "                                      review_content  ...                date\n",
       "0  Not that great to go more like I have had this...  ... 2021-02-27 15:09:54\n",
       "1  Barley Farm - Eccles This was the first time u...  ... 2020-09-28 21:50:36\n",
       "2  Good idea in theory, but flawed Just got the a...  ... 2019-09-07 11:44:36\n",
       "3  Outstanding! Used the app for the first time t...  ... 2019-09-07 17:21:51\n",
       "4  Mixed review I like this idea, sometimes we ge...  ... 2021-11-04 16:43:02\n",
       "\n",
       "[5 rows x 3 columns]"
      ]
     },
     "execution_count": 53,
     "metadata": {},
     "output_type": "execute_result"
    }
   ],
   "source": [
    "# Checking df\n",
    "df_apple.head(5)"
   ]
  },
  {
   "cell_type": "code",
   "execution_count": null,
   "metadata": {
    "id": "2UomSm1SKcED"
   },
   "outputs": [],
   "source": [
    "# Adding \"source\" column to put \"Apple\"\n",
    "df_apple['source'] = 'Apple'"
   ]
  },
  {
   "cell_type": "code",
   "execution_count": null,
   "metadata": {
    "id": "kuOhxHD6OqrK"
   },
   "outputs": [],
   "source": [
    "# Formatting date\n",
    "df_apple['date'] = pd.to_datetime(df_apple['date'], format='%Y-%m-%d %Hh%Mm%Ssec')"
   ]
  },
  {
   "cell_type": "code",
   "execution_count": null,
   "metadata": {
    "colab": {
     "base_uri": "https://localhost:8080/"
    },
    "executionInfo": {
     "elapsed": 252,
     "status": "ok",
     "timestamp": 1638462942578,
     "user": {
      "displayName": "Virginie Boirel",
      "photoUrl": "https://lh3.googleusercontent.com/a/default-user=s64",
      "userId": "09734304838834625501"
     },
     "user_tz": -60
    },
    "id": "S6q8VLMCOq2U",
    "outputId": "12cd24fe-fc97-431d-cee4-89034c306554"
   },
   "outputs": [
    {
     "name": "stdout",
     "output_type": "stream",
     "text": [
      "<class 'pandas.core.frame.DataFrame'>\n",
      "RangeIndex: 2238 entries, 0 to 2237\n",
      "Data columns (total 4 columns):\n",
      " #   Column          Non-Null Count  Dtype         \n",
      "---  ------          --------------  -----         \n",
      " 0   review_content  2238 non-null   object        \n",
      " 1   rating          2238 non-null   int64         \n",
      " 2   date            2238 non-null   datetime64[ns]\n",
      " 3   source          2238 non-null   object        \n",
      "dtypes: datetime64[ns](1), int64(1), object(2)\n",
      "memory usage: 70.1+ KB\n"
     ]
    }
   ],
   "source": [
    "# Check new format\n",
    "df_apple.info()"
   ]
  },
  {
   "cell_type": "markdown",
   "metadata": {
    "id": "5G9K-4rP_l0P"
   },
   "source": [
    "EDA"
   ]
  },
  {
   "cell_type": "code",
   "execution_count": null,
   "metadata": {
    "colab": {
     "base_uri": "https://localhost:8080/"
    },
    "executionInfo": {
     "elapsed": 209,
     "status": "ok",
     "timestamp": 1638462975731,
     "user": {
      "displayName": "Virginie Boirel",
      "photoUrl": "https://lh3.googleusercontent.com/a/default-user=s64",
      "userId": "09734304838834625501"
     },
     "user_tz": -60
    },
    "id": "Erk78Bng-qcv",
    "outputId": "bbdeb3e1-5ec6-4f6e-d401-98956d671b33"
   },
   "outputs": [
    {
     "data": {
      "text/plain": [
       "review_content    0\n",
       "rating            0\n",
       "date              0\n",
       "source            0\n",
       "dtype: int64"
      ]
     },
     "execution_count": 60,
     "metadata": {},
     "output_type": "execute_result"
    }
   ],
   "source": [
    "# Checking ISNA\n",
    "df_apple.isna().sum()"
   ]
  },
  {
   "cell_type": "code",
   "execution_count": null,
   "metadata": {
    "colab": {
     "base_uri": "https://localhost:8080/"
    },
    "executionInfo": {
     "elapsed": 299,
     "status": "ok",
     "timestamp": 1638462979154,
     "user": {
      "displayName": "Virginie Boirel",
      "photoUrl": "https://lh3.googleusercontent.com/a/default-user=s64",
      "userId": "09734304838834625501"
     },
     "user_tz": -60
    },
    "id": "OJX1jgrm-qhf",
    "outputId": "a719112e-8bbb-4467-9400-2886afb8fea7"
   },
   "outputs": [
    {
     "data": {
      "text/plain": [
       "0"
      ]
     },
     "execution_count": 61,
     "metadata": {},
     "output_type": "execute_result"
    }
   ],
   "source": [
    "# Checking duplicates \n",
    "df_apple.duplicated().sum()"
   ]
  },
  {
   "cell_type": "markdown",
   "metadata": {
    "id": "J21Lsk67-ncz"
   },
   "source": [
    "**3. Trustpilot**"
   ]
  },
  {
   "cell_type": "code",
   "execution_count": null,
   "metadata": {
    "colab": {
     "base_uri": "https://localhost:8080/"
    },
    "executionInfo": {
     "elapsed": 2130,
     "status": "ok",
     "timestamp": 1639214895107,
     "user": {
      "displayName": "Roxane Ajavon",
      "photoUrl": "https://lh3.googleusercontent.com/a/default-user=s64",
      "userId": "10325748363259226548"
     },
     "user_tz": -60
    },
    "id": "0mDco5pI-ywd",
    "outputId": "08848f77-a1b1-4dea-caa2-534f49c3d495"
   },
   "outputs": [
    {
     "data": {
      "text/plain": [
       "200"
      ]
     },
     "execution_count": 18,
     "metadata": {},
     "output_type": "execute_result"
    }
   ],
   "source": [
    "# Retrieving app reviews from trustpilot website\n",
    "headers = {\n",
    "    'User-Agent': 'Mozilla/5.0 (X11; Ubuntu; Linux x86_64; rv:93.0) Gecko/20100101 Firefox/93.0'\n",
    "}\n",
    "response = requests.get('https://uk.trustpilot.com/review/toogoodtogo.com?page=2', headers=headers)\n",
    "response.status_code"
   ]
  },
  {
   "cell_type": "code",
   "execution_count": null,
   "metadata": {
    "colab": {
     "base_uri": "https://localhost:8080/"
    },
    "executionInfo": {
     "elapsed": 23,
     "status": "ok",
     "timestamp": 1638462994373,
     "user": {
      "displayName": "Virginie Boirel",
      "photoUrl": "https://lh3.googleusercontent.com/a/default-user=s64",
      "userId": "09734304838834625501"
     },
     "user_tz": -60
    },
    "id": "n1d7wF-5QIpP",
    "outputId": "d8fafa28-c6d7-4176-9314-694950303ba9"
   },
   "outputs": [
    {
     "data": {
      "text/plain": [
       "{'consumer': {'countryCode': 'GB',\n",
       "  'displayName': 'Yvonne Simpson',\n",
       "  'hasReviewFacebookFriend': False,\n",
       "  'id': '61914c343f59d00012152fb3',\n",
       "  'imageUrl': '',\n",
       "  'isDirectFacebookFriend': False,\n",
       "  'numberOfReviews': 1},\n",
       " 'consumersReviewCountOnSameDomain': 1,\n",
       " 'consumersReviewCountOnSameLocation': 0,\n",
       " 'dates': {'experiencedDate': None,\n",
       "  'publishedDate': '2021-11-14T17:49:53.000Z',\n",
       "  'updatedDate': '2021-11-14T17:50:30.000Z'},\n",
       " 'filtered': False,\n",
       " 'hasUnhandledReports': False,\n",
       " 'id': '61914c4101034f34babf3c56',\n",
       " 'labels': {'merged': None,\n",
       "  'verification': {'createdDateTime': '2021-11-14T17:49:53.000Z',\n",
       "   'isVerified': False,\n",
       "   'reviewSourceName': 'Organic',\n",
       "   'verificationLevel': 'not-verified',\n",
       "   'verificationSource': 'invitation'}},\n",
       " 'language': 'en',\n",
       " 'likes': 0,\n",
       " 'location': None,\n",
       " 'productReviews': [],\n",
       " 'rating': 1,\n",
       " 'reply': {'message': \"Hi Yvonne,\\n\\nThanks for getting in touch and for fighting food waste with us.\\n\\nWe'd love to chat about your experience. Please get in touch via the Help Centre in the Too Good To Go app, or fill out this contact form: Bit.ly/tgtgcontactus - one of the team will get back to you shortly.\\n\\nAll the best,\\n\\nToo Good To Go\",\n",
       "  'publishedDate': '2021-11-26T14:25:41.002Z',\n",
       "  'updatedDate': None},\n",
       " 'report': None,\n",
       " 'text': 'Dissapointed with my first box. It was from Morrisons It contained 3 strawberries,  2 apples, 2 bags of carrots .4 bags of wonky  mixed peppers and 4 bags of runner beans which were not fit for consumption. and 6 oranges. I doubt it would have cost £10.',\n",
       " 'title': 'Dissapointed with my first box'}"
      ]
     },
     "execution_count": 63,
     "metadata": {},
     "output_type": "execute_result"
    }
   ],
   "source": [
    "soup = BeautifulSoup(response.content)\n",
    "data = json.loads(soup.find('script', type='application/json').string)\n",
    "reviews_t = data[\"props\"][\"pageProps\"][\"reviews\"]\n",
    "\n",
    "sample_reply = reviews_t[0]\n",
    "sample_reply"
   ]
  },
  {
   "cell_type": "code",
   "execution_count": null,
   "metadata": {
    "id": "zpt07FK1QIWy"
   },
   "outputs": [],
   "source": [
    "#collecting all the info of the review we might need to process after checking it\n",
    "reviewsText = []\n",
    "reviewsTitle = []\n",
    "ratings = []\n",
    "country = []\n",
    "language = []\n",
    "publishedDate = []\n",
    "\n",
    "\n",
    "for i in range(1,75):\n",
    "    url = \"https://uk.trustpilot.com/review/toogoodtogo.com?page={}\".format(i)\n",
    "    response = requests.get(url, headers=headers)\n",
    "    soup = BeautifulSoup(response.content)\n",
    "    data = json.loads(soup.find('script', type='application/json').string)\n",
    "    reviews_t = data[\"props\"][\"pageProps\"][\"reviews\"]\n",
    "    for review in reviews_t:\n",
    "        reviewsTitle.append(review['title'])\n",
    "        reviewsText.append(review['text'])\n",
    "        ratings.append(review['rating'])\n",
    "        country.append(review['consumer']['countryCode'])\n",
    "        language.append(review['language'])\n",
    "        publishedDate.append(review['dates']['publishedDate'])"
   ]
  },
  {
   "cell_type": "code",
   "execution_count": null,
   "metadata": {
    "id": "IlmX6MyBQIjV"
   },
   "outputs": [],
   "source": [
    "# Converting reviews in pandas dataframe\n",
    "df_trust = pd.DataFrame(np.column_stack([ratings, country, publishedDate, reviewsTitle, reviewsText, language]), \n",
    "                               columns=['rating', 'location', 'date', 'title', 'content', 'language'])"
   ]
  },
  {
   "cell_type": "code",
   "execution_count": null,
   "metadata": {
    "colab": {
     "base_uri": "https://localhost:8080/",
     "height": 380
    },
    "executionInfo": {
     "elapsed": 211,
     "status": "ok",
     "timestamp": 1639215318328,
     "user": {
      "displayName": "Roxane Ajavon",
      "photoUrl": "https://lh3.googleusercontent.com/a/default-user=s64",
      "userId": "10325748363259226548"
     },
     "user_tz": -60
    },
    "id": "K938K6xn2HU1",
    "outputId": "f0f0ff10-d5d1-4e20-c289-0cc14420ef12"
   },
   "outputs": [
    {
     "data": {
      "text/html": [
       "<div>\n",
       "<style scoped>\n",
       "    .dataframe tbody tr th:only-of-type {\n",
       "        vertical-align: middle;\n",
       "    }\n",
       "\n",
       "    .dataframe tbody tr th {\n",
       "        vertical-align: top;\n",
       "    }\n",
       "\n",
       "    .dataframe thead th {\n",
       "        text-align: right;\n",
       "    }\n",
       "</style>\n",
       "<table border=\"1\" class=\"dataframe\">\n",
       "  <thead>\n",
       "    <tr style=\"text-align: right;\">\n",
       "      <th></th>\n",
       "      <th>rating</th>\n",
       "      <th>location</th>\n",
       "      <th>date</th>\n",
       "      <th>title</th>\n",
       "      <th>content</th>\n",
       "      <th>language</th>\n",
       "    </tr>\n",
       "  </thead>\n",
       "  <tbody>\n",
       "    <tr>\n",
       "      <th>0</th>\n",
       "      <td>1</td>\n",
       "      <td>GB</td>\n",
       "      <td>2021-12-10T20:35:51.000Z</td>\n",
       "      <td>TOBY CARVERY LATE CANCELLATION</td>\n",
       "      <td>30 minutes before order cancelled..from toby c...</td>\n",
       "      <td>en</td>\n",
       "    </tr>\n",
       "    <tr>\n",
       "      <th>1</th>\n",
       "      <td>1</td>\n",
       "      <td>GB</td>\n",
       "      <td>2021-12-08T21:03:08.000Z</td>\n",
       "      <td>Made an order with Co op Erdington</td>\n",
       "      <td>Made an order with Co op Erdington, it was rea...</td>\n",
       "      <td>en</td>\n",
       "    </tr>\n",
       "    <tr>\n",
       "      <th>2</th>\n",
       "      <td>1</td>\n",
       "      <td>NO</td>\n",
       "      <td>2021-12-06T21:25:09.000Z</td>\n",
       "      <td>Feel cheated with the amount of food…</td>\n",
       "      <td>Feel cheated with the amount of food received....</td>\n",
       "      <td>en</td>\n",
       "    </tr>\n",
       "    <tr>\n",
       "      <th>3</th>\n",
       "      <td>2</td>\n",
       "      <td>GB</td>\n",
       "      <td>2021-12-06T20:08:14.000Z</td>\n",
       "      <td>X2 orders cancelled and I was charged…</td>\n",
       "      <td>X2 orders cancelled and I was charged for them...</td>\n",
       "      <td>en</td>\n",
       "    </tr>\n",
       "    <tr>\n",
       "      <th>4</th>\n",
       "      <td>2</td>\n",
       "      <td>GB</td>\n",
       "      <td>2021-12-06T15:59:02.000Z</td>\n",
       "      <td>Love the idea, BUT</td>\n",
       "      <td>Love the idea, but out of three times of order...</td>\n",
       "      <td>en</td>\n",
       "    </tr>\n",
       "  </tbody>\n",
       "</table>\n",
       "</div>"
      ],
      "text/plain": [
       "  rating location  ...                                            content language\n",
       "0      1       GB  ...  30 minutes before order cancelled..from toby c...       en\n",
       "1      1       GB  ...  Made an order with Co op Erdington, it was rea...       en\n",
       "2      1       NO  ...  Feel cheated with the amount of food received....       en\n",
       "3      2       GB  ...  X2 orders cancelled and I was charged for them...       en\n",
       "4      2       GB  ...  Love the idea, but out of three times of order...       en\n",
       "\n",
       "[5 rows x 6 columns]"
      ]
     },
     "execution_count": 23,
     "metadata": {},
     "output_type": "execute_result"
    }
   ],
   "source": [
    "df_trust.head()"
   ]
  },
  {
   "cell_type": "code",
   "execution_count": null,
   "metadata": {
    "id": "mopG6f4aLLrN"
   },
   "outputs": [],
   "source": [
    "# Storing raw data in pickle format\n",
    "df_trust.to_pickle('TrustpilotReview_TooGoodToGo.pkl')"
   ]
  },
  {
   "cell_type": "code",
   "execution_count": null,
   "metadata": {
    "colab": {
     "base_uri": "https://localhost:8080/",
     "height": 380
    },
    "executionInfo": {
     "elapsed": 197,
     "status": "ok",
     "timestamp": 1639215361043,
     "user": {
      "displayName": "Roxane Ajavon",
      "photoUrl": "https://lh3.googleusercontent.com/a/default-user=s64",
      "userId": "10325748363259226548"
     },
     "user_tz": -60
    },
    "id": "zjIA3OxeLQ4H",
    "outputId": "cdd93b8c-dcc4-4e8e-dbbc-01d41a730933"
   },
   "outputs": [
    {
     "data": {
      "text/html": [
       "<div>\n",
       "<style scoped>\n",
       "    .dataframe tbody tr th:only-of-type {\n",
       "        vertical-align: middle;\n",
       "    }\n",
       "\n",
       "    .dataframe tbody tr th {\n",
       "        vertical-align: top;\n",
       "    }\n",
       "\n",
       "    .dataframe thead th {\n",
       "        text-align: right;\n",
       "    }\n",
       "</style>\n",
       "<table border=\"1\" class=\"dataframe\">\n",
       "  <thead>\n",
       "    <tr style=\"text-align: right;\">\n",
       "      <th></th>\n",
       "      <th>rating</th>\n",
       "      <th>location</th>\n",
       "      <th>date</th>\n",
       "      <th>title</th>\n",
       "      <th>content</th>\n",
       "      <th>language</th>\n",
       "    </tr>\n",
       "  </thead>\n",
       "  <tbody>\n",
       "    <tr>\n",
       "      <th>0</th>\n",
       "      <td>1</td>\n",
       "      <td>GB</td>\n",
       "      <td>2021-12-10T20:35:51.000Z</td>\n",
       "      <td>TOBY CARVERY LATE CANCELLATION</td>\n",
       "      <td>30 minutes before order cancelled..from toby c...</td>\n",
       "      <td>en</td>\n",
       "    </tr>\n",
       "    <tr>\n",
       "      <th>1</th>\n",
       "      <td>1</td>\n",
       "      <td>GB</td>\n",
       "      <td>2021-12-08T21:03:08.000Z</td>\n",
       "      <td>Made an order with Co op Erdington</td>\n",
       "      <td>Made an order with Co op Erdington, it was rea...</td>\n",
       "      <td>en</td>\n",
       "    </tr>\n",
       "    <tr>\n",
       "      <th>2</th>\n",
       "      <td>1</td>\n",
       "      <td>NO</td>\n",
       "      <td>2021-12-06T21:25:09.000Z</td>\n",
       "      <td>Feel cheated with the amount of food…</td>\n",
       "      <td>Feel cheated with the amount of food received....</td>\n",
       "      <td>en</td>\n",
       "    </tr>\n",
       "    <tr>\n",
       "      <th>3</th>\n",
       "      <td>2</td>\n",
       "      <td>GB</td>\n",
       "      <td>2021-12-06T20:08:14.000Z</td>\n",
       "      <td>X2 orders cancelled and I was charged…</td>\n",
       "      <td>X2 orders cancelled and I was charged for them...</td>\n",
       "      <td>en</td>\n",
       "    </tr>\n",
       "    <tr>\n",
       "      <th>4</th>\n",
       "      <td>2</td>\n",
       "      <td>GB</td>\n",
       "      <td>2021-12-06T15:59:02.000Z</td>\n",
       "      <td>Love the idea, BUT</td>\n",
       "      <td>Love the idea, but out of three times of order...</td>\n",
       "      <td>en</td>\n",
       "    </tr>\n",
       "  </tbody>\n",
       "</table>\n",
       "</div>"
      ],
      "text/plain": [
       "  rating location  ...                                            content language\n",
       "0      1       GB  ...  30 minutes before order cancelled..from toby c...       en\n",
       "1      1       GB  ...  Made an order with Co op Erdington, it was rea...       en\n",
       "2      1       NO  ...  Feel cheated with the amount of food received....       en\n",
       "3      2       GB  ...  X2 orders cancelled and I was charged for them...       en\n",
       "4      2       GB  ...  Love the idea, but out of three times of order...       en\n",
       "\n",
       "[5 rows x 6 columns]"
      ]
     },
     "execution_count": 25,
     "metadata": {},
     "output_type": "execute_result"
    }
   ],
   "source": [
    "# Importing doc back to standardize it into workable format\n",
    "df_trust = \"/content/TrustpilotReview_TooGoodToGo.pkl\" \n",
    "\n",
    "with open(df_trust, 'rb') as f:\n",
    "  df_trust = pickle.load(f)\n",
    "\n",
    "df_trust.head(5)"
   ]
  },
  {
   "cell_type": "code",
   "execution_count": null,
   "metadata": {
    "colab": {
     "base_uri": "https://localhost:8080/",
     "height": 206
    },
    "executionInfo": {
     "elapsed": 212,
     "status": "ok",
     "timestamp": 1638464103014,
     "user": {
      "displayName": "Virginie Boirel",
      "photoUrl": "https://lh3.googleusercontent.com/a/default-user=s64",
      "userId": "09734304838834625501"
     },
     "user_tz": -60
    },
    "id": "6dkfA76eQeFh",
    "outputId": "10acaf08-f68a-401d-fed0-145c8ad89232"
   },
   "outputs": [
    {
     "data": {
      "text/html": [
       "<div>\n",
       "<style scoped>\n",
       "    .dataframe tbody tr th:only-of-type {\n",
       "        vertical-align: middle;\n",
       "    }\n",
       "\n",
       "    .dataframe tbody tr th {\n",
       "        vertical-align: top;\n",
       "    }\n",
       "\n",
       "    .dataframe thead th {\n",
       "        text-align: right;\n",
       "    }\n",
       "</style>\n",
       "<table border=\"1\" class=\"dataframe\">\n",
       "  <thead>\n",
       "    <tr style=\"text-align: right;\">\n",
       "      <th></th>\n",
       "      <th>rating</th>\n",
       "      <th>location</th>\n",
       "      <th>date</th>\n",
       "      <th>title</th>\n",
       "      <th>content</th>\n",
       "      <th>language</th>\n",
       "    </tr>\n",
       "  </thead>\n",
       "  <tbody>\n",
       "    <tr>\n",
       "      <th>0</th>\n",
       "      <td>5</td>\n",
       "      <td>GB</td>\n",
       "      <td>2021-12-01T21:47:43.000Z</td>\n",
       "      <td>What an amazing and innovative idea</td>\n",
       "      <td>What an amazing and innovative idea. I have or...</td>\n",
       "      <td>en</td>\n",
       "    </tr>\n",
       "    <tr>\n",
       "      <th>1</th>\n",
       "      <td>5</td>\n",
       "      <td>GB</td>\n",
       "      <td>2021-12-01T13:18:28.000Z</td>\n",
       "      <td>So nice bakery lovely food thanks…</td>\n",
       "      <td>So nice bakery lovely food thanks bristanbul</td>\n",
       "      <td>en</td>\n",
       "    </tr>\n",
       "    <tr>\n",
       "      <th>2</th>\n",
       "      <td>1</td>\n",
       "      <td>GB</td>\n",
       "      <td>2021-11-28T14:47:29.000Z</td>\n",
       "      <td>No confidence in app</td>\n",
       "      <td>Reserved food on two occasions at Toby Inns at...</td>\n",
       "      <td>en</td>\n",
       "    </tr>\n",
       "    <tr>\n",
       "      <th>3</th>\n",
       "      <td>5</td>\n",
       "      <td>GB</td>\n",
       "      <td>2021-11-28T10:15:04.000Z</td>\n",
       "      <td>Great app and such a good idea!</td>\n",
       "      <td>Updated -\\n\\nOne of the best app ideas around....</td>\n",
       "      <td>en</td>\n",
       "    </tr>\n",
       "    <tr>\n",
       "      <th>4</th>\n",
       "      <td>2</td>\n",
       "      <td>GB</td>\n",
       "      <td>2021-11-26T23:28:59.000Z</td>\n",
       "      <td>An Excellent Idea Often Poorly Executed By Par...</td>\n",
       "      <td>I've had good and bad experiences after using ...</td>\n",
       "      <td>en</td>\n",
       "    </tr>\n",
       "  </tbody>\n",
       "</table>\n",
       "</div>"
      ],
      "text/plain": [
       "  rating location  ...                                            content language\n",
       "0      5       GB  ...  What an amazing and innovative idea. I have or...       en\n",
       "1      5       GB  ...       So nice bakery lovely food thanks bristanbul       en\n",
       "2      1       GB  ...  Reserved food on two occasions at Toby Inns at...       en\n",
       "3      5       GB  ...  Updated -\\n\\nOne of the best app ideas around....       en\n",
       "4      2       GB  ...  I've had good and bad experiences after using ...       en\n",
       "\n",
       "[5 rows x 6 columns]"
      ]
     },
     "execution_count": 118,
     "metadata": {},
     "output_type": "execute_result"
    }
   ],
   "source": [
    "# Checking data\n",
    "df_trust.head(5)"
   ]
  },
  {
   "cell_type": "code",
   "execution_count": null,
   "metadata": {
    "colab": {
     "base_uri": "https://localhost:8080/"
    },
    "executionInfo": {
     "elapsed": 284,
     "status": "ok",
     "timestamp": 1638464106719,
     "user": {
      "displayName": "Virginie Boirel",
      "photoUrl": "https://lh3.googleusercontent.com/a/default-user=s64",
      "userId": "09734304838834625501"
     },
     "user_tz": -60
    },
    "id": "FOXiC4anLQ_d",
    "outputId": "929a88b4-a067-464a-96fc-db14de746064"
   },
   "outputs": [
    {
     "data": {
      "text/plain": [
       "(1460, 6)"
      ]
     },
     "execution_count": 119,
     "metadata": {},
     "output_type": "execute_result"
    }
   ],
   "source": [
    "df_trust.shape"
   ]
  },
  {
   "cell_type": "code",
   "execution_count": null,
   "metadata": {
    "colab": {
     "base_uri": "https://localhost:8080/"
    },
    "executionInfo": {
     "elapsed": 232,
     "status": "ok",
     "timestamp": 1638464108461,
     "user": {
      "displayName": "Virginie Boirel",
      "photoUrl": "https://lh3.googleusercontent.com/a/default-user=s64",
      "userId": "09734304838834625501"
     },
     "user_tz": -60
    },
    "id": "JTEGUD1jQeMN",
    "outputId": "8b3a02b6-eea5-4b16-ab08-7b969bb17fa4"
   },
   "outputs": [
    {
     "data": {
      "text/plain": [
       "en    1460\n",
       "Name: language, dtype: int64"
      ]
     },
     "execution_count": 120,
     "metadata": {},
     "output_type": "execute_result"
    }
   ],
   "source": [
    "#to check if all the reviews are in english\n",
    "df_trust['language'].value_counts()"
   ]
  },
  {
   "cell_type": "code",
   "execution_count": null,
   "metadata": {
    "colab": {
     "base_uri": "https://localhost:8080/"
    },
    "executionInfo": {
     "elapsed": 238,
     "status": "ok",
     "timestamp": 1638464111250,
     "user": {
      "displayName": "Virginie Boirel",
      "photoUrl": "https://lh3.googleusercontent.com/a/default-user=s64",
      "userId": "09734304838834625501"
     },
     "user_tz": -60
    },
    "id": "JYCCP1KmQeQ-",
    "outputId": "fadaca84-3bd1-4a1f-988c-72e5ad9d40a8"
   },
   "outputs": [
    {
     "data": {
      "text/plain": [
       "GB    1110\n",
       "DK     117\n",
       "NO      44\n",
       "US      34\n",
       "DE      31\n",
       "NL      31\n",
       "CH      19\n",
       "BE      19\n",
       "FR      17\n",
       "ES       5\n",
       "SE       5\n",
       "AU       4\n",
       "IT       3\n",
       "CA       3\n",
       "GR       3\n",
       "PL       2\n",
       "PT       2\n",
       "IE       2\n",
       "MY       2\n",
       "LU       1\n",
       "UA       1\n",
       "AT       1\n",
       "BN       1\n",
       "RO       1\n",
       "IN       1\n",
       "AW       1\n",
       "Name: location, dtype: int64"
      ]
     },
     "execution_count": 121,
     "metadata": {},
     "output_type": "execute_result"
    }
   ],
   "source": [
    "df_trust['location'].value_counts()"
   ]
  },
  {
   "cell_type": "code",
   "execution_count": null,
   "metadata": {
    "id": "BBY4G336Ql6r"
   },
   "outputs": [],
   "source": [
    "df_trust = df_trust[df_trust['location']=='GB']"
   ]
  },
  {
   "cell_type": "code",
   "execution_count": null,
   "metadata": {
    "id": "gr49XDqcQl_S"
   },
   "outputs": [],
   "source": [
    "# to concatenate Title & review content\n",
    "df_trust['review_content'] = df_trust['title'] + ' ' + df_trust['content']"
   ]
  },
  {
   "cell_type": "code",
   "execution_count": null,
   "metadata": {
    "colab": {
     "base_uri": "https://localhost:8080/",
     "height": 293
    },
    "executionInfo": {
     "elapsed": 245,
     "status": "ok",
     "timestamp": 1638464120598,
     "user": {
      "displayName": "Virginie Boirel",
      "photoUrl": "https://lh3.googleusercontent.com/a/default-user=s64",
      "userId": "09734304838834625501"
     },
     "user_tz": -60
    },
    "id": "kcQg9VtGLRIx",
    "outputId": "bfda4f8e-48a9-4de0-e072-b4db5b80df20"
   },
   "outputs": [
    {
     "data": {
      "text/html": [
       "<div>\n",
       "<style scoped>\n",
       "    .dataframe tbody tr th:only-of-type {\n",
       "        vertical-align: middle;\n",
       "    }\n",
       "\n",
       "    .dataframe tbody tr th {\n",
       "        vertical-align: top;\n",
       "    }\n",
       "\n",
       "    .dataframe thead th {\n",
       "        text-align: right;\n",
       "    }\n",
       "</style>\n",
       "<table border=\"1\" class=\"dataframe\">\n",
       "  <thead>\n",
       "    <tr style=\"text-align: right;\">\n",
       "      <th></th>\n",
       "      <th>rating</th>\n",
       "      <th>location</th>\n",
       "      <th>date</th>\n",
       "      <th>title</th>\n",
       "      <th>content</th>\n",
       "      <th>language</th>\n",
       "      <th>review_content</th>\n",
       "    </tr>\n",
       "  </thead>\n",
       "  <tbody>\n",
       "    <tr>\n",
       "      <th>0</th>\n",
       "      <td>5</td>\n",
       "      <td>GB</td>\n",
       "      <td>2021-12-01T21:47:43.000Z</td>\n",
       "      <td>What an amazing and innovative idea</td>\n",
       "      <td>What an amazing and innovative idea. I have or...</td>\n",
       "      <td>en</td>\n",
       "      <td>What an amazing and innovative idea What an am...</td>\n",
       "    </tr>\n",
       "    <tr>\n",
       "      <th>1</th>\n",
       "      <td>5</td>\n",
       "      <td>GB</td>\n",
       "      <td>2021-12-01T13:18:28.000Z</td>\n",
       "      <td>So nice bakery lovely food thanks…</td>\n",
       "      <td>So nice bakery lovely food thanks bristanbul</td>\n",
       "      <td>en</td>\n",
       "      <td>So nice bakery lovely food thanks… So nice bak...</td>\n",
       "    </tr>\n",
       "    <tr>\n",
       "      <th>2</th>\n",
       "      <td>1</td>\n",
       "      <td>GB</td>\n",
       "      <td>2021-11-28T14:47:29.000Z</td>\n",
       "      <td>No confidence in app</td>\n",
       "      <td>Reserved food on two occasions at Toby Inns at...</td>\n",
       "      <td>en</td>\n",
       "      <td>No confidence in app Reserved food on two occa...</td>\n",
       "    </tr>\n",
       "    <tr>\n",
       "      <th>3</th>\n",
       "      <td>5</td>\n",
       "      <td>GB</td>\n",
       "      <td>2021-11-28T10:15:04.000Z</td>\n",
       "      <td>Great app and such a good idea!</td>\n",
       "      <td>Updated -\\n\\nOne of the best app ideas around....</td>\n",
       "      <td>en</td>\n",
       "      <td>Great app and such a good idea! Updated -\\n\\nO...</td>\n",
       "    </tr>\n",
       "    <tr>\n",
       "      <th>4</th>\n",
       "      <td>2</td>\n",
       "      <td>GB</td>\n",
       "      <td>2021-11-26T23:28:59.000Z</td>\n",
       "      <td>An Excellent Idea Often Poorly Executed By Par...</td>\n",
       "      <td>I've had good and bad experiences after using ...</td>\n",
       "      <td>en</td>\n",
       "      <td>An Excellent Idea Often Poorly Executed By Par...</td>\n",
       "    </tr>\n",
       "  </tbody>\n",
       "</table>\n",
       "</div>"
      ],
      "text/plain": [
       "  rating location  ... language                                     review_content\n",
       "0      5       GB  ...       en  What an amazing and innovative idea What an am...\n",
       "1      5       GB  ...       en  So nice bakery lovely food thanks… So nice bak...\n",
       "2      1       GB  ...       en  No confidence in app Reserved food on two occa...\n",
       "3      5       GB  ...       en  Great app and such a good idea! Updated -\\n\\nO...\n",
       "4      2       GB  ...       en  An Excellent Idea Often Poorly Executed By Par...\n",
       "\n",
       "[5 rows x 7 columns]"
      ]
     },
     "execution_count": 124,
     "metadata": {},
     "output_type": "execute_result"
    }
   ],
   "source": [
    "# Checking df\n",
    "df_trust.head(5)"
   ]
  },
  {
   "cell_type": "code",
   "execution_count": null,
   "metadata": {
    "id": "ylJ5ykgmQmHP"
   },
   "outputs": [],
   "source": [
    "# Dropping unnecessary columns\n",
    "df_trust = df_trust.drop(columns=['location','title','content','language'])"
   ]
  },
  {
   "cell_type": "code",
   "execution_count": null,
   "metadata": {
    "colab": {
     "base_uri": "https://localhost:8080/"
    },
    "executionInfo": {
     "elapsed": 351,
     "status": "ok",
     "timestamp": 1638464129887,
     "user": {
      "displayName": "Virginie Boirel",
      "photoUrl": "https://lh3.googleusercontent.com/a/default-user=s64",
      "userId": "09734304838834625501"
     },
     "user_tz": -60
    },
    "id": "EXo8Z8NQBLZ5",
    "outputId": "e6c9a158-906c-4cf6-8249-7b3e8ef7e455"
   },
   "outputs": [
    {
     "name": "stdout",
     "output_type": "stream",
     "text": [
      "<class 'pandas.core.frame.DataFrame'>\n",
      "Int64Index: 1110 entries, 0 to 1457\n",
      "Data columns (total 3 columns):\n",
      " #   Column          Non-Null Count  Dtype \n",
      "---  ------          --------------  ----- \n",
      " 0   rating          1110 non-null   object\n",
      " 1   date            1110 non-null   object\n",
      " 2   review_content  1110 non-null   object\n",
      "dtypes: object(3)\n",
      "memory usage: 34.7+ KB\n"
     ]
    }
   ],
   "source": [
    "df_trust.info()"
   ]
  },
  {
   "cell_type": "code",
   "execution_count": null,
   "metadata": {
    "id": "mZ0pZCyMBY_x"
   },
   "outputs": [],
   "source": [
    "# Formatting date => removing anything on the right of T (T being included)\n",
    "df_trust['date'] = df_trust['date'].str[:10]"
   ]
  },
  {
   "cell_type": "code",
   "execution_count": null,
   "metadata": {
    "id": "ZIAz_YsVA7UD"
   },
   "outputs": [],
   "source": [
    "# Formatting date\n",
    "df_trust['date'] = pd.to_datetime(df_trust['date'], format='%Y-%m-%d')"
   ]
  },
  {
   "cell_type": "code",
   "execution_count": null,
   "metadata": {
    "id": "JWiJgP09CqZ-"
   },
   "outputs": [],
   "source": [
    "# Reordering columns\n",
    "df_trust = df_trust[['review_content', 'rating', 'date']]"
   ]
  },
  {
   "cell_type": "code",
   "execution_count": null,
   "metadata": {
    "colab": {
     "base_uri": "https://localhost:8080/"
    },
    "executionInfo": {
     "elapsed": 232,
     "status": "ok",
     "timestamp": 1638464156327,
     "user": {
      "displayName": "Virginie Boirel",
      "photoUrl": "https://lh3.googleusercontent.com/a/default-user=s64",
      "userId": "09734304838834625501"
     },
     "user_tz": -60
    },
    "id": "IA6MFcpkLr5I",
    "outputId": "3b672ad0-630c-456f-8484-7a4e185e26bf"
   },
   "outputs": [
    {
     "name": "stderr",
     "output_type": "stream",
     "text": [
      "/usr/local/lib/python3.7/dist-packages/ipykernel_launcher.py:2: SettingWithCopyWarning: \n",
      "A value is trying to be set on a copy of a slice from a DataFrame.\n",
      "Try using .loc[row_indexer,col_indexer] = value instead\n",
      "\n",
      "See the caveats in the documentation: https://pandas.pydata.org/pandas-docs/stable/user_guide/indexing.html#returning-a-view-versus-a-copy\n",
      "  \n"
     ]
    }
   ],
   "source": [
    "# Adding \"source\" column to put \"Trustpilot\"\n",
    "df_trust['source'] = 'Trustpilot'"
   ]
  },
  {
   "cell_type": "code",
   "execution_count": null,
   "metadata": {
    "colab": {
     "base_uri": "https://localhost:8080/"
    },
    "executionInfo": {
     "elapsed": 252,
     "status": "ok",
     "timestamp": 1638464201326,
     "user": {
      "displayName": "Virginie Boirel",
      "photoUrl": "https://lh3.googleusercontent.com/a/default-user=s64",
      "userId": "09734304838834625501"
     },
     "user_tz": -60
    },
    "id": "_wnPbgZRNNyb",
    "outputId": "a8110112-df2e-4bf7-a28a-43ebb074b818"
   },
   "outputs": [
    {
     "name": "stdout",
     "output_type": "stream",
     "text": [
      "<class 'pandas.core.frame.DataFrame'>\n",
      "Int64Index: 1110 entries, 0 to 1457\n",
      "Data columns (total 4 columns):\n",
      " #   Column          Non-Null Count  Dtype         \n",
      "---  ------          --------------  -----         \n",
      " 0   review_content  1110 non-null   object        \n",
      " 1   rating          1110 non-null   object        \n",
      " 2   date            1110 non-null   datetime64[ns]\n",
      " 3   source          1110 non-null   object        \n",
      "dtypes: datetime64[ns](1), object(3)\n",
      "memory usage: 43.4+ KB\n"
     ]
    }
   ],
   "source": [
    "# Check formatting\n",
    "df_trust.info()"
   ]
  },
  {
   "cell_type": "code",
   "execution_count": null,
   "metadata": {
    "colab": {
     "base_uri": "https://localhost:8080/"
    },
    "executionInfo": {
     "elapsed": 78,
     "status": "ok",
     "timestamp": 1638464206586,
     "user": {
      "displayName": "Virginie Boirel",
      "photoUrl": "https://lh3.googleusercontent.com/a/default-user=s64",
      "userId": "09734304838834625501"
     },
     "user_tz": -60
    },
    "id": "VjmO7cjuPSvU",
    "outputId": "1d40b5c5-b589-4ed1-b571-4a6fa744a2c1"
   },
   "outputs": [
    {
     "data": {
      "text/plain": [
       "0       5\n",
       "1       5\n",
       "2       1\n",
       "3       5\n",
       "4       2\n",
       "       ..\n",
       "1444    4\n",
       "1451    5\n",
       "1454    5\n",
       "1455    5\n",
       "1457    5\n",
       "Name: rating, Length: 1110, dtype: int64"
      ]
     },
     "execution_count": 133,
     "metadata": {},
     "output_type": "execute_result"
    }
   ],
   "source": [
    "# Formatting rating\n",
    "df_trust['rating'].astype(int)"
   ]
  },
  {
   "cell_type": "code",
   "execution_count": null,
   "metadata": {
    "colab": {
     "base_uri": "https://localhost:8080/"
    },
    "executionInfo": {
     "elapsed": 348,
     "status": "ok",
     "timestamp": 1638464215031,
     "user": {
      "displayName": "Virginie Boirel",
      "photoUrl": "https://lh3.googleusercontent.com/a/default-user=s64",
      "userId": "09734304838834625501"
     },
     "user_tz": -60
    },
    "id": "0Fg7W8oxPS6Z",
    "outputId": "795bc2ae-f3f6-4971-81e1-7df3df9b7bcc"
   },
   "outputs": [
    {
     "name": "stdout",
     "output_type": "stream",
     "text": [
      "<class 'pandas.core.frame.DataFrame'>\n",
      "Int64Index: 1110 entries, 0 to 1457\n",
      "Data columns (total 4 columns):\n",
      " #   Column          Non-Null Count  Dtype         \n",
      "---  ------          --------------  -----         \n",
      " 0   review_content  1110 non-null   object        \n",
      " 1   rating          1110 non-null   object        \n",
      " 2   date            1110 non-null   datetime64[ns]\n",
      " 3   source          1110 non-null   object        \n",
      "dtypes: datetime64[ns](1), object(3)\n",
      "memory usage: 43.4+ KB\n"
     ]
    }
   ],
   "source": [
    "# Check new format\n",
    "df_trust.info()"
   ]
  },
  {
   "cell_type": "markdown",
   "metadata": {
    "id": "G4NFUJSK_OHw"
   },
   "source": [
    "EDA"
   ]
  },
  {
   "cell_type": "code",
   "execution_count": null,
   "metadata": {
    "colab": {
     "base_uri": "https://localhost:8080/"
    },
    "executionInfo": {
     "elapsed": 553,
     "status": "ok",
     "timestamp": 1638464219521,
     "user": {
      "displayName": "Virginie Boirel",
      "photoUrl": "https://lh3.googleusercontent.com/a/default-user=s64",
      "userId": "09734304838834625501"
     },
     "user_tz": -60
    },
    "id": "mIee1mbM_Ire",
    "outputId": "46e8e4cc-016b-43af-9a05-1a96ac9a77d4"
   },
   "outputs": [
    {
     "data": {
      "text/plain": [
       "review_content    0\n",
       "rating            0\n",
       "date              0\n",
       "source            0\n",
       "dtype: int64"
      ]
     },
     "execution_count": 135,
     "metadata": {},
     "output_type": "execute_result"
    }
   ],
   "source": [
    "# Checking ISNA\n",
    "df_trust.isna().sum()"
   ]
  },
  {
   "cell_type": "code",
   "execution_count": null,
   "metadata": {
    "colab": {
     "base_uri": "https://localhost:8080/"
    },
    "executionInfo": {
     "elapsed": 41,
     "status": "ok",
     "timestamp": 1638464221676,
     "user": {
      "displayName": "Virginie Boirel",
      "photoUrl": "https://lh3.googleusercontent.com/a/default-user=s64",
      "userId": "09734304838834625501"
     },
     "user_tz": -60
    },
    "id": "rRqiMqls_Ivl",
    "outputId": "df4de90b-9a35-42f2-f5fd-a9b3d34ab66f"
   },
   "outputs": [
    {
     "data": {
      "text/plain": [
       "0"
      ]
     },
     "execution_count": 136,
     "metadata": {},
     "output_type": "execute_result"
    }
   ],
   "source": [
    "# Checking duplicates \n",
    "df_trust.duplicated().sum()"
   ]
  },
  {
   "cell_type": "markdown",
   "metadata": {
    "id": "soMp90FRA9gp"
   },
   "source": [
    "**4. Concatenation**"
   ]
  },
  {
   "cell_type": "code",
   "execution_count": null,
   "metadata": {
    "colab": {
     "base_uri": "https://localhost:8080/",
     "height": 206
    },
    "executionInfo": {
     "elapsed": 390,
     "status": "ok",
     "timestamp": 1638465382509,
     "user": {
      "displayName": "Virginie Boirel",
      "photoUrl": "https://lh3.googleusercontent.com/a/default-user=s64",
      "userId": "09734304838834625501"
     },
     "user_tz": -60
    },
    "id": "Y92LHsOEGIM8",
    "outputId": "ff24c089-96e5-441b-be22-e90bbc6e6c92"
   },
   "outputs": [
    {
     "data": {
      "text/html": [
       "<div>\n",
       "<style scoped>\n",
       "    .dataframe tbody tr th:only-of-type {\n",
       "        vertical-align: middle;\n",
       "    }\n",
       "\n",
       "    .dataframe tbody tr th {\n",
       "        vertical-align: top;\n",
       "    }\n",
       "\n",
       "    .dataframe thead th {\n",
       "        text-align: right;\n",
       "    }\n",
       "</style>\n",
       "<table border=\"1\" class=\"dataframe\">\n",
       "  <thead>\n",
       "    <tr style=\"text-align: right;\">\n",
       "      <th></th>\n",
       "      <th>review_content</th>\n",
       "      <th>rating</th>\n",
       "      <th>date</th>\n",
       "      <th>source</th>\n",
       "    </tr>\n",
       "  </thead>\n",
       "  <tbody>\n",
       "    <tr>\n",
       "      <th>0</th>\n",
       "      <td>Such short windows to buy things and to pick u...</td>\n",
       "      <td>1</td>\n",
       "      <td>2021-12-02 16:12:23</td>\n",
       "      <td>Google</td>\n",
       "    </tr>\n",
       "    <tr>\n",
       "      <th>1</th>\n",
       "      <td>Impossible ordinare se si hanno allergie o die...</td>\n",
       "      <td>2</td>\n",
       "      <td>2021-12-02 15:28:24</td>\n",
       "      <td>Google</td>\n",
       "    </tr>\n",
       "    <tr>\n",
       "      <th>2</th>\n",
       "      <td>Easy to order, turned up at stated time and th...</td>\n",
       "      <td>5</td>\n",
       "      <td>2021-12-02 09:24:40</td>\n",
       "      <td>Google</td>\n",
       "    </tr>\n",
       "    <tr>\n",
       "      <th>3</th>\n",
       "      <td>This is a fantastic service for everyone, grea...</td>\n",
       "      <td>5</td>\n",
       "      <td>2021-12-02 08:06:30</td>\n",
       "      <td>Google</td>\n",
       "    </tr>\n",
       "    <tr>\n",
       "      <th>4</th>\n",
       "      <td>I am greatly impressed with this app. I can ge...</td>\n",
       "      <td>5</td>\n",
       "      <td>2021-12-02 06:56:31</td>\n",
       "      <td>Google</td>\n",
       "    </tr>\n",
       "  </tbody>\n",
       "</table>\n",
       "</div>"
      ],
      "text/plain": [
       "                                      review_content  ...  source\n",
       "0  Such short windows to buy things and to pick u...  ...  Google\n",
       "1  Impossible ordinare se si hanno allergie o die...  ...  Google\n",
       "2  Easy to order, turned up at stated time and th...  ...  Google\n",
       "3  This is a fantastic service for everyone, grea...  ...  Google\n",
       "4  I am greatly impressed with this app. I can ge...  ...  Google\n",
       "\n",
       "[5 rows x 4 columns]"
      ]
     },
     "execution_count": 137,
     "metadata": {},
     "output_type": "execute_result"
    }
   ],
   "source": [
    "df = pd.concat([df_google, df_apple, df_trust], axis=0)\n",
    "df.head(5)"
   ]
  },
  {
   "cell_type": "code",
   "execution_count": null,
   "metadata": {
    "colab": {
     "base_uri": "https://localhost:8080/"
    },
    "executionInfo": {
     "elapsed": 320,
     "status": "ok",
     "timestamp": 1638465394794,
     "user": {
      "displayName": "Virginie Boirel",
      "photoUrl": "https://lh3.googleusercontent.com/a/default-user=s64",
      "userId": "09734304838834625501"
     },
     "user_tz": -60
    },
    "id": "VH0TjfGdJboL",
    "outputId": "559aa02c-3bb1-464c-a018-59506b9d5628"
   },
   "outputs": [
    {
     "data": {
      "text/plain": [
       "(23044, 4)"
      ]
     },
     "execution_count": 138,
     "metadata": {},
     "output_type": "execute_result"
    }
   ],
   "source": [
    "df.shape"
   ]
  },
  {
   "cell_type": "code",
   "execution_count": null,
   "metadata": {},
   "outputs": [],
   "source": [
    "# Storing data in pickle format\n",
    "df.to_pickle('reviews_tgtg_v0.pkl')"
   ]
  },
  {
   "cell_type": "code",
   "execution_count": null,
   "metadata": {
    "colab": {
     "base_uri": "https://localhost:8080/"
    },
    "executionInfo": {
     "elapsed": 397,
     "status": "ok",
     "timestamp": 1638470285205,
     "user": {
      "displayName": "Virginie Boirel",
      "photoUrl": "https://lh3.googleusercontent.com/a/default-user=s64",
      "userId": "09734304838834625501"
     },
     "user_tz": -60
    },
    "id": "7tSVx66vcGE7",
    "outputId": "4ac9dc15-cd98-45f9-dd07-1a578a70dafb"
   },
   "outputs": [
    {
     "name": "stdout",
     "output_type": "stream",
     "text": [
      "<class 'pandas.core.frame.DataFrame'>\n",
      "Int64Index: 23044 entries, 0 to 1457\n",
      "Data columns (total 5 columns):\n",
      " #   Column               Non-Null Count  Dtype         \n",
      "---  ------               --------------  -----         \n",
      " 0   review_content       23044 non-null  object        \n",
      " 1   rating               23044 non-null  object        \n",
      " 2   date                 23044 non-null  datetime64[ns]\n",
      " 3   source               23044 non-null  object        \n",
      " 4   preprocessed_review  23044 non-null  object        \n",
      "dtypes: datetime64[ns](1), object(4)\n",
      "memory usage: 1.7+ MB\n"
     ]
    }
   ],
   "source": [
    "df.info()"
   ]
  },
  {
   "cell_type": "code",
   "execution_count": 1,
   "metadata": {
    "id": "k3dO5j5AcJub"
   },
   "outputs": [
    {
     "ename": "NameError",
     "evalue": "name 'df' is not defined",
     "output_type": "error",
     "traceback": [
      "\u001b[0;31m---------------------------------------------------------------------------\u001b[0m",
      "\u001b[0;31mNameError\u001b[0m                                 Traceback (most recent call last)",
      "\u001b[0;32m/tmp/ipykernel_13083/1076118981.py\u001b[0m in \u001b[0;36m<module>\u001b[0;34m\u001b[0m\n\u001b[1;32m      1\u001b[0m \u001b[0;31m# formatting rating\u001b[0m\u001b[0;34m\u001b[0m\u001b[0;34m\u001b[0m\u001b[0m\n\u001b[0;32m----> 2\u001b[0;31m \u001b[0mdf\u001b[0m\u001b[0;34m[\u001b[0m\u001b[0;34m'rating'\u001b[0m\u001b[0;34m]\u001b[0m \u001b[0;34m=\u001b[0m \u001b[0mdf\u001b[0m\u001b[0;34m[\u001b[0m\u001b[0;34m'rating'\u001b[0m\u001b[0;34m]\u001b[0m\u001b[0;34m.\u001b[0m\u001b[0mastype\u001b[0m\u001b[0;34m(\u001b[0m\u001b[0mint\u001b[0m\u001b[0;34m)\u001b[0m\u001b[0;34m\u001b[0m\u001b[0;34m\u001b[0m\u001b[0m\n\u001b[0m",
      "\u001b[0;31mNameError\u001b[0m: name 'df' is not defined"
     ]
    }
   ],
   "source": [
    "# formatting rating\n",
    "df['rating'] = df['rating'].astype(int)"
   ]
  },
  {
   "cell_type": "code",
   "execution_count": null,
   "metadata": {
    "colab": {
     "base_uri": "https://localhost:8080/"
    },
    "executionInfo": {
     "elapsed": 31,
     "status": "ok",
     "timestamp": 1638470543469,
     "user": {
      "displayName": "Virginie Boirel",
      "photoUrl": "https://lh3.googleusercontent.com/a/default-user=s64",
      "userId": "09734304838834625501"
     },
     "user_tz": -60
    },
    "id": "dD5GoKTJcSsW",
    "outputId": "fc747f6b-fe82-403b-be69-f17ab2fe6fd5"
   },
   "outputs": [
    {
     "name": "stdout",
     "output_type": "stream",
     "text": [
      "<class 'pandas.core.frame.DataFrame'>\n",
      "Int64Index: 23044 entries, 0 to 1457\n",
      "Data columns (total 5 columns):\n",
      " #   Column               Non-Null Count  Dtype         \n",
      "---  ------               --------------  -----         \n",
      " 0   review_content       23044 non-null  object        \n",
      " 1   rating               23044 non-null  int64         \n",
      " 2   date                 23044 non-null  datetime64[ns]\n",
      " 3   source               23044 non-null  object        \n",
      " 4   preprocessed_review  23044 non-null  object        \n",
      "dtypes: datetime64[ns](1), int64(1), object(3)\n",
      "memory usage: 1.7+ MB\n"
     ]
    }
   ],
   "source": [
    "df.info()"
   ]
  },
  {
   "cell_type": "code",
   "execution_count": null,
   "metadata": {
    "colab": {
     "base_uri": "https://localhost:8080/",
     "height": 301
    },
    "executionInfo": {
     "elapsed": 741,
     "status": "ok",
     "timestamp": 1638470554007,
     "user": {
      "displayName": "Virginie Boirel",
      "photoUrl": "https://lh3.googleusercontent.com/a/default-user=s64",
      "userId": "09734304838834625501"
     },
     "user_tz": -60
    },
    "id": "YSWzU8qGcu3k",
    "outputId": "5e70fae2-0cf6-430d-ee13-c7d0640811a8"
   },
   "outputs": [
    {
     "data": {
      "text/html": [
       "<div>\n",
       "<style scoped>\n",
       "    .dataframe tbody tr th:only-of-type {\n",
       "        vertical-align: middle;\n",
       "    }\n",
       "\n",
       "    .dataframe tbody tr th {\n",
       "        vertical-align: top;\n",
       "    }\n",
       "\n",
       "    .dataframe thead th {\n",
       "        text-align: right;\n",
       "    }\n",
       "</style>\n",
       "<table border=\"1\" class=\"dataframe\">\n",
       "  <thead>\n",
       "    <tr style=\"text-align: right;\">\n",
       "      <th></th>\n",
       "      <th>rating</th>\n",
       "    </tr>\n",
       "  </thead>\n",
       "  <tbody>\n",
       "    <tr>\n",
       "      <th>count</th>\n",
       "      <td>23044.000000</td>\n",
       "    </tr>\n",
       "    <tr>\n",
       "      <th>mean</th>\n",
       "      <td>4.426098</td>\n",
       "    </tr>\n",
       "    <tr>\n",
       "      <th>std</th>\n",
       "      <td>1.234849</td>\n",
       "    </tr>\n",
       "    <tr>\n",
       "      <th>min</th>\n",
       "      <td>1.000000</td>\n",
       "    </tr>\n",
       "    <tr>\n",
       "      <th>25%</th>\n",
       "      <td>5.000000</td>\n",
       "    </tr>\n",
       "    <tr>\n",
       "      <th>50%</th>\n",
       "      <td>5.000000</td>\n",
       "    </tr>\n",
       "    <tr>\n",
       "      <th>75%</th>\n",
       "      <td>5.000000</td>\n",
       "    </tr>\n",
       "    <tr>\n",
       "      <th>max</th>\n",
       "      <td>5.000000</td>\n",
       "    </tr>\n",
       "  </tbody>\n",
       "</table>\n",
       "</div>"
      ],
      "text/plain": [
       "             rating\n",
       "count  23044.000000\n",
       "mean       4.426098\n",
       "std        1.234849\n",
       "min        1.000000\n",
       "25%        5.000000\n",
       "50%        5.000000\n",
       "75%        5.000000\n",
       "max        5.000000"
      ]
     },
     "execution_count": 192,
     "metadata": {},
     "output_type": "execute_result"
    }
   ],
   "source": [
    "df.describe()"
   ]
  },
  {
   "cell_type": "code",
   "execution_count": null,
   "metadata": {},
   "outputs": [],
   "source": [
    "# formatting date => to remove day\n",
    "df['date'] = df['date'].dt.strftime('%Y-%m')"
   ]
  },
  {
   "cell_type": "markdown",
   "metadata": {},
   "source": [
    "**5. Charts**"
   ]
  },
  {
   "cell_type": "code",
   "execution_count": null,
   "metadata": {
    "colab": {
     "base_uri": "https://localhost:8080/",
     "height": 934
    },
    "executionInfo": {
     "elapsed": 1644,
     "status": "ok",
     "timestamp": 1638469911151,
     "user": {
      "displayName": "Virginie Boirel",
      "photoUrl": "https://lh3.googleusercontent.com/a/default-user=s64",
      "userId": "09734304838834625501"
     },
     "user_tz": -60
    },
    "id": "I9Sbd76-Tib-",
    "outputId": "cc14d17d-e0cb-42de-8e61-bb23dc4f6287"
   },
   "outputs": [
    {
     "data": {
      "text/plain": [
       "Text(0.5, 1.0, 'Reviews Distribution per Platform')"
      ]
     },
     "execution_count": 179,
     "metadata": {},
     "output_type": "execute_result"
    },
    {
     "data": {
      "image/png": "[encoded data removed]",
      "text/plain": [
       "<Figure size 1728x1152 with 1 Axes>"
      ]
     },
     "metadata": {},
     "output_type": "display_data"
    }
   ],
   "source": [
    "import matplotlib.pyplot as plt\n",
    "\n",
    "plt.figure(figsize=(24,16))\n",
    "plt.pie(df['source'].value_counts(), labels = ['Google','Apple','Trustpilot'],autopct='%1.0f%%')\n",
    "plt.title('Reviews Distribution per Platform')"
   ]
  },
  {
   "cell_type": "code",
   "execution_count": null,
   "metadata": {
    "colab": {
     "base_uri": "https://localhost:8080/",
     "height": 970
    },
    "executionInfo": {
     "elapsed": 810,
     "status": "ok",
     "timestamp": 1638471055322,
     "user": {
      "displayName": "Virginie Boirel",
      "photoUrl": "https://lh3.googleusercontent.com/a/default-user=s64",
      "userId": "09734304838834625501"
     },
     "user_tz": -60
    },
    "id": "1cLZ9YzreBrS",
    "outputId": "be3956cf-065b-4577-dfec-3c0a2a6a50f0"
   },
   "outputs": [
    {
     "data": {
      "text/plain": [
       "Text(0.5, 1.0, 'Reviews Distribution per Rating')"
      ]
     },
     "execution_count": 201,
     "metadata": {},
     "output_type": "execute_result"
    },
    {
     "data": {
      "image/png": "[encoded data removed]",
      "text/plain": [
       "<Figure size 1728x1152 with 1 Axes>"
      ]
     },
     "metadata": {},
     "output_type": "display_data"
    }
   ],
   "source": [
    "import seaborn as sns\n",
    "\n",
    "plt.figure(figsize=(24,16))\n",
    "sns.set_theme(style=\"whitegrid\")\n",
    "sns.countplot(x='rating', data=df)\n",
    "plt.title('Reviews Distribution per Rating')"
   ]
  }
 ],
 "metadata": {
  "colab": {
   "name": "Step1_Extraction_Concatenation.ipynb",
   "provenance": []
  },
  "kernelspec": {
   "display_name": "Python 3 (ipykernel)",
   "language": "python",
   "name": "python3"
  },
  "language_info": {
   "codemirror_mode": {
    "name": "ipython",
    "version": 3
   },
   "file_extension": ".py",
   "mimetype": "text/x-python",
   "name": "python",
   "nbconvert_exporter": "python",
   "pygments_lexer": "ipython3",
   "version": "3.9.7"
  }
 },
 "nbformat": 4,
 "nbformat_minor": 1
}
