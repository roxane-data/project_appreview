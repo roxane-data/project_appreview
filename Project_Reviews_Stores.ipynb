{
 "cells": [
  {
   "cell_type": "markdown",
   "id": "afe57770",
   "metadata": {},
   "source": [
    "Installation of pip install google-play-scraper to scrap app reviews"
   ]
  },
  {
   "cell_type": "code",
   "execution_count": 1,
   "id": "1a0780dd",
   "metadata": {},
   "outputs": [],
   "source": [
    "# Import relevant libraries and packages\n",
    "from google_play_scraper import app\n",
    "import pandas as pd\n",
    "import numpy as np"
   ]
  },
  {
   "cell_type": "markdown",
   "id": "d32381f9",
   "metadata": {},
   "source": [
    "### Too Good To Go"
   ]
  },
  {
   "cell_type": "markdown",
   "id": "09503982",
   "metadata": {},
   "source": [
    "Retrieving data from the 2 main stores : Google Play + Apple Sotre in 2 steps:\n",
    "1. Google Play\n",
    "2. Apple Store\n",
    "\n",
    "Then storing of the reviews of each platform into 1 csv doc."
   ]
  },
  {
   "cell_type": "markdown",
   "id": "2a517338",
   "metadata": {},
   "source": [
    "#### 1. Google Play"
   ]
  },
  {
   "cell_type": "markdown",
   "id": "8a69ecc8",
   "metadata": {},
   "source": [
    "google app id => \"com.app.tgtg\""
   ]
  },
  {
   "cell_type": "code",
   "execution_count": 3,
   "id": "3b796016",
   "metadata": {},
   "outputs": [],
   "source": [
    "# Retrieve app reviews from google play \n",
    "from google_play_scraper import Sort, reviews_all\n",
    "\n",
    "reviews = reviews_all(\n",
    "    'com.app.tgtg',\n",
    "    sleep_milliseconds=0, # defaults to 0\n",
    "    lang='en', # defaults to 'en'\n",
    "    country='uk', # 'uk'\n",
    "    sort=Sort.NEWEST, # since default is to Sort.MOST_RELEVANT\n",
    ")"
   ]
  },
  {
   "cell_type": "code",
   "execution_count": 4,
   "id": "889e5282",
   "metadata": {},
   "outputs": [
    {
     "data": {
      "text/html": [
       "<div>\n",
       "<style scoped>\n",
       "    .dataframe tbody tr th:only-of-type {\n",
       "        vertical-align: middle;\n",
       "    }\n",
       "\n",
       "    .dataframe tbody tr th {\n",
       "        vertical-align: top;\n",
       "    }\n",
       "\n",
       "    .dataframe thead th {\n",
       "        text-align: right;\n",
       "    }\n",
       "</style>\n",
       "<table border=\"1\" class=\"dataframe\">\n",
       "  <thead>\n",
       "    <tr style=\"text-align: right;\">\n",
       "      <th></th>\n",
       "      <th>reviewId</th>\n",
       "      <th>userName</th>\n",
       "      <th>userImage</th>\n",
       "      <th>content</th>\n",
       "      <th>score</th>\n",
       "      <th>thumbsUpCount</th>\n",
       "      <th>reviewCreatedVersion</th>\n",
       "      <th>at</th>\n",
       "      <th>replyContent</th>\n",
       "      <th>repliedAt</th>\n",
       "    </tr>\n",
       "  </thead>\n",
       "  <tbody>\n",
       "    <tr>\n",
       "      <th>0</th>\n",
       "      <td>gp:AOqpTOEuoCBX1MsctzXcR91DaCN4GEnHLMoci_ePahC...</td>\n",
       "      <td>Megan Ellison</td>\n",
       "      <td>https://play-lh.googleusercontent.com/a/AATXAJ...</td>\n",
       "      <td>Great app, easy to use I love it</td>\n",
       "      <td>5</td>\n",
       "      <td>0</td>\n",
       "      <td>21.10.2</td>\n",
       "      <td>2021-11-19 11:30:20</td>\n",
       "      <td>None</td>\n",
       "      <td>NaT</td>\n",
       "    </tr>\n",
       "    <tr>\n",
       "      <th>1</th>\n",
       "      <td>gp:AOqpTOFAr3Bp7eU7TopVPD9DCc7pYLrT07DeYVv-v_H...</td>\n",
       "      <td>KABIR SHASHI</td>\n",
       "      <td>https://play-lh.googleusercontent.com/a-/AOh14...</td>\n",
       "      <td>Changing my 2 stars review to 5 stars. Didn't ...</td>\n",
       "      <td>5</td>\n",
       "      <td>0</td>\n",
       "      <td>21.11.0</td>\n",
       "      <td>2021-11-19 10:32:32</td>\n",
       "      <td>Hey Kabir,\\n\\nSorry to hear you did not have a...</td>\n",
       "      <td>2019-08-13 12:02:22</td>\n",
       "    </tr>\n",
       "    <tr>\n",
       "      <th>2</th>\n",
       "      <td>gp:AOqpTOGdGrJi4YCGxteJgtZACIurt9tGdqVwLSrgo1v...</td>\n",
       "      <td>PATRICIA FIORAVANTI GUTIERRI</td>\n",
       "      <td>https://play-lh.googleusercontent.com/a/AATXAJ...</td>\n",
       "      <td>excellent</td>\n",
       "      <td>5</td>\n",
       "      <td>0</td>\n",
       "      <td>21.10.2</td>\n",
       "      <td>2021-11-19 10:17:40</td>\n",
       "      <td>None</td>\n",
       "      <td>NaT</td>\n",
       "    </tr>\n",
       "    <tr>\n",
       "      <th>3</th>\n",
       "      <td>gp:AOqpTOH48m57JGgTbq6Ia2PgUN4HRoADPe18CTqi3l-...</td>\n",
       "      <td>Kelly Shorey</td>\n",
       "      <td>https://play-lh.googleusercontent.com/a/AATXAJ...</td>\n",
       "      <td>really great idea to stop so much food waste.</td>\n",
       "      <td>5</td>\n",
       "      <td>0</td>\n",
       "      <td>21.10.2</td>\n",
       "      <td>2021-11-19 09:29:27</td>\n",
       "      <td>None</td>\n",
       "      <td>NaT</td>\n",
       "    </tr>\n",
       "    <tr>\n",
       "      <th>4</th>\n",
       "      <td>gp:AOqpTOF7tv2tnMiWx7IlMf5SFvlssBCGz8uK-Xm-HqT...</td>\n",
       "      <td>Carla Talula</td>\n",
       "      <td>https://play-lh.googleusercontent.com/a-/AOh14...</td>\n",
       "      <td>great ammount of food, although the ammount do...</td>\n",
       "      <td>5</td>\n",
       "      <td>0</td>\n",
       "      <td>21.10.2</td>\n",
       "      <td>2021-11-19 08:59:00</td>\n",
       "      <td>None</td>\n",
       "      <td>NaT</td>\n",
       "    </tr>\n",
       "  </tbody>\n",
       "</table>\n",
       "</div>"
      ],
      "text/plain": [
       "                                            reviewId  \\\n",
       "0  gp:AOqpTOEuoCBX1MsctzXcR91DaCN4GEnHLMoci_ePahC...   \n",
       "1  gp:AOqpTOFAr3Bp7eU7TopVPD9DCc7pYLrT07DeYVv-v_H...   \n",
       "2  gp:AOqpTOGdGrJi4YCGxteJgtZACIurt9tGdqVwLSrgo1v...   \n",
       "3  gp:AOqpTOH48m57JGgTbq6Ia2PgUN4HRoADPe18CTqi3l-...   \n",
       "4  gp:AOqpTOF7tv2tnMiWx7IlMf5SFvlssBCGz8uK-Xm-HqT...   \n",
       "\n",
       "                       userName  \\\n",
       "0                 Megan Ellison   \n",
       "1                  KABIR SHASHI   \n",
       "2  PATRICIA FIORAVANTI GUTIERRI   \n",
       "3                  Kelly Shorey   \n",
       "4                  Carla Talula   \n",
       "\n",
       "                                           userImage  \\\n",
       "0  https://play-lh.googleusercontent.com/a/AATXAJ...   \n",
       "1  https://play-lh.googleusercontent.com/a-/AOh14...   \n",
       "2  https://play-lh.googleusercontent.com/a/AATXAJ...   \n",
       "3  https://play-lh.googleusercontent.com/a/AATXAJ...   \n",
       "4  https://play-lh.googleusercontent.com/a-/AOh14...   \n",
       "\n",
       "                                             content  score  thumbsUpCount  \\\n",
       "0                   Great app, easy to use I love it      5              0   \n",
       "1  Changing my 2 stars review to 5 stars. Didn't ...      5              0   \n",
       "2                                          excellent      5              0   \n",
       "3      really great idea to stop so much food waste.      5              0   \n",
       "4  great ammount of food, although the ammount do...      5              0   \n",
       "\n",
       "  reviewCreatedVersion                  at  \\\n",
       "0              21.10.2 2021-11-19 11:30:20   \n",
       "1              21.11.0 2021-11-19 10:32:32   \n",
       "2              21.10.2 2021-11-19 10:17:40   \n",
       "3              21.10.2 2021-11-19 09:29:27   \n",
       "4              21.10.2 2021-11-19 08:59:00   \n",
       "\n",
       "                                        replyContent           repliedAt  \n",
       "0                                               None                 NaT  \n",
       "1  Hey Kabir,\\n\\nSorry to hear you did not have a... 2019-08-13 12:02:22  \n",
       "2                                               None                 NaT  \n",
       "3                                               None                 NaT  \n",
       "4                                               None                 NaT  "
      ]
     },
     "execution_count": 4,
     "metadata": {},
     "output_type": "execute_result"
    }
   ],
   "source": [
    "# Convert reviews in pandas dataframe\n",
    "df = pd.DataFrame(np.array(reviews),columns=['review'])\n",
    "df = df.join(pd.DataFrame(df.pop('review').tolist()))\n",
    "df.head()"
   ]
  },
  {
   "cell_type": "code",
   "execution_count": 6,
   "id": "d089c27b",
   "metadata": {},
   "outputs": [
    {
     "data": {
      "text/plain": [
       "(12338, 10)"
      ]
     },
     "execution_count": 6,
     "metadata": {},
     "output_type": "execute_result"
    }
   ],
   "source": [
    "df.shape"
   ]
  },
  {
   "cell_type": "code",
   "execution_count": 8,
   "id": "07cca8e8",
   "metadata": {},
   "outputs": [
    {
     "data": {
      "text/plain": [
       "reviewId                    0\n",
       "userName                    0\n",
       "userImage                   0\n",
       "content                     0\n",
       "score                       0\n",
       "thumbsUpCount               0\n",
       "reviewCreatedVersion      539\n",
       "at                          0\n",
       "replyContent            12211\n",
       "repliedAt               12211\n",
       "dtype: int64"
      ]
     },
     "execution_count": 8,
     "metadata": {},
     "output_type": "execute_result"
    }
   ],
   "source": [
    "df.isna().sum()"
   ]
  },
  {
   "cell_type": "code",
   "execution_count": 9,
   "id": "8c163c22",
   "metadata": {},
   "outputs": [
    {
     "data": {
      "text/plain": [
       "0"
      ]
     },
     "execution_count": 9,
     "metadata": {},
     "output_type": "execute_result"
    }
   ],
   "source": [
    "df.duplicated().sum()"
   ]
  },
  {
   "cell_type": "code",
   "execution_count": 15,
   "id": "dd3ade1f",
   "metadata": {},
   "outputs": [],
   "source": [
    "# Saving the file created\n",
    "df.to_csv('GooglePlayReview_TooGoodToGo.csv')"
   ]
  },
  {
   "cell_type": "markdown",
   "id": "84215f43",
   "metadata": {},
   "source": [
    "#### 2. Apple Store"
   ]
  },
  {
   "cell_type": "markdown",
   "id": "eace32be",
   "metadata": {},
   "source": [
    "apple store app id => too-good-to-go-end-food-waste"
   ]
  },
  {
   "cell_type": "code",
   "execution_count": 26,
   "id": "9a3b51a6",
   "metadata": {},
   "outputs": [
    {
     "name": "stderr",
     "output_type": "stream",
     "text": [
      "2021-11-19 12:20:42,057 [INFO] Base - Searching for app id\n"
     ]
    },
    {
     "ename": "AttributeError",
     "evalue": "'NoneType' object has no attribute 'group'",
     "output_type": "error",
     "traceback": [
      "\u001b[0;31m---------------------------------------------------------------------------\u001b[0m",
      "\u001b[0;31mAttributeError\u001b[0m                            Traceback (most recent call last)",
      "\u001b[0;32m/tmp/ipykernel_3363/1645362645.py\u001b[0m in \u001b[0;36m<module>\u001b[0;34m\u001b[0m\n\u001b[1;32m      2\u001b[0m \u001b[0;32mimport\u001b[0m \u001b[0mjson\u001b[0m\u001b[0;34m\u001b[0m\u001b[0;34m\u001b[0m\u001b[0m\n\u001b[1;32m      3\u001b[0m \u001b[0;34m\u001b[0m\u001b[0m\n\u001b[0;32m----> 4\u001b[0;31m \u001b[0mtoogood\u001b[0m \u001b[0;34m=\u001b[0m \u001b[0mAppStore\u001b[0m\u001b[0;34m(\u001b[0m\u001b[0mcountry\u001b[0m\u001b[0;34m=\u001b[0m\u001b[0;34m\"us\"\u001b[0m\u001b[0;34m,\u001b[0m \u001b[0mapp_name\u001b[0m\u001b[0;34m=\u001b[0m\u001b[0;34m\"tiktok\"\u001b[0m\u001b[0;34m)\u001b[0m\u001b[0;34m\u001b[0m\u001b[0;34m\u001b[0m\u001b[0m\n\u001b[0m\u001b[1;32m      5\u001b[0m \u001b[0mtoogood\u001b[0m\u001b[0;34m.\u001b[0m\u001b[0mreview\u001b[0m\u001b[0;34m(\u001b[0m\u001b[0mhow_many\u001b[0m\u001b[0;34m=\u001b[0m\u001b[0;36m12338\u001b[0m\u001b[0;34m)\u001b[0m\u001b[0;34m\u001b[0m\u001b[0;34m\u001b[0m\u001b[0m\n",
      "\u001b[0;32m~/.pyenv/versions/3.9.7/envs/artefact/lib/python3.9/site-packages/app_store_scraper/app_store.py\u001b[0m in \u001b[0;36m__init__\u001b[0;34m(self, country, app_name, app_id, log_format, log_level, log_interval)\u001b[0m\n\u001b[1;32m     21\u001b[0m         \u001b[0mlog_interval\u001b[0m\u001b[0;34m=\u001b[0m\u001b[0;36m5\u001b[0m\u001b[0;34m,\u001b[0m\u001b[0;34m\u001b[0m\u001b[0;34m\u001b[0m\u001b[0m\n\u001b[1;32m     22\u001b[0m     ):\n\u001b[0;32m---> 23\u001b[0;31m         super().__init__(\n\u001b[0m\u001b[1;32m     24\u001b[0m             \u001b[0mcountry\u001b[0m\u001b[0;34m=\u001b[0m\u001b[0mcountry\u001b[0m\u001b[0;34m,\u001b[0m\u001b[0;34m\u001b[0m\u001b[0;34m\u001b[0m\u001b[0m\n\u001b[1;32m     25\u001b[0m             \u001b[0mapp_name\u001b[0m\u001b[0;34m=\u001b[0m\u001b[0mapp_name\u001b[0m\u001b[0;34m,\u001b[0m\u001b[0;34m\u001b[0m\u001b[0;34m\u001b[0m\u001b[0m\n",
      "\u001b[0;32m~/.pyenv/versions/3.9.7/envs/artefact/lib/python3.9/site-packages/app_store_scraper/base.py\u001b[0m in \u001b[0;36m__init__\u001b[0;34m(self, country, app_name, app_id, log_format, log_level, log_interval)\u001b[0m\n\u001b[1;32m     45\u001b[0m         \u001b[0;32mif\u001b[0m \u001b[0mapp_id\u001b[0m \u001b[0;32mis\u001b[0m \u001b[0;32mNone\u001b[0m\u001b[0;34m:\u001b[0m\u001b[0;34m\u001b[0m\u001b[0;34m\u001b[0m\u001b[0m\n\u001b[1;32m     46\u001b[0m             \u001b[0mlogger\u001b[0m\u001b[0;34m.\u001b[0m\u001b[0minfo\u001b[0m\u001b[0;34m(\u001b[0m\u001b[0;34m\"Searching for app id\"\u001b[0m\u001b[0;34m)\u001b[0m\u001b[0;34m\u001b[0m\u001b[0;34m\u001b[0m\u001b[0m\n\u001b[0;32m---> 47\u001b[0;31m             \u001b[0mapp_id\u001b[0m \u001b[0;34m=\u001b[0m \u001b[0mself\u001b[0m\u001b[0;34m.\u001b[0m\u001b[0msearch_id\u001b[0m\u001b[0;34m(\u001b[0m\u001b[0;34m)\u001b[0m\u001b[0;34m\u001b[0m\u001b[0;34m\u001b[0m\u001b[0m\n\u001b[0m\u001b[1;32m     48\u001b[0m         \u001b[0mself\u001b[0m\u001b[0;34m.\u001b[0m\u001b[0mapp_id\u001b[0m \u001b[0;34m=\u001b[0m \u001b[0mint\u001b[0m\u001b[0;34m(\u001b[0m\u001b[0mapp_id\u001b[0m\u001b[0;34m)\u001b[0m\u001b[0;34m\u001b[0m\u001b[0;34m\u001b[0m\u001b[0m\n\u001b[1;32m     49\u001b[0m \u001b[0;34m\u001b[0m\u001b[0m\n",
      "\u001b[0;32m~/.pyenv/versions/3.9.7/envs/artefact/lib/python3.9/site-packages/app_store_scraper/base.py\u001b[0m in \u001b[0;36msearch_id\u001b[0;34m(self)\u001b[0m\n\u001b[1;32m    173\u001b[0m         \u001b[0mself\u001b[0m\u001b[0;34m.\u001b[0m\u001b[0m_get\u001b[0m\u001b[0;34m(\u001b[0m\u001b[0msearch_url\u001b[0m\u001b[0;34m,\u001b[0m \u001b[0mparams\u001b[0m\u001b[0;34m=\u001b[0m\u001b[0;34m{\u001b[0m\u001b[0;34m\"q\"\u001b[0m\u001b[0;34m:\u001b[0m \u001b[0;34mf\"app store {self.app_name}\"\u001b[0m\u001b[0;34m}\u001b[0m\u001b[0;34m)\u001b[0m\u001b[0;34m\u001b[0m\u001b[0;34m\u001b[0m\u001b[0m\n\u001b[1;32m    174\u001b[0m         \u001b[0mpattern\u001b[0m \u001b[0;34m=\u001b[0m \u001b[0;34mfr\"{self._base_landing_url}/[a-z]{{2}}/.+?/id([0-9]+)\"\u001b[0m\u001b[0;34m\u001b[0m\u001b[0;34m\u001b[0m\u001b[0m\n\u001b[0;32m--> 175\u001b[0;31m         \u001b[0mapp_id\u001b[0m \u001b[0;34m=\u001b[0m \u001b[0mre\u001b[0m\u001b[0;34m.\u001b[0m\u001b[0msearch\u001b[0m\u001b[0;34m(\u001b[0m\u001b[0mpattern\u001b[0m\u001b[0;34m,\u001b[0m \u001b[0mself\u001b[0m\u001b[0;34m.\u001b[0m\u001b[0m_response\u001b[0m\u001b[0;34m.\u001b[0m\u001b[0mtext\u001b[0m\u001b[0;34m)\u001b[0m\u001b[0;34m.\u001b[0m\u001b[0mgroup\u001b[0m\u001b[0;34m(\u001b[0m\u001b[0;36m1\u001b[0m\u001b[0;34m)\u001b[0m\u001b[0;34m\u001b[0m\u001b[0;34m\u001b[0m\u001b[0m\n\u001b[0m\u001b[1;32m    176\u001b[0m         \u001b[0;32mreturn\u001b[0m \u001b[0mapp_id\u001b[0m\u001b[0;34m\u001b[0m\u001b[0;34m\u001b[0m\u001b[0m\n\u001b[1;32m    177\u001b[0m \u001b[0;34m\u001b[0m\u001b[0m\n",
      "\u001b[0;31mAttributeError\u001b[0m: 'NoneType' object has no attribute 'group'"
     ]
    }
   ],
   "source": [
    "from app_store_scraper import AppStore\n",
    "import json\n",
    "\n",
    "toogood = AppStore(country=\"us\", app_name=\"tiktok\")\n",
    "toogood.review(how_many=12338)"
   ]
  },
  {
   "cell_type": "code",
   "execution_count": null,
   "id": "458c6c81",
   "metadata": {},
   "outputs": [],
   "source": [
    "# Converting format (JSON to Pandas Dataframe)\n",
    "apple = pd.DataFrame(np.array(toogood.reviews),columns=['review'])\n",
    "apple_tgtg_df = apple.join(pd.DataFrame(apple_tgtg_df.pop('review').tolist()))\n",
    "apple_tgtg_df.head()"
   ]
  },
  {
   "cell_type": "code",
   "execution_count": 24,
   "id": "211d40b5",
   "metadata": {},
   "outputs": [
    {
     "ename": "AttributeError",
     "evalue": "type object 'AppStore' has no attribute 'review__init__'",
     "output_type": "error",
     "traceback": [
      "\u001b[0;31m---------------------------------------------------------------------------\u001b[0m",
      "\u001b[0;31mAttributeError\u001b[0m                            Traceback (most recent call last)",
      "\u001b[0;32m/tmp/ipykernel_3363/3666836503.py\u001b[0m in \u001b[0;36m<module>\u001b[0;34m\u001b[0m\n\u001b[0;32m----> 1\u001b[0;31m \u001b[0mAppStore\u001b[0m\u001b[0;34m.\u001b[0m\u001b[0mreview__init__\u001b[0m\u001b[0;34m(\u001b[0m\u001b[0;34m)\u001b[0m\u001b[0;34m\u001b[0m\u001b[0;34m\u001b[0m\u001b[0m\n\u001b[0m",
      "\u001b[0;31mAttributeError\u001b[0m: type object 'AppStore' has no attribute 'review__init__'"
     ]
    }
   ],
   "source": [
    "AppStore.review__init__()"
   ]
  },
  {
   "cell_type": "code",
   "execution_count": null,
   "id": "e5492a34",
   "metadata": {},
   "outputs": [],
   "source": []
  },
  {
   "cell_type": "code",
   "execution_count": null,
   "id": "42cb5b98",
   "metadata": {},
   "outputs": [],
   "source": []
  },
  {
   "cell_type": "markdown",
   "id": "b872ecdf",
   "metadata": {},
   "source": [
    "### CityMapper"
   ]
  },
  {
   "cell_type": "markdown",
   "id": "904dd925",
   "metadata": {},
   "source": [
    "#### 1. Google Play"
   ]
  },
  {
   "cell_type": "markdown",
   "id": "b545918a",
   "metadata": {},
   "source": [
    "google app id => id=com.citymapper.app.release"
   ]
  },
  {
   "cell_type": "code",
   "execution_count": 7,
   "id": "32acb729",
   "metadata": {},
   "outputs": [],
   "source": [
    "# Retrieve app reviews from google play \n",
    "cm_reviews = reviews_all(\n",
    "    'com.citymapper.app.release',\n",
    "    sleep_milliseconds=0, # defaults to 0\n",
    "    lang='en', # defaults to 'en'\n",
    "    country='uk', # 'uk'\n",
    "    sort=Sort.NEWEST, # since default is to Sort.MOST_RELEVANT\n",
    ")"
   ]
  },
  {
   "cell_type": "code",
   "execution_count": 10,
   "id": "3ac7d1c1",
   "metadata": {},
   "outputs": [
    {
     "data": {
      "text/html": [
       "<div>\n",
       "<style scoped>\n",
       "    .dataframe tbody tr th:only-of-type {\n",
       "        vertical-align: middle;\n",
       "    }\n",
       "\n",
       "    .dataframe tbody tr th {\n",
       "        vertical-align: top;\n",
       "    }\n",
       "\n",
       "    .dataframe thead th {\n",
       "        text-align: right;\n",
       "    }\n",
       "</style>\n",
       "<table border=\"1\" class=\"dataframe\">\n",
       "  <thead>\n",
       "    <tr style=\"text-align: right;\">\n",
       "      <th></th>\n",
       "      <th>reviewId</th>\n",
       "      <th>userName</th>\n",
       "      <th>userImage</th>\n",
       "      <th>content</th>\n",
       "      <th>score</th>\n",
       "      <th>thumbsUpCount</th>\n",
       "      <th>reviewCreatedVersion</th>\n",
       "      <th>at</th>\n",
       "      <th>replyContent</th>\n",
       "      <th>repliedAt</th>\n",
       "    </tr>\n",
       "  </thead>\n",
       "  <tbody>\n",
       "    <tr>\n",
       "      <th>0</th>\n",
       "      <td>gp:AOqpTOEWVBaBK9qUszKXSdvMBJWy4kd-EaH7XOAlYLW...</td>\n",
       "      <td>Ajay Iyer</td>\n",
       "      <td>https://play-lh.googleusercontent.com/a-/AOh14...</td>\n",
       "      <td>Lifeline for anyone new to London!</td>\n",
       "      <td>5</td>\n",
       "      <td>0</td>\n",
       "      <td>10.46</td>\n",
       "      <td>2021-11-18 17:26:16</td>\n",
       "      <td>None</td>\n",
       "      <td>NaT</td>\n",
       "    </tr>\n",
       "    <tr>\n",
       "      <th>1</th>\n",
       "      <td>gp:AOqpTOHRYncHs6fEyd3t1DyAKY0FWt5_K-ngVY8HxQp...</td>\n",
       "      <td>Rahat B</td>\n",
       "      <td>https://play-lh.googleusercontent.com/a-/AOh14...</td>\n",
       "      <td>great help in journey.. All in one :-)</td>\n",
       "      <td>5</td>\n",
       "      <td>0</td>\n",
       "      <td>10.46</td>\n",
       "      <td>2021-11-18 16:49:48</td>\n",
       "      <td>None</td>\n",
       "      <td>NaT</td>\n",
       "    </tr>\n",
       "    <tr>\n",
       "      <th>2</th>\n",
       "      <td>gp:AOqpTOHGPxNyp6W0m_LiAlHXAgIKPZ36L0FAByZzdY6...</td>\n",
       "      <td>Connor Archer</td>\n",
       "      <td>https://play-lh.googleusercontent.com/a-/AOh14...</td>\n",
       "      <td>just a northerner tryna navigate through Londo...</td>\n",
       "      <td>3</td>\n",
       "      <td>0</td>\n",
       "      <td>10.46</td>\n",
       "      <td>2021-11-18 14:50:30</td>\n",
       "      <td>None</td>\n",
       "      <td>NaT</td>\n",
       "    </tr>\n",
       "    <tr>\n",
       "      <th>3</th>\n",
       "      <td>gp:AOqpTOFRNCw5TM03hTdk_AtcLlFzJoIVOZwRMntWbIs...</td>\n",
       "      <td>Noah Ocine</td>\n",
       "      <td>https://play-lh.googleusercontent.com/a-/AOh14...</td>\n",
       "      <td>good</td>\n",
       "      <td>5</td>\n",
       "      <td>0</td>\n",
       "      <td>10.45.1</td>\n",
       "      <td>2021-11-18 14:08:46</td>\n",
       "      <td>None</td>\n",
       "      <td>NaT</td>\n",
       "    </tr>\n",
       "    <tr>\n",
       "      <th>4</th>\n",
       "      <td>gp:AOqpTOHc9jG8sOQE9U22YZ5S6HB7BI9CrGmmv5DjKtK...</td>\n",
       "      <td>Martin Goldman</td>\n",
       "      <td>https://play-lh.googleusercontent.com/a-/AOh14...</td>\n",
       "      <td>helpful</td>\n",
       "      <td>5</td>\n",
       "      <td>0</td>\n",
       "      <td>10.45.1</td>\n",
       "      <td>2021-11-18 12:48:55</td>\n",
       "      <td>None</td>\n",
       "      <td>NaT</td>\n",
       "    </tr>\n",
       "  </tbody>\n",
       "</table>\n",
       "</div>"
      ],
      "text/plain": [
       "                                            reviewId        userName  \\\n",
       "0  gp:AOqpTOEWVBaBK9qUszKXSdvMBJWy4kd-EaH7XOAlYLW...       Ajay Iyer   \n",
       "1  gp:AOqpTOHRYncHs6fEyd3t1DyAKY0FWt5_K-ngVY8HxQp...         Rahat B   \n",
       "2  gp:AOqpTOHGPxNyp6W0m_LiAlHXAgIKPZ36L0FAByZzdY6...   Connor Archer   \n",
       "3  gp:AOqpTOFRNCw5TM03hTdk_AtcLlFzJoIVOZwRMntWbIs...      Noah Ocine   \n",
       "4  gp:AOqpTOHc9jG8sOQE9U22YZ5S6HB7BI9CrGmmv5DjKtK...  Martin Goldman   \n",
       "\n",
       "                                           userImage  \\\n",
       "0  https://play-lh.googleusercontent.com/a-/AOh14...   \n",
       "1  https://play-lh.googleusercontent.com/a-/AOh14...   \n",
       "2  https://play-lh.googleusercontent.com/a-/AOh14...   \n",
       "3  https://play-lh.googleusercontent.com/a-/AOh14...   \n",
       "4  https://play-lh.googleusercontent.com/a-/AOh14...   \n",
       "\n",
       "                                             content  score  thumbsUpCount  \\\n",
       "0                 Lifeline for anyone new to London!      5              0   \n",
       "1             great help in journey.. All in one :-)      5              0   \n",
       "2  just a northerner tryna navigate through Londo...      3              0   \n",
       "3                                               good      5              0   \n",
       "4                                            helpful      5              0   \n",
       "\n",
       "  reviewCreatedVersion                  at replyContent repliedAt  \n",
       "0                10.46 2021-11-18 17:26:16         None       NaT  \n",
       "1                10.46 2021-11-18 16:49:48         None       NaT  \n",
       "2                10.46 2021-11-18 14:50:30         None       NaT  \n",
       "3              10.45.1 2021-11-18 14:08:46         None       NaT  \n",
       "4              10.45.1 2021-11-18 12:48:55         None       NaT  "
      ]
     },
     "execution_count": 10,
     "metadata": {},
     "output_type": "execute_result"
    }
   ],
   "source": [
    "# Convert reviews in pandas dataframe\n",
    "cm_df = pd.DataFrame(np.array(cm_reviews),columns=['review'])\n",
    "cm_df = cm_df.join(pd.DataFrame(cm_df.pop('review').tolist()))\n",
    "cm_df.head()"
   ]
  },
  {
   "cell_type": "code",
   "execution_count": 11,
   "id": "522a719d",
   "metadata": {},
   "outputs": [
    {
     "data": {
      "text/plain": [
       "(16239, 10)"
      ]
     },
     "execution_count": 11,
     "metadata": {},
     "output_type": "execute_result"
    }
   ],
   "source": [
    "cm_df.shape"
   ]
  },
  {
   "cell_type": "code",
   "execution_count": 12,
   "id": "4e3f5015",
   "metadata": {},
   "outputs": [
    {
     "data": {
      "text/plain": [
       "reviewId                    0\n",
       "userName                    0\n",
       "userImage                   0\n",
       "content                    35\n",
       "score                       0\n",
       "thumbsUpCount               0\n",
       "reviewCreatedVersion     1321\n",
       "at                          0\n",
       "replyContent            15340\n",
       "repliedAt               15340\n",
       "dtype: int64"
      ]
     },
     "execution_count": 12,
     "metadata": {},
     "output_type": "execute_result"
    }
   ],
   "source": [
    "cm_df.isna().sum()"
   ]
  },
  {
   "cell_type": "code",
   "execution_count": 13,
   "id": "767adb74",
   "metadata": {},
   "outputs": [
    {
     "data": {
      "text/plain": [
       "0"
      ]
     },
     "execution_count": 13,
     "metadata": {},
     "output_type": "execute_result"
    }
   ],
   "source": [
    "cm_df.duplicated().sum()"
   ]
  },
  {
   "cell_type": "code",
   "execution_count": 16,
   "id": "8763f833",
   "metadata": {},
   "outputs": [],
   "source": [
    "# Saving the file created\n",
    "cm_df.to_csv('GooglePlayReview_CityMapper.csv')"
   ]
  },
  {
   "cell_type": "code",
   "execution_count": null,
   "id": "413d961d",
   "metadata": {},
   "outputs": [],
   "source": []
  }
 ],
 "metadata": {
  "kernelspec": {
   "display_name": "Python 3 (ipykernel)",
   "language": "python",
   "name": "python3"
  },
  "language_info": {
   "codemirror_mode": {
    "name": "ipython",
    "version": 3
   },
   "file_extension": ".py",
   "mimetype": "text/x-python",
   "name": "python",
   "nbconvert_exporter": "python",
   "pygments_lexer": "ipython3",
   "version": "3.9.7"
  }
 },
 "nbformat": 4,
 "nbformat_minor": 5
}
