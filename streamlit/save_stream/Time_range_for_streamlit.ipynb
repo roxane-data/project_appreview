{
 "cells": [
  {
   "cell_type": "code",
   "execution_count": 4,
   "id": "2fe5f2ec-546a-4a9e-bc12-0da6e98c48ad",
   "metadata": {},
   "outputs": [],
   "source": [
    "import datetime\n",
    "import pandas as pd"
   ]
  },
  {
   "cell_type": "code",
   "execution_count": 5,
   "id": "3b7ba975",
   "metadata": {},
   "outputs": [
    {
     "data": {
      "text/plain": [
       "datetime.date(2021, 12, 20)"
      ]
     },
     "execution_count": 5,
     "metadata": {},
     "output_type": "execute_result"
    }
   ],
   "source": [
    "datetime.date.today()"
   ]
  },
  {
   "cell_type": "code",
   "execution_count": 6,
   "id": "5d9b362e",
   "metadata": {},
   "outputs": [
    {
     "data": {
      "text/plain": [
       "Timestamp('2021-09-20 00:00:00')"
      ]
     },
     "execution_count": 6,
     "metadata": {},
     "output_type": "execute_result"
    }
   ],
   "source": [
    "datetime.date.today() - pd.DateOffset(months=3)"
   ]
  },
  {
   "cell_type": "code",
   "execution_count": 10,
   "id": "39388973-841e-483e-81db-c59659f3022d",
   "metadata": {},
   "outputs": [
    {
     "name": "stdin",
     "output_type": "stream",
     "text": [
      "Enter how many months you want to look back:  6\n"
     ]
    }
   ],
   "source": [
    "desired_time_range = input(\"Enter how many months you want to look back: \")"
   ]
  },
  {
   "cell_type": "code",
   "execution_count": 11,
   "id": "426bbebb-faf5-4cfc-b3c5-d3c98105a548",
   "metadata": {},
   "outputs": [
    {
     "name": "stdout",
     "output_type": "stream",
     "text": [
      "6\n"
     ]
    }
   ],
   "source": [
    "desired_time_range = int(desired_time_range)\n",
    "print(desired_time_range)"
   ]
  },
  {
   "cell_type": "code",
   "execution_count": 12,
   "id": "99d74f99",
   "metadata": {},
   "outputs": [
    {
     "data": {
      "text/plain": [
       "int"
      ]
     },
     "execution_count": 12,
     "metadata": {},
     "output_type": "execute_result"
    }
   ],
   "source": [
    "type(desired_time_range)"
   ]
  },
  {
   "cell_type": "markdown",
   "id": "07301cde",
   "metadata": {},
   "source": [
    "need to proceed in 3 steps:\n",
    "\n",
    "    ask for the desired time range : last 3 or last 6 or last 12 months\n",
    "    apply a function to calculate desired time range\n",
    "    filter dataframe accordingly to show the specific results on dataviz page (with a simple mask) => df[df['date']>(datetime.date.today()- pd.DateOffset(months=3))]"
   ]
  },
  {
   "cell_type": "code",
   "execution_count": 13,
   "id": "7611fee4",
   "metadata": {},
   "outputs": [],
   "source": [
    "def filter_timerange(int):\n",
    "    period = datetime.date.today()-pd.DateOffset(months=int)\n",
    "    new_df= df[df['date']>period]\n",
    "    return new_df"
   ]
  },
  {
   "cell_type": "code",
   "execution_count": null,
   "id": "5384aa0a",
   "metadata": {},
   "outputs": [],
   "source": [
    "filtered_df = filter_timerange(6)\n",
    "filtered_df.shape"
   ]
  },
  {
   "cell_type": "code",
   "execution_count": null,
   "id": "701ebefe-aa53-4d20-a2a8-5d9f63fa8364",
   "metadata": {},
   "outputs": [],
   "source": [
    "#periods = df['date'].drop_duplicates()\n",
    "#period_choice = st.sidebar.selectbox('Select time range: ', periods)"
   ]
  },
  {
   "cell_type": "code",
   "execution_count": null,
   "id": "d1fddf1d",
   "metadata": {},
   "outputs": [],
   "source": [
    "filtered_df.head()"
   ]
  },
  {
   "cell_type": "code",
   "execution_count": null,
   "id": "47a563a5",
   "metadata": {},
   "outputs": [],
   "source": [
    "filtered_df.info()"
   ]
  }
 ],
 "metadata": {
  "kernelspec": {
   "display_name": "Python 3 (ipykernel)",
   "language": "python",
   "name": "python3"
  },
  "language_info": {
   "codemirror_mode": {
    "name": "ipython",
    "version": 3
   },
   "file_extension": ".py",
   "mimetype": "text/x-python",
   "name": "python",
   "nbconvert_exporter": "python",
   "pygments_lexer": "ipython3",
   "version": "3.9.7"
  }
 },
 "nbformat": 4,
 "nbformat_minor": 5
}
