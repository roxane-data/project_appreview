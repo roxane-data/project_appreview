{
 "cells": [
  {
   "cell_type": "code",
   "execution_count": null,
   "id": "3b7ba975",
   "metadata": {},
   "outputs": [],
   "source": [
    "datetime.date.today()"
   ]
  },
  {
   "cell_type": "code",
   "execution_count": null,
   "id": "5d9b362e",
   "metadata": {},
   "outputs": [],
   "source": [
    "datetime.date.today() - pd.DateOffset(months=3)"
   ]
  },
  {
   "cell_type": "code",
   "execution_count": null,
   "id": "839d0e59",
   "metadata": {},
   "outputs": [],
   "source": [
    "desired_time_range = input(\"Enter how many months you want to look back: \")\n",
    "desired_time_range = int(desired_time_range)\n",
    "print(desired_time_range)"
   ]
  },
  {
   "cell_type": "code",
   "execution_count": null,
   "id": "99d74f99",
   "metadata": {},
   "outputs": [],
   "source": [
    "type(desired_time_range)"
   ]
  },
  {
   "cell_type": "markdown",
   "id": "07301cde",
   "metadata": {},
   "source": [
    "need to proceed in 3 steps:\n",
    "\n",
    "    ask for the desired time range : last 3 or last 6 or last 12 months\n",
    "    apply a function to calculate desired time range\n",
    "    filter dataframe accordingly to show the specific results on dataviz page (with a simple mask) => df[df['date']>(datetime.date.today()- pd.DateOffset(months=3))]"
   ]
  },
  {
   "cell_type": "code",
   "execution_count": null,
   "id": "7611fee4",
   "metadata": {},
   "outputs": [],
   "source": [
    "def filter_timerange(int):\n",
    "    period = datetime.date.today()-pd.DateOffset(months=int)\n",
    "    new_df= df[df['date']>period]\n",
    "    return new_df"
   ]
  },
  {
   "cell_type": "code",
   "execution_count": null,
   "id": "5384aa0a",
   "metadata": {},
   "outputs": [],
   "source": [
    "filtered_df = filter_timerange(6)\n",
    "filtered_df.shape"
   ]
  },
  {
   "cell_type": "code",
   "execution_count": null,
   "id": "d1fddf1d",
   "metadata": {},
   "outputs": [],
   "source": [
    "filtered_df.head()"
   ]
  },
  {
   "cell_type": "code",
   "execution_count": null,
   "id": "47a563a5",
   "metadata": {},
   "outputs": [],
   "source": [
    "filtered_df.info()"
   ]
  }
 ],
 "metadata": {
  "kernelspec": {
   "display_name": "Python 3 (ipykernel)",
   "language": "python",
   "name": "python3"
  },
  "language_info": {
   "codemirror_mode": {
    "name": "ipython",
    "version": 3
   },
   "file_extension": ".py",
   "mimetype": "text/x-python",
   "name": "python",
   "nbconvert_exporter": "python",
   "pygments_lexer": "ipython3",
   "version": "3.9.7"
  }
 },
 "nbformat": 4,
 "nbformat_minor": 5
}
